{
 "cells": [
  {
   "cell_type": "code",
   "execution_count": 1,
   "metadata": {
    "_cell_guid": "b1076dfc-b9ad-4769-8c92-a6c4dae69d19",
    "_uuid": "8f2839f25d086af736a60e9eeb907d3b93b6e0e5",
    "execution": {
     "iopub.execute_input": "2025-06-25T02:26:23.798524Z",
     "iopub.status.busy": "2025-06-25T02:26:23.798279Z",
     "iopub.status.idle": "2025-06-25T02:26:38.423368Z",
     "shell.execute_reply": "2025-06-25T02:26:38.422562Z",
     "shell.execute_reply.started": "2025-06-25T02:26:23.798501Z"
    },
    "trusted": true
   },
   "outputs": [
    {
     "name": "stdout",
     "output_type": "stream",
     "text": [
      "\u001b[2K     \u001b[90m━━━━━━━━━━━━━━━━━━━━━━━━━━━━━━━━━━━━━━━━\u001b[0m \u001b[32m63.1/63.1 kB\u001b[0m \u001b[31m2.1 MB/s\u001b[0m eta \u001b[36m0:00:00\u001b[0m\n",
      "\u001b[2K   \u001b[90m━━━━━━━━━━━━━━━━━━━━━━━━━━━━━━━━━━━━━━━━\u001b[0m \u001b[32m1.1/1.1 MB\u001b[0m \u001b[31m19.3 MB/s\u001b[0m eta \u001b[36m0:00:00\u001b[0ma \u001b[36m0:00:01\u001b[0m\n",
      "\u001b[2K   \u001b[90m━━━━━━━━━━━━━━━━━━━━━━━━━━━━━━━━━━━━━━━━\u001b[0m \u001b[32m208.0/208.0 kB\u001b[0m \u001b[31m13.8 MB/s\u001b[0m eta \u001b[36m0:00:00\u001b[0m\n",
      "\u001b[2K   \u001b[90m━━━━━━━━━━━━━━━━━━━━━━━━━━━━━━━━━━━━━━━━\u001b[0m \u001b[32m60.8/60.8 kB\u001b[0m \u001b[31m2.4 MB/s\u001b[0m eta \u001b[36m0:00:00\u001b[0m\n",
      "\u001b[2K   \u001b[90m━━━━━━━━━━━━━━━━━━━━━━━━━━━━━━━━━━━━━━━━\u001b[0m \u001b[32m8.9/8.9 MB\u001b[0m \u001b[31m94.3 MB/s\u001b[0m eta \u001b[36m0:00:00\u001b[0m:00:01\u001b[0m00:01\u001b[0m\n",
      "\u001b[?25h\u001b[31mERROR: pip's dependency resolver does not currently take into account all the packages that are installed. This behaviour is the source of the following dependency conflicts.\n",
      "bigframes 1.42.0 requires rich<14,>=12.4.4, but you have rich 14.0.0 which is incompatible.\u001b[0m\u001b[31m\n",
      "\u001b[2K   \u001b[90m━━━━━━━━━━━━━━━━━━━━━━━━━━━━━━━━━━━━━━━━\u001b[0m \u001b[32m727.1/727.1 kB\u001b[0m \u001b[31m10.7 MB/s\u001b[0m eta \u001b[36m0:00:00\u001b[0m \u001b[36m0:00:01\u001b[0m\n",
      "\u001b[2K   \u001b[90m━━━━━━━━━━━━━━━━━━━━━━━━━━━━━━━━━━━━━━━━\u001b[0m \u001b[32m1.1/1.1 MB\u001b[0m \u001b[31m38.0 MB/s\u001b[0m eta \u001b[36m0:00:00\u001b[0m\n",
      "\u001b[2K   \u001b[90m━━━━━━━━━━━━━━━━━━━━━━━━━━━━━━━━━━━━━━━━\u001b[0m \u001b[32m3.5/3.5 MB\u001b[0m \u001b[31m82.9 MB/s\u001b[0m eta \u001b[36m0:00:00\u001b[0m:00:01\u001b[0m\n",
      "\u001b[?25h"
     ]
    }
   ],
   "source": [
    "!pip -q install torch_geometric rectools\n",
    "!pip -q install comet_ml\n",
    "!pip -q install python-dotenv"
   ]
  },
  {
   "cell_type": "code",
   "execution_count": 2,
   "metadata": {
    "execution": {
     "iopub.execute_input": "2025-06-25T02:26:38.425783Z",
     "iopub.status.busy": "2025-06-25T02:26:38.425548Z",
     "iopub.status.idle": "2025-06-25T02:26:44.302927Z",
     "shell.execute_reply": "2025-06-25T02:26:44.302376Z",
     "shell.execute_reply.started": "2025-06-25T02:26:38.425759Z"
    },
    "trusted": true
   },
   "outputs": [],
   "source": [
    "import comet_ml\n",
    "from comet_ml import Experiment\n",
    "from comet_ml.integration.pytorch import log_model\n",
    "\n",
    "from dotenv import load_dotenv\n",
    "import os"
   ]
  },
  {
   "cell_type": "code",
   "execution_count": 4,
   "metadata": {
    "execution": {
     "iopub.execute_input": "2025-06-25T02:26:44.309028Z",
     "iopub.status.busy": "2025-06-25T02:26:44.308796Z",
     "iopub.status.idle": "2025-06-25T02:26:44.327701Z",
     "shell.execute_reply": "2025-06-25T02:26:44.327095Z",
     "shell.execute_reply.started": "2025-06-25T02:26:44.309005Z"
    },
    "trusted": true
   },
   "outputs": [
    {
     "data": {
      "text/plain": [
       "True"
      ]
     },
     "execution_count": 4,
     "metadata": {},
     "output_type": "execute_result"
    }
   ],
   "source": [
    "load_dotenv(\".env\")"
   ]
  },
  {
   "cell_type": "code",
   "execution_count": 5,
   "metadata": {
    "execution": {
     "iopub.execute_input": "2025-06-25T02:26:44.328463Z",
     "iopub.status.busy": "2025-06-25T02:26:44.328267Z",
     "iopub.status.idle": "2025-06-25T02:26:50.730144Z",
     "shell.execute_reply": "2025-06-25T02:26:50.729318Z",
     "shell.execute_reply.started": "2025-06-25T02:26:44.328448Z"
    },
    "trusted": true
   },
   "outputs": [
    {
     "name": "stderr",
     "output_type": "stream",
     "text": [
      "\u001b[1;38;5;214mCOMET WARNING:\u001b[0m As you are running in a Jupyter environment, you will need to call `experiment.end()` when finished to ensure all metrics and code are logged before exiting.\n",
      "\u001b[1;38;5;39mCOMET INFO:\u001b[0m Experiment is live on comet.com https://www.comet.com/annanet/gnn-recommender/0b440d9ff3f546cdb0ecba075d7eb4d7\n",
      "\n",
      "\u001b[1;38;5;39mCOMET INFO:\u001b[0m Couldn't find a Git repository in '/kaggle/working' nor in any parent directory. Set `COMET_GIT_DIRECTORY` if your Git Repository is elsewhere.\n"
     ]
    }
   ],
   "source": [
    "experiment = Experiment(\n",
    "  api_key=os.getenv('API_KEY'),\n",
    "  project_name=\"gnn-recommender\",\n",
    "  workspace=\"annanet\",\n",
    "  log_code=True\n",
    ")\n",
    "\n",
    "experiment.set_name('diffgat-thp-extra-task-beauty')\n",
    "experiment.add_tags(['beauty'])"
   ]
  },
  {
   "cell_type": "markdown",
   "metadata": {},
   "source": [
    "https://www.comet.com/annanet/gnn-recommender/0b440d9ff3f546cdb0ecba075d7eb4d7"
   ]
  },
  {
   "cell_type": "code",
   "execution_count": 6,
   "metadata": {
    "execution": {
     "iopub.execute_input": "2025-06-25T02:26:50.731541Z",
     "iopub.status.busy": "2025-06-25T02:26:50.731000Z",
     "iopub.status.idle": "2025-06-25T02:26:50.736634Z",
     "shell.execute_reply": "2025-06-25T02:26:50.735851Z",
     "shell.execute_reply.started": "2025-06-25T02:26:50.731514Z"
    },
    "trusted": true
   },
   "outputs": [],
   "source": [
    "hyperparameters = {\n",
    "    'seed': 42,\n",
    "    'types_of_feedback': [\"explicit_positive\", \"expliсit_negative\",\n",
    "                          \"implicit_positive\", \"implicit_negative\"],\n",
    "    'max_len_of_thp_history': 100,\n",
    "    'pad_id': 0,         \n",
    "    'cls_id': None,  # filled in at the stage of creating a story for thp\n",
    "    'thp_dmodel': 64,  # размер эмбеддингов\n",
    "    'thp_n_head': 4,  # число attention-голов\n",
    "    'thp_window_size': 101,  # окно THP\n",
    "    'thp_decay': 1.0,  # скорость экспоненциального затухания\n",
    "    'thp_dropout': 0.2,  # dropout\n",
    "    'train_edge_type': [('item','item2explicit_positive','explicit_positive'), \n",
    "                        ('item','item2implicit_positive','implicit_positive')],\n",
    "    'train_num_epochs': 5000,\n",
    "    'train_lr': 1e-3,\n",
    "    'train_batch_size': 4096,\n",
    "    'train_print_every': 20,  # раз в сколько шагов печатаем статистику\n",
    "    'train_test_every': 50,\n",
    "    'test_topk': 10,\n",
    "    'test_batch_size': 8192,\n",
    "    'train_scheduler_step_size': 150,\n",
    "    'train_scheduler_gamma': 0.98,\n",
    "    'train_margin': 1.0,\n",
    "    'train_lambda_margin': 0.1,\n",
    "    'train_lambda_ce': 0.7\n",
    "}"
   ]
  },
  {
   "cell_type": "code",
   "execution_count": 7,
   "metadata": {
    "execution": {
     "iopub.execute_input": "2025-06-25T02:26:50.739093Z",
     "iopub.status.busy": "2025-06-25T02:26:50.738880Z",
     "iopub.status.idle": "2025-06-25T02:26:50.766312Z",
     "shell.execute_reply": "2025-06-25T02:26:50.765645Z",
     "shell.execute_reply.started": "2025-06-25T02:26:50.739078Z"
    },
    "trusted": true
   },
   "outputs": [
    {
     "data": {
      "text/plain": [
       "['train.csv', 'test.csv']"
      ]
     },
     "execution_count": 7,
     "metadata": {},
     "output_type": "execute_result"
    }
   ],
   "source": [
    "os.listdir('/kaggle/input/gnn-dataset/data/leave-n-out/beauty')"
   ]
  },
  {
   "cell_type": "code",
   "execution_count": 8,
   "metadata": {
    "execution": {
     "iopub.execute_input": "2025-06-25T02:26:50.767320Z",
     "iopub.status.busy": "2025-06-25T02:26:50.767065Z",
     "iopub.status.idle": "2025-06-25T02:27:00.759873Z",
     "shell.execute_reply": "2025-06-25T02:27:00.759279Z",
     "shell.execute_reply.started": "2025-06-25T02:26:50.767296Z"
    },
    "trusted": true
   },
   "outputs": [],
   "source": [
    "import pandas as pd\n",
    "import numpy as np\n",
    "\n",
    "import torch\n",
    "import torch.nn as nn\n",
    "import torch.nn.functional as F\n",
    "from torch.optim.lr_scheduler import StepLR\n",
    "from torch_geometric.data import HeteroData\n",
    "from torch_geometric.nn import HeteroConv, GATConv\n",
    "\n",
    "from sklearn.preprocessing import LabelEncoder\n",
    "\n",
    "from rectools import Columns\n",
    "from rectools.metrics import MAP, Precision, Recall, NDCG, calc_metrics\n",
    "\n",
    "import gc\n",
    "\n",
    "from collections import defaultdict\n",
    "import random"
   ]
  },
  {
   "cell_type": "code",
   "execution_count": 9,
   "metadata": {
    "execution": {
     "iopub.execute_input": "2025-06-25T02:27:00.760837Z",
     "iopub.status.busy": "2025-06-25T02:27:00.760523Z",
     "iopub.status.idle": "2025-06-25T02:27:00.770385Z",
     "shell.execute_reply": "2025-06-25T02:27:00.769855Z",
     "shell.execute_reply.started": "2025-06-25T02:27:00.760821Z"
    },
    "trusted": true
   },
   "outputs": [],
   "source": [
    "SEED = hyperparameters['seed']\n",
    "torch.manual_seed(SEED)\n",
    "random.seed(SEED)\n",
    "np.random.seed(SEED)"
   ]
  },
  {
   "cell_type": "code",
   "execution_count": 10,
   "metadata": {
    "execution": {
     "iopub.execute_input": "2025-06-25T02:27:00.771277Z",
     "iopub.status.busy": "2025-06-25T02:27:00.771043Z",
     "iopub.status.idle": "2025-06-25T02:27:02.337474Z",
     "shell.execute_reply": "2025-06-25T02:27:02.336680Z",
     "shell.execute_reply.started": "2025-06-25T02:27:00.771262Z"
    },
    "trusted": true
   },
   "outputs": [
    {
     "name": "stdout",
     "output_type": "stream",
     "text": [
      "                 user_id     item_id  rating  \\\n",
      "0  A00414041RD0BXM6WK0GX  B007IY97U0     3.0   \n",
      "1  A00414041RD0BXM6WK0GX  B00870XLDS     2.0   \n",
      "2  A00414041RD0BXM6WK0GX  B008MIRO88     1.0   \n",
      "3  A00414041RD0BXM6WK0GX  B00BQYYMN0     3.0   \n",
      "4  A00414041RD0BXM6WK0GX  B00GRTQBTM     5.0   \n",
      "\n",
      "                                         review_text   unix_time       date  \n",
      "0  Good quality wig, but the blonde is much more ...  2014-07-14 2014-07-14  \n",
      "1  Very thin and not as long as the photos :( Aft...  2014-07-14 2014-07-14  \n",
      "2  Very thin and not as long as the photos :( Aft...  2014-07-14 2014-07-14  \n",
      "3  This is a great quality wig, however it is a m...  2014-07-14 2014-07-14  \n",
      "4  This is my absolute favorite wig! I have purch...  2014-07-14 2014-07-14  \n"
     ]
    }
   ],
   "source": [
    "rootpath = '/kaggle/input/gnn-dataset/data/leave-n-out/beauty/'\n",
    "train = pd.read_csv(\n",
    "    rootpath+'train.csv'\n",
    ")\n",
    "train['date'] = pd.to_datetime(train['unix_time'])\n",
    "print(train.head())"
   ]
  },
  {
   "cell_type": "code",
   "execution_count": 11,
   "metadata": {
    "execution": {
     "iopub.execute_input": "2025-06-25T02:27:02.338518Z",
     "iopub.status.busy": "2025-06-25T02:27:02.338251Z",
     "iopub.status.idle": "2025-06-25T02:27:02.364889Z",
     "shell.execute_reply": "2025-06-25T02:27:02.364270Z",
     "shell.execute_reply.started": "2025-06-25T02:27:02.338492Z"
    },
    "trusted": true
   },
   "outputs": [
    {
     "name": "stdout",
     "output_type": "stream",
     "text": [
      "Количество explicit позитивного фидбека 90800\n",
      "Количество explicit негативного фидбека 17504\n"
     ]
    }
   ],
   "source": [
    "explicit_positive = train[(train[\"rating\"] == 5)].index\n",
    "explisit_negative = train[(train[\"rating\"] <= 2)].index\n",
    "\n",
    "explicit_combined_feedback = explicit_positive.union(explisit_negative)\n",
    "print('Количество explicit позитивного фидбека', explicit_positive.shape[0])\n",
    "print('Количество explicit негативного фидбека', explisit_negative.shape[0])"
   ]
  },
  {
   "cell_type": "code",
   "execution_count": 12,
   "metadata": {
    "execution": {
     "iopub.execute_input": "2025-06-25T02:27:02.365885Z",
     "iopub.status.busy": "2025-06-25T02:27:02.365654Z",
     "iopub.status.idle": "2025-06-25T02:27:02.379095Z",
     "shell.execute_reply": "2025-06-25T02:27:02.378381Z",
     "shell.execute_reply.started": "2025-06-25T02:27:02.365852Z"
    },
    "trusted": true
   },
   "outputs": [
    {
     "name": "stdout",
     "output_type": "stream",
     "text": [
      "Количество implicit позитивного фидбека 30668\n",
      "Количество implicit негативного фидбека 17110\n"
     ]
    }
   ],
   "source": [
    "implicit_positive = train[(train[\"rating\"] == 4)].index\n",
    "implicit_negative = train[(train[\"rating\"] == 3)].index\n",
    "\n",
    "implicit_combined_feedback = implicit_positive.union(implicit_negative)\n",
    "print('Количество implicit позитивного фидбека', implicit_positive.shape[0])\n",
    "print('Количество implicit негативного фидбека', implicit_negative.shape[0])"
   ]
  },
  {
   "cell_type": "code",
   "execution_count": 13,
   "metadata": {
    "execution": {
     "iopub.execute_input": "2025-06-25T02:27:02.380180Z",
     "iopub.status.busy": "2025-06-25T02:27:02.379930Z",
     "iopub.status.idle": "2025-06-25T02:27:02.424416Z",
     "shell.execute_reply": "2025-06-25T02:27:02.423686Z",
     "shell.execute_reply.started": "2025-06-25T02:27:02.380162Z"
    },
    "trusted": true
   },
   "outputs": [
    {
     "data": {
      "text/html": [
       "<div>\n",
       "<style scoped>\n",
       "    .dataframe tbody tr th:only-of-type {\n",
       "        vertical-align: middle;\n",
       "    }\n",
       "\n",
       "    .dataframe tbody tr th {\n",
       "        vertical-align: top;\n",
       "    }\n",
       "\n",
       "    .dataframe thead th {\n",
       "        text-align: right;\n",
       "    }\n",
       "</style>\n",
       "<table border=\"1\" class=\"dataframe\">\n",
       "  <thead>\n",
       "    <tr style=\"text-align: right;\">\n",
       "      <th></th>\n",
       "      <th>user_id</th>\n",
       "      <th>item_id</th>\n",
       "      <th>target</th>\n",
       "      <th>date</th>\n",
       "    </tr>\n",
       "  </thead>\n",
       "  <tbody>\n",
       "    <tr>\n",
       "      <th>0</th>\n",
       "      <td>A00414041RD0BXM6WK0GX</td>\n",
       "      <td>B007IY97U0</td>\n",
       "      <td>implicit_negative</td>\n",
       "      <td>2014-07-14</td>\n",
       "    </tr>\n",
       "    <tr>\n",
       "      <th>1</th>\n",
       "      <td>A00414041RD0BXM6WK0GX</td>\n",
       "      <td>B00870XLDS</td>\n",
       "      <td>expliсit_negative</td>\n",
       "      <td>2014-07-14</td>\n",
       "    </tr>\n",
       "    <tr>\n",
       "      <th>2</th>\n",
       "      <td>A00414041RD0BXM6WK0GX</td>\n",
       "      <td>B008MIRO88</td>\n",
       "      <td>expliсit_negative</td>\n",
       "      <td>2014-07-14</td>\n",
       "    </tr>\n",
       "    <tr>\n",
       "      <th>3</th>\n",
       "      <td>A00414041RD0BXM6WK0GX</td>\n",
       "      <td>B00BQYYMN0</td>\n",
       "      <td>implicit_negative</td>\n",
       "      <td>2014-07-14</td>\n",
       "    </tr>\n",
       "    <tr>\n",
       "      <th>4</th>\n",
       "      <td>A00414041RD0BXM6WK0GX</td>\n",
       "      <td>B00GRTQBTM</td>\n",
       "      <td>explicit_positive</td>\n",
       "      <td>2014-07-14</td>\n",
       "    </tr>\n",
       "  </tbody>\n",
       "</table>\n",
       "</div>"
      ],
      "text/plain": [
       "                 user_id     item_id             target       date\n",
       "0  A00414041RD0BXM6WK0GX  B007IY97U0  implicit_negative 2014-07-14\n",
       "1  A00414041RD0BXM6WK0GX  B00870XLDS  expliсit_negative 2014-07-14\n",
       "2  A00414041RD0BXM6WK0GX  B008MIRO88  expliсit_negative 2014-07-14\n",
       "3  A00414041RD0BXM6WK0GX  B00BQYYMN0  implicit_negative 2014-07-14\n",
       "4  A00414041RD0BXM6WK0GX  B00GRTQBTM  explicit_positive 2014-07-14"
      ]
     },
     "execution_count": 13,
     "metadata": {},
     "output_type": "execute_result"
    }
   ],
   "source": [
    "train.loc[:, \"target\"] = \"\"\n",
    "train.loc[explicit_positive, \"target\"] = \"explicit_positive\"\n",
    "train.loc[explisit_negative, \"target\"] = \"expliсit_negative\"\n",
    "train.loc[implicit_positive, \"target\"] = \"implicit_positive\"\n",
    "train.loc[implicit_negative, \"target\"] = \"implicit_negative\"\n",
    "\n",
    "train = train[['user_id','item_id','target','date']]\n",
    "train.head()"
   ]
  },
  {
   "cell_type": "code",
   "execution_count": 14,
   "metadata": {
    "execution": {
     "iopub.execute_input": "2025-06-25T02:27:02.425572Z",
     "iopub.status.busy": "2025-06-25T02:27:02.425262Z",
     "iopub.status.idle": "2025-06-25T02:27:02.462540Z",
     "shell.execute_reply": "2025-06-25T02:27:02.461983Z",
     "shell.execute_reply.started": "2025-06-25T02:27:02.425548Z"
    },
    "trusted": true
   },
   "outputs": [],
   "source": [
    "train = train.sort_values(by=[\"user_id\", \"date\"]).reset_index(drop=True)"
   ]
  },
  {
   "cell_type": "code",
   "execution_count": 15,
   "metadata": {
    "execution": {
     "iopub.execute_input": "2025-06-25T02:27:02.463508Z",
     "iopub.status.busy": "2025-06-25T02:27:02.463218Z",
     "iopub.status.idle": "2025-06-25T02:27:02.467140Z",
     "shell.execute_reply": "2025-06-25T02:27:02.466513Z",
     "shell.execute_reply.started": "2025-06-25T02:27:02.463469Z"
    },
    "trusted": true
   },
   "outputs": [],
   "source": [
    "train.columns = ['user_id', 'item_id', 'target', 'date']"
   ]
  },
  {
   "cell_type": "code",
   "execution_count": 16,
   "metadata": {
    "execution": {
     "iopub.execute_input": "2025-06-25T02:27:02.468356Z",
     "iopub.status.busy": "2025-06-25T02:27:02.468011Z",
     "iopub.status.idle": "2025-06-25T02:27:02.999227Z",
     "shell.execute_reply": "2025-06-25T02:27:02.998379Z",
     "shell.execute_reply.started": "2025-06-25T02:27:02.468311Z"
    },
    "trusted": true
   },
   "outputs": [
    {
     "name": "stdout",
     "output_type": "stream",
     "text": [
      "                 user_id     item_id  rating  \\\n",
      "0  A02155413BVL8D0G7X6DN  B0089JVEPO     5.0   \n",
      "1  A02155413BVL8D0G7X6DN  B001G2LWDK     5.0   \n",
      "2  A02155413BVL8D0G7X6DN  B005Z41P28     5.0   \n",
      "3  A02155413BVL8D0G7X6DN  B0055MYJ0U     5.0   \n",
      "4  A02155413BVL8D0G7X6DN  B00117CH5M     3.0   \n",
      "\n",
      "                                         review_text   unix_time       date  \n",
      "0  leaves my skin clean and smooth. it is creamy ...  2012-10-25 2012-10-25  \n",
      "1  Works great, smells good, there is a result. I...  2012-12-06 2012-12-06  \n",
      "2  it works for my hair. smells like almond. made...  2013-01-17 2013-01-17  \n",
      "3  got this in the mail from China today! holds m...  2013-04-22 2013-04-22  \n",
      "4  if you like strong smell of honeysuckles and h...  2013-05-01 2013-05-01  \n"
     ]
    }
   ],
   "source": [
    "test = pd.read_csv(\n",
    "    rootpath+'test.csv'\n",
    ")\n",
    "test['date'] = pd.to_datetime(test['unix_time'])\n",
    "print(test.head())"
   ]
  },
  {
   "cell_type": "code",
   "execution_count": 17,
   "metadata": {
    "execution": {
     "iopub.execute_input": "2025-06-25T02:27:03.000286Z",
     "iopub.status.busy": "2025-06-25T02:27:03.000039Z",
     "iopub.status.idle": "2025-06-25T02:27:03.011986Z",
     "shell.execute_reply": "2025-06-25T02:27:03.011368Z",
     "shell.execute_reply.started": "2025-06-25T02:27:03.000260Z"
    },
    "trusted": true
   },
   "outputs": [
    {
     "data": {
      "text/html": [
       "<div>\n",
       "<style scoped>\n",
       "    .dataframe tbody tr th:only-of-type {\n",
       "        vertical-align: middle;\n",
       "    }\n",
       "\n",
       "    .dataframe tbody tr th {\n",
       "        vertical-align: top;\n",
       "    }\n",
       "\n",
       "    .dataframe thead th {\n",
       "        text-align: right;\n",
       "    }\n",
       "</style>\n",
       "<table border=\"1\" class=\"dataframe\">\n",
       "  <thead>\n",
       "    <tr style=\"text-align: right;\">\n",
       "      <th></th>\n",
       "      <th>user_id</th>\n",
       "      <th>item_id</th>\n",
       "      <th>date</th>\n",
       "    </tr>\n",
       "  </thead>\n",
       "  <tbody>\n",
       "    <tr>\n",
       "      <th>0</th>\n",
       "      <td>A02155413BVL8D0G7X6DN</td>\n",
       "      <td>B0089JVEPO</td>\n",
       "      <td>2012-10-25</td>\n",
       "    </tr>\n",
       "    <tr>\n",
       "      <th>1</th>\n",
       "      <td>A02155413BVL8D0G7X6DN</td>\n",
       "      <td>B001G2LWDK</td>\n",
       "      <td>2012-12-06</td>\n",
       "    </tr>\n",
       "    <tr>\n",
       "      <th>2</th>\n",
       "      <td>A02155413BVL8D0G7X6DN</td>\n",
       "      <td>B005Z41P28</td>\n",
       "      <td>2013-01-17</td>\n",
       "    </tr>\n",
       "    <tr>\n",
       "      <th>3</th>\n",
       "      <td>A02155413BVL8D0G7X6DN</td>\n",
       "      <td>B0055MYJ0U</td>\n",
       "      <td>2013-04-22</td>\n",
       "    </tr>\n",
       "    <tr>\n",
       "      <th>4</th>\n",
       "      <td>A02155413BVL8D0G7X6DN</td>\n",
       "      <td>B00117CH5M</td>\n",
       "      <td>2013-05-01</td>\n",
       "    </tr>\n",
       "  </tbody>\n",
       "</table>\n",
       "</div>"
      ],
      "text/plain": [
       "                 user_id     item_id       date\n",
       "0  A02155413BVL8D0G7X6DN  B0089JVEPO 2012-10-25\n",
       "1  A02155413BVL8D0G7X6DN  B001G2LWDK 2012-12-06\n",
       "2  A02155413BVL8D0G7X6DN  B005Z41P28 2013-01-17\n",
       "3  A02155413BVL8D0G7X6DN  B0055MYJ0U 2013-04-22\n",
       "4  A02155413BVL8D0G7X6DN  B00117CH5M 2013-05-01"
      ]
     },
     "execution_count": 17,
     "metadata": {},
     "output_type": "execute_result"
    }
   ],
   "source": [
    "test = test[['user_id','item_id', 'date']]\n",
    "test.head()"
   ]
  },
  {
   "cell_type": "code",
   "execution_count": 18,
   "metadata": {
    "execution": {
     "iopub.execute_input": "2025-06-25T02:27:03.013419Z",
     "iopub.status.busy": "2025-06-25T02:27:03.012776Z",
     "iopub.status.idle": "2025-06-25T02:27:03.018744Z",
     "shell.execute_reply": "2025-06-25T02:27:03.018022Z",
     "shell.execute_reply.started": "2025-06-25T02:27:03.013393Z"
    },
    "trusted": true
   },
   "outputs": [],
   "source": [
    "test.columns = ['user_id', 'item_id', 'date']"
   ]
  },
  {
   "cell_type": "markdown",
   "metadata": {},
   "source": [
    "# MVP model v2"
   ]
  },
  {
   "cell_type": "code",
   "execution_count": 19,
   "metadata": {
    "execution": {
     "iopub.execute_input": "2025-06-25T02:27:03.020057Z",
     "iopub.status.busy": "2025-06-25T02:27:03.019400Z",
     "iopub.status.idle": "2025-06-25T02:27:03.055157Z",
     "shell.execute_reply": "2025-06-25T02:27:03.054668Z",
     "shell.execute_reply.started": "2025-06-25T02:27:03.020039Z"
    },
    "trusted": true
   },
   "outputs": [],
   "source": [
    "train.loc[:, \"event\"] = 0\n",
    "train.loc[(train[\"target\"] == \"explicit_positive\") | (train[\"target\"] == \"implicit_positive\"), \"event\"] = 1"
   ]
  },
  {
   "cell_type": "code",
   "execution_count": 20,
   "metadata": {
    "execution": {
     "iopub.execute_input": "2025-06-25T02:27:03.056130Z",
     "iopub.status.busy": "2025-06-25T02:27:03.055880Z",
     "iopub.status.idle": "2025-06-25T02:27:03.078477Z",
     "shell.execute_reply": "2025-06-25T02:27:03.077783Z",
     "shell.execute_reply.started": "2025-06-25T02:27:03.056103Z"
    },
    "trusted": true
   },
   "outputs": [
    {
     "data": {
      "text/plain": [
       "(42378, 3)"
      ]
     },
     "execution_count": 20,
     "metadata": {},
     "output_type": "execute_result"
    }
   ],
   "source": [
    "test = test[(test.user_id.isin(train.user_id)) & (test.item_id.isin(train.item_id))].copy()\n",
    "test.shape"
   ]
  },
  {
   "cell_type": "code",
   "execution_count": 21,
   "metadata": {
    "execution": {
     "iopub.execute_input": "2025-06-25T02:27:03.079570Z",
     "iopub.status.busy": "2025-06-25T02:27:03.079287Z",
     "iopub.status.idle": "2025-06-25T02:27:03.224412Z",
     "shell.execute_reply": "2025-06-25T02:27:03.223833Z",
     "shell.execute_reply.started": "2025-06-25T02:27:03.079547Z"
    },
    "trusted": true
   },
   "outputs": [],
   "source": [
    "# 2. Преобразование данных - для куарека не особо нужно, но для других - напоминалка\n",
    "# делаем всегда! чтобы не сломать ничего дальше и чтобы все индексы были от 0 до N без пропусков\n",
    "user_encoder = LabelEncoder()\n",
    "video_encoder = LabelEncoder()\n",
    "\n",
    "train.loc[:, 'user_id'] = user_encoder.fit_transform(train['user_id'])\n",
    "train.loc[:, 'item_id'] = video_encoder.fit_transform(train['item_id'])\n",
    "\n",
    "test.loc[:, 'user_id'] = user_encoder.transform(test['user_id'])\n",
    "test.loc[:, 'item_id'] = video_encoder.transform(test['item_id'])\n",
    "train['user_id'] = train['user_id'].astype(int)\n",
    "train['item_id'] = train['item_id'].astype(int)\n",
    "test['user_id'] = test['user_id'].astype(int)\n",
    "test['item_id'] = test['item_id'].astype(int)"
   ]
  },
  {
   "cell_type": "code",
   "execution_count": 22,
   "metadata": {
    "execution": {
     "iopub.execute_input": "2025-06-25T02:27:03.227839Z",
     "iopub.status.busy": "2025-06-25T02:27:03.227628Z",
     "iopub.status.idle": "2025-06-25T02:27:03.233172Z",
     "shell.execute_reply": "2025-06-25T02:27:03.232691Z",
     "shell.execute_reply.started": "2025-06-25T02:27:03.227824Z"
    },
    "trusted": true
   },
   "outputs": [],
   "source": [
    "# так как используем pad, то нумерацию item_id начинаем с 1 до max + 1, чтобы для pad забить 0\n",
    "train.loc[:, 'item_id'] += 1\n",
    "test.loc[:, 'item_id'] += 1"
   ]
  },
  {
   "cell_type": "code",
   "execution_count": 23,
   "metadata": {
    "execution": {
     "iopub.execute_input": "2025-06-25T02:27:03.234139Z",
     "iopub.status.busy": "2025-06-25T02:27:03.233927Z",
     "iopub.status.idle": "2025-06-25T02:27:03.252289Z",
     "shell.execute_reply": "2025-06-25T02:27:03.251731Z",
     "shell.execute_reply.started": "2025-06-25T02:27:03.234123Z"
    },
    "trusted": true
   },
   "outputs": [
    {
     "name": "stdout",
     "output_type": "stream",
     "text": [
      "Количество уникальных item_id 12095\n",
      "Количество уникальных user_id 22363\n"
     ]
    }
   ],
   "source": [
    "# т.е. сразу знаем количество и в каких пределах изменяется user_id и item_id\n",
    "num_videos = train['item_id'].nunique()\n",
    "num_users = train['user_id'].nunique()\n",
    "\n",
    "print('Количество уникальных item_id', num_videos)\n",
    "print('Количество уникальных user_id', num_users)"
   ]
  },
  {
   "cell_type": "code",
   "execution_count": 24,
   "metadata": {
    "execution": {
     "iopub.execute_input": "2025-06-25T02:27:03.253292Z",
     "iopub.status.busy": "2025-06-25T02:27:03.253118Z",
     "iopub.status.idle": "2025-06-25T02:27:03.266845Z",
     "shell.execute_reply": "2025-06-25T02:27:03.266061Z",
     "shell.execute_reply.started": "2025-06-25T02:27:03.253279Z"
    },
    "trusted": true
   },
   "outputs": [],
   "source": [
    "def prepare_hetero_data(df: pd.DataFrame) -> HeteroData:\n",
    "    \"\"\"\n",
    "    Construct a heterogeneous graph for recommendation from interaction records.\n",
    "\n",
    "    Node types:\n",
    "      - 'user': one node per unique user_id\n",
    "      - 'item': one node per unique item_id\n",
    "      - one node per user per feedback type ('implicit_positive',\n",
    "        'explicit_positive', 'implicit_negative', 'explicit_negative')\n",
    "\n",
    "    Edges:\n",
    "      1) item -> feedback_node: connect each item to the corresponding feedback node.\n",
    "      2) feedback_node -> item: reverse connection, to allow message passing back to items.\n",
    "      3) feedback_node -> user: link each feedback node to the user who generated that feedback.\n",
    "      4) user -> user: a complete graph among all users under the relation 'interacts'.\n",
    "\n",
    "    For edges (1)-(3), each edge stores:\n",
    "      - edge_attr: a vector of length (1 + num_feedback_types),\n",
    "                   where index 0 is Δt = (reference_time - event_timestamp),\n",
    "                   and indices 1.. end are a one-hot encoding of the feedback type.\n",
    "      - edge_time: a separate tensor containing only Δt for convenience.\n",
    "\n",
    "    Parameters:\n",
    "    -----------\n",
    "    df : pandas.DataFrame\n",
    "        Must contain columns:\n",
    "          - 'user_id': integer user identifier (0-indexed or otherwise)\n",
    "          - 'item_id': integer item identifier\n",
    "          - 'target': feedback type (one of 'implicit_positive',\n",
    "                      'explicit_positive', 'implicit_negative',\n",
    "                      'explicit_negative')\n",
    "          - 'date': timestamp string for the interaction\n",
    "    reference_time : float\n",
    "        A Unix timestamp (in seconds). For each interaction, Δt is computed as\n",
    "        (reference_time - interaction_timestamp).\n",
    "\n",
    "    Returns:\n",
    "    --------\n",
    "    data : torch_geometric.data.HeteroData\n",
    "        A heterogeneous graph with node types 'user', 'item', and each feedback type.\n",
    "        Edge indices, edge_attr, and edge_time are set for relations:\n",
    "          - ('item', 'item2<ft>', ft)\n",
    "          - (ft, '<ft>2item', 'item')\n",
    "          - (ft, '<ft>2user', 'user')\n",
    "        Additionally, ('user', 'interacts', 'user') is a complete graph among users.\n",
    "    \"\"\"\n",
    "    # Determine the number of users and items\n",
    "    num_users = df['user_id'].nunique()\n",
    "    num_items = int(df['item_id'].max()) + 1\n",
    "    feedback_types = df['target'].unique().tolist()\n",
    "    type2idx = {tp: i for i, tp in enumerate(feedback_types)}\n",
    "\n",
    "    # Initialize HeteroData\n",
    "    data = HeteroData()\n",
    "    data['user'].node_id = torch.arange(num_users)\n",
    "    data['item'].node_id = torch.arange(num_items)\n",
    "    for ft in feedback_types:\n",
    "        data[ft].node_id = torch.arange(num_users)\n",
    "\n",
    "    # Build edges: item -> feedback -> user\n",
    "    for ft in feedback_types:\n",
    "        mask = df['target'] == ft\n",
    "        # user -> ft\n",
    "        src_fu = torch.LongTensor(df.loc[mask, 'user_id'].values)    # [E_ft]\n",
    "        dst_fu = torch.LongTensor(df.loc[mask, 'user_id'].values)    # тот же user_id, т.к. ft_node ID = user_id\n",
    "        # ft -> item\n",
    "        src_fi = torch.LongTensor(df.loc[mask, 'user_id'].values)\n",
    "        dst_fi = torch.LongTensor(df.loc[mask, 'item_id'].values)\n",
    "        # item -> ft\n",
    "        src_if = torch.LongTensor(df.loc[mask, 'item_id'].values)  \n",
    "        dst_if = torch.LongTensor(df.loc[mask, 'user_id'].values)\n",
    "\n",
    "        # edge_attr\n",
    "        # delta_t = reference_time - timestamp\n",
    "        # delta = reference_time - torch.tensor(df.loc[mask, 'timestamp'].values, dtype=torch.float)  # [E_ft]\n",
    "        # delta = delta.unsqueeze(1)    # [E_ft, 1]\n",
    "        # one-hot of ft\n",
    "        # idx = type2idx[ft]\n",
    "        # one_hot = F.one_hot(torch.full((src_fu.size(0),), idx, dtype=torch.long),\n",
    "        #                     num_classes=len(feedback_types)).float()  # [E_ft, 4]\n",
    "        # combine: [delta | one_hot] → [E_ft, 5]\n",
    "        # edge_attr = torch.cat([delta, one_hot], dim=1)  # [E_ft, 1+4]\n",
    "\n",
    "        data['item', f'item2{ft}', ft].edge_index = torch.stack([src_if, dst_if], dim=0)\n",
    "        # data['item', f'item2{ft}', ft].edge_attr = edge_attr\n",
    "        # data['item', f'item2{ft}', ft].edge_time = delta\n",
    "\n",
    "        data[ft, f'{ft}2item', 'item'].edge_index = torch.stack([src_fi, dst_fi], dim=0)\n",
    "        # data[ft, f'{ft}2item', 'item'].edge_attr = edge_attr\n",
    "        # data[ft, f'{ft}2item', 'item'].edge_time = delta\n",
    "\n",
    "        data[ft, f'{ft}2user', 'user'].edge_index = torch.stack([src_fu, dst_fu], dim=0)\n",
    "        # data[ft, f'{ft}2user', 'user'].edge_attr = edge_attr\n",
    "        # data[ft, f'{ft}2user', 'user'].edge_time = delta\n",
    "\n",
    "    return data"
   ]
  },
  {
   "cell_type": "code",
   "execution_count": 25,
   "metadata": {
    "execution": {
     "iopub.execute_input": "2025-06-25T02:27:03.267702Z",
     "iopub.status.busy": "2025-06-25T02:27:03.267505Z",
     "iopub.status.idle": "2025-06-25T02:27:03.366640Z",
     "shell.execute_reply": "2025-06-25T02:27:03.366015Z",
     "shell.execute_reply.started": "2025-06-25T02:27:03.267688Z"
    },
    "trusted": true
   },
   "outputs": [
    {
     "data": {
      "text/plain": [
       "HeteroData(\n",
       "  user={ node_id=[22363] },\n",
       "  item={ node_id=[12096] },\n",
       "  implicit_negative={ node_id=[22363] },\n",
       "  expliсit_negative={ node_id=[22363] },\n",
       "  explicit_positive={ node_id=[22363] },\n",
       "  implicit_positive={ node_id=[22363] },\n",
       "  (item, item2implicit_negative, implicit_negative)={ edge_index=[2, 17110] },\n",
       "  (implicit_negative, implicit_negative2item, item)={ edge_index=[2, 17110] },\n",
       "  (implicit_negative, implicit_negative2user, user)={ edge_index=[2, 17110] },\n",
       "  (item, item2expliсit_negative, expliсit_negative)={ edge_index=[2, 17504] },\n",
       "  (expliсit_negative, expliсit_negative2item, item)={ edge_index=[2, 17504] },\n",
       "  (expliсit_negative, expliсit_negative2user, user)={ edge_index=[2, 17504] },\n",
       "  (item, item2explicit_positive, explicit_positive)={ edge_index=[2, 90800] },\n",
       "  (explicit_positive, explicit_positive2item, item)={ edge_index=[2, 90800] },\n",
       "  (explicit_positive, explicit_positive2user, user)={ edge_index=[2, 90800] },\n",
       "  (item, item2implicit_positive, implicit_positive)={ edge_index=[2, 30668] },\n",
       "  (implicit_positive, implicit_positive2item, item)={ edge_index=[2, 30668] },\n",
       "  (implicit_positive, implicit_positive2user, user)={ edge_index=[2, 30668] }\n",
       ")"
      ]
     },
     "execution_count": 25,
     "metadata": {},
     "output_type": "execute_result"
    }
   ],
   "source": [
    "data = prepare_hetero_data(train)\n",
    "data"
   ]
  },
  {
   "cell_type": "code",
   "execution_count": 26,
   "metadata": {
    "execution": {
     "iopub.execute_input": "2025-06-25T02:27:03.367468Z",
     "iopub.status.busy": "2025-06-25T02:27:03.367266Z",
     "iopub.status.idle": "2025-06-25T02:27:03.378691Z",
     "shell.execute_reply": "2025-06-25T02:27:03.378073Z",
     "shell.execute_reply.started": "2025-06-25T02:27:03.367453Z"
    },
    "trusted": true
   },
   "outputs": [
    {
     "data": {
      "text/plain": [
       "tensor([    0,     1,     2,  ..., 12093, 12094, 12095])"
      ]
     },
     "execution_count": 26,
     "metadata": {},
     "output_type": "execute_result"
    }
   ],
   "source": [
    "data['item'].node_id"
   ]
  },
  {
   "cell_type": "code",
   "execution_count": 27,
   "metadata": {
    "execution": {
     "iopub.execute_input": "2025-06-25T02:27:03.379724Z",
     "iopub.status.busy": "2025-06-25T02:27:03.379457Z",
     "iopub.status.idle": "2025-06-25T02:27:03.387778Z",
     "shell.execute_reply": "2025-06-25T02:27:03.387172Z",
     "shell.execute_reply.started": "2025-06-25T02:27:03.379703Z"
    },
    "trusted": true
   },
   "outputs": [],
   "source": [
    "def prepare_thp_data(df: pd.DataFrame, max_len: int, pad: int, cls_id: int):\n",
    "    \"\"\"\n",
    "    Build sequences of item ids, event types and timestamps per user for THP training.\n",
    "\n",
    "    Parameters:\n",
    "    -----------\n",
    "    df : DataFrame with columns ['user_id','item_id','event','date']\n",
    "    max_len : int, maximum sequence length (pad or truncate to this length)\n",
    "    pad : int, padding token value (left-padding)\n",
    "\n",
    "    Returns:\n",
    "    --------\n",
    "    seq_ids   : LongTensor [num_users, max_len]\n",
    "    event_type: LongTensor [num_users, max_len]\n",
    "    seq_times : FloatTensor [num_users, max_len]\n",
    "    seq_mask  : BoolTensor [num_users, max_len]\n",
    "    \"\"\"\n",
    "    users = df['user_id'].unique()\n",
    "    num_users = len(users)\n",
    "\n",
    "    # +1 for the [CLS] token\n",
    "    new_max_len = max_len + 1\n",
    "    \n",
    "    seq_ids    = torch.full((num_users, new_max_len), pad, dtype=torch.long)\n",
    "    event_type = torch.full((num_users, new_max_len), pad, dtype=torch.long)\n",
    "    seq_times  = torch.zeros((num_users, new_max_len), dtype=torch.float)\n",
    "    seq_mask   = torch.zeros((num_users, new_max_len), dtype=torch.bool)\n",
    "\n",
    "    # map event labels to ints\n",
    "    label2idx = {label: idx for idx, label in enumerate(df['event'].unique())}\n",
    "\n",
    "    # устанавливаем CLS-токен в позицию 0\n",
    "    seq_ids[:, 0]  = cls_id\n",
    "    event_type[:,0] = cls_id   \n",
    "    seq_mask[:, 0] = True\n",
    "\n",
    "    for i, u in enumerate(users):\n",
    "        user_df = df[df['user_id'] == u].sort_values('date')\n",
    "        items = user_df['item_id'].values\n",
    "        types = user_df['event'].map(label2idx).values\n",
    "        times = pd.to_datetime(user_df['date']).values.astype('datetime64[ns]').astype(np.int64) / 1e9\n",
    "        \n",
    "        seq = len(items)\n",
    "        if seq == 0:\n",
    "            continue\n",
    "\n",
    "        # вставляем реальные события **cдвинутые на 1** вправо из-за CLS,\n",
    "        # чтобы первые new_max_len-lengt...new_max_len-1 оказались данными\n",
    "        length = min(seq, max_len)\n",
    "        start = max(0, new_max_len - length)\n",
    "        seq_ids[i, start:]    = torch.tensor(items[-length:],    dtype=torch.long)\n",
    "        event_type[i, start:] = torch.tensor(types[-length:],    dtype=torch.long)\n",
    "        seq_times[i, start:]  = torch.tensor(times[-length:],    dtype=torch.float)\n",
    "        seq_mask[i, start:]   = True\n",
    "\n",
    "    return seq_ids, event_type, seq_times, seq_mask\n"
   ]
  },
  {
   "cell_type": "code",
   "execution_count": 28,
   "metadata": {
    "execution": {
     "iopub.execute_input": "2025-06-25T02:27:03.388637Z",
     "iopub.status.busy": "2025-06-25T02:27:03.388446Z",
     "iopub.status.idle": "2025-06-25T02:27:33.682001Z",
     "shell.execute_reply": "2025-06-25T02:27:33.681387Z",
     "shell.execute_reply.started": "2025-06-25T02:27:03.388623Z"
    },
    "trusted": true
   },
   "outputs": [
    {
     "data": {
      "text/plain": [
       "(tensor([12096,     0,     0,     0,     0,     0,     0,     0,     0,     0,\n",
       "             0,     0,     0,     0,     0,     0,     0,     0,     0,     0,\n",
       "             0,     0,     0,     0,     0,     0,     0,     0,     0,     0,\n",
       "             0,     0,     0,     0,     0,     0,     0,     0,     0,     0,\n",
       "             0,     0,     0,     0,     0,     0,     0,     0,     0,     0,\n",
       "             0,     0,     0,     0,     0,     0,     0,     0,     0,     0,\n",
       "             0,     0,     0,     0,     0,     0,     0,     0,     0,     0,\n",
       "             0,     0,     0,     0,     0,     0,     0,     0,     0,     0,\n",
       "             0,     0,     0,     0,     0,     0,     0,     0,     0,     0,\n",
       "             0,     0,     0,     0,     0,  9450,  9840, 10077, 11156, 11753,\n",
       "         11864]),\n",
       " tensor([12096,     0,     0,     0,     0,     0,     0,     0,     0,     0,\n",
       "             0,     0,     0,     0,     0,     0,     0,     0,     0,     0,\n",
       "             0,     0,     0,     0,     0,     0,     0,     0,     0,     0,\n",
       "             0,     0,     0,     0,     0,     0,     0,     0,     0,     0,\n",
       "             0,     0,     0,     0,     0,     0,     0,     0,     0,     0,\n",
       "             0,     0,     0,     0,     0,     0,     0,     0,     0,     0,\n",
       "             0,     0,     0,     0,     0,     0,     0,     0,     0,     0,\n",
       "             0,     0,     0,     0,     0,     0,     0,     0,     0,     0,\n",
       "             0,     0,     0,     0,     0,     0,     0,     0,     0,     0,\n",
       "             0,     0,     0,     0,     0,     0,     0,     0,     0,     1,\n",
       "             1]),\n",
       " tensor([0.0000e+00, 0.0000e+00, 0.0000e+00, 0.0000e+00, 0.0000e+00, 0.0000e+00,\n",
       "         0.0000e+00, 0.0000e+00, 0.0000e+00, 0.0000e+00, 0.0000e+00, 0.0000e+00,\n",
       "         0.0000e+00, 0.0000e+00, 0.0000e+00, 0.0000e+00, 0.0000e+00, 0.0000e+00,\n",
       "         0.0000e+00, 0.0000e+00, 0.0000e+00, 0.0000e+00, 0.0000e+00, 0.0000e+00,\n",
       "         0.0000e+00, 0.0000e+00, 0.0000e+00, 0.0000e+00, 0.0000e+00, 0.0000e+00,\n",
       "         0.0000e+00, 0.0000e+00, 0.0000e+00, 0.0000e+00, 0.0000e+00, 0.0000e+00,\n",
       "         0.0000e+00, 0.0000e+00, 0.0000e+00, 0.0000e+00, 0.0000e+00, 0.0000e+00,\n",
       "         0.0000e+00, 0.0000e+00, 0.0000e+00, 0.0000e+00, 0.0000e+00, 0.0000e+00,\n",
       "         0.0000e+00, 0.0000e+00, 0.0000e+00, 0.0000e+00, 0.0000e+00, 0.0000e+00,\n",
       "         0.0000e+00, 0.0000e+00, 0.0000e+00, 0.0000e+00, 0.0000e+00, 0.0000e+00,\n",
       "         0.0000e+00, 0.0000e+00, 0.0000e+00, 0.0000e+00, 0.0000e+00, 0.0000e+00,\n",
       "         0.0000e+00, 0.0000e+00, 0.0000e+00, 0.0000e+00, 0.0000e+00, 0.0000e+00,\n",
       "         0.0000e+00, 0.0000e+00, 0.0000e+00, 0.0000e+00, 0.0000e+00, 0.0000e+00,\n",
       "         0.0000e+00, 0.0000e+00, 0.0000e+00, 0.0000e+00, 0.0000e+00, 0.0000e+00,\n",
       "         0.0000e+00, 0.0000e+00, 0.0000e+00, 0.0000e+00, 0.0000e+00, 0.0000e+00,\n",
       "         0.0000e+00, 0.0000e+00, 0.0000e+00, 0.0000e+00, 0.0000e+00, 1.4053e+09,\n",
       "         1.4053e+09, 1.4053e+09, 1.4053e+09, 1.4053e+09, 1.4053e+09]),\n",
       " tensor([ True, False, False, False, False, False, False, False, False, False,\n",
       "         False, False, False, False, False, False, False, False, False, False,\n",
       "         False, False, False, False, False, False, False, False, False, False,\n",
       "         False, False, False, False, False, False, False, False, False, False,\n",
       "         False, False, False, False, False, False, False, False, False, False,\n",
       "         False, False, False, False, False, False, False, False, False, False,\n",
       "         False, False, False, False, False, False, False, False, False, False,\n",
       "         False, False, False, False, False, False, False, False, False, False,\n",
       "         False, False, False, False, False, False, False, False, False, False,\n",
       "         False, False, False, False, False,  True,  True,  True,  True,  True,\n",
       "          True]))"
      ]
     },
     "execution_count": 28,
     "metadata": {},
     "output_type": "execute_result"
    }
   ],
   "source": [
    "PAD_ID = hyperparameters['pad_id'] \n",
    "CLS_ID = data['item'].node_id.shape[0]  \n",
    "hyperparameters['cls_id'] = CLS_ID\n",
    "max_len = hyperparameters['max_len_of_thp_history']\n",
    "\n",
    "seq_ids, event_type, seq_times, seq_mask = prepare_thp_data(train, \n",
    "                                                            max_len=max_len, \n",
    "                                                            pad=PAD_ID,\n",
    "                                                            cls_id=CLS_ID)\n",
    "seq_ids[0], event_type[0], seq_times[0], seq_mask[0]"
   ]
  },
  {
   "cell_type": "code",
   "execution_count": 29,
   "metadata": {
    "execution": {
     "iopub.execute_input": "2025-06-25T02:27:33.682896Z",
     "iopub.status.busy": "2025-06-25T02:27:33.682695Z",
     "iopub.status.idle": "2025-06-25T02:27:33.698274Z",
     "shell.execute_reply": "2025-06-25T02:27:33.697539Z",
     "shell.execute_reply.started": "2025-06-25T02:27:33.682880Z"
    },
    "trusted": true
   },
   "outputs": [],
   "source": [
    "class THPEncoder(nn.Module):\n",
    "    \"\"\"\n",
    "    Multi-head Transformer Hawkes-inspired encoder with local window.\n",
    "    Integrates exponential decay kernel within last `window_size` events.\n",
    "    \"\"\"\n",
    "    def __init__(self, d_model: int, n_head: int, window_size: int = 50, \n",
    "                 decay: float = 1.0, dropout: float = 0.1, max_len: int = 101):\n",
    "        super().__init__()\n",
    "\n",
    "        self.max_len = max_len\n",
    "        # Learnable positional embeddings\n",
    "        self.pos_emb = nn.Embedding(max_len, d_model)\n",
    "        # Temporal (time) embedding: simple linear projection from scalar to d_model\n",
    "        self.time_emb = nn.Linear(1, d_model)\n",
    "        \n",
    "        self.heads = nn.ModuleList([\n",
    "            _THPHead(d_model, decay, window_size, dropout) for _ in range(n_head)\n",
    "        ])\n",
    "\n",
    "        self.ffn = nn.Sequential(\n",
    "                nn.LayerNorm(d_model),\n",
    "                nn.Linear(d_model, d_model * 4),\n",
    "                nn.ReLU(),\n",
    "                nn.Linear(d_model * 4, d_model),\n",
    "                nn.Dropout(dropout)\n",
    "            )\n",
    "        self.final_norm = nn.LayerNorm(d_model)\n",
    "\n",
    "    def forward(self, emb: torch.Tensor, times: torch.Tensor, mask: torch.BoolTensor = None):\n",
    "        # emb: [B, L, D], times: [B, L], mask: [B, L]\n",
    "        B, L, D = emb.shape\n",
    "        \n",
    "        positions = torch.arange(L, device=emb.device).unsqueeze(0).expand(B, -1)  # [B, L]\n",
    "        pe = self.pos_emb(positions)  # [B, L, D]\n",
    "        te = self.time_emb(times.unsqueeze(-1))  # [B, L, D]\n",
    "        x = emb + pe + te\n",
    "        \n",
    "        attn_out = torch.stack([head(x, times, mask) for head in self.heads], dim=0).sum(0)\n",
    "        \n",
    "        # Residual connection + normalization\n",
    "        x = x + attn_out\n",
    "        x = x + self.ffn(x)\n",
    "        \n",
    "        return self.final_norm(x)  # [B, L, D]\n",
    "\n",
    "class _THPHead(nn.Module):\n",
    "    def __init__(self, d_model: int, decay: float, window_size: int, dropout: float,\n",
    "                pos_lambda: float = None):\n",
    "        super().__init__()\n",
    "        self.linear_v = nn.Linear(d_model, d_model, bias=False)\n",
    "        nn.init.xavier_uniform_(self.linear_v.weight)\n",
    "        self.temperature = d_model ** 0.5\n",
    "        self.decay = decay\n",
    "        self.window_size = window_size\n",
    "        self.dropout = nn.Dropout(dropout)\n",
    "        self.input_norm = nn.LayerNorm(d_model)\n",
    "        self.pos_lambda = pos_lambda or (1.0 / window_size)\n",
    "\n",
    "    def forward(self, emb: torch.Tensor, times: torch.Tensor, mask: torch.BoolTensor = None):\n",
    "        B, L, D = emb.size()\n",
    "        emb_norm = self.input_norm(emb)\n",
    "        q = emb_norm / self.temperature           # [B, L, D]\n",
    "        k = emb_norm                              # [B, L, D]\n",
    "        v = F.elu(self.linear_v(emb_norm))        # [B, L, D]\n",
    "\n",
    "        if not torch.isfinite(q).all():\n",
    "            print(\"NaN/Inf в q:\", torch.isnan(q).sum().item(), torch.isinf(q).sum().item())\n",
    "        if not torch.isfinite(k).all():\n",
    "            print(\"NaN/Inf в k:\", torch.isnan(k).sum().item(), torch.isinf(k).sum().item())\n",
    "        if not torch.isfinite(v).all():\n",
    "            print(\"NaN/Inf в v:\", torch.isnan(v).sum().item(), torch.isinf(v).sum().item())\n",
    "\n",
    "        # 3) Build pad mask only\n",
    "        if mask is not None:\n",
    "            pad_mask = ~mask.unsqueeze(1).expand(-1, L, -1)  # [B, L, L]\n",
    "        else:\n",
    "            pad_mask = torch.zeros((B, L, L), dtype=torch.bool, device=emb.device)\n",
    "\n",
    "        # Always allow self-attention for pad_mask diagonal\n",
    "        idx = torch.arange(L, device=emb.device)\n",
    "        pad_mask[:, idx, idx] = False\n",
    "\n",
    "        scores = torch.bmm(q, k.transpose(1, 2))  # [B, L, L]\n",
    "\n",
    "        # Apply temporal decay kernel\n",
    "        delta = (times.unsqueeze(-1) - times.unsqueeze(-2)).clamp(min=0)\n",
    "        scores = scores * torch.exp(-self.decay * delta)\n",
    "\n",
    "        # Apply smooth positional decay\n",
    "        dist = (idx.unsqueeze(0) - idx.unsqueeze(1)).abs().float()  # [L, L]\n",
    "        pos_decay = torch.exp(-self.pos_lambda * dist).unsqueeze(0)    # [1, L, L]\n",
    "        scores = scores * pos_decay\n",
    "\n",
    "        scores = torch.clamp(scores, min=-1e3, max=1e3)\n",
    "        scores = scores.masked_fill(pad_mask, float('-inf'))\n",
    "\n",
    "        # Debug range\n",
    "        finite = scores[~pad_mask]\n",
    "        # if finite.numel() > 0:\n",
    "        #     print(f\"Диапазон scores до softmax: min={finite.min().item():.3e}, max={finite.max().item():.3e}\")\n",
    "\n",
    "        attn = F.softmax(scores, dim=-1)\n",
    "        \n",
    "        if not torch.isfinite(attn).all():\n",
    "            print(\"NaN/Inf в attn после softmax:\", torch.isnan(attn).sum().item(), torch.isinf(attn).sum().item())\n",
    "        \n",
    "        attn = torch.nan_to_num(attn, nan=0.0, posinf=0.0, neginf=0.0)\n",
    "        attn = self.dropout(attn)\n",
    "\n",
    "        out = torch.bmm(attn, v)\n",
    "\n",
    "        return out"
   ]
  },
  {
   "cell_type": "code",
   "execution_count": 30,
   "metadata": {
    "execution": {
     "iopub.execute_input": "2025-06-25T02:27:33.699732Z",
     "iopub.status.busy": "2025-06-25T02:27:33.699101Z",
     "iopub.status.idle": "2025-06-25T02:27:33.730486Z",
     "shell.execute_reply": "2025-06-25T02:27:33.729865Z",
     "shell.execute_reply.started": "2025-06-25T02:27:33.699710Z"
    },
    "trusted": true
   },
   "outputs": [],
   "source": [
    "class SignedHeteroGNN(nn.Module):\n",
    "    def __init__(self,\n",
    "                 num_users: int,\n",
    "                 num_items: int,\n",
    "                 feedback_types: list,\n",
    "                 emb_dim: int = 32,\n",
    "                 hidden_dim: int = 16,\n",
    "                 heads: int = 2,\n",
    "                 dropout: float = 0.2):\n",
    "        super().__init__()\n",
    "        self.feedback_types = feedback_types\n",
    "        self.pos_types = ['implicit_positive', 'explicit_positive']\n",
    "        self.neg_types = ['implicit_negative', 'expliсit_negative']\n",
    "\n",
    "        self.user_emb = nn.Embedding(num_users, emb_dim)\n",
    "        self.item_emb = nn.Embedding(num_items + 1, emb_dim, padding_idx=0)\n",
    "        self.fb_emb   = nn.ModuleDict({\n",
    "            ft: nn.Embedding(num_users, emb_dim) for ft in feedback_types\n",
    "        })\n",
    "\n",
    "        conv1, conv2 = {}, {}\n",
    "        for ft in feedback_types:\n",
    "            # ft -> user\n",
    "            conv1[(ft, f'{ft}2user', 'user')] = GATConv(emb_dim, hidden_dim,\n",
    "                                                      heads=heads,\n",
    "                                                      add_self_loops=False)\n",
    "            conv2[(ft, f'{ft}2user', 'user')] = GATConv(hidden_dim*heads, emb_dim,\n",
    "                                                      heads=1,\n",
    "                                                      add_self_loops=False)\n",
    "            # ft -> item\n",
    "            conv1[(ft, f'{ft}2item', 'item')] = GATConv(emb_dim, hidden_dim,\n",
    "                                                       heads=heads,\n",
    "                                                       add_self_loops=False)\n",
    "            conv2[(ft, f'{ft}2item', 'item')] = GATConv(hidden_dim*heads, emb_dim,\n",
    "                                                       heads=1,\n",
    "                                                       add_self_loops=False)\n",
    "\n",
    "            # item -> ft\n",
    "            conv1[('item', f'item2{ft}', ft)] = GATConv(emb_dim, hidden_dim,\n",
    "                                                       heads=heads,\n",
    "                                                       add_self_loops=False)\n",
    "            conv2[('item', f'item2{ft}', ft)] = GATConv(hidden_dim*heads, emb_dim,\n",
    "                                                       heads=1,\n",
    "                                                       add_self_loops=False)\n",
    "\n",
    "        self.conv1 = HeteroConv(conv1, aggr='mean')\n",
    "        self.conv2 = HeteroConv(conv2, aggr='mean')\n",
    "\n",
    "        # LayerNorm и Dropout\n",
    "        types = ['user', 'item'] + feedback_types\n",
    "        self.norm1 = nn.ModuleDict({t: nn.LayerNorm(hidden_dim*heads) for t in types})\n",
    "        self.norm2 = nn.ModuleDict({t: nn.LayerNorm(emb_dim) for t in types})\n",
    "        self.dropout = nn.Dropout(dropout)\n",
    "\n",
    "    def forward(self, data):\n",
    "        x = {\n",
    "            'user': self.user_emb(data['user'].node_id),\n",
    "            'item': self.item_emb(data['item'].node_id)\n",
    "        }\n",
    "        for ft in self.feedback_types:\n",
    "            x[ft] = self.fb_emb[ft](data[ft].node_id)\n",
    "\n",
    "        h1 = self.conv1(x, data.edge_index_dict)\n",
    "        # print(h1.keys())\n",
    "        # Собираем позитивный и негативный вклад для user\n",
    "        pos_msgs = torch.zeros_like(h1['user'])\n",
    "        neg_msgs = torch.zeros_like(h1['user'])\n",
    "        for ft in self.pos_types:\n",
    "            pos_msgs += h1[ft]  \n",
    "        for ft in self.neg_types:\n",
    "            neg_msgs += h1[ft]\n",
    "\n",
    "        # signed-aggregation: attraction от pos, repulsion от neg\n",
    "        user_h1 = pos_msgs - neg_msgs\n",
    "        user_h1 = F.leaky_relu(self.norm1['user'](user_h1))\n",
    "        user_h1 = self.dropout(user_h1)\n",
    "\n",
    "        h1['user'] = user_h1\n",
    "\n",
    "        h2 = self.conv2(h1, data.edge_index_dict)\n",
    "        # print(h2.keys())\n",
    "        pos_msgs2, neg_msgs2 = 0, 0\n",
    "        for ft in self.pos_types:\n",
    "            pos_msgs2 += h2[ft]\n",
    "        for ft in self.neg_types:\n",
    "            neg_msgs2 += h2[ft]\n",
    "\n",
    "        user_h2 = pos_msgs2 - neg_msgs2\n",
    "        user_h2 = F.leaky_relu(self.norm2['user'](user_h2))\n",
    "\n",
    "        return user_h2"
   ]
  },
  {
   "cell_type": "code",
   "execution_count": 31,
   "metadata": {
    "execution": {
     "iopub.execute_input": "2025-06-25T02:27:33.731429Z",
     "iopub.status.busy": "2025-06-25T02:27:33.731192Z",
     "iopub.status.idle": "2025-06-25T02:27:33.750005Z",
     "shell.execute_reply": "2025-06-25T02:27:33.749476Z",
     "shell.execute_reply.started": "2025-06-25T02:27:33.731404Z"
    },
    "trusted": true
   },
   "outputs": [],
   "source": [
    "class Model(nn.Module):\n",
    "    def __init__(self,\n",
    "                 num_users: int,\n",
    "                 num_items: int,\n",
    "                 feedback_types: list,\n",
    "                 d_model: int = 32,\n",
    "                 n_head: int = 4,\n",
    "                 window_size: int = 50,\n",
    "                 decay: float = 1.0,\n",
    "                 dropout: float = 0.1,\n",
    "                 num_event_types: int = 2):\n",
    "        super().__init__()\n",
    "        # Static graph encoder\n",
    "        self.gnn = SignedHeteroGNN(num_users, num_items, feedback_types,\n",
    "                                   emb_dim=d_model, hidden_dim=d_model//2,\n",
    "                                   heads=2, dropout=dropout)\n",
    "        # Inlined THP sequence encoder\n",
    "        self.thp = THPEncoder(d_model=d_model,\n",
    "                              n_head=n_head,\n",
    "                              window_size=window_size,\n",
    "                              decay=decay,\n",
    "                              dropout=dropout)\n",
    "        # 3) Multi‐task heads:\n",
    "        #   a) ranking: produce updated user embedding\n",
    "        #   b) classification: predict next event type\n",
    "        self.event_classifier = nn.Linear(d_model, num_event_types)\n",
    "\n",
    "    def forward(self, data, seq_ids, seq_times, seq_mask, batch_users):\n",
    "        # Static graph embeddings\n",
    "        user_embs = self.gnn(data)          # [num_users, d_model]\n",
    "        # Sequence encoding\n",
    "        seq_item_emb = self.gnn.item_emb(seq_ids)  # [B, L, d_model]\n",
    "        attn_out = self.thp(seq_item_emb, seq_times, seq_mask)\n",
    "        seq_rep = attn_out[:, -1, :]        # [B, d_model]\n",
    "        # Get static user embeddings\n",
    "        gnn_rep = user_embs[batch_users]   # [B, d_model]\n",
    "        # Updated user embedding\n",
    "        updated_user_emb = seq_rep + gnn_rep\n",
    "        event_logits = self.event_classifier(seq_rep)\n",
    "        return updated_user_emb, event_logits"
   ]
  },
  {
   "cell_type": "code",
   "execution_count": 32,
   "metadata": {
    "execution": {
     "iopub.execute_input": "2025-06-25T02:27:33.750873Z",
     "iopub.status.busy": "2025-06-25T02:27:33.750679Z",
     "iopub.status.idle": "2025-06-25T02:27:33.776482Z",
     "shell.execute_reply": "2025-06-25T02:27:33.775951Z",
     "shell.execute_reply.started": "2025-06-25T02:27:33.750858Z"
    },
    "trusted": true
   },
   "outputs": [],
   "source": [
    "num_users = data['user'].node_id.shape[0]      \n",
    "num_items = data['item'].node_id.shape[0]      \n",
    "feedback_types = train['target'].unique().tolist()\n",
    "data.user_idx = data['user'].node_id\n",
    "d_model = hyperparameters['thp_dmodel']             \n",
    "n_head = hyperparameters['thp_n_head']          \n",
    "window_size = hyperparameters['thp_window_size']     \n",
    "decay = hyperparameters['thp_decay']         \n",
    "dropout = hyperparameters['thp_dropout']       "
   ]
  },
  {
   "cell_type": "code",
   "execution_count": 33,
   "metadata": {
    "execution": {
     "iopub.execute_input": "2025-06-25T02:27:33.777325Z",
     "iopub.status.busy": "2025-06-25T02:27:33.777124Z",
     "iopub.status.idle": "2025-06-25T02:27:34.505652Z",
     "shell.execute_reply": "2025-06-25T02:27:34.505048Z",
     "shell.execute_reply.started": "2025-06-25T02:27:33.777302Z"
    },
    "trusted": true
   },
   "outputs": [
    {
     "data": {
      "text/plain": [
       "torch.Size([22363, 64])"
      ]
     },
     "execution_count": 33,
     "metadata": {},
     "output_type": "execute_result"
    }
   ],
   "source": [
    "heterognn = SignedHeteroGNN(num_users, num_items, feedback_types,\n",
    "                            emb_dim=d_model, hidden_dim=d_model//2,\n",
    "                            heads=2, dropout=dropout)\n",
    "output = heterognn(data)\n",
    "output.shape"
   ]
  },
  {
   "cell_type": "code",
   "execution_count": 34,
   "metadata": {
    "execution": {
     "iopub.execute_input": "2025-06-25T02:27:34.507246Z",
     "iopub.status.busy": "2025-06-25T02:27:34.506483Z",
     "iopub.status.idle": "2025-06-25T02:27:34.583459Z",
     "shell.execute_reply": "2025-06-25T02:27:34.582894Z",
     "shell.execute_reply.started": "2025-06-25T02:27:34.507223Z"
    },
    "trusted": true
   },
   "outputs": [],
   "source": [
    "model = Model(\n",
    "    num_users=num_users,\n",
    "    num_items=num_items,\n",
    "    feedback_types=feedback_types,\n",
    "    d_model=d_model,\n",
    "    n_head=n_head,\n",
    "    window_size=window_size,\n",
    "    decay=decay,\n",
    "    dropout=dropout,\n",
    "    num_event_types=2\n",
    ")\n",
    "\n",
    "device = torch.device('cuda' if torch.cuda.is_available() else 'cpu')"
   ]
  },
  {
   "cell_type": "code",
   "execution_count": 35,
   "metadata": {
    "execution": {
     "iopub.execute_input": "2025-06-25T02:27:34.584399Z",
     "iopub.status.busy": "2025-06-25T02:27:34.584172Z",
     "iopub.status.idle": "2025-06-25T02:27:35.178241Z",
     "shell.execute_reply": "2025-06-25T02:27:35.177489Z",
     "shell.execute_reply.started": "2025-06-25T02:27:34.584383Z"
    },
    "trusted": true
   },
   "outputs": [
    {
     "name": "stdout",
     "output_type": "stream",
     "text": [
      "THPEncoder output shape: torch.Size([32, 101, 64])\n"
     ]
    }
   ],
   "source": [
    "B = 32\n",
    "seq_ids_batch   = seq_ids[:B]     # [B, L]\n",
    "seq_times_batch = seq_times[:B]   # [B, L]\n",
    "seq_mask_batch  = seq_mask[:B]    # [B, L]\n",
    "\n",
    "item_emb = model.gnn.item_emb \n",
    "d_model = item_emb.embedding_dim\n",
    "\n",
    "# Получаем seq_item_emb: [B, L, D]\n",
    "seq_item_emb = item_emb(seq_ids_batch)\n",
    "\n",
    "thp_encoder = THPEncoder(\n",
    "    d_model=d_model,\n",
    "    n_head=4,\n",
    "    window_size=50,\n",
    "    decay=1.0,\n",
    "    dropout=0.1\n",
    ")\n",
    "\n",
    "thp_encoder.to(device)\n",
    "seq_item_emb   = seq_item_emb.to(device)\n",
    "seq_times_batch= seq_times_batch.to(device)\n",
    "seq_mask_batch = seq_mask_batch.to(device)\n",
    "\n",
    "out = thp_encoder(\n",
    "    emb=seq_item_emb,\n",
    "    times=seq_times_batch,\n",
    "    mask=seq_mask_batch\n",
    ")\n",
    "\n",
    "print(\"THPEncoder output shape:\", out.shape)  # ожидаем [B, L, D]"
   ]
  },
  {
   "cell_type": "code",
   "execution_count": 36,
   "metadata": {
    "execution": {
     "iopub.execute_input": "2025-06-25T02:27:35.179275Z",
     "iopub.status.busy": "2025-06-25T02:27:35.179044Z",
     "iopub.status.idle": "2025-06-25T02:27:35.293885Z",
     "shell.execute_reply": "2025-06-25T02:27:35.293275Z",
     "shell.execute_reply.started": "2025-06-25T02:27:35.179249Z"
    },
    "trusted": true
   },
   "outputs": [
    {
     "name": "stdout",
     "output_type": "stream",
     "text": [
      "Updated user embeddings: torch.Size([32, 64]) torch.Size([32, 2])\n"
     ]
    }
   ],
   "source": [
    "B = 32\n",
    "batch_seq_ids   = seq_ids[:B].to(device)    # [B, L]\n",
    "batch_seq_times = seq_times[:B].to(device)  # [B, L]\n",
    "batch_seq_mask  = seq_mask[:B].to(device)   # [B, L]\n",
    "\n",
    "# data.user_idx = data['user'].node_id[:B]\n",
    "batch_users = data.user_idx[:B].to(device)\n",
    "model.to(device)\n",
    "data.to(device)\n",
    "\n",
    "updated_user_emb = model(\n",
    "    data=data,\n",
    "    seq_ids=batch_seq_ids,\n",
    "    seq_times=batch_seq_times,\n",
    "    seq_mask=batch_seq_mask,\n",
    "    batch_users=batch_users\n",
    ")  # [B, d_model]\n",
    "\n",
    "print(\"Updated user embeddings:\", updated_user_emb[0].shape, updated_user_emb[1].shape)"
   ]
  },
  {
   "cell_type": "code",
   "execution_count": 37,
   "metadata": {
    "execution": {
     "iopub.execute_input": "2025-06-25T02:27:35.294780Z",
     "iopub.status.busy": "2025-06-25T02:27:35.294543Z",
     "iopub.status.idle": "2025-06-25T02:27:35.301771Z",
     "shell.execute_reply": "2025-06-25T02:27:35.301111Z",
     "shell.execute_reply.started": "2025-06-25T02:27:35.294763Z"
    },
    "trusted": true
   },
   "outputs": [
    {
     "data": {
      "text/plain": [
       "(12095, 1, 12095)"
      ]
     },
     "execution_count": 37,
     "metadata": {},
     "output_type": "execute_result"
    }
   ],
   "source": [
    "train.item_id.nunique(), train.item_id.min(), train.item_id.max()"
   ]
  },
  {
   "cell_type": "code",
   "execution_count": 38,
   "metadata": {
    "execution": {
     "iopub.execute_input": "2025-06-25T02:27:35.302655Z",
     "iopub.status.busy": "2025-06-25T02:27:35.302436Z",
     "iopub.status.idle": "2025-06-25T02:27:35.315234Z",
     "shell.execute_reply": "2025-06-25T02:27:35.314478Z",
     "shell.execute_reply.started": "2025-06-25T02:27:35.302632Z"
    },
    "trusted": true
   },
   "outputs": [
    {
     "data": {
      "text/plain": [
       "Model(\n",
       "  (gnn): SignedHeteroGNN(\n",
       "    (user_emb): Embedding(22363, 64)\n",
       "    (item_emb): Embedding(12097, 64, padding_idx=0)\n",
       "    (fb_emb): ModuleDict(\n",
       "      (implicit_negative): Embedding(22363, 64)\n",
       "      (expliсit_negative): Embedding(22363, 64)\n",
       "      (explicit_positive): Embedding(22363, 64)\n",
       "      (implicit_positive): Embedding(22363, 64)\n",
       "    )\n",
       "    (conv1): HeteroConv(num_relations=12)\n",
       "    (conv2): HeteroConv(num_relations=12)\n",
       "    (norm1): ModuleDict(\n",
       "      (user): LayerNorm((64,), eps=1e-05, elementwise_affine=True)\n",
       "      (item): LayerNorm((64,), eps=1e-05, elementwise_affine=True)\n",
       "      (implicit_negative): LayerNorm((64,), eps=1e-05, elementwise_affine=True)\n",
       "      (expliсit_negative): LayerNorm((64,), eps=1e-05, elementwise_affine=True)\n",
       "      (explicit_positive): LayerNorm((64,), eps=1e-05, elementwise_affine=True)\n",
       "      (implicit_positive): LayerNorm((64,), eps=1e-05, elementwise_affine=True)\n",
       "    )\n",
       "    (norm2): ModuleDict(\n",
       "      (user): LayerNorm((64,), eps=1e-05, elementwise_affine=True)\n",
       "      (item): LayerNorm((64,), eps=1e-05, elementwise_affine=True)\n",
       "      (implicit_negative): LayerNorm((64,), eps=1e-05, elementwise_affine=True)\n",
       "      (expliсit_negative): LayerNorm((64,), eps=1e-05, elementwise_affine=True)\n",
       "      (explicit_positive): LayerNorm((64,), eps=1e-05, elementwise_affine=True)\n",
       "      (implicit_positive): LayerNorm((64,), eps=1e-05, elementwise_affine=True)\n",
       "    )\n",
       "    (dropout): Dropout(p=0.2, inplace=False)\n",
       "  )\n",
       "  (thp): THPEncoder(\n",
       "    (pos_emb): Embedding(101, 64)\n",
       "    (time_emb): Linear(in_features=1, out_features=64, bias=True)\n",
       "    (heads): ModuleList(\n",
       "      (0-3): 4 x _THPHead(\n",
       "        (linear_v): Linear(in_features=64, out_features=64, bias=False)\n",
       "        (dropout): Dropout(p=0.2, inplace=False)\n",
       "        (input_norm): LayerNorm((64,), eps=1e-05, elementwise_affine=True)\n",
       "      )\n",
       "    )\n",
       "    (ffn): Sequential(\n",
       "      (0): LayerNorm((64,), eps=1e-05, elementwise_affine=True)\n",
       "      (1): Linear(in_features=64, out_features=256, bias=True)\n",
       "      (2): ReLU()\n",
       "      (3): Linear(in_features=256, out_features=64, bias=True)\n",
       "      (4): Dropout(p=0.2, inplace=False)\n",
       "    )\n",
       "    (final_norm): LayerNorm((64,), eps=1e-05, elementwise_affine=True)\n",
       "  )\n",
       "  (event_classifier): Linear(in_features=64, out_features=2, bias=True)\n",
       ")"
      ]
     },
     "execution_count": 38,
     "metadata": {},
     "output_type": "execute_result"
    }
   ],
   "source": [
    "model"
   ]
  },
  {
   "cell_type": "code",
   "execution_count": 39,
   "metadata": {
    "execution": {
     "iopub.execute_input": "2025-06-25T02:27:35.316186Z",
     "iopub.status.busy": "2025-06-25T02:27:35.315965Z",
     "iopub.status.idle": "2025-06-25T02:27:35.643142Z",
     "shell.execute_reply": "2025-06-25T02:27:35.642381Z",
     "shell.execute_reply.started": "2025-06-25T02:27:35.316163Z"
    },
    "trusted": true
   },
   "outputs": [],
   "source": [
    "test_df = test[['user_id', 'item_id']]\n",
    "interactions = test_df.rename(columns={\n",
    "    'user_id': Columns.User,\n",
    "    'item_id': Columns.Item,\n",
    "})\n",
    "\n",
    "viewed_items = train.groupby(\"user_id\")[\"item_id\"].agg(set).to_dict()"
   ]
  },
  {
   "cell_type": "code",
   "execution_count": 40,
   "metadata": {
    "execution": {
     "iopub.execute_input": "2025-06-25T02:27:35.644256Z",
     "iopub.status.busy": "2025-06-25T02:27:35.644000Z",
     "iopub.status.idle": "2025-06-25T02:27:36.389117Z",
     "shell.execute_reply": "2025-06-25T02:27:36.388324Z",
     "shell.execute_reply.started": "2025-06-25T02:27:35.644234Z"
    },
    "trusted": true
   },
   "outputs": [],
   "source": [
    "user2lists = {ft: defaultdict(list) for ft in feedback_types}\n",
    "\n",
    "for ft, sub in train.groupby('target'):\n",
    "    mapping = sub.groupby('user_id')['item_id'].apply(list)\n",
    "    for u, items in mapping.items():\n",
    "        user2lists[ft][u] = items\n",
    "\n",
    "user2explicit_pos = user2lists['explicit_positive']\n",
    "user2implicit_pos = user2lists['implicit_positive']\n",
    "user2explicit_neg = user2lists['expliсit_negative']\n",
    "user2implicit_neg = user2lists['implicit_negative']\n",
    "all_items_set = set(train.item_id)"
   ]
  },
  {
   "cell_type": "code",
   "execution_count": 41,
   "metadata": {
    "execution": {
     "iopub.execute_input": "2025-06-25T02:27:36.390177Z",
     "iopub.status.busy": "2025-06-25T02:27:36.389953Z",
     "iopub.status.idle": "2025-06-25T02:27:36.395486Z",
     "shell.execute_reply": "2025-06-25T02:27:36.394747Z",
     "shell.execute_reply.started": "2025-06-25T02:27:36.390160Z"
    },
    "trusted": true
   },
   "outputs": [
    {
     "data": {
      "text/plain": [
       "True"
      ]
     },
     "execution_count": 41,
     "metadata": {},
     "output_type": "execute_result"
    }
   ],
   "source": [
    "CLS_ID == model.gnn.item_emb.weight.shape[0] - 1"
   ]
  },
  {
   "cell_type": "code",
   "execution_count": 42,
   "metadata": {
    "execution": {
     "iopub.execute_input": "2025-06-25T02:27:36.396470Z",
     "iopub.status.busy": "2025-06-25T02:27:36.396260Z",
     "iopub.status.idle": "2025-06-25T02:27:36.416966Z",
     "shell.execute_reply": "2025-06-25T02:27:36.416277Z",
     "shell.execute_reply.started": "2025-06-25T02:27:36.396448Z"
    },
    "trusted": true
   },
   "outputs": [],
   "source": [
    "def evaluate(model, train_data, seq_train_data,\n",
    "             test_batch_size, top_k,\n",
    "             viewed_items, interactions,\n",
    "             device, test_step):\n",
    "    \"\"\"\n",
    "    Оцениваем модель по всем пользователям:\n",
    "    - строим топ-K рекомендации\n",
    "    - фильтруем уже просмотренные\n",
    "    - считаем recall@K, precision@K, map@K\n",
    "    \"\"\"\n",
    "    model.eval()\n",
    "    model.to(device)\n",
    "    seq_ids, event_type, seq_times, seq_mask = seq_train_data\n",
    "    num_users = seq_ids.size(0)\n",
    "    test_top_k = top_k * 150\n",
    "\n",
    "    item_emb = model.gnn.item_emb.weight\n",
    "    num_items = item_emb.shape[0]\n",
    "    item_emb_t = item_emb.t().detach()\n",
    "    del item_emb\n",
    "    gc.collect()\n",
    "\n",
    "    all_scores = []\n",
    "    with torch.no_grad():\n",
    "        for i in range(0, num_users, test_batch_size):\n",
    "            end = min(i + test_batch_size, num_users)\n",
    "            batch_users = torch.arange(i, end).to(device)\n",
    "            s_ids   = seq_ids[i:end].to(device)\n",
    "            s_times = seq_times[i:end].to(device)\n",
    "            s_mask  = seq_mask[i:end].to(device)\n",
    "            user_e, polar = model(\n",
    "                data=train_data.to(device),\n",
    "                seq_ids=s_ids,\n",
    "                seq_times=s_times,\n",
    "                seq_mask=s_mask,\n",
    "                batch_users=batch_users\n",
    "            )\n",
    "            rating = torch.mm(user_e.detach(), item_emb_t)\n",
    "            _, topk = torch.topk(rating, k=test_top_k, dim=1)\n",
    "            all_scores.append(topk)\n",
    "\n",
    "            del user_e, rating\n",
    "            gc.collect()\n",
    "    all_scores = torch.cat(all_scores, dim=0).cpu().numpy()\n",
    "\n",
    "    users_list, items, ranks = [], [], []\n",
    "    for u in range(num_users):\n",
    "        seen = viewed_items.get(u, set())\n",
    "        recs = all_scores[u]\n",
    "        mask = (\n",
    "            (~np.isin(recs, list(seen)))   \n",
    "            & (recs != 0)                  \n",
    "            & (recs != num_items - 1)     \n",
    "            )\n",
    "        filtered = recs[mask][:top_k]\n",
    "        for rank, it in enumerate(filtered, 1):\n",
    "            users_list.append(u)\n",
    "            items.append(int(it))\n",
    "            ranks.append(rank)\n",
    "    reco_df = pd.DataFrame({\n",
    "        'user_id': users_list,\n",
    "        'item_id': items,\n",
    "        'rank': ranks\n",
    "    })\n",
    "\n",
    "    metrics = {\n",
    "        f'map@{top_k}': MAP(k=top_k),\n",
    "        f'precision@{top_k}': Precision(k=top_k),\n",
    "        f'recall@{top_k}': Recall(k=top_k),\n",
    "        f'ndcg@{top_k}': NDCG(k=top_k)\n",
    "    }\n",
    "    results = calc_metrics(metrics=metrics,\n",
    "                           reco=reco_df,\n",
    "                           interactions=interactions)\n",
    "    print(f\"Step {test_step} — Test metrics:\")\n",
    "    for name, val in results.items():\n",
    "        print(f\"  {name}: {val:.9f}\")\n",
    "        experiment.log_metric(f\"Test {name} vs step\", val, step=test_step)\n",
    "    del all_scores\n",
    "    gc.collect()\n",
    "\n",
    "    model.to(device)\n",
    "    train_data.to(device)\n",
    "    model.train()\n",
    "    return results"
   ]
  },
  {
   "cell_type": "code",
   "execution_count": 43,
   "metadata": {
    "execution": {
     "iopub.execute_input": "2025-06-25T02:27:36.417898Z",
     "iopub.status.busy": "2025-06-25T02:27:36.417656Z",
     "iopub.status.idle": "2025-06-25T02:27:36.439858Z",
     "shell.execute_reply": "2025-06-25T02:27:36.439195Z",
     "shell.execute_reply.started": "2025-06-25T02:27:36.417876Z"
    },
    "trusted": true
   },
   "outputs": [],
   "source": [
    "def train_model(model,\n",
    "                train_data: HeteroData,\n",
    "                seq_train_data: tuple,\n",
    "                edge_type: tuple,\n",
    "                num_epochs: int = 10,\n",
    "                lr: float = 1e-3,\n",
    "                batch_size: int = 1024,\n",
    "                device: str = None,\n",
    "                print_every: int = 100,\n",
    "                test_every: int = 500,\n",
    "                top_k: int = 10,\n",
    "                test_batch_size=2048,\n",
    "                scheduler_step_size: int = 1,\n",
    "                scheduler_gamma: float = 0.9) -> Model:\n",
    "    seq_ids, event_type, seq_times, seq_mask = seq_train_data\n",
    "    device = device or ('cuda' if torch.cuda.is_available() else 'cpu')\n",
    "    model = model.to(device)\n",
    "    train_data = train_data.to(device)\n",
    "    \n",
    "    optimizer = torch.optim.Adam(model.parameters(), lr=lr)\n",
    "    scheduler = StepLR(optimizer, step_size=scheduler_step_size, gamma=scheduler_gamma)\n",
    "\n",
    "    if isinstance(edge_type, list):\n",
    "        src_list, dst_list = [], []\n",
    "        for et in edge_type:\n",
    "            # print(et, train_data[et])\n",
    "            s, d = train_data[et].edge_index\n",
    "            src_list.append(s)\n",
    "            dst_list.append(d)\n",
    "        src = torch.cat(src_list, dim=0)\n",
    "        dst = torch.cat(dst_list, dim=0)\n",
    "    else:\n",
    "        src, dst = train_data[edge_type].edge_index\n",
    "    \n",
    "    num_train = src.size(0)\n",
    "    test_top_k = top_k * 150\n",
    "    total_steps = 0\n",
    "    \n",
    "    print(f\"Num of training examples: {num_train}\")\n",
    "    for epoch in range(1, num_epochs + 1):\n",
    "        model.train()\n",
    "        perm = torch.randperm(num_train, device=device)\n",
    "        total_loss = 0.0\n",
    "        running_loss = 0.0\n",
    "        running_steps = 0\n",
    "        step = 0\n",
    "\n",
    "        for i in range(0, num_train, batch_size):\n",
    "            idx = perm[i:i + batch_size]\n",
    "            users = dst[idx]\n",
    "            cpu_users = users.to('cpu')\n",
    "\n",
    "            seq_ids_batch = seq_ids[cpu_users, :-1].to(device)\n",
    "            seq_times_batch = seq_times[cpu_users, :-1].to(device)\n",
    "            seq_mask_batch = seq_mask[cpu_users, :-1].to(device)\n",
    "            true_evt  = event_type[cpu_users, -1].to(device)\n",
    "            \n",
    "            pos_items = src[idx]\n",
    "            neg_items = torch.randint(1, model.gnn.item_emb.num_embeddings - 1,\n",
    "                                      size=pos_items.size(), device=device)\n",
    "            \n",
    "            optimizer.zero_grad()\n",
    "            user_embs, event_logits = model(data=train_data, \n",
    "                              seq_ids=seq_ids_batch,\n",
    "                              seq_times=seq_times_batch,\n",
    "                              seq_mask=seq_mask_batch,\n",
    "                              batch_users=users)\n",
    "            \n",
    "            pos_emb = model.gnn.item_emb(pos_items)\n",
    "            neg_emb = model.gnn.item_emb(neg_items)\n",
    "            pos_score = (user_embs * pos_emb).sum(dim=1)\n",
    "            neg_score = (user_embs * neg_emb).sum(dim=1)\n",
    "            diff = pos_score - neg_score\n",
    "            diff = torch.clamp(diff, -10.0, 10.0)\n",
    "            ce_loss = F.cross_entropy(event_logits, true_evt)\n",
    "            bpr_loss = -torch.log(torch.sigmoid(diff) + 1e-15).mean()\n",
    "\n",
    "            loss = bpr_loss + ce_loss\n",
    "            \n",
    "            nan_mask = torch.isnan(diff)            \n",
    "            if nan_mask.any():\n",
    "                idxs = torch.nonzero(nan_mask).squeeze()\n",
    "                print(f\"!!! FOUND {nan_mask.sum().item()} NaN(s) in diff at positions: {idxs.tolist()}\")\n",
    "\n",
    "            # with torch.autograd.detect_anomaly():\n",
    "            loss.backward()\n",
    "\n",
    "            torch.nn.utils.clip_grad_norm_(model.parameters(), max_norm=1.0)\n",
    "            optimizer.step()\n",
    "\n",
    "            total_loss += loss.item()\n",
    "            running_loss += loss.item()\n",
    "            running_steps += 1\n",
    "            step += 1\n",
    "\n",
    "            experiment.log_metric('Train Loss vs step', loss.item(), step=total_steps)\n",
    "            experiment.log_metric('Train CE Loss vs step', ce_loss.item(), step=total_steps)\n",
    "            experiment.log_metric('Train BPR Loss vs step', bpr_loss.item(), step=total_steps)\n",
    "            \n",
    "            if step % print_every == 0 or step == 1:\n",
    "                avg_loss = running_loss / running_steps\n",
    "                current_lr = optimizer.param_groups[0]['lr']\n",
    "                d = diff.detach().cpu()\n",
    "                print(f\"Epoch {epoch}, Step {step}, LR: {current_lr:.6f}, Current Loss: {loss.item():.4f}, Avg Loss: {avg_loss:.4f}\")\n",
    "                print(f\"Diff stats — min: {d.min():.4f}, max: {d.max():.4f}, mean: {d.mean():.4f}, std: {d.std():.4f}\")\n",
    "                print()\n",
    "\n",
    "                experiment.log_metric('Diff stats (mean) vs step', d.mean(), step=total_steps)\n",
    "                experiment.log_metric('Diff stats (std) vs step', d.std(), step=total_steps)\n",
    "\n",
    "            del user_embs, pos_emb, neg_emb, pos_score, neg_score,\\\n",
    "            seq_ids_batch, seq_times_batch, seq_mask_batch\n",
    "            gc.collect()\n",
    "            torch.cuda.empty_cache()\n",
    "\n",
    "            scheduler.step()\n",
    "            \n",
    "            if step % test_every == 0 or step == 1:\n",
    "                evaluate(model, train_data, seq_train_data,\n",
    "                         test_batch_size, top_k,\n",
    "                         viewed_items, interactions,\n",
    "                         device, test_step=total_steps)\n",
    "\n",
    "            total_steps += 1\n",
    "        epoch_loss = total_loss / num_train\n",
    "        experiment.log_metric(f'Train Loss vs epoch', epoch_loss, epoch=epoch)\n",
    "        print(f\"Epoch {epoch} completed, Train Loss: {epoch_loss:.6f}\")\n",
    "        print()\n",
    "    return model"
   ]
  },
  {
   "cell_type": "code",
   "execution_count": 44,
   "metadata": {
    "execution": {
     "iopub.execute_input": "2025-06-25T02:27:36.440980Z",
     "iopub.status.busy": "2025-06-25T02:27:36.440550Z",
     "iopub.status.idle": "2025-06-25T02:27:36.645473Z",
     "shell.execute_reply": "2025-06-25T02:27:36.644934Z",
     "shell.execute_reply.started": "2025-06-25T02:27:36.440957Z"
    },
    "trusted": true
   },
   "outputs": [],
   "source": [
    "experiment.log_parameters(hyperparameters)"
   ]
  },
  {
   "cell_type": "code",
   "execution_count": 45,
   "metadata": {
    "execution": {
     "iopub.execute_input": "2025-06-25T02:27:36.646373Z",
     "iopub.status.busy": "2025-06-25T02:27:36.646118Z",
     "iopub.status.idle": "2025-06-25T06:21:08.892527Z",
     "shell.execute_reply": "2025-06-25T06:21:08.891071Z",
     "shell.execute_reply.started": "2025-06-25T02:27:36.646351Z"
    },
    "trusted": true
   },
   "outputs": [
    {
     "name": "stdout",
     "output_type": "stream",
     "text": [
      "Num of training examples: 121468\n",
      "Epoch 1, Step 1, LR: 0.001000, Current Loss: 4.1872, Avg Loss: 4.1872\n",
      "Diff stats — min: -10.0000, max: 10.0000, mean: -0.1277, std: 7.8422\n",
      "\n"
     ]
    },
    {
     "name": "stderr",
     "output_type": "stream",
     "text": [
      "/usr/local/lib/python3.11/dist-packages/pandas/core/computation/expressions.py:73: RuntimeWarning: invalid value encountered in less_equal\n",
      "  return op(a, b)\n",
      "/usr/local/lib/python3.11/dist-packages/pandas/core/arraylike.py:399: RuntimeWarning: invalid value encountered in log\n",
      "  result = getattr(ufunc, method)(*inputs, **kwargs)\n"
     ]
    },
    {
     "name": "stdout",
     "output_type": "stream",
     "text": [
      "Step 0 — Test metrics:\n",
      "  precision@10: 0.000707214\n",
      "  recall@10: 0.000707214\n",
      "  ndcg@10: 0.000667966\n",
      "  map@10: 0.000184315\n",
      "Epoch 1, Step 20, LR: 0.001000, Current Loss: 3.7278, Avg Loss: 3.9556\n",
      "Diff stats — min: -10.0000, max: 10.0000, mean: 0.2302, std: 7.4539\n",
      "\n",
      "Epoch 1 completed, Train Loss: 0.000955\n",
      "\n",
      "Epoch 2, Step 1, LR: 0.001000, Current Loss: 3.6349, Avg Loss: 3.6349\n",
      "Diff stats — min: -10.0000, max: 10.0000, mean: 0.1760, std: 7.2283\n",
      "\n"
     ]
    },
    {
     "name": "stderr",
     "output_type": "stream",
     "text": [
      "/usr/local/lib/python3.11/dist-packages/pandas/core/computation/expressions.py:73: RuntimeWarning: invalid value encountered in less_equal\n",
      "  return op(a, b)\n",
      "/usr/local/lib/python3.11/dist-packages/pandas/core/arraylike.py:399: RuntimeWarning: invalid value encountered in log\n",
      "  result = getattr(ufunc, method)(*inputs, **kwargs)\n"
     ]
    },
    {
     "name": "stdout",
     "output_type": "stream",
     "text": [
      "Step 30 — Test metrics:\n",
      "  precision@10: 0.000707214\n",
      "  recall@10: 0.000707214\n",
      "  ndcg@10: 0.000698380\n",
      "  map@10: 0.000202791\n",
      "Epoch 2, Step 20, LR: 0.001000, Current Loss: 3.0731, Avg Loss: 3.3201\n",
      "Diff stats — min: -10.0000, max: 10.0000, mean: 0.6309, std: 6.5854\n",
      "\n",
      "Epoch 2 completed, Train Loss: 0.000797\n",
      "\n",
      "Epoch 3, Step 1, LR: 0.001000, Current Loss: 2.9512, Avg Loss: 2.9512\n",
      "Diff stats — min: -10.0000, max: 10.0000, mean: 0.5165, std: 6.2405\n",
      "\n"
     ]
    },
    {
     "name": "stderr",
     "output_type": "stream",
     "text": [
      "/usr/local/lib/python3.11/dist-packages/pandas/core/computation/expressions.py:73: RuntimeWarning: invalid value encountered in less_equal\n",
      "  return op(a, b)\n",
      "/usr/local/lib/python3.11/dist-packages/pandas/core/arraylike.py:399: RuntimeWarning: invalid value encountered in log\n",
      "  result = getattr(ufunc, method)(*inputs, **kwargs)\n"
     ]
    },
    {
     "name": "stdout",
     "output_type": "stream",
     "text": [
      "Step 60 — Test metrics:\n",
      "  precision@10: 0.000848656\n",
      "  recall@10: 0.000848656\n",
      "  ndcg@10: 0.000773701\n",
      "  map@10: 0.000205251\n",
      "Epoch 3, Step 20, LR: 0.001000, Current Loss: 2.7584, Avg Loss: 2.8280\n",
      "Diff stats — min: -10.0000, max: 10.0000, mean: 0.4952, std: 5.8292\n",
      "\n",
      "Epoch 3 completed, Train Loss: 0.000681\n",
      "\n",
      "Epoch 4, Step 1, LR: 0.001000, Current Loss: 2.6398, Avg Loss: 2.6398\n",
      "Diff stats — min: -10.0000, max: 10.0000, mean: 0.4877, std: 5.5537\n",
      "\n"
     ]
    },
    {
     "name": "stderr",
     "output_type": "stream",
     "text": [
      "/usr/local/lib/python3.11/dist-packages/pandas/core/computation/expressions.py:73: RuntimeWarning: invalid value encountered in less_equal\n",
      "  return op(a, b)\n",
      "/usr/local/lib/python3.11/dist-packages/pandas/core/arraylike.py:399: RuntimeWarning: invalid value encountered in log\n",
      "  result = getattr(ufunc, method)(*inputs, **kwargs)\n"
     ]
    },
    {
     "name": "stdout",
     "output_type": "stream",
     "text": [
      "Step 90 — Test metrics:\n",
      "  precision@10: 0.000730787\n",
      "  recall@10: 0.000730787\n",
      "  ndcg@10: 0.000645098\n",
      "  map@10: 0.000164708\n",
      "Epoch 4, Step 20, LR: 0.001000, Current Loss: 2.2991, Avg Loss: 2.4140\n",
      "Diff stats — min: -10.0000, max: 10.0000, mean: 0.7518, std: 4.9887\n",
      "\n",
      "Epoch 4 completed, Train Loss: 0.000583\n",
      "\n",
      "Epoch 5, Step 1, LR: 0.001000, Current Loss: 2.1716, Avg Loss: 2.1716\n",
      "Diff stats — min: -10.0000, max: 10.0000, mean: 0.6571, std: 4.6688\n",
      "\n"
     ]
    },
    {
     "name": "stderr",
     "output_type": "stream",
     "text": [
      "/usr/local/lib/python3.11/dist-packages/pandas/core/computation/expressions.py:73: RuntimeWarning: invalid value encountered in less_equal\n",
      "  return op(a, b)\n",
      "/usr/local/lib/python3.11/dist-packages/pandas/core/arraylike.py:399: RuntimeWarning: invalid value encountered in log\n",
      "  result = getattr(ufunc, method)(*inputs, **kwargs)\n"
     ]
    },
    {
     "name": "stdout",
     "output_type": "stream",
     "text": [
      "Step 120 — Test metrics:\n",
      "  precision@10: 0.000660066\n",
      "  recall@10: 0.000660066\n",
      "  ndcg@10: 0.000593893\n",
      "  map@10: 0.000153679\n",
      "Epoch 5, Step 20, LR: 0.001000, Current Loss: 1.9437, Avg Loss: 2.0827\n",
      "Diff stats — min: -10.0000, max: 10.0000, mean: 0.8213, std: 4.2449\n",
      "\n",
      "Epoch 5 completed, Train Loss: 0.000503\n",
      "\n",
      "Epoch 6, Step 1, LR: 0.000980, Current Loss: 1.8698, Avg Loss: 1.8698\n",
      "Diff stats — min: -10.0000, max: 10.0000, mean: 0.7764, std: 4.0553\n",
      "\n"
     ]
    },
    {
     "name": "stderr",
     "output_type": "stream",
     "text": [
      "/usr/local/lib/python3.11/dist-packages/pandas/core/computation/expressions.py:73: RuntimeWarning: invalid value encountered in less_equal\n",
      "  return op(a, b)\n",
      "/usr/local/lib/python3.11/dist-packages/pandas/core/arraylike.py:399: RuntimeWarning: invalid value encountered in log\n",
      "  result = getattr(ufunc, method)(*inputs, **kwargs)\n"
     ]
    },
    {
     "name": "stdout",
     "output_type": "stream",
     "text": [
      "Step 150 — Test metrics:\n",
      "  precision@10: 0.000730787\n",
      "  recall@10: 0.000730787\n",
      "  ndcg@10: 0.000620483\n",
      "  map@10: 0.000151312\n",
      "Epoch 6, Step 20, LR: 0.000980, Current Loss: 1.7106, Avg Loss: 1.8098\n",
      "Diff stats — min: -10.0000, max: 10.0000, mean: 0.7766, std: 3.5990\n",
      "\n",
      "Epoch 6 completed, Train Loss: 0.000439\n",
      "\n",
      "Epoch 7, Step 1, LR: 0.000980, Current Loss: 1.7020, Avg Loss: 1.7020\n",
      "Diff stats — min: -10.0000, max: 10.0000, mean: 0.7124, std: 3.4910\n",
      "\n"
     ]
    },
    {
     "name": "stderr",
     "output_type": "stream",
     "text": [
      "/usr/local/lib/python3.11/dist-packages/pandas/core/computation/expressions.py:73: RuntimeWarning: invalid value encountered in less_equal\n",
      "  return op(a, b)\n",
      "/usr/local/lib/python3.11/dist-packages/pandas/core/arraylike.py:399: RuntimeWarning: invalid value encountered in log\n",
      "  result = getattr(ufunc, method)(*inputs, **kwargs)\n"
     ]
    },
    {
     "name": "stdout",
     "output_type": "stream",
     "text": [
      "Step 180 — Test metrics:\n",
      "  precision@10: 0.000777935\n",
      "  recall@10: 0.000777935\n",
      "  ndcg@10: 0.000639816\n",
      "  map@10: 0.000151041\n",
      "Epoch 7, Step 20, LR: 0.000980, Current Loss: 1.5625, Avg Loss: 1.6104\n",
      "Diff stats — min: -10.0000, max: 10.0000, mean: 0.7122, std: 3.0614\n",
      "\n",
      "Epoch 7 completed, Train Loss: 0.000392\n",
      "\n",
      "Epoch 8, Step 1, LR: 0.000980, Current Loss: 1.4869, Avg Loss: 1.4869\n",
      "Diff stats — min: -10.0000, max: 10.0000, mean: 0.7641, std: 2.9010\n",
      "\n"
     ]
    },
    {
     "name": "stderr",
     "output_type": "stream",
     "text": [
      "/usr/local/lib/python3.11/dist-packages/pandas/core/computation/expressions.py:73: RuntimeWarning: invalid value encountered in less_equal\n",
      "  return op(a, b)\n",
      "/usr/local/lib/python3.11/dist-packages/pandas/core/arraylike.py:399: RuntimeWarning: invalid value encountered in log\n",
      "  result = getattr(ufunc, method)(*inputs, **kwargs)\n"
     ]
    },
    {
     "name": "stdout",
     "output_type": "stream",
     "text": [
      "Step 210 — Test metrics:\n",
      "  precision@10: 0.000683640\n",
      "  recall@10: 0.000683640\n",
      "  ndcg@10: 0.000567192\n",
      "  map@10: 0.000134558\n",
      "Epoch 8, Step 20, LR: 0.000980, Current Loss: 1.3868, Avg Loss: 1.4517\n",
      "Diff stats — min: -10.0000, max: 10.0000, mean: 0.6968, std: 2.5493\n",
      "\n",
      "Epoch 8 completed, Train Loss: 0.000355\n",
      "\n",
      "Epoch 9, Step 1, LR: 0.000980, Current Loss: 1.4101, Avg Loss: 1.4101\n",
      "Diff stats — min: -10.0000, max: 10.0000, mean: 0.6080, std: 2.4958\n",
      "\n"
     ]
    },
    {
     "name": "stderr",
     "output_type": "stream",
     "text": [
      "/usr/local/lib/python3.11/dist-packages/pandas/core/computation/expressions.py:73: RuntimeWarning: invalid value encountered in less_equal\n",
      "  return op(a, b)\n",
      "/usr/local/lib/python3.11/dist-packages/pandas/core/arraylike.py:399: RuntimeWarning: invalid value encountered in log\n",
      "  result = getattr(ufunc, method)(*inputs, **kwargs)\n"
     ]
    },
    {
     "name": "stdout",
     "output_type": "stream",
     "text": [
      "Step 240 — Test metrics:\n",
      "  precision@10: 0.000919378\n",
      "  recall@10: 0.000919378\n",
      "  ndcg@10: 0.000762711\n",
      "  map@10: 0.000182164\n",
      "Epoch 9, Step 20, LR: 0.000980, Current Loss: 1.3209, Avg Loss: 1.3422\n",
      "Diff stats — min: -9.3569, max: 9.0229, mean: 0.6218, std: 2.2004\n",
      "\n",
      "Epoch 9 completed, Train Loss: 0.000327\n",
      "\n",
      "Epoch 10, Step 1, LR: 0.000980, Current Loss: 1.2722, Avg Loss: 1.2722\n",
      "Diff stats — min: -7.2311, max: 10.0000, mean: 0.6501, std: 2.0819\n",
      "\n"
     ]
    },
    {
     "name": "stderr",
     "output_type": "stream",
     "text": [
      "/usr/local/lib/python3.11/dist-packages/pandas/core/computation/expressions.py:73: RuntimeWarning: invalid value encountered in less_equal\n",
      "  return op(a, b)\n",
      "/usr/local/lib/python3.11/dist-packages/pandas/core/arraylike.py:399: RuntimeWarning: invalid value encountered in log\n",
      "  result = getattr(ufunc, method)(*inputs, **kwargs)\n"
     ]
    },
    {
     "name": "stdout",
     "output_type": "stream",
     "text": [
      "Step 270 — Test metrics:\n",
      "  precision@10: 0.001060820\n",
      "  recall@10: 0.001060820\n",
      "  ndcg@10: 0.000888443\n",
      "  map@10: 0.000215672\n",
      "Epoch 10, Step 20, LR: 0.000980, Current Loss: 1.2225, Avg Loss: 1.2532\n",
      "Diff stats — min: -7.3946, max: 10.0000, mean: 0.6472, std: 1.9147\n",
      "\n",
      "Epoch 10 completed, Train Loss: 0.000307\n",
      "\n",
      "Epoch 11, Step 1, LR: 0.000960, Current Loss: 1.2013, Avg Loss: 1.2013\n",
      "Diff stats — min: -5.5875, max: 8.8759, mean: 0.6233, std: 1.8358\n",
      "\n"
     ]
    },
    {
     "name": "stderr",
     "output_type": "stream",
     "text": [
      "/usr/local/lib/python3.11/dist-packages/pandas/core/computation/expressions.py:73: RuntimeWarning: invalid value encountered in less_equal\n",
      "  return op(a, b)\n",
      "/usr/local/lib/python3.11/dist-packages/pandas/core/arraylike.py:399: RuntimeWarning: invalid value encountered in log\n",
      "  result = getattr(ufunc, method)(*inputs, **kwargs)\n"
     ]
    },
    {
     "name": "stdout",
     "output_type": "stream",
     "text": [
      "Step 300 — Test metrics:\n",
      "  precision@10: 0.001037247\n",
      "  recall@10: 0.001037247\n",
      "  ndcg@10: 0.000852799\n",
      "  map@10: 0.000201107\n",
      "Epoch 11, Step 20, LR: 0.000960, Current Loss: 1.1921, Avg Loss: 1.1966\n",
      "Diff stats — min: -6.7403, max: 8.7478, mean: 0.5697, std: 1.7196\n",
      "\n",
      "Epoch 11 completed, Train Loss: 0.000294\n",
      "\n",
      "Epoch 12, Step 1, LR: 0.000960, Current Loss: 1.1731, Avg Loss: 1.1731\n",
      "Diff stats — min: -6.1683, max: 8.2694, mean: 0.5675, std: 1.6379\n",
      "\n"
     ]
    },
    {
     "name": "stderr",
     "output_type": "stream",
     "text": [
      "/usr/local/lib/python3.11/dist-packages/pandas/core/computation/expressions.py:73: RuntimeWarning: invalid value encountered in less_equal\n",
      "  return op(a, b)\n",
      "/usr/local/lib/python3.11/dist-packages/pandas/core/arraylike.py:399: RuntimeWarning: invalid value encountered in log\n",
      "  result = getattr(ufunc, method)(*inputs, **kwargs)\n"
     ]
    },
    {
     "name": "stdout",
     "output_type": "stream",
     "text": [
      "Step 330 — Test metrics:\n",
      "  precision@10: 0.001225837\n",
      "  recall@10: 0.001225837\n",
      "  ndcg@10: 0.001085880\n",
      "  map@10: 0.000280565\n",
      "Epoch 12, Step 20, LR: 0.000960, Current Loss: 1.1378, Avg Loss: 1.1502\n",
      "Diff stats — min: -7.7283, max: 10.0000, mean: 0.5739, std: 1.5545\n",
      "\n",
      "Epoch 12 completed, Train Loss: 0.000283\n",
      "\n",
      "Epoch 13, Step 1, LR: 0.000960, Current Loss: 1.0950, Avg Loss: 1.0950\n",
      "Diff stats — min: -5.6657, max: 9.0721, mean: 0.5860, std: 1.4327\n",
      "\n"
     ]
    },
    {
     "name": "stderr",
     "output_type": "stream",
     "text": [
      "/usr/local/lib/python3.11/dist-packages/pandas/core/computation/expressions.py:73: RuntimeWarning: invalid value encountered in less_equal\n",
      "  return op(a, b)\n",
      "/usr/local/lib/python3.11/dist-packages/pandas/core/arraylike.py:399: RuntimeWarning: invalid value encountered in log\n",
      "  result = getattr(ufunc, method)(*inputs, **kwargs)\n"
     ]
    },
    {
     "name": "stdout",
     "output_type": "stream",
     "text": [
      "Step 360 — Test metrics:\n",
      "  precision@10: 0.001178689\n",
      "  recall@10: 0.001178689\n",
      "  ndcg@10: 0.001070874\n",
      "  map@10: 0.000283306\n",
      "Epoch 13, Step 20, LR: 0.000960, Current Loss: 1.1201, Avg Loss: 1.1201\n",
      "Diff stats — min: -5.5327, max: 10.0000, mean: 0.5626, std: 1.3983\n",
      "\n",
      "Epoch 13 completed, Train Loss: 0.000276\n",
      "\n",
      "Epoch 14, Step 1, LR: 0.000960, Current Loss: 1.1010, Avg Loss: 1.1010\n",
      "Diff stats — min: -8.4387, max: 7.5106, mean: 0.5729, std: 1.3633\n",
      "\n"
     ]
    },
    {
     "name": "stderr",
     "output_type": "stream",
     "text": [
      "/usr/local/lib/python3.11/dist-packages/pandas/core/computation/expressions.py:73: RuntimeWarning: invalid value encountered in less_equal\n",
      "  return op(a, b)\n",
      "/usr/local/lib/python3.11/dist-packages/pandas/core/arraylike.py:399: RuntimeWarning: invalid value encountered in log\n",
      "  result = getattr(ufunc, method)(*inputs, **kwargs)\n"
     ]
    },
    {
     "name": "stdout",
     "output_type": "stream",
     "text": [
      "Step 390 — Test metrics:\n",
      "  precision@10: 0.001343706\n",
      "  recall@10: 0.001343706\n",
      "  ndcg@10: 0.001260494\n",
      "  map@10: 0.000346797\n",
      "Epoch 14, Step 20, LR: 0.000960, Current Loss: 1.0807, Avg Loss: 1.1012\n",
      "Diff stats — min: -4.9027, max: 6.6631, mean: 0.5757, std: 1.2605\n",
      "\n",
      "Epoch 14 completed, Train Loss: 0.000271\n",
      "\n",
      "Epoch 15, Step 1, LR: 0.000960, Current Loss: 1.0877, Avg Loss: 1.0877\n",
      "Diff stats — min: -4.7454, max: 7.7185, mean: 0.5531, std: 1.2618\n",
      "\n"
     ]
    },
    {
     "name": "stderr",
     "output_type": "stream",
     "text": [
      "/usr/local/lib/python3.11/dist-packages/pandas/core/computation/expressions.py:73: RuntimeWarning: invalid value encountered in less_equal\n",
      "  return op(a, b)\n",
      "/usr/local/lib/python3.11/dist-packages/pandas/core/arraylike.py:399: RuntimeWarning: invalid value encountered in log\n",
      "  result = getattr(ufunc, method)(*inputs, **kwargs)\n"
     ]
    },
    {
     "name": "stdout",
     "output_type": "stream",
     "text": [
      "Step 420 — Test metrics:\n",
      "  precision@10: 0.001768034\n",
      "  recall@10: 0.001768034\n",
      "  ndcg@10: 0.001698455\n",
      "  map@10: 0.000484544\n",
      "Epoch 15, Step 20, LR: 0.000960, Current Loss: 1.0813, Avg Loss: 1.0833\n",
      "Diff stats — min: -6.3620, max: 5.4201, mean: 0.5346, std: 1.1951\n",
      "\n",
      "Epoch 15 completed, Train Loss: 0.000267\n",
      "\n",
      "Epoch 16, Step 1, LR: 0.000941, Current Loss: 1.0726, Avg Loss: 1.0726\n",
      "Diff stats — min: -4.8310, max: 8.7513, mean: 0.5397, std: 1.1827\n",
      "\n"
     ]
    },
    {
     "name": "stderr",
     "output_type": "stream",
     "text": [
      "/usr/local/lib/python3.11/dist-packages/pandas/core/computation/expressions.py:73: RuntimeWarning: invalid value encountered in less_equal\n",
      "  return op(a, b)\n",
      "/usr/local/lib/python3.11/dist-packages/pandas/core/arraylike.py:399: RuntimeWarning: invalid value encountered in log\n",
      "  result = getattr(ufunc, method)(*inputs, **kwargs)\n"
     ]
    },
    {
     "name": "stdout",
     "output_type": "stream",
     "text": [
      "Step 450 — Test metrics:\n",
      "  precision@10: 0.001791608\n",
      "  recall@10: 0.001791608\n",
      "  ndcg@10: 0.001759972\n",
      "  map@10: 0.000507201\n",
      "Epoch 16, Step 20, LR: 0.000941, Current Loss: 1.0609, Avg Loss: 1.0730\n",
      "Diff stats — min: -5.9939, max: 7.1317, mean: 0.5653, std: 1.1786\n",
      "\n",
      "Epoch 16 completed, Train Loss: 0.000265\n",
      "\n",
      "Epoch 17, Step 1, LR: 0.000941, Current Loss: 1.0466, Avg Loss: 1.0466\n",
      "Diff stats — min: -4.5274, max: 5.2581, mean: 0.5563, std: 1.1399\n",
      "\n"
     ]
    },
    {
     "name": "stderr",
     "output_type": "stream",
     "text": [
      "/usr/local/lib/python3.11/dist-packages/pandas/core/computation/expressions.py:73: RuntimeWarning: invalid value encountered in less_equal\n",
      "  return op(a, b)\n",
      "/usr/local/lib/python3.11/dist-packages/pandas/core/arraylike.py:399: RuntimeWarning: invalid value encountered in log\n",
      "  result = getattr(ufunc, method)(*inputs, **kwargs)\n"
     ]
    },
    {
     "name": "stdout",
     "output_type": "stream",
     "text": [
      "Step 480 — Test metrics:\n",
      "  precision@10: 0.002215936\n",
      "  recall@10: 0.002215936\n",
      "  ndcg@10: 0.002068822\n",
      "  map@10: 0.000570139\n",
      "Epoch 17, Step 20, LR: 0.000941, Current Loss: 1.0579, Avg Loss: 1.0651\n",
      "Diff stats — min: -5.2749, max: 5.2924, mean: 0.5727, std: 1.1190\n",
      "\n",
      "Epoch 17 completed, Train Loss: 0.000262\n",
      "\n",
      "Epoch 18, Step 1, LR: 0.000941, Current Loss: 1.0384, Avg Loss: 1.0384\n",
      "Diff stats — min: -5.0261, max: 9.3788, mean: 0.5685, std: 1.1411\n",
      "\n"
     ]
    },
    {
     "name": "stderr",
     "output_type": "stream",
     "text": [
      "/usr/local/lib/python3.11/dist-packages/pandas/core/computation/expressions.py:73: RuntimeWarning: invalid value encountered in less_equal\n",
      "  return op(a, b)\n",
      "/usr/local/lib/python3.11/dist-packages/pandas/core/arraylike.py:399: RuntimeWarning: invalid value encountered in log\n",
      "  result = getattr(ufunc, method)(*inputs, **kwargs)\n"
     ]
    },
    {
     "name": "stdout",
     "output_type": "stream",
     "text": [
      "Step 510 — Test metrics:\n",
      "  precision@10: 0.002263083\n",
      "  recall@10: 0.002263083\n",
      "  ndcg@10: 0.002159396\n",
      "  map@10: 0.000604733\n",
      "Epoch 18, Step 20, LR: 0.000941, Current Loss: 1.0636, Avg Loss: 1.0501\n",
      "Diff stats — min: -3.5510, max: 7.3363, mean: 0.5388, std: 1.1302\n",
      "\n",
      "Epoch 18 completed, Train Loss: 0.000259\n",
      "\n",
      "Epoch 19, Step 1, LR: 0.000941, Current Loss: 1.0463, Avg Loss: 1.0463\n",
      "Diff stats — min: -3.8249, max: 7.0441, mean: 0.5733, std: 1.1383\n",
      "\n"
     ]
    },
    {
     "name": "stderr",
     "output_type": "stream",
     "text": [
      "/usr/local/lib/python3.11/dist-packages/pandas/core/computation/expressions.py:73: RuntimeWarning: invalid value encountered in less_equal\n",
      "  return op(a, b)\n",
      "/usr/local/lib/python3.11/dist-packages/pandas/core/arraylike.py:399: RuntimeWarning: invalid value encountered in log\n",
      "  result = getattr(ufunc, method)(*inputs, **kwargs)\n"
     ]
    },
    {
     "name": "stdout",
     "output_type": "stream",
     "text": [
      "Step 540 — Test metrics:\n",
      "  precision@10: 0.002451674\n",
      "  recall@10: 0.002451674\n",
      "  ndcg@10: 0.002308496\n",
      "  map@10: 0.000639233\n",
      "Epoch 19, Step 20, LR: 0.000941, Current Loss: 1.0504, Avg Loss: 1.0456\n",
      "Diff stats — min: -4.4292, max: 9.8922, mean: 0.5652, std: 1.1313\n",
      "\n",
      "Epoch 19 completed, Train Loss: 0.000258\n",
      "\n",
      "Epoch 20, Step 1, LR: 0.000941, Current Loss: 1.0221, Avg Loss: 1.0221\n",
      "Diff stats — min: -4.0003, max: 8.0891, mean: 0.6219, std: 1.1377\n",
      "\n"
     ]
    },
    {
     "name": "stderr",
     "output_type": "stream",
     "text": [
      "/usr/local/lib/python3.11/dist-packages/pandas/core/computation/expressions.py:73: RuntimeWarning: invalid value encountered in less_equal\n",
      "  return op(a, b)\n",
      "/usr/local/lib/python3.11/dist-packages/pandas/core/arraylike.py:399: RuntimeWarning: invalid value encountered in log\n",
      "  result = getattr(ufunc, method)(*inputs, **kwargs)\n"
     ]
    },
    {
     "name": "stdout",
     "output_type": "stream",
     "text": [
      "Step 570 — Test metrics:\n",
      "  precision@10: 0.002687412\n",
      "  recall@10: 0.002687412\n",
      "  ndcg@10: 0.002613247\n",
      "  map@10: 0.000747345\n",
      "Epoch 20, Step 20, LR: 0.000941, Current Loss: 1.0252, Avg Loss: 1.0347\n",
      "Diff stats — min: -4.6829, max: 8.6058, mean: 0.6254, std: 1.1311\n",
      "\n",
      "Epoch 20 completed, Train Loss: 0.000256\n",
      "\n",
      "Epoch 21, Step 1, LR: 0.000922, Current Loss: 1.0296, Avg Loss: 1.0296\n",
      "Diff stats — min: -3.5696, max: 5.7810, mean: 0.6357, std: 1.1217\n",
      "\n"
     ]
    },
    {
     "name": "stderr",
     "output_type": "stream",
     "text": [
      "/usr/local/lib/python3.11/dist-packages/pandas/core/computation/expressions.py:73: RuntimeWarning: invalid value encountered in less_equal\n",
      "  return op(a, b)\n",
      "/usr/local/lib/python3.11/dist-packages/pandas/core/arraylike.py:399: RuntimeWarning: invalid value encountered in log\n",
      "  result = getattr(ufunc, method)(*inputs, **kwargs)\n"
     ]
    },
    {
     "name": "stdout",
     "output_type": "stream",
     "text": [
      "Step 600 — Test metrics:\n",
      "  precision@10: 0.002876002\n",
      "  recall@10: 0.002876002\n",
      "  ndcg@10: 0.002765894\n",
      "  map@10: 0.000792725\n",
      "Epoch 21, Step 20, LR: 0.000922, Current Loss: 1.0334, Avg Loss: 1.0281\n",
      "Diff stats — min: -3.0939, max: 8.0100, mean: 0.6510, std: 1.1618\n",
      "\n",
      "Epoch 21 completed, Train Loss: 0.000253\n",
      "\n",
      "Epoch 22, Step 1, LR: 0.000922, Current Loss: 1.0163, Avg Loss: 1.0163\n",
      "Diff stats — min: -5.2872, max: 5.1642, mean: 0.6501, std: 1.1453\n",
      "\n"
     ]
    },
    {
     "name": "stderr",
     "output_type": "stream",
     "text": [
      "/usr/local/lib/python3.11/dist-packages/pandas/core/computation/expressions.py:73: RuntimeWarning: invalid value encountered in less_equal\n",
      "  return op(a, b)\n",
      "/usr/local/lib/python3.11/dist-packages/pandas/core/arraylike.py:399: RuntimeWarning: invalid value encountered in log\n",
      "  result = getattr(ufunc, method)(*inputs, **kwargs)\n"
     ]
    },
    {
     "name": "stdout",
     "output_type": "stream",
     "text": [
      "Step 630 — Test metrics:\n",
      "  precision@10: 0.003017445\n",
      "  recall@10: 0.003017445\n",
      "  ndcg@10: 0.002893606\n",
      "  map@10: 0.000811210\n",
      "Epoch 22, Step 20, LR: 0.000922, Current Loss: 1.0251, Avg Loss: 1.0224\n",
      "Diff stats — min: -7.1398, max: 6.0009, mean: 0.6623, std: 1.1578\n",
      "\n",
      "Epoch 22 completed, Train Loss: 0.000252\n",
      "\n",
      "Epoch 23, Step 1, LR: 0.000922, Current Loss: 1.0240, Avg Loss: 1.0240\n",
      "Diff stats — min: -5.1371, max: 7.6358, mean: 0.6866, std: 1.1849\n",
      "\n"
     ]
    },
    {
     "name": "stderr",
     "output_type": "stream",
     "text": [
      "/usr/local/lib/python3.11/dist-packages/pandas/core/computation/expressions.py:73: RuntimeWarning: invalid value encountered in less_equal\n",
      "  return op(a, b)\n",
      "/usr/local/lib/python3.11/dist-packages/pandas/core/arraylike.py:399: RuntimeWarning: invalid value encountered in log\n",
      "  result = getattr(ufunc, method)(*inputs, **kwargs)\n"
     ]
    },
    {
     "name": "stdout",
     "output_type": "stream",
     "text": [
      "Step 660 — Test metrics:\n",
      "  precision@10: 0.003512494\n",
      "  recall@10: 0.003518388\n",
      "  ndcg@10: 0.003299471\n",
      "  map@10: 0.000908140\n",
      "Epoch 23, Step 20, LR: 0.000922, Current Loss: 1.0217, Avg Loss: 1.0150\n",
      "Diff stats — min: -3.7189, max: 6.9530, mean: 0.6972, std: 1.1924\n",
      "\n",
      "Epoch 23 completed, Train Loss: 0.000251\n",
      "\n",
      "Epoch 24, Step 1, LR: 0.000922, Current Loss: 0.9920, Avg Loss: 0.9920\n",
      "Diff stats — min: -6.8743, max: 8.0905, mean: 0.7175, std: 1.2097\n",
      "\n"
     ]
    },
    {
     "name": "stderr",
     "output_type": "stream",
     "text": [
      "/usr/local/lib/python3.11/dist-packages/pandas/core/computation/expressions.py:73: RuntimeWarning: invalid value encountered in less_equal\n",
      "  return op(a, b)\n",
      "/usr/local/lib/python3.11/dist-packages/pandas/core/arraylike.py:399: RuntimeWarning: invalid value encountered in log\n",
      "  result = getattr(ufunc, method)(*inputs, **kwargs)\n"
     ]
    },
    {
     "name": "stdout",
     "output_type": "stream",
     "text": [
      "Step 690 — Test metrics:\n",
      "  precision@10: 0.003771806\n",
      "  recall@10: 0.003777699\n",
      "  ndcg@10: 0.003537675\n",
      "  map@10: 0.000978387\n",
      "Epoch 24, Step 20, LR: 0.000922, Current Loss: 1.0145, Avg Loss: 1.0046\n",
      "Diff stats — min: -3.5822, max: 6.8701, mean: 0.7180, std: 1.2136\n",
      "\n",
      "Epoch 24 completed, Train Loss: 0.000248\n",
      "\n",
      "Epoch 25, Step 1, LR: 0.000922, Current Loss: 0.9998, Avg Loss: 0.9998\n",
      "Diff stats — min: -4.4778, max: 6.7420, mean: 0.7671, std: 1.2352\n",
      "\n"
     ]
    },
    {
     "name": "stderr",
     "output_type": "stream",
     "text": [
      "/usr/local/lib/python3.11/dist-packages/pandas/core/computation/expressions.py:73: RuntimeWarning: invalid value encountered in less_equal\n",
      "  return op(a, b)\n",
      "/usr/local/lib/python3.11/dist-packages/pandas/core/arraylike.py:399: RuntimeWarning: invalid value encountered in log\n",
      "  result = getattr(ufunc, method)(*inputs, **kwargs)\n"
     ]
    },
    {
     "name": "stdout",
     "output_type": "stream",
     "text": [
      "Step 720 — Test metrics:\n",
      "  precision@10: 0.003677511\n",
      "  recall@10: 0.003683404\n",
      "  ndcg@10: 0.003577900\n",
      "  map@10: 0.001028189\n",
      "Epoch 25, Step 20, LR: 0.000922, Current Loss: 1.0067, Avg Loss: 0.9987\n",
      "Diff stats — min: -4.3382, max: 6.6565, mean: 0.7810, std: 1.2330\n",
      "\n",
      "Epoch 25 completed, Train Loss: 0.000246\n",
      "\n",
      "Epoch 26, Step 1, LR: 0.000904, Current Loss: 0.9691, Avg Loss: 0.9691\n",
      "Diff stats — min: -3.4211, max: 9.1305, mean: 0.8395, std: 1.2484\n",
      "\n"
     ]
    },
    {
     "name": "stderr",
     "output_type": "stream",
     "text": [
      "/usr/local/lib/python3.11/dist-packages/pandas/core/computation/expressions.py:73: RuntimeWarning: invalid value encountered in less_equal\n",
      "  return op(a, b)\n",
      "/usr/local/lib/python3.11/dist-packages/pandas/core/arraylike.py:399: RuntimeWarning: invalid value encountered in log\n",
      "  result = getattr(ufunc, method)(*inputs, **kwargs)\n"
     ]
    },
    {
     "name": "stdout",
     "output_type": "stream",
     "text": [
      "Step 750 — Test metrics:\n",
      "  precision@10: 0.003913248\n",
      "  recall@10: 0.003919142\n",
      "  ndcg@10: 0.003776926\n",
      "  map@10: 0.001070117\n",
      "Epoch 26, Step 20, LR: 0.000904, Current Loss: 1.0078, Avg Loss: 0.9916\n",
      "Diff stats — min: -4.0447, max: 8.8302, mean: 0.7863, std: 1.3041\n",
      "\n",
      "Epoch 26 completed, Train Loss: 0.000245\n",
      "\n",
      "Epoch 27, Step 1, LR: 0.000904, Current Loss: 1.0085, Avg Loss: 1.0085\n",
      "Diff stats — min: -4.5258, max: 6.0097, mean: 0.8140, std: 1.2797\n",
      "\n"
     ]
    },
    {
     "name": "stderr",
     "output_type": "stream",
     "text": [
      "/usr/local/lib/python3.11/dist-packages/pandas/core/computation/expressions.py:73: RuntimeWarning: invalid value encountered in less_equal\n",
      "  return op(a, b)\n",
      "/usr/local/lib/python3.11/dist-packages/pandas/core/arraylike.py:399: RuntimeWarning: invalid value encountered in log\n",
      "  result = getattr(ufunc, method)(*inputs, **kwargs)\n"
     ]
    },
    {
     "name": "stdout",
     "output_type": "stream",
     "text": [
      "Step 780 — Test metrics:\n",
      "  precision@10: 0.004054691\n",
      "  recall@10: 0.004060585\n",
      "  ndcg@10: 0.004046275\n",
      "  map@10: 0.001185715\n",
      "Epoch 27, Step 20, LR: 0.000904, Current Loss: 0.9791, Avg Loss: 0.9863\n",
      "Diff stats — min: -4.6165, max: 8.0889, mean: 0.8632, std: 1.3413\n",
      "\n",
      "Epoch 27 completed, Train Loss: 0.000243\n",
      "\n",
      "Epoch 28, Step 1, LR: 0.000904, Current Loss: 0.9834, Avg Loss: 0.9834\n",
      "Diff stats — min: -3.6103, max: 6.8086, mean: 0.8616, std: 1.3106\n",
      "\n"
     ]
    },
    {
     "name": "stderr",
     "output_type": "stream",
     "text": [
      "/usr/local/lib/python3.11/dist-packages/pandas/core/computation/expressions.py:73: RuntimeWarning: invalid value encountered in less_equal\n",
      "  return op(a, b)\n",
      "/usr/local/lib/python3.11/dist-packages/pandas/core/arraylike.py:399: RuntimeWarning: invalid value encountered in log\n",
      "  result = getattr(ufunc, method)(*inputs, **kwargs)\n"
     ]
    },
    {
     "name": "stdout",
     "output_type": "stream",
     "text": [
      "Step 810 — Test metrics:\n",
      "  precision@10: 0.004172560\n",
      "  recall@10: 0.004178454\n",
      "  ndcg@10: 0.004163180\n",
      "  map@10: 0.001223140\n",
      "Epoch 28, Step 20, LR: 0.000904, Current Loss: 0.9766, Avg Loss: 0.9739\n",
      "Diff stats — min: -3.6849, max: 8.8562, mean: 0.8962, std: 1.3239\n",
      "\n",
      "Epoch 28 completed, Train Loss: 0.000240\n",
      "\n",
      "Epoch 29, Step 1, LR: 0.000904, Current Loss: 0.9603, Avg Loss: 0.9603\n",
      "Diff stats — min: -6.4682, max: 7.6313, mean: 0.9267, std: 1.3938\n",
      "\n"
     ]
    },
    {
     "name": "stderr",
     "output_type": "stream",
     "text": [
      "/usr/local/lib/python3.11/dist-packages/pandas/core/computation/expressions.py:73: RuntimeWarning: invalid value encountered in less_equal\n",
      "  return op(a, b)\n",
      "/usr/local/lib/python3.11/dist-packages/pandas/core/arraylike.py:399: RuntimeWarning: invalid value encountered in log\n",
      "  result = getattr(ufunc, method)(*inputs, **kwargs)\n"
     ]
    },
    {
     "name": "stdout",
     "output_type": "stream",
     "text": [
      "Step 840 — Test metrics:\n",
      "  precision@10: 0.004526167\n",
      "  recall@10: 0.004532060\n",
      "  ndcg@10: 0.004351536\n",
      "  map@10: 0.001231917\n",
      "Epoch 29, Step 20, LR: 0.000904, Current Loss: 0.9709, Avg Loss: 0.9659\n",
      "Diff stats — min: -3.7237, max: 8.4427, mean: 0.9282, std: 1.3529\n",
      "\n",
      "Epoch 29 completed, Train Loss: 0.000239\n",
      "\n",
      "Epoch 30, Step 1, LR: 0.000904, Current Loss: 0.9552, Avg Loss: 0.9552\n",
      "Diff stats — min: -4.8692, max: 7.4945, mean: 0.9585, std: 1.3475\n",
      "\n"
     ]
    },
    {
     "name": "stderr",
     "output_type": "stream",
     "text": [
      "/usr/local/lib/python3.11/dist-packages/pandas/core/computation/expressions.py:73: RuntimeWarning: invalid value encountered in less_equal\n",
      "  return op(a, b)\n",
      "/usr/local/lib/python3.11/dist-packages/pandas/core/arraylike.py:399: RuntimeWarning: invalid value encountered in log\n",
      "  result = getattr(ufunc, method)(*inputs, **kwargs)\n"
     ]
    },
    {
     "name": "stdout",
     "output_type": "stream",
     "text": [
      "Step 870 — Test metrics:\n",
      "  precision@10: 0.004455446\n",
      "  recall@10: 0.004461339\n",
      "  ndcg@10: 0.004348188\n",
      "  map@10: 0.001250933\n",
      "Epoch 30, Step 20, LR: 0.000904, Current Loss: 0.9557, Avg Loss: 0.9584\n",
      "Diff stats — min: -4.6557, max: 9.4147, mean: 1.0223, std: 1.4591\n",
      "\n",
      "Epoch 30 completed, Train Loss: 0.000237\n",
      "\n",
      "Epoch 31, Step 1, LR: 0.000886, Current Loss: 0.9680, Avg Loss: 0.9680\n",
      "Diff stats — min: -3.7568, max: 7.9283, mean: 0.9956, std: 1.4319\n",
      "\n"
     ]
    },
    {
     "name": "stderr",
     "output_type": "stream",
     "text": [
      "/usr/local/lib/python3.11/dist-packages/pandas/core/computation/expressions.py:73: RuntimeWarning: invalid value encountered in less_equal\n",
      "  return op(a, b)\n",
      "/usr/local/lib/python3.11/dist-packages/pandas/core/arraylike.py:399: RuntimeWarning: invalid value encountered in log\n",
      "  result = getattr(ufunc, method)(*inputs, **kwargs)\n"
     ]
    },
    {
     "name": "stdout",
     "output_type": "stream",
     "text": [
      "Step 900 — Test metrics:\n",
      "  precision@10: 0.004644036\n",
      "  recall@10: 0.004649929\n",
      "  ndcg@10: 0.004475756\n",
      "  map@10: 0.001279474\n",
      "Epoch 31, Step 20, LR: 0.000886, Current Loss: 0.9445, Avg Loss: 0.9515\n",
      "Diff stats — min: -4.5678, max: 7.9831, mean: 1.0811, std: 1.4544\n",
      "\n",
      "Epoch 31 completed, Train Loss: 0.000235\n",
      "\n",
      "Epoch 32, Step 1, LR: 0.000886, Current Loss: 0.9507, Avg Loss: 0.9507\n",
      "Diff stats — min: -4.2083, max: 10.0000, mean: 1.0331, std: 1.4536\n",
      "\n"
     ]
    },
    {
     "name": "stderr",
     "output_type": "stream",
     "text": [
      "/usr/local/lib/python3.11/dist-packages/pandas/core/computation/expressions.py:73: RuntimeWarning: invalid value encountered in less_equal\n",
      "  return op(a, b)\n",
      "/usr/local/lib/python3.11/dist-packages/pandas/core/arraylike.py:399: RuntimeWarning: invalid value encountered in log\n",
      "  result = getattr(ufunc, method)(*inputs, **kwargs)\n"
     ]
    },
    {
     "name": "stdout",
     "output_type": "stream",
     "text": [
      "Step 930 — Test metrics:\n",
      "  precision@10: 0.005021216\n",
      "  recall@10: 0.005027110\n",
      "  ndcg@10: 0.004943357\n",
      "  map@10: 0.001437847\n",
      "Epoch 32, Step 20, LR: 0.000886, Current Loss: 0.9133, Avg Loss: 0.9466\n",
      "Diff stats — min: -4.4950, max: 7.6998, mean: 1.1100, std: 1.4670\n",
      "\n",
      "Epoch 32 completed, Train Loss: 0.000233\n",
      "\n",
      "Epoch 33, Step 1, LR: 0.000886, Current Loss: 0.9212, Avg Loss: 0.9212\n",
      "Diff stats — min: -3.6738, max: 9.4173, mean: 1.1449, std: 1.4755\n",
      "\n"
     ]
    },
    {
     "name": "stderr",
     "output_type": "stream",
     "text": [
      "/usr/local/lib/python3.11/dist-packages/pandas/core/computation/expressions.py:73: RuntimeWarning: invalid value encountered in less_equal\n",
      "  return op(a, b)\n",
      "/usr/local/lib/python3.11/dist-packages/pandas/core/arraylike.py:399: RuntimeWarning: invalid value encountered in log\n",
      "  result = getattr(ufunc, method)(*inputs, **kwargs)\n"
     ]
    },
    {
     "name": "stdout",
     "output_type": "stream",
     "text": [
      "Step 960 — Test metrics:\n",
      "  precision@10: 0.004809052\n",
      "  recall@10: 0.004814946\n",
      "  ndcg@10: 0.004780961\n",
      "  map@10: 0.001404490\n",
      "Epoch 33, Step 20, LR: 0.000886, Current Loss: 0.9282, Avg Loss: 0.9341\n",
      "Diff stats — min: -4.1709, max: 10.0000, mean: 1.1304, std: 1.5201\n",
      "\n",
      "Epoch 33 completed, Train Loss: 0.000231\n",
      "\n",
      "Epoch 34, Step 1, LR: 0.000886, Current Loss: 0.9391, Avg Loss: 0.9391\n",
      "Diff stats — min: -4.0311, max: 9.6932, mean: 1.1398, std: 1.5598\n",
      "\n"
     ]
    },
    {
     "name": "stderr",
     "output_type": "stream",
     "text": [
      "/usr/local/lib/python3.11/dist-packages/pandas/core/computation/expressions.py:73: RuntimeWarning: invalid value encountered in less_equal\n",
      "  return op(a, b)\n",
      "/usr/local/lib/python3.11/dist-packages/pandas/core/arraylike.py:399: RuntimeWarning: invalid value encountered in log\n",
      "  result = getattr(ufunc, method)(*inputs, **kwargs)\n"
     ]
    },
    {
     "name": "stdout",
     "output_type": "stream",
     "text": [
      "Step 990 — Test metrics:\n",
      "  precision@10: 0.005280528\n",
      "  recall@10: 0.005289041\n",
      "  ndcg@10: 0.005112632\n",
      "  map@10: 0.001466935\n",
      "Epoch 34, Step 20, LR: 0.000886, Current Loss: 0.9179, Avg Loss: 0.9303\n",
      "Diff stats — min: -3.9496, max: 10.0000, mean: 1.2074, std: 1.5283\n",
      "\n",
      "Epoch 34 completed, Train Loss: 0.000229\n",
      "\n",
      "Epoch 35, Step 1, LR: 0.000886, Current Loss: 0.9199, Avg Loss: 0.9199\n",
      "Diff stats — min: -4.3238, max: 8.8879, mean: 1.2565, std: 1.5640\n",
      "\n"
     ]
    },
    {
     "name": "stderr",
     "output_type": "stream",
     "text": [
      "/usr/local/lib/python3.11/dist-packages/pandas/core/computation/expressions.py:73: RuntimeWarning: invalid value encountered in less_equal\n",
      "  return op(a, b)\n",
      "/usr/local/lib/python3.11/dist-packages/pandas/core/arraylike.py:399: RuntimeWarning: invalid value encountered in log\n",
      "  result = getattr(ufunc, method)(*inputs, **kwargs)\n"
     ]
    },
    {
     "name": "stdout",
     "output_type": "stream",
     "text": [
      "Step 1020 — Test metrics:\n",
      "  precision@10: 0.004997643\n",
      "  recall@10: 0.005003536\n",
      "  ndcg@10: 0.004785435\n",
      "  map@10: 0.001359019\n",
      "Epoch 35, Step 20, LR: 0.000886, Current Loss: 0.9291, Avg Loss: 0.9207\n",
      "Diff stats — min: -4.9366, max: 10.0000, mean: 1.2562, std: 1.5954\n",
      "\n",
      "Epoch 35 completed, Train Loss: 0.000228\n",
      "\n",
      "Epoch 36, Step 1, LR: 0.000868, Current Loss: 0.9105, Avg Loss: 0.9105\n",
      "Diff stats — min: -3.8807, max: 10.0000, mean: 1.2475, std: 1.6066\n",
      "\n"
     ]
    },
    {
     "name": "stderr",
     "output_type": "stream",
     "text": [
      "/usr/local/lib/python3.11/dist-packages/pandas/core/computation/expressions.py:73: RuntimeWarning: invalid value encountered in less_equal\n",
      "  return op(a, b)\n",
      "/usr/local/lib/python3.11/dist-packages/pandas/core/arraylike.py:399: RuntimeWarning: invalid value encountered in log\n",
      "  result = getattr(ufunc, method)(*inputs, **kwargs)\n"
     ]
    },
    {
     "name": "stdout",
     "output_type": "stream",
     "text": [
      "Step 1050 — Test metrics:\n",
      "  precision@10: 0.005091938\n",
      "  recall@10: 0.005097831\n",
      "  ndcg@10: 0.005083242\n",
      "  map@10: 0.001510759\n",
      "Epoch 36, Step 20, LR: 0.000868, Current Loss: 0.9195, Avg Loss: 0.9169\n",
      "Diff stats — min: -3.8797, max: 10.0000, mean: 1.2657, std: 1.6526\n",
      "\n",
      "Epoch 36 completed, Train Loss: 0.000225\n",
      "\n",
      "Epoch 37, Step 1, LR: 0.000868, Current Loss: 0.8985, Avg Loss: 0.8985\n",
      "Diff stats — min: -4.8698, max: 10.0000, mean: 1.3432, std: 1.6580\n",
      "\n"
     ]
    },
    {
     "name": "stderr",
     "output_type": "stream",
     "text": [
      "/usr/local/lib/python3.11/dist-packages/pandas/core/computation/expressions.py:73: RuntimeWarning: invalid value encountered in less_equal\n",
      "  return op(a, b)\n",
      "/usr/local/lib/python3.11/dist-packages/pandas/core/arraylike.py:399: RuntimeWarning: invalid value encountered in log\n",
      "  result = getattr(ufunc, method)(*inputs, **kwargs)\n"
     ]
    },
    {
     "name": "stdout",
     "output_type": "stream",
     "text": [
      "Step 1080 — Test metrics:\n",
      "  precision@10: 0.005068364\n",
      "  recall@10: 0.005074257\n",
      "  ndcg@10: 0.005098570\n",
      "  map@10: 0.001523631\n",
      "Epoch 37, Step 20, LR: 0.000868, Current Loss: 0.8978, Avg Loss: 0.9051\n",
      "Diff stats — min: -4.3217, max: 10.0000, mean: 1.3615, std: 1.6471\n",
      "\n",
      "Epoch 37 completed, Train Loss: 0.000223\n",
      "\n",
      "Epoch 38, Step 1, LR: 0.000868, Current Loss: 0.8952, Avg Loss: 0.8952\n",
      "Diff stats — min: -4.2068, max: 10.0000, mean: 1.3966, std: 1.6538\n",
      "\n"
     ]
    },
    {
     "name": "stderr",
     "output_type": "stream",
     "text": [
      "/usr/local/lib/python3.11/dist-packages/pandas/core/computation/expressions.py:73: RuntimeWarning: invalid value encountered in less_equal\n",
      "  return op(a, b)\n",
      "/usr/local/lib/python3.11/dist-packages/pandas/core/arraylike.py:399: RuntimeWarning: invalid value encountered in log\n",
      "  result = getattr(ufunc, method)(*inputs, **kwargs)\n"
     ]
    },
    {
     "name": "stdout",
     "output_type": "stream",
     "text": [
      "Step 1110 — Test metrics:\n",
      "  precision@10: 0.005186233\n",
      "  recall@10: 0.005192126\n",
      "  ndcg@10: 0.005138135\n",
      "  map@10: 0.001521781\n",
      "Epoch 38, Step 20, LR: 0.000868, Current Loss: 0.9017, Avg Loss: 0.8979\n",
      "Diff stats — min: -5.2779, max: 9.5579, mean: 1.4022, std: 1.6992\n",
      "\n",
      "Epoch 38 completed, Train Loss: 0.000222\n",
      "\n",
      "Epoch 39, Step 1, LR: 0.000868, Current Loss: 0.8996, Avg Loss: 0.8996\n",
      "Diff stats — min: -4.4328, max: 10.0000, mean: 1.4009, std: 1.7054\n",
      "\n"
     ]
    },
    {
     "name": "stderr",
     "output_type": "stream",
     "text": [
      "/usr/local/lib/python3.11/dist-packages/pandas/core/computation/expressions.py:73: RuntimeWarning: invalid value encountered in less_equal\n",
      "  return op(a, b)\n",
      "/usr/local/lib/python3.11/dist-packages/pandas/core/arraylike.py:399: RuntimeWarning: invalid value encountered in log\n",
      "  result = getattr(ufunc, method)(*inputs, **kwargs)\n"
     ]
    },
    {
     "name": "stdout",
     "output_type": "stream",
     "text": [
      "Step 1140 — Test metrics:\n",
      "  precision@10: 0.005398397\n",
      "  recall@10: 0.005404290\n",
      "  ndcg@10: 0.005291346\n",
      "  map@10: 0.001544289\n",
      "Epoch 39, Step 20, LR: 0.000868, Current Loss: 0.9068, Avg Loss: 0.8960\n",
      "Diff stats — min: -4.4547, max: 10.0000, mean: 1.4154, std: 1.7537\n",
      "\n",
      "Epoch 39 completed, Train Loss: 0.000221\n",
      "\n",
      "Epoch 40, Step 1, LR: 0.000868, Current Loss: 0.8752, Avg Loss: 0.8752\n",
      "Diff stats — min: -4.9888, max: 10.0000, mean: 1.4940, std: 1.7505\n",
      "\n"
     ]
    },
    {
     "name": "stderr",
     "output_type": "stream",
     "text": [
      "/usr/local/lib/python3.11/dist-packages/pandas/core/computation/expressions.py:73: RuntimeWarning: invalid value encountered in less_equal\n",
      "  return op(a, b)\n",
      "/usr/local/lib/python3.11/dist-packages/pandas/core/arraylike.py:399: RuntimeWarning: invalid value encountered in log\n",
      "  result = getattr(ufunc, method)(*inputs, **kwargs)\n"
     ]
    },
    {
     "name": "stdout",
     "output_type": "stream",
     "text": [
      "Step 1170 — Test metrics:\n",
      "  precision@10: 0.005563413\n",
      "  recall@10: 0.005569307\n",
      "  ndcg@10: 0.005188065\n",
      "  map@10: 0.001442386\n",
      "Epoch 40, Step 20, LR: 0.000868, Current Loss: 0.8755, Avg Loss: 0.8839\n",
      "Diff stats — min: -4.9355, max: 9.9737, mean: 1.5396, std: 1.7595\n",
      "\n",
      "Epoch 40 completed, Train Loss: 0.000219\n",
      "\n",
      "Epoch 41, Step 1, LR: 0.000851, Current Loss: 0.8927, Avg Loss: 0.8927\n",
      "Diff stats — min: -3.9202, max: 10.0000, mean: 1.4955, std: 1.7481\n",
      "\n"
     ]
    },
    {
     "name": "stderr",
     "output_type": "stream",
     "text": [
      "/usr/local/lib/python3.11/dist-packages/pandas/core/computation/expressions.py:73: RuntimeWarning: invalid value encountered in less_equal\n",
      "  return op(a, b)\n",
      "/usr/local/lib/python3.11/dist-packages/pandas/core/arraylike.py:399: RuntimeWarning: invalid value encountered in log\n",
      "  result = getattr(ufunc, method)(*inputs, **kwargs)\n"
     ]
    },
    {
     "name": "stdout",
     "output_type": "stream",
     "text": [
      "Step 1200 — Test metrics:\n",
      "  precision@10: 0.005657709\n",
      "  recall@10: 0.005663602\n",
      "  ndcg@10: 0.005345425\n",
      "  map@10: 0.001507647\n",
      "Epoch 41, Step 20, LR: 0.000851, Current Loss: 0.8458, Avg Loss: 0.8743\n",
      "Diff stats — min: -4.7540, max: 10.0000, mean: 1.5970, std: 1.7876\n",
      "\n",
      "Epoch 41 completed, Train Loss: 0.000216\n",
      "\n",
      "Epoch 42, Step 1, LR: 0.000851, Current Loss: 0.8648, Avg Loss: 0.8648\n",
      "Diff stats — min: -4.0994, max: 10.0000, mean: 1.6200, std: 1.7849\n",
      "\n"
     ]
    },
    {
     "name": "stderr",
     "output_type": "stream",
     "text": [
      "/usr/local/lib/python3.11/dist-packages/pandas/core/computation/expressions.py:73: RuntimeWarning: invalid value encountered in less_equal\n",
      "  return op(a, b)\n",
      "/usr/local/lib/python3.11/dist-packages/pandas/core/arraylike.py:399: RuntimeWarning: invalid value encountered in log\n",
      "  result = getattr(ufunc, method)(*inputs, **kwargs)\n"
     ]
    },
    {
     "name": "stdout",
     "output_type": "stream",
     "text": [
      "Step 1230 — Test metrics:\n",
      "  precision@10: 0.005256954\n",
      "  recall@10: 0.005262848\n",
      "  ndcg@10: 0.005119807\n",
      "  map@10: 0.001481276\n",
      "Epoch 42, Step 20, LR: 0.000851, Current Loss: 0.8990, Avg Loss: 0.8700\n",
      "Diff stats — min: -4.2958, max: 10.0000, mean: 1.6054, std: 1.8726\n",
      "\n",
      "Epoch 42 completed, Train Loss: 0.000215\n",
      "\n",
      "Epoch 43, Step 1, LR: 0.000851, Current Loss: 0.8943, Avg Loss: 0.8943\n",
      "Diff stats — min: -5.6663, max: 10.0000, mean: 1.5640, std: 1.8421\n",
      "\n"
     ]
    },
    {
     "name": "stderr",
     "output_type": "stream",
     "text": [
      "/usr/local/lib/python3.11/dist-packages/pandas/core/computation/expressions.py:73: RuntimeWarning: invalid value encountered in less_equal\n",
      "  return op(a, b)\n",
      "/usr/local/lib/python3.11/dist-packages/pandas/core/arraylike.py:399: RuntimeWarning: invalid value encountered in log\n",
      "  result = getattr(ufunc, method)(*inputs, **kwargs)\n"
     ]
    },
    {
     "name": "stdout",
     "output_type": "stream",
     "text": [
      "Step 1260 — Test metrics:\n",
      "  precision@10: 0.005822725\n",
      "  recall@10: 0.005828619\n",
      "  ndcg@10: 0.005510715\n",
      "  map@10: 0.001556291\n",
      "Epoch 43, Step 20, LR: 0.000851, Current Loss: 0.8535, Avg Loss: 0.8601\n",
      "Diff stats — min: -4.0872, max: 10.0000, mean: 1.7114, std: 1.8723\n",
      "\n",
      "Epoch 43 completed, Train Loss: 0.000213\n",
      "\n",
      "Epoch 44, Step 1, LR: 0.000851, Current Loss: 0.8595, Avg Loss: 0.8595\n",
      "Diff stats — min: -4.0209, max: 10.0000, mean: 1.7372, std: 1.8962\n",
      "\n"
     ]
    },
    {
     "name": "stderr",
     "output_type": "stream",
     "text": [
      "/usr/local/lib/python3.11/dist-packages/pandas/core/computation/expressions.py:73: RuntimeWarning: invalid value encountered in less_equal\n",
      "  return op(a, b)\n",
      "/usr/local/lib/python3.11/dist-packages/pandas/core/arraylike.py:399: RuntimeWarning: invalid value encountered in log\n",
      "  result = getattr(ufunc, method)(*inputs, **kwargs)\n"
     ]
    },
    {
     "name": "stdout",
     "output_type": "stream",
     "text": [
      "Step 1290 — Test metrics:\n",
      "  precision@10: 0.005421971\n",
      "  recall@10: 0.005427864\n",
      "  ndcg@10: 0.005348090\n",
      "  map@10: 0.001570482\n",
      "Epoch 44, Step 20, LR: 0.000851, Current Loss: 0.8333, Avg Loss: 0.8565\n",
      "Diff stats — min: -4.9363, max: 10.0000, mean: 1.7345, std: 1.8971\n",
      "\n",
      "Epoch 44 completed, Train Loss: 0.000211\n",
      "\n",
      "Epoch 45, Step 1, LR: 0.000851, Current Loss: 0.8503, Avg Loss: 0.8503\n",
      "Diff stats — min: -5.0066, max: 10.0000, mean: 1.7695, std: 1.9404\n",
      "\n"
     ]
    },
    {
     "name": "stderr",
     "output_type": "stream",
     "text": [
      "/usr/local/lib/python3.11/dist-packages/pandas/core/computation/expressions.py:73: RuntimeWarning: invalid value encountered in less_equal\n",
      "  return op(a, b)\n",
      "/usr/local/lib/python3.11/dist-packages/pandas/core/arraylike.py:399: RuntimeWarning: invalid value encountered in log\n",
      "  result = getattr(ufunc, method)(*inputs, **kwargs)\n"
     ]
    },
    {
     "name": "stdout",
     "output_type": "stream",
     "text": [
      "Step 1320 — Test metrics:\n",
      "  precision@10: 0.005822725\n",
      "  recall@10: 0.005828619\n",
      "  ndcg@10: 0.005804882\n",
      "  map@10: 0.001720353\n",
      "Epoch 45, Step 20, LR: 0.000851, Current Loss: 0.8447, Avg Loss: 0.8474\n",
      "Diff stats — min: -4.6846, max: 10.0000, mean: 1.8128, std: 1.9253\n",
      "\n",
      "Epoch 45 completed, Train Loss: 0.000210\n",
      "\n",
      "Epoch 46, Step 1, LR: 0.000834, Current Loss: 0.8131, Avg Loss: 0.8131\n",
      "Diff stats — min: -4.5570, max: 10.0000, mean: 1.8767, std: 1.9352\n",
      "\n"
     ]
    },
    {
     "name": "stderr",
     "output_type": "stream",
     "text": [
      "/usr/local/lib/python3.11/dist-packages/pandas/core/computation/expressions.py:73: RuntimeWarning: invalid value encountered in less_equal\n",
      "  return op(a, b)\n",
      "/usr/local/lib/python3.11/dist-packages/pandas/core/arraylike.py:399: RuntimeWarning: invalid value encountered in log\n",
      "  result = getattr(ufunc, method)(*inputs, **kwargs)\n"
     ]
    },
    {
     "name": "stdout",
     "output_type": "stream",
     "text": [
      "Step 1350 — Test metrics:\n",
      "  precision@10: 0.005869873\n",
      "  recall@10: 0.005875766\n",
      "  ndcg@10: 0.005756431\n",
      "  map@10: 0.001688283\n",
      "Epoch 46, Step 20, LR: 0.000834, Current Loss: 0.8421, Avg Loss: 0.8425\n",
      "Diff stats — min: -5.1627, max: 10.0000, mean: 1.8702, std: 1.9891\n",
      "\n",
      "Epoch 46 completed, Train Loss: 0.000208\n",
      "\n",
      "Epoch 47, Step 1, LR: 0.000834, Current Loss: 0.8467, Avg Loss: 0.8467\n",
      "Diff stats — min: -5.5027, max: 10.0000, mean: 1.8553, std: 2.0311\n",
      "\n"
     ]
    },
    {
     "name": "stderr",
     "output_type": "stream",
     "text": [
      "/usr/local/lib/python3.11/dist-packages/pandas/core/computation/expressions.py:73: RuntimeWarning: invalid value encountered in less_equal\n",
      "  return op(a, b)\n",
      "/usr/local/lib/python3.11/dist-packages/pandas/core/arraylike.py:399: RuntimeWarning: invalid value encountered in log\n",
      "  result = getattr(ufunc, method)(*inputs, **kwargs)\n"
     ]
    },
    {
     "name": "stdout",
     "output_type": "stream",
     "text": [
      "Step 1380 — Test metrics:\n",
      "  precision@10: 0.005822725\n",
      "  recall@10: 0.005838722\n",
      "  ndcg@10: 0.005600524\n",
      "  map@10: 0.001606048\n",
      "Epoch 47, Step 20, LR: 0.000834, Current Loss: 0.8463, Avg Loss: 0.8355\n",
      "Diff stats — min: -5.1861, max: 10.0000, mean: 1.8632, std: 1.9535\n",
      "\n",
      "Epoch 47 completed, Train Loss: 0.000207\n",
      "\n",
      "Epoch 48, Step 1, LR: 0.000834, Current Loss: 0.8416, Avg Loss: 0.8416\n",
      "Diff stats — min: -6.2630, max: 10.0000, mean: 1.8947, std: 2.0290\n",
      "\n"
     ]
    },
    {
     "name": "stderr",
     "output_type": "stream",
     "text": [
      "/usr/local/lib/python3.11/dist-packages/pandas/core/computation/expressions.py:73: RuntimeWarning: invalid value encountered in less_equal\n",
      "  return op(a, b)\n",
      "/usr/local/lib/python3.11/dist-packages/pandas/core/arraylike.py:399: RuntimeWarning: invalid value encountered in log\n",
      "  result = getattr(ufunc, method)(*inputs, **kwargs)\n"
     ]
    },
    {
     "name": "stdout",
     "output_type": "stream",
     "text": [
      "Step 1410 — Test metrics:\n",
      "  precision@10: 0.005917020\n",
      "  recall@10: 0.005925533\n",
      "  ndcg@10: 0.005872738\n",
      "  map@10: 0.001740791\n",
      "Epoch 48, Step 20, LR: 0.000834, Current Loss: 0.8230, Avg Loss: 0.8317\n",
      "Diff stats — min: -6.6357, max: 10.0000, mean: 1.9663, std: 2.0540\n",
      "\n",
      "Epoch 48 completed, Train Loss: 0.000205\n",
      "\n",
      "Epoch 49, Step 1, LR: 0.000834, Current Loss: 0.8210, Avg Loss: 0.8210\n",
      "Diff stats — min: -5.6938, max: 10.0000, mean: 1.9737, std: 2.0197\n",
      "\n"
     ]
    },
    {
     "name": "stderr",
     "output_type": "stream",
     "text": [
      "/usr/local/lib/python3.11/dist-packages/pandas/core/computation/expressions.py:73: RuntimeWarning: invalid value encountered in less_equal\n",
      "  return op(a, b)\n",
      "/usr/local/lib/python3.11/dist-packages/pandas/core/arraylike.py:399: RuntimeWarning: invalid value encountered in log\n",
      "  result = getattr(ufunc, method)(*inputs, **kwargs)\n"
     ]
    },
    {
     "name": "stdout",
     "output_type": "stream",
     "text": [
      "Step 1440 — Test metrics:\n",
      "  precision@10: 0.006223479\n",
      "  recall@10: 0.006239476\n",
      "  ndcg@10: 0.006230199\n",
      "  map@10: 0.001869345\n",
      "Epoch 49, Step 20, LR: 0.000834, Current Loss: 0.8203, Avg Loss: 0.8236\n",
      "Diff stats — min: -5.6394, max: 10.0000, mean: 2.0811, std: 2.0990\n",
      "\n",
      "Epoch 49 completed, Train Loss: 0.000204\n",
      "\n",
      "Epoch 50, Step 1, LR: 0.000834, Current Loss: 0.8205, Avg Loss: 0.8205\n",
      "Diff stats — min: -5.2544, max: 10.0000, mean: 2.0171, std: 2.0327\n",
      "\n"
     ]
    },
    {
     "name": "stderr",
     "output_type": "stream",
     "text": [
      "/usr/local/lib/python3.11/dist-packages/pandas/core/computation/expressions.py:73: RuntimeWarning: invalid value encountered in less_equal\n",
      "  return op(a, b)\n",
      "/usr/local/lib/python3.11/dist-packages/pandas/core/arraylike.py:399: RuntimeWarning: invalid value encountered in log\n",
      "  result = getattr(ufunc, method)(*inputs, **kwargs)\n"
     ]
    },
    {
     "name": "stdout",
     "output_type": "stream",
     "text": [
      "Step 1470 — Test metrics:\n",
      "  precision@10: 0.005869873\n",
      "  recall@10: 0.005875766\n",
      "  ndcg@10: 0.005948539\n",
      "  map@10: 0.001792150\n",
      "Epoch 50, Step 20, LR: 0.000834, Current Loss: 0.8059, Avg Loss: 0.8151\n",
      "Diff stats — min: -4.2662, max: 10.0000, mean: 2.1070, std: 2.1055\n",
      "\n",
      "Epoch 50 completed, Train Loss: 0.000201\n",
      "\n",
      "Epoch 51, Step 1, LR: 0.000817, Current Loss: 0.8050, Avg Loss: 0.8050\n",
      "Diff stats — min: -5.8087, max: 10.0000, mean: 2.1348, std: 2.1135\n",
      "\n"
     ]
    },
    {
     "name": "stderr",
     "output_type": "stream",
     "text": [
      "/usr/local/lib/python3.11/dist-packages/pandas/core/computation/expressions.py:73: RuntimeWarning: invalid value encountered in less_equal\n",
      "  return op(a, b)\n",
      "/usr/local/lib/python3.11/dist-packages/pandas/core/arraylike.py:399: RuntimeWarning: invalid value encountered in log\n",
      "  result = getattr(ufunc, method)(*inputs, **kwargs)\n"
     ]
    },
    {
     "name": "stdout",
     "output_type": "stream",
     "text": [
      "Step 1500 — Test metrics:\n",
      "  precision@10: 0.005987742\n",
      "  recall@10: 0.005996254\n",
      "  ndcg@10: 0.005947559\n",
      "  map@10: 0.001766966\n",
      "Epoch 51, Step 20, LR: 0.000817, Current Loss: 0.8018, Avg Loss: 0.8105\n",
      "Diff stats — min: -4.5934, max: 10.0000, mean: 2.1251, std: 2.1110\n",
      "\n",
      "Epoch 51 completed, Train Loss: 0.000200\n",
      "\n",
      "Epoch 52, Step 1, LR: 0.000817, Current Loss: 0.8149, Avg Loss: 0.8149\n",
      "Diff stats — min: -4.8839, max: 10.0000, mean: 2.1667, std: 2.1731\n",
      "\n"
     ]
    },
    {
     "name": "stderr",
     "output_type": "stream",
     "text": [
      "/usr/local/lib/python3.11/dist-packages/pandas/core/computation/expressions.py:73: RuntimeWarning: invalid value encountered in less_equal\n",
      "  return op(a, b)\n",
      "/usr/local/lib/python3.11/dist-packages/pandas/core/arraylike.py:399: RuntimeWarning: invalid value encountered in log\n",
      "  result = getattr(ufunc, method)(*inputs, **kwargs)\n"
     ]
    },
    {
     "name": "stdout",
     "output_type": "stream",
     "text": [
      "Step 1530 — Test metrics:\n",
      "  precision@10: 0.006270627\n",
      "  recall@10: 0.006291862\n",
      "  ndcg@10: 0.006110693\n",
      "  map@10: 0.001790560\n",
      "Epoch 52, Step 20, LR: 0.000817, Current Loss: 0.8085, Avg Loss: 0.8075\n",
      "Diff stats — min: -4.7408, max: 10.0000, mean: 2.1976, std: 2.1960\n",
      "\n",
      "Epoch 52 completed, Train Loss: 0.000199\n",
      "\n",
      "Epoch 53, Step 1, LR: 0.000817, Current Loss: 0.8024, Avg Loss: 0.8024\n",
      "Diff stats — min: -5.9300, max: 10.0000, mean: 2.2712, std: 2.2604\n",
      "\n"
     ]
    },
    {
     "name": "stderr",
     "output_type": "stream",
     "text": [
      "/usr/local/lib/python3.11/dist-packages/pandas/core/computation/expressions.py:73: RuntimeWarning: invalid value encountered in less_equal\n",
      "  return op(a, b)\n",
      "/usr/local/lib/python3.11/dist-packages/pandas/core/arraylike.py:399: RuntimeWarning: invalid value encountered in log\n",
      "  result = getattr(ufunc, method)(*inputs, **kwargs)\n"
     ]
    },
    {
     "name": "stdout",
     "output_type": "stream",
     "text": [
      "Step 1560 — Test metrics:\n",
      "  precision@10: 0.005964168\n",
      "  recall@10: 0.005982784\n",
      "  ndcg@10: 0.005974973\n",
      "  map@10: 0.001783815\n",
      "Epoch 53, Step 20, LR: 0.000817, Current Loss: 0.7798, Avg Loss: 0.8000\n",
      "Diff stats — min: -6.5723, max: 10.0000, mean: 2.2327, std: 2.1236\n",
      "\n",
      "Epoch 53 completed, Train Loss: 0.000198\n",
      "\n",
      "Epoch 54, Step 1, LR: 0.000817, Current Loss: 0.7816, Avg Loss: 0.7816\n",
      "Diff stats — min: -7.0535, max: 10.0000, mean: 2.2966, std: 2.2157\n",
      "\n"
     ]
    },
    {
     "name": "stderr",
     "output_type": "stream",
     "text": [
      "/usr/local/lib/python3.11/dist-packages/pandas/core/computation/expressions.py:73: RuntimeWarning: invalid value encountered in less_equal\n",
      "  return op(a, b)\n",
      "/usr/local/lib/python3.11/dist-packages/pandas/core/arraylike.py:399: RuntimeWarning: invalid value encountered in log\n",
      "  result = getattr(ufunc, method)(*inputs, **kwargs)\n"
     ]
    },
    {
     "name": "stdout",
     "output_type": "stream",
     "text": [
      "Step 1590 — Test metrics:\n",
      "  precision@10: 0.005893446\n",
      "  recall@10: 0.005912062\n",
      "  ndcg@10: 0.005791542\n",
      "  map@10: 0.001697211\n",
      "Epoch 54, Step 20, LR: 0.000817, Current Loss: 0.7970, Avg Loss: 0.7928\n",
      "Diff stats — min: -6.2033, max: 10.0000, mean: 2.3005, std: 2.2414\n",
      "\n",
      "Epoch 54 completed, Train Loss: 0.000196\n",
      "\n",
      "Epoch 55, Step 1, LR: 0.000817, Current Loss: 0.7624, Avg Loss: 0.7624\n",
      "Diff stats — min: -4.7176, max: 10.0000, mean: 2.3757, std: 2.2272\n",
      "\n"
     ]
    },
    {
     "name": "stderr",
     "output_type": "stream",
     "text": [
      "/usr/local/lib/python3.11/dist-packages/pandas/core/computation/expressions.py:73: RuntimeWarning: invalid value encountered in less_equal\n",
      "  return op(a, b)\n",
      "/usr/local/lib/python3.11/dist-packages/pandas/core/arraylike.py:399: RuntimeWarning: invalid value encountered in log\n",
      "  result = getattr(ufunc, method)(*inputs, **kwargs)\n"
     ]
    },
    {
     "name": "stdout",
     "output_type": "stream",
     "text": [
      "Step 1620 — Test metrics:\n",
      "  precision@10: 0.006152758\n",
      "  recall@10: 0.006161271\n",
      "  ndcg@10: 0.006123420\n",
      "  map@10: 0.001823114\n",
      "Epoch 55, Step 20, LR: 0.000817, Current Loss: 0.8049, Avg Loss: 0.7868\n",
      "Diff stats — min: -7.3593, max: 10.0000, mean: 2.3878, std: 2.3224\n",
      "\n",
      "Epoch 55 completed, Train Loss: 0.000194\n",
      "\n",
      "Epoch 56, Step 1, LR: 0.000801, Current Loss: 0.7777, Avg Loss: 0.7777\n",
      "Diff stats — min: -4.7715, max: 10.0000, mean: 2.4236, std: 2.2391\n",
      "\n"
     ]
    },
    {
     "name": "stderr",
     "output_type": "stream",
     "text": [
      "/usr/local/lib/python3.11/dist-packages/pandas/core/computation/expressions.py:73: RuntimeWarning: invalid value encountered in less_equal\n",
      "  return op(a, b)\n",
      "/usr/local/lib/python3.11/dist-packages/pandas/core/arraylike.py:399: RuntimeWarning: invalid value encountered in log\n",
      "  result = getattr(ufunc, method)(*inputs, **kwargs)\n"
     ]
    },
    {
     "name": "stdout",
     "output_type": "stream",
     "text": [
      "Step 1650 — Test metrics:\n",
      "  precision@10: 0.006317775\n",
      "  recall@10: 0.006336390\n",
      "  ndcg@10: 0.006150693\n",
      "  map@10: 0.001788399\n",
      "Epoch 56, Step 20, LR: 0.000801, Current Loss: 0.7756, Avg Loss: 0.7829\n",
      "Diff stats — min: -6.3487, max: 10.0000, mean: 2.4621, std: 2.3110\n",
      "\n",
      "Epoch 56 completed, Train Loss: 0.000193\n",
      "\n",
      "Epoch 57, Step 1, LR: 0.000801, Current Loss: 0.7927, Avg Loss: 0.7927\n",
      "Diff stats — min: -4.9237, max: 10.0000, mean: 2.4667, std: 2.2952\n",
      "\n"
     ]
    },
    {
     "name": "stderr",
     "output_type": "stream",
     "text": [
      "/usr/local/lib/python3.11/dist-packages/pandas/core/computation/expressions.py:73: RuntimeWarning: invalid value encountered in less_equal\n",
      "  return op(a, b)\n",
      "/usr/local/lib/python3.11/dist-packages/pandas/core/arraylike.py:399: RuntimeWarning: invalid value encountered in log\n",
      "  result = getattr(ufunc, method)(*inputs, **kwargs)\n"
     ]
    },
    {
     "name": "stdout",
     "output_type": "stream",
     "text": [
      "Step 1680 — Test metrics:\n",
      "  precision@10: 0.006341348\n",
      "  recall@10: 0.006359964\n",
      "  ndcg@10: 0.006342917\n",
      "  map@10: 0.001891592\n",
      "Epoch 57, Step 20, LR: 0.000801, Current Loss: 0.7628, Avg Loss: 0.7756\n",
      "Diff stats — min: -6.2290, max: 10.0000, mean: 2.4619, std: 2.2659\n",
      "\n",
      "Epoch 57 completed, Train Loss: 0.000192\n",
      "\n",
      "Epoch 58, Step 1, LR: 0.000801, Current Loss: 0.7743, Avg Loss: 0.7743\n",
      "Diff stats — min: -5.4036, max: 10.0000, mean: 2.5060, std: 2.3178\n",
      "\n"
     ]
    },
    {
     "name": "stderr",
     "output_type": "stream",
     "text": [
      "/usr/local/lib/python3.11/dist-packages/pandas/core/computation/expressions.py:73: RuntimeWarning: invalid value encountered in less_equal\n",
      "  return op(a, b)\n",
      "/usr/local/lib/python3.11/dist-packages/pandas/core/arraylike.py:399: RuntimeWarning: invalid value encountered in log\n",
      "  result = getattr(ufunc, method)(*inputs, **kwargs)\n"
     ]
    },
    {
     "name": "stdout",
     "output_type": "stream",
     "text": [
      "Step 1710 — Test metrics:\n",
      "  precision@10: 0.006270627\n",
      "  recall@10: 0.006279140\n",
      "  ndcg@10: 0.006088450\n",
      "  map@10: 0.001771541\n",
      "Epoch 58, Step 20, LR: 0.000801, Current Loss: 0.7744, Avg Loss: 0.7709\n",
      "Diff stats — min: -8.3962, max: 10.0000, mean: 2.5658, std: 2.3998\n",
      "\n",
      "Epoch 58 completed, Train Loss: 0.000191\n",
      "\n",
      "Epoch 59, Step 1, LR: 0.000801, Current Loss: 0.7612, Avg Loss: 0.7612\n",
      "Diff stats — min: -4.8704, max: 10.0000, mean: 2.6157, std: 2.3697\n",
      "\n"
     ]
    },
    {
     "name": "stderr",
     "output_type": "stream",
     "text": [
      "/usr/local/lib/python3.11/dist-packages/pandas/core/computation/expressions.py:73: RuntimeWarning: invalid value encountered in less_equal\n",
      "  return op(a, b)\n",
      "/usr/local/lib/python3.11/dist-packages/pandas/core/arraylike.py:399: RuntimeWarning: invalid value encountered in log\n",
      "  result = getattr(ufunc, method)(*inputs, **kwargs)\n"
     ]
    },
    {
     "name": "stdout",
     "output_type": "stream",
     "text": [
      "Step 1740 — Test metrics:\n",
      "  precision@10: 0.006223479\n",
      "  recall@10: 0.006231992\n",
      "  ndcg@10: 0.006301893\n",
      "  map@10: 0.001905620\n",
      "Epoch 59, Step 20, LR: 0.000801, Current Loss: 0.7704, Avg Loss: 0.7643\n",
      "Diff stats — min: -4.2945, max: 10.0000, mean: 2.6163, std: 2.3821\n",
      "\n",
      "Epoch 59 completed, Train Loss: 0.000189\n",
      "\n",
      "Epoch 60, Step 1, LR: 0.000801, Current Loss: 0.7714, Avg Loss: 0.7714\n",
      "Diff stats — min: -5.1188, max: 10.0000, mean: 2.6441, std: 2.4056\n",
      "\n"
     ]
    },
    {
     "name": "stderr",
     "output_type": "stream",
     "text": [
      "/usr/local/lib/python3.11/dist-packages/pandas/core/computation/expressions.py:73: RuntimeWarning: invalid value encountered in less_equal\n",
      "  return op(a, b)\n",
      "/usr/local/lib/python3.11/dist-packages/pandas/core/arraylike.py:399: RuntimeWarning: invalid value encountered in log\n",
      "  result = getattr(ufunc, method)(*inputs, **kwargs)\n"
     ]
    },
    {
     "name": "stdout",
     "output_type": "stream",
     "text": [
      "Step 1770 — Test metrics:\n",
      "  precision@10: 0.006364922\n",
      "  recall@10: 0.006386157\n",
      "  ndcg@10: 0.006283662\n",
      "  map@10: 0.001864450\n",
      "Epoch 60, Step 20, LR: 0.000801, Current Loss: 0.7518, Avg Loss: 0.7622\n",
      "Diff stats — min: -6.2959, max: 10.0000, mean: 2.7201, std: 2.4051\n",
      "\n",
      "Epoch 60 completed, Train Loss: 0.000188\n",
      "\n",
      "Epoch 61, Step 1, LR: 0.000785, Current Loss: 0.7435, Avg Loss: 0.7435\n",
      "Diff stats — min: -5.8349, max: 10.0000, mean: 2.6831, std: 2.3830\n",
      "\n"
     ]
    },
    {
     "name": "stderr",
     "output_type": "stream",
     "text": [
      "/usr/local/lib/python3.11/dist-packages/pandas/core/computation/expressions.py:73: RuntimeWarning: invalid value encountered in less_equal\n",
      "  return op(a, b)\n",
      "/usr/local/lib/python3.11/dist-packages/pandas/core/arraylike.py:399: RuntimeWarning: invalid value encountered in log\n",
      "  result = getattr(ufunc, method)(*inputs, **kwargs)\n"
     ]
    },
    {
     "name": "stdout",
     "output_type": "stream",
     "text": [
      "Step 1800 — Test metrics:\n",
      "  precision@10: 0.006294201\n",
      "  recall@10: 0.006302714\n",
      "  ndcg@10: 0.006300442\n",
      "  map@10: 0.001889213\n",
      "Epoch 61, Step 20, LR: 0.000785, Current Loss: 0.7651, Avg Loss: 0.7599\n",
      "Diff stats — min: -5.5211, max: 10.0000, mean: 2.7401, std: 2.4715\n",
      "\n",
      "Epoch 61 completed, Train Loss: 0.000188\n",
      "\n",
      "Epoch 62, Step 1, LR: 0.000785, Current Loss: 0.7398, Avg Loss: 0.7398\n",
      "Diff stats — min: -5.5629, max: 10.0000, mean: 2.7760, std: 2.4072\n",
      "\n"
     ]
    },
    {
     "name": "stderr",
     "output_type": "stream",
     "text": [
      "/usr/local/lib/python3.11/dist-packages/pandas/core/computation/expressions.py:73: RuntimeWarning: invalid value encountered in less_equal\n",
      "  return op(a, b)\n",
      "/usr/local/lib/python3.11/dist-packages/pandas/core/arraylike.py:399: RuntimeWarning: invalid value encountered in log\n",
      "  result = getattr(ufunc, method)(*inputs, **kwargs)\n"
     ]
    },
    {
     "name": "stdout",
     "output_type": "stream",
     "text": [
      "Step 1830 — Test metrics:\n",
      "  precision@10: 0.006270627\n",
      "  recall@10: 0.006289243\n",
      "  ndcg@10: 0.006202967\n",
      "  map@10: 0.001836339\n",
      "Epoch 62, Step 20, LR: 0.000785, Current Loss: 0.7449, Avg Loss: 0.7539\n",
      "Diff stats — min: -6.2920, max: 10.0000, mean: 2.7562, std: 2.4538\n",
      "\n",
      "Epoch 62 completed, Train Loss: 0.000186\n",
      "\n",
      "Epoch 63, Step 1, LR: 0.000785, Current Loss: 0.7541, Avg Loss: 0.7541\n",
      "Diff stats — min: -7.4771, max: 10.0000, mean: 2.7822, std: 2.4404\n",
      "\n"
     ]
    },
    {
     "name": "stderr",
     "output_type": "stream",
     "text": [
      "/usr/local/lib/python3.11/dist-packages/pandas/core/computation/expressions.py:73: RuntimeWarning: invalid value encountered in less_equal\n",
      "  return op(a, b)\n",
      "/usr/local/lib/python3.11/dist-packages/pandas/core/arraylike.py:399: RuntimeWarning: invalid value encountered in log\n",
      "  result = getattr(ufunc, method)(*inputs, **kwargs)\n"
     ]
    },
    {
     "name": "stdout",
     "output_type": "stream",
     "text": [
      "Step 1860 — Test metrics:\n",
      "  precision@10: 0.006529939\n",
      "  recall@10: 0.006545280\n",
      "  ndcg@10: 0.006572863\n",
      "  map@10: 0.001976813\n",
      "Epoch 63, Step 20, LR: 0.000785, Current Loss: 0.7473, Avg Loss: 0.7488\n",
      "Diff stats — min: -4.9577, max: 10.0000, mean: 2.8393, std: 2.4811\n",
      "\n",
      "Epoch 63 completed, Train Loss: 0.000185\n",
      "\n",
      "Epoch 64, Step 1, LR: 0.000785, Current Loss: 0.7691, Avg Loss: 0.7691\n",
      "Diff stats — min: -6.1001, max: 10.0000, mean: 2.8106, std: 2.5006\n",
      "\n"
     ]
    },
    {
     "name": "stderr",
     "output_type": "stream",
     "text": [
      "/usr/local/lib/python3.11/dist-packages/pandas/core/computation/expressions.py:73: RuntimeWarning: invalid value encountered in less_equal\n",
      "  return op(a, b)\n",
      "/usr/local/lib/python3.11/dist-packages/pandas/core/arraylike.py:399: RuntimeWarning: invalid value encountered in log\n",
      "  result = getattr(ufunc, method)(*inputs, **kwargs)\n"
     ]
    },
    {
     "name": "stdout",
     "output_type": "stream",
     "text": [
      "Step 1890 — Test metrics:\n",
      "  precision@10: 0.006600660\n",
      "  recall@10: 0.006619276\n",
      "  ndcg@10: 0.006514603\n",
      "  map@10: 0.001942413\n",
      "Epoch 64, Step 20, LR: 0.000785, Current Loss: 0.7306, Avg Loss: 0.7444\n",
      "Diff stats — min: -5.7279, max: 10.0000, mean: 2.8774, std: 2.4431\n",
      "\n",
      "Epoch 64 completed, Train Loss: 0.000183\n",
      "\n",
      "Epoch 65, Step 1, LR: 0.000785, Current Loss: 0.7412, Avg Loss: 0.7412\n",
      "Diff stats — min: -5.4548, max: 10.0000, mean: 2.8712, std: 2.5184\n",
      "\n"
     ]
    },
    {
     "name": "stderr",
     "output_type": "stream",
     "text": [
      "/usr/local/lib/python3.11/dist-packages/pandas/core/computation/expressions.py:73: RuntimeWarning: invalid value encountered in less_equal\n",
      "  return op(a, b)\n",
      "/usr/local/lib/python3.11/dist-packages/pandas/core/arraylike.py:399: RuntimeWarning: invalid value encountered in log\n",
      "  result = getattr(ufunc, method)(*inputs, **kwargs)\n"
     ]
    },
    {
     "name": "stdout",
     "output_type": "stream",
     "text": [
      "Step 1920 — Test metrics:\n",
      "  precision@10: 0.006459217\n",
      "  recall@10: 0.006470349\n",
      "  ndcg@10: 0.006568186\n",
      "  map@10: 0.002007553\n",
      "Epoch 65, Step 20, LR: 0.000785, Current Loss: 0.7311, Avg Loss: 0.7356\n",
      "Diff stats — min: -5.1708, max: 10.0000, mean: 2.9331, std: 2.5370\n",
      "\n",
      "Epoch 65 completed, Train Loss: 0.000182\n",
      "\n",
      "Epoch 66, Step 1, LR: 0.000769, Current Loss: 0.7212, Avg Loss: 0.7212\n",
      "Diff stats — min: -5.1867, max: 10.0000, mean: 2.9928, std: 2.4973\n",
      "\n"
     ]
    },
    {
     "name": "stderr",
     "output_type": "stream",
     "text": [
      "/usr/local/lib/python3.11/dist-packages/pandas/core/computation/expressions.py:73: RuntimeWarning: invalid value encountered in less_equal\n",
      "  return op(a, b)\n",
      "/usr/local/lib/python3.11/dist-packages/pandas/core/arraylike.py:399: RuntimeWarning: invalid value encountered in log\n",
      "  result = getattr(ufunc, method)(*inputs, **kwargs)\n"
     ]
    },
    {
     "name": "stdout",
     "output_type": "stream",
     "text": [
      "Step 1950 — Test metrics:\n",
      "  precision@10: 0.006671381\n",
      "  recall@10: 0.006679894\n",
      "  ndcg@10: 0.006658490\n",
      "  map@10: 0.002004412\n",
      "Epoch 66, Step 20, LR: 0.000769, Current Loss: 0.7510, Avg Loss: 0.7359\n",
      "Diff stats — min: -5.8680, max: 10.0000, mean: 2.9386, std: 2.5353\n",
      "\n",
      "Epoch 66 completed, Train Loss: 0.000182\n",
      "\n",
      "Epoch 67, Step 1, LR: 0.000769, Current Loss: 0.7250, Avg Loss: 0.7250\n",
      "Diff stats — min: -4.3191, max: 10.0000, mean: 3.0166, std: 2.5576\n",
      "\n"
     ]
    },
    {
     "name": "stderr",
     "output_type": "stream",
     "text": [
      "/usr/local/lib/python3.11/dist-packages/pandas/core/computation/expressions.py:73: RuntimeWarning: invalid value encountered in less_equal\n",
      "  return op(a, b)\n",
      "/usr/local/lib/python3.11/dist-packages/pandas/core/arraylike.py:399: RuntimeWarning: invalid value encountered in log\n",
      "  result = getattr(ufunc, method)(*inputs, **kwargs)\n"
     ]
    },
    {
     "name": "stdout",
     "output_type": "stream",
     "text": [
      "Step 1980 — Test metrics:\n",
      "  precision@10: 0.006694955\n",
      "  recall@10: 0.006697575\n",
      "  ndcg@10: 0.006548670\n",
      "  map@10: 0.001930422\n",
      "Epoch 67, Step 20, LR: 0.000769, Current Loss: 0.7137, Avg Loss: 0.7266\n",
      "Diff stats — min: -5.8269, max: 10.0000, mean: 3.0219, std: 2.5194\n",
      "\n",
      "Epoch 67 completed, Train Loss: 0.000180\n",
      "\n",
      "Epoch 68, Step 1, LR: 0.000769, Current Loss: 0.7099, Avg Loss: 0.7099\n",
      "Diff stats — min: -7.3824, max: 10.0000, mean: 3.0483, std: 2.5556\n",
      "\n"
     ]
    },
    {
     "name": "stderr",
     "output_type": "stream",
     "text": [
      "/usr/local/lib/python3.11/dist-packages/pandas/core/computation/expressions.py:73: RuntimeWarning: invalid value encountered in less_equal\n",
      "  return op(a, b)\n",
      "/usr/local/lib/python3.11/dist-packages/pandas/core/arraylike.py:399: RuntimeWarning: invalid value encountered in log\n",
      "  result = getattr(ufunc, method)(*inputs, **kwargs)\n"
     ]
    },
    {
     "name": "stdout",
     "output_type": "stream",
     "text": [
      "Step 2010 — Test metrics:\n",
      "  precision@10: 0.006482791\n",
      "  recall@10: 0.006501407\n",
      "  ndcg@10: 0.006483390\n",
      "  map@10: 0.001949381\n",
      "Epoch 68, Step 20, LR: 0.000769, Current Loss: 0.7174, Avg Loss: 0.7291\n",
      "Diff stats — min: -4.3397, max: 10.0000, mean: 3.0970, std: 2.5850\n",
      "\n",
      "Epoch 68 completed, Train Loss: 0.000180\n",
      "\n",
      "Epoch 69, Step 1, LR: 0.000769, Current Loss: 0.7224, Avg Loss: 0.7224\n",
      "Diff stats — min: -5.0019, max: 10.0000, mean: 3.1423, std: 2.5841\n",
      "\n"
     ]
    },
    {
     "name": "stderr",
     "output_type": "stream",
     "text": [
      "/usr/local/lib/python3.11/dist-packages/pandas/core/computation/expressions.py:73: RuntimeWarning: invalid value encountered in less_equal\n",
      "  return op(a, b)\n",
      "/usr/local/lib/python3.11/dist-packages/pandas/core/arraylike.py:399: RuntimeWarning: invalid value encountered in log\n",
      "  result = getattr(ufunc, method)(*inputs, **kwargs)\n"
     ]
    },
    {
     "name": "stdout",
     "output_type": "stream",
     "text": [
      "Step 2040 — Test metrics:\n",
      "  precision@10: 0.006553512\n",
      "  recall@10: 0.006566235\n",
      "  ndcg@10: 0.006574341\n",
      "  map@10: 0.001985895\n",
      "Epoch 69, Step 20, LR: 0.000769, Current Loss: 0.7130, Avg Loss: 0.7223\n",
      "Diff stats — min: -5.1203, max: 10.0000, mean: 3.1843, std: 2.6226\n",
      "\n",
      "Epoch 69 completed, Train Loss: 0.000179\n",
      "\n",
      "Epoch 70, Step 1, LR: 0.000769, Current Loss: 0.7313, Avg Loss: 0.7313\n",
      "Diff stats — min: -4.8251, max: 10.0000, mean: 3.1237, std: 2.6389\n",
      "\n"
     ]
    },
    {
     "name": "stderr",
     "output_type": "stream",
     "text": [
      "/usr/local/lib/python3.11/dist-packages/pandas/core/computation/expressions.py:73: RuntimeWarning: invalid value encountered in less_equal\n",
      "  return op(a, b)\n",
      "/usr/local/lib/python3.11/dist-packages/pandas/core/arraylike.py:399: RuntimeWarning: invalid value encountered in log\n",
      "  result = getattr(ufunc, method)(*inputs, **kwargs)\n"
     ]
    },
    {
     "name": "stdout",
     "output_type": "stream",
     "text": [
      "Step 2070 — Test metrics:\n",
      "  precision@10: 0.006553512\n",
      "  recall@10: 0.006566235\n",
      "  ndcg@10: 0.006551769\n",
      "  map@10: 0.001970198\n",
      "Epoch 70, Step 20, LR: 0.000769, Current Loss: 0.7152, Avg Loss: 0.7153\n",
      "Diff stats — min: -4.4883, max: 10.0000, mean: 3.1871, std: 2.6026\n",
      "\n",
      "Epoch 70 completed, Train Loss: 0.000177\n",
      "\n",
      "Epoch 71, Step 1, LR: 0.000754, Current Loss: 0.7381, Avg Loss: 0.7381\n",
      "Diff stats — min: -6.6387, max: 10.0000, mean: 3.1941, std: 2.6517\n",
      "\n"
     ]
    },
    {
     "name": "stderr",
     "output_type": "stream",
     "text": [
      "/usr/local/lib/python3.11/dist-packages/pandas/core/computation/expressions.py:73: RuntimeWarning: invalid value encountered in less_equal\n",
      "  return op(a, b)\n",
      "/usr/local/lib/python3.11/dist-packages/pandas/core/arraylike.py:399: RuntimeWarning: invalid value encountered in log\n",
      "  result = getattr(ufunc, method)(*inputs, **kwargs)\n"
     ]
    },
    {
     "name": "stdout",
     "output_type": "stream",
     "text": [
      "Step 2100 — Test metrics:\n",
      "  precision@10: 0.006836398\n",
      "  recall@10: 0.006855014\n",
      "  ndcg@10: 0.006886261\n",
      "  map@10: 0.002080022\n",
      "Epoch 71, Step 20, LR: 0.000754, Current Loss: 0.7054, Avg Loss: 0.7157\n",
      "Diff stats — min: -5.6265, max: 10.0000, mean: 3.2517, std: 2.6155\n",
      "\n",
      "Epoch 71 completed, Train Loss: 0.000177\n",
      "\n",
      "Epoch 72, Step 1, LR: 0.000754, Current Loss: 0.7099, Avg Loss: 0.7099\n",
      "Diff stats — min: -6.6062, max: 10.0000, mean: 3.2422, std: 2.6790\n",
      "\n"
     ]
    },
    {
     "name": "stderr",
     "output_type": "stream",
     "text": [
      "/usr/local/lib/python3.11/dist-packages/pandas/core/computation/expressions.py:73: RuntimeWarning: invalid value encountered in less_equal\n",
      "  return op(a, b)\n",
      "/usr/local/lib/python3.11/dist-packages/pandas/core/arraylike.py:399: RuntimeWarning: invalid value encountered in log\n",
      "  result = getattr(ufunc, method)(*inputs, **kwargs)\n"
     ]
    },
    {
     "name": "stdout",
     "output_type": "stream",
     "text": [
      "Step 2130 — Test metrics:\n",
      "  precision@10: 0.006907119\n",
      "  recall@10: 0.006925735\n",
      "  ndcg@10: 0.006911930\n",
      "  map@10: 0.002072895\n",
      "Epoch 72, Step 20, LR: 0.000754, Current Loss: 0.7237, Avg Loss: 0.7099\n",
      "Diff stats — min: -5.9489, max: 10.0000, mean: 3.2659, std: 2.6809\n",
      "\n",
      "Epoch 72 completed, Train Loss: 0.000176\n",
      "\n",
      "Epoch 73, Step 1, LR: 0.000754, Current Loss: 0.6996, Avg Loss: 0.6996\n",
      "Diff stats — min: -5.7920, max: 10.0000, mean: 3.3280, std: 2.6434\n",
      "\n"
     ]
    },
    {
     "name": "stderr",
     "output_type": "stream",
     "text": [
      "/usr/local/lib/python3.11/dist-packages/pandas/core/computation/expressions.py:73: RuntimeWarning: invalid value encountered in less_equal\n",
      "  return op(a, b)\n",
      "/usr/local/lib/python3.11/dist-packages/pandas/core/arraylike.py:399: RuntimeWarning: invalid value encountered in log\n",
      "  result = getattr(ufunc, method)(*inputs, **kwargs)\n"
     ]
    },
    {
     "name": "stdout",
     "output_type": "stream",
     "text": [
      "Step 2160 — Test metrics:\n",
      "  precision@10: 0.006954267\n",
      "  recall@10: 0.006975502\n",
      "  ndcg@10: 0.007066820\n",
      "  map@10: 0.002154782\n",
      "Epoch 73, Step 20, LR: 0.000754, Current Loss: 0.6994, Avg Loss: 0.7105\n",
      "Diff stats — min: -5.8625, max: 10.0000, mean: 3.3146, std: 2.6408\n",
      "\n",
      "Epoch 73 completed, Train Loss: 0.000175\n",
      "\n",
      "Epoch 74, Step 1, LR: 0.000754, Current Loss: 0.7028, Avg Loss: 0.7028\n",
      "Diff stats — min: -5.5414, max: 10.0000, mean: 3.3808, std: 2.6684\n",
      "\n"
     ]
    },
    {
     "name": "stderr",
     "output_type": "stream",
     "text": [
      "/usr/local/lib/python3.11/dist-packages/pandas/core/computation/expressions.py:73: RuntimeWarning: invalid value encountered in less_equal\n",
      "  return op(a, b)\n",
      "/usr/local/lib/python3.11/dist-packages/pandas/core/arraylike.py:399: RuntimeWarning: invalid value encountered in log\n",
      "  result = getattr(ufunc, method)(*inputs, **kwargs)\n"
     ]
    },
    {
     "name": "stdout",
     "output_type": "stream",
     "text": [
      "Step 2190 — Test metrics:\n",
      "  precision@10: 0.006883545\n",
      "  recall@10: 0.006892058\n",
      "  ndcg@10: 0.006924444\n",
      "  map@10: 0.002100918\n",
      "Epoch 74, Step 20, LR: 0.000754, Current Loss: 0.7207, Avg Loss: 0.7045\n",
      "Diff stats — min: -5.9285, max: 10.0000, mean: 3.3386, std: 2.7468\n",
      "\n",
      "Epoch 74 completed, Train Loss: 0.000174\n",
      "\n",
      "Epoch 75, Step 1, LR: 0.000754, Current Loss: 0.6984, Avg Loss: 0.6984\n",
      "Diff stats — min: -5.3863, max: 10.0000, mean: 3.4773, std: 2.7424\n",
      "\n"
     ]
    },
    {
     "name": "stderr",
     "output_type": "stream",
     "text": [
      "/usr/local/lib/python3.11/dist-packages/pandas/core/computation/expressions.py:73: RuntimeWarning: invalid value encountered in less_equal\n",
      "  return op(a, b)\n",
      "/usr/local/lib/python3.11/dist-packages/pandas/core/arraylike.py:399: RuntimeWarning: invalid value encountered in log\n",
      "  result = getattr(ufunc, method)(*inputs, **kwargs)\n"
     ]
    },
    {
     "name": "stdout",
     "output_type": "stream",
     "text": [
      "Step 2220 — Test metrics:\n",
      "  precision@10: 0.006553512\n",
      "  recall@10: 0.006572128\n",
      "  ndcg@10: 0.006806777\n",
      "  map@10: 0.002112211\n",
      "Epoch 75, Step 20, LR: 0.000754, Current Loss: 0.6948, Avg Loss: 0.6996\n",
      "Diff stats — min: -5.6967, max: 10.0000, mean: 3.3908, std: 2.8017\n",
      "\n",
      "Epoch 75 completed, Train Loss: 0.000173\n",
      "\n",
      "Epoch 76, Step 1, LR: 0.000739, Current Loss: 0.6845, Avg Loss: 0.6845\n",
      "Diff stats — min: -6.1911, max: 10.0000, mean: 3.4592, std: 2.6627\n",
      "\n"
     ]
    },
    {
     "name": "stderr",
     "output_type": "stream",
     "text": [
      "/usr/local/lib/python3.11/dist-packages/pandas/core/computation/expressions.py:73: RuntimeWarning: invalid value encountered in less_equal\n",
      "  return op(a, b)\n",
      "/usr/local/lib/python3.11/dist-packages/pandas/core/arraylike.py:399: RuntimeWarning: invalid value encountered in log\n",
      "  result = getattr(ufunc, method)(*inputs, **kwargs)\n"
     ]
    },
    {
     "name": "stdout",
     "output_type": "stream",
     "text": [
      "Step 2250 — Test metrics:\n",
      "  precision@10: 0.007119283\n",
      "  recall@10: 0.007137899\n",
      "  ndcg@10: 0.007100721\n",
      "  map@10: 0.002134765\n",
      "Epoch 76, Step 20, LR: 0.000739, Current Loss: 0.6842, Avg Loss: 0.6981\n",
      "Diff stats — min: -5.7581, max: 10.0000, mean: 3.5165, std: 2.7881\n",
      "\n",
      "Epoch 76 completed, Train Loss: 0.000172\n",
      "\n",
      "Epoch 77, Step 1, LR: 0.000739, Current Loss: 0.6903, Avg Loss: 0.6903\n",
      "Diff stats — min: -4.2111, max: 10.0000, mean: 3.5559, std: 2.7431\n",
      "\n"
     ]
    },
    {
     "name": "stderr",
     "output_type": "stream",
     "text": [
      "/usr/local/lib/python3.11/dist-packages/pandas/core/computation/expressions.py:73: RuntimeWarning: invalid value encountered in less_equal\n",
      "  return op(a, b)\n",
      "/usr/local/lib/python3.11/dist-packages/pandas/core/arraylike.py:399: RuntimeWarning: invalid value encountered in log\n",
      "  result = getattr(ufunc, method)(*inputs, **kwargs)\n"
     ]
    },
    {
     "name": "stdout",
     "output_type": "stream",
     "text": [
      "Step 2280 — Test metrics:\n",
      "  precision@10: 0.007237152\n",
      "  recall@10: 0.007258387\n",
      "  ndcg@10: 0.007256026\n",
      "  map@10: 0.002191587\n",
      "Epoch 77, Step 20, LR: 0.000739, Current Loss: 0.6872, Avg Loss: 0.6923\n",
      "Diff stats — min: -6.0963, max: 10.0000, mean: 3.5425, std: 2.7540\n",
      "\n",
      "Epoch 77 completed, Train Loss: 0.000172\n",
      "\n",
      "Epoch 78, Step 1, LR: 0.000739, Current Loss: 0.6786, Avg Loss: 0.6786\n",
      "Diff stats — min: -5.6370, max: 10.0000, mean: 3.5358, std: 2.7106\n",
      "\n"
     ]
    },
    {
     "name": "stderr",
     "output_type": "stream",
     "text": [
      "/usr/local/lib/python3.11/dist-packages/pandas/core/computation/expressions.py:73: RuntimeWarning: invalid value encountered in less_equal\n",
      "  return op(a, b)\n",
      "/usr/local/lib/python3.11/dist-packages/pandas/core/arraylike.py:399: RuntimeWarning: invalid value encountered in log\n",
      "  result = getattr(ufunc, method)(*inputs, **kwargs)\n"
     ]
    },
    {
     "name": "stdout",
     "output_type": "stream",
     "text": [
      "Step 2310 — Test metrics:\n",
      "  precision@10: 0.007237152\n",
      "  recall@10: 0.007255768\n",
      "  ndcg@10: 0.007266544\n",
      "  map@10: 0.002218106\n",
      "Epoch 78, Step 20, LR: 0.000739, Current Loss: 0.7125, Avg Loss: 0.6928\n",
      "Diff stats — min: -5.4801, max: 10.0000, mean: 3.5288, std: 2.8109\n",
      "\n",
      "Epoch 78 completed, Train Loss: 0.000171\n",
      "\n",
      "Epoch 79, Step 1, LR: 0.000739, Current Loss: 0.6773, Avg Loss: 0.6773\n",
      "Diff stats — min: -4.9770, max: 10.0000, mean: 3.6163, std: 2.7651\n",
      "\n"
     ]
    },
    {
     "name": "stderr",
     "output_type": "stream",
     "text": [
      "/usr/local/lib/python3.11/dist-packages/pandas/core/computation/expressions.py:73: RuntimeWarning: invalid value encountered in less_equal\n",
      "  return op(a, b)\n",
      "/usr/local/lib/python3.11/dist-packages/pandas/core/arraylike.py:399: RuntimeWarning: invalid value encountered in log\n",
      "  result = getattr(ufunc, method)(*inputs, **kwargs)\n"
     ]
    },
    {
     "name": "stdout",
     "output_type": "stream",
     "text": [
      "Step 2340 — Test metrics:\n",
      "  precision@10: 0.007095710\n",
      "  recall@10: 0.007104222\n",
      "  ndcg@10: 0.007177220\n",
      "  map@10: 0.002199479\n",
      "Epoch 79, Step 20, LR: 0.000739, Current Loss: 0.6875, Avg Loss: 0.6898\n",
      "Diff stats — min: -7.1532, max: 10.0000, mean: 3.5685, std: 2.7516\n",
      "\n",
      "Epoch 79 completed, Train Loss: 0.000170\n",
      "\n",
      "Epoch 80, Step 1, LR: 0.000739, Current Loss: 0.7041, Avg Loss: 0.7041\n",
      "Diff stats — min: -6.3531, max: 10.0000, mean: 3.5737, std: 2.8283\n",
      "\n"
     ]
    },
    {
     "name": "stderr",
     "output_type": "stream",
     "text": [
      "/usr/local/lib/python3.11/dist-packages/pandas/core/computation/expressions.py:73: RuntimeWarning: invalid value encountered in less_equal\n",
      "  return op(a, b)\n",
      "/usr/local/lib/python3.11/dist-packages/pandas/core/arraylike.py:399: RuntimeWarning: invalid value encountered in log\n",
      "  result = getattr(ufunc, method)(*inputs, **kwargs)\n"
     ]
    },
    {
     "name": "stdout",
     "output_type": "stream",
     "text": [
      "Step 2370 — Test metrics:\n",
      "  precision@10: 0.007472890\n",
      "  recall@10: 0.007484022\n",
      "  ndcg@10: 0.007593491\n",
      "  map@10: 0.002347340\n",
      "Epoch 80, Step 20, LR: 0.000739, Current Loss: 0.6898, Avg Loss: 0.6862\n",
      "Diff stats — min: -6.4955, max: 10.0000, mean: 3.6900, std: 2.8469\n",
      "\n",
      "Epoch 80 completed, Train Loss: 0.000169\n",
      "\n",
      "Epoch 81, Step 1, LR: 0.000724, Current Loss: 0.6894, Avg Loss: 0.6894\n",
      "Diff stats — min: -8.7873, max: 10.0000, mean: 3.7174, std: 2.8294\n",
      "\n"
     ]
    },
    {
     "name": "stderr",
     "output_type": "stream",
     "text": [
      "/usr/local/lib/python3.11/dist-packages/pandas/core/computation/expressions.py:73: RuntimeWarning: invalid value encountered in less_equal\n",
      "  return op(a, b)\n",
      "/usr/local/lib/python3.11/dist-packages/pandas/core/arraylike.py:399: RuntimeWarning: invalid value encountered in log\n",
      "  result = getattr(ufunc, method)(*inputs, **kwargs)\n"
     ]
    },
    {
     "name": "stdout",
     "output_type": "stream",
     "text": [
      "Step 2400 — Test metrics:\n",
      "  precision@10: 0.007331447\n",
      "  recall@10: 0.007336686\n",
      "  ndcg@10: 0.007370862\n",
      "  map@10: 0.002264449\n",
      "Epoch 81, Step 20, LR: 0.000724, Current Loss: 0.6848, Avg Loss: 0.6827\n",
      "Diff stats — min: -5.1482, max: 10.0000, mean: 3.7027, std: 2.8318\n",
      "\n",
      "Epoch 81 completed, Train Loss: 0.000169\n",
      "\n",
      "Epoch 82, Step 1, LR: 0.000724, Current Loss: 0.6900, Avg Loss: 0.6900\n",
      "Diff stats — min: -5.6230, max: 10.0000, mean: 3.7344, std: 2.8336\n",
      "\n"
     ]
    },
    {
     "name": "stderr",
     "output_type": "stream",
     "text": [
      "/usr/local/lib/python3.11/dist-packages/pandas/core/computation/expressions.py:73: RuntimeWarning: invalid value encountered in less_equal\n",
      "  return op(a, b)\n",
      "/usr/local/lib/python3.11/dist-packages/pandas/core/arraylike.py:399: RuntimeWarning: invalid value encountered in log\n",
      "  result = getattr(ufunc, method)(*inputs, **kwargs)\n"
     ]
    },
    {
     "name": "stdout",
     "output_type": "stream",
     "text": [
      "Step 2430 — Test metrics:\n",
      "  precision@10: 0.007826497\n",
      "  recall@10: 0.007850351\n",
      "  ndcg@10: 0.007742633\n",
      "  map@10: 0.002327484\n",
      "Epoch 82, Step 20, LR: 0.000724, Current Loss: 0.6796, Avg Loss: 0.6802\n",
      "Diff stats — min: -5.9665, max: 10.0000, mean: 3.7745, std: 2.8245\n",
      "\n",
      "Epoch 82 completed, Train Loss: 0.000168\n",
      "\n",
      "Epoch 83, Step 1, LR: 0.000724, Current Loss: 0.6720, Avg Loss: 0.6720\n",
      "Diff stats — min: -4.9943, max: 10.0000, mean: 3.8297, std: 2.8373\n",
      "\n"
     ]
    },
    {
     "name": "stderr",
     "output_type": "stream",
     "text": [
      "/usr/local/lib/python3.11/dist-packages/pandas/core/computation/expressions.py:73: RuntimeWarning: invalid value encountered in less_equal\n",
      "  return op(a, b)\n",
      "/usr/local/lib/python3.11/dist-packages/pandas/core/arraylike.py:399: RuntimeWarning: invalid value encountered in log\n",
      "  result = getattr(ufunc, method)(*inputs, **kwargs)\n"
     ]
    },
    {
     "name": "stdout",
     "output_type": "stream",
     "text": [
      "Step 2460 — Test metrics:\n",
      "  precision@10: 0.007355021\n",
      "  recall@10: 0.007376256\n",
      "  ndcg@10: 0.007347376\n",
      "  map@10: 0.002226891\n",
      "Epoch 83, Step 20, LR: 0.000724, Current Loss: 0.6816, Avg Loss: 0.6777\n",
      "Diff stats — min: -6.9581, max: 10.0000, mean: 3.7885, std: 2.8810\n",
      "\n",
      "Epoch 83 completed, Train Loss: 0.000167\n",
      "\n",
      "Epoch 84, Step 1, LR: 0.000724, Current Loss: 0.6767, Avg Loss: 0.6767\n",
      "Diff stats — min: -5.0328, max: 10.0000, mean: 3.8738, std: 2.8797\n",
      "\n"
     ]
    },
    {
     "name": "stderr",
     "output_type": "stream",
     "text": [
      "/usr/local/lib/python3.11/dist-packages/pandas/core/computation/expressions.py:73: RuntimeWarning: invalid value encountered in less_equal\n",
      "  return op(a, b)\n",
      "/usr/local/lib/python3.11/dist-packages/pandas/core/arraylike.py:399: RuntimeWarning: invalid value encountered in log\n",
      "  result = getattr(ufunc, method)(*inputs, **kwargs)\n"
     ]
    },
    {
     "name": "stdout",
     "output_type": "stream",
     "text": [
      "Step 2490 — Test metrics:\n",
      "  precision@10: 0.008156530\n",
      "  recall@10: 0.008171872\n",
      "  ndcg@10: 0.007993635\n",
      "  map@10: 0.002397558\n",
      "Epoch 84, Step 20, LR: 0.000724, Current Loss: 0.6844, Avg Loss: 0.6735\n",
      "Diff stats — min: -7.7052, max: 10.0000, mean: 3.7794, std: 2.8934\n",
      "\n",
      "Epoch 84 completed, Train Loss: 0.000166\n",
      "\n",
      "Epoch 85, Step 1, LR: 0.000724, Current Loss: 0.6773, Avg Loss: 0.6773\n",
      "Diff stats — min: -6.0961, max: 10.0000, mean: 3.7260, std: 2.8849\n",
      "\n"
     ]
    },
    {
     "name": "stderr",
     "output_type": "stream",
     "text": [
      "/usr/local/lib/python3.11/dist-packages/pandas/core/computation/expressions.py:73: RuntimeWarning: invalid value encountered in less_equal\n",
      "  return op(a, b)\n",
      "/usr/local/lib/python3.11/dist-packages/pandas/core/arraylike.py:399: RuntimeWarning: invalid value encountered in log\n",
      "  result = getattr(ufunc, method)(*inputs, **kwargs)\n"
     ]
    },
    {
     "name": "stdout",
     "output_type": "stream",
     "text": [
      "Step 2520 — Test metrics:\n",
      "  precision@10: 0.007755776\n",
      "  recall@10: 0.007773737\n",
      "  ndcg@10: 0.007617605\n",
      "  map@10: 0.002289323\n",
      "Epoch 85, Step 20, LR: 0.000724, Current Loss: 0.6542, Avg Loss: 0.6710\n",
      "Diff stats — min: -4.8211, max: 10.0000, mean: 3.9773, std: 2.8684\n",
      "\n",
      "Epoch 85 completed, Train Loss: 0.000166\n",
      "\n",
      "Epoch 86, Step 1, LR: 0.000709, Current Loss: 0.6735, Avg Loss: 0.6735\n",
      "Diff stats — min: -5.8411, max: 10.0000, mean: 3.9359, std: 2.8925\n",
      "\n"
     ]
    },
    {
     "name": "stderr",
     "output_type": "stream",
     "text": [
      "/usr/local/lib/python3.11/dist-packages/pandas/core/computation/expressions.py:73: RuntimeWarning: invalid value encountered in less_equal\n",
      "  return op(a, b)\n",
      "/usr/local/lib/python3.11/dist-packages/pandas/core/arraylike.py:399: RuntimeWarning: invalid value encountered in log\n",
      "  result = getattr(ufunc, method)(*inputs, **kwargs)\n"
     ]
    },
    {
     "name": "stdout",
     "output_type": "stream",
     "text": [
      "Step 2550 — Test metrics:\n",
      "  precision@10: 0.007967940\n",
      "  recall@10: 0.007991794\n",
      "  ndcg@10: 0.007938494\n",
      "  map@10: 0.002439790\n",
      "Epoch 86, Step 20, LR: 0.000709, Current Loss: 0.6743, Avg Loss: 0.6652\n",
      "Diff stats — min: -4.4875, max: 10.0000, mean: 3.9581, std: 2.8696\n",
      "\n",
      "Epoch 86 completed, Train Loss: 0.000165\n",
      "\n",
      "Epoch 87, Step 1, LR: 0.000709, Current Loss: 0.6738, Avg Loss: 0.6738\n",
      "Diff stats — min: -5.3064, max: 10.0000, mean: 3.9416, std: 2.9507\n",
      "\n"
     ]
    },
    {
     "name": "stderr",
     "output_type": "stream",
     "text": [
      "/usr/local/lib/python3.11/dist-packages/pandas/core/computation/expressions.py:73: RuntimeWarning: invalid value encountered in less_equal\n",
      "  return op(a, b)\n",
      "/usr/local/lib/python3.11/dist-packages/pandas/core/arraylike.py:399: RuntimeWarning: invalid value encountered in log\n",
      "  result = getattr(ufunc, method)(*inputs, **kwargs)\n"
     ]
    },
    {
     "name": "stdout",
     "output_type": "stream",
     "text": [
      "Step 2580 — Test metrics:\n",
      "  precision@10: 0.008132956\n",
      "  recall@10: 0.008156811\n",
      "  ndcg@10: 0.008069853\n",
      "  map@10: 0.002460202\n",
      "Epoch 87, Step 20, LR: 0.000709, Current Loss: 0.6707, Avg Loss: 0.6666\n",
      "Diff stats — min: -5.2269, max: 10.0000, mean: 3.9343, std: 2.9611\n",
      "\n",
      "Epoch 87 completed, Train Loss: 0.000164\n",
      "\n",
      "Epoch 88, Step 1, LR: 0.000709, Current Loss: 0.6531, Avg Loss: 0.6531\n",
      "Diff stats — min: -7.4695, max: 10.0000, mean: 4.0363, std: 2.8937\n",
      "\n"
     ]
    },
    {
     "name": "stderr",
     "output_type": "stream",
     "text": [
      "/usr/local/lib/python3.11/dist-packages/pandas/core/computation/expressions.py:73: RuntimeWarning: invalid value encountered in less_equal\n",
      "  return op(a, b)\n",
      "/usr/local/lib/python3.11/dist-packages/pandas/core/arraylike.py:399: RuntimeWarning: invalid value encountered in log\n",
      "  result = getattr(ufunc, method)(*inputs, **kwargs)\n"
     ]
    },
    {
     "name": "stdout",
     "output_type": "stream",
     "text": [
      "Step 2610 — Test metrics:\n",
      "  precision@10: 0.008062235\n",
      "  recall@10: 0.008088709\n",
      "  ndcg@10: 0.008013519\n",
      "  map@10: 0.002454802\n",
      "Epoch 88, Step 20, LR: 0.000709, Current Loss: 0.6860, Avg Loss: 0.6618\n",
      "Diff stats — min: -6.4554, max: 10.0000, mean: 4.0195, std: 2.9207\n",
      "\n",
      "Epoch 88 completed, Train Loss: 0.000164\n",
      "\n",
      "Epoch 89, Step 1, LR: 0.000709, Current Loss: 0.6689, Avg Loss: 0.6689\n",
      "Diff stats — min: -6.4393, max: 10.0000, mean: 4.1064, std: 2.9817\n",
      "\n"
     ]
    },
    {
     "name": "stderr",
     "output_type": "stream",
     "text": [
      "/usr/local/lib/python3.11/dist-packages/pandas/core/computation/expressions.py:73: RuntimeWarning: invalid value encountered in less_equal\n",
      "  return op(a, b)\n",
      "/usr/local/lib/python3.11/dist-packages/pandas/core/arraylike.py:399: RuntimeWarning: invalid value encountered in log\n",
      "  result = getattr(ufunc, method)(*inputs, **kwargs)\n"
     ]
    },
    {
     "name": "stdout",
     "output_type": "stream",
     "text": [
      "Step 2640 — Test metrics:\n",
      "  precision@10: 0.007967940\n",
      "  recall@10: 0.007991794\n",
      "  ndcg@10: 0.007879707\n",
      "  map@10: 0.002415552\n",
      "Epoch 89, Step 20, LR: 0.000709, Current Loss: 0.6636, Avg Loss: 0.6608\n",
      "Diff stats — min: -6.3221, max: 10.0000, mean: 4.1080, std: 2.9809\n",
      "\n",
      "Epoch 89 completed, Train Loss: 0.000164\n",
      "\n",
      "Epoch 90, Step 1, LR: 0.000709, Current Loss: 0.6745, Avg Loss: 0.6745\n",
      "Diff stats — min: -6.2779, max: 10.0000, mean: 4.0665, std: 2.9538\n",
      "\n"
     ]
    },
    {
     "name": "stderr",
     "output_type": "stream",
     "text": [
      "/usr/local/lib/python3.11/dist-packages/pandas/core/computation/expressions.py:73: RuntimeWarning: invalid value encountered in less_equal\n",
      "  return op(a, b)\n",
      "/usr/local/lib/python3.11/dist-packages/pandas/core/arraylike.py:399: RuntimeWarning: invalid value encountered in log\n",
      "  result = getattr(ufunc, method)(*inputs, **kwargs)\n"
     ]
    },
    {
     "name": "stdout",
     "output_type": "stream",
     "text": [
      "Step 2670 — Test metrics:\n",
      "  precision@10: 0.007967940\n",
      "  recall@10: 0.007991794\n",
      "  ndcg@10: 0.007797585\n",
      "  map@10: 0.002340641\n",
      "Epoch 90, Step 20, LR: 0.000709, Current Loss: 0.6616, Avg Loss: 0.6595\n",
      "Diff stats — min: -4.8878, max: 10.0000, mean: 4.0791, std: 2.9422\n",
      "\n",
      "Epoch 90 completed, Train Loss: 0.000163\n",
      "\n",
      "Epoch 91, Step 1, LR: 0.000695, Current Loss: 0.6506, Avg Loss: 0.6506\n",
      "Diff stats — min: -4.7329, max: 10.0000, mean: 4.1669, std: 2.9424\n",
      "\n"
     ]
    },
    {
     "name": "stderr",
     "output_type": "stream",
     "text": [
      "/usr/local/lib/python3.11/dist-packages/pandas/core/computation/expressions.py:73: RuntimeWarning: invalid value encountered in less_equal\n",
      "  return op(a, b)\n",
      "/usr/local/lib/python3.11/dist-packages/pandas/core/arraylike.py:399: RuntimeWarning: invalid value encountered in log\n",
      "  result = getattr(ufunc, method)(*inputs, **kwargs)\n"
     ]
    },
    {
     "name": "stdout",
     "output_type": "stream",
     "text": [
      "Step 2700 — Test metrics:\n",
      "  precision@10: 0.008203678\n",
      "  recall@10: 0.008217429\n",
      "  ndcg@10: 0.008099204\n",
      "  map@10: 0.002458743\n",
      "Epoch 91, Step 20, LR: 0.000695, Current Loss: 0.6460, Avg Loss: 0.6537\n",
      "Diff stats — min: -7.5854, max: 10.0000, mean: 4.1845, std: 2.9478\n",
      "\n",
      "Epoch 91 completed, Train Loss: 0.000162\n",
      "\n",
      "Epoch 92, Step 1, LR: 0.000695, Current Loss: 0.6428, Avg Loss: 0.6428\n",
      "Diff stats — min: -5.3133, max: 10.0000, mean: 4.2576, std: 2.9388\n",
      "\n"
     ]
    },
    {
     "name": "stderr",
     "output_type": "stream",
     "text": [
      "/usr/local/lib/python3.11/dist-packages/pandas/core/computation/expressions.py:73: RuntimeWarning: invalid value encountered in less_equal\n",
      "  return op(a, b)\n",
      "/usr/local/lib/python3.11/dist-packages/pandas/core/arraylike.py:399: RuntimeWarning: invalid value encountered in log\n",
      "  result = getattr(ufunc, method)(*inputs, **kwargs)\n"
     ]
    },
    {
     "name": "stdout",
     "output_type": "stream",
     "text": [
      "Step 2730 — Test metrics:\n",
      "  precision@10: 0.008297973\n",
      "  recall@10: 0.008321827\n",
      "  ndcg@10: 0.008145152\n",
      "  map@10: 0.002449463\n",
      "Epoch 92, Step 20, LR: 0.000695, Current Loss: 0.6761, Avg Loss: 0.6515\n",
      "Diff stats — min: -6.8946, max: 10.0000, mean: 4.1930, std: 3.0191\n",
      "\n",
      "Epoch 92 completed, Train Loss: 0.000161\n",
      "\n",
      "Epoch 93, Step 1, LR: 0.000695, Current Loss: 0.6509, Avg Loss: 0.6509\n",
      "Diff stats — min: -6.6306, max: 10.0000, mean: 4.2518, std: 2.9534\n",
      "\n"
     ]
    },
    {
     "name": "stderr",
     "output_type": "stream",
     "text": [
      "/usr/local/lib/python3.11/dist-packages/pandas/core/computation/expressions.py:73: RuntimeWarning: invalid value encountered in less_equal\n",
      "  return op(a, b)\n",
      "/usr/local/lib/python3.11/dist-packages/pandas/core/arraylike.py:399: RuntimeWarning: invalid value encountered in log\n",
      "  result = getattr(ufunc, method)(*inputs, **kwargs)\n"
     ]
    },
    {
     "name": "stdout",
     "output_type": "stream",
     "text": [
      "Step 2760 — Test metrics:\n",
      "  precision@10: 0.008934465\n",
      "  recall@10: 0.008960939\n",
      "  ndcg@10: 0.008786531\n",
      "  map@10: 0.002654082\n",
      "Epoch 93, Step 20, LR: 0.000695, Current Loss: 0.6540, Avg Loss: 0.6548\n",
      "Diff stats — min: -5.3281, max: 10.0000, mean: 4.2698, std: 2.9845\n",
      "\n",
      "Epoch 93 completed, Train Loss: 0.000161\n",
      "\n",
      "Epoch 94, Step 1, LR: 0.000695, Current Loss: 0.6395, Avg Loss: 0.6395\n",
      "Diff stats — min: -5.5668, max: 10.0000, mean: 4.2314, std: 2.9150\n",
      "\n"
     ]
    },
    {
     "name": "stderr",
     "output_type": "stream",
     "text": [
      "/usr/local/lib/python3.11/dist-packages/pandas/core/computation/expressions.py:73: RuntimeWarning: invalid value encountered in less_equal\n",
      "  return op(a, b)\n",
      "/usr/local/lib/python3.11/dist-packages/pandas/core/arraylike.py:399: RuntimeWarning: invalid value encountered in log\n",
      "  result = getattr(ufunc, method)(*inputs, **kwargs)\n"
     ]
    },
    {
     "name": "stdout",
     "output_type": "stream",
     "text": [
      "Step 2790 — Test metrics:\n",
      "  precision@10: 0.008533711\n",
      "  recall@10: 0.008554946\n",
      "  ndcg@10: 0.008482263\n",
      "  map@10: 0.002566409\n",
      "Epoch 94, Step 20, LR: 0.000695, Current Loss: 0.6669, Avg Loss: 0.6505\n",
      "Diff stats — min: -8.9816, max: 10.0000, mean: 4.2341, std: 3.0719\n",
      "\n",
      "Epoch 94 completed, Train Loss: 0.000161\n",
      "\n",
      "Epoch 95, Step 1, LR: 0.000695, Current Loss: 0.6639, Avg Loss: 0.6639\n",
      "Diff stats — min: -7.2938, max: 10.0000, mean: 4.2486, std: 2.9940\n",
      "\n"
     ]
    },
    {
     "name": "stderr",
     "output_type": "stream",
     "text": [
      "/usr/local/lib/python3.11/dist-packages/pandas/core/computation/expressions.py:73: RuntimeWarning: invalid value encountered in less_equal\n",
      "  return op(a, b)\n",
      "/usr/local/lib/python3.11/dist-packages/pandas/core/arraylike.py:399: RuntimeWarning: invalid value encountered in log\n",
      "  result = getattr(ufunc, method)(*inputs, **kwargs)\n"
     ]
    },
    {
     "name": "stdout",
     "output_type": "stream",
     "text": [
      "Step 2820 — Test metrics:\n",
      "  precision@10: 0.008415842\n",
      "  recall@10: 0.008442315\n",
      "  ndcg@10: 0.008378731\n",
      "  map@10: 0.002567302\n",
      "Epoch 95, Step 20, LR: 0.000695, Current Loss: 0.6319, Avg Loss: 0.6443\n",
      "Diff stats — min: -5.2105, max: 10.0000, mean: 4.3281, std: 2.9704\n",
      "\n",
      "Epoch 95 completed, Train Loss: 0.000160\n",
      "\n",
      "Epoch 96, Step 1, LR: 0.000681, Current Loss: 0.6531, Avg Loss: 0.6531\n",
      "Diff stats — min: -5.5445, max: 10.0000, mean: 4.3013, std: 3.0047\n",
      "\n"
     ]
    },
    {
     "name": "stderr",
     "output_type": "stream",
     "text": [
      "/usr/local/lib/python3.11/dist-packages/pandas/core/computation/expressions.py:73: RuntimeWarning: invalid value encountered in less_equal\n",
      "  return op(a, b)\n",
      "/usr/local/lib/python3.11/dist-packages/pandas/core/arraylike.py:399: RuntimeWarning: invalid value encountered in log\n",
      "  result = getattr(ufunc, method)(*inputs, **kwargs)\n"
     ]
    },
    {
     "name": "stdout",
     "output_type": "stream",
     "text": [
      "Step 2850 — Test metrics:\n",
      "  precision@10: 0.008368694\n",
      "  recall@10: 0.008392548\n",
      "  ndcg@10: 0.008381760\n",
      "  map@10: 0.002586082\n",
      "Epoch 96, Step 20, LR: 0.000681, Current Loss: 0.6396, Avg Loss: 0.6461\n",
      "Diff stats — min: -5.9831, max: 10.0000, mean: 4.4219, std: 3.0530\n",
      "\n",
      "Epoch 96 completed, Train Loss: 0.000159\n",
      "\n",
      "Epoch 97, Step 1, LR: 0.000681, Current Loss: 0.6436, Avg Loss: 0.6436\n",
      "Diff stats — min: -6.1336, max: 10.0000, mean: 4.3309, std: 2.9617\n",
      "\n"
     ]
    },
    {
     "name": "stderr",
     "output_type": "stream",
     "text": [
      "/usr/local/lib/python3.11/dist-packages/pandas/core/computation/expressions.py:73: RuntimeWarning: invalid value encountered in less_equal\n",
      "  return op(a, b)\n",
      "/usr/local/lib/python3.11/dist-packages/pandas/core/arraylike.py:399: RuntimeWarning: invalid value encountered in log\n",
      "  result = getattr(ufunc, method)(*inputs, **kwargs)\n"
     ]
    },
    {
     "name": "stdout",
     "output_type": "stream",
     "text": [
      "Step 2880 — Test metrics:\n",
      "  precision@10: 0.008274399\n",
      "  recall@10: 0.008300873\n",
      "  ndcg@10: 0.008416304\n",
      "  map@10: 0.002627821\n",
      "Epoch 97, Step 20, LR: 0.000681, Current Loss: 0.6375, Avg Loss: 0.6442\n",
      "Diff stats — min: -6.8808, max: 10.0000, mean: 4.4607, std: 3.0559\n",
      "\n",
      "Epoch 97 completed, Train Loss: 0.000159\n",
      "\n",
      "Epoch 98, Step 1, LR: 0.000681, Current Loss: 0.6209, Avg Loss: 0.6209\n",
      "Diff stats — min: -5.6958, max: 10.0000, mean: 4.3999, std: 2.9846\n",
      "\n"
     ]
    },
    {
     "name": "stderr",
     "output_type": "stream",
     "text": [
      "/usr/local/lib/python3.11/dist-packages/pandas/core/computation/expressions.py:73: RuntimeWarning: invalid value encountered in less_equal\n",
      "  return op(a, b)\n",
      "/usr/local/lib/python3.11/dist-packages/pandas/core/arraylike.py:399: RuntimeWarning: invalid value encountered in log\n",
      "  result = getattr(ufunc, method)(*inputs, **kwargs)\n"
     ]
    },
    {
     "name": "stdout",
     "output_type": "stream",
     "text": [
      "Step 2910 — Test metrics:\n",
      "  precision@10: 0.008793022\n",
      "  recall@10: 0.008819496\n",
      "  ndcg@10: 0.008856637\n",
      "  map@10: 0.002758583\n",
      "Epoch 98, Step 20, LR: 0.000681, Current Loss: 0.6428, Avg Loss: 0.6411\n",
      "Diff stats — min: -5.3936, max: 10.0000, mean: 4.3938, std: 3.0107\n",
      "\n",
      "Epoch 98 completed, Train Loss: 0.000158\n",
      "\n",
      "Epoch 99, Step 1, LR: 0.000681, Current Loss: 0.6242, Avg Loss: 0.6242\n",
      "Diff stats — min: -4.4377, max: 10.0000, mean: 4.4169, std: 2.9941\n",
      "\n"
     ]
    },
    {
     "name": "stderr",
     "output_type": "stream",
     "text": [
      "/usr/local/lib/python3.11/dist-packages/pandas/core/computation/expressions.py:73: RuntimeWarning: invalid value encountered in less_equal\n",
      "  return op(a, b)\n",
      "/usr/local/lib/python3.11/dist-packages/pandas/core/arraylike.py:399: RuntimeWarning: invalid value encountered in log\n",
      "  result = getattr(ufunc, method)(*inputs, **kwargs)\n"
     ]
    },
    {
     "name": "stdout",
     "output_type": "stream",
     "text": [
      "Step 2940 — Test metrics:\n",
      "  precision@10: 0.008533711\n",
      "  recall@10: 0.008557565\n",
      "  ndcg@10: 0.008664888\n",
      "  map@10: 0.002714989\n",
      "Epoch 99, Step 20, LR: 0.000681, Current Loss: 0.6617, Avg Loss: 0.6381\n",
      "Diff stats — min: -4.9140, max: 10.0000, mean: 4.4361, std: 3.0469\n",
      "\n",
      "Epoch 99 completed, Train Loss: 0.000158\n",
      "\n",
      "Epoch 100, Step 1, LR: 0.000681, Current Loss: 0.6326, Avg Loss: 0.6326\n",
      "Diff stats — min: -5.4651, max: 10.0000, mean: 4.4831, std: 3.0199\n",
      "\n"
     ]
    },
    {
     "name": "stderr",
     "output_type": "stream",
     "text": [
      "/usr/local/lib/python3.11/dist-packages/pandas/core/computation/expressions.py:73: RuntimeWarning: invalid value encountered in less_equal\n",
      "  return op(a, b)\n",
      "/usr/local/lib/python3.11/dist-packages/pandas/core/arraylike.py:399: RuntimeWarning: invalid value encountered in log\n",
      "  result = getattr(ufunc, method)(*inputs, **kwargs)\n"
     ]
    },
    {
     "name": "stdout",
     "output_type": "stream",
     "text": [
      "Step 2970 — Test metrics:\n",
      "  precision@10: 0.009005186\n",
      "  recall@10: 0.009029041\n",
      "  ndcg@10: 0.009049863\n",
      "  map@10: 0.002829500\n",
      "Epoch 100, Step 20, LR: 0.000681, Current Loss: 0.6409, Avg Loss: 0.6368\n",
      "Diff stats — min: -9.6782, max: 10.0000, mean: 4.5456, std: 3.0558\n",
      "\n",
      "Epoch 100 completed, Train Loss: 0.000158\n",
      "\n",
      "Epoch 101, Step 1, LR: 0.000668, Current Loss: 0.6235, Avg Loss: 0.6235\n",
      "Diff stats — min: -4.5648, max: 10.0000, mean: 4.5236, std: 2.9940\n",
      "\n"
     ]
    },
    {
     "name": "stderr",
     "output_type": "stream",
     "text": [
      "/usr/local/lib/python3.11/dist-packages/pandas/core/computation/expressions.py:73: RuntimeWarning: invalid value encountered in less_equal\n",
      "  return op(a, b)\n",
      "/usr/local/lib/python3.11/dist-packages/pandas/core/arraylike.py:399: RuntimeWarning: invalid value encountered in log\n",
      "  result = getattr(ufunc, method)(*inputs, **kwargs)\n"
     ]
    },
    {
     "name": "stdout",
     "output_type": "stream",
     "text": [
      "Step 3000 — Test metrics:\n",
      "  precision@10: 0.008981612\n",
      "  recall@10: 0.009008086\n",
      "  ndcg@10: 0.009027949\n",
      "  map@10: 0.002835086\n",
      "Epoch 101, Step 20, LR: 0.000668, Current Loss: 0.6478, Avg Loss: 0.6375\n",
      "Diff stats — min: -5.3915, max: 10.0000, mean: 4.4968, std: 3.0734\n",
      "\n",
      "Epoch 101 completed, Train Loss: 0.000157\n",
      "\n",
      "Epoch 102, Step 1, LR: 0.000668, Current Loss: 0.6275, Avg Loss: 0.6275\n",
      "Diff stats — min: -6.1421, max: 10.0000, mean: 4.6321, std: 3.0314\n",
      "\n"
     ]
    },
    {
     "name": "stderr",
     "output_type": "stream",
     "text": [
      "/usr/local/lib/python3.11/dist-packages/pandas/core/computation/expressions.py:73: RuntimeWarning: invalid value encountered in less_equal\n",
      "  return op(a, b)\n",
      "/usr/local/lib/python3.11/dist-packages/pandas/core/arraylike.py:399: RuntimeWarning: invalid value encountered in log\n",
      "  result = getattr(ufunc, method)(*inputs, **kwargs)\n"
     ]
    },
    {
     "name": "stdout",
     "output_type": "stream",
     "text": [
      "Step 3030 — Test metrics:\n",
      "  precision@10: 0.008722301\n",
      "  recall@10: 0.008746155\n",
      "  ndcg@10: 0.008847882\n",
      "  map@10: 0.002783693\n",
      "Epoch 102, Step 20, LR: 0.000668, Current Loss: 0.6167, Avg Loss: 0.6348\n",
      "Diff stats — min: -6.3817, max: 10.0000, mean: 4.6732, std: 3.0328\n",
      "\n",
      "Epoch 102 completed, Train Loss: 0.000157\n",
      "\n",
      "Epoch 103, Step 1, LR: 0.000668, Current Loss: 0.6380, Avg Loss: 0.6380\n",
      "Diff stats — min: -5.5533, max: 10.0000, mean: 4.5457, std: 3.0584\n",
      "\n"
     ]
    },
    {
     "name": "stderr",
     "output_type": "stream",
     "text": [
      "/usr/local/lib/python3.11/dist-packages/pandas/core/computation/expressions.py:73: RuntimeWarning: invalid value encountered in less_equal\n",
      "  return op(a, b)\n",
      "/usr/local/lib/python3.11/dist-packages/pandas/core/arraylike.py:399: RuntimeWarning: invalid value encountered in log\n",
      "  result = getattr(ufunc, method)(*inputs, **kwargs)\n"
     ]
    },
    {
     "name": "stdout",
     "output_type": "stream",
     "text": [
      "Step 3060 — Test metrics:\n",
      "  precision@10: 0.009217350\n",
      "  recall@10: 0.009246443\n",
      "  ndcg@10: 0.009211904\n",
      "  map@10: 0.002864104\n",
      "Epoch 103, Step 20, LR: 0.000668, Current Loss: 0.6396, Avg Loss: 0.6328\n",
      "Diff stats — min: -6.3845, max: 10.0000, mean: 4.5112, std: 3.0851\n",
      "\n",
      "Epoch 103 completed, Train Loss: 0.000156\n",
      "\n",
      "Epoch 104, Step 1, LR: 0.000668, Current Loss: 0.6258, Avg Loss: 0.6258\n",
      "Diff stats — min: -5.2748, max: 10.0000, mean: 4.6299, std: 3.0472\n",
      "\n"
     ]
    },
    {
     "name": "stderr",
     "output_type": "stream",
     "text": [
      "/usr/local/lib/python3.11/dist-packages/pandas/core/computation/expressions.py:73: RuntimeWarning: invalid value encountered in less_equal\n",
      "  return op(a, b)\n",
      "/usr/local/lib/python3.11/dist-packages/pandas/core/arraylike.py:399: RuntimeWarning: invalid value encountered in log\n",
      "  result = getattr(ufunc, method)(*inputs, **kwargs)\n"
     ]
    },
    {
     "name": "stdout",
     "output_type": "stream",
     "text": [
      "Step 3090 — Test metrics:\n",
      "  precision@10: 0.008981612\n",
      "  recall@10: 0.009008086\n",
      "  ndcg@10: 0.008993746\n",
      "  map@10: 0.002791018\n",
      "Epoch 104, Step 20, LR: 0.000668, Current Loss: 0.6405, Avg Loss: 0.6280\n",
      "Diff stats — min: -7.1018, max: 10.0000, mean: 4.6371, std: 3.0584\n",
      "\n",
      "Epoch 104 completed, Train Loss: 0.000156\n",
      "\n",
      "Epoch 105, Step 1, LR: 0.000668, Current Loss: 0.6371, Avg Loss: 0.6371\n",
      "Diff stats — min: -5.0590, max: 10.0000, mean: 4.6411, std: 3.0716\n",
      "\n"
     ]
    },
    {
     "name": "stderr",
     "output_type": "stream",
     "text": [
      "/usr/local/lib/python3.11/dist-packages/pandas/core/computation/expressions.py:73: RuntimeWarning: invalid value encountered in less_equal\n",
      "  return op(a, b)\n",
      "/usr/local/lib/python3.11/dist-packages/pandas/core/arraylike.py:399: RuntimeWarning: invalid value encountered in log\n",
      "  result = getattr(ufunc, method)(*inputs, **kwargs)\n"
     ]
    },
    {
     "name": "stdout",
     "output_type": "stream",
     "text": [
      "Step 3120 — Test metrics:\n",
      "  precision@10: 0.009075908\n",
      "  recall@10: 0.009102381\n",
      "  ndcg@10: 0.009134437\n",
      "  map@10: 0.002839317\n",
      "Epoch 105, Step 20, LR: 0.000668, Current Loss: 0.6210, Avg Loss: 0.6290\n",
      "Diff stats — min: -5.2726, max: 10.0000, mean: 4.6855, std: 3.1220\n",
      "\n",
      "Epoch 105 completed, Train Loss: 0.000155\n",
      "\n",
      "Epoch 106, Step 1, LR: 0.000654, Current Loss: 0.6286, Avg Loss: 0.6286\n",
      "Diff stats — min: -6.3952, max: 10.0000, mean: 4.7351, std: 3.0980\n",
      "\n"
     ]
    },
    {
     "name": "stderr",
     "output_type": "stream",
     "text": [
      "/usr/local/lib/python3.11/dist-packages/pandas/core/computation/expressions.py:73: RuntimeWarning: invalid value encountered in less_equal\n",
      "  return op(a, b)\n",
      "/usr/local/lib/python3.11/dist-packages/pandas/core/arraylike.py:399: RuntimeWarning: invalid value encountered in log\n",
      "  result = getattr(ufunc, method)(*inputs, **kwargs)\n"
     ]
    },
    {
     "name": "stdout",
     "output_type": "stream",
     "text": [
      "Step 3150 — Test metrics:\n",
      "  precision@10: 0.008910891\n",
      "  recall@10: 0.008937365\n",
      "  ndcg@10: 0.009000358\n",
      "  map@10: 0.002808545\n",
      "Epoch 106, Step 20, LR: 0.000654, Current Loss: 0.6414, Avg Loss: 0.6286\n",
      "Diff stats — min: -5.1516, max: 10.0000, mean: 4.6349, std: 3.1213\n",
      "\n",
      "Epoch 106 completed, Train Loss: 0.000155\n",
      "\n",
      "Epoch 107, Step 1, LR: 0.000654, Current Loss: 0.6449, Avg Loss: 0.6449\n",
      "Diff stats — min: -4.6385, max: 10.0000, mean: 4.7103, std: 3.1014\n",
      "\n"
     ]
    },
    {
     "name": "stderr",
     "output_type": "stream",
     "text": [
      "/usr/local/lib/python3.11/dist-packages/pandas/core/computation/expressions.py:73: RuntimeWarning: invalid value encountered in less_equal\n",
      "  return op(a, b)\n",
      "/usr/local/lib/python3.11/dist-packages/pandas/core/arraylike.py:399: RuntimeWarning: invalid value encountered in log\n",
      "  result = getattr(ufunc, method)(*inputs, **kwargs)\n"
     ]
    },
    {
     "name": "stdout",
     "output_type": "stream",
     "text": [
      "Step 3180 — Test metrics:\n",
      "  precision@10: 0.008840170\n",
      "  recall@10: 0.008866643\n",
      "  ndcg@10: 0.008875102\n",
      "  map@10: 0.002742185\n",
      "Epoch 107, Step 20, LR: 0.000654, Current Loss: 0.6096, Avg Loss: 0.6277\n",
      "Diff stats — min: -5.6673, max: 10.0000, mean: 4.7097, std: 3.0638\n",
      "\n",
      "Epoch 107 completed, Train Loss: 0.000155\n",
      "\n",
      "Epoch 108, Step 1, LR: 0.000654, Current Loss: 0.6422, Avg Loss: 0.6422\n",
      "Diff stats — min: -5.6662, max: 10.0000, mean: 4.6868, std: 3.1316\n",
      "\n"
     ]
    },
    {
     "name": "stderr",
     "output_type": "stream",
     "text": [
      "/usr/local/lib/python3.11/dist-packages/pandas/core/computation/expressions.py:73: RuntimeWarning: invalid value encountered in less_equal\n",
      "  return op(a, b)\n",
      "/usr/local/lib/python3.11/dist-packages/pandas/core/arraylike.py:399: RuntimeWarning: invalid value encountered in log\n",
      "  result = getattr(ufunc, method)(*inputs, **kwargs)\n"
     ]
    },
    {
     "name": "stdout",
     "output_type": "stream",
     "text": [
      "Step 3210 — Test metrics:\n",
      "  precision@10: 0.009170203\n",
      "  recall@10: 0.009196676\n",
      "  ndcg@10: 0.009209937\n",
      "  map@10: 0.002881064\n",
      "Epoch 108, Step 20, LR: 0.000654, Current Loss: 0.6224, Avg Loss: 0.6238\n",
      "Diff stats — min: -5.1504, max: 10.0000, mean: 4.7462, std: 3.1231\n",
      "\n",
      "Epoch 108 completed, Train Loss: 0.000154\n",
      "\n",
      "Epoch 109, Step 1, LR: 0.000654, Current Loss: 0.6109, Avg Loss: 0.6109\n",
      "Diff stats — min: -5.8933, max: 10.0000, mean: 4.8223, std: 3.0858\n",
      "\n"
     ]
    },
    {
     "name": "stderr",
     "output_type": "stream",
     "text": [
      "/usr/local/lib/python3.11/dist-packages/pandas/core/computation/expressions.py:73: RuntimeWarning: invalid value encountered in less_equal\n",
      "  return op(a, b)\n",
      "/usr/local/lib/python3.11/dist-packages/pandas/core/arraylike.py:399: RuntimeWarning: invalid value encountered in log\n",
      "  result = getattr(ufunc, method)(*inputs, **kwargs)\n"
     ]
    },
    {
     "name": "stdout",
     "output_type": "stream",
     "text": [
      "Step 3240 — Test metrics:\n",
      "  precision@10: 0.009146629\n",
      "  recall@10: 0.009173103\n",
      "  ndcg@10: 0.009258326\n",
      "  map@10: 0.002918034\n",
      "Epoch 109, Step 20, LR: 0.000654, Current Loss: 0.6171, Avg Loss: 0.6218\n",
      "Diff stats — min: -4.9176, max: 10.0000, mean: 4.7301, std: 3.0771\n",
      "\n",
      "Epoch 109 completed, Train Loss: 0.000154\n",
      "\n",
      "Epoch 110, Step 1, LR: 0.000654, Current Loss: 0.6138, Avg Loss: 0.6138\n",
      "Diff stats — min: -5.8935, max: 10.0000, mean: 4.8523, std: 3.1353\n",
      "\n"
     ]
    },
    {
     "name": "stderr",
     "output_type": "stream",
     "text": [
      "/usr/local/lib/python3.11/dist-packages/pandas/core/computation/expressions.py:73: RuntimeWarning: invalid value encountered in less_equal\n",
      "  return op(a, b)\n",
      "/usr/local/lib/python3.11/dist-packages/pandas/core/arraylike.py:399: RuntimeWarning: invalid value encountered in log\n",
      "  result = getattr(ufunc, method)(*inputs, **kwargs)\n"
     ]
    },
    {
     "name": "stdout",
     "output_type": "stream",
     "text": [
      "Step 3270 — Test metrics:\n",
      "  precision@10: 0.009476662\n",
      "  recall@10: 0.009503136\n",
      "  ndcg@10: 0.009363074\n",
      "  map@10: 0.002886409\n",
      "Epoch 110, Step 20, LR: 0.000654, Current Loss: 0.6128, Avg Loss: 0.6210\n",
      "Diff stats — min: -8.8805, max: 10.0000, mean: 4.8468, std: 3.1252\n",
      "\n",
      "Epoch 110 completed, Train Loss: 0.000154\n",
      "\n",
      "Epoch 111, Step 1, LR: 0.000641, Current Loss: 0.6115, Avg Loss: 0.6115\n",
      "Diff stats — min: -5.6856, max: 10.0000, mean: 4.9500, std: 3.0886\n",
      "\n"
     ]
    },
    {
     "name": "stderr",
     "output_type": "stream",
     "text": [
      "/usr/local/lib/python3.11/dist-packages/pandas/core/computation/expressions.py:73: RuntimeWarning: invalid value encountered in less_equal\n",
      "  return op(a, b)\n",
      "/usr/local/lib/python3.11/dist-packages/pandas/core/arraylike.py:399: RuntimeWarning: invalid value encountered in log\n",
      "  result = getattr(ufunc, method)(*inputs, **kwargs)\n"
     ]
    },
    {
     "name": "stdout",
     "output_type": "stream",
     "text": [
      "Step 3300 — Test metrics:\n",
      "  precision@10: 0.009618105\n",
      "  recall@10: 0.009644578\n",
      "  ndcg@10: 0.009434960\n",
      "  map@10: 0.002922396\n",
      "Epoch 111, Step 20, LR: 0.000641, Current Loss: 0.6190, Avg Loss: 0.6183\n",
      "Diff stats — min: -4.8098, max: 10.0000, mean: 4.8641, std: 3.0863\n",
      "\n",
      "Epoch 111 completed, Train Loss: 0.000153\n",
      "\n",
      "Epoch 112, Step 1, LR: 0.000641, Current Loss: 0.6307, Avg Loss: 0.6307\n",
      "Diff stats — min: -4.2852, max: 10.0000, mean: 4.8301, std: 3.1342\n",
      "\n"
     ]
    },
    {
     "name": "stderr",
     "output_type": "stream",
     "text": [
      "/usr/local/lib/python3.11/dist-packages/pandas/core/computation/expressions.py:73: RuntimeWarning: invalid value encountered in less_equal\n",
      "  return op(a, b)\n",
      "/usr/local/lib/python3.11/dist-packages/pandas/core/arraylike.py:399: RuntimeWarning: invalid value encountered in log\n",
      "  result = getattr(ufunc, method)(*inputs, **kwargs)\n"
     ]
    },
    {
     "name": "stdout",
     "output_type": "stream",
     "text": [
      "Step 3330 — Test metrics:\n",
      "  precision@10: 0.009311645\n",
      "  recall@10: 0.009338119\n",
      "  ndcg@10: 0.009319355\n",
      "  map@10: 0.002935315\n",
      "Epoch 112, Step 20, LR: 0.000641, Current Loss: 0.6044, Avg Loss: 0.6152\n",
      "Diff stats — min: -4.8601, max: 10.0000, mean: 4.8899, std: 3.1250\n",
      "\n",
      "Epoch 112 completed, Train Loss: 0.000152\n",
      "\n",
      "Epoch 113, Step 1, LR: 0.000641, Current Loss: 0.6132, Avg Loss: 0.6132\n",
      "Diff stats — min: -5.0735, max: 10.0000, mean: 4.8170, std: 3.0795\n",
      "\n"
     ]
    },
    {
     "name": "stderr",
     "output_type": "stream",
     "text": [
      "/usr/local/lib/python3.11/dist-packages/pandas/core/computation/expressions.py:73: RuntimeWarning: invalid value encountered in less_equal\n",
      "  return op(a, b)\n",
      "/usr/local/lib/python3.11/dist-packages/pandas/core/arraylike.py:399: RuntimeWarning: invalid value encountered in log\n",
      "  result = getattr(ufunc, method)(*inputs, **kwargs)\n"
     ]
    },
    {
     "name": "stdout",
     "output_type": "stream",
     "text": [
      "Step 3360 — Test metrics:\n",
      "  precision@10: 0.009594531\n",
      "  recall@10: 0.009621005\n",
      "  ndcg@10: 0.009650569\n",
      "  map@10: 0.003061759\n",
      "Epoch 113, Step 20, LR: 0.000641, Current Loss: 0.6293, Avg Loss: 0.6190\n",
      "Diff stats — min: -7.6224, max: 10.0000, mean: 4.8745, std: 3.1269\n",
      "\n",
      "Epoch 113 completed, Train Loss: 0.000153\n",
      "\n",
      "Epoch 114, Step 1, LR: 0.000641, Current Loss: 0.6252, Avg Loss: 0.6252\n",
      "Diff stats — min: -6.8939, max: 10.0000, mean: 5.0402, std: 3.1418\n",
      "\n"
     ]
    },
    {
     "name": "stderr",
     "output_type": "stream",
     "text": [
      "/usr/local/lib/python3.11/dist-packages/pandas/core/computation/expressions.py:73: RuntimeWarning: invalid value encountered in less_equal\n",
      "  return op(a, b)\n",
      "/usr/local/lib/python3.11/dist-packages/pandas/core/arraylike.py:399: RuntimeWarning: invalid value encountered in log\n",
      "  result = getattr(ufunc, method)(*inputs, **kwargs)\n"
     ]
    },
    {
     "name": "stdout",
     "output_type": "stream",
     "text": [
      "Step 3390 — Test metrics:\n",
      "  precision@10: 0.009665252\n",
      "  recall@10: 0.009691726\n",
      "  ndcg@10: 0.009632524\n",
      "  map@10: 0.003032881\n",
      "Epoch 114, Step 20, LR: 0.000641, Current Loss: 0.6425, Avg Loss: 0.6180\n",
      "Diff stats — min: -5.7334, max: 10.0000, mean: 4.8285, std: 3.1873\n",
      "\n",
      "Epoch 114 completed, Train Loss: 0.000152\n",
      "\n",
      "Epoch 115, Step 1, LR: 0.000641, Current Loss: 0.6064, Avg Loss: 0.6064\n",
      "Diff stats — min: -7.6923, max: 10.0000, mean: 5.0223, std: 3.1313\n",
      "\n"
     ]
    },
    {
     "name": "stderr",
     "output_type": "stream",
     "text": [
      "/usr/local/lib/python3.11/dist-packages/pandas/core/computation/expressions.py:73: RuntimeWarning: invalid value encountered in less_equal\n",
      "  return op(a, b)\n",
      "/usr/local/lib/python3.11/dist-packages/pandas/core/arraylike.py:399: RuntimeWarning: invalid value encountered in log\n",
      "  result = getattr(ufunc, method)(*inputs, **kwargs)\n"
     ]
    },
    {
     "name": "stdout",
     "output_type": "stream",
     "text": [
      "Step 3420 — Test metrics:\n",
      "  precision@10: 0.009618105\n",
      "  recall@10: 0.009644578\n",
      "  ndcg@10: 0.009628045\n",
      "  map@10: 0.003030630\n",
      "Epoch 115, Step 20, LR: 0.000641, Current Loss: 0.6196, Avg Loss: 0.6157\n",
      "Diff stats — min: -6.2500, max: 10.0000, mean: 4.9809, std: 3.1432\n",
      "\n",
      "Epoch 115 completed, Train Loss: 0.000152\n",
      "\n",
      "Epoch 116, Step 1, LR: 0.000628, Current Loss: 0.6113, Avg Loss: 0.6113\n",
      "Diff stats — min: -4.8286, max: 10.0000, mean: 4.9210, std: 3.1042\n",
      "\n"
     ]
    },
    {
     "name": "stderr",
     "output_type": "stream",
     "text": [
      "/usr/local/lib/python3.11/dist-packages/pandas/core/computation/expressions.py:73: RuntimeWarning: invalid value encountered in less_equal\n",
      "  return op(a, b)\n",
      "/usr/local/lib/python3.11/dist-packages/pandas/core/arraylike.py:399: RuntimeWarning: invalid value encountered in log\n",
      "  result = getattr(ufunc, method)(*inputs, **kwargs)\n"
     ]
    },
    {
     "name": "stdout",
     "output_type": "stream",
     "text": [
      "Step 3450 — Test metrics:\n",
      "  precision@10: 0.009924564\n",
      "  recall@10: 0.009951038\n",
      "  ndcg@10: 0.009857535\n",
      "  map@10: 0.003084603\n",
      "Epoch 116, Step 20, LR: 0.000628, Current Loss: 0.6219, Avg Loss: 0.6129\n",
      "Diff stats — min: -7.1430, max: 10.0000, mean: 4.9393, std: 3.1769\n",
      "\n",
      "Epoch 116 completed, Train Loss: 0.000151\n",
      "\n",
      "Epoch 117, Step 1, LR: 0.000628, Current Loss: 0.6058, Avg Loss: 0.6058\n",
      "Diff stats — min: -5.8959, max: 10.0000, mean: 5.0546, std: 3.1007\n",
      "\n"
     ]
    },
    {
     "name": "stderr",
     "output_type": "stream",
     "text": [
      "/usr/local/lib/python3.11/dist-packages/pandas/core/computation/expressions.py:73: RuntimeWarning: invalid value encountered in less_equal\n",
      "  return op(a, b)\n",
      "/usr/local/lib/python3.11/dist-packages/pandas/core/arraylike.py:399: RuntimeWarning: invalid value encountered in log\n",
      "  result = getattr(ufunc, method)(*inputs, **kwargs)\n"
     ]
    },
    {
     "name": "stdout",
     "output_type": "stream",
     "text": [
      "Step 3480 — Test metrics:\n",
      "  precision@10: 0.009594531\n",
      "  recall@10: 0.009621005\n",
      "  ndcg@10: 0.009460452\n",
      "  map@10: 0.002899646\n",
      "Epoch 117, Step 20, LR: 0.000628, Current Loss: 0.6131, Avg Loss: 0.6087\n",
      "Diff stats — min: -5.3831, max: 10.0000, mean: 5.0293, std: 3.1301\n",
      "\n",
      "Epoch 117 completed, Train Loss: 0.000151\n",
      "\n",
      "Epoch 118, Step 1, LR: 0.000628, Current Loss: 0.6032, Avg Loss: 0.6032\n",
      "Diff stats — min: -6.7820, max: 10.0000, mean: 5.1006, std: 3.1419\n",
      "\n"
     ]
    },
    {
     "name": "stderr",
     "output_type": "stream",
     "text": [
      "/usr/local/lib/python3.11/dist-packages/pandas/core/computation/expressions.py:73: RuntimeWarning: invalid value encountered in less_equal\n",
      "  return op(a, b)\n",
      "/usr/local/lib/python3.11/dist-packages/pandas/core/arraylike.py:399: RuntimeWarning: invalid value encountered in log\n",
      "  result = getattr(ufunc, method)(*inputs, **kwargs)\n"
     ]
    },
    {
     "name": "stdout",
     "output_type": "stream",
     "text": [
      "Step 3510 — Test metrics:\n",
      "  precision@10: 0.009453088\n",
      "  recall@10: 0.009479562\n",
      "  ndcg@10: 0.009379619\n",
      "  map@10: 0.002898561\n",
      "Epoch 118, Step 20, LR: 0.000628, Current Loss: 0.6086, Avg Loss: 0.6103\n",
      "Diff stats — min: -6.0427, max: 10.0000, mean: 4.9540, std: 3.1432\n",
      "\n",
      "Epoch 118 completed, Train Loss: 0.000151\n",
      "\n",
      "Epoch 119, Step 1, LR: 0.000628, Current Loss: 0.6119, Avg Loss: 0.6119\n",
      "Diff stats — min: -5.6462, max: 10.0000, mean: 5.0263, std: 3.1213\n",
      "\n"
     ]
    },
    {
     "name": "stderr",
     "output_type": "stream",
     "text": [
      "/usr/local/lib/python3.11/dist-packages/pandas/core/computation/expressions.py:73: RuntimeWarning: invalid value encountered in less_equal\n",
      "  return op(a, b)\n",
      "/usr/local/lib/python3.11/dist-packages/pandas/core/arraylike.py:399: RuntimeWarning: invalid value encountered in log\n",
      "  result = getattr(ufunc, method)(*inputs, **kwargs)\n"
     ]
    },
    {
     "name": "stdout",
     "output_type": "stream",
     "text": [
      "Step 3540 — Test metrics:\n",
      "  precision@10: 0.009570957\n",
      "  recall@10: 0.009597431\n",
      "  ndcg@10: 0.009567971\n",
      "  map@10: 0.003017502\n",
      "Epoch 119, Step 20, LR: 0.000628, Current Loss: 0.6235, Avg Loss: 0.6090\n",
      "Diff stats — min: -5.6616, max: 10.0000, mean: 5.0104, std: 3.1450\n",
      "\n",
      "Epoch 119 completed, Train Loss: 0.000150\n",
      "\n",
      "Epoch 120, Step 1, LR: 0.000628, Current Loss: 0.6082, Avg Loss: 0.6082\n",
      "Diff stats — min: -5.7949, max: 10.0000, mean: 5.1144, std: 3.1716\n",
      "\n"
     ]
    },
    {
     "name": "stderr",
     "output_type": "stream",
     "text": [
      "/usr/local/lib/python3.11/dist-packages/pandas/core/computation/expressions.py:73: RuntimeWarning: invalid value encountered in less_equal\n",
      "  return op(a, b)\n",
      "/usr/local/lib/python3.11/dist-packages/pandas/core/arraylike.py:399: RuntimeWarning: invalid value encountered in log\n",
      "  result = getattr(ufunc, method)(*inputs, **kwargs)\n"
     ]
    },
    {
     "name": "stdout",
     "output_type": "stream",
     "text": [
      "Step 3570 — Test metrics:\n",
      "  precision@10: 0.009123055\n",
      "  recall@10: 0.009149529\n",
      "  ndcg@10: 0.009395951\n",
      "  map@10: 0.003023888\n",
      "Epoch 120, Step 20, LR: 0.000628, Current Loss: 0.6576, Avg Loss: 0.6104\n",
      "Diff stats — min: -7.1519, max: 10.0000, mean: 5.0933, std: 3.2287\n",
      "\n",
      "Epoch 120 completed, Train Loss: 0.000150\n",
      "\n",
      "Epoch 121, Step 1, LR: 0.000616, Current Loss: 0.6163, Avg Loss: 0.6163\n",
      "Diff stats — min: -7.2021, max: 10.0000, mean: 5.0983, std: 3.2150\n",
      "\n"
     ]
    },
    {
     "name": "stderr",
     "output_type": "stream",
     "text": [
      "/usr/local/lib/python3.11/dist-packages/pandas/core/computation/expressions.py:73: RuntimeWarning: invalid value encountered in less_equal\n",
      "  return op(a, b)\n",
      "/usr/local/lib/python3.11/dist-packages/pandas/core/arraylike.py:399: RuntimeWarning: invalid value encountered in log\n",
      "  result = getattr(ufunc, method)(*inputs, **kwargs)\n"
     ]
    },
    {
     "name": "stdout",
     "output_type": "stream",
     "text": [
      "Step 3600 — Test metrics:\n",
      "  precision@10: 0.009288072\n",
      "  recall@10: 0.009314545\n",
      "  ndcg@10: 0.009512694\n",
      "  map@10: 0.003046770\n",
      "Epoch 121, Step 20, LR: 0.000616, Current Loss: 0.6062, Avg Loss: 0.6100\n",
      "Diff stats — min: -6.0467, max: 10.0000, mean: 5.2116, std: 3.1635\n",
      "\n",
      "Epoch 121 completed, Train Loss: 0.000150\n",
      "\n",
      "Epoch 122, Step 1, LR: 0.000616, Current Loss: 0.6165, Avg Loss: 0.6165\n",
      "Diff stats — min: -6.2014, max: 10.0000, mean: 5.0932, std: 3.1913\n",
      "\n"
     ]
    },
    {
     "name": "stderr",
     "output_type": "stream",
     "text": [
      "/usr/local/lib/python3.11/dist-packages/pandas/core/computation/expressions.py:73: RuntimeWarning: invalid value encountered in less_equal\n",
      "  return op(a, b)\n",
      "/usr/local/lib/python3.11/dist-packages/pandas/core/arraylike.py:399: RuntimeWarning: invalid value encountered in log\n",
      "  result = getattr(ufunc, method)(*inputs, **kwargs)\n"
     ]
    },
    {
     "name": "stdout",
     "output_type": "stream",
     "text": [
      "Step 3630 — Test metrics:\n",
      "  precision@10: 0.008981612\n",
      "  recall@10: 0.009008086\n",
      "  ndcg@10: 0.009263157\n",
      "  map@10: 0.002970183\n",
      "Epoch 122, Step 20, LR: 0.000616, Current Loss: 0.6038, Avg Loss: 0.6021\n",
      "Diff stats — min: -5.1360, max: 10.0000, mean: 5.1141, std: 3.1387\n",
      "\n",
      "Epoch 122 completed, Train Loss: 0.000149\n",
      "\n",
      "Epoch 123, Step 1, LR: 0.000616, Current Loss: 0.6191, Avg Loss: 0.6191\n",
      "Diff stats — min: -5.1939, max: 10.0000, mean: 5.1822, std: 3.2039\n",
      "\n"
     ]
    },
    {
     "name": "stderr",
     "output_type": "stream",
     "text": [
      "/usr/local/lib/python3.11/dist-packages/pandas/core/computation/expressions.py:73: RuntimeWarning: invalid value encountered in less_equal\n",
      "  return op(a, b)\n",
      "/usr/local/lib/python3.11/dist-packages/pandas/core/arraylike.py:399: RuntimeWarning: invalid value encountered in log\n",
      "  result = getattr(ufunc, method)(*inputs, **kwargs)\n"
     ]
    },
    {
     "name": "stdout",
     "output_type": "stream",
     "text": [
      "Step 3660 — Test metrics:\n",
      "  precision@10: 0.009335219\n",
      "  recall@10: 0.009361693\n",
      "  ndcg@10: 0.009436654\n",
      "  map@10: 0.002991033\n",
      "Epoch 123, Step 20, LR: 0.000616, Current Loss: 0.5930, Avg Loss: 0.6026\n",
      "Diff stats — min: -5.9766, max: 10.0000, mean: 5.1497, std: 3.1198\n",
      "\n",
      "Epoch 123 completed, Train Loss: 0.000149\n",
      "\n",
      "Epoch 124, Step 1, LR: 0.000616, Current Loss: 0.5848, Avg Loss: 0.5848\n",
      "Diff stats — min: -5.4142, max: 10.0000, mean: 5.1471, std: 3.1721\n",
      "\n"
     ]
    },
    {
     "name": "stderr",
     "output_type": "stream",
     "text": [
      "/usr/local/lib/python3.11/dist-packages/pandas/core/computation/expressions.py:73: RuntimeWarning: invalid value encountered in less_equal\n",
      "  return op(a, b)\n",
      "/usr/local/lib/python3.11/dist-packages/pandas/core/arraylike.py:399: RuntimeWarning: invalid value encountered in log\n",
      "  result = getattr(ufunc, method)(*inputs, **kwargs)\n"
     ]
    },
    {
     "name": "stdout",
     "output_type": "stream",
     "text": [
      "Step 3690 — Test metrics:\n",
      "  precision@10: 0.009688826\n",
      "  recall@10: 0.009715300\n",
      "  ndcg@10: 0.009711674\n",
      "  map@10: 0.003095249\n",
      "Epoch 124, Step 20, LR: 0.000616, Current Loss: 0.5987, Avg Loss: 0.6042\n",
      "Diff stats — min: -5.1417, max: 10.0000, mean: 5.1633, std: 3.1858\n",
      "\n",
      "Epoch 124 completed, Train Loss: 0.000149\n",
      "\n",
      "Epoch 125, Step 1, LR: 0.000616, Current Loss: 0.5954, Avg Loss: 0.5954\n",
      "Diff stats — min: -6.8050, max: 10.0000, mean: 5.2688, std: 3.1163\n",
      "\n"
     ]
    },
    {
     "name": "stderr",
     "output_type": "stream",
     "text": [
      "/usr/local/lib/python3.11/dist-packages/pandas/core/computation/expressions.py:73: RuntimeWarning: invalid value encountered in less_equal\n",
      "  return op(a, b)\n",
      "/usr/local/lib/python3.11/dist-packages/pandas/core/arraylike.py:399: RuntimeWarning: invalid value encountered in log\n",
      "  result = getattr(ufunc, method)(*inputs, **kwargs)\n"
     ]
    },
    {
     "name": "stdout",
     "output_type": "stream",
     "text": [
      "Step 3720 — Test metrics:\n",
      "  precision@10: 0.009523810\n",
      "  recall@10: 0.009550283\n",
      "  ndcg@10: 0.009701604\n",
      "  map@10: 0.003113110\n",
      "Epoch 125, Step 20, LR: 0.000616, Current Loss: 0.6057, Avg Loss: 0.5974\n",
      "Diff stats — min: -8.5586, max: 10.0000, mean: 5.2371, std: 3.1760\n",
      "\n",
      "Epoch 125 completed, Train Loss: 0.000148\n",
      "\n",
      "Epoch 126, Step 1, LR: 0.000603, Current Loss: 0.6001, Avg Loss: 0.6001\n",
      "Diff stats — min: -7.5580, max: 10.0000, mean: 5.2846, std: 3.1771\n",
      "\n"
     ]
    },
    {
     "name": "stderr",
     "output_type": "stream",
     "text": [
      "/usr/local/lib/python3.11/dist-packages/pandas/core/computation/expressions.py:73: RuntimeWarning: invalid value encountered in less_equal\n",
      "  return op(a, b)\n",
      "/usr/local/lib/python3.11/dist-packages/pandas/core/arraylike.py:399: RuntimeWarning: invalid value encountered in log\n",
      "  result = getattr(ufunc, method)(*inputs, **kwargs)\n"
     ]
    },
    {
     "name": "stdout",
     "output_type": "stream",
     "text": [
      "Step 3750 — Test metrics:\n",
      "  precision@10: 0.009688826\n",
      "  recall@10: 0.009715300\n",
      "  ndcg@10: 0.009806161\n",
      "  map@10: 0.003137966\n",
      "Epoch 126, Step 20, LR: 0.000603, Current Loss: 0.6278, Avg Loss: 0.6002\n",
      "Diff stats — min: -6.3716, max: 10.0000, mean: 5.1654, std: 3.1800\n",
      "\n",
      "Epoch 126 completed, Train Loss: 0.000148\n",
      "\n",
      "Epoch 127, Step 1, LR: 0.000603, Current Loss: 0.6038, Avg Loss: 0.6038\n",
      "Diff stats — min: -7.8364, max: 10.0000, mean: 5.3298, std: 3.1618\n",
      "\n"
     ]
    },
    {
     "name": "stderr",
     "output_type": "stream",
     "text": [
      "/usr/local/lib/python3.11/dist-packages/pandas/core/computation/expressions.py:73: RuntimeWarning: invalid value encountered in less_equal\n",
      "  return op(a, b)\n",
      "/usr/local/lib/python3.11/dist-packages/pandas/core/arraylike.py:399: RuntimeWarning: invalid value encountered in log\n",
      "  result = getattr(ufunc, method)(*inputs, **kwargs)\n"
     ]
    },
    {
     "name": "stdout",
     "output_type": "stream",
     "text": [
      "Step 3780 — Test metrics:\n",
      "  precision@10: 0.009570957\n",
      "  recall@10: 0.009597431\n",
      "  ndcg@10: 0.009638955\n",
      "  map@10: 0.003065182\n",
      "Epoch 127, Step 20, LR: 0.000603, Current Loss: 0.5906, Avg Loss: 0.6013\n",
      "Diff stats — min: -6.4692, max: 10.0000, mean: 5.3663, std: 3.1685\n",
      "\n",
      "Epoch 127 completed, Train Loss: 0.000148\n",
      "\n",
      "Epoch 128, Step 1, LR: 0.000603, Current Loss: 0.6077, Avg Loss: 0.6077\n",
      "Diff stats — min: -8.0356, max: 10.0000, mean: 5.2566, std: 3.2279\n",
      "\n"
     ]
    },
    {
     "name": "stderr",
     "output_type": "stream",
     "text": [
      "/usr/local/lib/python3.11/dist-packages/pandas/core/computation/expressions.py:73: RuntimeWarning: invalid value encountered in less_equal\n",
      "  return op(a, b)\n",
      "/usr/local/lib/python3.11/dist-packages/pandas/core/arraylike.py:399: RuntimeWarning: invalid value encountered in log\n",
      "  result = getattr(ufunc, method)(*inputs, **kwargs)\n"
     ]
    },
    {
     "name": "stdout",
     "output_type": "stream",
     "text": [
      "Step 3810 — Test metrics:\n",
      "  precision@10: 0.009806695\n",
      "  recall@10: 0.009833169\n",
      "  ndcg@10: 0.009904883\n",
      "  map@10: 0.003158873\n",
      "Epoch 128, Step 20, LR: 0.000603, Current Loss: 0.5971, Avg Loss: 0.5970\n",
      "Diff stats — min: -7.0278, max: 10.0000, mean: 5.3481, std: 3.1726\n",
      "\n",
      "Epoch 128 completed, Train Loss: 0.000148\n",
      "\n",
      "Epoch 129, Step 1, LR: 0.000603, Current Loss: 0.5760, Avg Loss: 0.5760\n",
      "Diff stats — min: -6.7930, max: 10.0000, mean: 5.4536, std: 3.1675\n",
      "\n"
     ]
    },
    {
     "name": "stderr",
     "output_type": "stream",
     "text": [
      "/usr/local/lib/python3.11/dist-packages/pandas/core/computation/expressions.py:73: RuntimeWarning: invalid value encountered in less_equal\n",
      "  return op(a, b)\n",
      "/usr/local/lib/python3.11/dist-packages/pandas/core/arraylike.py:399: RuntimeWarning: invalid value encountered in log\n",
      "  result = getattr(ufunc, method)(*inputs, **kwargs)\n"
     ]
    },
    {
     "name": "stdout",
     "output_type": "stream",
     "text": [
      "Step 3840 — Test metrics:\n",
      "  precision@10: 0.010089580\n",
      "  recall@10: 0.010116054\n",
      "  ndcg@10: 0.010234237\n",
      "  map@10: 0.003295453\n",
      "Epoch 129, Step 20, LR: 0.000603, Current Loss: 0.5969, Avg Loss: 0.5974\n",
      "Diff stats — min: -5.6209, max: 10.0000, mean: 5.3665, std: 3.1937\n",
      "\n",
      "Epoch 129 completed, Train Loss: 0.000147\n",
      "\n",
      "Epoch 130, Step 1, LR: 0.000603, Current Loss: 0.5939, Avg Loss: 0.5939\n",
      "Diff stats — min: -5.6359, max: 10.0000, mean: 5.3441, std: 3.1530\n",
      "\n"
     ]
    },
    {
     "name": "stderr",
     "output_type": "stream",
     "text": [
      "/usr/local/lib/python3.11/dist-packages/pandas/core/computation/expressions.py:73: RuntimeWarning: invalid value encountered in less_equal\n",
      "  return op(a, b)\n",
      "/usr/local/lib/python3.11/dist-packages/pandas/core/arraylike.py:399: RuntimeWarning: invalid value encountered in log\n",
      "  result = getattr(ufunc, method)(*inputs, **kwargs)\n"
     ]
    },
    {
     "name": "stdout",
     "output_type": "stream",
     "text": [
      "Step 3870 — Test metrics:\n",
      "  precision@10: 0.009948138\n",
      "  recall@10: 0.009979850\n",
      "  ndcg@10: 0.010134347\n",
      "  map@10: 0.003293805\n",
      "Epoch 130, Step 20, LR: 0.000603, Current Loss: 0.5940, Avg Loss: 0.5935\n",
      "Diff stats — min: -5.1444, max: 10.0000, mean: 5.3737, std: 3.1415\n",
      "\n",
      "Epoch 130 completed, Train Loss: 0.000147\n",
      "\n",
      "Epoch 131, Step 1, LR: 0.000591, Current Loss: 0.5782, Avg Loss: 0.5782\n",
      "Diff stats — min: -6.9122, max: 10.0000, mean: 5.4288, std: 3.1247\n",
      "\n"
     ]
    },
    {
     "name": "stderr",
     "output_type": "stream",
     "text": [
      "/usr/local/lib/python3.11/dist-packages/pandas/core/computation/expressions.py:73: RuntimeWarning: invalid value encountered in less_equal\n",
      "  return op(a, b)\n",
      "/usr/local/lib/python3.11/dist-packages/pandas/core/arraylike.py:399: RuntimeWarning: invalid value encountered in log\n",
      "  result = getattr(ufunc, method)(*inputs, **kwargs)\n"
     ]
    },
    {
     "name": "stdout",
     "output_type": "stream",
     "text": [
      "Step 3900 — Test metrics:\n",
      "  precision@10: 0.009712400\n",
      "  recall@10: 0.009744112\n",
      "  ndcg@10: 0.009730482\n",
      "  map@10: 0.003092181\n",
      "Epoch 131, Step 20, LR: 0.000591, Current Loss: 0.5927, Avg Loss: 0.5911\n",
      "Diff stats — min: -4.9727, max: 10.0000, mean: 5.3597, std: 3.2173\n",
      "\n",
      "Epoch 131 completed, Train Loss: 0.000147\n",
      "\n",
      "Epoch 132, Step 1, LR: 0.000591, Current Loss: 0.5904, Avg Loss: 0.5904\n",
      "Diff stats — min: -4.7133, max: 10.0000, mean: 5.4311, std: 3.1842\n",
      "\n"
     ]
    },
    {
     "name": "stderr",
     "output_type": "stream",
     "text": [
      "/usr/local/lib/python3.11/dist-packages/pandas/core/computation/expressions.py:73: RuntimeWarning: invalid value encountered in less_equal\n",
      "  return op(a, b)\n",
      "/usr/local/lib/python3.11/dist-packages/pandas/core/arraylike.py:399: RuntimeWarning: invalid value encountered in log\n",
      "  result = getattr(ufunc, method)(*inputs, **kwargs)\n"
     ]
    },
    {
     "name": "stdout",
     "output_type": "stream",
     "text": [
      "Step 3930 — Test metrics:\n",
      "  precision@10: 0.009853843\n",
      "  recall@10: 0.009880316\n",
      "  ndcg@10: 0.009929565\n",
      "  map@10: 0.003196553\n",
      "Epoch 132, Step 20, LR: 0.000591, Current Loss: 0.6001, Avg Loss: 0.5926\n",
      "Diff stats — min: -5.6937, max: 10.0000, mean: 5.4435, std: 3.2046\n",
      "\n",
      "Epoch 132 completed, Train Loss: 0.000147\n",
      "\n",
      "Epoch 133, Step 1, LR: 0.000591, Current Loss: 0.6001, Avg Loss: 0.6001\n",
      "Diff stats — min: -6.7837, max: 10.0000, mean: 5.4985, std: 3.1868\n",
      "\n"
     ]
    },
    {
     "name": "stderr",
     "output_type": "stream",
     "text": [
      "/usr/local/lib/python3.11/dist-packages/pandas/core/computation/expressions.py:73: RuntimeWarning: invalid value encountered in less_equal\n",
      "  return op(a, b)\n",
      "/usr/local/lib/python3.11/dist-packages/pandas/core/arraylike.py:399: RuntimeWarning: invalid value encountered in log\n",
      "  result = getattr(ufunc, method)(*inputs, **kwargs)\n"
     ]
    },
    {
     "name": "stdout",
     "output_type": "stream",
     "text": [
      "Step 3960 — Test metrics:\n",
      "  precision@10: 0.009971711\n",
      "  recall@10: 0.010000805\n",
      "  ndcg@10: 0.009933001\n",
      "  map@10: 0.003153264\n",
      "Epoch 133, Step 20, LR: 0.000591, Current Loss: 0.6016, Avg Loss: 0.5919\n",
      "Diff stats — min: -6.6117, max: 10.0000, mean: 5.3184, std: 3.1954\n",
      "\n",
      "Epoch 133 completed, Train Loss: 0.000146\n",
      "\n",
      "Epoch 134, Step 1, LR: 0.000591, Current Loss: 0.5932, Avg Loss: 0.5932\n",
      "Diff stats — min: -5.4401, max: 10.0000, mean: 5.4952, std: 3.1966\n",
      "\n"
     ]
    },
    {
     "name": "stderr",
     "output_type": "stream",
     "text": [
      "/usr/local/lib/python3.11/dist-packages/pandas/core/computation/expressions.py:73: RuntimeWarning: invalid value encountered in less_equal\n",
      "  return op(a, b)\n",
      "/usr/local/lib/python3.11/dist-packages/pandas/core/arraylike.py:399: RuntimeWarning: invalid value encountered in log\n",
      "  result = getattr(ufunc, method)(*inputs, **kwargs)\n"
     ]
    },
    {
     "name": "stdout",
     "output_type": "stream",
     "text": [
      "Step 3990 — Test metrics:\n",
      "  precision@10: 0.009759547\n",
      "  recall@10: 0.009788640\n",
      "  ndcg@10: 0.009945894\n",
      "  map@10: 0.003208924\n",
      "Epoch 134, Step 20, LR: 0.000591, Current Loss: 0.5996, Avg Loss: 0.5938\n",
      "Diff stats — min: -7.8983, max: 10.0000, mean: 5.4087, std: 3.2140\n",
      "\n",
      "Epoch 134 completed, Train Loss: 0.000146\n",
      "\n",
      "Epoch 135, Step 1, LR: 0.000591, Current Loss: 0.5804, Avg Loss: 0.5804\n",
      "Diff stats — min: -6.7578, max: 10.0000, mean: 5.5368, std: 3.1811\n",
      "\n"
     ]
    },
    {
     "name": "stderr",
     "output_type": "stream",
     "text": [
      "/usr/local/lib/python3.11/dist-packages/pandas/core/computation/expressions.py:73: RuntimeWarning: invalid value encountered in less_equal\n",
      "  return op(a, b)\n",
      "/usr/local/lib/python3.11/dist-packages/pandas/core/arraylike.py:399: RuntimeWarning: invalid value encountered in log\n",
      "  result = getattr(ufunc, method)(*inputs, **kwargs)\n"
     ]
    },
    {
     "name": "stdout",
     "output_type": "stream",
     "text": [
      "Step 4020 — Test metrics:\n",
      "  precision@10: 0.009830269\n",
      "  recall@10: 0.009861981\n",
      "  ndcg@10: 0.010117115\n",
      "  map@10: 0.003282509\n",
      "Epoch 135, Step 20, LR: 0.000591, Current Loss: 0.5968, Avg Loss: 0.5931\n",
      "Diff stats — min: -6.0172, max: 10.0000, mean: 5.4704, std: 3.2264\n",
      "\n",
      "Epoch 135 completed, Train Loss: 0.000146\n",
      "\n",
      "Epoch 136, Step 1, LR: 0.000580, Current Loss: 0.5847, Avg Loss: 0.5847\n",
      "Diff stats — min: -6.0215, max: 10.0000, mean: 5.5194, std: 3.2346\n",
      "\n"
     ]
    },
    {
     "name": "stderr",
     "output_type": "stream",
     "text": [
      "/usr/local/lib/python3.11/dist-packages/pandas/core/computation/expressions.py:73: RuntimeWarning: invalid value encountered in less_equal\n",
      "  return op(a, b)\n",
      "/usr/local/lib/python3.11/dist-packages/pandas/core/arraylike.py:399: RuntimeWarning: invalid value encountered in log\n",
      "  result = getattr(ufunc, method)(*inputs, **kwargs)\n"
     ]
    },
    {
     "name": "stdout",
     "output_type": "stream",
     "text": [
      "Step 4050 — Test metrics:\n",
      "  precision@10: 0.010018859\n",
      "  recall@10: 0.010050571\n",
      "  ndcg@10: 0.009881312\n",
      "  map@10: 0.003099726\n",
      "Epoch 136, Step 20, LR: 0.000580, Current Loss: 0.5924, Avg Loss: 0.5931\n",
      "Diff stats — min: -7.8362, max: 10.0000, mean: 5.4399, std: 3.2338\n",
      "\n",
      "Epoch 136 completed, Train Loss: 0.000146\n",
      "\n",
      "Epoch 137, Step 1, LR: 0.000580, Current Loss: 0.5938, Avg Loss: 0.5938\n",
      "Diff stats — min: -5.6234, max: 10.0000, mean: 5.4670, std: 3.1903\n",
      "\n"
     ]
    },
    {
     "name": "stderr",
     "output_type": "stream",
     "text": [
      "/usr/local/lib/python3.11/dist-packages/pandas/core/computation/expressions.py:73: RuntimeWarning: invalid value encountered in less_equal\n",
      "  return op(a, b)\n",
      "/usr/local/lib/python3.11/dist-packages/pandas/core/arraylike.py:399: RuntimeWarning: invalid value encountered in log\n",
      "  result = getattr(ufunc, method)(*inputs, **kwargs)\n"
     ]
    },
    {
     "name": "stdout",
     "output_type": "stream",
     "text": [
      "Step 4080 — Test metrics:\n",
      "  precision@10: 0.010042433\n",
      "  recall@10: 0.010071526\n",
      "  ndcg@10: 0.010005616\n",
      "  map@10: 0.003159131\n",
      "Epoch 137, Step 20, LR: 0.000580, Current Loss: 0.5987, Avg Loss: 0.5894\n",
      "Diff stats — min: -7.7203, max: 10.0000, mean: 5.5554, std: 3.1765\n",
      "\n",
      "Epoch 137 completed, Train Loss: 0.000146\n",
      "\n",
      "Epoch 138, Step 1, LR: 0.000580, Current Loss: 0.6025, Avg Loss: 0.6025\n",
      "Diff stats — min: -6.4288, max: 10.0000, mean: 5.4733, std: 3.1624\n",
      "\n"
     ]
    },
    {
     "name": "stderr",
     "output_type": "stream",
     "text": [
      "/usr/local/lib/python3.11/dist-packages/pandas/core/computation/expressions.py:73: RuntimeWarning: invalid value encountered in less_equal\n",
      "  return op(a, b)\n",
      "/usr/local/lib/python3.11/dist-packages/pandas/core/arraylike.py:399: RuntimeWarning: invalid value encountered in log\n",
      "  result = getattr(ufunc, method)(*inputs, **kwargs)\n"
     ]
    },
    {
     "name": "stdout",
     "output_type": "stream",
     "text": [
      "Step 4110 — Test metrics:\n",
      "  precision@10: 0.010066007\n",
      "  recall@10: 0.010095100\n",
      "  ndcg@10: 0.010337777\n",
      "  map@10: 0.003364958\n",
      "Epoch 138, Step 20, LR: 0.000580, Current Loss: 0.6068, Avg Loss: 0.5872\n",
      "Diff stats — min: -8.6349, max: 10.0000, mean: 5.5694, std: 3.2015\n",
      "\n",
      "Epoch 138 completed, Train Loss: 0.000145\n",
      "\n",
      "Epoch 139, Step 1, LR: 0.000580, Current Loss: 0.5836, Avg Loss: 0.5836\n",
      "Diff stats — min: -5.6559, max: 10.0000, mean: 5.5408, std: 3.1853\n",
      "\n"
     ]
    },
    {
     "name": "stderr",
     "output_type": "stream",
     "text": [
      "/usr/local/lib/python3.11/dist-packages/pandas/core/computation/expressions.py:73: RuntimeWarning: invalid value encountered in less_equal\n",
      "  return op(a, b)\n",
      "/usr/local/lib/python3.11/dist-packages/pandas/core/arraylike.py:399: RuntimeWarning: invalid value encountered in log\n",
      "  result = getattr(ufunc, method)(*inputs, **kwargs)\n"
     ]
    },
    {
     "name": "stdout",
     "output_type": "stream",
     "text": [
      "Step 4140 — Test metrics:\n",
      "  precision@10: 0.010419613\n",
      "  recall@10: 0.010456564\n",
      "  ndcg@10: 0.010758207\n",
      "  map@10: 0.003517738\n",
      "Epoch 139, Step 20, LR: 0.000580, Current Loss: 0.5966, Avg Loss: 0.5885\n",
      "Diff stats — min: -6.2920, max: 10.0000, mean: 5.6114, std: 3.1898\n",
      "\n",
      "Epoch 139 completed, Train Loss: 0.000145\n",
      "\n",
      "Epoch 140, Step 1, LR: 0.000580, Current Loss: 0.5894, Avg Loss: 0.5894\n",
      "Diff stats — min: -5.6007, max: 10.0000, mean: 5.6104, std: 3.1891\n",
      "\n"
     ]
    },
    {
     "name": "stderr",
     "output_type": "stream",
     "text": [
      "/usr/local/lib/python3.11/dist-packages/pandas/core/computation/expressions.py:73: RuntimeWarning: invalid value encountered in less_equal\n",
      "  return op(a, b)\n",
      "/usr/local/lib/python3.11/dist-packages/pandas/core/arraylike.py:399: RuntimeWarning: invalid value encountered in log\n",
      "  result = getattr(ufunc, method)(*inputs, **kwargs)\n"
     ]
    },
    {
     "name": "stdout",
     "output_type": "stream",
     "text": [
      "Step 4170 — Test metrics:\n",
      "  precision@10: 0.010136728\n",
      "  recall@10: 0.010171060\n",
      "  ndcg@10: 0.010405969\n",
      "  map@10: 0.003371023\n",
      "Epoch 140, Step 20, LR: 0.000580, Current Loss: 0.5782, Avg Loss: 0.5862\n",
      "Diff stats — min: -4.8836, max: 10.0000, mean: 5.5343, std: 3.2319\n",
      "\n",
      "Epoch 140 completed, Train Loss: 0.000145\n",
      "\n",
      "Epoch 141, Step 1, LR: 0.000568, Current Loss: 0.5944, Avg Loss: 0.5944\n",
      "Diff stats — min: -5.2944, max: 10.0000, mean: 5.5441, std: 3.2056\n",
      "\n"
     ]
    },
    {
     "name": "stderr",
     "output_type": "stream",
     "text": [
      "/usr/local/lib/python3.11/dist-packages/pandas/core/computation/expressions.py:73: RuntimeWarning: invalid value encountered in less_equal\n",
      "  return op(a, b)\n",
      "/usr/local/lib/python3.11/dist-packages/pandas/core/arraylike.py:399: RuntimeWarning: invalid value encountered in log\n",
      "  result = getattr(ufunc, method)(*inputs, **kwargs)\n"
     ]
    },
    {
     "name": "stdout",
     "output_type": "stream",
     "text": [
      "Step 4200 — Test metrics:\n",
      "  precision@10: 0.009995285\n",
      "  recall@10: 0.010026998\n",
      "  ndcg@10: 0.010322646\n",
      "  map@10: 0.003364007\n",
      "Epoch 141, Step 20, LR: 0.000568, Current Loss: 0.5787, Avg Loss: 0.5852\n",
      "Diff stats — min: -5.4910, max: 10.0000, mean: 5.5678, std: 3.2177\n",
      "\n",
      "Epoch 141 completed, Train Loss: 0.000145\n",
      "\n",
      "Epoch 142, Step 1, LR: 0.000568, Current Loss: 0.6094, Avg Loss: 0.6094\n",
      "Diff stats — min: -6.9739, max: 10.0000, mean: 5.5860, std: 3.2343\n",
      "\n"
     ]
    },
    {
     "name": "stderr",
     "output_type": "stream",
     "text": [
      "/usr/local/lib/python3.11/dist-packages/pandas/core/computation/expressions.py:73: RuntimeWarning: invalid value encountered in less_equal\n",
      "  return op(a, b)\n",
      "/usr/local/lib/python3.11/dist-packages/pandas/core/arraylike.py:399: RuntimeWarning: invalid value encountered in log\n",
      "  result = getattr(ufunc, method)(*inputs, **kwargs)\n"
     ]
    },
    {
     "name": "stdout",
     "output_type": "stream",
     "text": [
      "Step 4230 — Test metrics:\n",
      "  precision@10: 0.009877416\n",
      "  recall@10: 0.009909129\n",
      "  ndcg@10: 0.010257355\n",
      "  map@10: 0.003348952\n",
      "Epoch 142, Step 20, LR: 0.000568, Current Loss: 0.5687, Avg Loss: 0.5835\n",
      "Diff stats — min: -5.4187, max: 10.0000, mean: 5.6345, std: 3.1581\n",
      "\n",
      "Epoch 142 completed, Train Loss: 0.000144\n",
      "\n",
      "Epoch 143, Step 1, LR: 0.000568, Current Loss: 0.5772, Avg Loss: 0.5772\n",
      "Diff stats — min: -5.9354, max: 10.0000, mean: 5.6835, std: 3.2111\n",
      "\n"
     ]
    },
    {
     "name": "stderr",
     "output_type": "stream",
     "text": [
      "/usr/local/lib/python3.11/dist-packages/pandas/core/computation/expressions.py:73: RuntimeWarning: invalid value encountered in less_equal\n",
      "  return op(a, b)\n",
      "/usr/local/lib/python3.11/dist-packages/pandas/core/arraylike.py:399: RuntimeWarning: invalid value encountered in log\n",
      "  result = getattr(ufunc, method)(*inputs, **kwargs)\n"
     ]
    },
    {
     "name": "stdout",
     "output_type": "stream",
     "text": [
      "Step 4260 — Test metrics:\n",
      "  precision@10: 0.010325318\n",
      "  recall@10: 0.010354411\n",
      "  ndcg@10: 0.010449857\n",
      "  map@10: 0.003332666\n",
      "Epoch 143, Step 20, LR: 0.000568, Current Loss: 0.5841, Avg Loss: 0.5828\n",
      "Diff stats — min: -6.8282, max: 10.0000, mean: 5.6492, std: 3.2381\n",
      "\n",
      "Epoch 143 completed, Train Loss: 0.000144\n",
      "\n",
      "Epoch 144, Step 1, LR: 0.000568, Current Loss: 0.5768, Avg Loss: 0.5768\n",
      "Diff stats — min: -5.6171, max: 10.0000, mean: 5.6356, std: 3.1912\n",
      "\n"
     ]
    },
    {
     "name": "stderr",
     "output_type": "stream",
     "text": [
      "/usr/local/lib/python3.11/dist-packages/pandas/core/computation/expressions.py:73: RuntimeWarning: invalid value encountered in less_equal\n",
      "  return op(a, b)\n",
      "/usr/local/lib/python3.11/dist-packages/pandas/core/arraylike.py:399: RuntimeWarning: invalid value encountered in log\n",
      "  result = getattr(ufunc, method)(*inputs, **kwargs)\n"
     ]
    },
    {
     "name": "stdout",
     "output_type": "stream",
     "text": [
      "Step 4290 — Test metrics:\n",
      "  precision@10: 0.010160302\n",
      "  recall@10: 0.010189395\n",
      "  ndcg@10: 0.010364038\n",
      "  map@10: 0.003327703\n",
      "Epoch 144, Step 20, LR: 0.000568, Current Loss: 0.5909, Avg Loss: 0.5861\n",
      "Diff stats — min: -5.4181, max: 10.0000, mean: 5.6383, std: 3.1740\n",
      "\n",
      "Epoch 144 completed, Train Loss: 0.000144\n",
      "\n",
      "Epoch 145, Step 1, LR: 0.000568, Current Loss: 0.5945, Avg Loss: 0.5945\n",
      "Diff stats — min: -6.1392, max: 10.0000, mean: 5.7166, std: 3.1955\n",
      "\n"
     ]
    },
    {
     "name": "stderr",
     "output_type": "stream",
     "text": [
      "/usr/local/lib/python3.11/dist-packages/pandas/core/computation/expressions.py:73: RuntimeWarning: invalid value encountered in less_equal\n",
      "  return op(a, b)\n",
      "/usr/local/lib/python3.11/dist-packages/pandas/core/arraylike.py:399: RuntimeWarning: invalid value encountered in log\n",
      "  result = getattr(ufunc, method)(*inputs, **kwargs)\n"
     ]
    },
    {
     "name": "stdout",
     "output_type": "stream",
     "text": [
      "Step 4320 — Test metrics:\n",
      "  precision@10: 0.010419613\n",
      "  recall@10: 0.010446087\n",
      "  ndcg@10: 0.010516133\n",
      "  map@10: 0.003371105\n",
      "Epoch 145, Step 20, LR: 0.000568, Current Loss: 0.5900, Avg Loss: 0.5846\n",
      "Diff stats — min: -5.4491, max: 10.0000, mean: 5.6660, std: 3.2172\n",
      "\n",
      "Epoch 145 completed, Train Loss: 0.000144\n",
      "\n",
      "Epoch 146, Step 1, LR: 0.000557, Current Loss: 0.5931, Avg Loss: 0.5931\n",
      "Diff stats — min: -6.1592, max: 10.0000, mean: 5.6362, std: 3.1774\n",
      "\n"
     ]
    },
    {
     "name": "stderr",
     "output_type": "stream",
     "text": [
      "/usr/local/lib/python3.11/dist-packages/pandas/core/computation/expressions.py:73: RuntimeWarning: invalid value encountered in less_equal\n",
      "  return op(a, b)\n",
      "/usr/local/lib/python3.11/dist-packages/pandas/core/arraylike.py:399: RuntimeWarning: invalid value encountered in log\n",
      "  result = getattr(ufunc, method)(*inputs, **kwargs)\n"
     ]
    },
    {
     "name": "stdout",
     "output_type": "stream",
     "text": [
      "Step 4350 — Test metrics:\n",
      "  precision@10: 0.010372466\n",
      "  recall@10: 0.010409417\n",
      "  ndcg@10: 0.010328755\n",
      "  map@10: 0.003248873\n",
      "Epoch 146, Step 20, LR: 0.000557, Current Loss: 0.5921, Avg Loss: 0.5836\n",
      "Diff stats — min: -7.2493, max: 10.0000, mean: 5.5874, std: 3.2874\n",
      "\n",
      "Epoch 146 completed, Train Loss: 0.000144\n",
      "\n",
      "Epoch 147, Step 1, LR: 0.000557, Current Loss: 0.5766, Avg Loss: 0.5766\n",
      "Diff stats — min: -5.9056, max: 10.0000, mean: 5.6732, std: 3.1782\n",
      "\n"
     ]
    },
    {
     "name": "stderr",
     "output_type": "stream",
     "text": [
      "/usr/local/lib/python3.11/dist-packages/pandas/core/computation/expressions.py:73: RuntimeWarning: invalid value encountered in less_equal\n",
      "  return op(a, b)\n",
      "/usr/local/lib/python3.11/dist-packages/pandas/core/arraylike.py:399: RuntimeWarning: invalid value encountered in log\n",
      "  result = getattr(ufunc, method)(*inputs, **kwargs)\n"
     ]
    },
    {
     "name": "stdout",
     "output_type": "stream",
     "text": [
      "Step 4380 — Test metrics:\n",
      "  precision@10: 0.010278171\n",
      "  recall@10: 0.010312502\n",
      "  ndcg@10: 0.010324440\n",
      "  map@10: 0.003298521\n",
      "Epoch 147, Step 20, LR: 0.000557, Current Loss: 0.5945, Avg Loss: 0.5812\n",
      "Diff stats — min: -5.8542, max: 10.0000, mean: 5.7946, std: 3.1813\n",
      "\n",
      "Epoch 147 completed, Train Loss: 0.000143\n",
      "\n",
      "Epoch 148, Step 1, LR: 0.000557, Current Loss: 0.5738, Avg Loss: 0.5738\n",
      "Diff stats — min: -8.3641, max: 10.0000, mean: 5.8008, std: 3.1883\n",
      "\n"
     ]
    },
    {
     "name": "stderr",
     "output_type": "stream",
     "text": [
      "/usr/local/lib/python3.11/dist-packages/pandas/core/computation/expressions.py:73: RuntimeWarning: invalid value encountered in less_equal\n",
      "  return op(a, b)\n",
      "/usr/local/lib/python3.11/dist-packages/pandas/core/arraylike.py:399: RuntimeWarning: invalid value encountered in log\n",
      "  result = getattr(ufunc, method)(*inputs, **kwargs)\n"
     ]
    },
    {
     "name": "stdout",
     "output_type": "stream",
     "text": [
      "Step 4410 — Test metrics:\n",
      "  precision@10: 0.010702499\n",
      "  recall@10: 0.010742069\n",
      "  ndcg@10: 0.010794183\n",
      "  map@10: 0.003434268\n",
      "Epoch 148, Step 20, LR: 0.000557, Current Loss: 0.5875, Avg Loss: 0.5806\n",
      "Diff stats — min: -5.0539, max: 10.0000, mean: 5.6507, std: 3.1947\n",
      "\n",
      "Epoch 148 completed, Train Loss: 0.000143\n",
      "\n",
      "Epoch 149, Step 1, LR: 0.000557, Current Loss: 0.5798, Avg Loss: 0.5798\n",
      "Diff stats — min: -6.0024, max: 10.0000, mean: 5.7135, std: 3.2594\n",
      "\n"
     ]
    },
    {
     "name": "stderr",
     "output_type": "stream",
     "text": [
      "/usr/local/lib/python3.11/dist-packages/pandas/core/computation/expressions.py:73: RuntimeWarning: invalid value encountered in less_equal\n",
      "  return op(a, b)\n",
      "/usr/local/lib/python3.11/dist-packages/pandas/core/arraylike.py:399: RuntimeWarning: invalid value encountered in log\n",
      "  result = getattr(ufunc, method)(*inputs, **kwargs)\n"
     ]
    },
    {
     "name": "stdout",
     "output_type": "stream",
     "text": [
      "Step 4440 — Test metrics:\n",
      "  precision@10: 0.010231023\n",
      "  recall@10: 0.010260116\n",
      "  ndcg@10: 0.010553285\n",
      "  map@10: 0.003415079\n",
      "Epoch 149, Step 20, LR: 0.000557, Current Loss: 0.5760, Avg Loss: 0.5783\n",
      "Diff stats — min: -6.1798, max: 10.0000, mean: 5.7889, std: 3.1974\n",
      "\n",
      "Epoch 149 completed, Train Loss: 0.000143\n",
      "\n",
      "Epoch 150, Step 1, LR: 0.000557, Current Loss: 0.5655, Avg Loss: 0.5655\n",
      "Diff stats — min: -4.9782, max: 10.0000, mean: 5.8387, std: 3.1649\n",
      "\n"
     ]
    },
    {
     "name": "stderr",
     "output_type": "stream",
     "text": [
      "/usr/local/lib/python3.11/dist-packages/pandas/core/computation/expressions.py:73: RuntimeWarning: invalid value encountered in less_equal\n",
      "  return op(a, b)\n",
      "/usr/local/lib/python3.11/dist-packages/pandas/core/arraylike.py:399: RuntimeWarning: invalid value encountered in log\n",
      "  result = getattr(ufunc, method)(*inputs, **kwargs)\n"
     ]
    },
    {
     "name": "stdout",
     "output_type": "stream",
     "text": [
      "Step 4470 — Test metrics:\n",
      "  precision@10: 0.010608204\n",
      "  recall@10: 0.010639916\n",
      "  ndcg@10: 0.011037494\n",
      "  map@10: 0.003622084\n",
      "Epoch 150, Step 20, LR: 0.000557, Current Loss: 0.5769, Avg Loss: 0.5774\n",
      "Diff stats — min: -5.4959, max: 10.0000, mean: 5.7615, std: 3.2253\n",
      "\n",
      "Epoch 150 completed, Train Loss: 0.000143\n",
      "\n",
      "Epoch 151, Step 1, LR: 0.000545, Current Loss: 0.5802, Avg Loss: 0.5802\n",
      "Diff stats — min: -4.8801, max: 10.0000, mean: 5.7427, std: 3.1719\n",
      "\n"
     ]
    },
    {
     "name": "stderr",
     "output_type": "stream",
     "text": [
      "/usr/local/lib/python3.11/dist-packages/pandas/core/computation/expressions.py:73: RuntimeWarning: invalid value encountered in less_equal\n",
      "  return op(a, b)\n",
      "/usr/local/lib/python3.11/dist-packages/pandas/core/arraylike.py:399: RuntimeWarning: invalid value encountered in log\n",
      "  result = getattr(ufunc, method)(*inputs, **kwargs)\n"
     ]
    },
    {
     "name": "stdout",
     "output_type": "stream",
     "text": [
      "Step 4500 — Test metrics:\n",
      "  precision@10: 0.010891089\n",
      "  recall@10: 0.010922801\n",
      "  ndcg@10: 0.011234403\n",
      "  map@10: 0.003714284\n",
      "Epoch 151, Step 20, LR: 0.000545, Current Loss: 0.5440, Avg Loss: 0.5762\n",
      "Diff stats — min: -6.7238, max: 10.0000, mean: 5.8893, std: 3.1719\n",
      "\n",
      "Epoch 151 completed, Train Loss: 0.000143\n",
      "\n",
      "Epoch 152, Step 1, LR: 0.000545, Current Loss: 0.5716, Avg Loss: 0.5716\n",
      "Diff stats — min: -6.7356, max: 10.0000, mean: 5.7141, std: 3.2230\n",
      "\n"
     ]
    },
    {
     "name": "stderr",
     "output_type": "stream",
     "text": [
      "/usr/local/lib/python3.11/dist-packages/pandas/core/computation/expressions.py:73: RuntimeWarning: invalid value encountered in less_equal\n",
      "  return op(a, b)\n",
      "/usr/local/lib/python3.11/dist-packages/pandas/core/arraylike.py:399: RuntimeWarning: invalid value encountered in log\n",
      "  result = getattr(ufunc, method)(*inputs, **kwargs)\n"
     ]
    },
    {
     "name": "stdout",
     "output_type": "stream",
     "text": [
      "Step 4530 — Test metrics:\n",
      "  precision@10: 0.010443187\n",
      "  recall@10: 0.010477519\n",
      "  ndcg@10: 0.010695437\n",
      "  map@10: 0.003471806\n",
      "Epoch 152, Step 20, LR: 0.000545, Current Loss: 0.5747, Avg Loss: 0.5788\n",
      "Diff stats — min: -5.4448, max: 10.0000, mean: 5.7632, std: 3.2261\n",
      "\n",
      "Epoch 152 completed, Train Loss: 0.000143\n",
      "\n",
      "Epoch 153, Step 1, LR: 0.000545, Current Loss: 0.5901, Avg Loss: 0.5901\n",
      "Diff stats — min: -8.3399, max: 10.0000, mean: 5.8432, std: 3.1948\n",
      "\n"
     ]
    },
    {
     "name": "stderr",
     "output_type": "stream",
     "text": [
      "/usr/local/lib/python3.11/dist-packages/pandas/core/computation/expressions.py:73: RuntimeWarning: invalid value encountered in less_equal\n",
      "  return op(a, b)\n",
      "/usr/local/lib/python3.11/dist-packages/pandas/core/arraylike.py:399: RuntimeWarning: invalid value encountered in log\n",
      "  result = getattr(ufunc, method)(*inputs, **kwargs)\n"
     ]
    },
    {
     "name": "stdout",
     "output_type": "stream",
     "text": [
      "Step 4560 — Test metrics:\n",
      "  precision@10: 0.010372466\n",
      "  recall@10: 0.010401559\n",
      "  ndcg@10: 0.010766380\n",
      "  map@10: 0.003538486\n",
      "Epoch 153, Step 20, LR: 0.000545, Current Loss: 0.5817, Avg Loss: 0.5779\n",
      "Diff stats — min: -4.5161, max: 10.0000, mean: 5.7821, std: 3.2042\n",
      "\n",
      "Epoch 153 completed, Train Loss: 0.000143\n",
      "\n",
      "Epoch 154, Step 1, LR: 0.000545, Current Loss: 0.5750, Avg Loss: 0.5750\n",
      "Diff stats — min: -6.9059, max: 10.0000, mean: 5.8431, std: 3.2210\n",
      "\n"
     ]
    },
    {
     "name": "stderr",
     "output_type": "stream",
     "text": [
      "/usr/local/lib/python3.11/dist-packages/pandas/core/computation/expressions.py:73: RuntimeWarning: invalid value encountered in less_equal\n",
      "  return op(a, b)\n",
      "/usr/local/lib/python3.11/dist-packages/pandas/core/arraylike.py:399: RuntimeWarning: invalid value encountered in log\n",
      "  result = getattr(ufunc, method)(*inputs, **kwargs)\n"
     ]
    },
    {
     "name": "stdout",
     "output_type": "stream",
     "text": [
      "Step 4590 — Test metrics:\n",
      "  precision@10: 0.010231023\n",
      "  recall@10: 0.010265355\n",
      "  ndcg@10: 0.010658714\n",
      "  map@10: 0.003511883\n",
      "Epoch 154, Step 20, LR: 0.000545, Current Loss: 0.5967, Avg Loss: 0.5767\n",
      "Diff stats — min: -7.2592, max: 10.0000, mean: 5.7982, std: 3.2581\n",
      "\n",
      "Epoch 154 completed, Train Loss: 0.000142\n",
      "\n",
      "Epoch 155, Step 1, LR: 0.000545, Current Loss: 0.5596, Avg Loss: 0.5596\n",
      "Diff stats — min: -5.5776, max: 10.0000, mean: 5.8753, std: 3.2070\n",
      "\n"
     ]
    },
    {
     "name": "stderr",
     "output_type": "stream",
     "text": [
      "/usr/local/lib/python3.11/dist-packages/pandas/core/computation/expressions.py:73: RuntimeWarning: invalid value encountered in less_equal\n",
      "  return op(a, b)\n",
      "/usr/local/lib/python3.11/dist-packages/pandas/core/arraylike.py:399: RuntimeWarning: invalid value encountered in log\n",
      "  result = getattr(ufunc, method)(*inputs, **kwargs)\n"
     ]
    },
    {
     "name": "stdout",
     "output_type": "stream",
     "text": [
      "Step 4620 — Test metrics:\n",
      "  precision@10: 0.010466761\n",
      "  recall@10: 0.010506331\n",
      "  ndcg@10: 0.010710806\n",
      "  map@10: 0.003473200\n",
      "Epoch 155, Step 20, LR: 0.000545, Current Loss: 0.5911, Avg Loss: 0.5727\n",
      "Diff stats — min: -6.0716, max: 10.0000, mean: 5.8247, std: 3.1837\n",
      "\n",
      "Epoch 155 completed, Train Loss: 0.000142\n",
      "\n",
      "Epoch 156, Step 1, LR: 0.000535, Current Loss: 0.5638, Avg Loss: 0.5638\n",
      "Diff stats — min: -6.1437, max: 10.0000, mean: 5.8458, std: 3.1788\n",
      "\n"
     ]
    },
    {
     "name": "stderr",
     "output_type": "stream",
     "text": [
      "/usr/local/lib/python3.11/dist-packages/pandas/core/computation/expressions.py:73: RuntimeWarning: invalid value encountered in less_equal\n",
      "  return op(a, b)\n",
      "/usr/local/lib/python3.11/dist-packages/pandas/core/arraylike.py:399: RuntimeWarning: invalid value encountered in log\n",
      "  result = getattr(ufunc, method)(*inputs, **kwargs)\n"
     ]
    },
    {
     "name": "stdout",
     "output_type": "stream",
     "text": [
      "Step 4650 — Test metrics:\n",
      "  precision@10: 0.010372466\n",
      "  recall@10: 0.010412036\n",
      "  ndcg@10: 0.010726929\n",
      "  map@10: 0.003529320\n",
      "Epoch 156, Step 20, LR: 0.000535, Current Loss: 0.5596, Avg Loss: 0.5745\n",
      "Diff stats — min: -6.4870, max: 10.0000, mean: 5.9694, std: 3.1605\n",
      "\n",
      "Epoch 156 completed, Train Loss: 0.000142\n",
      "\n",
      "Epoch 157, Step 1, LR: 0.000535, Current Loss: 0.5728, Avg Loss: 0.5728\n",
      "Diff stats — min: -5.5795, max: 10.0000, mean: 5.9045, std: 3.2205\n",
      "\n"
     ]
    },
    {
     "name": "stderr",
     "output_type": "stream",
     "text": [
      "/usr/local/lib/python3.11/dist-packages/pandas/core/computation/expressions.py:73: RuntimeWarning: invalid value encountered in less_equal\n",
      "  return op(a, b)\n",
      "/usr/local/lib/python3.11/dist-packages/pandas/core/arraylike.py:399: RuntimeWarning: invalid value encountered in log\n",
      "  result = getattr(ufunc, method)(*inputs, **kwargs)\n"
     ]
    },
    {
     "name": "stdout",
     "output_type": "stream",
     "text": [
      "Step 4680 — Test metrics:\n",
      "  precision@10: 0.010726073\n",
      "  recall@10: 0.010768262\n",
      "  ndcg@10: 0.010982498\n",
      "  map@10: 0.003579228\n",
      "Epoch 157, Step 20, LR: 0.000535, Current Loss: 0.5764, Avg Loss: 0.5716\n",
      "Diff stats — min: -5.6218, max: 10.0000, mean: 5.8774, std: 3.2526\n",
      "\n",
      "Epoch 157 completed, Train Loss: 0.000142\n",
      "\n",
      "Epoch 158, Step 1, LR: 0.000535, Current Loss: 0.5873, Avg Loss: 0.5873\n",
      "Diff stats — min: -4.7914, max: 10.0000, mean: 5.9318, std: 3.2132\n",
      "\n"
     ]
    },
    {
     "name": "stderr",
     "output_type": "stream",
     "text": [
      "/usr/local/lib/python3.11/dist-packages/pandas/core/computation/expressions.py:73: RuntimeWarning: invalid value encountered in less_equal\n",
      "  return op(a, b)\n",
      "/usr/local/lib/python3.11/dist-packages/pandas/core/arraylike.py:399: RuntimeWarning: invalid value encountered in log\n",
      "  result = getattr(ufunc, method)(*inputs, **kwargs)\n"
     ]
    },
    {
     "name": "stdout",
     "output_type": "stream",
     "text": [
      "Step 4710 — Test metrics:\n",
      "  precision@10: 0.010466761\n",
      "  recall@10: 0.010506331\n",
      "  ndcg@10: 0.010582305\n",
      "  map@10: 0.003423301\n",
      "Epoch 158, Step 20, LR: 0.000535, Current Loss: 0.5663, Avg Loss: 0.5736\n",
      "Diff stats — min: -6.5687, max: 10.0000, mean: 5.8443, std: 3.2315\n",
      "\n",
      "Epoch 158 completed, Train Loss: 0.000142\n",
      "\n",
      "Epoch 159, Step 1, LR: 0.000535, Current Loss: 0.5706, Avg Loss: 0.5706\n",
      "Diff stats — min: -4.7985, max: 10.0000, mean: 5.9921, std: 3.2106\n",
      "\n"
     ]
    },
    {
     "name": "stderr",
     "output_type": "stream",
     "text": [
      "/usr/local/lib/python3.11/dist-packages/pandas/core/computation/expressions.py:73: RuntimeWarning: invalid value encountered in less_equal\n",
      "  return op(a, b)\n",
      "/usr/local/lib/python3.11/dist-packages/pandas/core/arraylike.py:399: RuntimeWarning: invalid value encountered in log\n",
      "  result = getattr(ufunc, method)(*inputs, **kwargs)\n"
     ]
    },
    {
     "name": "stdout",
     "output_type": "stream",
     "text": [
      "Step 4740 — Test metrics:\n",
      "  precision@10: 0.010561056\n",
      "  recall@10: 0.010600626\n",
      "  ndcg@10: 0.010761152\n",
      "  map@10: 0.003495353\n",
      "Epoch 159, Step 20, LR: 0.000535, Current Loss: 0.5693, Avg Loss: 0.5710\n",
      "Diff stats — min: -5.3291, max: 10.0000, mean: 5.9206, std: 3.1693\n",
      "\n",
      "Epoch 159 completed, Train Loss: 0.000141\n",
      "\n",
      "Epoch 160, Step 1, LR: 0.000535, Current Loss: 0.5860, Avg Loss: 0.5860\n",
      "Diff stats — min: -4.8671, max: 10.0000, mean: 5.9976, std: 3.1857\n",
      "\n"
     ]
    },
    {
     "name": "stderr",
     "output_type": "stream",
     "text": [
      "/usr/local/lib/python3.11/dist-packages/pandas/core/computation/expressions.py:73: RuntimeWarning: invalid value encountered in less_equal\n",
      "  return op(a, b)\n",
      "/usr/local/lib/python3.11/dist-packages/pandas/core/arraylike.py:399: RuntimeWarning: invalid value encountered in log\n",
      "  result = getattr(ufunc, method)(*inputs, **kwargs)\n"
     ]
    },
    {
     "name": "stdout",
     "output_type": "stream",
     "text": [
      "Step 4770 — Test metrics:\n",
      "  precision@10: 0.010985384\n",
      "  recall@10: 0.011030193\n",
      "  ndcg@10: 0.011161732\n",
      "  map@10: 0.003657658\n",
      "Epoch 160, Step 20, LR: 0.000535, Current Loss: 0.5535, Avg Loss: 0.5731\n",
      "Diff stats — min: -5.3912, max: 10.0000, mean: 6.0535, std: 3.1992\n",
      "\n",
      "Epoch 160 completed, Train Loss: 0.000141\n",
      "\n",
      "Epoch 161, Step 1, LR: 0.000524, Current Loss: 0.5593, Avg Loss: 0.5593\n",
      "Diff stats — min: -5.2272, max: 10.0000, mean: 5.9722, std: 3.1627\n",
      "\n"
     ]
    },
    {
     "name": "stderr",
     "output_type": "stream",
     "text": [
      "/usr/local/lib/python3.11/dist-packages/pandas/core/computation/expressions.py:73: RuntimeWarning: invalid value encountered in less_equal\n",
      "  return op(a, b)\n",
      "/usr/local/lib/python3.11/dist-packages/pandas/core/arraylike.py:399: RuntimeWarning: invalid value encountered in log\n",
      "  result = getattr(ufunc, method)(*inputs, **kwargs)\n"
     ]
    },
    {
     "name": "stdout",
     "output_type": "stream",
     "text": [
      "Step 4800 — Test metrics:\n",
      "  precision@10: 0.010726073\n",
      "  recall@10: 0.010765643\n",
      "  ndcg@10: 0.010928599\n",
      "  map@10: 0.003597162\n",
      "Epoch 161, Step 20, LR: 0.000524, Current Loss: 0.5671, Avg Loss: 0.5711\n",
      "Diff stats — min: -6.4333, max: 10.0000, mean: 5.9447, std: 3.1371\n",
      "\n",
      "Epoch 161 completed, Train Loss: 0.000141\n",
      "\n",
      "Epoch 162, Step 1, LR: 0.000524, Current Loss: 0.5786, Avg Loss: 0.5786\n",
      "Diff stats — min: -6.4553, max: 10.0000, mean: 5.9719, std: 3.2015\n",
      "\n"
     ]
    },
    {
     "name": "stderr",
     "output_type": "stream",
     "text": [
      "/usr/local/lib/python3.11/dist-packages/pandas/core/computation/expressions.py:73: RuntimeWarning: invalid value encountered in less_equal\n",
      "  return op(a, b)\n",
      "/usr/local/lib/python3.11/dist-packages/pandas/core/arraylike.py:399: RuntimeWarning: invalid value encountered in log\n",
      "  result = getattr(ufunc, method)(*inputs, **kwargs)\n"
     ]
    },
    {
     "name": "stdout",
     "output_type": "stream",
     "text": [
      "Step 4830 — Test metrics:\n",
      "  precision@10: 0.011197548\n",
      "  recall@10: 0.011237119\n",
      "  ndcg@10: 0.011257491\n",
      "  map@10: 0.003683337\n",
      "Epoch 162, Step 20, LR: 0.000524, Current Loss: 0.5761, Avg Loss: 0.5691\n",
      "Diff stats — min: -5.1352, max: 10.0000, mean: 6.0686, std: 3.1696\n",
      "\n",
      "Epoch 162 completed, Train Loss: 0.000141\n",
      "\n",
      "Epoch 163, Step 1, LR: 0.000524, Current Loss: 0.5752, Avg Loss: 0.5752\n",
      "Diff stats — min: -5.0667, max: 10.0000, mean: 6.0135, std: 3.2006\n",
      "\n"
     ]
    },
    {
     "name": "stderr",
     "output_type": "stream",
     "text": [
      "/usr/local/lib/python3.11/dist-packages/pandas/core/computation/expressions.py:73: RuntimeWarning: invalid value encountered in less_equal\n",
      "  return op(a, b)\n",
      "/usr/local/lib/python3.11/dist-packages/pandas/core/arraylike.py:399: RuntimeWarning: invalid value encountered in log\n",
      "  result = getattr(ufunc, method)(*inputs, **kwargs)\n"
     ]
    },
    {
     "name": "stdout",
     "output_type": "stream",
     "text": [
      "Step 4860 — Test metrics:\n",
      "  precision@10: 0.010867515\n",
      "  recall@10: 0.010907086\n",
      "  ndcg@10: 0.010821882\n",
      "  map@10: 0.003525492\n",
      "Epoch 163, Step 20, LR: 0.000524, Current Loss: 0.5755, Avg Loss: 0.5706\n",
      "Diff stats — min: -6.2231, max: 10.0000, mean: 6.0289, std: 3.2421\n",
      "\n",
      "Epoch 163 completed, Train Loss: 0.000141\n",
      "\n",
      "Epoch 164, Step 1, LR: 0.000524, Current Loss: 0.5576, Avg Loss: 0.5576\n",
      "Diff stats — min: -5.4845, max: 10.0000, mean: 6.0473, std: 3.1763\n",
      "\n"
     ]
    },
    {
     "name": "stderr",
     "output_type": "stream",
     "text": [
      "/usr/local/lib/python3.11/dist-packages/pandas/core/computation/expressions.py:73: RuntimeWarning: invalid value encountered in less_equal\n",
      "  return op(a, b)\n",
      "/usr/local/lib/python3.11/dist-packages/pandas/core/arraylike.py:399: RuntimeWarning: invalid value encountered in log\n",
      "  result = getattr(ufunc, method)(*inputs, **kwargs)\n"
     ]
    },
    {
     "name": "stdout",
     "output_type": "stream",
     "text": [
      "Step 4890 — Test metrics:\n",
      "  precision@10: 0.010843942\n",
      "  recall@10: 0.010878273\n",
      "  ndcg@10: 0.011141179\n",
      "  map@10: 0.003678169\n",
      "Epoch 164, Step 20, LR: 0.000524, Current Loss: 0.5807, Avg Loss: 0.5696\n",
      "Diff stats — min: -8.1599, max: 10.0000, mean: 5.9841, std: 3.2285\n",
      "\n",
      "Epoch 164 completed, Train Loss: 0.000141\n",
      "\n",
      "Epoch 165, Step 1, LR: 0.000524, Current Loss: 0.5638, Avg Loss: 0.5638\n",
      "Diff stats — min: -4.3299, max: 10.0000, mean: 5.9927, std: 3.2364\n",
      "\n"
     ]
    },
    {
     "name": "stderr",
     "output_type": "stream",
     "text": [
      "/usr/local/lib/python3.11/dist-packages/pandas/core/computation/expressions.py:73: RuntimeWarning: invalid value encountered in less_equal\n",
      "  return op(a, b)\n",
      "/usr/local/lib/python3.11/dist-packages/pandas/core/arraylike.py:399: RuntimeWarning: invalid value encountered in log\n",
      "  result = getattr(ufunc, method)(*inputs, **kwargs)\n"
     ]
    },
    {
     "name": "stdout",
     "output_type": "stream",
     "text": [
      "Step 4920 — Test metrics:\n",
      "  precision@10: 0.010961810\n",
      "  recall@10: 0.010996142\n",
      "  ndcg@10: 0.011158791\n",
      "  map@10: 0.003651240\n",
      "Epoch 165, Step 20, LR: 0.000524, Current Loss: 0.5485, Avg Loss: 0.5683\n",
      "Diff stats — min: -4.5888, max: 10.0000, mean: 6.0112, std: 3.2131\n",
      "\n",
      "Epoch 165 completed, Train Loss: 0.000141\n",
      "\n",
      "Epoch 166, Step 1, LR: 0.000513, Current Loss: 0.5792, Avg Loss: 0.5792\n",
      "Diff stats — min: -7.3952, max: 10.0000, mean: 6.0678, std: 3.2125\n",
      "\n"
     ]
    },
    {
     "name": "stderr",
     "output_type": "stream",
     "text": [
      "/usr/local/lib/python3.11/dist-packages/pandas/core/computation/expressions.py:73: RuntimeWarning: invalid value encountered in less_equal\n",
      "  return op(a, b)\n",
      "/usr/local/lib/python3.11/dist-packages/pandas/core/arraylike.py:399: RuntimeWarning: invalid value encountered in log\n",
      "  result = getattr(ufunc, method)(*inputs, **kwargs)\n"
     ]
    },
    {
     "name": "stdout",
     "output_type": "stream",
     "text": [
      "Step 4950 — Test metrics:\n",
      "  precision@10: 0.011173975\n",
      "  recall@10: 0.011213545\n",
      "  ndcg@10: 0.011303583\n",
      "  map@10: 0.003711627\n",
      "Epoch 166, Step 20, LR: 0.000513, Current Loss: 0.5825, Avg Loss: 0.5701\n",
      "Diff stats — min: -8.6573, max: 10.0000, mean: 6.1177, std: 3.1853\n",
      "\n",
      "Epoch 166 completed, Train Loss: 0.000140\n",
      "\n",
      "Epoch 167, Step 1, LR: 0.000513, Current Loss: 0.5791, Avg Loss: 0.5791\n",
      "Diff stats — min: -4.4094, max: 10.0000, mean: 6.0382, std: 3.2664\n",
      "\n"
     ]
    },
    {
     "name": "stderr",
     "output_type": "stream",
     "text": [
      "/usr/local/lib/python3.11/dist-packages/pandas/core/computation/expressions.py:73: RuntimeWarning: invalid value encountered in less_equal\n",
      "  return op(a, b)\n",
      "/usr/local/lib/python3.11/dist-packages/pandas/core/arraylike.py:399: RuntimeWarning: invalid value encountered in log\n",
      "  result = getattr(ufunc, method)(*inputs, **kwargs)\n"
     ]
    },
    {
     "name": "stdout",
     "output_type": "stream",
     "text": [
      "Step 4980 — Test metrics:\n",
      "  precision@10: 0.010961810\n",
      "  recall@10: 0.011001381\n",
      "  ndcg@10: 0.011158125\n",
      "  map@10: 0.003704699\n",
      "Epoch 167, Step 20, LR: 0.000513, Current Loss: 0.5628, Avg Loss: 0.5676\n",
      "Diff stats — min: -8.0677, max: 10.0000, mean: 6.1155, std: 3.1634\n",
      "\n",
      "Epoch 167 completed, Train Loss: 0.000140\n",
      "\n",
      "Epoch 168, Step 1, LR: 0.000513, Current Loss: 0.5617, Avg Loss: 0.5617\n",
      "Diff stats — min: -4.2180, max: 10.0000, mean: 6.0720, std: 3.1665\n",
      "\n"
     ]
    },
    {
     "name": "stderr",
     "output_type": "stream",
     "text": [
      "/usr/local/lib/python3.11/dist-packages/pandas/core/computation/expressions.py:73: RuntimeWarning: invalid value encountered in less_equal\n",
      "  return op(a, b)\n",
      "/usr/local/lib/python3.11/dist-packages/pandas/core/arraylike.py:399: RuntimeWarning: invalid value encountered in log\n",
      "  result = getattr(ufunc, method)(*inputs, **kwargs)\n"
     ]
    },
    {
     "name": "stdout",
     "output_type": "stream",
     "text": [
      "Step 5010 — Test metrics:\n",
      "  precision@10: 0.011126827\n",
      "  recall@10: 0.011163778\n",
      "  ndcg@10: 0.011591049\n",
      "  map@10: 0.003899273\n",
      "Epoch 168, Step 20, LR: 0.000513, Current Loss: 0.5671, Avg Loss: 0.5646\n",
      "Diff stats — min: -4.4087, max: 10.0000, mean: 6.0223, std: 3.2033\n",
      "\n",
      "Epoch 168 completed, Train Loss: 0.000140\n",
      "\n",
      "Epoch 169, Step 1, LR: 0.000513, Current Loss: 0.5730, Avg Loss: 0.5730\n",
      "Diff stats — min: -5.3634, max: 10.0000, mean: 6.1203, std: 3.1802\n",
      "\n"
     ]
    },
    {
     "name": "stderr",
     "output_type": "stream",
     "text": [
      "/usr/local/lib/python3.11/dist-packages/pandas/core/computation/expressions.py:73: RuntimeWarning: invalid value encountered in less_equal\n",
      "  return op(a, b)\n",
      "/usr/local/lib/python3.11/dist-packages/pandas/core/arraylike.py:399: RuntimeWarning: invalid value encountered in log\n",
      "  result = getattr(ufunc, method)(*inputs, **kwargs)\n"
     ]
    },
    {
     "name": "stdout",
     "output_type": "stream",
     "text": [
      "Step 5040 — Test metrics:\n",
      "  precision@10: 0.011173975\n",
      "  recall@10: 0.011213545\n",
      "  ndcg@10: 0.011546573\n",
      "  map@10: 0.003903220\n",
      "Epoch 169, Step 20, LR: 0.000513, Current Loss: 0.5565, Avg Loss: 0.5675\n",
      "Diff stats — min: -9.2455, max: 10.0000, mean: 6.0758, std: 3.2274\n",
      "\n",
      "Epoch 169 completed, Train Loss: 0.000140\n",
      "\n",
      "Epoch 170, Step 1, LR: 0.000513, Current Loss: 0.5788, Avg Loss: 0.5788\n",
      "Diff stats — min: -5.9803, max: 10.0000, mean: 6.0495, std: 3.1976\n",
      "\n"
     ]
    },
    {
     "name": "stderr",
     "output_type": "stream",
     "text": [
      "/usr/local/lib/python3.11/dist-packages/pandas/core/computation/expressions.py:73: RuntimeWarning: invalid value encountered in less_equal\n",
      "  return op(a, b)\n",
      "/usr/local/lib/python3.11/dist-packages/pandas/core/arraylike.py:399: RuntimeWarning: invalid value encountered in log\n",
      "  result = getattr(ufunc, method)(*inputs, **kwargs)\n"
     ]
    },
    {
     "name": "stdout",
     "output_type": "stream",
     "text": [
      "Step 5070 — Test metrics:\n",
      "  precision@10: 0.010914663\n",
      "  recall@10: 0.010954233\n",
      "  ndcg@10: 0.011433388\n",
      "  map@10: 0.003875005\n",
      "Epoch 170, Step 20, LR: 0.000513, Current Loss: 0.5523, Avg Loss: 0.5678\n",
      "Diff stats — min: -5.6208, max: 10.0000, mean: 6.0703, std: 3.1895\n",
      "\n",
      "Epoch 170 completed, Train Loss: 0.000140\n",
      "\n",
      "Epoch 171, Step 1, LR: 0.000503, Current Loss: 0.5755, Avg Loss: 0.5755\n",
      "Diff stats — min: -5.8701, max: 10.0000, mean: 6.1286, std: 3.2594\n",
      "\n"
     ]
    },
    {
     "name": "stderr",
     "output_type": "stream",
     "text": [
      "/usr/local/lib/python3.11/dist-packages/pandas/core/computation/expressions.py:73: RuntimeWarning: invalid value encountered in less_equal\n",
      "  return op(a, b)\n",
      "/usr/local/lib/python3.11/dist-packages/pandas/core/arraylike.py:399: RuntimeWarning: invalid value encountered in log\n",
      "  result = getattr(ufunc, method)(*inputs, **kwargs)\n"
     ]
    },
    {
     "name": "stdout",
     "output_type": "stream",
     "text": [
      "Step 5100 — Test metrics:\n",
      "  precision@10: 0.011103253\n",
      "  recall@10: 0.011140204\n",
      "  ndcg@10: 0.011405145\n",
      "  map@10: 0.003805802\n",
      "Epoch 171, Step 20, LR: 0.000503, Current Loss: 0.5688, Avg Loss: 0.5665\n",
      "Diff stats — min: -7.2787, max: 10.0000, mean: 6.0857, std: 3.2271\n",
      "\n",
      "Epoch 171 completed, Train Loss: 0.000140\n",
      "\n",
      "Epoch 172, Step 1, LR: 0.000503, Current Loss: 0.5640, Avg Loss: 0.5640\n",
      "Diff stats — min: -5.5486, max: 10.0000, mean: 6.1577, std: 3.1361\n",
      "\n"
     ]
    },
    {
     "name": "stderr",
     "output_type": "stream",
     "text": [
      "/usr/local/lib/python3.11/dist-packages/pandas/core/computation/expressions.py:73: RuntimeWarning: invalid value encountered in less_equal\n",
      "  return op(a, b)\n",
      "/usr/local/lib/python3.11/dist-packages/pandas/core/arraylike.py:399: RuntimeWarning: invalid value encountered in log\n",
      "  result = getattr(ufunc, method)(*inputs, **kwargs)\n"
     ]
    },
    {
     "name": "stdout",
     "output_type": "stream",
     "text": [
      "Step 5130 — Test metrics:\n",
      "  precision@10: 0.011480434\n",
      "  recall@10: 0.011522623\n",
      "  ndcg@10: 0.011863983\n",
      "  map@10: 0.004016546\n",
      "Epoch 172, Step 20, LR: 0.000503, Current Loss: 0.5695, Avg Loss: 0.5631\n",
      "Diff stats — min: -6.0636, max: 10.0000, mean: 6.0716, std: 3.2750\n",
      "\n",
      "Epoch 172 completed, Train Loss: 0.000140\n",
      "\n",
      "Epoch 173, Step 1, LR: 0.000503, Current Loss: 0.5623, Avg Loss: 0.5623\n",
      "Diff stats — min: -5.3845, max: 10.0000, mean: 6.1743, std: 3.2095\n",
      "\n"
     ]
    },
    {
     "name": "stderr",
     "output_type": "stream",
     "text": [
      "/usr/local/lib/python3.11/dist-packages/pandas/core/computation/expressions.py:73: RuntimeWarning: invalid value encountered in less_equal\n",
      "  return op(a, b)\n",
      "/usr/local/lib/python3.11/dist-packages/pandas/core/arraylike.py:399: RuntimeWarning: invalid value encountered in log\n",
      "  result = getattr(ufunc, method)(*inputs, **kwargs)\n"
     ]
    },
    {
     "name": "stdout",
     "output_type": "stream",
     "text": [
      "Step 5160 — Test metrics:\n",
      "  precision@10: 0.011197548\n",
      "  recall@10: 0.011234499\n",
      "  ndcg@10: 0.011571440\n",
      "  map@10: 0.003885918\n",
      "Epoch 173, Step 20, LR: 0.000503, Current Loss: 0.5392, Avg Loss: 0.5651\n",
      "Diff stats — min: -4.6353, max: 10.0000, mean: 6.1133, std: 3.2130\n",
      "\n",
      "Epoch 173 completed, Train Loss: 0.000139\n",
      "\n",
      "Epoch 174, Step 1, LR: 0.000503, Current Loss: 0.5635, Avg Loss: 0.5635\n",
      "Diff stats — min: -6.5775, max: 10.0000, mean: 6.0821, std: 3.2346\n",
      "\n"
     ]
    },
    {
     "name": "stderr",
     "output_type": "stream",
     "text": [
      "/usr/local/lib/python3.11/dist-packages/pandas/core/computation/expressions.py:73: RuntimeWarning: invalid value encountered in less_equal\n",
      "  return op(a, b)\n",
      "/usr/local/lib/python3.11/dist-packages/pandas/core/arraylike.py:399: RuntimeWarning: invalid value encountered in log\n",
      "  result = getattr(ufunc, method)(*inputs, **kwargs)\n"
     ]
    },
    {
     "name": "stdout",
     "output_type": "stream",
     "text": [
      "Step 5190 — Test metrics:\n",
      "  precision@10: 0.011362565\n",
      "  recall@10: 0.011399516\n",
      "  ndcg@10: 0.011594750\n",
      "  map@10: 0.003865116\n",
      "Epoch 174, Step 20, LR: 0.000503, Current Loss: 0.5672, Avg Loss: 0.5665\n",
      "Diff stats — min: -6.2621, max: 10.0000, mean: 6.1655, std: 3.2311\n",
      "\n",
      "Epoch 174 completed, Train Loss: 0.000139\n",
      "\n",
      "Epoch 175, Step 1, LR: 0.000503, Current Loss: 0.5558, Avg Loss: 0.5558\n",
      "Diff stats — min: -6.2663, max: 10.0000, mean: 6.1454, std: 3.1708\n",
      "\n"
     ]
    },
    {
     "name": "stderr",
     "output_type": "stream",
     "text": [
      "/usr/local/lib/python3.11/dist-packages/pandas/core/computation/expressions.py:73: RuntimeWarning: invalid value encountered in less_equal\n",
      "  return op(a, b)\n",
      "/usr/local/lib/python3.11/dist-packages/pandas/core/arraylike.py:399: RuntimeWarning: invalid value encountered in log\n",
      "  result = getattr(ufunc, method)(*inputs, **kwargs)\n"
     ]
    },
    {
     "name": "stdout",
     "output_type": "stream",
     "text": [
      "Step 5220 — Test metrics:\n",
      "  precision@10: 0.011079679\n",
      "  recall@10: 0.011116630\n",
      "  ndcg@10: 0.011570451\n",
      "  map@10: 0.003907823\n",
      "Epoch 175, Step 20, LR: 0.000503, Current Loss: 0.5631, Avg Loss: 0.5658\n",
      "Diff stats — min: -5.3870, max: 10.0000, mean: 6.1493, std: 3.2014\n",
      "\n",
      "Epoch 175 completed, Train Loss: 0.000140\n",
      "\n",
      "Epoch 176, Step 1, LR: 0.000493, Current Loss: 0.5578, Avg Loss: 0.5578\n",
      "Diff stats — min: -5.9063, max: 10.0000, mean: 6.1717, std: 3.1790\n",
      "\n"
     ]
    },
    {
     "name": "stderr",
     "output_type": "stream",
     "text": [
      "/usr/local/lib/python3.11/dist-packages/pandas/core/computation/expressions.py:73: RuntimeWarning: invalid value encountered in less_equal\n",
      "  return op(a, b)\n",
      "/usr/local/lib/python3.11/dist-packages/pandas/core/arraylike.py:399: RuntimeWarning: invalid value encountered in log\n",
      "  result = getattr(ufunc, method)(*inputs, **kwargs)\n"
     ]
    },
    {
     "name": "stdout",
     "output_type": "stream",
     "text": [
      "Step 5250 — Test metrics:\n",
      "  precision@10: 0.010631777\n",
      "  recall@10: 0.010671348\n",
      "  ndcg@10: 0.010961553\n",
      "  map@10: 0.003636778\n",
      "Epoch 176, Step 20, LR: 0.000493, Current Loss: 0.5654, Avg Loss: 0.5635\n",
      "Diff stats — min: -8.4818, max: 10.0000, mean: 6.2063, std: 3.2463\n",
      "\n",
      "Epoch 176 completed, Train Loss: 0.000140\n",
      "\n",
      "Epoch 177, Step 1, LR: 0.000493, Current Loss: 0.5453, Avg Loss: 0.5453\n",
      "Diff stats — min: -4.5842, max: 10.0000, mean: 6.3523, std: 3.1512\n",
      "\n"
     ]
    },
    {
     "name": "stderr",
     "output_type": "stream",
     "text": [
      "/usr/local/lib/python3.11/dist-packages/pandas/core/computation/expressions.py:73: RuntimeWarning: invalid value encountered in less_equal\n",
      "  return op(a, b)\n",
      "/usr/local/lib/python3.11/dist-packages/pandas/core/arraylike.py:399: RuntimeWarning: invalid value encountered in log\n",
      "  result = getattr(ufunc, method)(*inputs, **kwargs)\n"
     ]
    },
    {
     "name": "stdout",
     "output_type": "stream",
     "text": [
      "Step 5280 — Test metrics:\n",
      "  precision@10: 0.011598303\n",
      "  recall@10: 0.011640492\n",
      "  ndcg@10: 0.011719188\n",
      "  map@10: 0.003881311\n",
      "Epoch 177, Step 20, LR: 0.000493, Current Loss: 0.5523, Avg Loss: 0.5602\n",
      "Diff stats — min: -3.7371, max: 10.0000, mean: 6.2606, std: 3.1932\n",
      "\n",
      "Epoch 177 completed, Train Loss: 0.000139\n",
      "\n",
      "Epoch 178, Step 1, LR: 0.000493, Current Loss: 0.5550, Avg Loss: 0.5550\n",
      "Diff stats — min: -6.0667, max: 10.0000, mean: 6.2063, std: 3.1705\n",
      "\n"
     ]
    },
    {
     "name": "stderr",
     "output_type": "stream",
     "text": [
      "/usr/local/lib/python3.11/dist-packages/pandas/core/computation/expressions.py:73: RuntimeWarning: invalid value encountered in less_equal\n",
      "  return op(a, b)\n",
      "/usr/local/lib/python3.11/dist-packages/pandas/core/arraylike.py:399: RuntimeWarning: invalid value encountered in log\n",
      "  result = getattr(ufunc, method)(*inputs, **kwargs)\n"
     ]
    },
    {
     "name": "stdout",
     "output_type": "stream",
     "text": [
      "Step 5310 — Test metrics:\n",
      "  precision@10: 0.011362565\n",
      "  recall@10: 0.011402135\n",
      "  ndcg@10: 0.011555212\n",
      "  map@10: 0.003850919\n",
      "Epoch 178, Step 20, LR: 0.000493, Current Loss: 0.5614, Avg Loss: 0.5645\n",
      "Diff stats — min: -6.2365, max: 10.0000, mean: 6.2401, std: 3.1948\n",
      "\n",
      "Epoch 178 completed, Train Loss: 0.000139\n",
      "\n",
      "Epoch 179, Step 1, LR: 0.000493, Current Loss: 0.5530, Avg Loss: 0.5530\n",
      "Diff stats — min: -5.6850, max: 10.0000, mean: 6.2790, std: 3.1457\n",
      "\n"
     ]
    },
    {
     "name": "stderr",
     "output_type": "stream",
     "text": [
      "/usr/local/lib/python3.11/dist-packages/pandas/core/computation/expressions.py:73: RuntimeWarning: invalid value encountered in less_equal\n",
      "  return op(a, b)\n",
      "/usr/local/lib/python3.11/dist-packages/pandas/core/arraylike.py:399: RuntimeWarning: invalid value encountered in log\n",
      "  result = getattr(ufunc, method)(*inputs, **kwargs)\n"
     ]
    },
    {
     "name": "stdout",
     "output_type": "stream",
     "text": [
      "Step 5340 — Test metrics:\n",
      "  precision@10: 0.011008958\n",
      "  recall@10: 0.011048528\n",
      "  ndcg@10: 0.011348892\n",
      "  map@10: 0.003809244\n",
      "Epoch 179, Step 20, LR: 0.000493, Current Loss: 0.5436, Avg Loss: 0.5614\n",
      "Diff stats — min: -5.9816, max: 10.0000, mean: 6.2316, std: 3.1366\n",
      "\n",
      "Epoch 179 completed, Train Loss: 0.000139\n",
      "\n",
      "Epoch 180, Step 1, LR: 0.000493, Current Loss: 0.5733, Avg Loss: 0.5733\n",
      "Diff stats — min: -6.5046, max: 10.0000, mean: 6.2621, std: 3.2140\n",
      "\n"
     ]
    },
    {
     "name": "stderr",
     "output_type": "stream",
     "text": [
      "/usr/local/lib/python3.11/dist-packages/pandas/core/computation/expressions.py:73: RuntimeWarning: invalid value encountered in less_equal\n",
      "  return op(a, b)\n",
      "/usr/local/lib/python3.11/dist-packages/pandas/core/arraylike.py:399: RuntimeWarning: invalid value encountered in log\n",
      "  result = getattr(ufunc, method)(*inputs, **kwargs)\n"
     ]
    },
    {
     "name": "stdout",
     "output_type": "stream",
     "text": [
      "Step 5370 — Test metrics:\n",
      "  precision@10: 0.011433286\n",
      "  recall@10: 0.011475476\n",
      "  ndcg@10: 0.011664512\n",
      "  map@10: 0.003872561\n",
      "Epoch 180, Step 20, LR: 0.000493, Current Loss: 0.5591, Avg Loss: 0.5591\n",
      "Diff stats — min: -5.1773, max: 10.0000, mean: 6.3335, std: 3.1878\n",
      "\n",
      "Epoch 180 completed, Train Loss: 0.000138\n",
      "\n",
      "Epoch 181, Step 1, LR: 0.000483, Current Loss: 0.5584, Avg Loss: 0.5584\n",
      "Diff stats — min: -5.9697, max: 10.0000, mean: 6.3006, std: 3.1649\n",
      "\n"
     ]
    },
    {
     "name": "stderr",
     "output_type": "stream",
     "text": [
      "/usr/local/lib/python3.11/dist-packages/pandas/core/computation/expressions.py:73: RuntimeWarning: invalid value encountered in less_equal\n",
      "  return op(a, b)\n",
      "/usr/local/lib/python3.11/dist-packages/pandas/core/arraylike.py:399: RuntimeWarning: invalid value encountered in log\n",
      "  result = getattr(ufunc, method)(*inputs, **kwargs)\n"
     ]
    },
    {
     "name": "stdout",
     "output_type": "stream",
     "text": [
      "Step 5400 — Test metrics:\n",
      "  precision@10: 0.011338991\n",
      "  recall@10: 0.011375942\n",
      "  ndcg@10: 0.011782448\n",
      "  map@10: 0.004031810\n",
      "Epoch 181, Step 20, LR: 0.000483, Current Loss: 0.5571, Avg Loss: 0.5603\n",
      "Diff stats — min: -5.6932, max: 10.0000, mean: 6.3508, std: 3.1962\n",
      "\n",
      "Epoch 181 completed, Train Loss: 0.000138\n",
      "\n",
      "Epoch 182, Step 1, LR: 0.000483, Current Loss: 0.5701, Avg Loss: 0.5701\n",
      "Diff stats — min: -6.8401, max: 10.0000, mean: 6.2947, std: 3.1871\n",
      "\n"
     ]
    },
    {
     "name": "stderr",
     "output_type": "stream",
     "text": [
      "/usr/local/lib/python3.11/dist-packages/pandas/core/computation/expressions.py:73: RuntimeWarning: invalid value encountered in less_equal\n",
      "  return op(a, b)\n",
      "/usr/local/lib/python3.11/dist-packages/pandas/core/arraylike.py:399: RuntimeWarning: invalid value encountered in log\n",
      "  result = getattr(ufunc, method)(*inputs, **kwargs)\n"
     ]
    },
    {
     "name": "stdout",
     "output_type": "stream",
     "text": [
      "Step 5430 — Test metrics:\n",
      "  precision@10: 0.011291843\n",
      "  recall@10: 0.011328794\n",
      "  ndcg@10: 0.011729673\n",
      "  map@10: 0.003980376\n",
      "Epoch 182, Step 20, LR: 0.000483, Current Loss: 0.5610, Avg Loss: 0.5622\n",
      "Diff stats — min: -7.5725, max: 10.0000, mean: 6.3075, std: 3.1701\n",
      "\n",
      "Epoch 182 completed, Train Loss: 0.000139\n",
      "\n",
      "Epoch 183, Step 1, LR: 0.000483, Current Loss: 0.5606, Avg Loss: 0.5606\n",
      "Diff stats — min: -5.6655, max: 10.0000, mean: 6.2755, std: 3.1610\n",
      "\n"
     ]
    },
    {
     "name": "stderr",
     "output_type": "stream",
     "text": [
      "/usr/local/lib/python3.11/dist-packages/pandas/core/computation/expressions.py:73: RuntimeWarning: invalid value encountered in less_equal\n",
      "  return op(a, b)\n",
      "/usr/local/lib/python3.11/dist-packages/pandas/core/arraylike.py:399: RuntimeWarning: invalid value encountered in log\n",
      "  result = getattr(ufunc, method)(*inputs, **kwargs)\n"
     ]
    },
    {
     "name": "stdout",
     "output_type": "stream",
     "text": [
      "Step 5460 — Test metrics:\n",
      "  precision@10: 0.011386139\n",
      "  recall@10: 0.011425709\n",
      "  ndcg@10: 0.011764928\n",
      "  map@10: 0.003971719\n",
      "Epoch 183, Step 20, LR: 0.000483, Current Loss: 0.5635, Avg Loss: 0.5599\n",
      "Diff stats — min: -6.6827, max: 10.0000, mean: 6.2467, std: 3.2294\n",
      "\n",
      "Epoch 183 completed, Train Loss: 0.000138\n",
      "\n",
      "Epoch 184, Step 1, LR: 0.000483, Current Loss: 0.5711, Avg Loss: 0.5711\n",
      "Diff stats — min: -4.6394, max: 10.0000, mean: 6.2856, std: 3.1743\n",
      "\n"
     ]
    },
    {
     "name": "stderr",
     "output_type": "stream",
     "text": [
      "/usr/local/lib/python3.11/dist-packages/pandas/core/computation/expressions.py:73: RuntimeWarning: invalid value encountered in less_equal\n",
      "  return op(a, b)\n",
      "/usr/local/lib/python3.11/dist-packages/pandas/core/arraylike.py:399: RuntimeWarning: invalid value encountered in log\n",
      "  result = getattr(ufunc, method)(*inputs, **kwargs)\n"
     ]
    },
    {
     "name": "stdout",
     "output_type": "stream",
     "text": [
      "Step 5490 — Test metrics:\n",
      "  precision@10: 0.011669024\n",
      "  recall@10: 0.011708594\n",
      "  ndcg@10: 0.012209465\n",
      "  map@10: 0.004190842\n",
      "Epoch 184, Step 20, LR: 0.000483, Current Loss: 0.5678, Avg Loss: 0.5585\n",
      "Diff stats — min: -7.2567, max: 10.0000, mean: 6.3847, std: 3.1813\n",
      "\n",
      "Epoch 184 completed, Train Loss: 0.000138\n",
      "\n",
      "Epoch 185, Step 1, LR: 0.000483, Current Loss: 0.5628, Avg Loss: 0.5628\n",
      "Diff stats — min: -6.0490, max: 10.0000, mean: 6.3631, std: 3.1739\n",
      "\n"
     ]
    },
    {
     "name": "stderr",
     "output_type": "stream",
     "text": [
      "/usr/local/lib/python3.11/dist-packages/pandas/core/computation/expressions.py:73: RuntimeWarning: invalid value encountered in less_equal\n",
      "  return op(a, b)\n",
      "/usr/local/lib/python3.11/dist-packages/pandas/core/arraylike.py:399: RuntimeWarning: invalid value encountered in log\n",
      "  result = getattr(ufunc, method)(*inputs, **kwargs)\n"
     ]
    },
    {
     "name": "stdout",
     "output_type": "stream",
     "text": [
      "Step 5520 — Test metrics:\n",
      "  precision@10: 0.011645450\n",
      "  recall@10: 0.011687640\n",
      "  ndcg@10: 0.012198790\n",
      "  map@10: 0.004177070\n",
      "Epoch 185, Step 20, LR: 0.000483, Current Loss: 0.5538, Avg Loss: 0.5597\n",
      "Diff stats — min: -6.0808, max: 10.0000, mean: 6.2730, std: 3.1788\n",
      "\n",
      "Epoch 185 completed, Train Loss: 0.000138\n",
      "\n",
      "Epoch 186, Step 1, LR: 0.000474, Current Loss: 0.5489, Avg Loss: 0.5489\n",
      "Diff stats — min: -4.8268, max: 10.0000, mean: 6.2738, std: 3.2584\n",
      "\n"
     ]
    },
    {
     "name": "stderr",
     "output_type": "stream",
     "text": [
      "/usr/local/lib/python3.11/dist-packages/pandas/core/computation/expressions.py:73: RuntimeWarning: invalid value encountered in less_equal\n",
      "  return op(a, b)\n",
      "/usr/local/lib/python3.11/dist-packages/pandas/core/arraylike.py:399: RuntimeWarning: invalid value encountered in log\n",
      "  result = getattr(ufunc, method)(*inputs, **kwargs)\n"
     ]
    },
    {
     "name": "stdout",
     "output_type": "stream",
     "text": [
      "Step 5550 — Test metrics:\n",
      "  precision@10: 0.011409712\n",
      "  recall@10: 0.011454521\n",
      "  ndcg@10: 0.011969532\n",
      "  map@10: 0.004088270\n",
      "Epoch 186, Step 20, LR: 0.000474, Current Loss: 0.5598, Avg Loss: 0.5587\n",
      "Diff stats — min: -5.5663, max: 10.0000, mean: 6.2998, std: 3.1296\n",
      "\n",
      "Epoch 186 completed, Train Loss: 0.000138\n",
      "\n",
      "Epoch 187, Step 1, LR: 0.000474, Current Loss: 0.5405, Avg Loss: 0.5405\n",
      "Diff stats — min: -6.6124, max: 10.0000, mean: 6.3943, std: 3.1492\n",
      "\n"
     ]
    },
    {
     "name": "stderr",
     "output_type": "stream",
     "text": [
      "/usr/local/lib/python3.11/dist-packages/pandas/core/computation/expressions.py:73: RuntimeWarning: invalid value encountered in less_equal\n",
      "  return op(a, b)\n",
      "/usr/local/lib/python3.11/dist-packages/pandas/core/arraylike.py:399: RuntimeWarning: invalid value encountered in log\n",
      "  result = getattr(ufunc, method)(*inputs, **kwargs)\n"
     ]
    },
    {
     "name": "stdout",
     "output_type": "stream",
     "text": [
      "Step 5580 — Test metrics:\n",
      "  precision@10: 0.011433286\n",
      "  recall@10: 0.011470237\n",
      "  ndcg@10: 0.012117346\n",
      "  map@10: 0.004211650\n",
      "Epoch 187, Step 20, LR: 0.000474, Current Loss: 0.5720, Avg Loss: 0.5579\n",
      "Diff stats — min: -7.6650, max: 10.0000, mean: 6.4009, std: 3.1817\n",
      "\n",
      "Epoch 187 completed, Train Loss: 0.000138\n",
      "\n",
      "Epoch 188, Step 1, LR: 0.000474, Current Loss: 0.5613, Avg Loss: 0.5613\n",
      "Diff stats — min: -6.2232, max: 10.0000, mean: 6.3509, std: 3.1653\n",
      "\n"
     ]
    },
    {
     "name": "stderr",
     "output_type": "stream",
     "text": [
      "/usr/local/lib/python3.11/dist-packages/pandas/core/computation/expressions.py:73: RuntimeWarning: invalid value encountered in less_equal\n",
      "  return op(a, b)\n",
      "/usr/local/lib/python3.11/dist-packages/pandas/core/arraylike.py:399: RuntimeWarning: invalid value encountered in log\n",
      "  result = getattr(ufunc, method)(*inputs, **kwargs)\n"
     ]
    },
    {
     "name": "stdout",
     "output_type": "stream",
     "text": [
      "Step 5610 — Test metrics:\n",
      "  precision@10: 0.011551155\n",
      "  recall@10: 0.011593345\n",
      "  ndcg@10: 0.012125824\n",
      "  map@10: 0.004155114\n",
      "Epoch 188, Step 20, LR: 0.000474, Current Loss: 0.5666, Avg Loss: 0.5555\n",
      "Diff stats — min: -6.0370, max: 10.0000, mean: 6.3239, std: 3.1942\n",
      "\n",
      "Epoch 188 completed, Train Loss: 0.000138\n",
      "\n",
      "Epoch 189, Step 1, LR: 0.000474, Current Loss: 0.5698, Avg Loss: 0.5698\n",
      "Diff stats — min: -6.3276, max: 10.0000, mean: 6.3097, std: 3.2026\n",
      "\n"
     ]
    },
    {
     "name": "stderr",
     "output_type": "stream",
     "text": [
      "/usr/local/lib/python3.11/dist-packages/pandas/core/computation/expressions.py:73: RuntimeWarning: invalid value encountered in less_equal\n",
      "  return op(a, b)\n",
      "/usr/local/lib/python3.11/dist-packages/pandas/core/arraylike.py:399: RuntimeWarning: invalid value encountered in log\n",
      "  result = getattr(ufunc, method)(*inputs, **kwargs)\n"
     ]
    },
    {
     "name": "stdout",
     "output_type": "stream",
     "text": [
      "Step 5640 — Test metrics:\n",
      "  precision@10: 0.011504008\n",
      "  recall@10: 0.011548816\n",
      "  ndcg@10: 0.011982284\n",
      "  map@10: 0.004072333\n",
      "Epoch 189, Step 20, LR: 0.000474, Current Loss: 0.5624, Avg Loss: 0.5540\n",
      "Diff stats — min: -5.6921, max: 10.0000, mean: 6.4046, std: 3.1244\n",
      "\n",
      "Epoch 189 completed, Train Loss: 0.000137\n",
      "\n",
      "Epoch 190, Step 1, LR: 0.000474, Current Loss: 0.5608, Avg Loss: 0.5608\n",
      "Diff stats — min: -6.5234, max: 10.0000, mean: 6.4817, std: 3.1986\n",
      "\n"
     ]
    },
    {
     "name": "stderr",
     "output_type": "stream",
     "text": [
      "/usr/local/lib/python3.11/dist-packages/pandas/core/computation/expressions.py:73: RuntimeWarning: invalid value encountered in less_equal\n",
      "  return op(a, b)\n",
      "/usr/local/lib/python3.11/dist-packages/pandas/core/arraylike.py:399: RuntimeWarning: invalid value encountered in log\n",
      "  result = getattr(ufunc, method)(*inputs, **kwargs)\n"
     ]
    },
    {
     "name": "stdout",
     "output_type": "stream",
     "text": [
      "Step 5670 — Test metrics:\n",
      "  precision@10: 0.011645450\n",
      "  recall@10: 0.011685021\n",
      "  ndcg@10: 0.012042817\n",
      "  map@10: 0.004047193\n",
      "Epoch 190, Step 20, LR: 0.000474, Current Loss: 0.5745, Avg Loss: 0.5569\n",
      "Diff stats — min: -6.4506, max: 10.0000, mean: 6.4535, std: 3.1914\n",
      "\n",
      "Epoch 190 completed, Train Loss: 0.000138\n",
      "\n",
      "Epoch 191, Step 1, LR: 0.000464, Current Loss: 0.5642, Avg Loss: 0.5642\n",
      "Diff stats — min: -6.7594, max: 10.0000, mean: 6.3934, std: 3.1491\n",
      "\n"
     ]
    },
    {
     "name": "stderr",
     "output_type": "stream",
     "text": [
      "/usr/local/lib/python3.11/dist-packages/pandas/core/computation/expressions.py:73: RuntimeWarning: invalid value encountered in less_equal\n",
      "  return op(a, b)\n",
      "/usr/local/lib/python3.11/dist-packages/pandas/core/arraylike.py:399: RuntimeWarning: invalid value encountered in log\n",
      "  result = getattr(ufunc, method)(*inputs, **kwargs)\n"
     ]
    },
    {
     "name": "stdout",
     "output_type": "stream",
     "text": [
      "Step 5700 — Test metrics:\n",
      "  precision@10: 0.011763319\n",
      "  recall@10: 0.011805509\n",
      "  ndcg@10: 0.012384474\n",
      "  map@10: 0.004266583\n",
      "Epoch 191, Step 20, LR: 0.000464, Current Loss: 0.5698, Avg Loss: 0.5586\n",
      "Diff stats — min: -6.5046, max: 10.0000, mean: 6.3654, std: 3.2140\n",
      "\n",
      "Epoch 191 completed, Train Loss: 0.000137\n",
      "\n",
      "Epoch 192, Step 1, LR: 0.000464, Current Loss: 0.5750, Avg Loss: 0.5750\n",
      "Diff stats — min: -7.3679, max: 10.0000, mean: 6.3267, std: 3.2265\n",
      "\n"
     ]
    },
    {
     "name": "stderr",
     "output_type": "stream",
     "text": [
      "/usr/local/lib/python3.11/dist-packages/pandas/core/computation/expressions.py:73: RuntimeWarning: invalid value encountered in less_equal\n",
      "  return op(a, b)\n",
      "/usr/local/lib/python3.11/dist-packages/pandas/core/arraylike.py:399: RuntimeWarning: invalid value encountered in log\n",
      "  result = getattr(ufunc, method)(*inputs, **kwargs)\n"
     ]
    },
    {
     "name": "stdout",
     "output_type": "stream",
     "text": [
      "Step 5730 — Test metrics:\n",
      "  precision@10: 0.011810467\n",
      "  recall@10: 0.011844798\n",
      "  ndcg@10: 0.012365020\n",
      "  map@10: 0.004260580\n",
      "Epoch 192, Step 20, LR: 0.000464, Current Loss: 0.5635, Avg Loss: 0.5566\n",
      "Diff stats — min: -7.4177, max: 10.0000, mean: 6.4909, std: 3.2081\n",
      "\n",
      "Epoch 192 completed, Train Loss: 0.000137\n",
      "\n",
      "Epoch 193, Step 1, LR: 0.000464, Current Loss: 0.5452, Avg Loss: 0.5452\n",
      "Diff stats — min: -4.9416, max: 10.0000, mean: 6.4735, std: 3.1273\n",
      "\n"
     ]
    },
    {
     "name": "stderr",
     "output_type": "stream",
     "text": [
      "/usr/local/lib/python3.11/dist-packages/pandas/core/computation/expressions.py:73: RuntimeWarning: invalid value encountered in less_equal\n",
      "  return op(a, b)\n",
      "/usr/local/lib/python3.11/dist-packages/pandas/core/arraylike.py:399: RuntimeWarning: invalid value encountered in log\n",
      "  result = getattr(ufunc, method)(*inputs, **kwargs)\n"
     ]
    },
    {
     "name": "stdout",
     "output_type": "stream",
     "text": [
      "Step 5760 — Test metrics:\n",
      "  precision@10: 0.011810467\n",
      "  recall@10: 0.011850037\n",
      "  ndcg@10: 0.012631291\n",
      "  map@10: 0.004456755\n",
      "Epoch 193, Step 20, LR: 0.000464, Current Loss: 0.5718, Avg Loss: 0.5579\n",
      "Diff stats — min: -5.1070, max: 10.0000, mean: 6.3905, std: 3.2265\n",
      "\n",
      "Epoch 193 completed, Train Loss: 0.000137\n",
      "\n",
      "Epoch 194, Step 1, LR: 0.000464, Current Loss: 0.5381, Avg Loss: 0.5381\n",
      "Diff stats — min: -4.3463, max: 10.0000, mean: 6.3880, std: 3.2064\n",
      "\n"
     ]
    },
    {
     "name": "stderr",
     "output_type": "stream",
     "text": [
      "/usr/local/lib/python3.11/dist-packages/pandas/core/computation/expressions.py:73: RuntimeWarning: invalid value encountered in less_equal\n",
      "  return op(a, b)\n",
      "/usr/local/lib/python3.11/dist-packages/pandas/core/arraylike.py:399: RuntimeWarning: invalid value encountered in log\n",
      "  result = getattr(ufunc, method)(*inputs, **kwargs)\n"
     ]
    },
    {
     "name": "stdout",
     "output_type": "stream",
     "text": [
      "Step 5790 — Test metrics:\n",
      "  precision@10: 0.011834041\n",
      "  recall@10: 0.011876230\n",
      "  ndcg@10: 0.012433596\n",
      "  map@10: 0.004350170\n",
      "Epoch 194, Step 20, LR: 0.000464, Current Loss: 0.5629, Avg Loss: 0.5550\n",
      "Diff stats — min: -5.0312, max: 10.0000, mean: 6.3872, std: 3.2542\n",
      "\n",
      "Epoch 194 completed, Train Loss: 0.000137\n",
      "\n",
      "Epoch 195, Step 1, LR: 0.000464, Current Loss: 0.5530, Avg Loss: 0.5530\n",
      "Diff stats — min: -7.5994, max: 10.0000, mean: 6.4310, std: 3.1740\n",
      "\n"
     ]
    },
    {
     "name": "stderr",
     "output_type": "stream",
     "text": [
      "/usr/local/lib/python3.11/dist-packages/pandas/core/computation/expressions.py:73: RuntimeWarning: invalid value encountered in less_equal\n",
      "  return op(a, b)\n",
      "/usr/local/lib/python3.11/dist-packages/pandas/core/arraylike.py:399: RuntimeWarning: invalid value encountered in log\n",
      "  result = getattr(ufunc, method)(*inputs, **kwargs)\n"
     ]
    },
    {
     "name": "stdout",
     "output_type": "stream",
     "text": [
      "Step 5820 — Test metrics:\n",
      "  precision@10: 0.012022631\n",
      "  recall@10: 0.012070059\n",
      "  ndcg@10: 0.012411954\n",
      "  map@10: 0.004221293\n",
      "Epoch 195, Step 20, LR: 0.000464, Current Loss: 0.5707, Avg Loss: 0.5571\n",
      "Diff stats — min: -6.6345, max: 10.0000, mean: 6.4622, std: 3.2350\n",
      "\n",
      "Epoch 195 completed, Train Loss: 0.000137\n",
      "\n",
      "Epoch 196, Step 1, LR: 0.000455, Current Loss: 0.5600, Avg Loss: 0.5600\n",
      "Diff stats — min: -6.9655, max: 10.0000, mean: 6.3313, std: 3.2230\n",
      "\n"
     ]
    },
    {
     "name": "stderr",
     "output_type": "stream",
     "text": [
      "/usr/local/lib/python3.11/dist-packages/pandas/core/computation/expressions.py:73: RuntimeWarning: invalid value encountered in less_equal\n",
      "  return op(a, b)\n",
      "/usr/local/lib/python3.11/dist-packages/pandas/core/arraylike.py:399: RuntimeWarning: invalid value encountered in log\n",
      "  result = getattr(ufunc, method)(*inputs, **kwargs)\n"
     ]
    },
    {
     "name": "stdout",
     "output_type": "stream",
     "text": [
      "Step 5850 — Test metrics:\n",
      "  precision@10: 0.012069778\n",
      "  recall@10: 0.012122445\n",
      "  ndcg@10: 0.012470155\n",
      "  map@10: 0.004270326\n",
      "Epoch 196, Step 20, LR: 0.000455, Current Loss: 0.5558, Avg Loss: 0.5543\n",
      "Diff stats — min: -5.9906, max: 10.0000, mean: 6.4905, std: 3.1911\n",
      "\n",
      "Epoch 196 completed, Train Loss: 0.000137\n",
      "\n",
      "Epoch 197, Step 1, LR: 0.000455, Current Loss: 0.5555, Avg Loss: 0.5555\n",
      "Diff stats — min: -7.0792, max: 10.0000, mean: 6.5060, std: 3.2145\n",
      "\n"
     ]
    },
    {
     "name": "stderr",
     "output_type": "stream",
     "text": [
      "/usr/local/lib/python3.11/dist-packages/pandas/core/computation/expressions.py:73: RuntimeWarning: invalid value encountered in less_equal\n",
      "  return op(a, b)\n",
      "/usr/local/lib/python3.11/dist-packages/pandas/core/arraylike.py:399: RuntimeWarning: invalid value encountered in log\n",
      "  result = getattr(ufunc, method)(*inputs, **kwargs)\n"
     ]
    },
    {
     "name": "stdout",
     "output_type": "stream",
     "text": [
      "Step 5880 — Test metrics:\n",
      "  precision@10: 0.012046205\n",
      "  recall@10: 0.012096252\n",
      "  ndcg@10: 0.012477408\n",
      "  map@10: 0.004266781\n",
      "Epoch 197, Step 20, LR: 0.000455, Current Loss: 0.5416, Avg Loss: 0.5537\n",
      "Diff stats — min: -4.6060, max: 10.0000, mean: 6.4900, std: 3.1575\n",
      "\n",
      "Epoch 197 completed, Train Loss: 0.000137\n",
      "\n",
      "Epoch 198, Step 1, LR: 0.000455, Current Loss: 0.5468, Avg Loss: 0.5468\n",
      "Diff stats — min: -6.9878, max: 10.0000, mean: 6.5582, std: 3.1735\n",
      "\n"
     ]
    },
    {
     "name": "stderr",
     "output_type": "stream",
     "text": [
      "/usr/local/lib/python3.11/dist-packages/pandas/core/computation/expressions.py:73: RuntimeWarning: invalid value encountered in less_equal\n",
      "  return op(a, b)\n",
      "/usr/local/lib/python3.11/dist-packages/pandas/core/arraylike.py:399: RuntimeWarning: invalid value encountered in log\n",
      "  result = getattr(ufunc, method)(*inputs, **kwargs)\n"
     ]
    },
    {
     "name": "stdout",
     "output_type": "stream",
     "text": [
      "Step 5910 — Test metrics:\n",
      "  precision@10: 0.011739745\n",
      "  recall@10: 0.011784554\n",
      "  ndcg@10: 0.012211439\n",
      "  map@10: 0.004247928\n",
      "Epoch 198, Step 20, LR: 0.000455, Current Loss: 0.5679, Avg Loss: 0.5501\n",
      "Diff stats — min: -7.2190, max: 10.0000, mean: 6.5128, std: 3.1629\n",
      "\n",
      "Epoch 198 completed, Train Loss: 0.000136\n",
      "\n",
      "Epoch 199, Step 1, LR: 0.000455, Current Loss: 0.5628, Avg Loss: 0.5628\n",
      "Diff stats — min: -7.4540, max: 10.0000, mean: 6.5471, std: 3.1273\n",
      "\n"
     ]
    },
    {
     "name": "stderr",
     "output_type": "stream",
     "text": [
      "/usr/local/lib/python3.11/dist-packages/pandas/core/computation/expressions.py:73: RuntimeWarning: invalid value encountered in less_equal\n",
      "  return op(a, b)\n",
      "/usr/local/lib/python3.11/dist-packages/pandas/core/arraylike.py:399: RuntimeWarning: invalid value encountered in log\n",
      "  result = getattr(ufunc, method)(*inputs, **kwargs)\n"
     ]
    },
    {
     "name": "stdout",
     "output_type": "stream",
     "text": [
      "Step 5940 — Test metrics:\n",
      "  precision@10: 0.012022631\n",
      "  recall@10: 0.012070059\n",
      "  ndcg@10: 0.012219011\n",
      "  map@10: 0.004144396\n",
      "Epoch 199, Step 20, LR: 0.000455, Current Loss: 0.5510, Avg Loss: 0.5543\n",
      "Diff stats — min: -6.2655, max: 10.0000, mean: 6.4821, std: 3.1423\n",
      "\n",
      "Epoch 199 completed, Train Loss: 0.000136\n",
      "\n",
      "Epoch 200, Step 1, LR: 0.000455, Current Loss: 0.5383, Avg Loss: 0.5383\n",
      "Diff stats — min: -6.8346, max: 10.0000, mean: 6.4281, std: 3.1868\n",
      "\n"
     ]
    },
    {
     "name": "stderr",
     "output_type": "stream",
     "text": [
      "/usr/local/lib/python3.11/dist-packages/pandas/core/computation/expressions.py:73: RuntimeWarning: invalid value encountered in less_equal\n",
      "  return op(a, b)\n",
      "/usr/local/lib/python3.11/dist-packages/pandas/core/arraylike.py:399: RuntimeWarning: invalid value encountered in log\n",
      "  result = getattr(ufunc, method)(*inputs, **kwargs)\n"
     ]
    },
    {
     "name": "stdout",
     "output_type": "stream",
     "text": [
      "Step 5970 — Test metrics:\n",
      "  precision@10: 0.011857614\n",
      "  recall@10: 0.011897185\n",
      "  ndcg@10: 0.012155534\n",
      "  map@10: 0.004135145\n",
      "Epoch 200, Step 20, LR: 0.000455, Current Loss: 0.5760, Avg Loss: 0.5537\n",
      "Diff stats — min: -5.5862, max: 10.0000, mean: 6.4786, std: 3.2221\n",
      "\n",
      "Epoch 200 completed, Train Loss: 0.000137\n",
      "\n",
      "Epoch 201, Step 1, LR: 0.000446, Current Loss: 0.5509, Avg Loss: 0.5509\n",
      "Diff stats — min: -4.8118, max: 10.0000, mean: 6.6219, std: 3.1747\n",
      "\n"
     ]
    },
    {
     "name": "stderr",
     "output_type": "stream",
     "text": [
      "/usr/local/lib/python3.11/dist-packages/pandas/core/computation/expressions.py:73: RuntimeWarning: invalid value encountered in less_equal\n",
      "  return op(a, b)\n",
      "/usr/local/lib/python3.11/dist-packages/pandas/core/arraylike.py:399: RuntimeWarning: invalid value encountered in log\n",
      "  result = getattr(ufunc, method)(*inputs, **kwargs)\n"
     ]
    },
    {
     "name": "stdout",
     "output_type": "stream",
     "text": [
      "Step 6000 — Test metrics:\n",
      "  precision@10: 0.012140500\n",
      "  recall@10: 0.012187928\n",
      "  ndcg@10: 0.012413752\n",
      "  map@10: 0.004242690\n",
      "Epoch 201, Step 20, LR: 0.000446, Current Loss: 0.5487, Avg Loss: 0.5511\n",
      "Diff stats — min: -4.1608, max: 10.0000, mean: 6.5449, std: 3.1877\n",
      "\n",
      "Epoch 201 completed, Train Loss: 0.000136\n",
      "\n",
      "Epoch 202, Step 1, LR: 0.000446, Current Loss: 0.5577, Avg Loss: 0.5577\n",
      "Diff stats — min: -7.4746, max: 10.0000, mean: 6.5422, std: 3.2154\n",
      "\n"
     ]
    },
    {
     "name": "stderr",
     "output_type": "stream",
     "text": [
      "/usr/local/lib/python3.11/dist-packages/pandas/core/computation/expressions.py:73: RuntimeWarning: invalid value encountered in less_equal\n",
      "  return op(a, b)\n",
      "/usr/local/lib/python3.11/dist-packages/pandas/core/arraylike.py:399: RuntimeWarning: invalid value encountered in log\n",
      "  result = getattr(ufunc, method)(*inputs, **kwargs)\n"
     ]
    },
    {
     "name": "stdout",
     "output_type": "stream",
     "text": [
      "Step 6030 — Test metrics:\n",
      "  precision@10: 0.011551155\n",
      "  recall@10: 0.011593345\n",
      "  ndcg@10: 0.012033944\n",
      "  map@10: 0.004157057\n",
      "Epoch 202, Step 20, LR: 0.000446, Current Loss: 0.5413, Avg Loss: 0.5531\n",
      "Diff stats — min: -7.0627, max: 10.0000, mean: 6.5574, std: 3.1764\n",
      "\n",
      "Epoch 202 completed, Train Loss: 0.000136\n",
      "\n",
      "Epoch 203, Step 1, LR: 0.000446, Current Loss: 0.5531, Avg Loss: 0.5531\n",
      "Diff stats — min: -5.9277, max: 10.0000, mean: 6.6365, std: 3.1202\n",
      "\n"
     ]
    },
    {
     "name": "stderr",
     "output_type": "stream",
     "text": [
      "/usr/local/lib/python3.11/dist-packages/pandas/core/computation/expressions.py:73: RuntimeWarning: invalid value encountered in less_equal\n",
      "  return op(a, b)\n",
      "/usr/local/lib/python3.11/dist-packages/pandas/core/arraylike.py:399: RuntimeWarning: invalid value encountered in log\n",
      "  result = getattr(ufunc, method)(*inputs, **kwargs)\n"
     ]
    },
    {
     "name": "stdout",
     "output_type": "stream",
     "text": [
      "Step 6060 — Test metrics:\n",
      "  precision@10: 0.011857614\n",
      "  recall@10: 0.011905043\n",
      "  ndcg@10: 0.012218687\n",
      "  map@10: 0.004178206\n",
      "Epoch 203, Step 20, LR: 0.000446, Current Loss: 0.5610, Avg Loss: 0.5515\n",
      "Diff stats — min: -5.6853, max: 10.0000, mean: 6.5682, std: 3.1443\n",
      "\n",
      "Epoch 203 completed, Train Loss: 0.000136\n",
      "\n",
      "Epoch 204, Step 1, LR: 0.000446, Current Loss: 0.5737, Avg Loss: 0.5737\n",
      "Diff stats — min: -6.3690, max: 10.0000, mean: 6.5560, std: 3.2234\n",
      "\n"
     ]
    },
    {
     "name": "stderr",
     "output_type": "stream",
     "text": [
      "/usr/local/lib/python3.11/dist-packages/pandas/core/computation/expressions.py:73: RuntimeWarning: invalid value encountered in less_equal\n",
      "  return op(a, b)\n",
      "/usr/local/lib/python3.11/dist-packages/pandas/core/arraylike.py:399: RuntimeWarning: invalid value encountered in log\n",
      "  result = getattr(ufunc, method)(*inputs, **kwargs)\n"
     ]
    },
    {
     "name": "stdout",
     "output_type": "stream",
     "text": [
      "Step 6090 — Test metrics:\n",
      "  precision@10: 0.011810467\n",
      "  recall@10: 0.011855276\n",
      "  ndcg@10: 0.012047106\n",
      "  map@10: 0.004060485\n",
      "Epoch 204, Step 20, LR: 0.000446, Current Loss: 0.5436, Avg Loss: 0.5514\n",
      "Diff stats — min: -7.4560, max: 10.0000, mean: 6.5908, std: 3.1631\n",
      "\n",
      "Epoch 204 completed, Train Loss: 0.000136\n",
      "\n",
      "Epoch 205, Step 1, LR: 0.000446, Current Loss: 0.5471, Avg Loss: 0.5471\n",
      "Diff stats — min: -4.9354, max: 10.0000, mean: 6.5674, std: 3.1672\n",
      "\n"
     ]
    },
    {
     "name": "stderr",
     "output_type": "stream",
     "text": [
      "/usr/local/lib/python3.11/dist-packages/pandas/core/computation/expressions.py:73: RuntimeWarning: invalid value encountered in less_equal\n",
      "  return op(a, b)\n",
      "/usr/local/lib/python3.11/dist-packages/pandas/core/arraylike.py:399: RuntimeWarning: invalid value encountered in log\n",
      "  result = getattr(ufunc, method)(*inputs, **kwargs)\n"
     ]
    },
    {
     "name": "stdout",
     "output_type": "stream",
     "text": [
      "Step 6120 — Test metrics:\n",
      "  precision@10: 0.011881188\n",
      "  recall@10: 0.011928616\n",
      "  ndcg@10: 0.012193286\n",
      "  map@10: 0.004138166\n",
      "Epoch 205, Step 20, LR: 0.000446, Current Loss: 0.5584, Avg Loss: 0.5501\n",
      "Diff stats — min: -6.2659, max: 10.0000, mean: 6.5838, std: 3.1574\n",
      "\n",
      "Epoch 205 completed, Train Loss: 0.000136\n",
      "\n",
      "Epoch 206, Step 1, LR: 0.000437, Current Loss: 0.5422, Avg Loss: 0.5422\n",
      "Diff stats — min: -4.7709, max: 10.0000, mean: 6.7172, std: 3.1246\n",
      "\n"
     ]
    },
    {
     "name": "stderr",
     "output_type": "stream",
     "text": [
      "/usr/local/lib/python3.11/dist-packages/pandas/core/computation/expressions.py:73: RuntimeWarning: invalid value encountered in less_equal\n",
      "  return op(a, b)\n",
      "/usr/local/lib/python3.11/dist-packages/pandas/core/arraylike.py:399: RuntimeWarning: invalid value encountered in log\n",
      "  result = getattr(ufunc, method)(*inputs, **kwargs)\n"
     ]
    },
    {
     "name": "stdout",
     "output_type": "stream",
     "text": [
      "Step 6150 — Test metrics:\n",
      "  precision@10: 0.012046205\n",
      "  recall@10: 0.012093633\n",
      "  ndcg@10: 0.012466928\n",
      "  map@10: 0.004312474\n",
      "Epoch 206, Step 20, LR: 0.000437, Current Loss: 0.5391, Avg Loss: 0.5496\n",
      "Diff stats — min: -5.9687, max: 10.0000, mean: 6.5452, std: 3.1480\n",
      "\n",
      "Epoch 206 completed, Train Loss: 0.000136\n",
      "\n",
      "Epoch 207, Step 1, LR: 0.000437, Current Loss: 0.5507, Avg Loss: 0.5507\n",
      "Diff stats — min: -6.9906, max: 10.0000, mean: 6.5987, std: 3.1847\n",
      "\n"
     ]
    },
    {
     "name": "stderr",
     "output_type": "stream",
     "text": [
      "/usr/local/lib/python3.11/dist-packages/pandas/core/computation/expressions.py:73: RuntimeWarning: invalid value encountered in less_equal\n",
      "  return op(a, b)\n",
      "/usr/local/lib/python3.11/dist-packages/pandas/core/arraylike.py:399: RuntimeWarning: invalid value encountered in log\n",
      "  result = getattr(ufunc, method)(*inputs, **kwargs)\n"
     ]
    },
    {
     "name": "stdout",
     "output_type": "stream",
     "text": [
      "Step 6180 — Test metrics:\n",
      "  precision@10: 0.012281942\n",
      "  recall@10: 0.012326751\n",
      "  ndcg@10: 0.012705067\n",
      "  map@10: 0.004410597\n",
      "Epoch 207, Step 20, LR: 0.000437, Current Loss: 0.5566, Avg Loss: 0.5502\n",
      "Diff stats — min: -6.6001, max: 10.0000, mean: 6.5696, std: 3.1527\n",
      "\n",
      "Epoch 207 completed, Train Loss: 0.000136\n",
      "\n",
      "Epoch 208, Step 1, LR: 0.000437, Current Loss: 0.5511, Avg Loss: 0.5511\n",
      "Diff stats — min: -4.9185, max: 10.0000, mean: 6.5848, std: 3.1414\n",
      "\n"
     ]
    },
    {
     "name": "stderr",
     "output_type": "stream",
     "text": [
      "/usr/local/lib/python3.11/dist-packages/pandas/core/computation/expressions.py:73: RuntimeWarning: invalid value encountered in less_equal\n",
      "  return op(a, b)\n",
      "/usr/local/lib/python3.11/dist-packages/pandas/core/arraylike.py:399: RuntimeWarning: invalid value encountered in log\n",
      "  result = getattr(ufunc, method)(*inputs, **kwargs)\n"
     ]
    },
    {
     "name": "stdout",
     "output_type": "stream",
     "text": [
      "Step 6210 — Test metrics:\n",
      "  precision@10: 0.011574729\n",
      "  recall@10: 0.011616918\n",
      "  ndcg@10: 0.011734813\n",
      "  map@10: 0.003937122\n",
      "Epoch 208, Step 20, LR: 0.000437, Current Loss: 0.5408, Avg Loss: 0.5491\n",
      "Diff stats — min: -6.1751, max: 10.0000, mean: 6.5669, std: 3.1747\n",
      "\n",
      "Epoch 208 completed, Train Loss: 0.000135\n",
      "\n",
      "Epoch 209, Step 1, LR: 0.000437, Current Loss: 0.5494, Avg Loss: 0.5494\n",
      "Diff stats — min: -7.0979, max: 10.0000, mean: 6.6164, std: 3.1308\n",
      "\n"
     ]
    },
    {
     "name": "stderr",
     "output_type": "stream",
     "text": [
      "/usr/local/lib/python3.11/dist-packages/pandas/core/computation/expressions.py:73: RuntimeWarning: invalid value encountered in less_equal\n",
      "  return op(a, b)\n",
      "/usr/local/lib/python3.11/dist-packages/pandas/core/arraylike.py:399: RuntimeWarning: invalid value encountered in log\n",
      "  result = getattr(ufunc, method)(*inputs, **kwargs)\n"
     ]
    },
    {
     "name": "stdout",
     "output_type": "stream",
     "text": [
      "Step 6240 — Test metrics:\n",
      "  precision@10: 0.012164074\n",
      "  recall@10: 0.012214121\n",
      "  ndcg@10: 0.012610601\n",
      "  map@10: 0.004339848\n",
      "Epoch 209, Step 20, LR: 0.000437, Current Loss: 0.5356, Avg Loss: 0.5482\n",
      "Diff stats — min: -4.2978, max: 10.0000, mean: 6.6184, std: 3.1277\n",
      "\n",
      "Epoch 209 completed, Train Loss: 0.000136\n",
      "\n",
      "Epoch 210, Step 1, LR: 0.000437, Current Loss: 0.5425, Avg Loss: 0.5425\n",
      "Diff stats — min: -7.4963, max: 10.0000, mean: 6.6144, std: 3.1662\n",
      "\n"
     ]
    },
    {
     "name": "stderr",
     "output_type": "stream",
     "text": [
      "/usr/local/lib/python3.11/dist-packages/pandas/core/computation/expressions.py:73: RuntimeWarning: invalid value encountered in less_equal\n",
      "  return op(a, b)\n",
      "/usr/local/lib/python3.11/dist-packages/pandas/core/arraylike.py:399: RuntimeWarning: invalid value encountered in log\n",
      "  result = getattr(ufunc, method)(*inputs, **kwargs)\n"
     ]
    },
    {
     "name": "stdout",
     "output_type": "stream",
     "text": [
      "Step 6270 — Test metrics:\n",
      "  precision@10: 0.012116926\n",
      "  recall@10: 0.012161735\n",
      "  ndcg@10: 0.012510277\n",
      "  map@10: 0.004320400\n",
      "Epoch 210, Step 20, LR: 0.000437, Current Loss: 0.5430, Avg Loss: 0.5479\n",
      "Diff stats — min: -4.6163, max: 10.0000, mean: 6.7000, std: 3.1223\n",
      "\n",
      "Epoch 210 completed, Train Loss: 0.000135\n",
      "\n",
      "Epoch 211, Step 1, LR: 0.000428, Current Loss: 0.5414, Avg Loss: 0.5414\n",
      "Diff stats — min: -7.6013, max: 10.0000, mean: 6.7117, std: 3.1259\n",
      "\n"
     ]
    },
    {
     "name": "stderr",
     "output_type": "stream",
     "text": [
      "/usr/local/lib/python3.11/dist-packages/pandas/core/computation/expressions.py:73: RuntimeWarning: invalid value encountered in less_equal\n",
      "  return op(a, b)\n",
      "/usr/local/lib/python3.11/dist-packages/pandas/core/arraylike.py:399: RuntimeWarning: invalid value encountered in log\n",
      "  result = getattr(ufunc, method)(*inputs, **kwargs)\n"
     ]
    },
    {
     "name": "stdout",
     "output_type": "stream",
     "text": [
      "Step 6300 — Test metrics:\n",
      "  precision@10: 0.012494107\n",
      "  recall@10: 0.012541535\n",
      "  ndcg@10: 0.012921670\n",
      "  map@10: 0.004485235\n",
      "Epoch 211, Step 20, LR: 0.000428, Current Loss: 0.5588, Avg Loss: 0.5505\n",
      "Diff stats — min: -5.4411, max: 10.0000, mean: 6.6574, std: 3.1944\n",
      "\n",
      "Epoch 211 completed, Train Loss: 0.000136\n",
      "\n",
      "Epoch 212, Step 1, LR: 0.000428, Current Loss: 0.5497, Avg Loss: 0.5497\n",
      "Diff stats — min: -4.6742, max: 10.0000, mean: 6.6244, std: 3.2228\n",
      "\n"
     ]
    },
    {
     "name": "stderr",
     "output_type": "stream",
     "text": [
      "/usr/local/lib/python3.11/dist-packages/pandas/core/computation/expressions.py:73: RuntimeWarning: invalid value encountered in less_equal\n",
      "  return op(a, b)\n",
      "/usr/local/lib/python3.11/dist-packages/pandas/core/arraylike.py:399: RuntimeWarning: invalid value encountered in log\n",
      "  result = getattr(ufunc, method)(*inputs, **kwargs)\n"
     ]
    },
    {
     "name": "stdout",
     "output_type": "stream",
     "text": [
      "Step 6330 — Test metrics:\n",
      "  precision@10: 0.012164074\n",
      "  recall@10: 0.012216740\n",
      "  ndcg@10: 0.012641633\n",
      "  map@10: 0.004330686\n",
      "Epoch 212, Step 20, LR: 0.000428, Current Loss: 0.5442, Avg Loss: 0.5478\n",
      "Diff stats — min: -5.8825, max: 10.0000, mean: 6.6652, std: 3.1449\n",
      "\n",
      "Epoch 212 completed, Train Loss: 0.000135\n",
      "\n",
      "Epoch 213, Step 1, LR: 0.000428, Current Loss: 0.5621, Avg Loss: 0.5621\n",
      "Diff stats — min: -7.0285, max: 10.0000, mean: 6.6214, std: 3.1456\n",
      "\n"
     ]
    },
    {
     "name": "stderr",
     "output_type": "stream",
     "text": [
      "/usr/local/lib/python3.11/dist-packages/pandas/core/computation/expressions.py:73: RuntimeWarning: invalid value encountered in less_equal\n",
      "  return op(a, b)\n",
      "/usr/local/lib/python3.11/dist-packages/pandas/core/arraylike.py:399: RuntimeWarning: invalid value encountered in log\n",
      "  result = getattr(ufunc, method)(*inputs, **kwargs)\n"
     ]
    },
    {
     "name": "stdout",
     "output_type": "stream",
     "text": [
      "Step 6360 — Test metrics:\n",
      "  precision@10: 0.012046205\n",
      "  recall@10: 0.012091014\n",
      "  ndcg@10: 0.012507403\n",
      "  map@10: 0.004337212\n",
      "Epoch 213, Step 20, LR: 0.000428, Current Loss: 0.5341, Avg Loss: 0.5459\n",
      "Diff stats — min: -5.4582, max: 10.0000, mean: 6.6600, std: 3.1612\n",
      "\n",
      "Epoch 213 completed, Train Loss: 0.000135\n",
      "\n",
      "Epoch 214, Step 1, LR: 0.000428, Current Loss: 0.5569, Avg Loss: 0.5569\n",
      "Diff stats — min: -5.9056, max: 10.0000, mean: 6.5557, std: 3.2211\n",
      "\n"
     ]
    },
    {
     "name": "stderr",
     "output_type": "stream",
     "text": [
      "/usr/local/lib/python3.11/dist-packages/pandas/core/computation/expressions.py:73: RuntimeWarning: invalid value encountered in less_equal\n",
      "  return op(a, b)\n",
      "/usr/local/lib/python3.11/dist-packages/pandas/core/arraylike.py:399: RuntimeWarning: invalid value encountered in log\n",
      "  result = getattr(ufunc, method)(*inputs, **kwargs)\n"
     ]
    },
    {
     "name": "stdout",
     "output_type": "stream",
     "text": [
      "Step 6390 — Test metrics:\n",
      "  precision@10: 0.012564828\n",
      "  recall@10: 0.012614875\n",
      "  ndcg@10: 0.012763030\n",
      "  map@10: 0.004332731\n",
      "Epoch 214, Step 20, LR: 0.000428, Current Loss: 0.5253, Avg Loss: 0.5487\n",
      "Diff stats — min: -5.9416, max: 10.0000, mean: 6.7327, std: 3.1233\n",
      "\n",
      "Epoch 214 completed, Train Loss: 0.000136\n",
      "\n",
      "Epoch 215, Step 1, LR: 0.000428, Current Loss: 0.5323, Avg Loss: 0.5323\n",
      "Diff stats — min: -7.4965, max: 10.0000, mean: 6.6604, std: 3.1248\n",
      "\n"
     ]
    },
    {
     "name": "stderr",
     "output_type": "stream",
     "text": [
      "/usr/local/lib/python3.11/dist-packages/pandas/core/computation/expressions.py:73: RuntimeWarning: invalid value encountered in less_equal\n",
      "  return op(a, b)\n",
      "/usr/local/lib/python3.11/dist-packages/pandas/core/arraylike.py:399: RuntimeWarning: invalid value encountered in log\n",
      "  result = getattr(ufunc, method)(*inputs, **kwargs)\n"
     ]
    },
    {
     "name": "stdout",
     "output_type": "stream",
     "text": [
      "Step 6420 — Test metrics:\n",
      "  precision@10: 0.011975483\n",
      "  recall@10: 0.012020292\n",
      "  ndcg@10: 0.012393842\n",
      "  map@10: 0.004284004\n",
      "Epoch 215, Step 20, LR: 0.000428, Current Loss: 0.5561, Avg Loss: 0.5457\n",
      "Diff stats — min: -5.8716, max: 10.0000, mean: 6.5923, std: 3.1640\n",
      "\n",
      "Epoch 215 completed, Train Loss: 0.000135\n",
      "\n",
      "Epoch 216, Step 1, LR: 0.000419, Current Loss: 0.5487, Avg Loss: 0.5487\n",
      "Diff stats — min: -6.5387, max: 10.0000, mean: 6.6304, std: 3.1249\n",
      "\n"
     ]
    },
    {
     "name": "stderr",
     "output_type": "stream",
     "text": [
      "/usr/local/lib/python3.11/dist-packages/pandas/core/computation/expressions.py:73: RuntimeWarning: invalid value encountered in less_equal\n",
      "  return op(a, b)\n",
      "/usr/local/lib/python3.11/dist-packages/pandas/core/arraylike.py:399: RuntimeWarning: invalid value encountered in log\n",
      "  result = getattr(ufunc, method)(*inputs, **kwargs)\n"
     ]
    },
    {
     "name": "stdout",
     "output_type": "stream",
     "text": [
      "Step 6450 — Test metrics:\n",
      "  precision@10: 0.012729844\n",
      "  recall@10: 0.012774653\n",
      "  ndcg@10: 0.012969330\n",
      "  map@10: 0.004460028\n",
      "Epoch 216, Step 20, LR: 0.000419, Current Loss: 0.5384, Avg Loss: 0.5464\n",
      "Diff stats — min: -6.7979, max: 10.0000, mean: 6.6950, std: 3.1187\n",
      "\n",
      "Epoch 216 completed, Train Loss: 0.000135\n",
      "\n",
      "Epoch 217, Step 1, LR: 0.000419, Current Loss: 0.5735, Avg Loss: 0.5735\n",
      "Diff stats — min: -5.6166, max: 10.0000, mean: 6.6329, std: 3.2050\n",
      "\n"
     ]
    },
    {
     "name": "stderr",
     "output_type": "stream",
     "text": [
      "/usr/local/lib/python3.11/dist-packages/pandas/core/computation/expressions.py:73: RuntimeWarning: invalid value encountered in less_equal\n",
      "  return op(a, b)\n",
      "/usr/local/lib/python3.11/dist-packages/pandas/core/arraylike.py:399: RuntimeWarning: invalid value encountered in log\n",
      "  result = getattr(ufunc, method)(*inputs, **kwargs)\n"
     ]
    },
    {
     "name": "stdout",
     "output_type": "stream",
     "text": [
      "Step 6480 — Test metrics:\n",
      "  precision@10: 0.012446959\n",
      "  recall@10: 0.012491768\n",
      "  ndcg@10: 0.012689522\n",
      "  map@10: 0.004354839\n",
      "Epoch 217, Step 20, LR: 0.000419, Current Loss: 0.5452, Avg Loss: 0.5446\n",
      "Diff stats — min: -5.1862, max: 10.0000, mean: 6.6848, std: 3.1322\n",
      "\n",
      "Epoch 217 completed, Train Loss: 0.000135\n",
      "\n",
      "Epoch 218, Step 1, LR: 0.000419, Current Loss: 0.5576, Avg Loss: 0.5576\n",
      "Diff stats — min: -4.7010, max: 10.0000, mean: 6.7541, std: 3.1445\n",
      "\n"
     ]
    },
    {
     "name": "stderr",
     "output_type": "stream",
     "text": [
      "/usr/local/lib/python3.11/dist-packages/pandas/core/computation/expressions.py:73: RuntimeWarning: invalid value encountered in less_equal\n",
      "  return op(a, b)\n",
      "/usr/local/lib/python3.11/dist-packages/pandas/core/arraylike.py:399: RuntimeWarning: invalid value encountered in log\n",
      "  result = getattr(ufunc, method)(*inputs, **kwargs)\n"
     ]
    },
    {
     "name": "stdout",
     "output_type": "stream",
     "text": [
      "Step 6510 — Test metrics:\n",
      "  precision@10: 0.012446959\n",
      "  recall@10: 0.012491768\n",
      "  ndcg@10: 0.012708598\n",
      "  map@10: 0.004374654\n",
      "Epoch 218, Step 20, LR: 0.000419, Current Loss: 0.5536, Avg Loss: 0.5506\n",
      "Diff stats — min: -6.8488, max: 10.0000, mean: 6.6736, std: 3.1635\n",
      "\n",
      "Epoch 218 completed, Train Loss: 0.000135\n",
      "\n",
      "Epoch 219, Step 1, LR: 0.000419, Current Loss: 0.5530, Avg Loss: 0.5530\n",
      "Diff stats — min: -7.8813, max: 10.0000, mean: 6.7724, std: 3.1667\n",
      "\n"
     ]
    },
    {
     "name": "stderr",
     "output_type": "stream",
     "text": [
      "/usr/local/lib/python3.11/dist-packages/pandas/core/computation/expressions.py:73: RuntimeWarning: invalid value encountered in less_equal\n",
      "  return op(a, b)\n",
      "/usr/local/lib/python3.11/dist-packages/pandas/core/arraylike.py:399: RuntimeWarning: invalid value encountered in log\n",
      "  result = getattr(ufunc, method)(*inputs, **kwargs)\n"
     ]
    },
    {
     "name": "stdout",
     "output_type": "stream",
     "text": [
      "Step 6540 — Test metrics:\n",
      "  precision@10: 0.012446959\n",
      "  recall@10: 0.012494387\n",
      "  ndcg@10: 0.012761501\n",
      "  map@10: 0.004389493\n",
      "Epoch 219, Step 20, LR: 0.000419, Current Loss: 0.5560, Avg Loss: 0.5449\n",
      "Diff stats — min: -8.8327, max: 10.0000, mean: 6.7001, std: 3.1975\n",
      "\n",
      "Epoch 219 completed, Train Loss: 0.000135\n",
      "\n",
      "Epoch 220, Step 1, LR: 0.000419, Current Loss: 0.5461, Avg Loss: 0.5461\n",
      "Diff stats — min: -6.3044, max: 10.0000, mean: 6.7156, std: 3.1529\n",
      "\n"
     ]
    },
    {
     "name": "stderr",
     "output_type": "stream",
     "text": [
      "/usr/local/lib/python3.11/dist-packages/pandas/core/computation/expressions.py:73: RuntimeWarning: invalid value encountered in less_equal\n",
      "  return op(a, b)\n",
      "/usr/local/lib/python3.11/dist-packages/pandas/core/arraylike.py:399: RuntimeWarning: invalid value encountered in log\n",
      "  result = getattr(ufunc, method)(*inputs, **kwargs)\n"
     ]
    },
    {
     "name": "stdout",
     "output_type": "stream",
     "text": [
      "Step 6570 — Test metrics:\n",
      "  precision@10: 0.012871287\n",
      "  recall@10: 0.012921335\n",
      "  ndcg@10: 0.013074551\n",
      "  map@10: 0.004505910\n",
      "Epoch 220, Step 20, LR: 0.000419, Current Loss: 0.5495, Avg Loss: 0.5460\n",
      "Diff stats — min: -7.7824, max: 10.0000, mean: 6.6931, std: 3.1328\n",
      "\n",
      "Epoch 220 completed, Train Loss: 0.000135\n",
      "\n",
      "Epoch 221, Step 1, LR: 0.000411, Current Loss: 0.5650, Avg Loss: 0.5650\n",
      "Diff stats — min: -5.8195, max: 10.0000, mean: 6.7644, std: 3.1419\n",
      "\n"
     ]
    },
    {
     "name": "stderr",
     "output_type": "stream",
     "text": [
      "/usr/local/lib/python3.11/dist-packages/pandas/core/computation/expressions.py:73: RuntimeWarning: invalid value encountered in less_equal\n",
      "  return op(a, b)\n",
      "/usr/local/lib/python3.11/dist-packages/pandas/core/arraylike.py:399: RuntimeWarning: invalid value encountered in log\n",
      "  result = getattr(ufunc, method)(*inputs, **kwargs)\n"
     ]
    },
    {
     "name": "stdout",
     "output_type": "stream",
     "text": [
      "Step 6600 — Test metrics:\n",
      "  precision@10: 0.012776992\n",
      "  recall@10: 0.012824420\n",
      "  ndcg@10: 0.013068487\n",
      "  map@10: 0.004490885\n",
      "Epoch 221, Step 20, LR: 0.000411, Current Loss: 0.5467, Avg Loss: 0.5445\n",
      "Diff stats — min: -8.5266, max: 10.0000, mean: 6.6804, std: 3.1404\n",
      "\n",
      "Epoch 221 completed, Train Loss: 0.000135\n",
      "\n",
      "Epoch 222, Step 1, LR: 0.000411, Current Loss: 0.5500, Avg Loss: 0.5500\n",
      "Diff stats — min: -5.1517, max: 10.0000, mean: 6.7215, std: 3.1999\n",
      "\n"
     ]
    },
    {
     "name": "stderr",
     "output_type": "stream",
     "text": [
      "/usr/local/lib/python3.11/dist-packages/pandas/core/computation/expressions.py:73: RuntimeWarning: invalid value encountered in less_equal\n",
      "  return op(a, b)\n",
      "/usr/local/lib/python3.11/dist-packages/pandas/core/arraylike.py:399: RuntimeWarning: invalid value encountered in log\n",
      "  result = getattr(ufunc, method)(*inputs, **kwargs)\n"
     ]
    },
    {
     "name": "stdout",
     "output_type": "stream",
     "text": [
      "Step 6630 — Test metrics:\n",
      "  precision@10: 0.012706271\n",
      "  recall@10: 0.012764176\n",
      "  ndcg@10: 0.013102935\n",
      "  map@10: 0.004586935\n",
      "Epoch 222, Step 20, LR: 0.000411, Current Loss: 0.5333, Avg Loss: 0.5449\n",
      "Diff stats — min: -4.5524, max: 10.0000, mean: 6.7074, std: 3.0802\n",
      "\n",
      "Epoch 222 completed, Train Loss: 0.000135\n",
      "\n",
      "Epoch 223, Step 1, LR: 0.000411, Current Loss: 0.5531, Avg Loss: 0.5531\n",
      "Diff stats — min: -5.7445, max: 10.0000, mean: 6.7681, std: 3.1499\n",
      "\n"
     ]
    },
    {
     "name": "stderr",
     "output_type": "stream",
     "text": [
      "/usr/local/lib/python3.11/dist-packages/pandas/core/computation/expressions.py:73: RuntimeWarning: invalid value encountered in less_equal\n",
      "  return op(a, b)\n",
      "/usr/local/lib/python3.11/dist-packages/pandas/core/arraylike.py:399: RuntimeWarning: invalid value encountered in log\n",
      "  result = getattr(ufunc, method)(*inputs, **kwargs)\n"
     ]
    },
    {
     "name": "stdout",
     "output_type": "stream",
     "text": [
      "Step 6660 — Test metrics:\n",
      "  precision@10: 0.012635549\n",
      "  recall@10: 0.012693455\n",
      "  ndcg@10: 0.013124346\n",
      "  map@10: 0.004620702\n",
      "Epoch 223, Step 20, LR: 0.000411, Current Loss: 0.5349, Avg Loss: 0.5414\n",
      "Diff stats — min: -5.1911, max: 10.0000, mean: 6.8067, std: 3.1418\n",
      "\n",
      "Epoch 223 completed, Train Loss: 0.000134\n",
      "\n",
      "Epoch 224, Step 1, LR: 0.000411, Current Loss: 0.5372, Avg Loss: 0.5372\n",
      "Diff stats — min: -9.8807, max: 10.0000, mean: 6.8803, std: 3.1566\n",
      "\n"
     ]
    },
    {
     "name": "stderr",
     "output_type": "stream",
     "text": [
      "/usr/local/lib/python3.11/dist-packages/pandas/core/computation/expressions.py:73: RuntimeWarning: invalid value encountered in less_equal\n",
      "  return op(a, b)\n",
      "/usr/local/lib/python3.11/dist-packages/pandas/core/arraylike.py:399: RuntimeWarning: invalid value encountered in log\n",
      "  result = getattr(ufunc, method)(*inputs, **kwargs)\n"
     ]
    },
    {
     "name": "stdout",
     "output_type": "stream",
     "text": [
      "Step 6690 — Test metrics:\n",
      "  precision@10: 0.012470533\n",
      "  recall@10: 0.012525819\n",
      "  ndcg@10: 0.013281187\n",
      "  map@10: 0.004803496\n",
      "Epoch 224, Step 20, LR: 0.000411, Current Loss: 0.5629, Avg Loss: 0.5431\n",
      "Diff stats — min: -6.1752, max: 10.0000, mean: 6.7757, std: 3.1504\n",
      "\n",
      "Epoch 224 completed, Train Loss: 0.000134\n",
      "\n",
      "Epoch 225, Step 1, LR: 0.000411, Current Loss: 0.5374, Avg Loss: 0.5374\n",
      "Diff stats — min: -5.5554, max: 10.0000, mean: 6.8471, std: 3.0726\n",
      "\n"
     ]
    },
    {
     "name": "stderr",
     "output_type": "stream",
     "text": [
      "/usr/local/lib/python3.11/dist-packages/pandas/core/computation/expressions.py:73: RuntimeWarning: invalid value encountered in less_equal\n",
      "  return op(a, b)\n",
      "/usr/local/lib/python3.11/dist-packages/pandas/core/arraylike.py:399: RuntimeWarning: invalid value encountered in log\n",
      "  result = getattr(ufunc, method)(*inputs, **kwargs)\n"
     ]
    },
    {
     "name": "stdout",
     "output_type": "stream",
     "text": [
      "Step 6720 — Test metrics:\n",
      "  precision@10: 0.012871287\n",
      "  recall@10: 0.012929193\n",
      "  ndcg@10: 0.013353567\n",
      "  map@10: 0.004720648\n",
      "Epoch 225, Step 20, LR: 0.000411, Current Loss: 0.5459, Avg Loss: 0.5436\n",
      "Diff stats — min: -7.3426, max: 10.0000, mean: 6.7747, std: 3.1431\n",
      "\n",
      "Epoch 225 completed, Train Loss: 0.000134\n",
      "\n",
      "Epoch 226, Step 1, LR: 0.000403, Current Loss: 0.5300, Avg Loss: 0.5300\n",
      "Diff stats — min: -5.7697, max: 10.0000, mean: 6.7711, std: 3.1339\n",
      "\n"
     ]
    },
    {
     "name": "stderr",
     "output_type": "stream",
     "text": [
      "/usr/local/lib/python3.11/dist-packages/pandas/core/computation/expressions.py:73: RuntimeWarning: invalid value encountered in less_equal\n",
      "  return op(a, b)\n",
      "/usr/local/lib/python3.11/dist-packages/pandas/core/arraylike.py:399: RuntimeWarning: invalid value encountered in log\n",
      "  result = getattr(ufunc, method)(*inputs, **kwargs)\n"
     ]
    },
    {
     "name": "stdout",
     "output_type": "stream",
     "text": [
      "Step 6750 — Test metrics:\n",
      "  precision@10: 0.012989156\n",
      "  recall@10: 0.013041823\n",
      "  ndcg@10: 0.013624054\n",
      "  map@10: 0.004833402\n",
      "Epoch 226, Step 20, LR: 0.000403, Current Loss: 0.5436, Avg Loss: 0.5409\n",
      "Diff stats — min: -5.4547, max: 10.0000, mean: 6.8621, std: 3.1151\n",
      "\n",
      "Epoch 226 completed, Train Loss: 0.000134\n",
      "\n",
      "Epoch 227, Step 1, LR: 0.000403, Current Loss: 0.5550, Avg Loss: 0.5550\n",
      "Diff stats — min: -5.3814, max: 10.0000, mean: 6.7751, std: 3.1507\n",
      "\n"
     ]
    },
    {
     "name": "stderr",
     "output_type": "stream",
     "text": [
      "/usr/local/lib/python3.11/dist-packages/pandas/core/computation/expressions.py:73: RuntimeWarning: invalid value encountered in less_equal\n",
      "  return op(a, b)\n",
      "/usr/local/lib/python3.11/dist-packages/pandas/core/arraylike.py:399: RuntimeWarning: invalid value encountered in log\n",
      "  result = getattr(ufunc, method)(*inputs, **kwargs)\n"
     ]
    },
    {
     "name": "stdout",
     "output_type": "stream",
     "text": [
      "Step 6780 — Test metrics:\n",
      "  precision@10: 0.012847713\n",
      "  recall@10: 0.012908238\n",
      "  ndcg@10: 0.013457080\n",
      "  map@10: 0.004713272\n",
      "Epoch 227, Step 20, LR: 0.000403, Current Loss: 0.5588, Avg Loss: 0.5426\n",
      "Diff stats — min: -7.4926, max: 10.0000, mean: 6.7808, std: 3.1355\n",
      "\n",
      "Epoch 227 completed, Train Loss: 0.000134\n",
      "\n",
      "Epoch 228, Step 1, LR: 0.000403, Current Loss: 0.5581, Avg Loss: 0.5581\n",
      "Diff stats — min: -7.7056, max: 10.0000, mean: 6.7237, std: 3.1740\n",
      "\n"
     ]
    },
    {
     "name": "stderr",
     "output_type": "stream",
     "text": [
      "/usr/local/lib/python3.11/dist-packages/pandas/core/computation/expressions.py:73: RuntimeWarning: invalid value encountered in less_equal\n",
      "  return op(a, b)\n",
      "/usr/local/lib/python3.11/dist-packages/pandas/core/arraylike.py:399: RuntimeWarning: invalid value encountered in log\n",
      "  result = getattr(ufunc, method)(*inputs, **kwargs)\n"
     ]
    },
    {
     "name": "stdout",
     "output_type": "stream",
     "text": [
      "Step 6810 — Test metrics:\n",
      "  precision@10: 0.012541254\n",
      "  recall@10: 0.012599160\n",
      "  ndcg@10: 0.013015917\n",
      "  map@10: 0.004515108\n",
      "Epoch 228, Step 20, LR: 0.000403, Current Loss: 0.5606, Avg Loss: 0.5414\n",
      "Diff stats — min: -4.5009, max: 10.0000, mean: 6.7837, std: 3.1640\n",
      "\n",
      "Epoch 228 completed, Train Loss: 0.000134\n",
      "\n",
      "Epoch 229, Step 1, LR: 0.000403, Current Loss: 0.5335, Avg Loss: 0.5335\n",
      "Diff stats — min: -5.4666, max: 10.0000, mean: 6.8787, std: 3.1177\n",
      "\n"
     ]
    },
    {
     "name": "stderr",
     "output_type": "stream",
     "text": [
      "/usr/local/lib/python3.11/dist-packages/pandas/core/computation/expressions.py:73: RuntimeWarning: invalid value encountered in less_equal\n",
      "  return op(a, b)\n",
      "/usr/local/lib/python3.11/dist-packages/pandas/core/arraylike.py:399: RuntimeWarning: invalid value encountered in log\n",
      "  result = getattr(ufunc, method)(*inputs, **kwargs)\n"
     ]
    },
    {
     "name": "stdout",
     "output_type": "stream",
     "text": [
      "Step 6840 — Test metrics:\n",
      "  precision@10: 0.012446959\n",
      "  recall@10: 0.012507484\n",
      "  ndcg@10: 0.012885004\n",
      "  map@10: 0.004442166\n",
      "Epoch 229, Step 20, LR: 0.000403, Current Loss: 0.5351, Avg Loss: 0.5418\n",
      "Diff stats — min: -6.8177, max: 10.0000, mean: 6.8180, std: 3.1637\n",
      "\n",
      "Epoch 229 completed, Train Loss: 0.000134\n",
      "\n",
      "Epoch 230, Step 1, LR: 0.000403, Current Loss: 0.5394, Avg Loss: 0.5394\n",
      "Diff stats — min: -6.3554, max: 10.0000, mean: 6.8378, std: 3.1169\n",
      "\n"
     ]
    },
    {
     "name": "stderr",
     "output_type": "stream",
     "text": [
      "/usr/local/lib/python3.11/dist-packages/pandas/core/computation/expressions.py:73: RuntimeWarning: invalid value encountered in less_equal\n",
      "  return op(a, b)\n",
      "/usr/local/lib/python3.11/dist-packages/pandas/core/arraylike.py:399: RuntimeWarning: invalid value encountered in log\n",
      "  result = getattr(ufunc, method)(*inputs, **kwargs)\n"
     ]
    },
    {
     "name": "stdout",
     "output_type": "stream",
     "text": [
      "Step 6870 — Test metrics:\n",
      "  precision@10: 0.012399811\n",
      "  recall@10: 0.012455098\n",
      "  ndcg@10: 0.012834463\n",
      "  map@10: 0.004413044\n",
      "Epoch 230, Step 20, LR: 0.000403, Current Loss: 0.5557, Avg Loss: 0.5405\n",
      "Diff stats — min: -6.1017, max: 10.0000, mean: 6.7832, std: 3.1492\n",
      "\n",
      "Epoch 230 completed, Train Loss: 0.000134\n",
      "\n",
      "Epoch 231, Step 1, LR: 0.000395, Current Loss: 0.5383, Avg Loss: 0.5383\n",
      "Diff stats — min: -5.6236, max: 10.0000, mean: 6.9174, std: 3.1471\n",
      "\n"
     ]
    },
    {
     "name": "stderr",
     "output_type": "stream",
     "text": [
      "/usr/local/lib/python3.11/dist-packages/pandas/core/computation/expressions.py:73: RuntimeWarning: invalid value encountered in less_equal\n",
      "  return op(a, b)\n",
      "/usr/local/lib/python3.11/dist-packages/pandas/core/arraylike.py:399: RuntimeWarning: invalid value encountered in log\n",
      "  result = getattr(ufunc, method)(*inputs, **kwargs)\n"
     ]
    },
    {
     "name": "stdout",
     "output_type": "stream",
     "text": [
      "Step 6900 — Test metrics:\n",
      "  precision@10: 0.012635549\n",
      "  recall@10: 0.012690835\n",
      "  ndcg@10: 0.013005516\n",
      "  map@10: 0.004472886\n",
      "Epoch 231, Step 20, LR: 0.000395, Current Loss: 0.5449, Avg Loss: 0.5405\n",
      "Diff stats — min: -9.9573, max: 10.0000, mean: 6.8441, std: 3.0950\n",
      "\n",
      "Epoch 231 completed, Train Loss: 0.000134\n",
      "\n",
      "Epoch 232, Step 1, LR: 0.000395, Current Loss: 0.5571, Avg Loss: 0.5571\n",
      "Diff stats — min: -7.1381, max: 10.0000, mean: 6.8447, std: 3.1564\n",
      "\n"
     ]
    },
    {
     "name": "stderr",
     "output_type": "stream",
     "text": [
      "/usr/local/lib/python3.11/dist-packages/pandas/core/computation/expressions.py:73: RuntimeWarning: invalid value encountered in less_equal\n",
      "  return op(a, b)\n",
      "/usr/local/lib/python3.11/dist-packages/pandas/core/arraylike.py:399: RuntimeWarning: invalid value encountered in log\n",
      "  result = getattr(ufunc, method)(*inputs, **kwargs)\n"
     ]
    },
    {
     "name": "stdout",
     "output_type": "stream",
     "text": [
      "Step 6930 — Test metrics:\n",
      "  precision@10: 0.012847713\n",
      "  recall@10: 0.012902999\n",
      "  ndcg@10: 0.013234515\n",
      "  map@10: 0.004592994\n",
      "Epoch 232, Step 20, LR: 0.000395, Current Loss: 0.5580, Avg Loss: 0.5424\n",
      "Diff stats — min: -6.8762, max: 10.0000, mean: 6.8154, std: 3.1756\n",
      "\n",
      "Epoch 232 completed, Train Loss: 0.000134\n",
      "\n",
      "Epoch 233, Step 1, LR: 0.000395, Current Loss: 0.5334, Avg Loss: 0.5334\n",
      "Diff stats — min: -7.0525, max: 10.0000, mean: 6.8595, std: 3.1111\n",
      "\n"
     ]
    },
    {
     "name": "stderr",
     "output_type": "stream",
     "text": [
      "/usr/local/lib/python3.11/dist-packages/pandas/core/computation/expressions.py:73: RuntimeWarning: invalid value encountered in less_equal\n",
      "  return op(a, b)\n",
      "/usr/local/lib/python3.11/dist-packages/pandas/core/arraylike.py:399: RuntimeWarning: invalid value encountered in log\n",
      "  result = getattr(ufunc, method)(*inputs, **kwargs)\n"
     ]
    },
    {
     "name": "stdout",
     "output_type": "stream",
     "text": [
      "Step 6960 — Test metrics:\n",
      "  precision@10: 0.012706271\n",
      "  recall@10: 0.012761557\n",
      "  ndcg@10: 0.013224015\n",
      "  map@10: 0.004660084\n",
      "Epoch 233, Step 20, LR: 0.000395, Current Loss: 0.5340, Avg Loss: 0.5395\n",
      "Diff stats — min: -4.3955, max: 10.0000, mean: 6.8442, std: 3.0960\n",
      "\n",
      "Epoch 233 completed, Train Loss: 0.000134\n",
      "\n",
      "Epoch 234, Step 1, LR: 0.000395, Current Loss: 0.5431, Avg Loss: 0.5431\n",
      "Diff stats — min: -8.5735, max: 10.0000, mean: 6.8498, std: 3.1711\n",
      "\n"
     ]
    },
    {
     "name": "stderr",
     "output_type": "stream",
     "text": [
      "/usr/local/lib/python3.11/dist-packages/pandas/core/computation/expressions.py:73: RuntimeWarning: invalid value encountered in less_equal\n",
      "  return op(a, b)\n",
      "/usr/local/lib/python3.11/dist-packages/pandas/core/arraylike.py:399: RuntimeWarning: invalid value encountered in log\n",
      "  result = getattr(ufunc, method)(*inputs, **kwargs)\n"
     ]
    },
    {
     "name": "stdout",
     "output_type": "stream",
     "text": [
      "Step 6990 — Test metrics:\n",
      "  precision@10: 0.012659123\n",
      "  recall@10: 0.012709171\n",
      "  ndcg@10: 0.013152288\n",
      "  map@10: 0.004587312\n",
      "Epoch 234, Step 20, LR: 0.000395, Current Loss: 0.5359, Avg Loss: 0.5410\n",
      "Diff stats — min: -5.9641, max: 10.0000, mean: 6.8760, std: 3.1368\n",
      "\n",
      "Epoch 234 completed, Train Loss: 0.000134\n",
      "\n",
      "Epoch 235, Step 1, LR: 0.000395, Current Loss: 0.5621, Avg Loss: 0.5621\n",
      "Diff stats — min: -6.2148, max: 10.0000, mean: 6.7739, std: 3.1596\n",
      "\n"
     ]
    },
    {
     "name": "stderr",
     "output_type": "stream",
     "text": [
      "/usr/local/lib/python3.11/dist-packages/pandas/core/computation/expressions.py:73: RuntimeWarning: invalid value encountered in less_equal\n",
      "  return op(a, b)\n",
      "/usr/local/lib/python3.11/dist-packages/pandas/core/arraylike.py:399: RuntimeWarning: invalid value encountered in log\n",
      "  result = getattr(ufunc, method)(*inputs, **kwargs)\n"
     ]
    },
    {
     "name": "stdout",
     "output_type": "stream",
     "text": [
      "Step 7020 — Test metrics:\n",
      "  precision@10: 0.012871287\n",
      "  recall@10: 0.012929193\n",
      "  ndcg@10: 0.013334397\n",
      "  map@10: 0.004686326\n",
      "Epoch 235, Step 20, LR: 0.000395, Current Loss: 0.5451, Avg Loss: 0.5431\n",
      "Diff stats — min: -5.1619, max: 10.0000, mean: 6.8835, std: 3.1288\n",
      "\n",
      "Epoch 235 completed, Train Loss: 0.000134\n",
      "\n",
      "Epoch 236, Step 1, LR: 0.000387, Current Loss: 0.5389, Avg Loss: 0.5389\n",
      "Diff stats — min: -5.0800, max: 10.0000, mean: 6.8636, std: 3.1177\n",
      "\n"
     ]
    },
    {
     "name": "stderr",
     "output_type": "stream",
     "text": [
      "/usr/local/lib/python3.11/dist-packages/pandas/core/computation/expressions.py:73: RuntimeWarning: invalid value encountered in less_equal\n",
      "  return op(a, b)\n",
      "/usr/local/lib/python3.11/dist-packages/pandas/core/arraylike.py:399: RuntimeWarning: invalid value encountered in log\n",
      "  result = getattr(ufunc, method)(*inputs, **kwargs)\n"
     ]
    },
    {
     "name": "stdout",
     "output_type": "stream",
     "text": [
      "Step 7050 — Test metrics:\n",
      "  precision@10: 0.013201320\n",
      "  recall@10: 0.013253987\n",
      "  ndcg@10: 0.013619198\n",
      "  map@10: 0.004781753\n",
      "Epoch 236, Step 20, LR: 0.000387, Current Loss: 0.5478, Avg Loss: 0.5417\n",
      "Diff stats — min: -4.5589, max: 10.0000, mean: 6.7975, std: 3.1591\n",
      "\n",
      "Epoch 236 completed, Train Loss: 0.000134\n",
      "\n",
      "Epoch 237, Step 1, LR: 0.000387, Current Loss: 0.5396, Avg Loss: 0.5396\n",
      "Diff stats — min: -4.1294, max: 10.0000, mean: 6.8960, std: 3.0844\n",
      "\n"
     ]
    },
    {
     "name": "stderr",
     "output_type": "stream",
     "text": [
      "/usr/local/lib/python3.11/dist-packages/pandas/core/computation/expressions.py:73: RuntimeWarning: invalid value encountered in less_equal\n",
      "  return op(a, b)\n",
      "/usr/local/lib/python3.11/dist-packages/pandas/core/arraylike.py:399: RuntimeWarning: invalid value encountered in log\n",
      "  result = getattr(ufunc, method)(*inputs, **kwargs)\n"
     ]
    },
    {
     "name": "stdout",
     "output_type": "stream",
     "text": [
      "Step 7080 — Test metrics:\n",
      "  precision@10: 0.013177746\n",
      "  recall@10: 0.013243510\n",
      "  ndcg@10: 0.013669453\n",
      "  map@10: 0.004864548\n",
      "Epoch 237, Step 20, LR: 0.000387, Current Loss: 0.5481, Avg Loss: 0.5410\n",
      "Diff stats — min: -6.3059, max: 10.0000, mean: 6.8042, std: 3.2041\n",
      "\n",
      "Epoch 237 completed, Train Loss: 0.000134\n",
      "\n",
      "Epoch 238, Step 1, LR: 0.000387, Current Loss: 0.5357, Avg Loss: 0.5357\n",
      "Diff stats — min: -4.9607, max: 10.0000, mean: 6.9229, std: 3.1522\n",
      "\n"
     ]
    },
    {
     "name": "stderr",
     "output_type": "stream",
     "text": [
      "/usr/local/lib/python3.11/dist-packages/pandas/core/computation/expressions.py:73: RuntimeWarning: invalid value encountered in less_equal\n",
      "  return op(a, b)\n",
      "/usr/local/lib/python3.11/dist-packages/pandas/core/arraylike.py:399: RuntimeWarning: invalid value encountered in log\n",
      "  result = getattr(ufunc, method)(*inputs, **kwargs)\n"
     ]
    },
    {
     "name": "stdout",
     "output_type": "stream",
     "text": [
      "Step 7110 — Test metrics:\n",
      "  precision@10: 0.013413484\n",
      "  recall@10: 0.013474009\n",
      "  ndcg@10: 0.014002858\n",
      "  map@10: 0.004997129\n",
      "Epoch 238, Step 20, LR: 0.000387, Current Loss: 0.5485, Avg Loss: 0.5423\n",
      "Diff stats — min: -6.3609, max: 10.0000, mean: 6.8767, std: 3.1122\n",
      "\n",
      "Epoch 238 completed, Train Loss: 0.000134\n",
      "\n",
      "Epoch 239, Step 1, LR: 0.000387, Current Loss: 0.5213, Avg Loss: 0.5213\n",
      "Diff stats — min: -4.4866, max: 10.0000, mean: 6.9471, std: 3.0504\n",
      "\n"
     ]
    },
    {
     "name": "stderr",
     "output_type": "stream",
     "text": [
      "/usr/local/lib/python3.11/dist-packages/pandas/core/computation/expressions.py:73: RuntimeWarning: invalid value encountered in less_equal\n",
      "  return op(a, b)\n",
      "/usr/local/lib/python3.11/dist-packages/pandas/core/arraylike.py:399: RuntimeWarning: invalid value encountered in log\n",
      "  result = getattr(ufunc, method)(*inputs, **kwargs)\n"
     ]
    },
    {
     "name": "stdout",
     "output_type": "stream",
     "text": [
      "Step 7140 — Test metrics:\n",
      "  precision@10: 0.013484206\n",
      "  recall@10: 0.013544730\n",
      "  ndcg@10: 0.013925670\n",
      "  map@10: 0.004999098\n",
      "Epoch 239, Step 20, LR: 0.000387, Current Loss: 0.5520, Avg Loss: 0.5378\n",
      "Diff stats — min: -6.7347, max: 10.0000, mean: 6.8794, std: 3.1191\n",
      "\n",
      "Epoch 239 completed, Train Loss: 0.000133\n",
      "\n",
      "Epoch 240, Step 1, LR: 0.000387, Current Loss: 0.5356, Avg Loss: 0.5356\n",
      "Diff stats — min: -7.9162, max: 10.0000, mean: 6.9797, std: 3.0830\n",
      "\n"
     ]
    },
    {
     "name": "stderr",
     "output_type": "stream",
     "text": [
      "/usr/local/lib/python3.11/dist-packages/pandas/core/computation/expressions.py:73: RuntimeWarning: invalid value encountered in less_equal\n",
      "  return op(a, b)\n",
      "/usr/local/lib/python3.11/dist-packages/pandas/core/arraylike.py:399: RuntimeWarning: invalid value encountered in log\n",
      "  result = getattr(ufunc, method)(*inputs, **kwargs)\n"
     ]
    },
    {
     "name": "stdout",
     "output_type": "stream",
     "text": [
      "Step 7170 — Test metrics:\n",
      "  precision@10: 0.012894861\n",
      "  recall@10: 0.012952766\n",
      "  ndcg@10: 0.013345434\n",
      "  map@10: 0.004733365\n",
      "Epoch 240, Step 20, LR: 0.000387, Current Loss: 0.5347, Avg Loss: 0.5396\n",
      "Diff stats — min: -4.6316, max: 10.0000, mean: 6.9048, std: 3.1106\n",
      "\n",
      "Epoch 240 completed, Train Loss: 0.000133\n",
      "\n",
      "Epoch 241, Step 1, LR: 0.000379, Current Loss: 0.5342, Avg Loss: 0.5342\n",
      "Diff stats — min: -7.2468, max: 10.0000, mean: 6.9718, std: 3.1007\n",
      "\n"
     ]
    },
    {
     "name": "stderr",
     "output_type": "stream",
     "text": [
      "/usr/local/lib/python3.11/dist-packages/pandas/core/computation/expressions.py:73: RuntimeWarning: invalid value encountered in less_equal\n",
      "  return op(a, b)\n",
      "/usr/local/lib/python3.11/dist-packages/pandas/core/arraylike.py:399: RuntimeWarning: invalid value encountered in log\n",
      "  result = getattr(ufunc, method)(*inputs, **kwargs)\n"
     ]
    },
    {
     "name": "stdout",
     "output_type": "stream",
     "text": [
      "Step 7200 — Test metrics:\n",
      "  precision@10: 0.013130599\n",
      "  recall@10: 0.013188504\n",
      "  ndcg@10: 0.013501476\n",
      "  map@10: 0.004766503\n",
      "Epoch 241, Step 20, LR: 0.000379, Current Loss: 0.5475, Avg Loss: 0.5417\n",
      "Diff stats — min: -4.5799, max: 10.0000, mean: 6.8995, std: 3.0962\n",
      "\n",
      "Epoch 241 completed, Train Loss: 0.000133\n",
      "\n",
      "Epoch 242, Step 1, LR: 0.000379, Current Loss: 0.5433, Avg Loss: 0.5433\n",
      "Diff stats — min: -6.2869, max: 10.0000, mean: 6.9468, std: 3.0809\n",
      "\n"
     ]
    },
    {
     "name": "stderr",
     "output_type": "stream",
     "text": [
      "/usr/local/lib/python3.11/dist-packages/pandas/core/computation/expressions.py:73: RuntimeWarning: invalid value encountered in less_equal\n",
      "  return op(a, b)\n",
      "/usr/local/lib/python3.11/dist-packages/pandas/core/arraylike.py:399: RuntimeWarning: invalid value encountered in log\n",
      "  result = getattr(ufunc, method)(*inputs, **kwargs)\n"
     ]
    },
    {
     "name": "stdout",
     "output_type": "stream",
     "text": [
      "Step 7230 — Test metrics:\n",
      "  precision@10: 0.012965582\n",
      "  recall@10: 0.013023488\n",
      "  ndcg@10: 0.013481158\n",
      "  map@10: 0.004830198\n",
      "Epoch 242, Step 20, LR: 0.000379, Current Loss: 0.5257, Avg Loss: 0.5410\n",
      "Diff stats — min: -6.1589, max: 10.0000, mean: 6.9028, std: 3.0928\n",
      "\n",
      "Epoch 242 completed, Train Loss: 0.000133\n",
      "\n",
      "Epoch 243, Step 1, LR: 0.000379, Current Loss: 0.5379, Avg Loss: 0.5379\n",
      "Diff stats — min: -6.8900, max: 10.0000, mean: 6.9307, std: 3.0663\n",
      "\n"
     ]
    },
    {
     "name": "stderr",
     "output_type": "stream",
     "text": [
      "/usr/local/lib/python3.11/dist-packages/pandas/core/computation/expressions.py:73: RuntimeWarning: invalid value encountered in less_equal\n",
      "  return op(a, b)\n",
      "/usr/local/lib/python3.11/dist-packages/pandas/core/arraylike.py:399: RuntimeWarning: invalid value encountered in log\n",
      "  result = getattr(ufunc, method)(*inputs, **kwargs)\n"
     ]
    },
    {
     "name": "stdout",
     "output_type": "stream",
     "text": [
      "Step 7260 — Test metrics:\n",
      "  precision@10: 0.013177746\n",
      "  recall@10: 0.013235652\n",
      "  ndcg@10: 0.013883303\n",
      "  map@10: 0.004988482\n",
      "Epoch 243, Step 20, LR: 0.000379, Current Loss: 0.5264, Avg Loss: 0.5377\n",
      "Diff stats — min: -5.5409, max: 10.0000, mean: 6.8812, std: 3.1413\n",
      "\n",
      "Epoch 243 completed, Train Loss: 0.000133\n",
      "\n",
      "Epoch 244, Step 1, LR: 0.000379, Current Loss: 0.5374, Avg Loss: 0.5374\n",
      "Diff stats — min: -5.6888, max: 10.0000, mean: 6.9248, std: 3.1148\n",
      "\n"
     ]
    },
    {
     "name": "stderr",
     "output_type": "stream",
     "text": [
      "/usr/local/lib/python3.11/dist-packages/pandas/core/computation/expressions.py:73: RuntimeWarning: invalid value encountered in less_equal\n",
      "  return op(a, b)\n",
      "/usr/local/lib/python3.11/dist-packages/pandas/core/arraylike.py:399: RuntimeWarning: invalid value encountered in log\n",
      "  result = getattr(ufunc, method)(*inputs, **kwargs)\n"
     ]
    },
    {
     "name": "stdout",
     "output_type": "stream",
     "text": [
      "Step 7290 — Test metrics:\n",
      "  precision@10: 0.013272041\n",
      "  recall@10: 0.013324708\n",
      "  ndcg@10: 0.013862710\n",
      "  map@10: 0.004951074\n",
      "Epoch 244, Step 20, LR: 0.000379, Current Loss: 0.5450, Avg Loss: 0.5396\n",
      "Diff stats — min: -5.2024, max: 10.0000, mean: 6.9445, std: 3.0777\n",
      "\n",
      "Epoch 244 completed, Train Loss: 0.000133\n",
      "\n",
      "Epoch 245, Step 1, LR: 0.000379, Current Loss: 0.5324, Avg Loss: 0.5324\n",
      "Diff stats — min: -5.2753, max: 10.0000, mean: 6.8629, std: 3.1308\n",
      "\n"
     ]
    },
    {
     "name": "stderr",
     "output_type": "stream",
     "text": [
      "/usr/local/lib/python3.11/dist-packages/pandas/core/computation/expressions.py:73: RuntimeWarning: invalid value encountered in less_equal\n",
      "  return op(a, b)\n",
      "/usr/local/lib/python3.11/dist-packages/pandas/core/arraylike.py:399: RuntimeWarning: invalid value encountered in log\n",
      "  result = getattr(ufunc, method)(*inputs, **kwargs)\n"
     ]
    },
    {
     "name": "stdout",
     "output_type": "stream",
     "text": [
      "Step 7320 — Test metrics:\n",
      "  precision@10: 0.012989156\n",
      "  recall@10: 0.013049681\n",
      "  ndcg@10: 0.013519639\n",
      "  map@10: 0.004801299\n",
      "Epoch 245, Step 20, LR: 0.000379, Current Loss: 0.5452, Avg Loss: 0.5391\n",
      "Diff stats — min: -6.2565, max: 10.0000, mean: 6.8959, std: 3.1319\n",
      "\n",
      "Epoch 245 completed, Train Loss: 0.000133\n",
      "\n",
      "Epoch 246, Step 1, LR: 0.000372, Current Loss: 0.5306, Avg Loss: 0.5306\n",
      "Diff stats — min: -7.1147, max: 10.0000, mean: 6.9796, std: 3.0945\n",
      "\n"
     ]
    },
    {
     "name": "stderr",
     "output_type": "stream",
     "text": [
      "/usr/local/lib/python3.11/dist-packages/pandas/core/computation/expressions.py:73: RuntimeWarning: invalid value encountered in less_equal\n",
      "  return op(a, b)\n",
      "/usr/local/lib/python3.11/dist-packages/pandas/core/arraylike.py:399: RuntimeWarning: invalid value encountered in log\n",
      "  result = getattr(ufunc, method)(*inputs, **kwargs)\n"
     ]
    },
    {
     "name": "stdout",
     "output_type": "stream",
     "text": [
      "Step 7350 — Test metrics:\n",
      "  precision@10: 0.013413484\n",
      "  recall@10: 0.013471390\n",
      "  ndcg@10: 0.014146028\n",
      "  map@10: 0.005141327\n",
      "Epoch 246, Step 20, LR: 0.000372, Current Loss: 0.5462, Avg Loss: 0.5396\n",
      "Diff stats — min: -7.3462, max: 10.0000, mean: 6.8511, std: 3.1498\n",
      "\n",
      "Epoch 246 completed, Train Loss: 0.000133\n",
      "\n",
      "Epoch 247, Step 1, LR: 0.000372, Current Loss: 0.5406, Avg Loss: 0.5406\n",
      "Diff stats — min: -5.0856, max: 10.0000, mean: 6.9454, std: 3.1109\n",
      "\n"
     ]
    },
    {
     "name": "stderr",
     "output_type": "stream",
     "text": [
      "/usr/local/lib/python3.11/dist-packages/pandas/core/computation/expressions.py:73: RuntimeWarning: invalid value encountered in less_equal\n",
      "  return op(a, b)\n",
      "/usr/local/lib/python3.11/dist-packages/pandas/core/arraylike.py:399: RuntimeWarning: invalid value encountered in log\n",
      "  result = getattr(ufunc, method)(*inputs, **kwargs)\n"
     ]
    },
    {
     "name": "stdout",
     "output_type": "stream",
     "text": [
      "Step 7380 — Test metrics:\n",
      "  precision@10: 0.013201320\n",
      "  recall@10: 0.013261845\n",
      "  ndcg@10: 0.013881100\n",
      "  map@10: 0.004999035\n",
      "Epoch 247, Step 20, LR: 0.000372, Current Loss: 0.5286, Avg Loss: 0.5385\n",
      "Diff stats — min: -5.9166, max: 10.0000, mean: 6.9093, std: 3.0985\n",
      "\n",
      "Epoch 247 completed, Train Loss: 0.000133\n",
      "\n",
      "Epoch 248, Step 1, LR: 0.000372, Current Loss: 0.5211, Avg Loss: 0.5211\n",
      "Diff stats — min: -6.6141, max: 10.0000, mean: 6.9308, std: 3.0764\n",
      "\n"
     ]
    },
    {
     "name": "stderr",
     "output_type": "stream",
     "text": [
      "/usr/local/lib/python3.11/dist-packages/pandas/core/computation/expressions.py:73: RuntimeWarning: invalid value encountered in less_equal\n",
      "  return op(a, b)\n",
      "/usr/local/lib/python3.11/dist-packages/pandas/core/arraylike.py:399: RuntimeWarning: invalid value encountered in log\n",
      "  result = getattr(ufunc, method)(*inputs, **kwargs)\n"
     ]
    },
    {
     "name": "stdout",
     "output_type": "stream",
     "text": [
      "Step 7410 — Test metrics:\n",
      "  precision@10: 0.012942008\n",
      "  recall@10: 0.012999914\n",
      "  ndcg@10: 0.013563025\n",
      "  map@10: 0.004857969\n",
      "Epoch 248, Step 20, LR: 0.000372, Current Loss: 0.5382, Avg Loss: 0.5378\n",
      "Diff stats — min: -3.5819, max: 10.0000, mean: 6.9312, std: 3.1011\n",
      "\n",
      "Epoch 248 completed, Train Loss: 0.000133\n",
      "\n",
      "Epoch 249, Step 1, LR: 0.000372, Current Loss: 0.5423, Avg Loss: 0.5423\n",
      "Diff stats — min: -5.1101, max: 10.0000, mean: 6.9805, std: 3.1079\n",
      "\n"
     ]
    },
    {
     "name": "stderr",
     "output_type": "stream",
     "text": [
      "/usr/local/lib/python3.11/dist-packages/pandas/core/computation/expressions.py:73: RuntimeWarning: invalid value encountered in less_equal\n",
      "  return op(a, b)\n",
      "/usr/local/lib/python3.11/dist-packages/pandas/core/arraylike.py:399: RuntimeWarning: invalid value encountered in log\n",
      "  result = getattr(ufunc, method)(*inputs, **kwargs)\n"
     ]
    },
    {
     "name": "stdout",
     "output_type": "stream",
     "text": [
      "Step 7440 — Test metrics:\n",
      "  precision@10: 0.012871287\n",
      "  recall@10: 0.012929193\n",
      "  ndcg@10: 0.013477063\n",
      "  map@10: 0.004845250\n",
      "Epoch 249, Step 20, LR: 0.000372, Current Loss: 0.5523, Avg Loss: 0.5378\n",
      "Diff stats — min: -6.2728, max: 10.0000, mean: 6.9509, std: 3.1234\n",
      "\n",
      "Epoch 249 completed, Train Loss: 0.000133\n",
      "\n",
      "Epoch 250, Step 1, LR: 0.000372, Current Loss: 0.5375, Avg Loss: 0.5375\n",
      "Diff stats — min: -5.3008, max: 10.0000, mean: 6.8676, std: 3.1581\n",
      "\n"
     ]
    },
    {
     "name": "stderr",
     "output_type": "stream",
     "text": [
      "/usr/local/lib/python3.11/dist-packages/pandas/core/computation/expressions.py:73: RuntimeWarning: invalid value encountered in less_equal\n",
      "  return op(a, b)\n",
      "/usr/local/lib/python3.11/dist-packages/pandas/core/arraylike.py:399: RuntimeWarning: invalid value encountered in log\n",
      "  result = getattr(ufunc, method)(*inputs, **kwargs)\n"
     ]
    },
    {
     "name": "stdout",
     "output_type": "stream",
     "text": [
      "Step 7470 — Test metrics:\n",
      "  precision@10: 0.012564828\n",
      "  recall@10: 0.012617495\n",
      "  ndcg@10: 0.013157886\n",
      "  map@10: 0.004689163\n",
      "Epoch 250, Step 20, LR: 0.000372, Current Loss: 0.5472, Avg Loss: 0.5399\n",
      "Diff stats — min: -6.9502, max: 10.0000, mean: 6.9197, std: 3.1412\n",
      "\n",
      "Epoch 250 completed, Train Loss: 0.000133\n",
      "\n",
      "Epoch 251, Step 1, LR: 0.000364, Current Loss: 0.5360, Avg Loss: 0.5360\n",
      "Diff stats — min: -6.4540, max: 10.0000, mean: 6.8924, std: 3.1528\n",
      "\n"
     ]
    },
    {
     "name": "stderr",
     "output_type": "stream",
     "text": [
      "/usr/local/lib/python3.11/dist-packages/pandas/core/computation/expressions.py:73: RuntimeWarning: invalid value encountered in less_equal\n",
      "  return op(a, b)\n",
      "/usr/local/lib/python3.11/dist-packages/pandas/core/arraylike.py:399: RuntimeWarning: invalid value encountered in log\n",
      "  result = getattr(ufunc, method)(*inputs, **kwargs)\n"
     ]
    },
    {
     "name": "stdout",
     "output_type": "stream",
     "text": [
      "Step 7500 — Test metrics:\n",
      "  precision@10: 0.012871287\n",
      "  recall@10: 0.012923954\n",
      "  ndcg@10: 0.013428891\n",
      "  map@10: 0.004777223\n",
      "Epoch 251, Step 20, LR: 0.000364, Current Loss: 0.5424, Avg Loss: 0.5370\n",
      "Diff stats — min: -6.3278, max: 10.0000, mean: 6.9728, std: 3.1289\n",
      "\n",
      "Epoch 251 completed, Train Loss: 0.000133\n",
      "\n",
      "Epoch 252, Step 1, LR: 0.000364, Current Loss: 0.5491, Avg Loss: 0.5491\n",
      "Diff stats — min: -6.3064, max: 10.0000, mean: 6.9310, std: 3.0995\n",
      "\n"
     ]
    },
    {
     "name": "stderr",
     "output_type": "stream",
     "text": [
      "/usr/local/lib/python3.11/dist-packages/pandas/core/computation/expressions.py:73: RuntimeWarning: invalid value encountered in less_equal\n",
      "  return op(a, b)\n",
      "/usr/local/lib/python3.11/dist-packages/pandas/core/arraylike.py:399: RuntimeWarning: invalid value encountered in log\n",
      "  result = getattr(ufunc, method)(*inputs, **kwargs)\n"
     ]
    },
    {
     "name": "stdout",
     "output_type": "stream",
     "text": [
      "Step 7530 — Test metrics:\n",
      "  precision@10: 0.012635549\n",
      "  recall@10: 0.012688216\n",
      "  ndcg@10: 0.013408351\n",
      "  map@10: 0.004768328\n",
      "Epoch 252, Step 20, LR: 0.000364, Current Loss: 0.5262, Avg Loss: 0.5353\n",
      "Diff stats — min: -5.0025, max: 10.0000, mean: 7.0682, std: 3.0402\n",
      "\n",
      "Epoch 252 completed, Train Loss: 0.000132\n",
      "\n",
      "Epoch 253, Step 1, LR: 0.000364, Current Loss: 0.5218, Avg Loss: 0.5218\n",
      "Diff stats — min: -5.1114, max: 10.0000, mean: 7.0148, std: 3.0655\n",
      "\n"
     ]
    },
    {
     "name": "stderr",
     "output_type": "stream",
     "text": [
      "/usr/local/lib/python3.11/dist-packages/pandas/core/computation/expressions.py:73: RuntimeWarning: invalid value encountered in less_equal\n",
      "  return op(a, b)\n",
      "/usr/local/lib/python3.11/dist-packages/pandas/core/arraylike.py:399: RuntimeWarning: invalid value encountered in log\n",
      "  result = getattr(ufunc, method)(*inputs, **kwargs)\n"
     ]
    },
    {
     "name": "stdout",
     "output_type": "stream",
     "text": [
      "Step 7560 — Test metrics:\n",
      "  precision@10: 0.012894861\n",
      "  recall@10: 0.012944908\n",
      "  ndcg@10: 0.013608263\n",
      "  map@10: 0.004885020\n",
      "Epoch 253, Step 20, LR: 0.000364, Current Loss: 0.5392, Avg Loss: 0.5390\n",
      "Diff stats — min: -4.5159, max: 10.0000, mean: 7.0280, std: 3.0573\n",
      "\n",
      "Epoch 253 completed, Train Loss: 0.000133\n",
      "\n",
      "Epoch 254, Step 1, LR: 0.000364, Current Loss: 0.5290, Avg Loss: 0.5290\n",
      "Diff stats — min: -6.4417, max: 10.0000, mean: 7.0280, std: 3.0388\n",
      "\n"
     ]
    },
    {
     "name": "stderr",
     "output_type": "stream",
     "text": [
      "/usr/local/lib/python3.11/dist-packages/pandas/core/computation/expressions.py:73: RuntimeWarning: invalid value encountered in less_equal\n",
      "  return op(a, b)\n",
      "/usr/local/lib/python3.11/dist-packages/pandas/core/arraylike.py:399: RuntimeWarning: invalid value encountered in log\n",
      "  result = getattr(ufunc, method)(*inputs, **kwargs)\n"
     ]
    },
    {
     "name": "stdout",
     "output_type": "stream",
     "text": [
      "Step 7590 — Test metrics:\n",
      "  precision@10: 0.012776992\n",
      "  recall@10: 0.012832278\n",
      "  ndcg@10: 0.013350649\n",
      "  map@10: 0.004738827\n",
      "Epoch 254, Step 20, LR: 0.000364, Current Loss: 0.5398, Avg Loss: 0.5365\n",
      "Diff stats — min: -5.2553, max: 10.0000, mean: 6.9589, std: 3.0889\n",
      "\n",
      "Epoch 254 completed, Train Loss: 0.000132\n",
      "\n",
      "Epoch 255, Step 1, LR: 0.000364, Current Loss: 0.5354, Avg Loss: 0.5354\n",
      "Diff stats — min: -6.1486, max: 10.0000, mean: 7.0213, std: 3.0759\n",
      "\n"
     ]
    },
    {
     "name": "stderr",
     "output_type": "stream",
     "text": [
      "/usr/local/lib/python3.11/dist-packages/pandas/core/computation/expressions.py:73: RuntimeWarning: invalid value encountered in less_equal\n",
      "  return op(a, b)\n",
      "/usr/local/lib/python3.11/dist-packages/pandas/core/arraylike.py:399: RuntimeWarning: invalid value encountered in log\n",
      "  result = getattr(ufunc, method)(*inputs, **kwargs)\n"
     ]
    },
    {
     "name": "stdout",
     "output_type": "stream",
     "text": [
      "Step 7620 — Test metrics:\n",
      "  precision@10: 0.013319189\n",
      "  recall@10: 0.013377095\n",
      "  ndcg@10: 0.013773990\n",
      "  map@10: 0.004866199\n",
      "Epoch 255, Step 20, LR: 0.000364, Current Loss: 0.5420, Avg Loss: 0.5367\n",
      "Diff stats — min: -6.2206, max: 10.0000, mean: 7.1167, std: 3.0813\n",
      "\n",
      "Epoch 255 completed, Train Loss: 0.000133\n",
      "\n",
      "Epoch 256, Step 1, LR: 0.000357, Current Loss: 0.5215, Avg Loss: 0.5215\n",
      "Diff stats — min: -6.2629, max: 10.0000, mean: 7.0464, std: 3.0302\n",
      "\n"
     ]
    },
    {
     "name": "stderr",
     "output_type": "stream",
     "text": [
      "/usr/local/lib/python3.11/dist-packages/pandas/core/computation/expressions.py:73: RuntimeWarning: invalid value encountered in less_equal\n",
      "  return op(a, b)\n",
      "/usr/local/lib/python3.11/dist-packages/pandas/core/arraylike.py:399: RuntimeWarning: invalid value encountered in log\n",
      "  result = getattr(ufunc, method)(*inputs, **kwargs)\n"
     ]
    },
    {
     "name": "stdout",
     "output_type": "stream",
     "text": [
      "Step 7650 — Test metrics:\n",
      "  precision@10: 0.012871287\n",
      "  recall@10: 0.012926573\n",
      "  ndcg@10: 0.013546279\n",
      "  map@10: 0.004789986\n",
      "Epoch 256, Step 20, LR: 0.000357, Current Loss: 0.5333, Avg Loss: 0.5369\n",
      "Diff stats — min: -4.8640, max: 10.0000, mean: 6.9950, std: 3.0766\n",
      "\n",
      "Epoch 256 completed, Train Loss: 0.000133\n",
      "\n",
      "Epoch 257, Step 1, LR: 0.000357, Current Loss: 0.5439, Avg Loss: 0.5439\n",
      "Diff stats — min: -6.0943, max: 10.0000, mean: 7.0979, std: 3.0457\n",
      "\n"
     ]
    },
    {
     "name": "stderr",
     "output_type": "stream",
     "text": [
      "/usr/local/lib/python3.11/dist-packages/pandas/core/computation/expressions.py:73: RuntimeWarning: invalid value encountered in less_equal\n",
      "  return op(a, b)\n",
      "/usr/local/lib/python3.11/dist-packages/pandas/core/arraylike.py:399: RuntimeWarning: invalid value encountered in log\n",
      "  result = getattr(ufunc, method)(*inputs, **kwargs)\n"
     ]
    },
    {
     "name": "stdout",
     "output_type": "stream",
     "text": [
      "Step 7680 — Test metrics:\n",
      "  precision@10: 0.013012730\n",
      "  recall@10: 0.013068016\n",
      "  ndcg@10: 0.013490213\n",
      "  map@10: 0.004749726\n",
      "Epoch 257, Step 20, LR: 0.000357, Current Loss: 0.5294, Avg Loss: 0.5334\n",
      "Diff stats — min: -6.8616, max: 10.0000, mean: 7.0774, std: 3.1404\n",
      "\n",
      "Epoch 257 completed, Train Loss: 0.000132\n",
      "\n",
      "Epoch 258, Step 1, LR: 0.000357, Current Loss: 0.5459, Avg Loss: 0.5459\n",
      "Diff stats — min: -6.9571, max: 10.0000, mean: 7.0223, std: 3.1456\n",
      "\n"
     ]
    },
    {
     "name": "stderr",
     "output_type": "stream",
     "text": [
      "/usr/local/lib/python3.11/dist-packages/pandas/core/computation/expressions.py:73: RuntimeWarning: invalid value encountered in less_equal\n",
      "  return op(a, b)\n",
      "/usr/local/lib/python3.11/dist-packages/pandas/core/arraylike.py:399: RuntimeWarning: invalid value encountered in log\n",
      "  result = getattr(ufunc, method)(*inputs, **kwargs)\n"
     ]
    },
    {
     "name": "stdout",
     "output_type": "stream",
     "text": [
      "Step 7710 — Test metrics:\n",
      "  precision@10: 0.013107025\n",
      "  recall@10: 0.013162311\n",
      "  ndcg@10: 0.013619239\n",
      "  map@10: 0.004808060\n",
      "Epoch 258, Step 20, LR: 0.000357, Current Loss: 0.5349, Avg Loss: 0.5354\n",
      "Diff stats — min: -5.5543, max: 10.0000, mean: 6.9745, std: 3.0935\n",
      "\n",
      "Epoch 258 completed, Train Loss: 0.000133\n",
      "\n",
      "Epoch 259, Step 1, LR: 0.000357, Current Loss: 0.5350, Avg Loss: 0.5350\n",
      "Diff stats — min: -5.3479, max: 10.0000, mean: 7.0108, std: 3.0776\n",
      "\n"
     ]
    },
    {
     "name": "stderr",
     "output_type": "stream",
     "text": [
      "/usr/local/lib/python3.11/dist-packages/pandas/core/computation/expressions.py:73: RuntimeWarning: invalid value encountered in less_equal\n",
      "  return op(a, b)\n",
      "/usr/local/lib/python3.11/dist-packages/pandas/core/arraylike.py:399: RuntimeWarning: invalid value encountered in log\n",
      "  result = getattr(ufunc, method)(*inputs, **kwargs)\n"
     ]
    },
    {
     "name": "stdout",
     "output_type": "stream",
     "text": [
      "Step 7740 — Test metrics:\n",
      "  precision@10: 0.012847713\n",
      "  recall@10: 0.012902999\n",
      "  ndcg@10: 0.013422698\n",
      "  map@10: 0.004761205\n",
      "Epoch 259, Step 20, LR: 0.000357, Current Loss: 0.5287, Avg Loss: 0.5359\n",
      "Diff stats — min: -5.2199, max: 10.0000, mean: 7.0033, std: 3.0599\n",
      "\n",
      "Epoch 259 completed, Train Loss: 0.000132\n",
      "\n",
      "Epoch 260, Step 1, LR: 0.000357, Current Loss: 0.5213, Avg Loss: 0.5213\n",
      "Diff stats — min: -5.4873, max: 10.0000, mean: 7.0546, std: 3.0352\n",
      "\n"
     ]
    },
    {
     "name": "stderr",
     "output_type": "stream",
     "text": [
      "/usr/local/lib/python3.11/dist-packages/pandas/core/computation/expressions.py:73: RuntimeWarning: invalid value encountered in less_equal\n",
      "  return op(a, b)\n",
      "/usr/local/lib/python3.11/dist-packages/pandas/core/arraylike.py:399: RuntimeWarning: invalid value encountered in log\n",
      "  result = getattr(ufunc, method)(*inputs, **kwargs)\n"
     ]
    },
    {
     "name": "stdout",
     "output_type": "stream",
     "text": [
      "Step 7770 — Test metrics:\n",
      "  precision@10: 0.013319189\n",
      "  recall@10: 0.013371856\n",
      "  ndcg@10: 0.013696618\n",
      "  map@10: 0.004809314\n",
      "Epoch 260, Step 20, LR: 0.000357, Current Loss: 0.5310, Avg Loss: 0.5326\n",
      "Diff stats — min: -6.0503, max: 10.0000, mean: 7.0409, std: 3.0566\n",
      "\n",
      "Epoch 260 completed, Train Loss: 0.000132\n",
      "\n",
      "Epoch 261, Step 1, LR: 0.000350, Current Loss: 0.5299, Avg Loss: 0.5299\n",
      "Diff stats — min: -6.0698, max: 10.0000, mean: 7.1278, std: 3.0781\n",
      "\n"
     ]
    },
    {
     "name": "stderr",
     "output_type": "stream",
     "text": [
      "/usr/local/lib/python3.11/dist-packages/pandas/core/computation/expressions.py:73: RuntimeWarning: invalid value encountered in less_equal\n",
      "  return op(a, b)\n",
      "/usr/local/lib/python3.11/dist-packages/pandas/core/arraylike.py:399: RuntimeWarning: invalid value encountered in log\n",
      "  result = getattr(ufunc, method)(*inputs, **kwargs)\n"
     ]
    },
    {
     "name": "stdout",
     "output_type": "stream",
     "text": [
      "Step 7800 — Test metrics:\n",
      "  precision@10: 0.013413484\n",
      "  recall@10: 0.013466151\n",
      "  ndcg@10: 0.013962558\n",
      "  map@10: 0.004959549\n",
      "Epoch 261, Step 20, LR: 0.000350, Current Loss: 0.5288, Avg Loss: 0.5347\n",
      "Diff stats — min: -6.1480, max: 10.0000, mean: 7.0857, std: 3.1079\n",
      "\n",
      "Epoch 261 completed, Train Loss: 0.000132\n",
      "\n",
      "Epoch 262, Step 1, LR: 0.000350, Current Loss: 0.5378, Avg Loss: 0.5378\n",
      "Diff stats — min: -5.1629, max: 10.0000, mean: 7.0309, std: 3.0611\n",
      "\n"
     ]
    },
    {
     "name": "stderr",
     "output_type": "stream",
     "text": [
      "/usr/local/lib/python3.11/dist-packages/pandas/core/computation/expressions.py:73: RuntimeWarning: invalid value encountered in less_equal\n",
      "  return op(a, b)\n",
      "/usr/local/lib/python3.11/dist-packages/pandas/core/arraylike.py:399: RuntimeWarning: invalid value encountered in log\n",
      "  result = getattr(ufunc, method)(*inputs, **kwargs)\n"
     ]
    },
    {
     "name": "stdout",
     "output_type": "stream",
     "text": [
      "Step 7830 — Test metrics:\n",
      "  precision@10: 0.013672796\n",
      "  recall@10: 0.013730701\n",
      "  ndcg@10: 0.014192904\n",
      "  map@10: 0.005051461\n",
      "Epoch 262, Step 20, LR: 0.000350, Current Loss: 0.5241, Avg Loss: 0.5363\n",
      "Diff stats — min: -5.3057, max: 10.0000, mean: 7.0452, std: 3.0813\n",
      "\n",
      "Epoch 262 completed, Train Loss: 0.000132\n",
      "\n",
      "Epoch 263, Step 1, LR: 0.000350, Current Loss: 0.5197, Avg Loss: 0.5197\n",
      "Diff stats — min: -5.2661, max: 10.0000, mean: 7.1175, std: 3.0321\n",
      "\n"
     ]
    },
    {
     "name": "stderr",
     "output_type": "stream",
     "text": [
      "/usr/local/lib/python3.11/dist-packages/pandas/core/computation/expressions.py:73: RuntimeWarning: invalid value encountered in less_equal\n",
      "  return op(a, b)\n",
      "/usr/local/lib/python3.11/dist-packages/pandas/core/arraylike.py:399: RuntimeWarning: invalid value encountered in log\n",
      "  result = getattr(ufunc, method)(*inputs, **kwargs)\n"
     ]
    },
    {
     "name": "stdout",
     "output_type": "stream",
     "text": [
      "Step 7860 — Test metrics:\n",
      "  precision@10: 0.013460632\n",
      "  recall@10: 0.013521157\n",
      "  ndcg@10: 0.014042850\n",
      "  map@10: 0.005042236\n",
      "Epoch 263, Step 20, LR: 0.000350, Current Loss: 0.5395, Avg Loss: 0.5342\n",
      "Diff stats — min: -5.4588, max: 10.0000, mean: 7.0714, std: 3.0792\n",
      "\n",
      "Epoch 263 completed, Train Loss: 0.000132\n",
      "\n",
      "Epoch 264, Step 1, LR: 0.000350, Current Loss: 0.5264, Avg Loss: 0.5264\n",
      "Diff stats — min: -7.0742, max: 10.0000, mean: 7.0417, std: 3.0769\n",
      "\n"
     ]
    },
    {
     "name": "stderr",
     "output_type": "stream",
     "text": [
      "/usr/local/lib/python3.11/dist-packages/pandas/core/computation/expressions.py:73: RuntimeWarning: invalid value encountered in less_equal\n",
      "  return op(a, b)\n",
      "/usr/local/lib/python3.11/dist-packages/pandas/core/arraylike.py:399: RuntimeWarning: invalid value encountered in log\n",
      "  result = getattr(ufunc, method)(*inputs, **kwargs)\n"
     ]
    },
    {
     "name": "stdout",
     "output_type": "stream",
     "text": [
      "Step 7890 — Test metrics:\n",
      "  precision@10: 0.013012730\n",
      "  recall@10: 0.013070635\n",
      "  ndcg@10: 0.013558049\n",
      "  map@10: 0.004818869\n",
      "Epoch 264, Step 20, LR: 0.000350, Current Loss: 0.5407, Avg Loss: 0.5344\n",
      "Diff stats — min: -6.1060, max: 10.0000, mean: 7.0864, std: 3.1043\n",
      "\n",
      "Epoch 264 completed, Train Loss: 0.000132\n",
      "\n",
      "Epoch 265, Step 1, LR: 0.000350, Current Loss: 0.5500, Avg Loss: 0.5500\n",
      "Diff stats — min: -7.4930, max: 10.0000, mean: 7.0401, std: 3.1120\n",
      "\n"
     ]
    },
    {
     "name": "stderr",
     "output_type": "stream",
     "text": [
      "/usr/local/lib/python3.11/dist-packages/pandas/core/computation/expressions.py:73: RuntimeWarning: invalid value encountered in less_equal\n",
      "  return op(a, b)\n",
      "/usr/local/lib/python3.11/dist-packages/pandas/core/arraylike.py:399: RuntimeWarning: invalid value encountered in log\n",
      "  result = getattr(ufunc, method)(*inputs, **kwargs)\n"
     ]
    },
    {
     "name": "stdout",
     "output_type": "stream",
     "text": [
      "Step 7920 — Test metrics:\n",
      "  precision@10: 0.013059877\n",
      "  recall@10: 0.013117783\n",
      "  ndcg@10: 0.013646408\n",
      "  map@10: 0.004862407\n",
      "Epoch 265, Step 20, LR: 0.000350, Current Loss: 0.5459, Avg Loss: 0.5352\n",
      "Diff stats — min: -8.1623, max: 10.0000, mean: 7.0885, std: 3.0576\n",
      "\n",
      "Epoch 265 completed, Train Loss: 0.000132\n",
      "\n",
      "Epoch 266, Step 1, LR: 0.000343, Current Loss: 0.5326, Avg Loss: 0.5326\n",
      "Diff stats — min: -4.3735, max: 10.0000, mean: 7.0556, std: 3.0828\n",
      "\n"
     ]
    },
    {
     "name": "stderr",
     "output_type": "stream",
     "text": [
      "/usr/local/lib/python3.11/dist-packages/pandas/core/computation/expressions.py:73: RuntimeWarning: invalid value encountered in less_equal\n",
      "  return op(a, b)\n",
      "/usr/local/lib/python3.11/dist-packages/pandas/core/arraylike.py:399: RuntimeWarning: invalid value encountered in log\n",
      "  result = getattr(ufunc, method)(*inputs, **kwargs)\n"
     ]
    },
    {
     "name": "stdout",
     "output_type": "stream",
     "text": [
      "Step 7950 — Test metrics:\n",
      "  precision@10: 0.013248468\n",
      "  recall@10: 0.013319096\n",
      "  ndcg@10: 0.013829013\n",
      "  map@10: 0.004936268\n",
      "Epoch 266, Step 20, LR: 0.000343, Current Loss: 0.5323, Avg Loss: 0.5368\n",
      "Diff stats — min: -5.3579, max: 10.0000, mean: 7.0781, std: 3.1058\n",
      "\n",
      "Epoch 266 completed, Train Loss: 0.000132\n",
      "\n",
      "Epoch 267, Step 1, LR: 0.000343, Current Loss: 0.5219, Avg Loss: 0.5219\n",
      "Diff stats — min: -7.3128, max: 10.0000, mean: 7.1223, std: 3.0636\n",
      "\n"
     ]
    },
    {
     "name": "stderr",
     "output_type": "stream",
     "text": [
      "/usr/local/lib/python3.11/dist-packages/pandas/core/computation/expressions.py:73: RuntimeWarning: invalid value encountered in less_equal\n",
      "  return op(a, b)\n",
      "/usr/local/lib/python3.11/dist-packages/pandas/core/arraylike.py:399: RuntimeWarning: invalid value encountered in log\n",
      "  result = getattr(ufunc, method)(*inputs, **kwargs)\n"
     ]
    },
    {
     "name": "stdout",
     "output_type": "stream",
     "text": [
      "Step 7980 — Test metrics:\n",
      "  precision@10: 0.013484206\n",
      "  recall@10: 0.013549595\n",
      "  ndcg@10: 0.014045954\n",
      "  map@10: 0.004999654\n",
      "Epoch 267, Step 20, LR: 0.000343, Current Loss: 0.5661, Avg Loss: 0.5351\n",
      "Diff stats — min: -5.9875, max: 10.0000, mean: 6.9698, std: 3.1256\n",
      "\n",
      "Epoch 267 completed, Train Loss: 0.000132\n",
      "\n",
      "Epoch 268, Step 1, LR: 0.000343, Current Loss: 0.5211, Avg Loss: 0.5211\n",
      "Diff stats — min: -4.9403, max: 10.0000, mean: 7.0614, std: 3.0924\n",
      "\n"
     ]
    },
    {
     "name": "stderr",
     "output_type": "stream",
     "text": [
      "/usr/local/lib/python3.11/dist-packages/pandas/core/computation/expressions.py:73: RuntimeWarning: invalid value encountered in less_equal\n",
      "  return op(a, b)\n",
      "/usr/local/lib/python3.11/dist-packages/pandas/core/arraylike.py:399: RuntimeWarning: invalid value encountered in log\n",
      "  result = getattr(ufunc, method)(*inputs, **kwargs)\n"
     ]
    },
    {
     "name": "stdout",
     "output_type": "stream",
     "text": [
      "Step 8010 — Test metrics:\n",
      "  precision@10: 0.013389910\n",
      "  recall@10: 0.013450435\n",
      "  ndcg@10: 0.014086344\n",
      "  map@10: 0.005097070\n",
      "Epoch 268, Step 20, LR: 0.000343, Current Loss: 0.5470, Avg Loss: 0.5326\n",
      "Diff stats — min: -4.8242, max: 10.0000, mean: 7.0721, std: 3.0995\n",
      "\n",
      "Epoch 268 completed, Train Loss: 0.000132\n",
      "\n",
      "Epoch 269, Step 1, LR: 0.000343, Current Loss: 0.5209, Avg Loss: 0.5209\n",
      "Diff stats — min: -7.5808, max: 10.0000, mean: 7.1470, std: 3.0402\n",
      "\n"
     ]
    },
    {
     "name": "stderr",
     "output_type": "stream",
     "text": [
      "/usr/local/lib/python3.11/dist-packages/pandas/core/computation/expressions.py:73: RuntimeWarning: invalid value encountered in less_equal\n",
      "  return op(a, b)\n",
      "/usr/local/lib/python3.11/dist-packages/pandas/core/arraylike.py:399: RuntimeWarning: invalid value encountered in log\n",
      "  result = getattr(ufunc, method)(*inputs, **kwargs)\n"
     ]
    },
    {
     "name": "stdout",
     "output_type": "stream",
     "text": [
      "Step 8040 — Test metrics:\n",
      "  precision@10: 0.013154173\n",
      "  recall@10: 0.013224800\n",
      "  ndcg@10: 0.013748480\n",
      "  map@10: 0.004913168\n",
      "Epoch 269, Step 20, LR: 0.000343, Current Loss: 0.5342, Avg Loss: 0.5327\n",
      "Diff stats — min: -5.1900, max: 10.0000, mean: 7.1040, std: 3.0588\n",
      "\n",
      "Epoch 269 completed, Train Loss: 0.000131\n",
      "\n",
      "Epoch 270, Step 1, LR: 0.000343, Current Loss: 0.5294, Avg Loss: 0.5294\n",
      "Diff stats — min: -5.3738, max: 10.0000, mean: 7.0585, std: 3.0874\n",
      "\n"
     ]
    },
    {
     "name": "stderr",
     "output_type": "stream",
     "text": [
      "/usr/local/lib/python3.11/dist-packages/pandas/core/computation/expressions.py:73: RuntimeWarning: invalid value encountered in less_equal\n",
      "  return op(a, b)\n",
      "/usr/local/lib/python3.11/dist-packages/pandas/core/arraylike.py:399: RuntimeWarning: invalid value encountered in log\n",
      "  result = getattr(ufunc, method)(*inputs, **kwargs)\n"
     ]
    },
    {
     "name": "stdout",
     "output_type": "stream",
     "text": [
      "Step 8070 — Test metrics:\n",
      "  precision@10: 0.013248468\n",
      "  recall@10: 0.013308992\n",
      "  ndcg@10: 0.013993316\n",
      "  map@10: 0.005094213\n",
      "Epoch 270, Step 20, LR: 0.000343, Current Loss: 0.5251, Avg Loss: 0.5301\n",
      "Diff stats — min: -5.0960, max: 10.0000, mean: 7.0833, std: 3.0679\n",
      "\n",
      "Epoch 270 completed, Train Loss: 0.000132\n",
      "\n",
      "Epoch 271, Step 1, LR: 0.000336, Current Loss: 0.5324, Avg Loss: 0.5324\n",
      "Diff stats — min: -6.1624, max: 10.0000, mean: 7.1297, std: 3.0668\n",
      "\n"
     ]
    },
    {
     "name": "stderr",
     "output_type": "stream",
     "text": [
      "/usr/local/lib/python3.11/dist-packages/pandas/core/computation/expressions.py:73: RuntimeWarning: invalid value encountered in less_equal\n",
      "  return op(a, b)\n",
      "/usr/local/lib/python3.11/dist-packages/pandas/core/arraylike.py:399: RuntimeWarning: invalid value encountered in log\n",
      "  result = getattr(ufunc, method)(*inputs, **kwargs)\n"
     ]
    },
    {
     "name": "stdout",
     "output_type": "stream",
     "text": [
      "Step 8100 — Test metrics:\n",
      "  precision@10: 0.013531353\n",
      "  recall@10: 0.013591878\n",
      "  ndcg@10: 0.013953968\n",
      "  map@10: 0.004986015\n",
      "Epoch 271, Step 20, LR: 0.000336, Current Loss: 0.5360, Avg Loss: 0.5333\n",
      "Diff stats — min: -5.8271, max: 10.0000, mean: 7.1664, std: 3.0676\n",
      "\n",
      "Epoch 271 completed, Train Loss: 0.000132\n",
      "\n",
      "Epoch 272, Step 1, LR: 0.000336, Current Loss: 0.5246, Avg Loss: 0.5246\n",
      "Diff stats — min: -4.5841, max: 10.0000, mean: 7.1726, std: 3.0529\n",
      "\n"
     ]
    },
    {
     "name": "stderr",
     "output_type": "stream",
     "text": [
      "/usr/local/lib/python3.11/dist-packages/pandas/core/computation/expressions.py:73: RuntimeWarning: invalid value encountered in less_equal\n",
      "  return op(a, b)\n",
      "/usr/local/lib/python3.11/dist-packages/pandas/core/arraylike.py:399: RuntimeWarning: invalid value encountered in log\n",
      "  result = getattr(ufunc, method)(*inputs, **kwargs)\n"
     ]
    },
    {
     "name": "stdout",
     "output_type": "stream",
     "text": [
      "Step 8130 — Test metrics:\n",
      "  precision@10: 0.013908534\n",
      "  recall@10: 0.013979162\n",
      "  ndcg@10: 0.014592418\n",
      "  map@10: 0.005283855\n",
      "Epoch 272, Step 20, LR: 0.000336, Current Loss: 0.5275, Avg Loss: 0.5328\n",
      "Diff stats — min: -8.0831, max: 10.0000, mean: 7.1886, std: 3.0517\n",
      "\n",
      "Epoch 272 completed, Train Loss: 0.000132\n",
      "\n",
      "Epoch 273, Step 1, LR: 0.000336, Current Loss: 0.5267, Avg Loss: 0.5267\n",
      "Diff stats — min: -5.3013, max: 10.0000, mean: 7.1247, std: 3.0537\n",
      "\n"
     ]
    },
    {
     "name": "stderr",
     "output_type": "stream",
     "text": [
      "/usr/local/lib/python3.11/dist-packages/pandas/core/computation/expressions.py:73: RuntimeWarning: invalid value encountered in less_equal\n",
      "  return op(a, b)\n",
      "/usr/local/lib/python3.11/dist-packages/pandas/core/arraylike.py:399: RuntimeWarning: invalid value encountered in log\n",
      "  result = getattr(ufunc, method)(*inputs, **kwargs)\n"
     ]
    },
    {
     "name": "stdout",
     "output_type": "stream",
     "text": [
      "Step 8160 — Test metrics:\n",
      "  precision@10: 0.013672796\n",
      "  recall@10: 0.013733321\n",
      "  ndcg@10: 0.014216886\n",
      "  map@10: 0.005135505\n",
      "Epoch 273, Step 20, LR: 0.000336, Current Loss: 0.5271, Avg Loss: 0.5350\n",
      "Diff stats — min: -6.5803, max: 10.0000, mean: 7.1048, std: 3.0677\n",
      "\n",
      "Epoch 273 completed, Train Loss: 0.000132\n",
      "\n",
      "Epoch 274, Step 1, LR: 0.000336, Current Loss: 0.5345, Avg Loss: 0.5345\n",
      "Diff stats — min: -5.2014, max: 10.0000, mean: 7.1232, std: 3.0549\n",
      "\n"
     ]
    },
    {
     "name": "stderr",
     "output_type": "stream",
     "text": [
      "/usr/local/lib/python3.11/dist-packages/pandas/core/computation/expressions.py:73: RuntimeWarning: invalid value encountered in less_equal\n",
      "  return op(a, b)\n",
      "/usr/local/lib/python3.11/dist-packages/pandas/core/arraylike.py:399: RuntimeWarning: invalid value encountered in log\n",
      "  result = getattr(ufunc, method)(*inputs, **kwargs)\n"
     ]
    },
    {
     "name": "stdout",
     "output_type": "stream",
     "text": [
      "Step 8190 — Test metrics:\n",
      "  precision@10: 0.013342763\n",
      "  recall@10: 0.013413391\n",
      "  ndcg@10: 0.014029312\n",
      "  map@10: 0.005041855\n",
      "Epoch 274, Step 20, LR: 0.000336, Current Loss: 0.5618, Avg Loss: 0.5351\n",
      "Diff stats — min: -6.4361, max: 10.0000, mean: 7.0089, std: 3.1463\n",
      "\n",
      "Epoch 274 completed, Train Loss: 0.000132\n",
      "\n",
      "Epoch 275, Step 1, LR: 0.000336, Current Loss: 0.5323, Avg Loss: 0.5323\n",
      "Diff stats — min: -4.5993, max: 10.0000, mean: 7.0755, std: 3.0650\n",
      "\n"
     ]
    },
    {
     "name": "stderr",
     "output_type": "stream",
     "text": [
      "/usr/local/lib/python3.11/dist-packages/pandas/core/computation/expressions.py:73: RuntimeWarning: invalid value encountered in less_equal\n",
      "  return op(a, b)\n",
      "/usr/local/lib/python3.11/dist-packages/pandas/core/arraylike.py:399: RuntimeWarning: invalid value encountered in log\n",
      "  result = getattr(ufunc, method)(*inputs, **kwargs)\n"
     ]
    },
    {
     "name": "stdout",
     "output_type": "stream",
     "text": [
      "Step 8220 — Test metrics:\n",
      "  precision@10: 0.013932107\n",
      "  recall@10: 0.014000116\n",
      "  ndcg@10: 0.014367720\n",
      "  map@10: 0.005157777\n",
      "Epoch 275, Step 20, LR: 0.000336, Current Loss: 0.5297, Avg Loss: 0.5341\n",
      "Diff stats — min: -6.2563, max: 10.0000, mean: 7.1151, std: 3.0585\n",
      "\n",
      "Epoch 275 completed, Train Loss: 0.000131\n",
      "\n",
      "Epoch 276, Step 1, LR: 0.000329, Current Loss: 0.5323, Avg Loss: 0.5323\n",
      "Diff stats — min: -7.4448, max: 10.0000, mean: 7.1831, std: 3.0203\n",
      "\n"
     ]
    },
    {
     "name": "stderr",
     "output_type": "stream",
     "text": [
      "/usr/local/lib/python3.11/dist-packages/pandas/core/computation/expressions.py:73: RuntimeWarning: invalid value encountered in less_equal\n",
      "  return op(a, b)\n",
      "/usr/local/lib/python3.11/dist-packages/pandas/core/arraylike.py:399: RuntimeWarning: invalid value encountered in log\n",
      "  result = getattr(ufunc, method)(*inputs, **kwargs)\n"
     ]
    },
    {
     "name": "stdout",
     "output_type": "stream",
     "text": [
      "Step 8250 — Test metrics:\n",
      "  precision@10: 0.014026403\n",
      "  recall@10: 0.014102269\n",
      "  ndcg@10: 0.014521374\n",
      "  map@10: 0.005323504\n",
      "Epoch 276, Step 20, LR: 0.000329, Current Loss: 0.5354, Avg Loss: 0.5333\n",
      "Diff stats — min: -4.2412, max: 10.0000, mean: 7.0861, std: 3.1242\n",
      "\n",
      "Epoch 276 completed, Train Loss: 0.000132\n",
      "\n",
      "Epoch 277, Step 1, LR: 0.000329, Current Loss: 0.5359, Avg Loss: 0.5359\n",
      "Diff stats — min: -4.2946, max: 10.0000, mean: 7.1025, std: 3.0910\n",
      "\n"
     ]
    },
    {
     "name": "stderr",
     "output_type": "stream",
     "text": [
      "/usr/local/lib/python3.11/dist-packages/pandas/core/computation/expressions.py:73: RuntimeWarning: invalid value encountered in less_equal\n",
      "  return op(a, b)\n",
      "/usr/local/lib/python3.11/dist-packages/pandas/core/arraylike.py:399: RuntimeWarning: invalid value encountered in log\n",
      "  result = getattr(ufunc, method)(*inputs, **kwargs)\n"
     ]
    },
    {
     "name": "stdout",
     "output_type": "stream",
     "text": [
      "Step 8280 — Test metrics:\n",
      "  precision@10: 0.014144272\n",
      "  recall@10: 0.014202177\n",
      "  ndcg@10: 0.014776914\n",
      "  map@10: 0.005389161\n",
      "Epoch 277, Step 20, LR: 0.000329, Current Loss: 0.5339, Avg Loss: 0.5331\n",
      "Diff stats — min: -5.3814, max: 10.0000, mean: 7.0540, std: 3.1433\n",
      "\n",
      "Epoch 277 completed, Train Loss: 0.000132\n",
      "\n",
      "Epoch 278, Step 1, LR: 0.000329, Current Loss: 0.5257, Avg Loss: 0.5257\n",
      "Diff stats — min: -4.8850, max: 10.0000, mean: 7.1239, std: 3.0465\n",
      "\n"
     ]
    },
    {
     "name": "stderr",
     "output_type": "stream",
     "text": [
      "/usr/local/lib/python3.11/dist-packages/pandas/core/computation/expressions.py:73: RuntimeWarning: invalid value encountered in less_equal\n",
      "  return op(a, b)\n",
      "/usr/local/lib/python3.11/dist-packages/pandas/core/arraylike.py:399: RuntimeWarning: invalid value encountered in log\n",
      "  result = getattr(ufunc, method)(*inputs, **kwargs)\n"
     ]
    },
    {
     "name": "stdout",
     "output_type": "stream",
     "text": [
      "Step 8310 — Test metrics:\n",
      "  precision@10: 0.013743517\n",
      "  recall@10: 0.013804042\n",
      "  ndcg@10: 0.014352668\n",
      "  map@10: 0.005228968\n",
      "Epoch 278, Step 20, LR: 0.000329, Current Loss: 0.5455, Avg Loss: 0.5355\n",
      "Diff stats — min: -6.3225, max: 10.0000, mean: 7.1080, std: 3.0619\n",
      "\n",
      "Epoch 278 completed, Train Loss: 0.000132\n",
      "\n",
      "Epoch 279, Step 1, LR: 0.000329, Current Loss: 0.5337, Avg Loss: 0.5337\n",
      "Diff stats — min: -5.8995, max: 10.0000, mean: 7.1826, std: 3.0688\n",
      "\n"
     ]
    },
    {
     "name": "stderr",
     "output_type": "stream",
     "text": [
      "/usr/local/lib/python3.11/dist-packages/pandas/core/computation/expressions.py:73: RuntimeWarning: invalid value encountered in less_equal\n",
      "  return op(a, b)\n",
      "/usr/local/lib/python3.11/dist-packages/pandas/core/arraylike.py:399: RuntimeWarning: invalid value encountered in log\n",
      "  result = getattr(ufunc, method)(*inputs, **kwargs)\n"
     ]
    },
    {
     "name": "stdout",
     "output_type": "stream",
     "text": [
      "Step 8340 — Test metrics:\n",
      "  precision@10: 0.013814239\n",
      "  recall@10: 0.013890105\n",
      "  ndcg@10: 0.014311191\n",
      "  map@10: 0.005211969\n",
      "Epoch 279, Step 20, LR: 0.000329, Current Loss: 0.5366, Avg Loss: 0.5304\n",
      "Diff stats — min: -6.9757, max: 10.0000, mean: 7.0990, std: 3.0863\n",
      "\n",
      "Epoch 279 completed, Train Loss: 0.000132\n",
      "\n",
      "Epoch 280, Step 1, LR: 0.000329, Current Loss: 0.5271, Avg Loss: 0.5271\n",
      "Diff stats — min: -6.9363, max: 10.0000, mean: 7.0517, std: 3.0900\n",
      "\n"
     ]
    },
    {
     "name": "stderr",
     "output_type": "stream",
     "text": [
      "/usr/local/lib/python3.11/dist-packages/pandas/core/computation/expressions.py:73: RuntimeWarning: invalid value encountered in less_equal\n",
      "  return op(a, b)\n",
      "/usr/local/lib/python3.11/dist-packages/pandas/core/arraylike.py:399: RuntimeWarning: invalid value encountered in log\n",
      "  result = getattr(ufunc, method)(*inputs, **kwargs)\n"
     ]
    },
    {
     "name": "stdout",
     "output_type": "stream",
     "text": [
      "Step 8370 — Test metrics:\n",
      "  precision@10: 0.014002829\n",
      "  recall@10: 0.014063354\n",
      "  ndcg@10: 0.014415888\n",
      "  map@10: 0.005278880\n",
      "Epoch 280, Step 20, LR: 0.000329, Current Loss: 0.5312, Avg Loss: 0.5330\n",
      "Diff stats — min: -4.3906, max: 10.0000, mean: 7.2002, std: 3.0151\n",
      "\n",
      "Epoch 280 completed, Train Loss: 0.000131\n",
      "\n",
      "Epoch 281, Step 1, LR: 0.000323, Current Loss: 0.5379, Avg Loss: 0.5379\n",
      "Diff stats — min: -5.6924, max: 10.0000, mean: 7.1499, std: 3.0652\n",
      "\n"
     ]
    },
    {
     "name": "stderr",
     "output_type": "stream",
     "text": [
      "/usr/local/lib/python3.11/dist-packages/pandas/core/computation/expressions.py:73: RuntimeWarning: invalid value encountered in less_equal\n",
      "  return op(a, b)\n",
      "/usr/local/lib/python3.11/dist-packages/pandas/core/arraylike.py:399: RuntimeWarning: invalid value encountered in log\n",
      "  result = getattr(ufunc, method)(*inputs, **kwargs)\n"
     ]
    },
    {
     "name": "stdout",
     "output_type": "stream",
     "text": [
      "Step 8400 — Test metrics:\n",
      "  precision@10: 0.013602074\n",
      "  recall@10: 0.013670083\n",
      "  ndcg@10: 0.014193662\n",
      "  map@10: 0.005181085\n",
      "Epoch 281, Step 20, LR: 0.000323, Current Loss: 0.5242, Avg Loss: 0.5289\n",
      "Diff stats — min: -5.4869, max: 10.0000, mean: 7.0951, std: 3.0508\n",
      "\n",
      "Epoch 281 completed, Train Loss: 0.000131\n",
      "\n",
      "Epoch 282, Step 1, LR: 0.000323, Current Loss: 0.5215, Avg Loss: 0.5215\n",
      "Diff stats — min: -5.0255, max: 10.0000, mean: 7.2034, std: 3.0414\n",
      "\n"
     ]
    },
    {
     "name": "stderr",
     "output_type": "stream",
     "text": [
      "/usr/local/lib/python3.11/dist-packages/pandas/core/computation/expressions.py:73: RuntimeWarning: invalid value encountered in less_equal\n",
      "  return op(a, b)\n",
      "/usr/local/lib/python3.11/dist-packages/pandas/core/arraylike.py:399: RuntimeWarning: invalid value encountered in log\n",
      "  result = getattr(ufunc, method)(*inputs, **kwargs)\n"
     ]
    },
    {
     "name": "stdout",
     "output_type": "stream",
     "text": [
      "Step 8430 — Test metrics:\n",
      "  precision@10: 0.013554927\n",
      "  recall@10: 0.013630793\n",
      "  ndcg@10: 0.014180969\n",
      "  map@10: 0.005182132\n",
      "Epoch 282, Step 20, LR: 0.000323, Current Loss: 0.5151, Avg Loss: 0.5311\n",
      "Diff stats — min: -5.1636, max: 10.0000, mean: 7.1638, std: 3.0143\n",
      "\n",
      "Epoch 282 completed, Train Loss: 0.000131\n",
      "\n",
      "Epoch 283, Step 1, LR: 0.000323, Current Loss: 0.5181, Avg Loss: 0.5181\n",
      "Diff stats — min: -4.5356, max: 10.0000, mean: 7.1621, std: 3.0217\n",
      "\n"
     ]
    },
    {
     "name": "stderr",
     "output_type": "stream",
     "text": [
      "/usr/local/lib/python3.11/dist-packages/pandas/core/computation/expressions.py:73: RuntimeWarning: invalid value encountered in less_equal\n",
      "  return op(a, b)\n",
      "/usr/local/lib/python3.11/dist-packages/pandas/core/arraylike.py:399: RuntimeWarning: invalid value encountered in log\n",
      "  result = getattr(ufunc, method)(*inputs, **kwargs)\n"
     ]
    },
    {
     "name": "stdout",
     "output_type": "stream",
     "text": [
      "Step 8460 — Test metrics:\n",
      "  precision@10: 0.013602074\n",
      "  recall@10: 0.013672702\n",
      "  ndcg@10: 0.014074362\n",
      "  map@10: 0.005114621\n",
      "Epoch 283, Step 20, LR: 0.000323, Current Loss: 0.5319, Avg Loss: 0.5306\n",
      "Diff stats — min: -4.7611, max: 10.0000, mean: 7.1454, std: 3.0579\n",
      "\n",
      "Epoch 283 completed, Train Loss: 0.000131\n",
      "\n",
      "Epoch 284, Step 1, LR: 0.000323, Current Loss: 0.5213, Avg Loss: 0.5213\n",
      "Diff stats — min: -6.7878, max: 10.0000, mean: 7.1610, std: 3.0632\n",
      "\n"
     ]
    },
    {
     "name": "stderr",
     "output_type": "stream",
     "text": [
      "/usr/local/lib/python3.11/dist-packages/pandas/core/computation/expressions.py:73: RuntimeWarning: invalid value encountered in less_equal\n",
      "  return op(a, b)\n",
      "/usr/local/lib/python3.11/dist-packages/pandas/core/arraylike.py:399: RuntimeWarning: invalid value encountered in log\n",
      "  result = getattr(ufunc, method)(*inputs, **kwargs)\n"
     ]
    },
    {
     "name": "stdout",
     "output_type": "stream",
     "text": [
      "Step 8490 — Test metrics:\n",
      "  precision@10: 0.013861386\n",
      "  recall@10: 0.013937253\n",
      "  ndcg@10: 0.014341763\n",
      "  map@10: 0.005237000\n",
      "Epoch 284, Step 20, LR: 0.000323, Current Loss: 0.5503, Avg Loss: 0.5317\n",
      "Diff stats — min: -5.7525, max: 10.0000, mean: 7.0843, std: 3.1259\n",
      "\n",
      "Epoch 284 completed, Train Loss: 0.000131\n",
      "\n",
      "Epoch 285, Step 1, LR: 0.000323, Current Loss: 0.5174, Avg Loss: 0.5174\n",
      "Diff stats — min: -5.0464, max: 10.0000, mean: 7.1822, std: 2.9961\n",
      "\n"
     ]
    },
    {
     "name": "stderr",
     "output_type": "stream",
     "text": [
      "/usr/local/lib/python3.11/dist-packages/pandas/core/computation/expressions.py:73: RuntimeWarning: invalid value encountered in less_equal\n",
      "  return op(a, b)\n",
      "/usr/local/lib/python3.11/dist-packages/pandas/core/arraylike.py:399: RuntimeWarning: invalid value encountered in log\n",
      "  result = getattr(ufunc, method)(*inputs, **kwargs)\n"
     ]
    },
    {
     "name": "stdout",
     "output_type": "stream",
     "text": [
      "Step 8520 — Test metrics:\n",
      "  precision@10: 0.013484206\n",
      "  recall@10: 0.013549969\n",
      "  ndcg@10: 0.013971791\n",
      "  map@10: 0.005074282\n",
      "Epoch 285, Step 20, LR: 0.000323, Current Loss: 0.5388, Avg Loss: 0.5294\n",
      "Diff stats — min: -5.1157, max: 10.0000, mean: 7.2352, std: 3.0627\n",
      "\n",
      "Epoch 285 completed, Train Loss: 0.000131\n",
      "\n",
      "Epoch 286, Step 1, LR: 0.000316, Current Loss: 0.5305, Avg Loss: 0.5305\n",
      "Diff stats — min: -8.9356, max: 10.0000, mean: 7.1203, std: 3.0796\n",
      "\n"
     ]
    },
    {
     "name": "stderr",
     "output_type": "stream",
     "text": [
      "/usr/local/lib/python3.11/dist-packages/pandas/core/computation/expressions.py:73: RuntimeWarning: invalid value encountered in less_equal\n",
      "  return op(a, b)\n",
      "/usr/local/lib/python3.11/dist-packages/pandas/core/arraylike.py:399: RuntimeWarning: invalid value encountered in log\n",
      "  result = getattr(ufunc, method)(*inputs, **kwargs)\n"
     ]
    },
    {
     "name": "stdout",
     "output_type": "stream",
     "text": [
      "Step 8550 — Test metrics:\n",
      "  precision@10: 0.013272041\n",
      "  recall@10: 0.013345289\n",
      "  ndcg@10: 0.013819484\n",
      "  map@10: 0.005017976\n",
      "Epoch 286, Step 20, LR: 0.000316, Current Loss: 0.5210, Avg Loss: 0.5354\n",
      "Diff stats — min: -5.4803, max: 10.0000, mean: 7.1525, std: 3.0611\n",
      "\n",
      "Epoch 286 completed, Train Loss: 0.000131\n",
      "\n",
      "Epoch 287, Step 1, LR: 0.000316, Current Loss: 0.5308, Avg Loss: 0.5308\n",
      "Diff stats — min: -6.0330, max: 10.0000, mean: 7.1911, std: 3.0764\n",
      "\n"
     ]
    },
    {
     "name": "stderr",
     "output_type": "stream",
     "text": [
      "/usr/local/lib/python3.11/dist-packages/pandas/core/computation/expressions.py:73: RuntimeWarning: invalid value encountered in less_equal\n",
      "  return op(a, b)\n",
      "/usr/local/lib/python3.11/dist-packages/pandas/core/arraylike.py:399: RuntimeWarning: invalid value encountered in log\n",
      "  result = getattr(ufunc, method)(*inputs, **kwargs)\n"
     ]
    },
    {
     "name": "stdout",
     "output_type": "stream",
     "text": [
      "Step 8580 — Test metrics:\n",
      "  precision@10: 0.013602074\n",
      "  recall@10: 0.013670457\n",
      "  ndcg@10: 0.014081979\n",
      "  map@10: 0.005094831\n",
      "Epoch 287, Step 20, LR: 0.000316, Current Loss: 0.5200, Avg Loss: 0.5294\n",
      "Diff stats — min: -3.9532, max: 10.0000, mean: 7.1747, std: 3.0208\n",
      "\n",
      "Epoch 287 completed, Train Loss: 0.000131\n",
      "\n",
      "Epoch 288, Step 1, LR: 0.000316, Current Loss: 0.5441, Avg Loss: 0.5441\n",
      "Diff stats — min: -4.1993, max: 10.0000, mean: 7.1542, std: 3.0242\n",
      "\n"
     ]
    },
    {
     "name": "stderr",
     "output_type": "stream",
     "text": [
      "/usr/local/lib/python3.11/dist-packages/pandas/core/computation/expressions.py:73: RuntimeWarning: invalid value encountered in less_equal\n",
      "  return op(a, b)\n",
      "/usr/local/lib/python3.11/dist-packages/pandas/core/arraylike.py:399: RuntimeWarning: invalid value encountered in log\n",
      "  result = getattr(ufunc, method)(*inputs, **kwargs)\n"
     ]
    },
    {
     "name": "stdout",
     "output_type": "stream",
     "text": [
      "Step 8610 — Test metrics:\n",
      "  precision@10: 0.013389910\n",
      "  recall@10: 0.013463158\n",
      "  ndcg@10: 0.013937909\n",
      "  map@10: 0.005060340\n",
      "Epoch 288, Step 20, LR: 0.000316, Current Loss: 0.5381, Avg Loss: 0.5304\n",
      "Diff stats — min: -7.1174, max: 10.0000, mean: 7.2320, std: 3.0740\n",
      "\n",
      "Epoch 288 completed, Train Loss: 0.000131\n",
      "\n",
      "Epoch 289, Step 1, LR: 0.000316, Current Loss: 0.5393, Avg Loss: 0.5393\n",
      "Diff stats — min: -5.7795, max: 10.0000, mean: 7.2603, std: 3.0483\n",
      "\n"
     ]
    },
    {
     "name": "stderr",
     "output_type": "stream",
     "text": [
      "/usr/local/lib/python3.11/dist-packages/pandas/core/computation/expressions.py:73: RuntimeWarning: invalid value encountered in less_equal\n",
      "  return op(a, b)\n",
      "/usr/local/lib/python3.11/dist-packages/pandas/core/arraylike.py:399: RuntimeWarning: invalid value encountered in log\n",
      "  result = getattr(ufunc, method)(*inputs, **kwargs)\n"
     ]
    },
    {
     "name": "stdout",
     "output_type": "stream",
     "text": [
      "Step 8640 — Test metrics:\n",
      "  precision@10: 0.013437058\n",
      "  recall@10: 0.013507686\n",
      "  ndcg@10: 0.014079401\n",
      "  map@10: 0.005118705\n",
      "Epoch 289, Step 20, LR: 0.000316, Current Loss: 0.5364, Avg Loss: 0.5330\n",
      "Diff stats — min: -7.9034, max: 10.0000, mean: 7.2102, std: 3.0053\n",
      "\n",
      "Epoch 289 completed, Train Loss: 0.000131\n",
      "\n",
      "Epoch 290, Step 1, LR: 0.000316, Current Loss: 0.5336, Avg Loss: 0.5336\n",
      "Diff stats — min: -6.4774, max: 10.0000, mean: 7.2803, std: 2.9937\n",
      "\n"
     ]
    },
    {
     "name": "stderr",
     "output_type": "stream",
     "text": [
      "/usr/local/lib/python3.11/dist-packages/pandas/core/computation/expressions.py:73: RuntimeWarning: invalid value encountered in less_equal\n",
      "  return op(a, b)\n",
      "/usr/local/lib/python3.11/dist-packages/pandas/core/arraylike.py:399: RuntimeWarning: invalid value encountered in log\n",
      "  result = getattr(ufunc, method)(*inputs, **kwargs)\n"
     ]
    },
    {
     "name": "stdout",
     "output_type": "stream",
     "text": [
      "Step 8670 — Test metrics:\n",
      "  precision@10: 0.013319189\n",
      "  recall@10: 0.013400294\n",
      "  ndcg@10: 0.014175837\n",
      "  map@10: 0.005220376\n",
      "Epoch 290, Step 20, LR: 0.000316, Current Loss: 0.5243, Avg Loss: 0.5316\n",
      "Diff stats — min: -7.8532, max: 10.0000, mean: 7.1815, std: 3.0271\n",
      "\n",
      "Epoch 290 completed, Train Loss: 0.000131\n",
      "\n",
      "Epoch 291, Step 1, LR: 0.000310, Current Loss: 0.5480, Avg Loss: 0.5480\n",
      "Diff stats — min: -9.6818, max: 10.0000, mean: 7.1804, std: 3.0904\n",
      "\n"
     ]
    },
    {
     "name": "stderr",
     "output_type": "stream",
     "text": [
      "/usr/local/lib/python3.11/dist-packages/pandas/core/computation/expressions.py:73: RuntimeWarning: invalid value encountered in less_equal\n",
      "  return op(a, b)\n",
      "/usr/local/lib/python3.11/dist-packages/pandas/core/arraylike.py:399: RuntimeWarning: invalid value encountered in log\n",
      "  result = getattr(ufunc, method)(*inputs, **kwargs)\n"
     ]
    },
    {
     "name": "stdout",
     "output_type": "stream",
     "text": [
      "Step 8700 — Test metrics:\n",
      "  precision@10: 0.013248468\n",
      "  recall@10: 0.013316850\n",
      "  ndcg@10: 0.013938058\n",
      "  map@10: 0.005131040\n",
      "Epoch 291, Step 20, LR: 0.000310, Current Loss: 0.5263, Avg Loss: 0.5303\n",
      "Diff stats — min: -5.3736, max: 10.0000, mean: 7.2377, std: 2.9577\n",
      "\n",
      "Epoch 291 completed, Train Loss: 0.000131\n",
      "\n",
      "Epoch 292, Step 1, LR: 0.000310, Current Loss: 0.5337, Avg Loss: 0.5337\n",
      "Diff stats — min: -4.8990, max: 10.0000, mean: 7.1651, std: 3.0475\n",
      "\n"
     ]
    },
    {
     "name": "stderr",
     "output_type": "stream",
     "text": [
      "/usr/local/lib/python3.11/dist-packages/pandas/core/computation/expressions.py:73: RuntimeWarning: invalid value encountered in less_equal\n",
      "  return op(a, b)\n",
      "/usr/local/lib/python3.11/dist-packages/pandas/core/arraylike.py:399: RuntimeWarning: invalid value encountered in log\n",
      "  result = getattr(ufunc, method)(*inputs, **kwargs)\n"
     ]
    },
    {
     "name": "stdout",
     "output_type": "stream",
     "text": [
      "Step 8730 — Test metrics:\n",
      "  precision@10: 0.013507779\n",
      "  recall@10: 0.013570923\n",
      "  ndcg@10: 0.014250859\n",
      "  map@10: 0.005181598\n",
      "Epoch 292, Step 20, LR: 0.000310, Current Loss: 0.5127, Avg Loss: 0.5308\n",
      "Diff stats — min: -4.4311, max: 10.0000, mean: 7.1312, std: 3.0477\n",
      "\n",
      "Epoch 292 completed, Train Loss: 0.000131\n",
      "\n",
      "Epoch 293, Step 1, LR: 0.000310, Current Loss: 0.5351, Avg Loss: 0.5351\n",
      "Diff stats — min: -4.3378, max: 10.0000, mean: 7.1916, std: 3.0197\n",
      "\n"
     ]
    },
    {
     "name": "stderr",
     "output_type": "stream",
     "text": [
      "/usr/local/lib/python3.11/dist-packages/pandas/core/computation/expressions.py:73: RuntimeWarning: invalid value encountered in less_equal\n",
      "  return op(a, b)\n",
      "/usr/local/lib/python3.11/dist-packages/pandas/core/arraylike.py:399: RuntimeWarning: invalid value encountered in log\n",
      "  result = getattr(ufunc, method)(*inputs, **kwargs)\n"
     ]
    },
    {
     "name": "stdout",
     "output_type": "stream",
     "text": [
      "Step 8760 — Test metrics:\n",
      "  precision@10: 0.013578501\n",
      "  recall@10: 0.013644264\n",
      "  ndcg@10: 0.014166756\n",
      "  map@10: 0.005176338\n",
      "Epoch 293, Step 20, LR: 0.000310, Current Loss: 0.5466, Avg Loss: 0.5287\n",
      "Diff stats — min: -4.1485, max: 10.0000, mean: 7.1583, std: 3.0638\n",
      "\n",
      "Epoch 293 completed, Train Loss: 0.000131\n",
      "\n",
      "Epoch 294, Step 1, LR: 0.000310, Current Loss: 0.5429, Avg Loss: 0.5429\n",
      "Diff stats — min: -5.3924, max: 10.0000, mean: 7.2187, std: 3.0527\n",
      "\n"
     ]
    },
    {
     "name": "stderr",
     "output_type": "stream",
     "text": [
      "/usr/local/lib/python3.11/dist-packages/pandas/core/computation/expressions.py:73: RuntimeWarning: invalid value encountered in less_equal\n",
      "  return op(a, b)\n",
      "/usr/local/lib/python3.11/dist-packages/pandas/core/arraylike.py:399: RuntimeWarning: invalid value encountered in log\n",
      "  result = getattr(ufunc, method)(*inputs, **kwargs)\n"
     ]
    },
    {
     "name": "stdout",
     "output_type": "stream",
     "text": [
      "Step 8790 — Test metrics:\n",
      "  precision@10: 0.013413484\n",
      "  recall@10: 0.013476628\n",
      "  ndcg@10: 0.014123286\n",
      "  map@10: 0.005213671\n",
      "Epoch 294, Step 20, LR: 0.000310, Current Loss: 0.5201, Avg Loss: 0.5303\n",
      "Diff stats — min: -4.6374, max: 10.0000, mean: 7.2178, std: 3.0178\n",
      "\n",
      "Epoch 294 completed, Train Loss: 0.000131\n",
      "\n",
      "Epoch 295, Step 1, LR: 0.000310, Current Loss: 0.5372, Avg Loss: 0.5372\n",
      "Diff stats — min: -5.3902, max: 10.0000, mean: 7.2877, std: 3.0296\n",
      "\n"
     ]
    },
    {
     "name": "stderr",
     "output_type": "stream",
     "text": [
      "/usr/local/lib/python3.11/dist-packages/pandas/core/computation/expressions.py:73: RuntimeWarning: invalid value encountered in less_equal\n",
      "  return op(a, b)\n",
      "/usr/local/lib/python3.11/dist-packages/pandas/core/arraylike.py:399: RuntimeWarning: invalid value encountered in log\n",
      "  result = getattr(ufunc, method)(*inputs, **kwargs)\n"
     ]
    },
    {
     "name": "stdout",
     "output_type": "stream",
     "text": [
      "Step 8820 — Test metrics:\n",
      "  precision@10: 0.013696370\n",
      "  recall@10: 0.013769617\n",
      "  ndcg@10: 0.014405515\n",
      "  map@10: 0.005274244\n",
      "Epoch 295, Step 20, LR: 0.000310, Current Loss: 0.5224, Avg Loss: 0.5289\n",
      "Diff stats — min: -5.9381, max: 10.0000, mean: 7.1716, std: 3.0403\n",
      "\n",
      "Epoch 295 completed, Train Loss: 0.000131\n",
      "\n",
      "Epoch 296, Step 1, LR: 0.000304, Current Loss: 0.5303, Avg Loss: 0.5303\n",
      "Diff stats — min: -4.5077, max: 10.0000, mean: 7.2364, std: 3.0708\n",
      "\n"
     ]
    },
    {
     "name": "stderr",
     "output_type": "stream",
     "text": [
      "/usr/local/lib/python3.11/dist-packages/pandas/core/computation/expressions.py:73: RuntimeWarning: invalid value encountered in less_equal\n",
      "  return op(a, b)\n",
      "/usr/local/lib/python3.11/dist-packages/pandas/core/arraylike.py:399: RuntimeWarning: invalid value encountered in log\n",
      "  result = getattr(ufunc, method)(*inputs, **kwargs)\n"
     ]
    },
    {
     "name": "stdout",
     "output_type": "stream",
     "text": [
      "Step 8850 — Test metrics:\n",
      "  precision@10: 0.013767091\n",
      "  recall@10: 0.013837719\n",
      "  ndcg@10: 0.014540456\n",
      "  map@10: 0.005360679\n",
      "Epoch 296, Step 20, LR: 0.000304, Current Loss: 0.5392, Avg Loss: 0.5289\n",
      "Diff stats — min: -4.7427, max: 10.0000, mean: 7.2429, std: 2.9839\n",
      "\n",
      "Epoch 296 completed, Train Loss: 0.000131\n",
      "\n",
      "Epoch 297, Step 1, LR: 0.000304, Current Loss: 0.5412, Avg Loss: 0.5412\n",
      "Diff stats — min: -7.7106, max: 10.0000, mean: 7.2813, std: 3.0062\n",
      "\n"
     ]
    },
    {
     "name": "stderr",
     "output_type": "stream",
     "text": [
      "/usr/local/lib/python3.11/dist-packages/pandas/core/computation/expressions.py:73: RuntimeWarning: invalid value encountered in less_equal\n",
      "  return op(a, b)\n",
      "/usr/local/lib/python3.11/dist-packages/pandas/core/arraylike.py:399: RuntimeWarning: invalid value encountered in log\n",
      "  result = getattr(ufunc, method)(*inputs, **kwargs)\n"
     ]
    },
    {
     "name": "stdout",
     "output_type": "stream",
     "text": [
      "Step 8880 — Test metrics:\n",
      "  precision@10: 0.014097124\n",
      "  recall@10: 0.014170371\n",
      "  ndcg@10: 0.014587549\n",
      "  map@10: 0.005316303\n",
      "Epoch 297, Step 20, LR: 0.000304, Current Loss: 0.5518, Avg Loss: 0.5313\n",
      "Diff stats — min: -4.9787, max: 10.0000, mean: 7.2653, std: 3.0696\n",
      "\n",
      "Epoch 297 completed, Train Loss: 0.000131\n",
      "\n",
      "Epoch 298, Step 1, LR: 0.000304, Current Loss: 0.5392, Avg Loss: 0.5392\n",
      "Diff stats — min: -5.3473, max: 10.0000, mean: 7.2995, std: 3.0097\n",
      "\n"
     ]
    },
    {
     "name": "stderr",
     "output_type": "stream",
     "text": [
      "/usr/local/lib/python3.11/dist-packages/pandas/core/computation/expressions.py:73: RuntimeWarning: invalid value encountered in less_equal\n",
      "  return op(a, b)\n",
      "/usr/local/lib/python3.11/dist-packages/pandas/core/arraylike.py:399: RuntimeWarning: invalid value encountered in log\n",
      "  result = getattr(ufunc, method)(*inputs, **kwargs)\n"
     ]
    },
    {
     "name": "stdout",
     "output_type": "stream",
     "text": [
      "Step 8910 — Test metrics:\n",
      "  precision@10: 0.013578501\n",
      "  recall@10: 0.013651748\n",
      "  ndcg@10: 0.014262852\n",
      "  map@10: 0.005193666\n",
      "Epoch 298, Step 20, LR: 0.000304, Current Loss: 0.5268, Avg Loss: 0.5295\n",
      "Diff stats — min: -6.1563, max: 10.0000, mean: 7.2166, std: 3.0546\n",
      "\n",
      "Epoch 298 completed, Train Loss: 0.000131\n",
      "\n",
      "Epoch 299, Step 1, LR: 0.000304, Current Loss: 0.5266, Avg Loss: 0.5266\n",
      "Diff stats — min: -5.2234, max: 10.0000, mean: 7.2348, std: 2.9972\n",
      "\n"
     ]
    },
    {
     "name": "stderr",
     "output_type": "stream",
     "text": [
      "/usr/local/lib/python3.11/dist-packages/pandas/core/computation/expressions.py:73: RuntimeWarning: invalid value encountered in less_equal\n",
      "  return op(a, b)\n",
      "/usr/local/lib/python3.11/dist-packages/pandas/core/arraylike.py:399: RuntimeWarning: invalid value encountered in log\n",
      "  result = getattr(ufunc, method)(*inputs, **kwargs)\n"
     ]
    },
    {
     "name": "stdout",
     "output_type": "stream",
     "text": [
      "Step 8940 — Test metrics:\n",
      "  precision@10: 0.013861386\n",
      "  recall@10: 0.013924530\n",
      "  ndcg@10: 0.014561615\n",
      "  map@10: 0.005323925\n",
      "Epoch 299, Step 20, LR: 0.000304, Current Loss: 0.5511, Avg Loss: 0.5301\n",
      "Diff stats — min: -5.0494, max: 10.0000, mean: 7.1892, std: 3.0488\n",
      "\n",
      "Epoch 299 completed, Train Loss: 0.000131\n",
      "\n",
      "Epoch 300, Step 1, LR: 0.000304, Current Loss: 0.5175, Avg Loss: 0.5175\n",
      "Diff stats — min: -4.8148, max: 10.0000, mean: 7.2636, std: 3.0293\n",
      "\n"
     ]
    },
    {
     "name": "stderr",
     "output_type": "stream",
     "text": [
      "/usr/local/lib/python3.11/dist-packages/pandas/core/computation/expressions.py:73: RuntimeWarning: invalid value encountered in less_equal\n",
      "  return op(a, b)\n",
      "/usr/local/lib/python3.11/dist-packages/pandas/core/arraylike.py:399: RuntimeWarning: invalid value encountered in log\n",
      "  result = getattr(ufunc, method)(*inputs, **kwargs)\n"
     ]
    },
    {
     "name": "stdout",
     "output_type": "stream",
     "text": [
      "Step 8970 — Test metrics:\n",
      "  precision@10: 0.013554927\n",
      "  recall@10: 0.013625555\n",
      "  ndcg@10: 0.014154289\n",
      "  map@10: 0.005106207\n",
      "Epoch 300, Step 20, LR: 0.000304, Current Loss: 0.5392, Avg Loss: 0.5299\n",
      "Diff stats — min: -6.6403, max: 10.0000, mean: 7.2553, std: 3.0929\n",
      "\n",
      "Epoch 300 completed, Train Loss: 0.000130\n",
      "\n",
      "Epoch 301, Step 1, LR: 0.000298, Current Loss: 0.5248, Avg Loss: 0.5248\n",
      "Diff stats — min: -5.9251, max: 10.0000, mean: 7.2721, std: 3.0439\n",
      "\n"
     ]
    },
    {
     "name": "stderr",
     "output_type": "stream",
     "text": [
      "/usr/local/lib/python3.11/dist-packages/pandas/core/computation/expressions.py:73: RuntimeWarning: invalid value encountered in less_equal\n",
      "  return op(a, b)\n",
      "/usr/local/lib/python3.11/dist-packages/pandas/core/arraylike.py:399: RuntimeWarning: invalid value encountered in log\n",
      "  result = getattr(ufunc, method)(*inputs, **kwargs)\n"
     ]
    },
    {
     "name": "stdout",
     "output_type": "stream",
     "text": [
      "Step 9000 — Test metrics:\n",
      "  precision@10: 0.013908534\n",
      "  recall@10: 0.013984400\n",
      "  ndcg@10: 0.014610340\n",
      "  map@10: 0.005323246\n",
      "Epoch 301, Step 20, LR: 0.000298, Current Loss: 0.5318, Avg Loss: 0.5284\n",
      "Diff stats — min: -4.8508, max: 10.0000, mean: 7.2662, std: 3.0207\n",
      "\n",
      "Epoch 301 completed, Train Loss: 0.000131\n",
      "\n",
      "Epoch 302, Step 1, LR: 0.000298, Current Loss: 0.5229, Avg Loss: 0.5229\n",
      "Diff stats — min: -5.3667, max: 10.0000, mean: 7.2703, std: 3.0299\n",
      "\n"
     ]
    },
    {
     "name": "stderr",
     "output_type": "stream",
     "text": [
      "/usr/local/lib/python3.11/dist-packages/pandas/core/computation/expressions.py:73: RuntimeWarning: invalid value encountered in less_equal\n",
      "  return op(a, b)\n",
      "/usr/local/lib/python3.11/dist-packages/pandas/core/arraylike.py:399: RuntimeWarning: invalid value encountered in log\n",
      "  result = getattr(ufunc, method)(*inputs, **kwargs)\n"
     ]
    },
    {
     "name": "stdout",
     "output_type": "stream",
     "text": [
      "Step 9030 — Test metrics:\n",
      "  precision@10: 0.014049976\n",
      "  recall@10: 0.014120604\n",
      "  ndcg@10: 0.014737434\n",
      "  map@10: 0.005383582\n",
      "Epoch 302, Step 20, LR: 0.000298, Current Loss: 0.5263, Avg Loss: 0.5277\n",
      "Diff stats — min: -8.5491, max: 10.0000, mean: 7.2795, std: 3.0392\n",
      "\n",
      "Epoch 302 completed, Train Loss: 0.000130\n",
      "\n",
      "Epoch 303, Step 1, LR: 0.000298, Current Loss: 0.5233, Avg Loss: 0.5233\n",
      "Diff stats — min: -3.7933, max: 10.0000, mean: 7.3695, std: 2.9800\n",
      "\n"
     ]
    },
    {
     "name": "stderr",
     "output_type": "stream",
     "text": [
      "/usr/local/lib/python3.11/dist-packages/pandas/core/computation/expressions.py:73: RuntimeWarning: invalid value encountered in less_equal\n",
      "  return op(a, b)\n",
      "/usr/local/lib/python3.11/dist-packages/pandas/core/arraylike.py:399: RuntimeWarning: invalid value encountered in log\n",
      "  result = getattr(ufunc, method)(*inputs, **kwargs)\n"
     ]
    },
    {
     "name": "stdout",
     "output_type": "stream",
     "text": [
      "Step 9060 — Test metrics:\n",
      "  precision@10: 0.014097124\n",
      "  recall@10: 0.014167752\n",
      "  ndcg@10: 0.014759990\n",
      "  map@10: 0.005452913\n",
      "Epoch 303, Step 20, LR: 0.000298, Current Loss: 0.5392, Avg Loss: 0.5272\n",
      "Diff stats — min: -6.0148, max: 10.0000, mean: 7.3094, std: 3.0538\n",
      "\n",
      "Epoch 303 completed, Train Loss: 0.000130\n",
      "\n",
      "Epoch 304, Step 1, LR: 0.000298, Current Loss: 0.5165, Avg Loss: 0.5165\n",
      "Diff stats — min: -6.8307, max: 10.0000, mean: 7.3140, std: 2.9885\n",
      "\n"
     ]
    },
    {
     "name": "stderr",
     "output_type": "stream",
     "text": [
      "/usr/local/lib/python3.11/dist-packages/pandas/core/computation/expressions.py:73: RuntimeWarning: invalid value encountered in less_equal\n",
      "  return op(a, b)\n",
      "/usr/local/lib/python3.11/dist-packages/pandas/core/arraylike.py:399: RuntimeWarning: invalid value encountered in log\n",
      "  result = getattr(ufunc, method)(*inputs, **kwargs)\n"
     ]
    },
    {
     "name": "stdout",
     "output_type": "stream",
     "text": [
      "Step 9090 — Test metrics:\n",
      "  precision@10: 0.013979255\n",
      "  recall@10: 0.014049883\n",
      "  ndcg@10: 0.014598689\n",
      "  map@10: 0.005309909\n",
      "Epoch 304, Step 20, LR: 0.000298, Current Loss: 0.5400, Avg Loss: 0.5277\n",
      "Diff stats — min: -6.2519, max: 10.0000, mean: 7.2300, std: 3.0575\n",
      "\n",
      "Epoch 304 completed, Train Loss: 0.000131\n",
      "\n",
      "Epoch 305, Step 1, LR: 0.000298, Current Loss: 0.5446, Avg Loss: 0.5446\n",
      "Diff stats — min: -6.2031, max: 10.0000, mean: 7.2094, std: 3.0976\n",
      "\n"
     ]
    },
    {
     "name": "stderr",
     "output_type": "stream",
     "text": [
      "/usr/local/lib/python3.11/dist-packages/pandas/core/computation/expressions.py:73: RuntimeWarning: invalid value encountered in less_equal\n",
      "  return op(a, b)\n",
      "/usr/local/lib/python3.11/dist-packages/pandas/core/arraylike.py:399: RuntimeWarning: invalid value encountered in log\n",
      "  result = getattr(ufunc, method)(*inputs, **kwargs)\n"
     ]
    },
    {
     "name": "stdout",
     "output_type": "stream",
     "text": [
      "Step 9120 — Test metrics:\n",
      "  precision@10: 0.014285714\n",
      "  recall@10: 0.014358961\n",
      "  ndcg@10: 0.014947106\n",
      "  map@10: 0.005504201\n",
      "Epoch 305, Step 20, LR: 0.000298, Current Loss: 0.5191, Avg Loss: 0.5273\n",
      "Diff stats — min: -5.4043, max: 10.0000, mean: 7.3468, std: 3.0076\n",
      "\n",
      "Epoch 305 completed, Train Loss: 0.000131\n",
      "\n",
      "Epoch 306, Step 1, LR: 0.000292, Current Loss: 0.5142, Avg Loss: 0.5142\n",
      "Diff stats — min: -6.0682, max: 10.0000, mean: 7.3334, std: 3.0000\n",
      "\n"
     ]
    },
    {
     "name": "stderr",
     "output_type": "stream",
     "text": [
      "/usr/local/lib/python3.11/dist-packages/pandas/core/computation/expressions.py:73: RuntimeWarning: invalid value encountered in less_equal\n",
      "  return op(a, b)\n",
      "/usr/local/lib/python3.11/dist-packages/pandas/core/arraylike.py:399: RuntimeWarning: invalid value encountered in log\n",
      "  result = getattr(ufunc, method)(*inputs, **kwargs)\n"
     ]
    },
    {
     "name": "stdout",
     "output_type": "stream",
     "text": [
      "Step 9150 — Test metrics:\n",
      "  precision@10: 0.014262140\n",
      "  recall@10: 0.014325285\n",
      "  ndcg@10: 0.014940847\n",
      "  map@10: 0.005488438\n",
      "Epoch 306, Step 20, LR: 0.000292, Current Loss: 0.5235, Avg Loss: 0.5284\n",
      "Diff stats — min: -5.0800, max: 10.0000, mean: 7.2841, std: 2.9781\n",
      "\n",
      "Epoch 306 completed, Train Loss: 0.000131\n",
      "\n",
      "Epoch 307, Step 1, LR: 0.000292, Current Loss: 0.5093, Avg Loss: 0.5093\n",
      "Diff stats — min: -5.2595, max: 10.0000, mean: 7.2846, std: 2.9997\n",
      "\n"
     ]
    },
    {
     "name": "stderr",
     "output_type": "stream",
     "text": [
      "/usr/local/lib/python3.11/dist-packages/pandas/core/computation/expressions.py:73: RuntimeWarning: invalid value encountered in less_equal\n",
      "  return op(a, b)\n",
      "/usr/local/lib/python3.11/dist-packages/pandas/core/arraylike.py:399: RuntimeWarning: invalid value encountered in log\n",
      "  result = getattr(ufunc, method)(*inputs, **kwargs)\n"
     ]
    },
    {
     "name": "stdout",
     "output_type": "stream",
     "text": [
      "Step 9180 — Test metrics:\n",
      "  precision@10: 0.014427157\n",
      "  recall@10: 0.014505643\n",
      "  ndcg@10: 0.015152972\n",
      "  map@10: 0.005635586\n",
      "Epoch 307, Step 20, LR: 0.000292, Current Loss: 0.5430, Avg Loss: 0.5278\n",
      "Diff stats — min: -9.3358, max: 10.0000, mean: 7.3818, std: 3.0333\n",
      "\n",
      "Epoch 307 completed, Train Loss: 0.000130\n",
      "\n",
      "Epoch 308, Step 1, LR: 0.000292, Current Loss: 0.5186, Avg Loss: 0.5186\n",
      "Diff stats — min: -6.0844, max: 10.0000, mean: 7.3209, std: 3.0055\n",
      "\n"
     ]
    },
    {
     "name": "stderr",
     "output_type": "stream",
     "text": [
      "/usr/local/lib/python3.11/dist-packages/pandas/core/computation/expressions.py:73: RuntimeWarning: invalid value encountered in less_equal\n",
      "  return op(a, b)\n",
      "/usr/local/lib/python3.11/dist-packages/pandas/core/arraylike.py:399: RuntimeWarning: invalid value encountered in log\n",
      "  result = getattr(ufunc, method)(*inputs, **kwargs)\n"
     ]
    },
    {
     "name": "stdout",
     "output_type": "stream",
     "text": [
      "Step 9210 — Test metrics:\n",
      "  precision@10: 0.014191419\n",
      "  recall@10: 0.014264666\n",
      "  ndcg@10: 0.014846961\n",
      "  map@10: 0.005475853\n",
      "Epoch 308, Step 20, LR: 0.000292, Current Loss: 0.5330, Avg Loss: 0.5289\n",
      "Diff stats — min: -4.9841, max: 10.0000, mean: 7.2425, std: 3.0364\n",
      "\n",
      "Epoch 308 completed, Train Loss: 0.000130\n",
      "\n",
      "Epoch 309, Step 1, LR: 0.000292, Current Loss: 0.5085, Avg Loss: 0.5085\n",
      "Diff stats — min: -5.9943, max: 10.0000, mean: 7.2680, std: 2.9903\n",
      "\n"
     ]
    },
    {
     "name": "stderr",
     "output_type": "stream",
     "text": [
      "/usr/local/lib/python3.11/dist-packages/pandas/core/computation/expressions.py:73: RuntimeWarning: invalid value encountered in less_equal\n",
      "  return op(a, b)\n",
      "/usr/local/lib/python3.11/dist-packages/pandas/core/arraylike.py:399: RuntimeWarning: invalid value encountered in log\n",
      "  result = getattr(ufunc, method)(*inputs, **kwargs)\n"
     ]
    },
    {
     "name": "stdout",
     "output_type": "stream",
     "text": [
      "Step 9240 — Test metrics:\n",
      "  precision@10: 0.014214993\n",
      "  recall@10: 0.014288240\n",
      "  ndcg@10: 0.014997351\n",
      "  map@10: 0.005573680\n",
      "Epoch 309, Step 20, LR: 0.000292, Current Loss: 0.5323, Avg Loss: 0.5300\n",
      "Diff stats — min: -6.8314, max: 10.0000, mean: 7.3467, std: 3.0188\n",
      "\n",
      "Epoch 309 completed, Train Loss: 0.000130\n",
      "\n",
      "Epoch 310, Step 1, LR: 0.000292, Current Loss: 0.5112, Avg Loss: 0.5112\n",
      "Diff stats — min: -7.4794, max: 10.0000, mean: 7.2329, std: 3.0394\n",
      "\n"
     ]
    },
    {
     "name": "stderr",
     "output_type": "stream",
     "text": [
      "/usr/local/lib/python3.11/dist-packages/pandas/core/computation/expressions.py:73: RuntimeWarning: invalid value encountered in less_equal\n",
      "  return op(a, b)\n",
      "/usr/local/lib/python3.11/dist-packages/pandas/core/arraylike.py:399: RuntimeWarning: invalid value encountered in log\n",
      "  result = getattr(ufunc, method)(*inputs, **kwargs)\n"
     ]
    },
    {
     "name": "stdout",
     "output_type": "stream",
     "text": [
      "Step 9270 — Test metrics:\n",
      "  precision@10: 0.014049976\n",
      "  recall@10: 0.014110501\n",
      "  ndcg@10: 0.014813208\n",
      "  map@10: 0.005507301\n",
      "Epoch 310, Step 20, LR: 0.000292, Current Loss: 0.5368, Avg Loss: 0.5288\n",
      "Diff stats — min: -6.7973, max: 10.0000, mean: 7.1812, std: 3.0747\n",
      "\n",
      "Epoch 310 completed, Train Loss: 0.000130\n",
      "\n",
      "Epoch 311, Step 1, LR: 0.000286, Current Loss: 0.5354, Avg Loss: 0.5354\n",
      "Diff stats — min: -7.7590, max: 10.0000, mean: 7.3367, std: 3.0023\n",
      "\n"
     ]
    },
    {
     "name": "stderr",
     "output_type": "stream",
     "text": [
      "/usr/local/lib/python3.11/dist-packages/pandas/core/computation/expressions.py:73: RuntimeWarning: invalid value encountered in less_equal\n",
      "  return op(a, b)\n",
      "/usr/local/lib/python3.11/dist-packages/pandas/core/arraylike.py:399: RuntimeWarning: invalid value encountered in log\n",
      "  result = getattr(ufunc, method)(*inputs, **kwargs)\n"
     ]
    },
    {
     "name": "stdout",
     "output_type": "stream",
     "text": [
      "Step 9300 — Test metrics:\n",
      "  precision@10: 0.014191419\n",
      "  recall@10: 0.014267286\n",
      "  ndcg@10: 0.014871468\n",
      "  map@10: 0.005543737\n",
      "Epoch 311, Step 20, LR: 0.000286, Current Loss: 0.5352, Avg Loss: 0.5270\n",
      "Diff stats — min: -4.9418, max: 10.0000, mean: 7.2998, std: 3.0403\n",
      "\n",
      "Epoch 311 completed, Train Loss: 0.000130\n",
      "\n",
      "Epoch 312, Step 1, LR: 0.000286, Current Loss: 0.5303, Avg Loss: 0.5303\n",
      "Diff stats — min: -5.5232, max: 10.0000, mean: 7.3065, std: 3.0166\n",
      "\n"
     ]
    },
    {
     "name": "stderr",
     "output_type": "stream",
     "text": [
      "/usr/local/lib/python3.11/dist-packages/pandas/core/computation/expressions.py:73: RuntimeWarning: invalid value encountered in less_equal\n",
      "  return op(a, b)\n",
      "/usr/local/lib/python3.11/dist-packages/pandas/core/arraylike.py:399: RuntimeWarning: invalid value encountered in log\n",
      "  result = getattr(ufunc, method)(*inputs, **kwargs)\n"
     ]
    },
    {
     "name": "stdout",
     "output_type": "stream",
     "text": [
      "Step 9330 — Test metrics:\n",
      "  precision@10: 0.014356436\n",
      "  recall@10: 0.014432302\n",
      "  ndcg@10: 0.015069441\n",
      "  map@10: 0.005599715\n",
      "Epoch 312, Step 20, LR: 0.000286, Current Loss: 0.5378, Avg Loss: 0.5285\n",
      "Diff stats — min: -6.0558, max: 10.0000, mean: 7.2725, std: 3.0632\n",
      "\n",
      "Epoch 312 completed, Train Loss: 0.000130\n",
      "\n",
      "Epoch 313, Step 1, LR: 0.000286, Current Loss: 0.5336, Avg Loss: 0.5336\n",
      "Diff stats — min: -4.9468, max: 10.0000, mean: 7.3377, std: 3.0296\n",
      "\n"
     ]
    },
    {
     "name": "stderr",
     "output_type": "stream",
     "text": [
      "/usr/local/lib/python3.11/dist-packages/pandas/core/computation/expressions.py:73: RuntimeWarning: invalid value encountered in less_equal\n",
      "  return op(a, b)\n",
      "/usr/local/lib/python3.11/dist-packages/pandas/core/arraylike.py:399: RuntimeWarning: invalid value encountered in log\n",
      "  result = getattr(ufunc, method)(*inputs, **kwargs)\n"
     ]
    },
    {
     "name": "stdout",
     "output_type": "stream",
     "text": [
      "Step 9360 — Test metrics:\n",
      "  precision@10: 0.014191419\n",
      "  recall@10: 0.014257183\n",
      "  ndcg@10: 0.014925923\n",
      "  map@10: 0.005554997\n",
      "Epoch 313, Step 20, LR: 0.000286, Current Loss: 0.5293, Avg Loss: 0.5270\n",
      "Diff stats — min: -6.3515, max: 10.0000, mean: 7.3106, std: 3.0596\n",
      "\n",
      "Epoch 313 completed, Train Loss: 0.000130\n",
      "\n",
      "Epoch 314, Step 1, LR: 0.000286, Current Loss: 0.5133, Avg Loss: 0.5133\n",
      "Diff stats — min: -6.5333, max: 10.0000, mean: 7.3710, std: 3.0372\n",
      "\n"
     ]
    },
    {
     "name": "stderr",
     "output_type": "stream",
     "text": [
      "/usr/local/lib/python3.11/dist-packages/pandas/core/computation/expressions.py:73: RuntimeWarning: invalid value encountered in less_equal\n",
      "  return op(a, b)\n",
      "/usr/local/lib/python3.11/dist-packages/pandas/core/arraylike.py:399: RuntimeWarning: invalid value encountered in log\n",
      "  result = getattr(ufunc, method)(*inputs, **kwargs)\n"
     ]
    },
    {
     "name": "stdout",
     "output_type": "stream",
     "text": [
      "Step 9390 — Test metrics:\n",
      "  precision@10: 0.014356436\n",
      "  recall@10: 0.014434921\n",
      "  ndcg@10: 0.014888496\n",
      "  map@10: 0.005559175\n",
      "Epoch 314, Step 20, LR: 0.000286, Current Loss: 0.5375, Avg Loss: 0.5275\n",
      "Diff stats — min: -6.2538, max: 10.0000, mean: 7.2784, std: 3.0436\n",
      "\n",
      "Epoch 314 completed, Train Loss: 0.000130\n",
      "\n",
      "Epoch 315, Step 1, LR: 0.000286, Current Loss: 0.5193, Avg Loss: 0.5193\n",
      "Diff stats — min: -4.7484, max: 10.0000, mean: 7.3210, std: 2.9913\n",
      "\n"
     ]
    },
    {
     "name": "stderr",
     "output_type": "stream",
     "text": [
      "/usr/local/lib/python3.11/dist-packages/pandas/core/computation/expressions.py:73: RuntimeWarning: invalid value encountered in less_equal\n",
      "  return op(a, b)\n",
      "/usr/local/lib/python3.11/dist-packages/pandas/core/arraylike.py:399: RuntimeWarning: invalid value encountered in log\n",
      "  result = getattr(ufunc, method)(*inputs, **kwargs)\n"
     ]
    },
    {
     "name": "stdout",
     "output_type": "stream",
     "text": [
      "Step 9420 — Test metrics:\n",
      "  precision@10: 0.014285714\n",
      "  recall@10: 0.014364200\n",
      "  ndcg@10: 0.014870151\n",
      "  map@10: 0.005505154\n",
      "Epoch 315, Step 20, LR: 0.000286, Current Loss: 0.5242, Avg Loss: 0.5264\n",
      "Diff stats — min: -5.3588, max: 10.0000, mean: 7.2954, std: 3.0277\n",
      "\n",
      "Epoch 315 completed, Train Loss: 0.000130\n",
      "\n",
      "Epoch 316, Step 1, LR: 0.000280, Current Loss: 0.5352, Avg Loss: 0.5352\n",
      "Diff stats — min: -7.2997, max: 10.0000, mean: 7.3350, std: 2.9707\n",
      "\n"
     ]
    },
    {
     "name": "stderr",
     "output_type": "stream",
     "text": [
      "/usr/local/lib/python3.11/dist-packages/pandas/core/computation/expressions.py:73: RuntimeWarning: invalid value encountered in less_equal\n",
      "  return op(a, b)\n",
      "/usr/local/lib/python3.11/dist-packages/pandas/core/arraylike.py:399: RuntimeWarning: invalid value encountered in log\n",
      "  result = getattr(ufunc, method)(*inputs, **kwargs)\n"
     ]
    },
    {
     "name": "stdout",
     "output_type": "stream",
     "text": [
      "Step 9450 — Test metrics:\n",
      "  precision@10: 0.014427157\n",
      "  recall@10: 0.014503023\n",
      "  ndcg@10: 0.015212373\n",
      "  map@10: 0.005661189\n",
      "Epoch 316, Step 20, LR: 0.000280, Current Loss: 0.5119, Avg Loss: 0.5263\n",
      "Diff stats — min: -7.1098, max: 10.0000, mean: 7.3207, std: 2.9832\n",
      "\n",
      "Epoch 316 completed, Train Loss: 0.000130\n",
      "\n",
      "Epoch 317, Step 1, LR: 0.000280, Current Loss: 0.5315, Avg Loss: 0.5315\n",
      "Diff stats — min: -5.3365, max: 10.0000, mean: 7.3340, std: 3.0118\n",
      "\n"
     ]
    },
    {
     "name": "stderr",
     "output_type": "stream",
     "text": [
      "/usr/local/lib/python3.11/dist-packages/pandas/core/computation/expressions.py:73: RuntimeWarning: invalid value encountered in less_equal\n",
      "  return op(a, b)\n",
      "/usr/local/lib/python3.11/dist-packages/pandas/core/arraylike.py:399: RuntimeWarning: invalid value encountered in log\n",
      "  result = getattr(ufunc, method)(*inputs, **kwargs)\n"
     ]
    },
    {
     "name": "stdout",
     "output_type": "stream",
     "text": [
      "Step 9480 — Test metrics:\n",
      "  precision@10: 0.014497878\n",
      "  recall@10: 0.014566261\n",
      "  ndcg@10: 0.015129433\n",
      "  map@10: 0.005588653\n",
      "Epoch 317, Step 20, LR: 0.000280, Current Loss: 0.5239, Avg Loss: 0.5251\n",
      "Diff stats — min: -4.1800, max: 10.0000, mean: 7.3351, std: 3.0112\n",
      "\n",
      "Epoch 317 completed, Train Loss: 0.000130\n",
      "\n",
      "Epoch 318, Step 1, LR: 0.000280, Current Loss: 0.5207, Avg Loss: 0.5207\n",
      "Diff stats — min: -4.3286, max: 10.0000, mean: 7.3799, std: 2.9866\n",
      "\n"
     ]
    },
    {
     "name": "stderr",
     "output_type": "stream",
     "text": [
      "/usr/local/lib/python3.11/dist-packages/pandas/core/computation/expressions.py:73: RuntimeWarning: invalid value encountered in less_equal\n",
      "  return op(a, b)\n",
      "/usr/local/lib/python3.11/dist-packages/pandas/core/arraylike.py:399: RuntimeWarning: invalid value encountered in log\n",
      "  result = getattr(ufunc, method)(*inputs, **kwargs)\n"
     ]
    },
    {
     "name": "stdout",
     "output_type": "stream",
     "text": [
      "Step 9510 — Test metrics:\n",
      "  precision@10: 0.014922207\n",
      "  recall@10: 0.015000692\n",
      "  ndcg@10: 0.015549236\n",
      "  map@10: 0.005803825\n",
      "Epoch 318, Step 20, LR: 0.000280, Current Loss: 0.5296, Avg Loss: 0.5262\n",
      "Diff stats — min: -5.3916, max: 10.0000, mean: 7.3169, std: 3.0588\n",
      "\n",
      "Epoch 318 completed, Train Loss: 0.000130\n",
      "\n",
      "Epoch 319, Step 1, LR: 0.000280, Current Loss: 0.5191, Avg Loss: 0.5191\n",
      "Diff stats — min: -8.2472, max: 10.0000, mean: 7.4062, std: 3.0298\n",
      "\n"
     ]
    },
    {
     "name": "stderr",
     "output_type": "stream",
     "text": [
      "/usr/local/lib/python3.11/dist-packages/pandas/core/computation/expressions.py:73: RuntimeWarning: invalid value encountered in less_equal\n",
      "  return op(a, b)\n",
      "/usr/local/lib/python3.11/dist-packages/pandas/core/arraylike.py:399: RuntimeWarning: invalid value encountered in log\n",
      "  result = getattr(ufunc, method)(*inputs, **kwargs)\n"
     ]
    },
    {
     "name": "stdout",
     "output_type": "stream",
     "text": [
      "Step 9540 — Test metrics:\n",
      "  precision@10: 0.014450731\n",
      "  recall@10: 0.014531836\n",
      "  ndcg@10: 0.014970570\n",
      "  map@10: 0.005542245\n",
      "Epoch 319, Step 20, LR: 0.000280, Current Loss: 0.5296, Avg Loss: 0.5290\n",
      "Diff stats — min: -7.9049, max: 10.0000, mean: 7.3790, std: 2.9796\n",
      "\n",
      "Epoch 319 completed, Train Loss: 0.000130\n",
      "\n",
      "Epoch 320, Step 1, LR: 0.000280, Current Loss: 0.5241, Avg Loss: 0.5241\n",
      "Diff stats — min: -6.3352, max: 10.0000, mean: 7.3272, std: 3.0159\n",
      "\n"
     ]
    },
    {
     "name": "stderr",
     "output_type": "stream",
     "text": [
      "/usr/local/lib/python3.11/dist-packages/pandas/core/computation/expressions.py:73: RuntimeWarning: invalid value encountered in less_equal\n",
      "  return op(a, b)\n",
      "/usr/local/lib/python3.11/dist-packages/pandas/core/arraylike.py:399: RuntimeWarning: invalid value encountered in log\n",
      "  result = getattr(ufunc, method)(*inputs, **kwargs)\n"
     ]
    },
    {
     "name": "stdout",
     "output_type": "stream",
     "text": [
      "Step 9570 — Test metrics:\n",
      "  precision@10: 0.014710042\n",
      "  recall@10: 0.014775806\n",
      "  ndcg@10: 0.015296521\n",
      "  map@10: 0.005651760\n",
      "Epoch 320, Step 20, LR: 0.000280, Current Loss: 0.5204, Avg Loss: 0.5275\n",
      "Diff stats — min: -4.1654, max: 10.0000, mean: 7.4402, std: 2.9787\n",
      "\n",
      "Epoch 320 completed, Train Loss: 0.000130\n",
      "\n",
      "Epoch 321, Step 1, LR: 0.000274, Current Loss: 0.5075, Avg Loss: 0.5075\n",
      "Diff stats — min: -6.7404, max: 10.0000, mean: 7.4065, std: 2.9938\n",
      "\n"
     ]
    },
    {
     "name": "stderr",
     "output_type": "stream",
     "text": [
      "/usr/local/lib/python3.11/dist-packages/pandas/core/computation/expressions.py:73: RuntimeWarning: invalid value encountered in less_equal\n",
      "  return op(a, b)\n",
      "/usr/local/lib/python3.11/dist-packages/pandas/core/arraylike.py:399: RuntimeWarning: invalid value encountered in log\n",
      "  result = getattr(ufunc, method)(*inputs, **kwargs)\n"
     ]
    },
    {
     "name": "stdout",
     "output_type": "stream",
     "text": [
      "Step 9600 — Test metrics:\n",
      "  precision@10: 0.014615747\n",
      "  recall@10: 0.014684130\n",
      "  ndcg@10: 0.015147043\n",
      "  map@10: 0.005591187\n",
      "Epoch 321, Step 20, LR: 0.000274, Current Loss: 0.5268, Avg Loss: 0.5262\n",
      "Diff stats — min: -4.9060, max: 10.0000, mean: 7.3745, std: 3.0438\n",
      "\n",
      "Epoch 321 completed, Train Loss: 0.000130\n",
      "\n",
      "Epoch 322, Step 1, LR: 0.000274, Current Loss: 0.5091, Avg Loss: 0.5091\n",
      "Diff stats — min: -5.3560, max: 10.0000, mean: 7.3859, std: 3.0016\n",
      "\n"
     ]
    },
    {
     "name": "stderr",
     "output_type": "stream",
     "text": [
      "/usr/local/lib/python3.11/dist-packages/pandas/core/computation/expressions.py:73: RuntimeWarning: invalid value encountered in less_equal\n",
      "  return op(a, b)\n",
      "/usr/local/lib/python3.11/dist-packages/pandas/core/arraylike.py:399: RuntimeWarning: invalid value encountered in log\n",
      "  result = getattr(ufunc, method)(*inputs, **kwargs)\n"
     ]
    },
    {
     "name": "stdout",
     "output_type": "stream",
     "text": [
      "Step 9630 — Test metrics:\n",
      "  precision@10: 0.014733616\n",
      "  recall@10: 0.014796760\n",
      "  ndcg@10: 0.015266271\n",
      "  map@10: 0.005583414\n",
      "Epoch 322, Step 20, LR: 0.000274, Current Loss: 0.5158, Avg Loss: 0.5254\n",
      "Diff stats — min: -4.6623, max: 10.0000, mean: 7.2815, std: 3.0526\n",
      "\n",
      "Epoch 322 completed, Train Loss: 0.000130\n",
      "\n",
      "Epoch 323, Step 1, LR: 0.000274, Current Loss: 0.5417, Avg Loss: 0.5417\n",
      "Diff stats — min: -5.8941, max: 10.0000, mean: 7.3539, std: 3.0385\n",
      "\n"
     ]
    },
    {
     "name": "stderr",
     "output_type": "stream",
     "text": [
      "/usr/local/lib/python3.11/dist-packages/pandas/core/computation/expressions.py:73: RuntimeWarning: invalid value encountered in less_equal\n",
      "  return op(a, b)\n",
      "/usr/local/lib/python3.11/dist-packages/pandas/core/arraylike.py:399: RuntimeWarning: invalid value encountered in log\n",
      "  result = getattr(ufunc, method)(*inputs, **kwargs)\n"
     ]
    },
    {
     "name": "stdout",
     "output_type": "stream",
     "text": [
      "Step 9660 — Test metrics:\n",
      "  precision@10: 0.014568600\n",
      "  recall@10: 0.014631744\n",
      "  ndcg@10: 0.015272328\n",
      "  map@10: 0.005660016\n",
      "Epoch 323, Step 20, LR: 0.000274, Current Loss: 0.5312, Avg Loss: 0.5263\n",
      "Diff stats — min: -4.9258, max: 10.0000, mean: 7.4187, std: 2.9989\n",
      "\n",
      "Epoch 323 completed, Train Loss: 0.000130\n",
      "\n",
      "Epoch 324, Step 1, LR: 0.000274, Current Loss: 0.5194, Avg Loss: 0.5194\n",
      "Diff stats — min: -5.1872, max: 10.0000, mean: 7.4286, std: 2.9731\n",
      "\n"
     ]
    },
    {
     "name": "stderr",
     "output_type": "stream",
     "text": [
      "/usr/local/lib/python3.11/dist-packages/pandas/core/computation/expressions.py:73: RuntimeWarning: invalid value encountered in less_equal\n",
      "  return op(a, b)\n",
      "/usr/local/lib/python3.11/dist-packages/pandas/core/arraylike.py:399: RuntimeWarning: invalid value encountered in log\n",
      "  result = getattr(ufunc, method)(*inputs, **kwargs)\n"
     ]
    },
    {
     "name": "stdout",
     "output_type": "stream",
     "text": [
      "Step 9690 — Test metrics:\n",
      "  precision@10: 0.014804338\n",
      "  recall@10: 0.014880204\n",
      "  ndcg@10: 0.015388410\n",
      "  map@10: 0.005698339\n",
      "Epoch 324, Step 20, LR: 0.000274, Current Loss: 0.5188, Avg Loss: 0.5230\n",
      "Diff stats — min: -3.9562, max: 10.0000, mean: 7.4211, std: 2.9670\n",
      "\n",
      "Epoch 324 completed, Train Loss: 0.000130\n",
      "\n",
      "Epoch 325, Step 1, LR: 0.000274, Current Loss: 0.5319, Avg Loss: 0.5319\n",
      "Diff stats — min: -5.2011, max: 10.0000, mean: 7.3479, std: 2.9717\n",
      "\n"
     ]
    },
    {
     "name": "stderr",
     "output_type": "stream",
     "text": [
      "/usr/local/lib/python3.11/dist-packages/pandas/core/computation/expressions.py:73: RuntimeWarning: invalid value encountered in less_equal\n",
      "  return op(a, b)\n",
      "/usr/local/lib/python3.11/dist-packages/pandas/core/arraylike.py:399: RuntimeWarning: invalid value encountered in log\n",
      "  result = getattr(ufunc, method)(*inputs, **kwargs)\n"
     ]
    },
    {
     "name": "stdout",
     "output_type": "stream",
     "text": [
      "Step 9720 — Test metrics:\n",
      "  precision@10: 0.014427157\n",
      "  recall@10: 0.014503023\n",
      "  ndcg@10: 0.015120694\n",
      "  map@10: 0.005614338\n",
      "Epoch 325, Step 20, LR: 0.000274, Current Loss: 0.5398, Avg Loss: 0.5263\n",
      "Diff stats — min: -5.7445, max: 10.0000, mean: 7.3028, std: 3.0589\n",
      "\n",
      "Epoch 325 completed, Train Loss: 0.000130\n",
      "\n",
      "Epoch 326, Step 1, LR: 0.000269, Current Loss: 0.5183, Avg Loss: 0.5183\n",
      "Diff stats — min: -5.9588, max: 10.0000, mean: 7.3524, std: 2.9689\n",
      "\n"
     ]
    },
    {
     "name": "stderr",
     "output_type": "stream",
     "text": [
      "/usr/local/lib/python3.11/dist-packages/pandas/core/computation/expressions.py:73: RuntimeWarning: invalid value encountered in less_equal\n",
      "  return op(a, b)\n",
      "/usr/local/lib/python3.11/dist-packages/pandas/core/arraylike.py:399: RuntimeWarning: invalid value encountered in log\n",
      "  result = getattr(ufunc, method)(*inputs, **kwargs)\n"
     ]
    },
    {
     "name": "stdout",
     "output_type": "stream",
     "text": [
      "Step 9750 — Test metrics:\n",
      "  precision@10: 0.014757190\n",
      "  recall@10: 0.014833056\n",
      "  ndcg@10: 0.015322855\n",
      "  map@10: 0.005719679\n",
      "Epoch 326, Step 20, LR: 0.000269, Current Loss: 0.5296, Avg Loss: 0.5271\n",
      "Diff stats — min: -4.7595, max: 10.0000, mean: 7.3612, std: 3.0286\n",
      "\n",
      "Epoch 326 completed, Train Loss: 0.000130\n",
      "\n",
      "Epoch 327, Step 1, LR: 0.000269, Current Loss: 0.5283, Avg Loss: 0.5283\n",
      "Diff stats — min: -5.4309, max: 10.0000, mean: 7.3484, std: 2.9956\n",
      "\n"
     ]
    },
    {
     "name": "stderr",
     "output_type": "stream",
     "text": [
      "/usr/local/lib/python3.11/dist-packages/pandas/core/computation/expressions.py:73: RuntimeWarning: invalid value encountered in less_equal\n",
      "  return op(a, b)\n",
      "/usr/local/lib/python3.11/dist-packages/pandas/core/arraylike.py:399: RuntimeWarning: invalid value encountered in log\n",
      "  result = getattr(ufunc, method)(*inputs, **kwargs)\n"
     ]
    },
    {
     "name": "stdout",
     "output_type": "stream",
     "text": [
      "Step 9780 — Test metrics:\n",
      "  precision@10: 0.014521452\n",
      "  recall@10: 0.014597319\n",
      "  ndcg@10: 0.015020260\n",
      "  map@10: 0.005541538\n",
      "Epoch 327, Step 20, LR: 0.000269, Current Loss: 0.5283, Avg Loss: 0.5247\n",
      "Diff stats — min: -6.7806, max: 10.0000, mean: 7.2980, std: 3.0510\n",
      "\n",
      "Epoch 327 completed, Train Loss: 0.000130\n",
      "\n",
      "Epoch 328, Step 1, LR: 0.000269, Current Loss: 0.5207, Avg Loss: 0.5207\n",
      "Diff stats — min: -4.0387, max: 10.0000, mean: 7.4499, std: 2.9481\n",
      "\n"
     ]
    },
    {
     "name": "stderr",
     "output_type": "stream",
     "text": [
      "/usr/local/lib/python3.11/dist-packages/pandas/core/computation/expressions.py:73: RuntimeWarning: invalid value encountered in less_equal\n",
      "  return op(a, b)\n",
      "/usr/local/lib/python3.11/dist-packages/pandas/core/arraylike.py:399: RuntimeWarning: invalid value encountered in log\n",
      "  result = getattr(ufunc, method)(*inputs, **kwargs)\n"
     ]
    },
    {
     "name": "stdout",
     "output_type": "stream",
     "text": [
      "Step 9810 — Test metrics:\n",
      "  precision@10: 0.014780764\n",
      "  recall@10: 0.014859250\n",
      "  ndcg@10: 0.015202447\n",
      "  map@10: 0.005651986\n",
      "Epoch 328, Step 20, LR: 0.000269, Current Loss: 0.5085, Avg Loss: 0.5245\n",
      "Diff stats — min: -5.3993, max: 10.0000, mean: 7.4607, std: 2.9321\n",
      "\n",
      "Epoch 328 completed, Train Loss: 0.000130\n",
      "\n",
      "Epoch 329, Step 1, LR: 0.000269, Current Loss: 0.5166, Avg Loss: 0.5166\n",
      "Diff stats — min: -4.6609, max: 10.0000, mean: 7.3557, std: 3.0006\n",
      "\n"
     ]
    },
    {
     "name": "stderr",
     "output_type": "stream",
     "text": [
      "/usr/local/lib/python3.11/dist-packages/pandas/core/computation/expressions.py:73: RuntimeWarning: invalid value encountered in less_equal\n",
      "  return op(a, b)\n",
      "/usr/local/lib/python3.11/dist-packages/pandas/core/arraylike.py:399: RuntimeWarning: invalid value encountered in log\n",
      "  result = getattr(ufunc, method)(*inputs, **kwargs)\n"
     ]
    },
    {
     "name": "stdout",
     "output_type": "stream",
     "text": [
      "Step 9840 — Test metrics:\n",
      "  precision@10: 0.014780764\n",
      "  recall@10: 0.014861869\n",
      "  ndcg@10: 0.015281675\n",
      "  map@10: 0.005650941\n",
      "Epoch 329, Step 20, LR: 0.000269, Current Loss: 0.5309, Avg Loss: 0.5226\n",
      "Diff stats — min: -9.0118, max: 10.0000, mean: 7.3566, std: 2.9926\n",
      "\n",
      "Epoch 329 completed, Train Loss: 0.000130\n",
      "\n",
      "Epoch 330, Step 1, LR: 0.000269, Current Loss: 0.5339, Avg Loss: 0.5339\n",
      "Diff stats — min: -6.2840, max: 10.0000, mean: 7.3934, std: 3.0031\n",
      "\n"
     ]
    },
    {
     "name": "stderr",
     "output_type": "stream",
     "text": [
      "/usr/local/lib/python3.11/dist-packages/pandas/core/computation/expressions.py:73: RuntimeWarning: invalid value encountered in less_equal\n",
      "  return op(a, b)\n",
      "/usr/local/lib/python3.11/dist-packages/pandas/core/arraylike.py:399: RuntimeWarning: invalid value encountered in log\n",
      "  result = getattr(ufunc, method)(*inputs, **kwargs)\n"
     ]
    },
    {
     "name": "stdout",
     "output_type": "stream",
     "text": [
      "Step 9870 — Test metrics:\n",
      "  precision@10: 0.014710042\n",
      "  recall@10: 0.014788528\n",
      "  ndcg@10: 0.015286968\n",
      "  map@10: 0.005691352\n",
      "Epoch 330, Step 20, LR: 0.000269, Current Loss: 0.5353, Avg Loss: 0.5253\n",
      "Diff stats — min: -8.0442, max: 10.0000, mean: 7.3420, std: 3.0541\n",
      "\n",
      "Epoch 330 completed, Train Loss: 0.000130\n",
      "\n",
      "Epoch 331, Step 1, LR: 0.000264, Current Loss: 0.5464, Avg Loss: 0.5464\n",
      "Diff stats — min: -5.4008, max: 10.0000, mean: 7.3688, std: 3.0335\n",
      "\n"
     ]
    },
    {
     "name": "stderr",
     "output_type": "stream",
     "text": [
      "/usr/local/lib/python3.11/dist-packages/pandas/core/computation/expressions.py:73: RuntimeWarning: invalid value encountered in less_equal\n",
      "  return op(a, b)\n",
      "/usr/local/lib/python3.11/dist-packages/pandas/core/arraylike.py:399: RuntimeWarning: invalid value encountered in log\n",
      "  result = getattr(ufunc, method)(*inputs, **kwargs)\n"
     ]
    },
    {
     "name": "stdout",
     "output_type": "stream",
     "text": [
      "Step 9900 — Test metrics:\n",
      "  precision@10: 0.014592174\n",
      "  recall@10: 0.014670659\n",
      "  ndcg@10: 0.015202084\n",
      "  map@10: 0.005666437\n",
      "Epoch 331, Step 20, LR: 0.000264, Current Loss: 0.5181, Avg Loss: 0.5258\n",
      "Diff stats — min: -5.2046, max: 10.0000, mean: 7.3896, std: 2.9904\n",
      "\n",
      "Epoch 331 completed, Train Loss: 0.000130\n",
      "\n",
      "Epoch 332, Step 1, LR: 0.000264, Current Loss: 0.5508, Avg Loss: 0.5508\n",
      "Diff stats — min: -5.9050, max: 10.0000, mean: 7.3849, std: 3.0474\n",
      "\n"
     ]
    },
    {
     "name": "stderr",
     "output_type": "stream",
     "text": [
      "/usr/local/lib/python3.11/dist-packages/pandas/core/computation/expressions.py:73: RuntimeWarning: invalid value encountered in less_equal\n",
      "  return op(a, b)\n",
      "/usr/local/lib/python3.11/dist-packages/pandas/core/arraylike.py:399: RuntimeWarning: invalid value encountered in log\n",
      "  result = getattr(ufunc, method)(*inputs, **kwargs)\n"
     ]
    },
    {
     "name": "stdout",
     "output_type": "stream",
     "text": [
      "Step 9930 — Test metrics:\n",
      "  precision@10: 0.014804338\n",
      "  recall@10: 0.014880204\n",
      "  ndcg@10: 0.015392317\n",
      "  map@10: 0.005695002\n",
      "Epoch 332, Step 20, LR: 0.000264, Current Loss: 0.5329, Avg Loss: 0.5296\n",
      "Diff stats — min: -5.6195, max: 10.0000, mean: 7.4758, std: 2.9367\n",
      "\n",
      "Epoch 332 completed, Train Loss: 0.000130\n",
      "\n",
      "Epoch 333, Step 1, LR: 0.000264, Current Loss: 0.5406, Avg Loss: 0.5406\n",
      "Diff stats — min: -5.8369, max: 10.0000, mean: 7.4310, std: 2.9669\n",
      "\n"
     ]
    },
    {
     "name": "stderr",
     "output_type": "stream",
     "text": [
      "/usr/local/lib/python3.11/dist-packages/pandas/core/computation/expressions.py:73: RuntimeWarning: invalid value encountered in less_equal\n",
      "  return op(a, b)\n",
      "/usr/local/lib/python3.11/dist-packages/pandas/core/arraylike.py:399: RuntimeWarning: invalid value encountered in log\n",
      "  result = getattr(ufunc, method)(*inputs, **kwargs)\n"
     ]
    },
    {
     "name": "stdout",
     "output_type": "stream",
     "text": [
      "Step 9960 — Test metrics:\n",
      "  precision@10: 0.014875059\n",
      "  recall@10: 0.014948306\n",
      "  ndcg@10: 0.015379774\n",
      "  map@10: 0.005731759\n",
      "Epoch 333, Step 20, LR: 0.000264, Current Loss: 0.5216, Avg Loss: 0.5257\n",
      "Diff stats — min: -6.5265, max: 10.0000, mean: 7.4339, std: 2.9542\n",
      "\n",
      "Epoch 333 completed, Train Loss: 0.000130\n",
      "\n",
      "Epoch 334, Step 1, LR: 0.000264, Current Loss: 0.5066, Avg Loss: 0.5066\n",
      "Diff stats — min: -5.1126, max: 10.0000, mean: 7.4721, std: 2.9600\n",
      "\n"
     ]
    },
    {
     "name": "stderr",
     "output_type": "stream",
     "text": [
      "/usr/local/lib/python3.11/dist-packages/pandas/core/computation/expressions.py:73: RuntimeWarning: invalid value encountered in less_equal\n",
      "  return op(a, b)\n",
      "/usr/local/lib/python3.11/dist-packages/pandas/core/arraylike.py:399: RuntimeWarning: invalid value encountered in log\n",
      "  result = getattr(ufunc, method)(*inputs, **kwargs)\n"
     ]
    },
    {
     "name": "stdout",
     "output_type": "stream",
     "text": [
      "Step 9990 — Test metrics:\n",
      "  precision@10: 0.014898633\n",
      "  recall@10: 0.014971880\n",
      "  ndcg@10: 0.015527896\n",
      "  map@10: 0.005801337\n",
      "Epoch 334, Step 20, LR: 0.000264, Current Loss: 0.5126, Avg Loss: 0.5242\n",
      "Diff stats — min: -3.5925, max: 10.0000, mean: 7.4358, std: 2.9916\n",
      "\n",
      "Epoch 334 completed, Train Loss: 0.000130\n",
      "\n",
      "Epoch 335, Step 1, LR: 0.000264, Current Loss: 0.5324, Avg Loss: 0.5324\n",
      "Diff stats — min: -5.9286, max: 10.0000, mean: 7.4397, std: 2.9608\n",
      "\n"
     ]
    },
    {
     "name": "stderr",
     "output_type": "stream",
     "text": [
      "/usr/local/lib/python3.11/dist-packages/pandas/core/computation/expressions.py:73: RuntimeWarning: invalid value encountered in less_equal\n",
      "  return op(a, b)\n",
      "/usr/local/lib/python3.11/dist-packages/pandas/core/arraylike.py:399: RuntimeWarning: invalid value encountered in log\n",
      "  result = getattr(ufunc, method)(*inputs, **kwargs)\n"
     ]
    },
    {
     "name": "stdout",
     "output_type": "stream",
     "text": [
      "Step 10020 — Test metrics:\n",
      "  precision@10: 0.014804338\n",
      "  recall@10: 0.014880204\n",
      "  ndcg@10: 0.015588180\n",
      "  map@10: 0.005930248\n",
      "Epoch 335, Step 20, LR: 0.000264, Current Loss: 0.5218, Avg Loss: 0.5222\n",
      "Diff stats — min: -8.2217, max: 10.0000, mean: 7.4026, std: 2.9734\n",
      "\n",
      "Epoch 335 completed, Train Loss: 0.000129\n",
      "\n",
      "Epoch 336, Step 1, LR: 0.000258, Current Loss: 0.5122, Avg Loss: 0.5122\n",
      "Diff stats — min: -7.8911, max: 10.0000, mean: 7.4239, std: 2.9733\n",
      "\n"
     ]
    },
    {
     "name": "stderr",
     "output_type": "stream",
     "text": [
      "/usr/local/lib/python3.11/dist-packages/pandas/core/computation/expressions.py:73: RuntimeWarning: invalid value encountered in less_equal\n",
      "  return op(a, b)\n",
      "/usr/local/lib/python3.11/dist-packages/pandas/core/arraylike.py:399: RuntimeWarning: invalid value encountered in log\n",
      "  result = getattr(ufunc, method)(*inputs, **kwargs)\n"
     ]
    },
    {
     "name": "stdout",
     "output_type": "stream",
     "text": [
      "Step 10050 — Test metrics:\n",
      "  precision@10: 0.014450731\n",
      "  recall@10: 0.014513875\n",
      "  ndcg@10: 0.015144367\n",
      "  map@10: 0.005642844\n",
      "Epoch 336, Step 20, LR: 0.000258, Current Loss: 0.5434, Avg Loss: 0.5237\n",
      "Diff stats — min: -5.1131, max: 10.0000, mean: 7.3534, std: 3.0262\n",
      "\n",
      "Epoch 336 completed, Train Loss: 0.000129\n",
      "\n",
      "Epoch 337, Step 1, LR: 0.000258, Current Loss: 0.5049, Avg Loss: 0.5049\n",
      "Diff stats — min: -7.2531, max: 10.0000, mean: 7.4691, std: 2.9144\n",
      "\n"
     ]
    },
    {
     "name": "stderr",
     "output_type": "stream",
     "text": [
      "/usr/local/lib/python3.11/dist-packages/pandas/core/computation/expressions.py:73: RuntimeWarning: invalid value encountered in less_equal\n",
      "  return op(a, b)\n",
      "/usr/local/lib/python3.11/dist-packages/pandas/core/arraylike.py:399: RuntimeWarning: invalid value encountered in log\n",
      "  result = getattr(ufunc, method)(*inputs, **kwargs)\n"
     ]
    },
    {
     "name": "stdout",
     "output_type": "stream",
     "text": [
      "Step 10080 — Test metrics:\n",
      "  precision@10: 0.014733616\n",
      "  recall@10: 0.014809483\n",
      "  ndcg@10: 0.015239627\n",
      "  map@10: 0.005640493\n",
      "Epoch 337, Step 20, LR: 0.000258, Current Loss: 0.5313, Avg Loss: 0.5252\n",
      "Diff stats — min: -3.6148, max: 10.0000, mean: 7.4495, std: 2.9286\n",
      "\n",
      "Epoch 337 completed, Train Loss: 0.000130\n",
      "\n",
      "Epoch 338, Step 1, LR: 0.000258, Current Loss: 0.5128, Avg Loss: 0.5128\n",
      "Diff stats — min: -4.1160, max: 10.0000, mean: 7.4568, std: 2.9610\n",
      "\n"
     ]
    },
    {
     "name": "stderr",
     "output_type": "stream",
     "text": [
      "/usr/local/lib/python3.11/dist-packages/pandas/core/computation/expressions.py:73: RuntimeWarning: invalid value encountered in less_equal\n",
      "  return op(a, b)\n",
      "/usr/local/lib/python3.11/dist-packages/pandas/core/arraylike.py:399: RuntimeWarning: invalid value encountered in log\n",
      "  result = getattr(ufunc, method)(*inputs, **kwargs)\n"
     ]
    },
    {
     "name": "stdout",
     "output_type": "stream",
     "text": [
      "Step 10110 — Test metrics:\n",
      "  precision@10: 0.014922207\n",
      "  recall@10: 0.015000692\n",
      "  ndcg@10: 0.015423538\n",
      "  map@10: 0.005726344\n",
      "Epoch 338, Step 20, LR: 0.000258, Current Loss: 0.5045, Avg Loss: 0.5224\n",
      "Diff stats — min: -7.9337, max: 10.0000, mean: 7.4531, std: 2.9375\n",
      "\n",
      "Epoch 338 completed, Train Loss: 0.000129\n",
      "\n",
      "Epoch 339, Step 1, LR: 0.000258, Current Loss: 0.5158, Avg Loss: 0.5158\n",
      "Diff stats — min: -7.0407, max: 10.0000, mean: 7.4251, std: 3.0049\n",
      "\n"
     ]
    },
    {
     "name": "stderr",
     "output_type": "stream",
     "text": [
      "/usr/local/lib/python3.11/dist-packages/pandas/core/computation/expressions.py:73: RuntimeWarning: invalid value encountered in less_equal\n",
      "  return op(a, b)\n",
      "/usr/local/lib/python3.11/dist-packages/pandas/core/arraylike.py:399: RuntimeWarning: invalid value encountered in log\n",
      "  result = getattr(ufunc, method)(*inputs, **kwargs)\n"
     ]
    },
    {
     "name": "stdout",
     "output_type": "stream",
     "text": [
      "Step 10140 — Test metrics:\n",
      "  precision@10: 0.015063649\n",
      "  recall@10: 0.015134277\n",
      "  ndcg@10: 0.015779843\n",
      "  map@10: 0.005927394\n",
      "Epoch 339, Step 20, LR: 0.000258, Current Loss: 0.5123, Avg Loss: 0.5237\n",
      "Diff stats — min: -5.3417, max: 10.0000, mean: 7.4028, std: 3.0115\n",
      "\n",
      "Epoch 339 completed, Train Loss: 0.000129\n",
      "\n",
      "Epoch 340, Step 1, LR: 0.000258, Current Loss: 0.5233, Avg Loss: 0.5233\n",
      "Diff stats — min: -5.0962, max: 10.0000, mean: 7.4512, std: 2.9698\n",
      "\n"
     ]
    },
    {
     "name": "stderr",
     "output_type": "stream",
     "text": [
      "/usr/local/lib/python3.11/dist-packages/pandas/core/computation/expressions.py:73: RuntimeWarning: invalid value encountered in less_equal\n",
      "  return op(a, b)\n",
      "/usr/local/lib/python3.11/dist-packages/pandas/core/arraylike.py:399: RuntimeWarning: invalid value encountered in log\n",
      "  result = getattr(ufunc, method)(*inputs, **kwargs)\n"
     ]
    },
    {
     "name": "stdout",
     "output_type": "stream",
     "text": [
      "Step 10170 — Test metrics:\n",
      "  precision@10: 0.014992928\n",
      "  recall@10: 0.015066175\n",
      "  ndcg@10: 0.015664115\n",
      "  map@10: 0.005837349\n",
      "Epoch 340, Step 20, LR: 0.000258, Current Loss: 0.5219, Avg Loss: 0.5247\n",
      "Diff stats — min: -4.5088, max: 10.0000, mean: 7.4671, std: 2.9872\n",
      "\n",
      "Epoch 340 completed, Train Loss: 0.000129\n",
      "\n",
      "Epoch 341, Step 1, LR: 0.000253, Current Loss: 0.5217, Avg Loss: 0.5217\n",
      "Diff stats — min: -6.0476, max: 10.0000, mean: 7.4527, std: 2.9842\n",
      "\n"
     ]
    },
    {
     "name": "stderr",
     "output_type": "stream",
     "text": [
      "/usr/local/lib/python3.11/dist-packages/pandas/core/computation/expressions.py:73: RuntimeWarning: invalid value encountered in less_equal\n",
      "  return op(a, b)\n",
      "/usr/local/lib/python3.11/dist-packages/pandas/core/arraylike.py:399: RuntimeWarning: invalid value encountered in log\n",
      "  result = getattr(ufunc, method)(*inputs, **kwargs)\n"
     ]
    },
    {
     "name": "stdout",
     "output_type": "stream",
     "text": [
      "Step 10200 — Test metrics:\n",
      "  precision@10: 0.014662895\n",
      "  recall@10: 0.014733523\n",
      "  ndcg@10: 0.015469175\n",
      "  map@10: 0.005819225\n",
      "Epoch 341, Step 20, LR: 0.000253, Current Loss: 0.5317, Avg Loss: 0.5229\n",
      "Diff stats — min: -4.9942, max: 10.0000, mean: 7.3698, std: 3.0225\n",
      "\n",
      "Epoch 341 completed, Train Loss: 0.000129\n",
      "\n",
      "Epoch 342, Step 1, LR: 0.000253, Current Loss: 0.5145, Avg Loss: 0.5145\n",
      "Diff stats — min: -6.0127, max: 10.0000, mean: 7.4897, std: 2.9185\n",
      "\n"
     ]
    },
    {
     "name": "stderr",
     "output_type": "stream",
     "text": [
      "/usr/local/lib/python3.11/dist-packages/pandas/core/computation/expressions.py:73: RuntimeWarning: invalid value encountered in less_equal\n",
      "  return op(a, b)\n",
      "/usr/local/lib/python3.11/dist-packages/pandas/core/arraylike.py:399: RuntimeWarning: invalid value encountered in log\n",
      "  result = getattr(ufunc, method)(*inputs, **kwargs)\n"
     ]
    },
    {
     "name": "stdout",
     "output_type": "stream",
     "text": [
      "Step 10230 — Test metrics:\n",
      "  precision@10: 0.014757190\n",
      "  recall@10: 0.014822579\n",
      "  ndcg@10: 0.015367980\n",
      "  map@10: 0.005758842\n",
      "Epoch 342, Step 20, LR: 0.000253, Current Loss: 0.5427, Avg Loss: 0.5242\n",
      "Diff stats — min: -6.8710, max: 10.0000, mean: 7.4208, std: 3.0164\n",
      "\n",
      "Epoch 342 completed, Train Loss: 0.000130\n",
      "\n",
      "Epoch 343, Step 1, LR: 0.000253, Current Loss: 0.5197, Avg Loss: 0.5197\n",
      "Diff stats — min: -5.8944, max: 10.0000, mean: 7.4654, std: 2.9406\n",
      "\n"
     ]
    },
    {
     "name": "stderr",
     "output_type": "stream",
     "text": [
      "/usr/local/lib/python3.11/dist-packages/pandas/core/computation/expressions.py:73: RuntimeWarning: invalid value encountered in less_equal\n",
      "  return op(a, b)\n",
      "/usr/local/lib/python3.11/dist-packages/pandas/core/arraylike.py:399: RuntimeWarning: invalid value encountered in log\n",
      "  result = getattr(ufunc, method)(*inputs, **kwargs)\n"
     ]
    },
    {
     "name": "stdout",
     "output_type": "stream",
     "text": [
      "Step 10260 — Test metrics:\n",
      "  precision@10: 0.014733616\n",
      "  recall@10: 0.014794141\n",
      "  ndcg@10: 0.015303750\n",
      "  map@10: 0.005739818\n",
      "Epoch 343, Step 20, LR: 0.000253, Current Loss: 0.5102, Avg Loss: 0.5256\n",
      "Diff stats — min: -5.5925, max: 10.0000, mean: 7.4988, std: 2.9362\n",
      "\n",
      "Epoch 343 completed, Train Loss: 0.000129\n",
      "\n",
      "Epoch 344, Step 1, LR: 0.000253, Current Loss: 0.5102, Avg Loss: 0.5102\n",
      "Diff stats — min: -5.7179, max: 10.0000, mean: 7.4511, std: 2.9139\n",
      "\n"
     ]
    },
    {
     "name": "stderr",
     "output_type": "stream",
     "text": [
      "/usr/local/lib/python3.11/dist-packages/pandas/core/computation/expressions.py:73: RuntimeWarning: invalid value encountered in less_equal\n",
      "  return op(a, b)\n",
      "/usr/local/lib/python3.11/dist-packages/pandas/core/arraylike.py:399: RuntimeWarning: invalid value encountered in log\n",
      "  result = getattr(ufunc, method)(*inputs, **kwargs)\n"
     ]
    },
    {
     "name": "stdout",
     "output_type": "stream",
     "text": [
      "Step 10290 — Test metrics:\n",
      "  precision@10: 0.014898633\n",
      "  recall@10: 0.014956538\n",
      "  ndcg@10: 0.015409189\n",
      "  map@10: 0.005701270\n",
      "Epoch 344, Step 20, LR: 0.000253, Current Loss: 0.5290, Avg Loss: 0.5242\n",
      "Diff stats — min: -8.0142, max: 10.0000, mean: 7.3919, std: 2.9660\n",
      "\n",
      "Epoch 344 completed, Train Loss: 0.000129\n",
      "\n",
      "Epoch 345, Step 1, LR: 0.000253, Current Loss: 0.5294, Avg Loss: 0.5294\n",
      "Diff stats — min: -5.9584, max: 10.0000, mean: 7.5028, std: 2.9488\n",
      "\n"
     ]
    },
    {
     "name": "stderr",
     "output_type": "stream",
     "text": [
      "/usr/local/lib/python3.11/dist-packages/pandas/core/computation/expressions.py:73: RuntimeWarning: invalid value encountered in less_equal\n",
      "  return op(a, b)\n",
      "/usr/local/lib/python3.11/dist-packages/pandas/core/arraylike.py:399: RuntimeWarning: invalid value encountered in log\n",
      "  result = getattr(ufunc, method)(*inputs, **kwargs)\n"
     ]
    },
    {
     "name": "stdout",
     "output_type": "stream",
     "text": [
      "Step 10320 — Test metrics:\n",
      "  precision@10: 0.015087223\n",
      "  recall@10: 0.015155232\n",
      "  ndcg@10: 0.015576958\n",
      "  map@10: 0.005782466\n",
      "Epoch 345, Step 20, LR: 0.000253, Current Loss: 0.5189, Avg Loss: 0.5237\n",
      "Diff stats — min: -3.9641, max: 10.0000, mean: 7.4631, std: 2.9326\n",
      "\n",
      "Epoch 345 completed, Train Loss: 0.000130\n",
      "\n",
      "Epoch 346, Step 1, LR: 0.000248, Current Loss: 0.5196, Avg Loss: 0.5196\n",
      "Diff stats — min: -3.7913, max: 10.0000, mean: 7.4939, std: 2.9603\n",
      "\n"
     ]
    },
    {
     "name": "stderr",
     "output_type": "stream",
     "text": [
      "/usr/local/lib/python3.11/dist-packages/pandas/core/computation/expressions.py:73: RuntimeWarning: invalid value encountered in less_equal\n",
      "  return op(a, b)\n",
      "/usr/local/lib/python3.11/dist-packages/pandas/core/arraylike.py:399: RuntimeWarning: invalid value encountered in log\n",
      "  result = getattr(ufunc, method)(*inputs, **kwargs)\n"
     ]
    },
    {
     "name": "stdout",
     "output_type": "stream",
     "text": [
      "Step 10350 — Test metrics:\n",
      "  precision@10: 0.015063649\n",
      "  recall@10: 0.015136896\n",
      "  ndcg@10: 0.015611256\n",
      "  map@10: 0.005840423\n",
      "Epoch 346, Step 20, LR: 0.000248, Current Loss: 0.5106, Avg Loss: 0.5254\n",
      "Diff stats — min: -8.7658, max: 10.0000, mean: 7.4644, std: 2.9575\n",
      "\n",
      "Epoch 346 completed, Train Loss: 0.000129\n",
      "\n",
      "Epoch 347, Step 1, LR: 0.000248, Current Loss: 0.5224, Avg Loss: 0.5224\n",
      "Diff stats — min: -5.3267, max: 10.0000, mean: 7.4362, std: 2.9243\n",
      "\n"
     ]
    },
    {
     "name": "stderr",
     "output_type": "stream",
     "text": [
      "/usr/local/lib/python3.11/dist-packages/pandas/core/computation/expressions.py:73: RuntimeWarning: invalid value encountered in less_equal\n",
      "  return op(a, b)\n",
      "/usr/local/lib/python3.11/dist-packages/pandas/core/arraylike.py:399: RuntimeWarning: invalid value encountered in log\n",
      "  result = getattr(ufunc, method)(*inputs, **kwargs)\n"
     ]
    },
    {
     "name": "stdout",
     "output_type": "stream",
     "text": [
      "Step 10380 — Test metrics:\n",
      "  precision@10: 0.015228666\n",
      "  recall@10: 0.015289190\n",
      "  ndcg@10: 0.015629228\n",
      "  map@10: 0.005815888\n",
      "Epoch 347, Step 20, LR: 0.000248, Current Loss: 0.5183, Avg Loss: 0.5235\n",
      "Diff stats — min: -5.2779, max: 10.0000, mean: 7.4683, std: 3.0021\n",
      "\n",
      "Epoch 347 completed, Train Loss: 0.000129\n",
      "\n",
      "Epoch 348, Step 1, LR: 0.000248, Current Loss: 0.5245, Avg Loss: 0.5245\n",
      "Diff stats — min: -6.0769, max: 10.0000, mean: 7.4399, std: 2.9714\n",
      "\n"
     ]
    },
    {
     "name": "stderr",
     "output_type": "stream",
     "text": [
      "/usr/local/lib/python3.11/dist-packages/pandas/core/computation/expressions.py:73: RuntimeWarning: invalid value encountered in less_equal\n",
      "  return op(a, b)\n",
      "/usr/local/lib/python3.11/dist-packages/pandas/core/arraylike.py:399: RuntimeWarning: invalid value encountered in log\n",
      "  result = getattr(ufunc, method)(*inputs, **kwargs)\n"
     ]
    },
    {
     "name": "stdout",
     "output_type": "stream",
     "text": [
      "Step 10410 — Test metrics:\n",
      "  precision@10: 0.014757190\n",
      "  recall@10: 0.014822953\n",
      "  ndcg@10: 0.015578011\n",
      "  map@10: 0.005875319\n",
      "Epoch 348, Step 20, LR: 0.000248, Current Loss: 0.5448, Avg Loss: 0.5192\n",
      "Diff stats — min: -6.1339, max: 10.0000, mean: 7.4746, std: 2.9986\n",
      "\n",
      "Epoch 348 completed, Train Loss: 0.000129\n",
      "\n",
      "Epoch 349, Step 1, LR: 0.000248, Current Loss: 0.4969, Avg Loss: 0.4969\n",
      "Diff stats — min: -5.9129, max: 10.0000, mean: 7.5758, std: 2.9074\n",
      "\n"
     ]
    },
    {
     "name": "stderr",
     "output_type": "stream",
     "text": [
      "/usr/local/lib/python3.11/dist-packages/pandas/core/computation/expressions.py:73: RuntimeWarning: invalid value encountered in less_equal\n",
      "  return op(a, b)\n",
      "/usr/local/lib/python3.11/dist-packages/pandas/core/arraylike.py:399: RuntimeWarning: invalid value encountered in log\n",
      "  result = getattr(ufunc, method)(*inputs, **kwargs)\n"
     ]
    },
    {
     "name": "stdout",
     "output_type": "stream",
     "text": [
      "Step 10440 — Test metrics:\n",
      "  precision@10: 0.014945780\n",
      "  recall@10: 0.015021647\n",
      "  ndcg@10: 0.015384902\n",
      "  map@10: 0.005683575\n",
      "Epoch 349, Step 20, LR: 0.000248, Current Loss: 0.5168, Avg Loss: 0.5225\n",
      "Diff stats — min: -4.6295, max: 10.0000, mean: 7.3763, std: 3.0222\n",
      "\n",
      "Epoch 349 completed, Train Loss: 0.000129\n",
      "\n",
      "Epoch 350, Step 1, LR: 0.000248, Current Loss: 0.5088, Avg Loss: 0.5088\n",
      "Diff stats — min: -4.8966, max: 10.0000, mean: 7.4431, std: 2.9340\n",
      "\n"
     ]
    },
    {
     "name": "stderr",
     "output_type": "stream",
     "text": [
      "/usr/local/lib/python3.11/dist-packages/pandas/core/computation/expressions.py:73: RuntimeWarning: invalid value encountered in less_equal\n",
      "  return op(a, b)\n",
      "/usr/local/lib/python3.11/dist-packages/pandas/core/arraylike.py:399: RuntimeWarning: invalid value encountered in log\n",
      "  result = getattr(ufunc, method)(*inputs, **kwargs)\n"
     ]
    },
    {
     "name": "stdout",
     "output_type": "stream",
     "text": [
      "Step 10470 — Test metrics:\n",
      "  precision@10: 0.014898633\n",
      "  recall@10: 0.014969261\n",
      "  ndcg@10: 0.015447415\n",
      "  map@10: 0.005730562\n",
      "Epoch 350, Step 20, LR: 0.000248, Current Loss: 0.5212, Avg Loss: 0.5224\n",
      "Diff stats — min: -6.0169, max: 10.0000, mean: 7.4864, std: 2.9312\n",
      "\n",
      "Epoch 350 completed, Train Loss: 0.000129\n",
      "\n",
      "Epoch 351, Step 1, LR: 0.000243, Current Loss: 0.5078, Avg Loss: 0.5078\n",
      "Diff stats — min: -7.1284, max: 10.0000, mean: 7.4274, std: 2.9701\n",
      "\n"
     ]
    },
    {
     "name": "stderr",
     "output_type": "stream",
     "text": [
      "/usr/local/lib/python3.11/dist-packages/pandas/core/computation/expressions.py:73: RuntimeWarning: invalid value encountered in less_equal\n",
      "  return op(a, b)\n",
      "/usr/local/lib/python3.11/dist-packages/pandas/core/arraylike.py:399: RuntimeWarning: invalid value encountered in log\n",
      "  result = getattr(ufunc, method)(*inputs, **kwargs)\n"
     ]
    },
    {
     "name": "stdout",
     "output_type": "stream",
     "text": [
      "Step 10500 — Test metrics:\n",
      "  precision@10: 0.015087223\n",
      "  recall@10: 0.015150367\n",
      "  ndcg@10: 0.015394694\n",
      "  map@10: 0.005650746\n",
      "Epoch 351, Step 20, LR: 0.000243, Current Loss: 0.5264, Avg Loss: 0.5242\n",
      "Diff stats — min: -5.0929, max: 10.0000, mean: 7.4734, std: 2.9634\n",
      "\n",
      "Epoch 351 completed, Train Loss: 0.000129\n",
      "\n",
      "Epoch 352, Step 1, LR: 0.000243, Current Loss: 0.5176, Avg Loss: 0.5176\n",
      "Diff stats — min: -5.3017, max: 10.0000, mean: 7.4630, std: 2.9527\n",
      "\n"
     ]
    },
    {
     "name": "stderr",
     "output_type": "stream",
     "text": [
      "/usr/local/lib/python3.11/dist-packages/pandas/core/computation/expressions.py:73: RuntimeWarning: invalid value encountered in less_equal\n",
      "  return op(a, b)\n",
      "/usr/local/lib/python3.11/dist-packages/pandas/core/arraylike.py:399: RuntimeWarning: invalid value encountered in log\n",
      "  result = getattr(ufunc, method)(*inputs, **kwargs)\n"
     ]
    },
    {
     "name": "stdout",
     "output_type": "stream",
     "text": [
      "Step 10530 — Test metrics:\n",
      "  precision@10: 0.014827911\n",
      "  recall@10: 0.014891055\n",
      "  ndcg@10: 0.015269372\n",
      "  map@10: 0.005695693\n",
      "Epoch 352, Step 20, LR: 0.000243, Current Loss: 0.5418, Avg Loss: 0.5183\n",
      "Diff stats — min: -7.5112, max: 10.0000, mean: 7.3848, std: 3.0571\n",
      "\n",
      "Epoch 352 completed, Train Loss: 0.000129\n",
      "\n",
      "Epoch 353, Step 1, LR: 0.000243, Current Loss: 0.5085, Avg Loss: 0.5085\n",
      "Diff stats — min: -5.3165, max: 10.0000, mean: 7.4897, std: 2.9246\n",
      "\n"
     ]
    },
    {
     "name": "stderr",
     "output_type": "stream",
     "text": [
      "/usr/local/lib/python3.11/dist-packages/pandas/core/computation/expressions.py:73: RuntimeWarning: invalid value encountered in less_equal\n",
      "  return op(a, b)\n",
      "/usr/local/lib/python3.11/dist-packages/pandas/core/arraylike.py:399: RuntimeWarning: invalid value encountered in log\n",
      "  result = getattr(ufunc, method)(*inputs, **kwargs)\n"
     ]
    },
    {
     "name": "stdout",
     "output_type": "stream",
     "text": [
      "Step 10560 — Test metrics:\n",
      "  precision@10: 0.014615747\n",
      "  recall@10: 0.014686375\n",
      "  ndcg@10: 0.014961338\n",
      "  map@10: 0.005534282\n",
      "Epoch 353, Step 20, LR: 0.000243, Current Loss: 0.5269, Avg Loss: 0.5227\n",
      "Diff stats — min: -8.8936, max: 10.0000, mean: 7.4974, std: 2.9841\n",
      "\n",
      "Epoch 353 completed, Train Loss: 0.000129\n",
      "\n",
      "Epoch 354, Step 1, LR: 0.000243, Current Loss: 0.5451, Avg Loss: 0.5451\n",
      "Diff stats — min: -4.2336, max: 10.0000, mean: 7.4284, std: 2.9797\n",
      "\n"
     ]
    },
    {
     "name": "stderr",
     "output_type": "stream",
     "text": [
      "/usr/local/lib/python3.11/dist-packages/pandas/core/computation/expressions.py:73: RuntimeWarning: invalid value encountered in less_equal\n",
      "  return op(a, b)\n",
      "/usr/local/lib/python3.11/dist-packages/pandas/core/arraylike.py:399: RuntimeWarning: invalid value encountered in log\n",
      "  result = getattr(ufunc, method)(*inputs, **kwargs)\n"
     ]
    },
    {
     "name": "stdout",
     "output_type": "stream",
     "text": [
      "Step 10590 — Test metrics:\n",
      "  precision@10: 0.015063649\n",
      "  recall@10: 0.015129413\n",
      "  ndcg@10: 0.015525732\n",
      "  map@10: 0.005779789\n",
      "Epoch 354, Step 20, LR: 0.000243, Current Loss: 0.5323, Avg Loss: 0.5216\n",
      "Diff stats — min: -6.0434, max: 10.0000, mean: 7.4164, std: 3.0283\n",
      "\n",
      "Epoch 354 completed, Train Loss: 0.000129\n",
      "\n",
      "Epoch 355, Step 1, LR: 0.000243, Current Loss: 0.5363, Avg Loss: 0.5363\n",
      "Diff stats — min: -5.4877, max: 10.0000, mean: 7.4350, std: 2.9838\n",
      "\n"
     ]
    },
    {
     "name": "stderr",
     "output_type": "stream",
     "text": [
      "/usr/local/lib/python3.11/dist-packages/pandas/core/computation/expressions.py:73: RuntimeWarning: invalid value encountered in less_equal\n",
      "  return op(a, b)\n",
      "/usr/local/lib/python3.11/dist-packages/pandas/core/arraylike.py:399: RuntimeWarning: invalid value encountered in log\n",
      "  result = getattr(ufunc, method)(*inputs, **kwargs)\n"
     ]
    },
    {
     "name": "stdout",
     "output_type": "stream",
     "text": [
      "Step 10620 — Test metrics:\n",
      "  precision@10: 0.014969354\n",
      "  recall@10: 0.015035117\n",
      "  ndcg@10: 0.015305016\n",
      "  map@10: 0.005592085\n",
      "Epoch 355, Step 20, LR: 0.000243, Current Loss: 0.5139, Avg Loss: 0.5221\n",
      "Diff stats — min: -5.9339, max: 10.0000, mean: 7.4615, std: 2.9719\n",
      "\n",
      "Epoch 355 completed, Train Loss: 0.000129\n",
      "\n",
      "Epoch 356, Step 1, LR: 0.000238, Current Loss: 0.5200, Avg Loss: 0.5200\n",
      "Diff stats — min: -6.8983, max: 10.0000, mean: 7.5339, std: 2.9295\n",
      "\n"
     ]
    },
    {
     "name": "stderr",
     "output_type": "stream",
     "text": [
      "/usr/local/lib/python3.11/dist-packages/pandas/core/computation/expressions.py:73: RuntimeWarning: invalid value encountered in less_equal\n",
      "  return op(a, b)\n",
      "/usr/local/lib/python3.11/dist-packages/pandas/core/arraylike.py:399: RuntimeWarning: invalid value encountered in log\n",
      "  result = getattr(ufunc, method)(*inputs, **kwargs)\n"
     ]
    },
    {
     "name": "stdout",
     "output_type": "stream",
     "text": [
      "Step 10650 — Test metrics:\n",
      "  precision@10: 0.014827911\n",
      "  recall@10: 0.014891055\n",
      "  ndcg@10: 0.015187690\n",
      "  map@10: 0.005562645\n",
      "Epoch 356, Step 20, LR: 0.000238, Current Loss: 0.5216, Avg Loss: 0.5230\n",
      "Diff stats — min: -5.3602, max: 10.0000, mean: 7.4270, std: 2.9719\n",
      "\n",
      "Epoch 356 completed, Train Loss: 0.000129\n",
      "\n",
      "Epoch 357, Step 1, LR: 0.000238, Current Loss: 0.5075, Avg Loss: 0.5075\n",
      "Diff stats — min: -4.8439, max: 10.0000, mean: 7.5632, std: 2.8937\n",
      "\n"
     ]
    },
    {
     "name": "stderr",
     "output_type": "stream",
     "text": [
      "/usr/local/lib/python3.11/dist-packages/pandas/core/computation/expressions.py:73: RuntimeWarning: invalid value encountered in less_equal\n",
      "  return op(a, b)\n",
      "/usr/local/lib/python3.11/dist-packages/pandas/core/arraylike.py:399: RuntimeWarning: invalid value encountered in log\n",
      "  result = getattr(ufunc, method)(*inputs, **kwargs)\n"
     ]
    },
    {
     "name": "stdout",
     "output_type": "stream",
     "text": [
      "Step 10680 — Test metrics:\n",
      "  precision@10: 0.015110797\n",
      "  recall@10: 0.015176560\n",
      "  ndcg@10: 0.015556434\n",
      "  map@10: 0.005714048\n",
      "Epoch 357, Step 20, LR: 0.000238, Current Loss: 0.5368, Avg Loss: 0.5218\n",
      "Diff stats — min: -7.2370, max: 10.0000, mean: 7.5147, std: 3.0010\n",
      "\n",
      "Epoch 357 completed, Train Loss: 0.000129\n",
      "\n",
      "Epoch 358, Step 1, LR: 0.000238, Current Loss: 0.5188, Avg Loss: 0.5188\n",
      "Diff stats — min: -7.4962, max: 10.0000, mean: 7.4853, std: 2.9785\n",
      "\n"
     ]
    },
    {
     "name": "stderr",
     "output_type": "stream",
     "text": [
      "/usr/local/lib/python3.11/dist-packages/pandas/core/computation/expressions.py:73: RuntimeWarning: invalid value encountered in less_equal\n",
      "  return op(a, b)\n",
      "/usr/local/lib/python3.11/dist-packages/pandas/core/arraylike.py:399: RuntimeWarning: invalid value encountered in log\n",
      "  result = getattr(ufunc, method)(*inputs, **kwargs)\n"
     ]
    },
    {
     "name": "stdout",
     "output_type": "stream",
     "text": [
      "Step 10710 — Test metrics:\n",
      "  precision@10: 0.014757190\n",
      "  recall@10: 0.014830437\n",
      "  ndcg@10: 0.015222868\n",
      "  map@10: 0.005591969\n",
      "Epoch 358, Step 20, LR: 0.000238, Current Loss: 0.4942, Avg Loss: 0.5209\n",
      "Diff stats — min: -5.4534, max: 10.0000, mean: 7.5150, std: 2.9264\n",
      "\n",
      "Epoch 358 completed, Train Loss: 0.000129\n",
      "\n",
      "Epoch 359, Step 1, LR: 0.000238, Current Loss: 0.5225, Avg Loss: 0.5225\n",
      "Diff stats — min: -5.4806, max: 10.0000, mean: 7.5802, std: 2.9205\n",
      "\n"
     ]
    },
    {
     "name": "stderr",
     "output_type": "stream",
     "text": [
      "/usr/local/lib/python3.11/dist-packages/pandas/core/computation/expressions.py:73: RuntimeWarning: invalid value encountered in less_equal\n",
      "  return op(a, b)\n",
      "/usr/local/lib/python3.11/dist-packages/pandas/core/arraylike.py:399: RuntimeWarning: invalid value encountered in log\n",
      "  result = getattr(ufunc, method)(*inputs, **kwargs)\n"
     ]
    },
    {
     "name": "stdout",
     "output_type": "stream",
     "text": [
      "Step 10740 — Test metrics:\n",
      "  precision@10: 0.014898633\n",
      "  recall@10: 0.014971880\n",
      "  ndcg@10: 0.015325593\n",
      "  map@10: 0.005646924\n",
      "Epoch 359, Step 20, LR: 0.000238, Current Loss: 0.5134, Avg Loss: 0.5218\n",
      "Diff stats — min: -4.8000, max: 10.0000, mean: 7.4592, std: 2.9339\n",
      "\n",
      "Epoch 359 completed, Train Loss: 0.000129\n",
      "\n",
      "Epoch 360, Step 1, LR: 0.000238, Current Loss: 0.5269, Avg Loss: 0.5269\n",
      "Diff stats — min: -7.5598, max: 10.0000, mean: 7.4801, std: 2.9655\n",
      "\n"
     ]
    },
    {
     "name": "stderr",
     "output_type": "stream",
     "text": [
      "/usr/local/lib/python3.11/dist-packages/pandas/core/computation/expressions.py:73: RuntimeWarning: invalid value encountered in less_equal\n",
      "  return op(a, b)\n",
      "/usr/local/lib/python3.11/dist-packages/pandas/core/arraylike.py:399: RuntimeWarning: invalid value encountered in log\n",
      "  result = getattr(ufunc, method)(*inputs, **kwargs)\n"
     ]
    },
    {
     "name": "stdout",
     "output_type": "stream",
     "text": [
      "Step 10770 — Test metrics:\n",
      "  precision@10: 0.015110797\n",
      "  recall@10: 0.015186663\n",
      "  ndcg@10: 0.015639731\n",
      "  map@10: 0.005804801\n",
      "Epoch 360, Step 20, LR: 0.000238, Current Loss: 0.5209, Avg Loss: 0.5225\n",
      "Diff stats — min: -3.1745, max: 10.0000, mean: 7.5534, std: 2.9049\n",
      "\n",
      "Epoch 360 completed, Train Loss: 0.000129\n",
      "\n",
      "Epoch 361, Step 1, LR: 0.000233, Current Loss: 0.5324, Avg Loss: 0.5324\n",
      "Diff stats — min: -5.7276, max: 10.0000, mean: 7.4682, std: 2.9735\n",
      "\n"
     ]
    },
    {
     "name": "stderr",
     "output_type": "stream",
     "text": [
      "/usr/local/lib/python3.11/dist-packages/pandas/core/computation/expressions.py:73: RuntimeWarning: invalid value encountered in less_equal\n",
      "  return op(a, b)\n",
      "/usr/local/lib/python3.11/dist-packages/pandas/core/arraylike.py:399: RuntimeWarning: invalid value encountered in log\n",
      "  result = getattr(ufunc, method)(*inputs, **kwargs)\n"
     ]
    },
    {
     "name": "stdout",
     "output_type": "stream",
     "text": [
      "Step 10800 — Test metrics:\n",
      "  precision@10: 0.014804338\n",
      "  recall@10: 0.014880204\n",
      "  ndcg@10: 0.015265341\n",
      "  map@10: 0.005626456\n",
      "Epoch 361, Step 20, LR: 0.000233, Current Loss: 0.5144, Avg Loss: 0.5220\n",
      "Diff stats — min: -5.6879, max: 10.0000, mean: 7.5592, std: 2.9449\n",
      "\n",
      "Epoch 361 completed, Train Loss: 0.000129\n",
      "\n",
      "Epoch 362, Step 1, LR: 0.000233, Current Loss: 0.5164, Avg Loss: 0.5164\n",
      "Diff stats — min: -4.6023, max: 10.0000, mean: 7.5603, std: 2.9307\n",
      "\n"
     ]
    },
    {
     "name": "stderr",
     "output_type": "stream",
     "text": [
      "/usr/local/lib/python3.11/dist-packages/pandas/core/computation/expressions.py:73: RuntimeWarning: invalid value encountered in less_equal\n",
      "  return op(a, b)\n",
      "/usr/local/lib/python3.11/dist-packages/pandas/core/arraylike.py:399: RuntimeWarning: invalid value encountered in log\n",
      "  result = getattr(ufunc, method)(*inputs, **kwargs)\n"
     ]
    },
    {
     "name": "stdout",
     "output_type": "stream",
     "text": [
      "Step 10830 — Test metrics:\n",
      "  precision@10: 0.014851485\n",
      "  recall@10: 0.014929971\n",
      "  ndcg@10: 0.015504600\n",
      "  map@10: 0.005743750\n",
      "Epoch 362, Step 20, LR: 0.000233, Current Loss: 0.5130, Avg Loss: 0.5228\n",
      "Diff stats — min: -4.3533, max: 10.0000, mean: 7.4997, std: 2.9791\n",
      "\n",
      "Epoch 362 completed, Train Loss: 0.000129\n",
      "\n",
      "Epoch 363, Step 1, LR: 0.000233, Current Loss: 0.5039, Avg Loss: 0.5039\n",
      "Diff stats — min: -3.6870, max: 10.0000, mean: 7.4895, std: 2.8955\n",
      "\n"
     ]
    },
    {
     "name": "stderr",
     "output_type": "stream",
     "text": [
      "/usr/local/lib/python3.11/dist-packages/pandas/core/computation/expressions.py:73: RuntimeWarning: invalid value encountered in less_equal\n",
      "  return op(a, b)\n",
      "/usr/local/lib/python3.11/dist-packages/pandas/core/arraylike.py:399: RuntimeWarning: invalid value encountered in log\n",
      "  result = getattr(ufunc, method)(*inputs, **kwargs)\n"
     ]
    },
    {
     "name": "stdout",
     "output_type": "stream",
     "text": [
      "Step 10860 — Test metrics:\n",
      "  precision@10: 0.014780764\n",
      "  recall@10: 0.014859250\n",
      "  ndcg@10: 0.015383286\n",
      "  map@10: 0.005723170\n",
      "Epoch 363, Step 20, LR: 0.000233, Current Loss: 0.5193, Avg Loss: 0.5200\n",
      "Diff stats — min: -5.2855, max: 10.0000, mean: 7.5490, std: 2.9136\n",
      "\n",
      "Epoch 363 completed, Train Loss: 0.000128\n",
      "\n",
      "Epoch 364, Step 1, LR: 0.000233, Current Loss: 0.5279, Avg Loss: 0.5279\n",
      "Diff stats — min: -3.6919, max: 10.0000, mean: 7.5641, std: 2.9531\n",
      "\n"
     ]
    },
    {
     "name": "stderr",
     "output_type": "stream",
     "text": [
      "/usr/local/lib/python3.11/dist-packages/pandas/core/computation/expressions.py:73: RuntimeWarning: invalid value encountered in less_equal\n",
      "  return op(a, b)\n",
      "/usr/local/lib/python3.11/dist-packages/pandas/core/arraylike.py:399: RuntimeWarning: invalid value encountered in log\n",
      "  result = getattr(ufunc, method)(*inputs, **kwargs)\n"
     ]
    },
    {
     "name": "stdout",
     "output_type": "stream",
     "text": [
      "Step 10890 — Test metrics:\n",
      "  precision@10: 0.014945780\n",
      "  recall@10: 0.015024266\n",
      "  ndcg@10: 0.015554075\n",
      "  map@10: 0.005759035\n",
      "Epoch 364, Step 20, LR: 0.000233, Current Loss: 0.5141, Avg Loss: 0.5195\n",
      "Diff stats — min: -6.0801, max: 10.0000, mean: 7.5948, std: 2.8702\n",
      "\n",
      "Epoch 364 completed, Train Loss: 0.000129\n",
      "\n",
      "Epoch 365, Step 1, LR: 0.000233, Current Loss: 0.5213, Avg Loss: 0.5213\n",
      "Diff stats — min: -3.9618, max: 10.0000, mean: 7.5802, std: 2.9215\n",
      "\n"
     ]
    },
    {
     "name": "stderr",
     "output_type": "stream",
     "text": [
      "/usr/local/lib/python3.11/dist-packages/pandas/core/computation/expressions.py:73: RuntimeWarning: invalid value encountered in less_equal\n",
      "  return op(a, b)\n",
      "/usr/local/lib/python3.11/dist-packages/pandas/core/arraylike.py:399: RuntimeWarning: invalid value encountered in log\n",
      "  result = getattr(ufunc, method)(*inputs, **kwargs)\n"
     ]
    },
    {
     "name": "stdout",
     "output_type": "stream",
     "text": [
      "Step 10920 — Test metrics:\n",
      "  precision@10: 0.014851485\n",
      "  recall@10: 0.014927352\n",
      "  ndcg@10: 0.015454744\n",
      "  map@10: 0.005722041\n",
      "Epoch 365, Step 20, LR: 0.000233, Current Loss: 0.5311, Avg Loss: 0.5246\n",
      "Diff stats — min: -7.7725, max: 10.0000, mean: 7.5519, std: 2.9443\n",
      "\n",
      "Epoch 365 completed, Train Loss: 0.000129\n",
      "\n",
      "Epoch 366, Step 1, LR: 0.000229, Current Loss: 0.5351, Avg Loss: 0.5351\n",
      "Diff stats — min: -4.6421, max: 10.0000, mean: 7.5112, std: 2.9855\n",
      "\n"
     ]
    },
    {
     "name": "stderr",
     "output_type": "stream",
     "text": [
      "/usr/local/lib/python3.11/dist-packages/pandas/core/computation/expressions.py:73: RuntimeWarning: invalid value encountered in less_equal\n",
      "  return op(a, b)\n",
      "/usr/local/lib/python3.11/dist-packages/pandas/core/arraylike.py:399: RuntimeWarning: invalid value encountered in log\n",
      "  result = getattr(ufunc, method)(*inputs, **kwargs)\n"
     ]
    },
    {
     "name": "stdout",
     "output_type": "stream",
     "text": [
      "Step 10950 — Test metrics:\n",
      "  precision@10: 0.014851485\n",
      "  recall@10: 0.014924732\n",
      "  ndcg@10: 0.015441155\n",
      "  map@10: 0.005713590\n",
      "Epoch 366, Step 20, LR: 0.000229, Current Loss: 0.5148, Avg Loss: 0.5206\n",
      "Diff stats — min: -4.9517, max: 10.0000, mean: 7.4732, std: 3.0198\n",
      "\n",
      "Epoch 366 completed, Train Loss: 0.000129\n",
      "\n",
      "Epoch 367, Step 1, LR: 0.000229, Current Loss: 0.5278, Avg Loss: 0.5278\n",
      "Diff stats — min: -4.5790, max: 10.0000, mean: 7.5694, std: 2.9263\n",
      "\n"
     ]
    },
    {
     "name": "stderr",
     "output_type": "stream",
     "text": [
      "/usr/local/lib/python3.11/dist-packages/pandas/core/computation/expressions.py:73: RuntimeWarning: invalid value encountered in less_equal\n",
      "  return op(a, b)\n",
      "/usr/local/lib/python3.11/dist-packages/pandas/core/arraylike.py:399: RuntimeWarning: invalid value encountered in log\n",
      "  result = getattr(ufunc, method)(*inputs, **kwargs)\n"
     ]
    },
    {
     "name": "stdout",
     "output_type": "stream",
     "text": [
      "Step 10980 — Test metrics:\n",
      "  precision@10: 0.014969354\n",
      "  recall@10: 0.015050459\n",
      "  ndcg@10: 0.015663145\n",
      "  map@10: 0.005811715\n",
      "Epoch 367, Step 20, LR: 0.000229, Current Loss: 0.5147, Avg Loss: 0.5201\n",
      "Diff stats — min: -6.9993, max: 10.0000, mean: 7.4842, std: 2.9503\n",
      "\n",
      "Epoch 367 completed, Train Loss: 0.000129\n",
      "\n",
      "Epoch 368, Step 1, LR: 0.000229, Current Loss: 0.5148, Avg Loss: 0.5148\n",
      "Diff stats — min: -4.9128, max: 10.0000, mean: 7.5419, std: 2.9407\n",
      "\n"
     ]
    },
    {
     "name": "stderr",
     "output_type": "stream",
     "text": [
      "/usr/local/lib/python3.11/dist-packages/pandas/core/computation/expressions.py:73: RuntimeWarning: invalid value encountered in less_equal\n",
      "  return op(a, b)\n",
      "/usr/local/lib/python3.11/dist-packages/pandas/core/arraylike.py:399: RuntimeWarning: invalid value encountered in log\n",
      "  result = getattr(ufunc, method)(*inputs, **kwargs)\n"
     ]
    },
    {
     "name": "stdout",
     "output_type": "stream",
     "text": [
      "Step 11010 — Test metrics:\n",
      "  precision@10: 0.015157944\n",
      "  recall@10: 0.015239049\n",
      "  ndcg@10: 0.015772747\n",
      "  map@10: 0.005875205\n",
      "Epoch 368, Step 20, LR: 0.000229, Current Loss: 0.5261, Avg Loss: 0.5206\n",
      "Diff stats — min: -4.7300, max: 10.0000, mean: 7.5684, std: 2.9424\n",
      "\n",
      "Epoch 368 completed, Train Loss: 0.000129\n",
      "\n",
      "Epoch 369, Step 1, LR: 0.000229, Current Loss: 0.5212, Avg Loss: 0.5212\n",
      "Diff stats — min: -5.2849, max: 10.0000, mean: 7.5104, std: 2.9534\n",
      "\n"
     ]
    },
    {
     "name": "stderr",
     "output_type": "stream",
     "text": [
      "/usr/local/lib/python3.11/dist-packages/pandas/core/computation/expressions.py:73: RuntimeWarning: invalid value encountered in less_equal\n",
      "  return op(a, b)\n",
      "/usr/local/lib/python3.11/dist-packages/pandas/core/arraylike.py:399: RuntimeWarning: invalid value encountered in log\n",
      "  result = getattr(ufunc, method)(*inputs, **kwargs)\n"
     ]
    },
    {
     "name": "stdout",
     "output_type": "stream",
     "text": [
      "Step 11040 — Test metrics:\n",
      "  precision@10: 0.015063649\n",
      "  recall@10: 0.015142135\n",
      "  ndcg@10: 0.015817923\n",
      "  map@10: 0.005975952\n",
      "Epoch 369, Step 20, LR: 0.000229, Current Loss: 0.5120, Avg Loss: 0.5194\n",
      "Diff stats — min: -6.0242, max: 10.0000, mean: 7.5964, std: 2.9135\n",
      "\n",
      "Epoch 369 completed, Train Loss: 0.000128\n",
      "\n",
      "Epoch 370, Step 1, LR: 0.000229, Current Loss: 0.5063, Avg Loss: 0.5063\n",
      "Diff stats — min: -6.6615, max: 10.0000, mean: 7.5746, std: 2.8987\n",
      "\n"
     ]
    },
    {
     "name": "stderr",
     "output_type": "stream",
     "text": [
      "/usr/local/lib/python3.11/dist-packages/pandas/core/computation/expressions.py:73: RuntimeWarning: invalid value encountered in less_equal\n",
      "  return op(a, b)\n",
      "/usr/local/lib/python3.11/dist-packages/pandas/core/arraylike.py:399: RuntimeWarning: invalid value encountered in log\n",
      "  result = getattr(ufunc, method)(*inputs, **kwargs)\n"
     ]
    },
    {
     "name": "stdout",
     "output_type": "stream",
     "text": [
      "Step 11070 — Test metrics:\n",
      "  precision@10: 0.015393682\n",
      "  recall@10: 0.015466929\n",
      "  ndcg@10: 0.016071298\n",
      "  map@10: 0.006025606\n",
      "Epoch 370, Step 20, LR: 0.000229, Current Loss: 0.5284, Avg Loss: 0.5199\n",
      "Diff stats — min: -5.1545, max: 10.0000, mean: 7.5674, std: 2.8955\n",
      "\n",
      "Epoch 370 completed, Train Loss: 0.000129\n",
      "\n",
      "Epoch 371, Step 1, LR: 0.000224, Current Loss: 0.5235, Avg Loss: 0.5235\n",
      "Diff stats — min: -5.8226, max: 10.0000, mean: 7.5494, std: 2.9326\n",
      "\n"
     ]
    },
    {
     "name": "stderr",
     "output_type": "stream",
     "text": [
      "/usr/local/lib/python3.11/dist-packages/pandas/core/computation/expressions.py:73: RuntimeWarning: invalid value encountered in less_equal\n",
      "  return op(a, b)\n",
      "/usr/local/lib/python3.11/dist-packages/pandas/core/arraylike.py:399: RuntimeWarning: invalid value encountered in log\n",
      "  result = getattr(ufunc, method)(*inputs, **kwargs)\n"
     ]
    },
    {
     "name": "stdout",
     "output_type": "stream",
     "text": [
      "Step 11100 — Test metrics:\n",
      "  precision@10: 0.015275813\n",
      "  recall@10: 0.015354299\n",
      "  ndcg@10: 0.015998550\n",
      "  map@10: 0.006039159\n",
      "Epoch 371, Step 20, LR: 0.000224, Current Loss: 0.5175, Avg Loss: 0.5205\n",
      "Diff stats — min: -4.7518, max: 10.0000, mean: 7.5667, std: 2.8770\n",
      "\n",
      "Epoch 371 completed, Train Loss: 0.000129\n",
      "\n",
      "Epoch 372, Step 1, LR: 0.000224, Current Loss: 0.5226, Avg Loss: 0.5226\n",
      "Diff stats — min: -5.0075, max: 10.0000, mean: 7.5542, std: 2.9251\n",
      "\n"
     ]
    },
    {
     "name": "stderr",
     "output_type": "stream",
     "text": [
      "/usr/local/lib/python3.11/dist-packages/pandas/core/computation/expressions.py:73: RuntimeWarning: invalid value encountered in less_equal\n",
      "  return op(a, b)\n",
      "/usr/local/lib/python3.11/dist-packages/pandas/core/arraylike.py:399: RuntimeWarning: invalid value encountered in log\n",
      "  result = getattr(ufunc, method)(*inputs, **kwargs)\n"
     ]
    },
    {
     "name": "stdout",
     "output_type": "stream",
     "text": [
      "Step 11130 — Test metrics:\n",
      "  precision@10: 0.015275813\n",
      "  recall@10: 0.015346441\n",
      "  ndcg@10: 0.015799808\n",
      "  map@10: 0.005821863\n",
      "Epoch 372, Step 20, LR: 0.000224, Current Loss: 0.5443, Avg Loss: 0.5215\n",
      "Diff stats — min: -5.9094, max: 10.0000, mean: 7.5969, std: 2.9679\n",
      "\n",
      "Epoch 372 completed, Train Loss: 0.000129\n",
      "\n",
      "Epoch 373, Step 1, LR: 0.000224, Current Loss: 0.5146, Avg Loss: 0.5146\n",
      "Diff stats — min: -5.0323, max: 10.0000, mean: 7.5137, std: 2.9167\n",
      "\n"
     ]
    },
    {
     "name": "stderr",
     "output_type": "stream",
     "text": [
      "/usr/local/lib/python3.11/dist-packages/pandas/core/computation/expressions.py:73: RuntimeWarning: invalid value encountered in less_equal\n",
      "  return op(a, b)\n",
      "/usr/local/lib/python3.11/dist-packages/pandas/core/arraylike.py:399: RuntimeWarning: invalid value encountered in log\n",
      "  result = getattr(ufunc, method)(*inputs, **kwargs)\n"
     ]
    },
    {
     "name": "stdout",
     "output_type": "stream",
     "text": [
      "Step 11160 — Test metrics:\n",
      "  precision@10: 0.015063649\n",
      "  recall@10: 0.015142135\n",
      "  ndcg@10: 0.015785073\n",
      "  map@10: 0.005915181\n",
      "Epoch 373, Step 20, LR: 0.000224, Current Loss: 0.5079, Avg Loss: 0.5188\n",
      "Diff stats — min: -8.7923, max: 10.0000, mean: 7.6336, std: 2.8442\n",
      "\n",
      "Epoch 373 completed, Train Loss: 0.000129\n",
      "\n",
      "Epoch 374, Step 1, LR: 0.000224, Current Loss: 0.5127, Avg Loss: 0.5127\n",
      "Diff stats — min: -4.3440, max: 10.0000, mean: 7.5750, std: 2.9107\n",
      "\n"
     ]
    },
    {
     "name": "stderr",
     "output_type": "stream",
     "text": [
      "/usr/local/lib/python3.11/dist-packages/pandas/core/computation/expressions.py:73: RuntimeWarning: invalid value encountered in less_equal\n",
      "  return op(a, b)\n",
      "/usr/local/lib/python3.11/dist-packages/pandas/core/arraylike.py:399: RuntimeWarning: invalid value encountered in log\n",
      "  result = getattr(ufunc, method)(*inputs, **kwargs)\n"
     ]
    },
    {
     "name": "stdout",
     "output_type": "stream",
     "text": [
      "Step 11190 — Test metrics:\n",
      "  precision@10: 0.015275813\n",
      "  recall@10: 0.015359538\n",
      "  ndcg@10: 0.015783236\n",
      "  map@10: 0.005894749\n",
      "Epoch 374, Step 20, LR: 0.000224, Current Loss: 0.5269, Avg Loss: 0.5180\n",
      "Diff stats — min: -6.6455, max: 10.0000, mean: 7.5719, std: 2.9147\n",
      "\n",
      "Epoch 374 completed, Train Loss: 0.000128\n",
      "\n",
      "Epoch 375, Step 1, LR: 0.000224, Current Loss: 0.5210, Avg Loss: 0.5210\n",
      "Diff stats — min: -4.1986, max: 10.0000, mean: 7.5637, std: 2.9089\n",
      "\n"
     ]
    },
    {
     "name": "stderr",
     "output_type": "stream",
     "text": [
      "/usr/local/lib/python3.11/dist-packages/pandas/core/computation/expressions.py:73: RuntimeWarning: invalid value encountered in less_equal\n",
      "  return op(a, b)\n",
      "/usr/local/lib/python3.11/dist-packages/pandas/core/arraylike.py:399: RuntimeWarning: invalid value encountered in log\n",
      "  result = getattr(ufunc, method)(*inputs, **kwargs)\n"
     ]
    },
    {
     "name": "stdout",
     "output_type": "stream",
     "text": [
      "Step 11220 — Test metrics:\n",
      "  precision@10: 0.015110797\n",
      "  recall@10: 0.015186663\n",
      "  ndcg@10: 0.015709988\n",
      "  map@10: 0.005799358\n",
      "Epoch 375, Step 20, LR: 0.000224, Current Loss: 0.5224, Avg Loss: 0.5224\n",
      "Diff stats — min: -5.0442, max: 10.0000, mean: 7.5507, std: 2.8889\n",
      "\n",
      "Epoch 375 completed, Train Loss: 0.000129\n",
      "\n",
      "Epoch 376, Step 1, LR: 0.000220, Current Loss: 0.5091, Avg Loss: 0.5091\n",
      "Diff stats — min: -6.6557, max: 10.0000, mean: 7.5616, std: 2.9089\n",
      "\n"
     ]
    },
    {
     "name": "stderr",
     "output_type": "stream",
     "text": [
      "/usr/local/lib/python3.11/dist-packages/pandas/core/computation/expressions.py:73: RuntimeWarning: invalid value encountered in less_equal\n",
      "  return op(a, b)\n",
      "/usr/local/lib/python3.11/dist-packages/pandas/core/arraylike.py:399: RuntimeWarning: invalid value encountered in log\n",
      "  result = getattr(ufunc, method)(*inputs, **kwargs)\n"
     ]
    },
    {
     "name": "stdout",
     "output_type": "stream",
     "text": [
      "Step 11250 — Test metrics:\n",
      "  precision@10: 0.014969354\n",
      "  recall@10: 0.015045221\n",
      "  ndcg@10: 0.015482275\n",
      "  map@10: 0.005718074\n",
      "Epoch 376, Step 20, LR: 0.000220, Current Loss: 0.5236, Avg Loss: 0.5190\n",
      "Diff stats — min: -7.0234, max: 10.0000, mean: 7.6007, std: 2.8571\n",
      "\n",
      "Epoch 376 completed, Train Loss: 0.000128\n",
      "\n",
      "Epoch 377, Step 1, LR: 0.000220, Current Loss: 0.5204, Avg Loss: 0.5204\n",
      "Diff stats — min: -5.5004, max: 10.0000, mean: 7.4858, std: 3.0022\n",
      "\n"
     ]
    },
    {
     "name": "stderr",
     "output_type": "stream",
     "text": [
      "/usr/local/lib/python3.11/dist-packages/pandas/core/computation/expressions.py:73: RuntimeWarning: invalid value encountered in less_equal\n",
      "  return op(a, b)\n",
      "/usr/local/lib/python3.11/dist-packages/pandas/core/arraylike.py:399: RuntimeWarning: invalid value encountered in log\n",
      "  result = getattr(ufunc, method)(*inputs, **kwargs)\n"
     ]
    },
    {
     "name": "stdout",
     "output_type": "stream",
     "text": [
      "Step 11280 — Test metrics:\n",
      "  precision@10: 0.015063649\n",
      "  recall@10: 0.015139516\n",
      "  ndcg@10: 0.015660345\n",
      "  map@10: 0.005802352\n",
      "Epoch 377, Step 20, LR: 0.000220, Current Loss: 0.5276, Avg Loss: 0.5201\n",
      "Diff stats — min: -5.2416, max: 10.0000, mean: 7.5387, std: 2.9453\n",
      "\n",
      "Epoch 377 completed, Train Loss: 0.000129\n",
      "\n",
      "Epoch 378, Step 1, LR: 0.000220, Current Loss: 0.5075, Avg Loss: 0.5075\n",
      "Diff stats — min: -6.0467, max: 10.0000, mean: 7.5945, std: 2.8822\n",
      "\n"
     ]
    },
    {
     "name": "stderr",
     "output_type": "stream",
     "text": [
      "/usr/local/lib/python3.11/dist-packages/pandas/core/computation/expressions.py:73: RuntimeWarning: invalid value encountered in less_equal\n",
      "  return op(a, b)\n",
      "/usr/local/lib/python3.11/dist-packages/pandas/core/arraylike.py:399: RuntimeWarning: invalid value encountered in log\n",
      "  result = getattr(ufunc, method)(*inputs, **kwargs)\n"
     ]
    },
    {
     "name": "stdout",
     "output_type": "stream",
     "text": [
      "Step 11310 — Test metrics:\n",
      "  precision@10: 0.014898633\n",
      "  recall@10: 0.014974499\n",
      "  ndcg@10: 0.015466315\n",
      "  map@10: 0.005743049\n",
      "Epoch 378, Step 20, LR: 0.000220, Current Loss: 0.5274, Avg Loss: 0.5163\n",
      "Diff stats — min: -6.1709, max: 10.0000, mean: 7.6463, std: 2.8563\n",
      "\n",
      "Epoch 378 completed, Train Loss: 0.000128\n",
      "\n",
      "Epoch 379, Step 1, LR: 0.000220, Current Loss: 0.5371, Avg Loss: 0.5371\n",
      "Diff stats — min: -5.3797, max: 10.0000, mean: 7.5668, std: 2.9896\n",
      "\n"
     ]
    },
    {
     "name": "stderr",
     "output_type": "stream",
     "text": [
      "/usr/local/lib/python3.11/dist-packages/pandas/core/computation/expressions.py:73: RuntimeWarning: invalid value encountered in less_equal\n",
      "  return op(a, b)\n",
      "/usr/local/lib/python3.11/dist-packages/pandas/core/arraylike.py:399: RuntimeWarning: invalid value encountered in log\n",
      "  result = getattr(ufunc, method)(*inputs, **kwargs)\n"
     ]
    },
    {
     "name": "stdout",
     "output_type": "stream",
     "text": [
      "Step 11340 — Test metrics:\n",
      "  precision@10: 0.014780764\n",
      "  recall@10: 0.014856630\n",
      "  ndcg@10: 0.015510080\n",
      "  map@10: 0.005809761\n",
      "Epoch 379, Step 20, LR: 0.000220, Current Loss: 0.5210, Avg Loss: 0.5224\n",
      "Diff stats — min: -4.6927, max: 10.0000, mean: 7.6319, std: 2.9238\n",
      "\n",
      "Epoch 379 completed, Train Loss: 0.000129\n",
      "\n",
      "Epoch 380, Step 1, LR: 0.000220, Current Loss: 0.5305, Avg Loss: 0.5305\n",
      "Diff stats — min: -10.0000, max: 10.0000, mean: 7.5737, std: 2.9453\n",
      "\n"
     ]
    },
    {
     "name": "stderr",
     "output_type": "stream",
     "text": [
      "/usr/local/lib/python3.11/dist-packages/pandas/core/computation/expressions.py:73: RuntimeWarning: invalid value encountered in less_equal\n",
      "  return op(a, b)\n",
      "/usr/local/lib/python3.11/dist-packages/pandas/core/arraylike.py:399: RuntimeWarning: invalid value encountered in log\n",
      "  result = getattr(ufunc, method)(*inputs, **kwargs)\n"
     ]
    },
    {
     "name": "stdout",
     "output_type": "stream",
     "text": [
      "Step 11370 — Test metrics:\n",
      "  precision@10: 0.015016502\n",
      "  recall@10: 0.015092368\n",
      "  ndcg@10: 0.015594227\n",
      "  map@10: 0.005759132\n",
      "Epoch 380, Step 20, LR: 0.000220, Current Loss: 0.5212, Avg Loss: 0.5221\n",
      "Diff stats — min: -6.0642, max: 10.0000, mean: 7.5818, std: 2.9070\n",
      "\n",
      "Epoch 380 completed, Train Loss: 0.000129\n",
      "\n",
      "Epoch 381, Step 1, LR: 0.000215, Current Loss: 0.5169, Avg Loss: 0.5169\n",
      "Diff stats — min: -4.2765, max: 10.0000, mean: 7.5853, std: 2.8865\n",
      "\n"
     ]
    },
    {
     "name": "stderr",
     "output_type": "stream",
     "text": [
      "/usr/local/lib/python3.11/dist-packages/pandas/core/computation/expressions.py:73: RuntimeWarning: invalid value encountered in less_equal\n",
      "  return op(a, b)\n",
      "/usr/local/lib/python3.11/dist-packages/pandas/core/arraylike.py:399: RuntimeWarning: invalid value encountered in log\n",
      "  result = getattr(ufunc, method)(*inputs, **kwargs)\n"
     ]
    },
    {
     "name": "stdout",
     "output_type": "stream",
     "text": [
      "Step 11400 — Test metrics:\n",
      "  precision@10: 0.014851485\n",
      "  recall@10: 0.014924732\n",
      "  ndcg@10: 0.015471441\n",
      "  map@10: 0.005704320\n",
      "Epoch 381, Step 20, LR: 0.000215, Current Loss: 0.5254, Avg Loss: 0.5176\n",
      "Diff stats — min: -5.6744, max: 10.0000, mean: 7.5605, std: 2.9573\n",
      "\n",
      "Epoch 381 completed, Train Loss: 0.000129\n",
      "\n",
      "Epoch 382, Step 1, LR: 0.000215, Current Loss: 0.4981, Avg Loss: 0.4981\n",
      "Diff stats — min: -3.0465, max: 10.0000, mean: 7.6121, std: 2.8849\n",
      "\n"
     ]
    },
    {
     "name": "stderr",
     "output_type": "stream",
     "text": [
      "/usr/local/lib/python3.11/dist-packages/pandas/core/computation/expressions.py:73: RuntimeWarning: invalid value encountered in less_equal\n",
      "  return op(a, b)\n",
      "/usr/local/lib/python3.11/dist-packages/pandas/core/arraylike.py:399: RuntimeWarning: invalid value encountered in log\n",
      "  result = getattr(ufunc, method)(*inputs, **kwargs)\n"
     ]
    },
    {
     "name": "stdout",
     "output_type": "stream",
     "text": [
      "Step 11430 — Test metrics:\n",
      "  precision@10: 0.014639321\n",
      "  recall@10: 0.014712568\n",
      "  ndcg@10: 0.015346821\n",
      "  map@10: 0.005704560\n",
      "Epoch 382, Step 20, LR: 0.000215, Current Loss: 0.5217, Avg Loss: 0.5200\n",
      "Diff stats — min: -5.0197, max: 10.0000, mean: 7.6237, std: 2.9216\n",
      "\n",
      "Epoch 382 completed, Train Loss: 0.000129\n",
      "\n",
      "Epoch 383, Step 1, LR: 0.000215, Current Loss: 0.5081, Avg Loss: 0.5081\n",
      "Diff stats — min: -4.9831, max: 10.0000, mean: 7.5638, std: 2.9300\n",
      "\n"
     ]
    },
    {
     "name": "stderr",
     "output_type": "stream",
     "text": [
      "/usr/local/lib/python3.11/dist-packages/pandas/core/computation/expressions.py:73: RuntimeWarning: invalid value encountered in less_equal\n",
      "  return op(a, b)\n",
      "/usr/local/lib/python3.11/dist-packages/pandas/core/arraylike.py:399: RuntimeWarning: invalid value encountered in log\n",
      "  result = getattr(ufunc, method)(*inputs, **kwargs)\n"
     ]
    },
    {
     "name": "stdout",
     "output_type": "stream",
     "text": [
      "Step 11460 — Test metrics:\n",
      "  precision@10: 0.014592174\n",
      "  recall@10: 0.014665421\n",
      "  ndcg@10: 0.015279043\n",
      "  map@10: 0.005638801\n",
      "Epoch 383, Step 20, LR: 0.000215, Current Loss: 0.5245, Avg Loss: 0.5189\n",
      "Diff stats — min: -4.7171, max: 10.0000, mean: 7.5914, std: 2.9075\n",
      "\n",
      "Epoch 383 completed, Train Loss: 0.000128\n",
      "\n",
      "Epoch 384, Step 1, LR: 0.000215, Current Loss: 0.5128, Avg Loss: 0.5128\n",
      "Diff stats — min: -6.7231, max: 10.0000, mean: 7.6455, std: 2.8852\n",
      "\n"
     ]
    },
    {
     "name": "stderr",
     "output_type": "stream",
     "text": [
      "/usr/local/lib/python3.11/dist-packages/pandas/core/computation/expressions.py:73: RuntimeWarning: invalid value encountered in less_equal\n",
      "  return op(a, b)\n",
      "/usr/local/lib/python3.11/dist-packages/pandas/core/arraylike.py:399: RuntimeWarning: invalid value encountered in log\n",
      "  result = getattr(ufunc, method)(*inputs, **kwargs)\n"
     ]
    },
    {
     "name": "stdout",
     "output_type": "stream",
     "text": [
      "Step 11490 — Test metrics:\n",
      "  precision@10: 0.014733616\n",
      "  recall@10: 0.014806863\n",
      "  ndcg@10: 0.015443551\n",
      "  map@10: 0.005729979\n",
      "Epoch 384, Step 20, LR: 0.000215, Current Loss: 0.5260, Avg Loss: 0.5194\n",
      "Diff stats — min: -7.4983, max: 10.0000, mean: 7.5087, std: 2.9804\n",
      "\n",
      "Epoch 384 completed, Train Loss: 0.000129\n",
      "\n",
      "Epoch 385, Step 1, LR: 0.000215, Current Loss: 0.5192, Avg Loss: 0.5192\n",
      "Diff stats — min: -4.9941, max: 10.0000, mean: 7.5858, std: 2.9386\n",
      "\n"
     ]
    },
    {
     "name": "stderr",
     "output_type": "stream",
     "text": [
      "/usr/local/lib/python3.11/dist-packages/pandas/core/computation/expressions.py:73: RuntimeWarning: invalid value encountered in less_equal\n",
      "  return op(a, b)\n",
      "/usr/local/lib/python3.11/dist-packages/pandas/core/arraylike.py:399: RuntimeWarning: invalid value encountered in log\n",
      "  result = getattr(ufunc, method)(*inputs, **kwargs)\n"
     ]
    },
    {
     "name": "stdout",
     "output_type": "stream",
     "text": [
      "Step 11520 — Test metrics:\n",
      "  precision@10: 0.014851485\n",
      "  recall@10: 0.014924732\n",
      "  ndcg@10: 0.015546982\n",
      "  map@10: 0.005781736\n",
      "Epoch 385, Step 20, LR: 0.000215, Current Loss: 0.5325, Avg Loss: 0.5203\n",
      "Diff stats — min: -8.2941, max: 10.0000, mean: 7.5673, std: 2.9253\n",
      "\n",
      "Epoch 385 completed, Train Loss: 0.000128\n",
      "\n",
      "Epoch 386, Step 1, LR: 0.000211, Current Loss: 0.5140, Avg Loss: 0.5140\n",
      "Diff stats — min: -4.0266, max: 10.0000, mean: 7.5292, std: 2.9349\n",
      "\n"
     ]
    },
    {
     "name": "stderr",
     "output_type": "stream",
     "text": [
      "/usr/local/lib/python3.11/dist-packages/pandas/core/computation/expressions.py:73: RuntimeWarning: invalid value encountered in less_equal\n",
      "  return op(a, b)\n",
      "/usr/local/lib/python3.11/dist-packages/pandas/core/arraylike.py:399: RuntimeWarning: invalid value encountered in log\n",
      "  result = getattr(ufunc, method)(*inputs, **kwargs)\n"
     ]
    },
    {
     "name": "stdout",
     "output_type": "stream",
     "text": [
      "Step 11550 — Test metrics:\n",
      "  precision@10: 0.014969354\n",
      "  recall@10: 0.015050459\n",
      "  ndcg@10: 0.015662246\n",
      "  map@10: 0.005884853\n",
      "Epoch 386, Step 20, LR: 0.000211, Current Loss: 0.5298, Avg Loss: 0.5199\n",
      "Diff stats — min: -5.9938, max: 10.0000, mean: 7.5305, std: 2.9602\n",
      "\n",
      "Epoch 386 completed, Train Loss: 0.000128\n",
      "\n",
      "Epoch 387, Step 1, LR: 0.000211, Current Loss: 0.5091, Avg Loss: 0.5091\n",
      "Diff stats — min: -7.8399, max: 10.0000, mean: 7.4964, std: 2.9473\n",
      "\n"
     ]
    },
    {
     "name": "stderr",
     "output_type": "stream",
     "text": [
      "/usr/local/lib/python3.11/dist-packages/pandas/core/computation/expressions.py:73: RuntimeWarning: invalid value encountered in less_equal\n",
      "  return op(a, b)\n",
      "/usr/local/lib/python3.11/dist-packages/pandas/core/arraylike.py:399: RuntimeWarning: invalid value encountered in log\n",
      "  result = getattr(ufunc, method)(*inputs, **kwargs)\n"
     ]
    },
    {
     "name": "stdout",
     "output_type": "stream",
     "text": [
      "Step 11580 — Test metrics:\n",
      "  precision@10: 0.014804338\n",
      "  recall@10: 0.014880204\n",
      "  ndcg@10: 0.015471149\n",
      "  map@10: 0.005781519\n",
      "Epoch 387, Step 20, LR: 0.000211, Current Loss: 0.5212, Avg Loss: 0.5201\n",
      "Diff stats — min: -6.0184, max: 10.0000, mean: 7.5478, std: 2.9326\n",
      "\n",
      "Epoch 387 completed, Train Loss: 0.000128\n",
      "\n",
      "Epoch 388, Step 1, LR: 0.000211, Current Loss: 0.5210, Avg Loss: 0.5210\n",
      "Diff stats — min: -6.9487, max: 10.0000, mean: 7.6053, std: 2.9207\n",
      "\n"
     ]
    },
    {
     "name": "stderr",
     "output_type": "stream",
     "text": [
      "/usr/local/lib/python3.11/dist-packages/pandas/core/computation/expressions.py:73: RuntimeWarning: invalid value encountered in less_equal\n",
      "  return op(a, b)\n",
      "/usr/local/lib/python3.11/dist-packages/pandas/core/arraylike.py:399: RuntimeWarning: invalid value encountered in log\n",
      "  result = getattr(ufunc, method)(*inputs, **kwargs)\n"
     ]
    },
    {
     "name": "stdout",
     "output_type": "stream",
     "text": [
      "Step 11610 — Test metrics:\n",
      "  precision@10: 0.014827911\n",
      "  recall@10: 0.014906397\n",
      "  ndcg@10: 0.015600632\n",
      "  map@10: 0.005853438\n",
      "Epoch 388, Step 20, LR: 0.000211, Current Loss: 0.5083, Avg Loss: 0.5204\n",
      "Diff stats — min: -6.2618, max: 10.0000, mean: 7.6160, std: 2.9140\n",
      "\n",
      "Epoch 388 completed, Train Loss: 0.000129\n",
      "\n",
      "Epoch 389, Step 1, LR: 0.000211, Current Loss: 0.5119, Avg Loss: 0.5119\n",
      "Diff stats — min: -5.4636, max: 10.0000, mean: 7.5734, std: 2.9340\n",
      "\n"
     ]
    },
    {
     "name": "stderr",
     "output_type": "stream",
     "text": [
      "/usr/local/lib/python3.11/dist-packages/pandas/core/computation/expressions.py:73: RuntimeWarning: invalid value encountered in less_equal\n",
      "  return op(a, b)\n",
      "/usr/local/lib/python3.11/dist-packages/pandas/core/arraylike.py:399: RuntimeWarning: invalid value encountered in log\n",
      "  result = getattr(ufunc, method)(*inputs, **kwargs)\n"
     ]
    },
    {
     "name": "stdout",
     "output_type": "stream",
     "text": [
      "Step 11640 — Test metrics:\n",
      "  precision@10: 0.014898633\n",
      "  recall@10: 0.014977118\n",
      "  ndcg@10: 0.015601678\n",
      "  map@10: 0.005834674\n",
      "Epoch 389, Step 20, LR: 0.000211, Current Loss: 0.5315, Avg Loss: 0.5200\n",
      "Diff stats — min: -7.5525, max: 10.0000, mean: 7.5750, std: 2.9861\n",
      "\n",
      "Epoch 389 completed, Train Loss: 0.000128\n",
      "\n",
      "Epoch 390, Step 1, LR: 0.000211, Current Loss: 0.5018, Avg Loss: 0.5018\n",
      "Diff stats — min: -4.9221, max: 10.0000, mean: 7.6279, std: 2.8767\n",
      "\n"
     ]
    },
    {
     "name": "stderr",
     "output_type": "stream",
     "text": [
      "/usr/local/lib/python3.11/dist-packages/pandas/core/computation/expressions.py:73: RuntimeWarning: invalid value encountered in less_equal\n",
      "  return op(a, b)\n",
      "/usr/local/lib/python3.11/dist-packages/pandas/core/arraylike.py:399: RuntimeWarning: invalid value encountered in log\n",
      "  result = getattr(ufunc, method)(*inputs, **kwargs)\n"
     ]
    },
    {
     "name": "stdout",
     "output_type": "stream",
     "text": [
      "Step 11670 — Test metrics:\n",
      "  precision@10: 0.015134371\n",
      "  recall@10: 0.015212856\n",
      "  ndcg@10: 0.015846020\n",
      "  map@10: 0.005956376\n",
      "Epoch 390, Step 20, LR: 0.000211, Current Loss: 0.5266, Avg Loss: 0.5174\n",
      "Diff stats — min: -4.2337, max: 10.0000, mean: 7.6344, std: 2.8830\n",
      "\n",
      "Epoch 390 completed, Train Loss: 0.000128\n",
      "\n",
      "Epoch 391, Step 1, LR: 0.000207, Current Loss: 0.5264, Avg Loss: 0.5264\n",
      "Diff stats — min: -6.6824, max: 10.0000, mean: 7.5203, std: 3.0087\n",
      "\n"
     ]
    },
    {
     "name": "stderr",
     "output_type": "stream",
     "text": [
      "/usr/local/lib/python3.11/dist-packages/pandas/core/computation/expressions.py:73: RuntimeWarning: invalid value encountered in less_equal\n",
      "  return op(a, b)\n",
      "/usr/local/lib/python3.11/dist-packages/pandas/core/arraylike.py:399: RuntimeWarning: invalid value encountered in log\n",
      "  result = getattr(ufunc, method)(*inputs, **kwargs)\n"
     ]
    },
    {
     "name": "stdout",
     "output_type": "stream",
     "text": [
      "Step 11700 — Test metrics:\n",
      "  precision@10: 0.014875059\n",
      "  recall@10: 0.014950925\n",
      "  ndcg@10: 0.015690438\n",
      "  map@10: 0.005938962\n",
      "Epoch 391, Step 20, LR: 0.000207, Current Loss: 0.5185, Avg Loss: 0.5193\n",
      "Diff stats — min: -6.7430, max: 10.0000, mean: 7.6471, std: 2.9084\n",
      "\n",
      "Epoch 391 completed, Train Loss: 0.000128\n",
      "\n",
      "Epoch 392, Step 1, LR: 0.000207, Current Loss: 0.5144, Avg Loss: 0.5144\n",
      "Diff stats — min: -4.9030, max: 10.0000, mean: 7.5181, std: 2.9885\n",
      "\n"
     ]
    },
    {
     "name": "stderr",
     "output_type": "stream",
     "text": [
      "/usr/local/lib/python3.11/dist-packages/pandas/core/computation/expressions.py:73: RuntimeWarning: invalid value encountered in less_equal\n",
      "  return op(a, b)\n",
      "/usr/local/lib/python3.11/dist-packages/pandas/core/arraylike.py:399: RuntimeWarning: invalid value encountered in log\n",
      "  result = getattr(ufunc, method)(*inputs, **kwargs)\n"
     ]
    },
    {
     "name": "stdout",
     "output_type": "stream",
     "text": [
      "Step 11730 — Test metrics:\n",
      "  precision@10: 0.014969354\n",
      "  recall@10: 0.015042601\n",
      "  ndcg@10: 0.015636635\n",
      "  map@10: 0.005858654\n",
      "Epoch 392, Step 20, LR: 0.000207, Current Loss: 0.5089, Avg Loss: 0.5195\n",
      "Diff stats — min: -4.6879, max: 10.0000, mean: 7.5908, std: 2.8663\n",
      "\n",
      "Epoch 392 completed, Train Loss: 0.000129\n",
      "\n",
      "Epoch 393, Step 1, LR: 0.000207, Current Loss: 0.5216, Avg Loss: 0.5216\n",
      "Diff stats — min: -4.6607, max: 10.0000, mean: 7.6447, std: 2.8837\n",
      "\n"
     ]
    },
    {
     "name": "stderr",
     "output_type": "stream",
     "text": [
      "/usr/local/lib/python3.11/dist-packages/pandas/core/computation/expressions.py:73: RuntimeWarning: invalid value encountered in less_equal\n",
      "  return op(a, b)\n",
      "/usr/local/lib/python3.11/dist-packages/pandas/core/arraylike.py:399: RuntimeWarning: invalid value encountered in log\n",
      "  result = getattr(ufunc, method)(*inputs, **kwargs)\n"
     ]
    },
    {
     "name": "stdout",
     "output_type": "stream",
     "text": [
      "Step 11760 — Test metrics:\n",
      "  precision@10: 0.015016502\n",
      "  recall@10: 0.015092368\n",
      "  ndcg@10: 0.015611050\n",
      "  map@10: 0.005827208\n",
      "Epoch 393, Step 20, LR: 0.000207, Current Loss: 0.5070, Avg Loss: 0.5164\n",
      "Diff stats — min: -3.9611, max: 10.0000, mean: 7.6380, std: 2.8402\n",
      "\n",
      "Epoch 393 completed, Train Loss: 0.000128\n",
      "\n",
      "Epoch 394, Step 1, LR: 0.000207, Current Loss: 0.5239, Avg Loss: 0.5239\n",
      "Diff stats — min: -9.3439, max: 10.0000, mean: 7.5013, std: 3.0043\n",
      "\n"
     ]
    },
    {
     "name": "stderr",
     "output_type": "stream",
     "text": [
      "/usr/local/lib/python3.11/dist-packages/pandas/core/computation/expressions.py:73: RuntimeWarning: invalid value encountered in less_equal\n",
      "  return op(a, b)\n",
      "/usr/local/lib/python3.11/dist-packages/pandas/core/arraylike.py:399: RuntimeWarning: invalid value encountered in log\n",
      "  result = getattr(ufunc, method)(*inputs, **kwargs)\n"
     ]
    },
    {
     "name": "stdout",
     "output_type": "stream",
     "text": [
      "Step 11790 — Test metrics:\n",
      "  precision@10: 0.014710042\n",
      "  recall@10: 0.014785909\n",
      "  ndcg@10: 0.015346379\n",
      "  map@10: 0.005746332\n",
      "Epoch 394, Step 20, LR: 0.000207, Current Loss: 0.5240, Avg Loss: 0.5191\n",
      "Diff stats — min: -4.8035, max: 10.0000, mean: 7.6452, std: 2.8930\n",
      "\n",
      "Epoch 394 completed, Train Loss: 0.000128\n",
      "\n",
      "Epoch 395, Step 1, LR: 0.000207, Current Loss: 0.5203, Avg Loss: 0.5203\n",
      "Diff stats — min: -5.9290, max: 10.0000, mean: 7.5525, std: 2.9077\n",
      "\n"
     ]
    },
    {
     "name": "stderr",
     "output_type": "stream",
     "text": [
      "/usr/local/lib/python3.11/dist-packages/pandas/core/computation/expressions.py:73: RuntimeWarning: invalid value encountered in less_equal\n",
      "  return op(a, b)\n",
      "/usr/local/lib/python3.11/dist-packages/pandas/core/arraylike.py:399: RuntimeWarning: invalid value encountered in log\n",
      "  result = getattr(ufunc, method)(*inputs, **kwargs)\n"
     ]
    },
    {
     "name": "stdout",
     "output_type": "stream",
     "text": [
      "Step 11820 — Test metrics:\n",
      "  precision@10: 0.014710042\n",
      "  recall@10: 0.014783290\n",
      "  ndcg@10: 0.015518926\n",
      "  map@10: 0.005840258\n",
      "Epoch 395, Step 20, LR: 0.000207, Current Loss: 0.5087, Avg Loss: 0.5190\n",
      "Diff stats — min: -5.1132, max: 10.0000, mean: 7.6618, std: 2.9199\n",
      "\n",
      "Epoch 395 completed, Train Loss: 0.000128\n",
      "\n",
      "Epoch 396, Step 1, LR: 0.000203, Current Loss: 0.5177, Avg Loss: 0.5177\n",
      "Diff stats — min: -8.6161, max: 10.0000, mean: 7.5818, std: 2.9420\n",
      "\n"
     ]
    },
    {
     "name": "stderr",
     "output_type": "stream",
     "text": [
      "/usr/local/lib/python3.11/dist-packages/pandas/core/computation/expressions.py:73: RuntimeWarning: invalid value encountered in less_equal\n",
      "  return op(a, b)\n",
      "/usr/local/lib/python3.11/dist-packages/pandas/core/arraylike.py:399: RuntimeWarning: invalid value encountered in log\n",
      "  result = getattr(ufunc, method)(*inputs, **kwargs)\n"
     ]
    },
    {
     "name": "stdout",
     "output_type": "stream",
     "text": [
      "Step 11850 — Test metrics:\n",
      "  precision@10: 0.014992928\n",
      "  recall@10: 0.015066175\n",
      "  ndcg@10: 0.015674782\n",
      "  map@10: 0.005894263\n",
      "Epoch 396, Step 20, LR: 0.000203, Current Loss: 0.5232, Avg Loss: 0.5208\n",
      "Diff stats — min: -8.7145, max: 10.0000, mean: 7.6147, std: 2.9333\n",
      "\n",
      "Epoch 396 completed, Train Loss: 0.000128\n",
      "\n",
      "Epoch 397, Step 1, LR: 0.000203, Current Loss: 0.5152, Avg Loss: 0.5152\n",
      "Diff stats — min: -4.9213, max: 10.0000, mean: 7.6448, std: 2.8788\n",
      "\n"
     ]
    },
    {
     "name": "stderr",
     "output_type": "stream",
     "text": [
      "/usr/local/lib/python3.11/dist-packages/pandas/core/computation/expressions.py:73: RuntimeWarning: invalid value encountered in less_equal\n",
      "  return op(a, b)\n",
      "/usr/local/lib/python3.11/dist-packages/pandas/core/arraylike.py:399: RuntimeWarning: invalid value encountered in log\n",
      "  result = getattr(ufunc, method)(*inputs, **kwargs)\n"
     ]
    },
    {
     "name": "stdout",
     "output_type": "stream",
     "text": [
      "Step 11880 — Test metrics:\n",
      "  precision@10: 0.014780764\n",
      "  recall@10: 0.014854011\n",
      "  ndcg@10: 0.015464356\n",
      "  map@10: 0.005802471\n",
      "Epoch 397, Step 20, LR: 0.000203, Current Loss: 0.5169, Avg Loss: 0.5172\n",
      "Diff stats — min: -6.6612, max: 10.0000, mean: 7.6333, std: 2.8868\n",
      "\n",
      "Epoch 397 completed, Train Loss: 0.000128\n",
      "\n",
      "Epoch 398, Step 1, LR: 0.000203, Current Loss: 0.4989, Avg Loss: 0.4989\n",
      "Diff stats — min: -5.2508, max: 10.0000, mean: 7.6675, std: 2.8892\n",
      "\n"
     ]
    },
    {
     "name": "stderr",
     "output_type": "stream",
     "text": [
      "/usr/local/lib/python3.11/dist-packages/pandas/core/computation/expressions.py:73: RuntimeWarning: invalid value encountered in less_equal\n",
      "  return op(a, b)\n",
      "/usr/local/lib/python3.11/dist-packages/pandas/core/arraylike.py:399: RuntimeWarning: invalid value encountered in log\n",
      "  result = getattr(ufunc, method)(*inputs, **kwargs)\n"
     ]
    },
    {
     "name": "stdout",
     "output_type": "stream",
     "text": [
      "Step 11910 — Test metrics:\n",
      "  precision@10: 0.015252240\n",
      "  recall@10: 0.015330725\n",
      "  ndcg@10: 0.015956829\n",
      "  map@10: 0.005990459\n",
      "Epoch 398, Step 20, LR: 0.000203, Current Loss: 0.5403, Avg Loss: 0.5163\n",
      "Diff stats — min: -4.3473, max: 10.0000, mean: 7.5905, std: 2.9480\n",
      "\n",
      "Epoch 398 completed, Train Loss: 0.000128\n",
      "\n",
      "Epoch 399, Step 1, LR: 0.000203, Current Loss: 0.5144, Avg Loss: 0.5144\n",
      "Diff stats — min: -5.0181, max: 10.0000, mean: 7.7308, std: 2.8310\n",
      "\n"
     ]
    },
    {
     "name": "stderr",
     "output_type": "stream",
     "text": [
      "/usr/local/lib/python3.11/dist-packages/pandas/core/computation/expressions.py:73: RuntimeWarning: invalid value encountered in less_equal\n",
      "  return op(a, b)\n",
      "/usr/local/lib/python3.11/dist-packages/pandas/core/arraylike.py:399: RuntimeWarning: invalid value encountered in log\n",
      "  result = getattr(ufunc, method)(*inputs, **kwargs)\n"
     ]
    },
    {
     "name": "stdout",
     "output_type": "stream",
     "text": [
      "Step 11940 — Test metrics:\n",
      "  precision@10: 0.015087223\n",
      "  recall@10: 0.015155232\n",
      "  ndcg@10: 0.015765893\n",
      "  map@10: 0.005957983\n",
      "Epoch 399, Step 20, LR: 0.000203, Current Loss: 0.4965, Avg Loss: 0.5168\n",
      "Diff stats — min: -8.5612, max: 10.0000, mean: 7.6966, std: 2.8875\n",
      "\n",
      "Epoch 399 completed, Train Loss: 0.000128\n",
      "\n",
      "Epoch 400, Step 1, LR: 0.000203, Current Loss: 0.5159, Avg Loss: 0.5159\n",
      "Diff stats — min: -6.7721, max: 10.0000, mean: 7.5953, std: 2.9114\n",
      "\n"
     ]
    },
    {
     "name": "stderr",
     "output_type": "stream",
     "text": [
      "/usr/local/lib/python3.11/dist-packages/pandas/core/computation/expressions.py:73: RuntimeWarning: invalid value encountered in less_equal\n",
      "  return op(a, b)\n",
      "/usr/local/lib/python3.11/dist-packages/pandas/core/arraylike.py:399: RuntimeWarning: invalid value encountered in log\n",
      "  result = getattr(ufunc, method)(*inputs, **kwargs)\n"
     ]
    },
    {
     "name": "stdout",
     "output_type": "stream",
     "text": [
      "Step 11970 — Test metrics:\n",
      "  precision@10: 0.015157944\n",
      "  recall@10: 0.015231191\n",
      "  ndcg@10: 0.015857733\n",
      "  map@10: 0.005987268\n",
      "Epoch 400, Step 20, LR: 0.000203, Current Loss: 0.5197, Avg Loss: 0.5209\n",
      "Diff stats — min: -4.3108, max: 10.0000, mean: 7.6464, std: 2.9491\n",
      "\n",
      "Epoch 400 completed, Train Loss: 0.000128\n",
      "\n",
      "Epoch 401, Step 1, LR: 0.000199, Current Loss: 0.5338, Avg Loss: 0.5338\n",
      "Diff stats — min: -5.1461, max: 10.0000, mean: 7.6359, std: 2.9187\n",
      "\n"
     ]
    },
    {
     "name": "stderr",
     "output_type": "stream",
     "text": [
      "/usr/local/lib/python3.11/dist-packages/pandas/core/computation/expressions.py:73: RuntimeWarning: invalid value encountered in less_equal\n",
      "  return op(a, b)\n",
      "/usr/local/lib/python3.11/dist-packages/pandas/core/arraylike.py:399: RuntimeWarning: invalid value encountered in log\n",
      "  result = getattr(ufunc, method)(*inputs, **kwargs)\n"
     ]
    },
    {
     "name": "stdout",
     "output_type": "stream",
     "text": [
      "Step 12000 — Test metrics:\n",
      "  precision@10: 0.014969354\n",
      "  recall@10: 0.015042601\n",
      "  ndcg@10: 0.015812844\n",
      "  map@10: 0.005968962\n",
      "Epoch 401, Step 20, LR: 0.000199, Current Loss: 0.5215, Avg Loss: 0.5189\n",
      "Diff stats — min: -4.6344, max: 10.0000, mean: 7.5828, std: 2.9296\n",
      "\n",
      "Epoch 401 completed, Train Loss: 0.000128\n",
      "\n",
      "Epoch 402, Step 1, LR: 0.000199, Current Loss: 0.5030, Avg Loss: 0.5030\n",
      "Diff stats — min: -5.0221, max: 10.0000, mean: 7.6533, std: 2.9237\n",
      "\n"
     ]
    },
    {
     "name": "stderr",
     "output_type": "stream",
     "text": [
      "/usr/local/lib/python3.11/dist-packages/pandas/core/computation/expressions.py:73: RuntimeWarning: invalid value encountered in less_equal\n",
      "  return op(a, b)\n",
      "/usr/local/lib/python3.11/dist-packages/pandas/core/arraylike.py:399: RuntimeWarning: invalid value encountered in log\n",
      "  result = getattr(ufunc, method)(*inputs, **kwargs)\n"
     ]
    },
    {
     "name": "stdout",
     "output_type": "stream",
     "text": [
      "Step 12030 — Test metrics:\n",
      "  precision@10: 0.015181518\n",
      "  recall@10: 0.015257385\n",
      "  ndcg@10: 0.015888511\n",
      "  map@10: 0.005943715\n",
      "Epoch 402, Step 20, LR: 0.000199, Current Loss: 0.5196, Avg Loss: 0.5183\n",
      "Diff stats — min: -5.8937, max: 10.0000, mean: 7.6514, std: 2.8827\n",
      "\n",
      "Epoch 402 completed, Train Loss: 0.000128\n",
      "\n",
      "Epoch 403, Step 1, LR: 0.000199, Current Loss: 0.5092, Avg Loss: 0.5092\n",
      "Diff stats — min: -5.4430, max: 10.0000, mean: 7.5953, std: 2.8893\n",
      "\n"
     ]
    },
    {
     "name": "stderr",
     "output_type": "stream",
     "text": [
      "/usr/local/lib/python3.11/dist-packages/pandas/core/computation/expressions.py:73: RuntimeWarning: invalid value encountered in less_equal\n",
      "  return op(a, b)\n",
      "/usr/local/lib/python3.11/dist-packages/pandas/core/arraylike.py:399: RuntimeWarning: invalid value encountered in log\n",
      "  result = getattr(ufunc, method)(*inputs, **kwargs)\n"
     ]
    },
    {
     "name": "stdout",
     "output_type": "stream",
     "text": [
      "Step 12060 — Test metrics:\n",
      "  precision@10: 0.015181518\n",
      "  recall@10: 0.015262623\n",
      "  ndcg@10: 0.015958920\n",
      "  map@10: 0.005993900\n",
      "Epoch 403, Step 20, LR: 0.000199, Current Loss: 0.5122, Avg Loss: 0.5170\n",
      "Diff stats — min: -6.1008, max: 10.0000, mean: 7.6965, std: 2.8428\n",
      "\n",
      "Epoch 403 completed, Train Loss: 0.000128\n",
      "\n",
      "Epoch 404, Step 1, LR: 0.000199, Current Loss: 0.5245, Avg Loss: 0.5245\n",
      "Diff stats — min: -4.2484, max: 10.0000, mean: 7.6133, std: 2.9004\n",
      "\n"
     ]
    },
    {
     "name": "stderr",
     "output_type": "stream",
     "text": [
      "/usr/local/lib/python3.11/dist-packages/pandas/core/computation/expressions.py:73: RuntimeWarning: invalid value encountered in less_equal\n",
      "  return op(a, b)\n",
      "/usr/local/lib/python3.11/dist-packages/pandas/core/arraylike.py:399: RuntimeWarning: invalid value encountered in log\n",
      "  result = getattr(ufunc, method)(*inputs, **kwargs)\n"
     ]
    },
    {
     "name": "stdout",
     "output_type": "stream",
     "text": [
      "Step 12090 — Test metrics:\n",
      "  precision@10: 0.015040075\n",
      "  recall@10: 0.015123800\n",
      "  ndcg@10: 0.015893840\n",
      "  map@10: 0.006043873\n",
      "Epoch 404, Step 20, LR: 0.000199, Current Loss: 0.5271, Avg Loss: 0.5193\n",
      "Diff stats — min: -7.6945, max: 10.0000, mean: 7.6243, std: 2.9153\n",
      "\n",
      "Epoch 404 completed, Train Loss: 0.000128\n",
      "\n",
      "Epoch 405, Step 1, LR: 0.000199, Current Loss: 0.5094, Avg Loss: 0.5094\n",
      "Diff stats — min: -6.6378, max: 10.0000, mean: 7.6316, std: 2.8891\n",
      "\n"
     ]
    },
    {
     "name": "stderr",
     "output_type": "stream",
     "text": [
      "/usr/local/lib/python3.11/dist-packages/pandas/core/computation/expressions.py:73: RuntimeWarning: invalid value encountered in less_equal\n",
      "  return op(a, b)\n",
      "/usr/local/lib/python3.11/dist-packages/pandas/core/arraylike.py:399: RuntimeWarning: invalid value encountered in log\n",
      "  result = getattr(ufunc, method)(*inputs, **kwargs)\n"
     ]
    },
    {
     "name": "stdout",
     "output_type": "stream",
     "text": [
      "Step 12120 — Test metrics:\n",
      "  precision@10: 0.015110797\n",
      "  recall@10: 0.015186663\n",
      "  ndcg@10: 0.015838461\n",
      "  map@10: 0.005997133\n",
      "Epoch 405, Step 20, LR: 0.000199, Current Loss: 0.5056, Avg Loss: 0.5189\n",
      "Diff stats — min: -5.3380, max: 10.0000, mean: 7.5862, std: 2.9089\n",
      "\n",
      "Epoch 405 completed, Train Loss: 0.000128\n",
      "\n",
      "Epoch 406, Step 1, LR: 0.000195, Current Loss: 0.5483, Avg Loss: 0.5483\n",
      "Diff stats — min: -6.8552, max: 10.0000, mean: 7.5564, std: 2.9331\n",
      "\n"
     ]
    },
    {
     "name": "stderr",
     "output_type": "stream",
     "text": [
      "/usr/local/lib/python3.11/dist-packages/pandas/core/computation/expressions.py:73: RuntimeWarning: invalid value encountered in less_equal\n",
      "  return op(a, b)\n",
      "/usr/local/lib/python3.11/dist-packages/pandas/core/arraylike.py:399: RuntimeWarning: invalid value encountered in log\n",
      "  result = getattr(ufunc, method)(*inputs, **kwargs)\n"
     ]
    },
    {
     "name": "stdout",
     "output_type": "stream",
     "text": [
      "Step 12150 — Test metrics:\n",
      "  precision@10: 0.015299387\n",
      "  recall@10: 0.015380492\n",
      "  ndcg@10: 0.016009002\n",
      "  map@10: 0.006064406\n",
      "Epoch 406, Step 20, LR: 0.000195, Current Loss: 0.5437, Avg Loss: 0.5180\n",
      "Diff stats — min: -7.2970, max: 10.0000, mean: 7.5902, std: 2.9536\n",
      "\n",
      "Epoch 406 completed, Train Loss: 0.000128\n",
      "\n",
      "Epoch 407, Step 1, LR: 0.000195, Current Loss: 0.5172, Avg Loss: 0.5172\n",
      "Diff stats — min: -3.9811, max: 10.0000, mean: 7.5947, std: 2.9184\n",
      "\n"
     ]
    },
    {
     "name": "stderr",
     "output_type": "stream",
     "text": [
      "/usr/local/lib/python3.11/dist-packages/pandas/core/computation/expressions.py:73: RuntimeWarning: invalid value encountered in less_equal\n",
      "  return op(a, b)\n",
      "/usr/local/lib/python3.11/dist-packages/pandas/core/arraylike.py:399: RuntimeWarning: invalid value encountered in log\n",
      "  result = getattr(ufunc, method)(*inputs, **kwargs)\n"
     ]
    },
    {
     "name": "stdout",
     "output_type": "stream",
     "text": [
      "Step 12180 — Test metrics:\n",
      "  precision@10: 0.015228666\n",
      "  recall@10: 0.015309771\n",
      "  ndcg@10: 0.016006154\n",
      "  map@10: 0.006067903\n",
      "Epoch 407, Step 20, LR: 0.000195, Current Loss: 0.5184, Avg Loss: 0.5178\n",
      "Diff stats — min: -4.0554, max: 10.0000, mean: 7.6674, std: 2.8960\n",
      "\n",
      "Epoch 407 completed, Train Loss: 0.000128\n",
      "\n",
      "Epoch 408, Step 1, LR: 0.000195, Current Loss: 0.5223, Avg Loss: 0.5223\n",
      "Diff stats — min: -4.6350, max: 10.0000, mean: 7.5643, std: 2.9548\n",
      "\n"
     ]
    },
    {
     "name": "stderr",
     "output_type": "stream",
     "text": [
      "/usr/local/lib/python3.11/dist-packages/pandas/core/computation/expressions.py:73: RuntimeWarning: invalid value encountered in less_equal\n",
      "  return op(a, b)\n",
      "/usr/local/lib/python3.11/dist-packages/pandas/core/arraylike.py:399: RuntimeWarning: invalid value encountered in log\n",
      "  result = getattr(ufunc, method)(*inputs, **kwargs)\n"
     ]
    },
    {
     "name": "stdout",
     "output_type": "stream",
     "text": [
      "Step 12210 — Test metrics:\n",
      "  precision@10: 0.015346535\n",
      "  recall@10: 0.015427640\n",
      "  ndcg@10: 0.015992915\n",
      "  map@10: 0.005976572\n",
      "Epoch 408, Step 20, LR: 0.000195, Current Loss: 0.5278, Avg Loss: 0.5152\n",
      "Diff stats — min: -5.1984, max: 10.0000, mean: 7.5115, std: 2.9692\n",
      "\n",
      "Epoch 408 completed, Train Loss: 0.000128\n",
      "\n",
      "Epoch 409, Step 1, LR: 0.000195, Current Loss: 0.5214, Avg Loss: 0.5214\n",
      "Diff stats — min: -6.5212, max: 10.0000, mean: 7.5839, std: 2.9313\n",
      "\n"
     ]
    },
    {
     "name": "stderr",
     "output_type": "stream",
     "text": [
      "/usr/local/lib/python3.11/dist-packages/pandas/core/computation/expressions.py:73: RuntimeWarning: invalid value encountered in less_equal\n",
      "  return op(a, b)\n",
      "/usr/local/lib/python3.11/dist-packages/pandas/core/arraylike.py:399: RuntimeWarning: invalid value encountered in log\n",
      "  result = getattr(ufunc, method)(*inputs, **kwargs)\n"
     ]
    },
    {
     "name": "stdout",
     "output_type": "stream",
     "text": [
      "Step 12240 — Test metrics:\n",
      "  precision@10: 0.015252240\n",
      "  recall@10: 0.015328106\n",
      "  ndcg@10: 0.015921204\n",
      "  map@10: 0.005985944\n",
      "Epoch 409, Step 20, LR: 0.000195, Current Loss: 0.5125, Avg Loss: 0.5181\n",
      "Diff stats — min: -5.0981, max: 10.0000, mean: 7.7755, std: 2.8062\n",
      "\n",
      "Epoch 409 completed, Train Loss: 0.000128\n",
      "\n",
      "Epoch 410, Step 1, LR: 0.000195, Current Loss: 0.5237, Avg Loss: 0.5237\n",
      "Diff stats — min: -3.9967, max: 10.0000, mean: 7.6110, std: 2.9441\n",
      "\n"
     ]
    },
    {
     "name": "stderr",
     "output_type": "stream",
     "text": [
      "/usr/local/lib/python3.11/dist-packages/pandas/core/computation/expressions.py:73: RuntimeWarning: invalid value encountered in less_equal\n",
      "  return op(a, b)\n",
      "/usr/local/lib/python3.11/dist-packages/pandas/core/arraylike.py:399: RuntimeWarning: invalid value encountered in log\n",
      "  result = getattr(ufunc, method)(*inputs, **kwargs)\n"
     ]
    },
    {
     "name": "stdout",
     "output_type": "stream",
     "text": [
      "Step 12270 — Test metrics:\n",
      "  precision@10: 0.015487977\n",
      "  recall@10: 0.015566463\n",
      "  ndcg@10: 0.016268859\n",
      "  map@10: 0.006134887\n",
      "Epoch 410, Step 20, LR: 0.000195, Current Loss: 0.5110, Avg Loss: 0.5201\n",
      "Diff stats — min: -7.2405, max: 10.0000, mean: 7.6500, std: 2.9091\n",
      "\n",
      "Epoch 410 completed, Train Loss: 0.000128\n",
      "\n",
      "Epoch 411, Step 1, LR: 0.000191, Current Loss: 0.4966, Avg Loss: 0.4966\n",
      "Diff stats — min: -3.7244, max: 10.0000, mean: 7.6260, std: 2.8745\n",
      "\n"
     ]
    },
    {
     "name": "stderr",
     "output_type": "stream",
     "text": [
      "/usr/local/lib/python3.11/dist-packages/pandas/core/computation/expressions.py:73: RuntimeWarning: invalid value encountered in less_equal\n",
      "  return op(a, b)\n",
      "/usr/local/lib/python3.11/dist-packages/pandas/core/arraylike.py:399: RuntimeWarning: invalid value encountered in log\n",
      "  result = getattr(ufunc, method)(*inputs, **kwargs)\n"
     ]
    },
    {
     "name": "stdout",
     "output_type": "stream",
     "text": [
      "Step 12300 — Test metrics:\n",
      "  precision@10: 0.015181518\n",
      "  recall@10: 0.015262623\n",
      "  ndcg@10: 0.015922811\n",
      "  map@10: 0.006008283\n",
      "Epoch 411, Step 20, LR: 0.000191, Current Loss: 0.5210, Avg Loss: 0.5184\n",
      "Diff stats — min: -4.3333, max: 10.0000, mean: 7.6962, std: 2.8696\n",
      "\n",
      "Epoch 411 completed, Train Loss: 0.000128\n",
      "\n",
      "Epoch 412, Step 1, LR: 0.000191, Current Loss: 0.5188, Avg Loss: 0.5188\n",
      "Diff stats — min: -5.4873, max: 10.0000, mean: 7.6402, std: 2.9161\n",
      "\n"
     ]
    },
    {
     "name": "stderr",
     "output_type": "stream",
     "text": [
      "/usr/local/lib/python3.11/dist-packages/pandas/core/computation/expressions.py:73: RuntimeWarning: invalid value encountered in less_equal\n",
      "  return op(a, b)\n",
      "/usr/local/lib/python3.11/dist-packages/pandas/core/arraylike.py:399: RuntimeWarning: invalid value encountered in log\n",
      "  result = getattr(ufunc, method)(*inputs, **kwargs)\n"
     ]
    },
    {
     "name": "stdout",
     "output_type": "stream",
     "text": [
      "Step 12330 — Test metrics:\n",
      "  precision@10: 0.015629420\n",
      "  recall@10: 0.015710525\n",
      "  ndcg@10: 0.016346525\n",
      "  map@10: 0.006170749\n",
      "Epoch 412, Step 20, LR: 0.000191, Current Loss: 0.5269, Avg Loss: 0.5181\n",
      "Diff stats — min: -4.3569, max: 10.0000, mean: 7.6741, std: 2.9068\n",
      "\n",
      "Epoch 412 completed, Train Loss: 0.000128\n",
      "\n",
      "Epoch 413, Step 1, LR: 0.000191, Current Loss: 0.5180, Avg Loss: 0.5180\n",
      "Diff stats — min: -4.6134, max: 10.0000, mean: 7.6442, std: 2.9200\n",
      "\n"
     ]
    },
    {
     "name": "stderr",
     "output_type": "stream",
     "text": [
      "/usr/local/lib/python3.11/dist-packages/pandas/core/computation/expressions.py:73: RuntimeWarning: invalid value encountered in less_equal\n",
      "  return op(a, b)\n",
      "/usr/local/lib/python3.11/dist-packages/pandas/core/arraylike.py:399: RuntimeWarning: invalid value encountered in log\n",
      "  result = getattr(ufunc, method)(*inputs, **kwargs)\n"
     ]
    },
    {
     "name": "stdout",
     "output_type": "stream",
     "text": [
      "Step 12360 — Test metrics:\n",
      "  precision@10: 0.015464404\n",
      "  recall@10: 0.015555612\n",
      "  ndcg@10: 0.016158611\n",
      "  map@10: 0.006136050\n",
      "Epoch 413, Step 20, LR: 0.000191, Current Loss: 0.5162, Avg Loss: 0.5171\n",
      "Diff stats — min: -6.1922, max: 10.0000, mean: 7.6054, std: 2.9592\n",
      "\n",
      "Epoch 413 completed, Train Loss: 0.000128\n",
      "\n",
      "Epoch 414, Step 1, LR: 0.000191, Current Loss: 0.4951, Avg Loss: 0.4951\n",
      "Diff stats — min: -3.7839, max: 10.0000, mean: 7.6905, std: 2.8168\n",
      "\n"
     ]
    },
    {
     "name": "stderr",
     "output_type": "stream",
     "text": [
      "/usr/local/lib/python3.11/dist-packages/pandas/core/computation/expressions.py:73: RuntimeWarning: invalid value encountered in less_equal\n",
      "  return op(a, b)\n",
      "/usr/local/lib/python3.11/dist-packages/pandas/core/arraylike.py:399: RuntimeWarning: invalid value encountered in log\n",
      "  result = getattr(ufunc, method)(*inputs, **kwargs)\n"
     ]
    },
    {
     "name": "stdout",
     "output_type": "stream",
     "text": [
      "Step 12390 — Test metrics:\n",
      "  precision@10: 0.015770863\n",
      "  recall@10: 0.015849349\n",
      "  ndcg@10: 0.016394897\n",
      "  map@10: 0.006207546\n",
      "Epoch 414, Step 20, LR: 0.000191, Current Loss: 0.5224, Avg Loss: 0.5168\n",
      "Diff stats — min: -5.6337, max: 10.0000, mean: 7.6840, std: 2.8744\n",
      "\n",
      "Epoch 414 completed, Train Loss: 0.000128\n",
      "\n",
      "Epoch 415, Step 1, LR: 0.000191, Current Loss: 0.5220, Avg Loss: 0.5220\n",
      "Diff stats — min: -4.7874, max: 10.0000, mean: 7.6402, std: 2.8968\n",
      "\n"
     ]
    },
    {
     "name": "stderr",
     "output_type": "stream",
     "text": [
      "/usr/local/lib/python3.11/dist-packages/pandas/core/computation/expressions.py:73: RuntimeWarning: invalid value encountered in less_equal\n",
      "  return op(a, b)\n",
      "/usr/local/lib/python3.11/dist-packages/pandas/core/arraylike.py:399: RuntimeWarning: invalid value encountered in log\n",
      "  result = getattr(ufunc, method)(*inputs, **kwargs)\n"
     ]
    },
    {
     "name": "stdout",
     "output_type": "stream",
     "text": [
      "Step 12420 — Test metrics:\n",
      "  precision@10: 0.015487977\n",
      "  recall@10: 0.015569082\n",
      "  ndcg@10: 0.016195642\n",
      "  map@10: 0.006149652\n",
      "Epoch 415, Step 20, LR: 0.000191, Current Loss: 0.5142, Avg Loss: 0.5153\n",
      "Diff stats — min: -6.7894, max: 10.0000, mean: 7.6581, std: 2.9241\n",
      "\n",
      "Epoch 415 completed, Train Loss: 0.000128\n",
      "\n",
      "Epoch 416, Step 1, LR: 0.000187, Current Loss: 0.5314, Avg Loss: 0.5314\n",
      "Diff stats — min: -4.9214, max: 10.0000, mean: 7.6175, std: 2.9051\n",
      "\n"
     ]
    },
    {
     "name": "stderr",
     "output_type": "stream",
     "text": [
      "/usr/local/lib/python3.11/dist-packages/pandas/core/computation/expressions.py:73: RuntimeWarning: invalid value encountered in less_equal\n",
      "  return op(a, b)\n",
      "/usr/local/lib/python3.11/dist-packages/pandas/core/arraylike.py:399: RuntimeWarning: invalid value encountered in log\n",
      "  result = getattr(ufunc, method)(*inputs, **kwargs)\n"
     ]
    },
    {
     "name": "stdout",
     "output_type": "stream",
     "text": [
      "Step 12450 — Test metrics:\n",
      "  precision@10: 0.015558699\n",
      "  recall@10: 0.015642423\n",
      "  ndcg@10: 0.016306466\n",
      "  map@10: 0.006217868\n",
      "Epoch 416, Step 20, LR: 0.000187, Current Loss: 0.4943, Avg Loss: 0.5177\n",
      "Diff stats — min: -6.6307, max: 10.0000, mean: 7.7236, std: 2.8305\n",
      "\n",
      "Epoch 416 completed, Train Loss: 0.000128\n",
      "\n",
      "Epoch 417, Step 1, LR: 0.000187, Current Loss: 0.5009, Avg Loss: 0.5009\n",
      "Diff stats — min: -5.6428, max: 10.0000, mean: 7.6380, std: 2.9062\n",
      "\n"
     ]
    },
    {
     "name": "stderr",
     "output_type": "stream",
     "text": [
      "/usr/local/lib/python3.11/dist-packages/pandas/core/computation/expressions.py:73: RuntimeWarning: invalid value encountered in less_equal\n",
      "  return op(a, b)\n",
      "/usr/local/lib/python3.11/dist-packages/pandas/core/arraylike.py:399: RuntimeWarning: invalid value encountered in log\n",
      "  result = getattr(ufunc, method)(*inputs, **kwargs)\n"
     ]
    },
    {
     "name": "stdout",
     "output_type": "stream",
     "text": [
      "Step 12480 — Test metrics:\n",
      "  precision@10: 0.015487977\n",
      "  recall@10: 0.015571702\n",
      "  ndcg@10: 0.016019134\n",
      "  map@10: 0.006048216\n",
      "Epoch 417, Step 20, LR: 0.000187, Current Loss: 0.5129, Avg Loss: 0.5170\n",
      "Diff stats — min: -5.3738, max: 10.0000, mean: 7.6255, std: 2.8811\n",
      "\n",
      "Epoch 417 completed, Train Loss: 0.000128\n",
      "\n",
      "Epoch 418, Step 1, LR: 0.000187, Current Loss: 0.5229, Avg Loss: 0.5229\n",
      "Diff stats — min: -5.3168, max: 10.0000, mean: 7.5937, std: 2.9353\n",
      "\n"
     ]
    },
    {
     "name": "stderr",
     "output_type": "stream",
     "text": [
      "/usr/local/lib/python3.11/dist-packages/pandas/core/computation/expressions.py:73: RuntimeWarning: invalid value encountered in less_equal\n",
      "  return op(a, b)\n",
      "/usr/local/lib/python3.11/dist-packages/pandas/core/arraylike.py:399: RuntimeWarning: invalid value encountered in log\n",
      "  result = getattr(ufunc, method)(*inputs, **kwargs)\n"
     ]
    },
    {
     "name": "stdout",
     "output_type": "stream",
     "text": [
      "Step 12510 — Test metrics:\n",
      "  precision@10: 0.015558699\n",
      "  recall@10: 0.015639804\n",
      "  ndcg@10: 0.016126866\n",
      "  map@10: 0.006066264\n",
      "Epoch 418, Step 20, LR: 0.000187, Current Loss: 0.5149, Avg Loss: 0.5149\n",
      "Diff stats — min: -4.2041, max: 10.0000, mean: 7.7042, std: 2.8750\n",
      "\n",
      "Epoch 418 completed, Train Loss: 0.000128\n",
      "\n",
      "Epoch 419, Step 1, LR: 0.000187, Current Loss: 0.5150, Avg Loss: 0.5150\n",
      "Diff stats — min: -5.1536, max: 10.0000, mean: 7.6720, std: 2.8782\n",
      "\n"
     ]
    },
    {
     "name": "stderr",
     "output_type": "stream",
     "text": [
      "/usr/local/lib/python3.11/dist-packages/pandas/core/computation/expressions.py:73: RuntimeWarning: invalid value encountered in less_equal\n",
      "  return op(a, b)\n",
      "/usr/local/lib/python3.11/dist-packages/pandas/core/arraylike.py:399: RuntimeWarning: invalid value encountered in log\n",
      "  result = getattr(ufunc, method)(*inputs, **kwargs)\n"
     ]
    },
    {
     "name": "stdout",
     "output_type": "stream",
     "text": [
      "Step 12540 — Test metrics:\n",
      "  precision@10: 0.015464404\n",
      "  recall@10: 0.015542889\n",
      "  ndcg@10: 0.016080514\n",
      "  map@10: 0.006059196\n",
      "Epoch 419, Step 20, LR: 0.000187, Current Loss: 0.5262, Avg Loss: 0.5174\n",
      "Diff stats — min: -5.2725, max: 10.0000, mean: 7.5947, std: 2.9538\n",
      "\n",
      "Epoch 419 completed, Train Loss: 0.000128\n",
      "\n",
      "Epoch 420, Step 1, LR: 0.000187, Current Loss: 0.5175, Avg Loss: 0.5175\n",
      "Diff stats — min: -4.5227, max: 10.0000, mean: 7.6372, std: 2.9027\n",
      "\n"
     ]
    },
    {
     "name": "stderr",
     "output_type": "stream",
     "text": [
      "/usr/local/lib/python3.11/dist-packages/pandas/core/computation/expressions.py:73: RuntimeWarning: invalid value encountered in less_equal\n",
      "  return op(a, b)\n",
      "/usr/local/lib/python3.11/dist-packages/pandas/core/arraylike.py:399: RuntimeWarning: invalid value encountered in log\n",
      "  result = getattr(ufunc, method)(*inputs, **kwargs)\n"
     ]
    },
    {
     "name": "stdout",
     "output_type": "stream",
     "text": [
      "Step 12570 — Test metrics:\n",
      "  precision@10: 0.015794437\n",
      "  recall@10: 0.015888264\n",
      "  ndcg@10: 0.016605953\n",
      "  map@10: 0.006328807\n",
      "Epoch 420, Step 20, LR: 0.000187, Current Loss: 0.5072, Avg Loss: 0.5166\n",
      "Diff stats — min: -5.6548, max: 10.0000, mean: 7.7073, std: 2.8559\n",
      "\n",
      "Epoch 420 completed, Train Loss: 0.000128\n",
      "\n",
      "Epoch 421, Step 1, LR: 0.000183, Current Loss: 0.5218, Avg Loss: 0.5218\n",
      "Diff stats — min: -4.6705, max: 10.0000, mean: 7.6657, std: 2.8795\n",
      "\n"
     ]
    },
    {
     "name": "stderr",
     "output_type": "stream",
     "text": [
      "/usr/local/lib/python3.11/dist-packages/pandas/core/computation/expressions.py:73: RuntimeWarning: invalid value encountered in less_equal\n",
      "  return op(a, b)\n",
      "/usr/local/lib/python3.11/dist-packages/pandas/core/arraylike.py:399: RuntimeWarning: invalid value encountered in log\n",
      "  result = getattr(ufunc, method)(*inputs, **kwargs)\n"
     ]
    },
    {
     "name": "stdout",
     "output_type": "stream",
     "text": [
      "Step 12600 — Test metrics:\n",
      "  precision@10: 0.015370108\n",
      "  recall@10: 0.015463936\n",
      "  ndcg@10: 0.016105142\n",
      "  map@10: 0.006101034\n",
      "Epoch 421, Step 20, LR: 0.000183, Current Loss: 0.5106, Avg Loss: 0.5181\n",
      "Diff stats — min: -5.3760, max: 10.0000, mean: 7.7323, std: 2.8649\n",
      "\n",
      "Epoch 421 completed, Train Loss: 0.000128\n",
      "\n",
      "Epoch 422, Step 1, LR: 0.000183, Current Loss: 0.5287, Avg Loss: 0.5287\n",
      "Diff stats — min: -4.6229, max: 10.0000, mean: 7.6810, std: 2.8794\n",
      "\n"
     ]
    },
    {
     "name": "stderr",
     "output_type": "stream",
     "text": [
      "/usr/local/lib/python3.11/dist-packages/pandas/core/computation/expressions.py:73: RuntimeWarning: invalid value encountered in less_equal\n",
      "  return op(a, b)\n",
      "/usr/local/lib/python3.11/dist-packages/pandas/core/arraylike.py:399: RuntimeWarning: invalid value encountered in log\n",
      "  result = getattr(ufunc, method)(*inputs, **kwargs)\n"
     ]
    },
    {
     "name": "stdout",
     "output_type": "stream",
     "text": [
      "Step 12630 — Test metrics:\n",
      "  precision@10: 0.015535125\n",
      "  recall@10: 0.015628952\n",
      "  ndcg@10: 0.016324074\n",
      "  map@10: 0.006214421\n",
      "Epoch 422, Step 20, LR: 0.000183, Current Loss: 0.5232, Avg Loss: 0.5162\n",
      "Diff stats — min: -3.9068, max: 10.0000, mean: 7.6557, std: 2.8825\n",
      "\n",
      "Epoch 422 completed, Train Loss: 0.000128\n",
      "\n",
      "Epoch 423, Step 1, LR: 0.000183, Current Loss: 0.4988, Avg Loss: 0.4988\n",
      "Diff stats — min: -4.4425, max: 10.0000, mean: 7.7465, std: 2.8166\n",
      "\n"
     ]
    },
    {
     "name": "stderr",
     "output_type": "stream",
     "text": [
      "/usr/local/lib/python3.11/dist-packages/pandas/core/computation/expressions.py:73: RuntimeWarning: invalid value encountered in less_equal\n",
      "  return op(a, b)\n",
      "/usr/local/lib/python3.11/dist-packages/pandas/core/arraylike.py:399: RuntimeWarning: invalid value encountered in log\n",
      "  result = getattr(ufunc, method)(*inputs, **kwargs)\n"
     ]
    },
    {
     "name": "stdout",
     "output_type": "stream",
     "text": [
      "Step 12660 — Test metrics:\n",
      "  precision@10: 0.015700141\n",
      "  recall@10: 0.015791350\n",
      "  ndcg@10: 0.016421109\n",
      "  map@10: 0.006212324\n",
      "Epoch 423, Step 20, LR: 0.000183, Current Loss: 0.5271, Avg Loss: 0.5182\n",
      "Diff stats — min: -6.2447, max: 10.0000, mean: 7.6742, std: 2.8879\n",
      "\n",
      "Epoch 423 completed, Train Loss: 0.000128\n",
      "\n",
      "Epoch 424, Step 1, LR: 0.000183, Current Loss: 0.5196, Avg Loss: 0.5196\n",
      "Diff stats — min: -5.5523, max: 10.0000, mean: 7.6196, std: 2.9191\n",
      "\n"
     ]
    },
    {
     "name": "stderr",
     "output_type": "stream",
     "text": [
      "/usr/local/lib/python3.11/dist-packages/pandas/core/computation/expressions.py:73: RuntimeWarning: invalid value encountered in less_equal\n",
      "  return op(a, b)\n",
      "/usr/local/lib/python3.11/dist-packages/pandas/core/arraylike.py:399: RuntimeWarning: invalid value encountered in log\n",
      "  result = getattr(ufunc, method)(*inputs, **kwargs)\n"
     ]
    },
    {
     "name": "stdout",
     "output_type": "stream",
     "text": [
      "Step 12690 — Test metrics:\n",
      "  precision@10: 0.015417256\n",
      "  recall@10: 0.015498361\n",
      "  ndcg@10: 0.016188033\n",
      "  map@10: 0.006112178\n",
      "Epoch 424, Step 20, LR: 0.000183, Current Loss: 0.5148, Avg Loss: 0.5153\n",
      "Diff stats — min: -4.5334, max: 10.0000, mean: 7.6096, std: 2.9451\n",
      "\n",
      "Epoch 424 completed, Train Loss: 0.000127\n",
      "\n",
      "Epoch 425, Step 1, LR: 0.000183, Current Loss: 0.5151, Avg Loss: 0.5151\n",
      "Diff stats — min: -7.1043, max: 10.0000, mean: 7.6963, std: 2.8825\n",
      "\n"
     ]
    },
    {
     "name": "stderr",
     "output_type": "stream",
     "text": [
      "/usr/local/lib/python3.11/dist-packages/pandas/core/computation/expressions.py:73: RuntimeWarning: invalid value encountered in less_equal\n",
      "  return op(a, b)\n",
      "/usr/local/lib/python3.11/dist-packages/pandas/core/arraylike.py:399: RuntimeWarning: invalid value encountered in log\n",
      "  result = getattr(ufunc, method)(*inputs, **kwargs)\n"
     ]
    },
    {
     "name": "stdout",
     "output_type": "stream",
     "text": [
      "Step 12720 — Test metrics:\n",
      "  precision@10: 0.015558699\n",
      "  recall@10: 0.015652526\n",
      "  ndcg@10: 0.016194448\n",
      "  map@10: 0.006112824\n",
      "Epoch 425, Step 20, LR: 0.000183, Current Loss: 0.5149, Avg Loss: 0.5159\n",
      "Diff stats — min: -6.8994, max: 10.0000, mean: 7.6307, std: 2.9077\n",
      "\n",
      "Epoch 425 completed, Train Loss: 0.000128\n",
      "\n",
      "Epoch 426, Step 1, LR: 0.000180, Current Loss: 0.5173, Avg Loss: 0.5173\n",
      "Diff stats — min: -6.5369, max: 10.0000, mean: 7.6636, std: 2.8896\n",
      "\n"
     ]
    },
    {
     "name": "stderr",
     "output_type": "stream",
     "text": [
      "/usr/local/lib/python3.11/dist-packages/pandas/core/computation/expressions.py:73: RuntimeWarning: invalid value encountered in less_equal\n",
      "  return op(a, b)\n",
      "/usr/local/lib/python3.11/dist-packages/pandas/core/arraylike.py:399: RuntimeWarning: invalid value encountered in log\n",
      "  result = getattr(ufunc, method)(*inputs, **kwargs)\n"
     ]
    },
    {
     "name": "stdout",
     "output_type": "stream",
     "text": [
      "Step 12750 — Test metrics:\n",
      "  precision@10: 0.015770863\n",
      "  recall@10: 0.015854587\n",
      "  ndcg@10: 0.016364607\n",
      "  map@10: 0.006109545\n",
      "Epoch 426, Step 20, LR: 0.000180, Current Loss: 0.5242, Avg Loss: 0.5178\n",
      "Diff stats — min: -4.3104, max: 10.0000, mean: 7.6435, std: 2.9398\n",
      "\n",
      "Epoch 426 completed, Train Loss: 0.000128\n",
      "\n",
      "Epoch 427, Step 1, LR: 0.000180, Current Loss: 0.5122, Avg Loss: 0.5122\n",
      "Diff stats — min: -7.6307, max: 10.0000, mean: 7.6146, std: 2.9053\n",
      "\n"
     ]
    },
    {
     "name": "stderr",
     "output_type": "stream",
     "text": [
      "/usr/local/lib/python3.11/dist-packages/pandas/core/computation/expressions.py:73: RuntimeWarning: invalid value encountered in less_equal\n",
      "  return op(a, b)\n",
      "/usr/local/lib/python3.11/dist-packages/pandas/core/arraylike.py:399: RuntimeWarning: invalid value encountered in log\n",
      "  result = getattr(ufunc, method)(*inputs, **kwargs)\n"
     ]
    },
    {
     "name": "stdout",
     "output_type": "stream",
     "text": [
      "Step 12780 — Test metrics:\n",
      "  precision@10: 0.015252240\n",
      "  recall@10: 0.015343448\n",
      "  ndcg@10: 0.016070506\n",
      "  map@10: 0.006103297\n",
      "Epoch 427, Step 20, LR: 0.000180, Current Loss: 0.5141, Avg Loss: 0.5177\n",
      "Diff stats — min: -6.0431, max: 10.0000, mean: 7.6996, std: 2.8992\n",
      "\n",
      "Epoch 427 completed, Train Loss: 0.000128\n",
      "\n",
      "Epoch 428, Step 1, LR: 0.000180, Current Loss: 0.5222, Avg Loss: 0.5222\n",
      "Diff stats — min: -5.2801, max: 10.0000, mean: 7.6782, std: 2.9131\n",
      "\n"
     ]
    },
    {
     "name": "stderr",
     "output_type": "stream",
     "text": [
      "/usr/local/lib/python3.11/dist-packages/pandas/core/computation/expressions.py:73: RuntimeWarning: invalid value encountered in less_equal\n",
      "  return op(a, b)\n",
      "/usr/local/lib/python3.11/dist-packages/pandas/core/arraylike.py:399: RuntimeWarning: invalid value encountered in log\n",
      "  result = getattr(ufunc, method)(*inputs, **kwargs)\n"
     ]
    },
    {
     "name": "stdout",
     "output_type": "stream",
     "text": [
      "Step 12810 — Test metrics:\n",
      "  precision@10: 0.015228666\n",
      "  recall@10: 0.015301913\n",
      "  ndcg@10: 0.016008929\n",
      "  map@10: 0.006026240\n",
      "Epoch 428, Step 20, LR: 0.000180, Current Loss: 0.5182, Avg Loss: 0.5169\n",
      "Diff stats — min: -7.4703, max: 10.0000, mean: 7.6503, std: 2.9166\n",
      "\n",
      "Epoch 428 completed, Train Loss: 0.000128\n",
      "\n",
      "Epoch 429, Step 1, LR: 0.000180, Current Loss: 0.5023, Avg Loss: 0.5023\n",
      "Diff stats — min: -5.8192, max: 10.0000, mean: 7.7477, std: 2.8739\n",
      "\n"
     ]
    },
    {
     "name": "stderr",
     "output_type": "stream",
     "text": [
      "/usr/local/lib/python3.11/dist-packages/pandas/core/computation/expressions.py:73: RuntimeWarning: invalid value encountered in less_equal\n",
      "  return op(a, b)\n",
      "/usr/local/lib/python3.11/dist-packages/pandas/core/arraylike.py:399: RuntimeWarning: invalid value encountered in log\n",
      "  result = getattr(ufunc, method)(*inputs, **kwargs)\n"
     ]
    },
    {
     "name": "stdout",
     "output_type": "stream",
     "text": [
      "Step 12840 — Test metrics:\n",
      "  precision@10: 0.015322961\n",
      "  recall@10: 0.015398827\n",
      "  ndcg@10: 0.016039505\n",
      "  map@10: 0.006049275\n",
      "Epoch 429, Step 20, LR: 0.000180, Current Loss: 0.5057, Avg Loss: 0.5168\n",
      "Diff stats — min: -5.4435, max: 10.0000, mean: 7.6697, std: 2.8760\n",
      "\n",
      "Epoch 429 completed, Train Loss: 0.000128\n",
      "\n",
      "Epoch 430, Step 1, LR: 0.000180, Current Loss: 0.5201, Avg Loss: 0.5201\n",
      "Diff stats — min: -6.4538, max: 10.0000, mean: 7.6858, std: 2.8976\n",
      "\n"
     ]
    },
    {
     "name": "stderr",
     "output_type": "stream",
     "text": [
      "/usr/local/lib/python3.11/dist-packages/pandas/core/computation/expressions.py:73: RuntimeWarning: invalid value encountered in less_equal\n",
      "  return op(a, b)\n",
      "/usr/local/lib/python3.11/dist-packages/pandas/core/arraylike.py:399: RuntimeWarning: invalid value encountered in log\n",
      "  result = getattr(ufunc, method)(*inputs, **kwargs)\n"
     ]
    },
    {
     "name": "stdout",
     "output_type": "stream",
     "text": [
      "Step 12870 — Test metrics:\n",
      "  precision@10: 0.015275813\n",
      "  recall@10: 0.015364402\n",
      "  ndcg@10: 0.016073342\n",
      "  map@10: 0.006044069\n",
      "Epoch 430, Step 20, LR: 0.000180, Current Loss: 0.5008, Avg Loss: 0.5171\n",
      "Diff stats — min: -5.8659, max: 10.0000, mean: 7.7630, std: 2.7983\n",
      "\n",
      "Epoch 430 completed, Train Loss: 0.000128\n",
      "\n",
      "Epoch 431, Step 1, LR: 0.000176, Current Loss: 0.5120, Avg Loss: 0.5120\n",
      "Diff stats — min: -5.2022, max: 10.0000, mean: 7.6345, std: 2.9368\n",
      "\n"
     ]
    },
    {
     "name": "stderr",
     "output_type": "stream",
     "text": [
      "/usr/local/lib/python3.11/dist-packages/pandas/core/computation/expressions.py:73: RuntimeWarning: invalid value encountered in less_equal\n",
      "  return op(a, b)\n",
      "/usr/local/lib/python3.11/dist-packages/pandas/core/arraylike.py:399: RuntimeWarning: invalid value encountered in log\n",
      "  result = getattr(ufunc, method)(*inputs, **kwargs)\n"
     ]
    },
    {
     "name": "stdout",
     "output_type": "stream",
     "text": [
      "Step 12900 — Test metrics:\n",
      "  precision@10: 0.015228666\n",
      "  recall@10: 0.015304532\n",
      "  ndcg@10: 0.015982581\n",
      "  map@10: 0.005975285\n",
      "Epoch 431, Step 20, LR: 0.000176, Current Loss: 0.5095, Avg Loss: 0.5142\n",
      "Diff stats — min: -5.6291, max: 10.0000, mean: 7.6906, std: 2.8556\n",
      "\n",
      "Epoch 431 completed, Train Loss: 0.000127\n",
      "\n",
      "Epoch 432, Step 1, LR: 0.000176, Current Loss: 0.5436, Avg Loss: 0.5436\n",
      "Diff stats — min: -5.9844, max: 10.0000, mean: 7.6603, std: 2.9221\n",
      "\n"
     ]
    },
    {
     "name": "stderr",
     "output_type": "stream",
     "text": [
      "/usr/local/lib/python3.11/dist-packages/pandas/core/computation/expressions.py:73: RuntimeWarning: invalid value encountered in less_equal\n",
      "  return op(a, b)\n",
      "/usr/local/lib/python3.11/dist-packages/pandas/core/arraylike.py:399: RuntimeWarning: invalid value encountered in log\n",
      "  result = getattr(ufunc, method)(*inputs, **kwargs)\n"
     ]
    },
    {
     "name": "stdout",
     "output_type": "stream",
     "text": [
      "Step 12930 — Test metrics:\n",
      "  precision@10: 0.015440830\n",
      "  recall@10: 0.015519316\n",
      "  ndcg@10: 0.016210633\n",
      "  map@10: 0.006041372\n",
      "Epoch 432, Step 20, LR: 0.000176, Current Loss: 0.5166, Avg Loss: 0.5192\n",
      "Diff stats — min: -6.1141, max: 10.0000, mean: 7.7340, std: 2.8838\n",
      "\n",
      "Epoch 432 completed, Train Loss: 0.000128\n",
      "\n",
      "Epoch 433, Step 1, LR: 0.000176, Current Loss: 0.5231, Avg Loss: 0.5231\n",
      "Diff stats — min: -5.2516, max: 10.0000, mean: 7.7969, std: 2.8177\n",
      "\n"
     ]
    },
    {
     "name": "stderr",
     "output_type": "stream",
     "text": [
      "/usr/local/lib/python3.11/dist-packages/pandas/core/computation/expressions.py:73: RuntimeWarning: invalid value encountered in less_equal\n",
      "  return op(a, b)\n",
      "/usr/local/lib/python3.11/dist-packages/pandas/core/arraylike.py:399: RuntimeWarning: invalid value encountered in log\n",
      "  result = getattr(ufunc, method)(*inputs, **kwargs)\n"
     ]
    },
    {
     "name": "stdout",
     "output_type": "stream",
     "text": [
      "Step 12960 — Test metrics:\n",
      "  precision@10: 0.015346535\n",
      "  recall@10: 0.015422401\n",
      "  ndcg@10: 0.016151996\n",
      "  map@10: 0.006062045\n",
      "Epoch 433, Step 20, LR: 0.000176, Current Loss: 0.5086, Avg Loss: 0.5172\n",
      "Diff stats — min: -5.2919, max: 10.0000, mean: 7.6697, std: 2.9290\n",
      "\n",
      "Epoch 433 completed, Train Loss: 0.000128\n",
      "\n",
      "Epoch 434, Step 1, LR: 0.000176, Current Loss: 0.5277, Avg Loss: 0.5277\n",
      "Diff stats — min: -6.0714, max: 10.0000, mean: 7.7148, std: 2.8821\n",
      "\n"
     ]
    },
    {
     "name": "stderr",
     "output_type": "stream",
     "text": [
      "/usr/local/lib/python3.11/dist-packages/pandas/core/computation/expressions.py:73: RuntimeWarning: invalid value encountered in less_equal\n",
      "  return op(a, b)\n",
      "/usr/local/lib/python3.11/dist-packages/pandas/core/arraylike.py:399: RuntimeWarning: invalid value encountered in log\n",
      "  result = getattr(ufunc, method)(*inputs, **kwargs)\n"
     ]
    },
    {
     "name": "stdout",
     "output_type": "stream",
     "text": [
      "Step 12990 — Test metrics:\n",
      "  precision@10: 0.015322961\n",
      "  recall@10: 0.015411550\n",
      "  ndcg@10: 0.016018827\n",
      "  map@10: 0.006003031\n",
      "Epoch 434, Step 20, LR: 0.000176, Current Loss: 0.5237, Avg Loss: 0.5170\n",
      "Diff stats — min: -6.1991, max: 10.0000, mean: 7.7100, std: 2.8795\n",
      "\n",
      "Epoch 434 completed, Train Loss: 0.000128\n",
      "\n",
      "Epoch 435, Step 1, LR: 0.000176, Current Loss: 0.5479, Avg Loss: 0.5479\n",
      "Diff stats — min: -6.3058, max: 10.0000, mean: 7.5704, std: 2.9646\n",
      "\n"
     ]
    },
    {
     "name": "stderr",
     "output_type": "stream",
     "text": [
      "/usr/local/lib/python3.11/dist-packages/pandas/core/computation/expressions.py:73: RuntimeWarning: invalid value encountered in less_equal\n",
      "  return op(a, b)\n",
      "/usr/local/lib/python3.11/dist-packages/pandas/core/arraylike.py:399: RuntimeWarning: invalid value encountered in log\n",
      "  result = getattr(ufunc, method)(*inputs, **kwargs)\n"
     ]
    },
    {
     "name": "stdout",
     "output_type": "stream",
     "text": [
      "Step 13020 — Test metrics:\n",
      "  precision@10: 0.015417256\n",
      "  recall@10: 0.015505845\n",
      "  ndcg@10: 0.016153048\n",
      "  map@10: 0.006002980\n",
      "Epoch 435, Step 20, LR: 0.000176, Current Loss: 0.5241, Avg Loss: 0.5191\n",
      "Diff stats — min: -6.3482, max: 10.0000, mean: 7.6347, std: 2.8699\n",
      "\n",
      "Epoch 435 completed, Train Loss: 0.000128\n",
      "\n",
      "Epoch 436, Step 1, LR: 0.000172, Current Loss: 0.5057, Avg Loss: 0.5057\n",
      "Diff stats — min: -5.8319, max: 10.0000, mean: 7.7208, std: 2.8670\n",
      "\n"
     ]
    },
    {
     "name": "stderr",
     "output_type": "stream",
     "text": [
      "/usr/local/lib/python3.11/dist-packages/pandas/core/computation/expressions.py:73: RuntimeWarning: invalid value encountered in less_equal\n",
      "  return op(a, b)\n",
      "/usr/local/lib/python3.11/dist-packages/pandas/core/arraylike.py:399: RuntimeWarning: invalid value encountered in log\n",
      "  result = getattr(ufunc, method)(*inputs, **kwargs)\n"
     ]
    },
    {
     "name": "stdout",
     "output_type": "stream",
     "text": [
      "Step 13050 — Test metrics:\n",
      "  precision@10: 0.015275813\n",
      "  recall@10: 0.015364402\n",
      "  ndcg@10: 0.015880541\n",
      "  map@10: 0.005880844\n",
      "Epoch 436, Step 20, LR: 0.000172, Current Loss: 0.5270, Avg Loss: 0.5151\n",
      "Diff stats — min: -5.0856, max: 10.0000, mean: 7.6698, std: 2.9127\n",
      "\n",
      "Epoch 436 completed, Train Loss: 0.000128\n",
      "\n",
      "Epoch 437, Step 1, LR: 0.000172, Current Loss: 0.5093, Avg Loss: 0.5093\n",
      "Diff stats — min: -4.0099, max: 10.0000, mean: 7.6494, std: 2.8961\n",
      "\n"
     ]
    },
    {
     "name": "stderr",
     "output_type": "stream",
     "text": [
      "/usr/local/lib/python3.11/dist-packages/pandas/core/computation/expressions.py:73: RuntimeWarning: invalid value encountered in less_equal\n",
      "  return op(a, b)\n",
      "/usr/local/lib/python3.11/dist-packages/pandas/core/arraylike.py:399: RuntimeWarning: invalid value encountered in log\n",
      "  result = getattr(ufunc, method)(*inputs, **kwargs)\n"
     ]
    },
    {
     "name": "stdout",
     "output_type": "stream",
     "text": [
      "Step 13080 — Test metrics:\n",
      "  precision@10: 0.015228666\n",
      "  recall@10: 0.015312016\n",
      "  ndcg@10: 0.015841358\n",
      "  map@10: 0.005883988\n",
      "Epoch 437, Step 20, LR: 0.000172, Current Loss: 0.5118, Avg Loss: 0.5172\n",
      "Diff stats — min: -3.4371, max: 10.0000, mean: 7.6404, std: 2.9088\n",
      "\n",
      "Epoch 437 completed, Train Loss: 0.000128\n",
      "\n",
      "Epoch 438, Step 1, LR: 0.000172, Current Loss: 0.5290, Avg Loss: 0.5290\n",
      "Diff stats — min: -4.8152, max: 10.0000, mean: 7.6463, std: 2.9262\n",
      "\n"
     ]
    },
    {
     "name": "stderr",
     "output_type": "stream",
     "text": [
      "/usr/local/lib/python3.11/dist-packages/pandas/core/computation/expressions.py:73: RuntimeWarning: invalid value encountered in less_equal\n",
      "  return op(a, b)\n",
      "/usr/local/lib/python3.11/dist-packages/pandas/core/arraylike.py:399: RuntimeWarning: invalid value encountered in log\n",
      "  result = getattr(ufunc, method)(*inputs, **kwargs)\n"
     ]
    },
    {
     "name": "stdout",
     "output_type": "stream",
     "text": [
      "Step 13110 — Test metrics:\n",
      "  precision@10: 0.015275813\n",
      "  recall@10: 0.015351680\n",
      "  ndcg@10: 0.016069037\n",
      "  map@10: 0.006020251\n",
      "Epoch 438, Step 20, LR: 0.000172, Current Loss: 0.5159, Avg Loss: 0.5160\n",
      "Diff stats — min: -6.1209, max: 10.0000, mean: 7.6828, std: 2.9320\n",
      "\n",
      "Epoch 438 completed, Train Loss: 0.000128\n",
      "\n",
      "Epoch 439, Step 1, LR: 0.000172, Current Loss: 0.5107, Avg Loss: 0.5107\n",
      "Diff stats — min: -6.2268, max: 10.0000, mean: 7.7513, std: 2.8313\n",
      "\n"
     ]
    },
    {
     "name": "stderr",
     "output_type": "stream",
     "text": [
      "/usr/local/lib/python3.11/dist-packages/pandas/core/computation/expressions.py:73: RuntimeWarning: invalid value encountered in less_equal\n",
      "  return op(a, b)\n",
      "/usr/local/lib/python3.11/dist-packages/pandas/core/arraylike.py:399: RuntimeWarning: invalid value encountered in log\n",
      "  result = getattr(ufunc, method)(*inputs, **kwargs)\n"
     ]
    },
    {
     "name": "stdout",
     "output_type": "stream",
     "text": [
      "Step 13140 — Test metrics:\n",
      "  precision@10: 0.015417256\n",
      "  recall@10: 0.015495742\n",
      "  ndcg@10: 0.016098352\n",
      "  map@10: 0.006037572\n",
      "Epoch 439, Step 20, LR: 0.000172, Current Loss: 0.5157, Avg Loss: 0.5159\n",
      "Diff stats — min: -6.2897, max: 10.0000, mean: 7.6962, std: 2.9187\n",
      "\n",
      "Epoch 439 completed, Train Loss: 0.000128\n",
      "\n",
      "Epoch 440, Step 1, LR: 0.000172, Current Loss: 0.5196, Avg Loss: 0.5196\n",
      "Diff stats — min: -5.4139, max: 10.0000, mean: 7.7573, std: 2.8549\n",
      "\n"
     ]
    },
    {
     "name": "stderr",
     "output_type": "stream",
     "text": [
      "/usr/local/lib/python3.11/dist-packages/pandas/core/computation/expressions.py:73: RuntimeWarning: invalid value encountered in less_equal\n",
      "  return op(a, b)\n",
      "/usr/local/lib/python3.11/dist-packages/pandas/core/arraylike.py:399: RuntimeWarning: invalid value encountered in log\n",
      "  result = getattr(ufunc, method)(*inputs, **kwargs)\n"
     ]
    },
    {
     "name": "stdout",
     "output_type": "stream",
     "text": [
      "Step 13170 — Test metrics:\n",
      "  precision@10: 0.015016502\n",
      "  recall@10: 0.015105090\n",
      "  ndcg@10: 0.015798460\n",
      "  map@10: 0.006003921\n",
      "Epoch 440, Step 20, LR: 0.000172, Current Loss: 0.5144, Avg Loss: 0.5157\n",
      "Diff stats — min: -4.1240, max: 10.0000, mean: 7.7108, std: 2.8837\n",
      "\n",
      "Epoch 440 completed, Train Loss: 0.000128\n",
      "\n",
      "Epoch 441, Step 1, LR: 0.000169, Current Loss: 0.5261, Avg Loss: 0.5261\n",
      "Diff stats — min: -5.3692, max: 10.0000, mean: 7.6965, std: 2.8809\n",
      "\n"
     ]
    },
    {
     "name": "stderr",
     "output_type": "stream",
     "text": [
      "/usr/local/lib/python3.11/dist-packages/pandas/core/computation/expressions.py:73: RuntimeWarning: invalid value encountered in less_equal\n",
      "  return op(a, b)\n",
      "/usr/local/lib/python3.11/dist-packages/pandas/core/arraylike.py:399: RuntimeWarning: invalid value encountered in log\n",
      "  result = getattr(ufunc, method)(*inputs, **kwargs)\n"
     ]
    },
    {
     "name": "stdout",
     "output_type": "stream",
     "text": [
      "Step 13200 — Test metrics:\n",
      "  precision@10: 0.015393682\n",
      "  recall@10: 0.015487510\n",
      "  ndcg@10: 0.015920845\n",
      "  map@10: 0.005952282\n",
      "Epoch 441, Step 20, LR: 0.000169, Current Loss: 0.5191, Avg Loss: 0.5155\n",
      "Diff stats — min: -4.1697, max: 10.0000, mean: 7.7170, std: 2.8781\n",
      "\n",
      "Epoch 441 completed, Train Loss: 0.000127\n",
      "\n",
      "Epoch 442, Step 1, LR: 0.000169, Current Loss: 0.4941, Avg Loss: 0.4941\n",
      "Diff stats — min: -6.5114, max: 10.0000, mean: 7.7129, std: 2.8692\n",
      "\n"
     ]
    },
    {
     "name": "stderr",
     "output_type": "stream",
     "text": [
      "/usr/local/lib/python3.11/dist-packages/pandas/core/computation/expressions.py:73: RuntimeWarning: invalid value encountered in less_equal\n",
      "  return op(a, b)\n",
      "/usr/local/lib/python3.11/dist-packages/pandas/core/arraylike.py:399: RuntimeWarning: invalid value encountered in log\n",
      "  result = getattr(ufunc, method)(*inputs, **kwargs)\n"
     ]
    },
    {
     "name": "stdout",
     "output_type": "stream",
     "text": [
      "Step 13230 — Test metrics:\n",
      "  precision@10: 0.015228666\n",
      "  recall@10: 0.015319874\n",
      "  ndcg@10: 0.015975348\n",
      "  map@10: 0.006030241\n",
      "Epoch 442, Step 20, LR: 0.000169, Current Loss: 0.4995, Avg Loss: 0.5172\n",
      "Diff stats — min: -4.3235, max: 10.0000, mean: 7.7285, std: 2.8979\n",
      "\n",
      "Epoch 442 completed, Train Loss: 0.000128\n",
      "\n",
      "Epoch 443, Step 1, LR: 0.000169, Current Loss: 0.5238, Avg Loss: 0.5238\n",
      "Diff stats — min: -8.1130, max: 10.0000, mean: 7.7086, std: 2.8628\n",
      "\n"
     ]
    },
    {
     "name": "stderr",
     "output_type": "stream",
     "text": [
      "/usr/local/lib/python3.11/dist-packages/pandas/core/computation/expressions.py:73: RuntimeWarning: invalid value encountered in less_equal\n",
      "  return op(a, b)\n",
      "/usr/local/lib/python3.11/dist-packages/pandas/core/arraylike.py:399: RuntimeWarning: invalid value encountered in log\n",
      "  result = getattr(ufunc, method)(*inputs, **kwargs)\n"
     ]
    },
    {
     "name": "stdout",
     "output_type": "stream",
     "text": [
      "Step 13260 — Test metrics:\n",
      "  precision@10: 0.015417256\n",
      "  recall@10: 0.015511083\n",
      "  ndcg@10: 0.016127407\n",
      "  map@10: 0.006045860\n",
      "Epoch 443, Step 20, LR: 0.000169, Current Loss: 0.5256, Avg Loss: 0.5189\n",
      "Diff stats — min: -6.3005, max: 10.0000, mean: 7.7105, std: 2.8564\n",
      "\n",
      "Epoch 443 completed, Train Loss: 0.000127\n",
      "\n",
      "Epoch 444, Step 1, LR: 0.000169, Current Loss: 0.5253, Avg Loss: 0.5253\n",
      "Diff stats — min: -4.8985, max: 10.0000, mean: 7.6780, std: 2.9018\n",
      "\n"
     ]
    },
    {
     "name": "stderr",
     "output_type": "stream",
     "text": [
      "/usr/local/lib/python3.11/dist-packages/pandas/core/computation/expressions.py:73: RuntimeWarning: invalid value encountered in less_equal\n",
      "  return op(a, b)\n",
      "/usr/local/lib/python3.11/dist-packages/pandas/core/arraylike.py:399: RuntimeWarning: invalid value encountered in log\n",
      "  result = getattr(ufunc, method)(*inputs, **kwargs)\n"
     ]
    },
    {
     "name": "stdout",
     "output_type": "stream",
     "text": [
      "Step 13290 — Test metrics:\n",
      "  precision@10: 0.014945780\n",
      "  recall@10: 0.015024266\n",
      "  ndcg@10: 0.015728395\n",
      "  map@10: 0.005908944\n",
      "Epoch 444, Step 20, LR: 0.000169, Current Loss: 0.5186, Avg Loss: 0.5179\n",
      "Diff stats — min: -5.9763, max: 10.0000, mean: 7.7429, std: 2.8487\n",
      "\n",
      "Epoch 444 completed, Train Loss: 0.000127\n",
      "\n",
      "Epoch 445, Step 1, LR: 0.000169, Current Loss: 0.5322, Avg Loss: 0.5322\n",
      "Diff stats — min: -6.6569, max: 10.0000, mean: 7.7192, std: 2.9092\n",
      "\n"
     ]
    },
    {
     "name": "stderr",
     "output_type": "stream",
     "text": [
      "/usr/local/lib/python3.11/dist-packages/pandas/core/computation/expressions.py:73: RuntimeWarning: invalid value encountered in less_equal\n",
      "  return op(a, b)\n",
      "/usr/local/lib/python3.11/dist-packages/pandas/core/arraylike.py:399: RuntimeWarning: invalid value encountered in log\n",
      "  result = getattr(ufunc, method)(*inputs, **kwargs)\n"
     ]
    },
    {
     "name": "stdout",
     "output_type": "stream",
     "text": [
      "Step 13320 — Test metrics:\n",
      "  precision@10: 0.014922207\n",
      "  recall@10: 0.015000692\n",
      "  ndcg@10: 0.015637362\n",
      "  map@10: 0.005887969\n",
      "Epoch 445, Step 20, LR: 0.000169, Current Loss: 0.5243, Avg Loss: 0.5171\n",
      "Diff stats — min: -5.4504, max: 10.0000, mean: 7.7241, std: 2.8408\n",
      "\n",
      "Epoch 445 completed, Train Loss: 0.000127\n",
      "\n",
      "Epoch 446, Step 1, LR: 0.000166, Current Loss: 0.5258, Avg Loss: 0.5258\n",
      "Diff stats — min: -5.4840, max: 10.0000, mean: 7.7601, std: 2.8424\n",
      "\n"
     ]
    },
    {
     "name": "stderr",
     "output_type": "stream",
     "text": [
      "/usr/local/lib/python3.11/dist-packages/pandas/core/computation/expressions.py:73: RuntimeWarning: invalid value encountered in less_equal\n",
      "  return op(a, b)\n",
      "/usr/local/lib/python3.11/dist-packages/pandas/core/arraylike.py:399: RuntimeWarning: invalid value encountered in log\n",
      "  result = getattr(ufunc, method)(*inputs, **kwargs)\n"
     ]
    },
    {
     "name": "stdout",
     "output_type": "stream",
     "text": [
      "Step 13350 — Test metrics:\n",
      "  precision@10: 0.015511551\n",
      "  recall@10: 0.015592656\n",
      "  ndcg@10: 0.016120139\n",
      "  map@10: 0.006070918\n",
      "Epoch 446, Step 20, LR: 0.000166, Current Loss: 0.5191, Avg Loss: 0.5167\n",
      "Diff stats — min: -6.2312, max: 10.0000, mean: 7.6667, std: 2.9212\n",
      "\n",
      "Epoch 446 completed, Train Loss: 0.000127\n",
      "\n",
      "Epoch 447, Step 1, LR: 0.000166, Current Loss: 0.5104, Avg Loss: 0.5104\n",
      "Diff stats — min: -4.6309, max: 10.0000, mean: 7.7137, std: 2.8647\n",
      "\n"
     ]
    },
    {
     "name": "stderr",
     "output_type": "stream",
     "text": [
      "/usr/local/lib/python3.11/dist-packages/pandas/core/computation/expressions.py:73: RuntimeWarning: invalid value encountered in less_equal\n",
      "  return op(a, b)\n",
      "/usr/local/lib/python3.11/dist-packages/pandas/core/arraylike.py:399: RuntimeWarning: invalid value encountered in log\n",
      "  result = getattr(ufunc, method)(*inputs, **kwargs)\n"
     ]
    },
    {
     "name": "stdout",
     "output_type": "stream",
     "text": [
      "Step 13380 — Test metrics:\n",
      "  precision@10: 0.015299387\n",
      "  recall@10: 0.015375254\n",
      "  ndcg@10: 0.016000656\n",
      "  map@10: 0.006008137\n",
      "Epoch 447, Step 20, LR: 0.000166, Current Loss: 0.5250, Avg Loss: 0.5171\n",
      "Diff stats — min: -6.4985, max: 10.0000, mean: 7.7246, std: 2.9124\n",
      "\n",
      "Epoch 447 completed, Train Loss: 0.000127\n",
      "\n",
      "Epoch 448, Step 1, LR: 0.000166, Current Loss: 0.5048, Avg Loss: 0.5048\n",
      "Diff stats — min: -4.4073, max: 10.0000, mean: 7.7364, std: 2.8806\n",
      "\n"
     ]
    },
    {
     "name": "stderr",
     "output_type": "stream",
     "text": [
      "/usr/local/lib/python3.11/dist-packages/pandas/core/computation/expressions.py:73: RuntimeWarning: invalid value encountered in less_equal\n",
      "  return op(a, b)\n",
      "/usr/local/lib/python3.11/dist-packages/pandas/core/arraylike.py:399: RuntimeWarning: invalid value encountered in log\n",
      "  result = getattr(ufunc, method)(*inputs, **kwargs)\n"
     ]
    },
    {
     "name": "stdout",
     "output_type": "stream",
     "text": [
      "Step 13410 — Test metrics:\n",
      "  precision@10: 0.015440830\n",
      "  recall@10: 0.015516696\n",
      "  ndcg@10: 0.016077711\n",
      "  map@10: 0.006026445\n",
      "Epoch 448, Step 20, LR: 0.000166, Current Loss: 0.5124, Avg Loss: 0.5139\n",
      "Diff stats — min: -8.8402, max: 10.0000, mean: 7.7396, std: 2.8712\n",
      "\n",
      "Epoch 448 completed, Train Loss: 0.000127\n",
      "\n",
      "Epoch 449, Step 1, LR: 0.000166, Current Loss: 0.5143, Avg Loss: 0.5143\n",
      "Diff stats — min: -6.4087, max: 10.0000, mean: 7.7740, std: 2.8866\n",
      "\n"
     ]
    },
    {
     "name": "stderr",
     "output_type": "stream",
     "text": [
      "/usr/local/lib/python3.11/dist-packages/pandas/core/computation/expressions.py:73: RuntimeWarning: invalid value encountered in less_equal\n",
      "  return op(a, b)\n",
      "/usr/local/lib/python3.11/dist-packages/pandas/core/arraylike.py:399: RuntimeWarning: invalid value encountered in log\n",
      "  result = getattr(ufunc, method)(*inputs, **kwargs)\n"
     ]
    },
    {
     "name": "stdout",
     "output_type": "stream",
     "text": [
      "Step 13440 — Test metrics:\n",
      "  precision@10: 0.015370108\n",
      "  recall@10: 0.015445975\n",
      "  ndcg@10: 0.016070859\n",
      "  map@10: 0.006030992\n",
      "Epoch 449, Step 20, LR: 0.000166, Current Loss: 0.5102, Avg Loss: 0.5162\n",
      "Diff stats — min: -5.4178, max: 10.0000, mean: 7.7715, std: 2.8922\n",
      "\n",
      "Epoch 449 completed, Train Loss: 0.000128\n",
      "\n",
      "Epoch 450, Step 1, LR: 0.000166, Current Loss: 0.5096, Avg Loss: 0.5096\n",
      "Diff stats — min: -4.2486, max: 10.0000, mean: 7.9038, std: 2.7786\n",
      "\n"
     ]
    },
    {
     "name": "stderr",
     "output_type": "stream",
     "text": [
      "/usr/local/lib/python3.11/dist-packages/pandas/core/computation/expressions.py:73: RuntimeWarning: invalid value encountered in less_equal\n",
      "  return op(a, b)\n",
      "/usr/local/lib/python3.11/dist-packages/pandas/core/arraylike.py:399: RuntimeWarning: invalid value encountered in log\n",
      "  result = getattr(ufunc, method)(*inputs, **kwargs)\n"
     ]
    },
    {
     "name": "stdout",
     "output_type": "stream",
     "text": [
      "Step 13470 — Test metrics:\n",
      "  precision@10: 0.015535125\n",
      "  recall@10: 0.015621094\n",
      "  ndcg@10: 0.016124104\n",
      "  map@10: 0.006040987\n",
      "Epoch 450, Step 20, LR: 0.000166, Current Loss: 0.5094, Avg Loss: 0.5158\n",
      "Diff stats — min: -8.0321, max: 10.0000, mean: 7.7071, std: 2.9003\n",
      "\n",
      "Epoch 450 completed, Train Loss: 0.000127\n",
      "\n",
      "Epoch 451, Step 1, LR: 0.000162, Current Loss: 0.5086, Avg Loss: 0.5086\n",
      "Diff stats — min: -5.0435, max: 10.0000, mean: 7.7076, std: 2.8897\n",
      "\n"
     ]
    },
    {
     "name": "stderr",
     "output_type": "stream",
     "text": [
      "/usr/local/lib/python3.11/dist-packages/pandas/core/computation/expressions.py:73: RuntimeWarning: invalid value encountered in less_equal\n",
      "  return op(a, b)\n",
      "/usr/local/lib/python3.11/dist-packages/pandas/core/arraylike.py:399: RuntimeWarning: invalid value encountered in log\n",
      "  result = getattr(ufunc, method)(*inputs, **kwargs)\n"
     ]
    },
    {
     "name": "stdout",
     "output_type": "stream",
     "text": [
      "Step 13500 — Test metrics:\n",
      "  precision@10: 0.015346535\n",
      "  recall@10: 0.015435123\n",
      "  ndcg@10: 0.015905564\n",
      "  map@10: 0.005914289\n",
      "Epoch 451, Step 20, LR: 0.000162, Current Loss: 0.5146, Avg Loss: 0.5151\n",
      "Diff stats — min: -6.6938, max: 10.0000, mean: 7.7450, std: 2.8640\n",
      "\n",
      "Epoch 451 completed, Train Loss: 0.000128\n",
      "\n",
      "Epoch 452, Step 1, LR: 0.000162, Current Loss: 0.5094, Avg Loss: 0.5094\n",
      "Diff stats — min: -5.7405, max: 10.0000, mean: 7.7428, std: 2.8542\n",
      "\n"
     ]
    },
    {
     "name": "stderr",
     "output_type": "stream",
     "text": [
      "/usr/local/lib/python3.11/dist-packages/pandas/core/computation/expressions.py:73: RuntimeWarning: invalid value encountered in less_equal\n",
      "  return op(a, b)\n",
      "/usr/local/lib/python3.11/dist-packages/pandas/core/arraylike.py:399: RuntimeWarning: invalid value encountered in log\n",
      "  result = getattr(ufunc, method)(*inputs, **kwargs)\n"
     ]
    },
    {
     "name": "stdout",
     "output_type": "stream",
     "text": [
      "Step 13530 — Test metrics:\n",
      "  precision@10: 0.015205092\n",
      "  recall@10: 0.015283578\n",
      "  ndcg@10: 0.015955028\n",
      "  map@10: 0.006016757\n",
      "Epoch 452, Step 20, LR: 0.000162, Current Loss: 0.5213, Avg Loss: 0.5179\n",
      "Diff stats — min: -5.2828, max: 10.0000, mean: 7.7574, std: 2.8444\n",
      "\n",
      "Epoch 452 completed, Train Loss: 0.000127\n",
      "\n",
      "Epoch 453, Step 1, LR: 0.000162, Current Loss: 0.5132, Avg Loss: 0.5132\n",
      "Diff stats — min: -4.6486, max: 10.0000, mean: 7.7761, std: 2.8244\n",
      "\n"
     ]
    },
    {
     "name": "stderr",
     "output_type": "stream",
     "text": [
      "/usr/local/lib/python3.11/dist-packages/pandas/core/computation/expressions.py:73: RuntimeWarning: invalid value encountered in less_equal\n",
      "  return op(a, b)\n",
      "/usr/local/lib/python3.11/dist-packages/pandas/core/arraylike.py:399: RuntimeWarning: invalid value encountered in log\n",
      "  result = getattr(ufunc, method)(*inputs, **kwargs)\n"
     ]
    },
    {
     "name": "stdout",
     "output_type": "stream",
     "text": [
      "Step 13560 — Test metrics:\n",
      "  precision@10: 0.015652994\n",
      "  recall@10: 0.015731480\n",
      "  ndcg@10: 0.016293307\n",
      "  map@10: 0.006101285\n",
      "Epoch 453, Step 20, LR: 0.000162, Current Loss: 0.5001, Avg Loss: 0.5175\n",
      "Diff stats — min: -5.3058, max: 10.0000, mean: 7.8015, std: 2.8250\n",
      "\n",
      "Epoch 453 completed, Train Loss: 0.000127\n",
      "\n",
      "Epoch 454, Step 1, LR: 0.000162, Current Loss: 0.5291, Avg Loss: 0.5291\n",
      "Diff stats — min: -6.0452, max: 10.0000, mean: 7.7440, std: 2.8904\n",
      "\n"
     ]
    },
    {
     "name": "stderr",
     "output_type": "stream",
     "text": [
      "/usr/local/lib/python3.11/dist-packages/pandas/core/computation/expressions.py:73: RuntimeWarning: invalid value encountered in less_equal\n",
      "  return op(a, b)\n",
      "/usr/local/lib/python3.11/dist-packages/pandas/core/arraylike.py:399: RuntimeWarning: invalid value encountered in log\n",
      "  result = getattr(ufunc, method)(*inputs, **kwargs)\n"
     ]
    },
    {
     "name": "stdout",
     "output_type": "stream",
     "text": [
      "Step 13590 — Test metrics:\n",
      "  precision@10: 0.015440830\n",
      "  recall@10: 0.015516696\n",
      "  ndcg@10: 0.016140022\n",
      "  map@10: 0.006099917\n",
      "Epoch 454, Step 20, LR: 0.000162, Current Loss: 0.5153, Avg Loss: 0.5173\n",
      "Diff stats — min: -6.7048, max: 10.0000, mean: 7.7926, std: 2.8182\n",
      "\n",
      "Epoch 454 completed, Train Loss: 0.000127\n",
      "\n",
      "Epoch 455, Step 1, LR: 0.000162, Current Loss: 0.5237, Avg Loss: 0.5237\n",
      "Diff stats — min: -6.2311, max: 10.0000, mean: 7.7822, std: 2.8951\n",
      "\n"
     ]
    },
    {
     "name": "stderr",
     "output_type": "stream",
     "text": [
      "/usr/local/lib/python3.11/dist-packages/pandas/core/computation/expressions.py:73: RuntimeWarning: invalid value encountered in less_equal\n",
      "  return op(a, b)\n",
      "/usr/local/lib/python3.11/dist-packages/pandas/core/arraylike.py:399: RuntimeWarning: invalid value encountered in log\n",
      "  result = getattr(ufunc, method)(*inputs, **kwargs)\n"
     ]
    },
    {
     "name": "stdout",
     "output_type": "stream",
     "text": [
      "Step 13620 — Test metrics:\n",
      "  precision@10: 0.015275813\n",
      "  recall@10: 0.015349060\n",
      "  ndcg@10: 0.015961169\n",
      "  map@10: 0.005990498\n",
      "Epoch 455, Step 20, LR: 0.000162, Current Loss: 0.4996, Avg Loss: 0.5159\n",
      "Diff stats — min: -5.8670, max: 10.0000, mean: 7.7218, std: 2.8578\n",
      "\n",
      "Epoch 455 completed, Train Loss: 0.000127\n",
      "\n",
      "Epoch 456, Step 1, LR: 0.000159, Current Loss: 0.5311, Avg Loss: 0.5311\n",
      "Diff stats — min: -4.5618, max: 10.0000, mean: 7.7633, std: 2.8656\n",
      "\n"
     ]
    },
    {
     "name": "stderr",
     "output_type": "stream",
     "text": [
      "/usr/local/lib/python3.11/dist-packages/pandas/core/computation/expressions.py:73: RuntimeWarning: invalid value encountered in less_equal\n",
      "  return op(a, b)\n",
      "/usr/local/lib/python3.11/dist-packages/pandas/core/arraylike.py:399: RuntimeWarning: invalid value encountered in log\n",
      "  result = getattr(ufunc, method)(*inputs, **kwargs)\n"
     ]
    },
    {
     "name": "stdout",
     "output_type": "stream",
     "text": [
      "Step 13650 — Test metrics:\n",
      "  precision@10: 0.015157944\n",
      "  recall@10: 0.015246533\n",
      "  ndcg@10: 0.015896200\n",
      "  map@10: 0.005989911\n",
      "Epoch 456, Step 20, LR: 0.000159, Current Loss: 0.5130, Avg Loss: 0.5119\n",
      "Diff stats — min: -6.8335, max: 10.0000, mean: 7.7184, std: 2.8971\n",
      "\n",
      "Epoch 456 completed, Train Loss: 0.000127\n",
      "\n",
      "Epoch 457, Step 1, LR: 0.000159, Current Loss: 0.5064, Avg Loss: 0.5064\n",
      "Diff stats — min: -4.2341, max: 10.0000, mean: 7.7312, std: 2.8685\n",
      "\n"
     ]
    },
    {
     "name": "stderr",
     "output_type": "stream",
     "text": [
      "/usr/local/lib/python3.11/dist-packages/pandas/core/computation/expressions.py:73: RuntimeWarning: invalid value encountered in less_equal\n",
      "  return op(a, b)\n",
      "/usr/local/lib/python3.11/dist-packages/pandas/core/arraylike.py:399: RuntimeWarning: invalid value encountered in log\n",
      "  result = getattr(ufunc, method)(*inputs, **kwargs)\n"
     ]
    },
    {
     "name": "stdout",
     "output_type": "stream",
     "text": [
      "Step 13680 — Test metrics:\n",
      "  precision@10: 0.015205092\n",
      "  recall@10: 0.015293681\n",
      "  ndcg@10: 0.015915308\n",
      "  map@10: 0.005973539\n",
      "Epoch 457, Step 20, LR: 0.000159, Current Loss: 0.5069, Avg Loss: 0.5172\n",
      "Diff stats — min: -6.8330, max: 10.0000, mean: 7.7880, std: 2.7796\n",
      "\n",
      "Epoch 457 completed, Train Loss: 0.000127\n",
      "\n",
      "Epoch 458, Step 1, LR: 0.000159, Current Loss: 0.5115, Avg Loss: 0.5115\n",
      "Diff stats — min: -6.6124, max: 10.0000, mean: 7.7399, std: 2.8675\n",
      "\n"
     ]
    },
    {
     "name": "stderr",
     "output_type": "stream",
     "text": [
      "/usr/local/lib/python3.11/dist-packages/pandas/core/computation/expressions.py:73: RuntimeWarning: invalid value encountered in less_equal\n",
      "  return op(a, b)\n",
      "/usr/local/lib/python3.11/dist-packages/pandas/core/arraylike.py:399: RuntimeWarning: invalid value encountered in log\n",
      "  result = getattr(ufunc, method)(*inputs, **kwargs)\n"
     ]
    },
    {
     "name": "stdout",
     "output_type": "stream",
     "text": [
      "Step 13710 — Test metrics:\n",
      "  precision@10: 0.015299387\n",
      "  recall@10: 0.015375254\n",
      "  ndcg@10: 0.015944778\n",
      "  map@10: 0.005905503\n",
      "Epoch 458, Step 20, LR: 0.000159, Current Loss: 0.5087, Avg Loss: 0.5150\n",
      "Diff stats — min: -4.4775, max: 10.0000, mean: 7.7243, std: 2.9074\n",
      "\n",
      "Epoch 458 completed, Train Loss: 0.000127\n",
      "\n",
      "Epoch 459, Step 1, LR: 0.000159, Current Loss: 0.5107, Avg Loss: 0.5107\n",
      "Diff stats — min: -6.0458, max: 10.0000, mean: 7.7017, std: 2.8516\n",
      "\n"
     ]
    },
    {
     "name": "stderr",
     "output_type": "stream",
     "text": [
      "/usr/local/lib/python3.11/dist-packages/pandas/core/computation/expressions.py:73: RuntimeWarning: invalid value encountered in less_equal\n",
      "  return op(a, b)\n",
      "/usr/local/lib/python3.11/dist-packages/pandas/core/arraylike.py:399: RuntimeWarning: invalid value encountered in log\n",
      "  result = getattr(ufunc, method)(*inputs, **kwargs)\n"
     ]
    },
    {
     "name": "stdout",
     "output_type": "stream",
     "text": [
      "Step 13740 — Test metrics:\n",
      "  precision@10: 0.014875059\n",
      "  recall@10: 0.014953545\n",
      "  ndcg@10: 0.015591617\n",
      "  map@10: 0.005858310\n",
      "Epoch 459, Step 20, LR: 0.000159, Current Loss: 0.5175, Avg Loss: 0.5154\n",
      "Diff stats — min: -4.9533, max: 10.0000, mean: 7.6876, std: 2.8541\n",
      "\n",
      "Epoch 459 completed, Train Loss: 0.000127\n",
      "\n",
      "Epoch 460, Step 1, LR: 0.000159, Current Loss: 0.5320, Avg Loss: 0.5320\n",
      "Diff stats — min: -6.8944, max: 10.0000, mean: 7.6877, std: 2.9291\n",
      "\n"
     ]
    },
    {
     "name": "stderr",
     "output_type": "stream",
     "text": [
      "/usr/local/lib/python3.11/dist-packages/pandas/core/computation/expressions.py:73: RuntimeWarning: invalid value encountered in less_equal\n",
      "  return op(a, b)\n",
      "/usr/local/lib/python3.11/dist-packages/pandas/core/arraylike.py:399: RuntimeWarning: invalid value encountered in log\n",
      "  result = getattr(ufunc, method)(*inputs, **kwargs)\n"
     ]
    },
    {
     "name": "stdout",
     "output_type": "stream",
     "text": [
      "Step 13770 — Test metrics:\n",
      "  precision@10: 0.015346535\n",
      "  recall@10: 0.015435123\n",
      "  ndcg@10: 0.015986894\n",
      "  map@10: 0.005985960\n",
      "Epoch 460, Step 20, LR: 0.000159, Current Loss: 0.5226, Avg Loss: 0.5135\n",
      "Diff stats — min: -5.3019, max: 10.0000, mean: 7.8310, std: 2.8410\n",
      "\n",
      "Epoch 460 completed, Train Loss: 0.000127\n",
      "\n",
      "Epoch 461, Step 1, LR: 0.000156, Current Loss: 0.5099, Avg Loss: 0.5099\n",
      "Diff stats — min: -4.0779, max: 10.0000, mean: 7.8146, std: 2.8484\n",
      "\n"
     ]
    },
    {
     "name": "stderr",
     "output_type": "stream",
     "text": [
      "/usr/local/lib/python3.11/dist-packages/pandas/core/computation/expressions.py:73: RuntimeWarning: invalid value encountered in less_equal\n",
      "  return op(a, b)\n",
      "/usr/local/lib/python3.11/dist-packages/pandas/core/arraylike.py:399: RuntimeWarning: invalid value encountered in log\n",
      "  result = getattr(ufunc, method)(*inputs, **kwargs)\n"
     ]
    },
    {
     "name": "stdout",
     "output_type": "stream",
     "text": [
      "Step 13800 — Test metrics:\n",
      "  precision@10: 0.015087223\n",
      "  recall@10: 0.015175812\n",
      "  ndcg@10: 0.015857459\n",
      "  map@10: 0.005947799\n",
      "Epoch 461, Step 20, LR: 0.000156, Current Loss: 0.5249, Avg Loss: 0.5156\n",
      "Diff stats — min: -6.0468, max: 10.0000, mean: 7.7450, std: 2.8838\n",
      "\n",
      "Epoch 461 completed, Train Loss: 0.000127\n",
      "\n",
      "Epoch 462, Step 1, LR: 0.000156, Current Loss: 0.5170, Avg Loss: 0.5170\n",
      "Diff stats — min: -6.0452, max: 10.0000, mean: 7.8275, std: 2.8215\n",
      "\n"
     ]
    },
    {
     "name": "stderr",
     "output_type": "stream",
     "text": [
      "/usr/local/lib/python3.11/dist-packages/pandas/core/computation/expressions.py:73: RuntimeWarning: invalid value encountered in less_equal\n",
      "  return op(a, b)\n",
      "/usr/local/lib/python3.11/dist-packages/pandas/core/arraylike.py:399: RuntimeWarning: invalid value encountered in log\n",
      "  result = getattr(ufunc, method)(*inputs, **kwargs)\n"
     ]
    },
    {
     "name": "stdout",
     "output_type": "stream",
     "text": [
      "Step 13830 — Test metrics:\n",
      "  precision@10: 0.015110797\n",
      "  recall@10: 0.015194147\n",
      "  ndcg@10: 0.015840061\n",
      "  map@10: 0.005925385\n",
      "Epoch 462, Step 20, LR: 0.000156, Current Loss: 0.5053, Avg Loss: 0.5126\n",
      "Diff stats — min: -4.2327, max: 10.0000, mean: 7.7242, std: 2.8632\n",
      "\n",
      "Epoch 462 completed, Train Loss: 0.000127\n",
      "\n",
      "Epoch 463, Step 1, LR: 0.000156, Current Loss: 0.5102, Avg Loss: 0.5102\n",
      "Diff stats — min: -6.0076, max: 10.0000, mean: 7.7761, std: 2.8611\n",
      "\n"
     ]
    },
    {
     "name": "stderr",
     "output_type": "stream",
     "text": [
      "/usr/local/lib/python3.11/dist-packages/pandas/core/computation/expressions.py:73: RuntimeWarning: invalid value encountered in less_equal\n",
      "  return op(a, b)\n",
      "/usr/local/lib/python3.11/dist-packages/pandas/core/arraylike.py:399: RuntimeWarning: invalid value encountered in log\n",
      "  result = getattr(ufunc, method)(*inputs, **kwargs)\n"
     ]
    },
    {
     "name": "stdout",
     "output_type": "stream",
     "text": [
      "Step 13860 — Test metrics:\n",
      "  precision@10: 0.015275813\n",
      "  recall@10: 0.015359163\n",
      "  ndcg@10: 0.016094557\n",
      "  map@10: 0.006072335\n",
      "Epoch 463, Step 20, LR: 0.000156, Current Loss: 0.5193, Avg Loss: 0.5147\n",
      "Diff stats — min: -6.1140, max: 10.0000, mean: 7.7723, std: 2.8867\n",
      "\n",
      "Epoch 463 completed, Train Loss: 0.000127\n",
      "\n",
      "Epoch 464, Step 1, LR: 0.000156, Current Loss: 0.5144, Avg Loss: 0.5144\n",
      "Diff stats — min: -4.8747, max: 10.0000, mean: 7.7746, std: 2.8264\n",
      "\n"
     ]
    },
    {
     "name": "stderr",
     "output_type": "stream",
     "text": [
      "/usr/local/lib/python3.11/dist-packages/pandas/core/computation/expressions.py:73: RuntimeWarning: invalid value encountered in less_equal\n",
      "  return op(a, b)\n",
      "/usr/local/lib/python3.11/dist-packages/pandas/core/arraylike.py:399: RuntimeWarning: invalid value encountered in log\n",
      "  result = getattr(ufunc, method)(*inputs, **kwargs)\n"
     ]
    },
    {
     "name": "stdout",
     "output_type": "stream",
     "text": [
      "Step 13890 — Test metrics:\n",
      "  precision@10: 0.015110797\n",
      "  recall@10: 0.015202005\n",
      "  ndcg@10: 0.015952127\n",
      "  map@10: 0.006065026\n",
      "Epoch 464, Step 20, LR: 0.000156, Current Loss: 0.5068, Avg Loss: 0.5152\n",
      "Diff stats — min: -4.5718, max: 10.0000, mean: 7.7411, std: 2.8392\n",
      "\n",
      "Epoch 464 completed, Train Loss: 0.000127\n",
      "\n",
      "Epoch 465, Step 1, LR: 0.000156, Current Loss: 0.4937, Avg Loss: 0.4937\n",
      "Diff stats — min: -6.2269, max: 10.0000, mean: 7.7651, std: 2.8864\n",
      "\n"
     ]
    },
    {
     "name": "stderr",
     "output_type": "stream",
     "text": [
      "/usr/local/lib/python3.11/dist-packages/pandas/core/computation/expressions.py:73: RuntimeWarning: invalid value encountered in less_equal\n",
      "  return op(a, b)\n",
      "/usr/local/lib/python3.11/dist-packages/pandas/core/arraylike.py:399: RuntimeWarning: invalid value encountered in log\n",
      "  result = getattr(ufunc, method)(*inputs, **kwargs)\n"
     ]
    },
    {
     "name": "stdout",
     "output_type": "stream",
     "text": [
      "Step 13920 — Test metrics:\n",
      "  precision@10: 0.015417256\n",
      "  recall@10: 0.015511083\n",
      "  ndcg@10: 0.016007590\n",
      "  map@10: 0.006051679\n",
      "Epoch 465, Step 20, LR: 0.000156, Current Loss: 0.5041, Avg Loss: 0.5145\n",
      "Diff stats — min: -4.1820, max: 10.0000, mean: 7.7831, std: 2.8464\n",
      "\n",
      "Epoch 465 completed, Train Loss: 0.000127\n",
      "\n",
      "Epoch 466, Step 1, LR: 0.000153, Current Loss: 0.5308, Avg Loss: 0.5308\n",
      "Diff stats — min: -4.8723, max: 10.0000, mean: 7.7899, std: 2.8395\n",
      "\n"
     ]
    },
    {
     "name": "stderr",
     "output_type": "stream",
     "text": [
      "/usr/local/lib/python3.11/dist-packages/pandas/core/computation/expressions.py:73: RuntimeWarning: invalid value encountered in less_equal\n",
      "  return op(a, b)\n",
      "/usr/local/lib/python3.11/dist-packages/pandas/core/arraylike.py:399: RuntimeWarning: invalid value encountered in log\n",
      "  result = getattr(ufunc, method)(*inputs, **kwargs)\n"
     ]
    },
    {
     "name": "stdout",
     "output_type": "stream",
     "text": [
      "Step 13950 — Test metrics:\n",
      "  precision@10: 0.015157944\n",
      "  recall@10: 0.015243914\n",
      "  ndcg@10: 0.015853923\n",
      "  map@10: 0.005988987\n",
      "Epoch 466, Step 20, LR: 0.000153, Current Loss: 0.5164, Avg Loss: 0.5157\n",
      "Diff stats — min: -6.3927, max: 10.0000, mean: 7.7520, std: 2.8785\n",
      "\n",
      "Epoch 466 completed, Train Loss: 0.000127\n",
      "\n",
      "Epoch 467, Step 1, LR: 0.000153, Current Loss: 0.5218, Avg Loss: 0.5218\n",
      "Diff stats — min: -6.0549, max: 10.0000, mean: 7.7542, std: 2.8924\n",
      "\n"
     ]
    },
    {
     "name": "stderr",
     "output_type": "stream",
     "text": [
      "/usr/local/lib/python3.11/dist-packages/pandas/core/computation/expressions.py:73: RuntimeWarning: invalid value encountered in less_equal\n",
      "  return op(a, b)\n",
      "/usr/local/lib/python3.11/dist-packages/pandas/core/arraylike.py:399: RuntimeWarning: invalid value encountered in log\n",
      "  result = getattr(ufunc, method)(*inputs, **kwargs)\n"
     ]
    },
    {
     "name": "stdout",
     "output_type": "stream",
     "text": [
      "Step 13980 — Test metrics:\n",
      "  precision@10: 0.015275813\n",
      "  recall@10: 0.015359163\n",
      "  ndcg@10: 0.015993341\n",
      "  map@10: 0.006040433\n",
      "Epoch 467, Step 20, LR: 0.000153, Current Loss: 0.5158, Avg Loss: 0.5163\n",
      "Diff stats — min: -4.8015, max: 10.0000, mean: 7.6821, std: 2.9126\n",
      "\n",
      "Epoch 467 completed, Train Loss: 0.000127\n",
      "\n",
      "Epoch 468, Step 1, LR: 0.000153, Current Loss: 0.4850, Avg Loss: 0.4850\n",
      "Diff stats — min: -5.3061, max: 10.0000, mean: 7.7512, std: 2.8654\n",
      "\n"
     ]
    },
    {
     "name": "stderr",
     "output_type": "stream",
     "text": [
      "/usr/local/lib/python3.11/dist-packages/pandas/core/computation/expressions.py:73: RuntimeWarning: invalid value encountered in less_equal\n",
      "  return op(a, b)\n",
      "/usr/local/lib/python3.11/dist-packages/pandas/core/arraylike.py:399: RuntimeWarning: invalid value encountered in log\n",
      "  result = getattr(ufunc, method)(*inputs, **kwargs)\n"
     ]
    },
    {
     "name": "stdout",
     "output_type": "stream",
     "text": [
      "Step 14010 — Test metrics:\n",
      "  precision@10: 0.015841584\n",
      "  recall@10: 0.015927554\n",
      "  ndcg@10: 0.016394404\n",
      "  map@10: 0.006150408\n",
      "Epoch 468, Step 20, LR: 0.000153, Current Loss: 0.5072, Avg Loss: 0.5160\n",
      "Diff stats — min: -4.3737, max: 10.0000, mean: 7.7921, std: 2.8635\n",
      "\n",
      "Epoch 468 completed, Train Loss: 0.000127\n",
      "\n",
      "Epoch 469, Step 1, LR: 0.000153, Current Loss: 0.5346, Avg Loss: 0.5346\n",
      "Diff stats — min: -4.7900, max: 10.0000, mean: 7.7641, std: 2.8620\n",
      "\n"
     ]
    },
    {
     "name": "stderr",
     "output_type": "stream",
     "text": [
      "/usr/local/lib/python3.11/dist-packages/pandas/core/computation/expressions.py:73: RuntimeWarning: invalid value encountered in less_equal\n",
      "  return op(a, b)\n",
      "/usr/local/lib/python3.11/dist-packages/pandas/core/arraylike.py:399: RuntimeWarning: invalid value encountered in log\n",
      "  result = getattr(ufunc, method)(*inputs, **kwargs)\n"
     ]
    },
    {
     "name": "stdout",
     "output_type": "stream",
     "text": [
      "Step 14040 — Test metrics:\n",
      "  precision@10: 0.015841584\n",
      "  recall@10: 0.015930173\n",
      "  ndcg@10: 0.016379657\n",
      "  map@10: 0.006174235\n",
      "Epoch 469, Step 20, LR: 0.000153, Current Loss: 0.5046, Avg Loss: 0.5137\n",
      "Diff stats — min: -5.6796, max: 10.0000, mean: 7.7659, std: 2.8773\n",
      "\n",
      "Epoch 469 completed, Train Loss: 0.000127\n",
      "\n",
      "Epoch 470, Step 1, LR: 0.000153, Current Loss: 0.5106, Avg Loss: 0.5106\n",
      "Diff stats — min: -6.2782, max: 10.0000, mean: 7.6657, std: 2.9178\n",
      "\n"
     ]
    },
    {
     "name": "stderr",
     "output_type": "stream",
     "text": [
      "/usr/local/lib/python3.11/dist-packages/pandas/core/computation/expressions.py:73: RuntimeWarning: invalid value encountered in less_equal\n",
      "  return op(a, b)\n",
      "/usr/local/lib/python3.11/dist-packages/pandas/core/arraylike.py:399: RuntimeWarning: invalid value encountered in log\n",
      "  result = getattr(ufunc, method)(*inputs, **kwargs)\n"
     ]
    },
    {
     "name": "stdout",
     "output_type": "stream",
     "text": [
      "Step 14070 — Test metrics:\n",
      "  precision@10: 0.015676568\n",
      "  recall@10: 0.015759918\n",
      "  ndcg@10: 0.016217145\n",
      "  map@10: 0.006125954\n",
      "Epoch 470, Step 20, LR: 0.000153, Current Loss: 0.5071, Avg Loss: 0.5130\n",
      "Diff stats — min: -6.7208, max: 10.0000, mean: 7.7703, std: 2.8582\n",
      "\n",
      "Epoch 470 completed, Train Loss: 0.000127\n",
      "\n",
      "Epoch 471, Step 1, LR: 0.000150, Current Loss: 0.5066, Avg Loss: 0.5066\n",
      "Diff stats — min: -5.0945, max: 10.0000, mean: 7.8166, std: 2.8274\n",
      "\n"
     ]
    },
    {
     "name": "stderr",
     "output_type": "stream",
     "text": [
      "/usr/local/lib/python3.11/dist-packages/pandas/core/computation/expressions.py:73: RuntimeWarning: invalid value encountered in less_equal\n",
      "  return op(a, b)\n",
      "/usr/local/lib/python3.11/dist-packages/pandas/core/arraylike.py:399: RuntimeWarning: invalid value encountered in log\n",
      "  result = getattr(ufunc, method)(*inputs, **kwargs)\n"
     ]
    },
    {
     "name": "stdout",
     "output_type": "stream",
     "text": [
      "Step 14100 — Test metrics:\n",
      "  precision@10: 0.015629420\n",
      "  recall@10: 0.015712770\n",
      "  ndcg@10: 0.016044470\n",
      "  map@10: 0.006022362\n",
      "Epoch 471, Step 20, LR: 0.000150, Current Loss: 0.5228, Avg Loss: 0.5152\n",
      "Diff stats — min: -5.3228, max: 10.0000, mean: 7.7772, std: 2.8714\n",
      "\n",
      "Epoch 471 completed, Train Loss: 0.000127\n",
      "\n",
      "Epoch 472, Step 1, LR: 0.000150, Current Loss: 0.5147, Avg Loss: 0.5147\n",
      "Diff stats — min: -7.0876, max: 10.0000, mean: 7.7846, std: 2.8680\n",
      "\n"
     ]
    },
    {
     "name": "stderr",
     "output_type": "stream",
     "text": [
      "/usr/local/lib/python3.11/dist-packages/pandas/core/computation/expressions.py:73: RuntimeWarning: invalid value encountered in less_equal\n",
      "  return op(a, b)\n",
      "/usr/local/lib/python3.11/dist-packages/pandas/core/arraylike.py:399: RuntimeWarning: invalid value encountered in log\n",
      "  result = getattr(ufunc, method)(*inputs, **kwargs)\n"
     ]
    },
    {
     "name": "stdout",
     "output_type": "stream",
     "text": [
      "Step 14130 — Test metrics:\n",
      "  precision@10: 0.015723715\n",
      "  recall@10: 0.015814923\n",
      "  ndcg@10: 0.016297188\n",
      "  map@10: 0.006195685\n",
      "Epoch 472, Step 20, LR: 0.000150, Current Loss: 0.5162, Avg Loss: 0.5136\n",
      "Diff stats — min: -6.0382, max: 10.0000, mean: 7.7866, std: 2.8702\n",
      "\n",
      "Epoch 472 completed, Train Loss: 0.000127\n",
      "\n",
      "Epoch 473, Step 1, LR: 0.000150, Current Loss: 0.5210, Avg Loss: 0.5210\n",
      "Diff stats — min: -6.6246, max: 10.0000, mean: 7.8118, std: 2.8407\n",
      "\n"
     ]
    },
    {
     "name": "stderr",
     "output_type": "stream",
     "text": [
      "/usr/local/lib/python3.11/dist-packages/pandas/core/computation/expressions.py:73: RuntimeWarning: invalid value encountered in less_equal\n",
      "  return op(a, b)\n",
      "/usr/local/lib/python3.11/dist-packages/pandas/core/arraylike.py:399: RuntimeWarning: invalid value encountered in log\n",
      "  result = getattr(ufunc, method)(*inputs, **kwargs)\n"
     ]
    },
    {
     "name": "stdout",
     "output_type": "stream",
     "text": [
      "Step 14160 — Test metrics:\n",
      "  precision@10: 0.015652994\n",
      "  recall@10: 0.015741583\n",
      "  ndcg@10: 0.016195091\n",
      "  map@10: 0.006103274\n",
      "Epoch 473, Step 20, LR: 0.000150, Current Loss: 0.5176, Avg Loss: 0.5172\n",
      "Diff stats — min: -6.6223, max: 10.0000, mean: 7.7814, std: 2.8330\n",
      "\n",
      "Epoch 473 completed, Train Loss: 0.000127\n",
      "\n",
      "Epoch 474, Step 1, LR: 0.000150, Current Loss: 0.5134, Avg Loss: 0.5134\n",
      "Diff stats — min: -6.6252, max: 10.0000, mean: 7.7421, std: 2.8558\n",
      "\n"
     ]
    },
    {
     "name": "stderr",
     "output_type": "stream",
     "text": [
      "/usr/local/lib/python3.11/dist-packages/pandas/core/computation/expressions.py:73: RuntimeWarning: invalid value encountered in less_equal\n",
      "  return op(a, b)\n",
      "/usr/local/lib/python3.11/dist-packages/pandas/core/arraylike.py:399: RuntimeWarning: invalid value encountered in log\n",
      "  result = getattr(ufunc, method)(*inputs, **kwargs)\n"
     ]
    },
    {
     "name": "stdout",
     "output_type": "stream",
     "text": [
      "Step 14190 — Test metrics:\n",
      "  precision@10: 0.015393682\n",
      "  recall@10: 0.015474413\n",
      "  ndcg@10: 0.015949811\n",
      "  map@10: 0.005985049\n",
      "Epoch 474, Step 20, LR: 0.000150, Current Loss: 0.5225, Avg Loss: 0.5173\n",
      "Diff stats — min: -4.7929, max: 10.0000, mean: 7.7789, std: 2.8775\n",
      "\n",
      "Epoch 474 completed, Train Loss: 0.000127\n",
      "\n",
      "Epoch 475, Step 1, LR: 0.000150, Current Loss: 0.5116, Avg Loss: 0.5116\n",
      "Diff stats — min: -5.2070, max: 10.0000, mean: 7.7649, std: 2.8315\n",
      "\n"
     ]
    },
    {
     "name": "stderr",
     "output_type": "stream",
     "text": [
      "/usr/local/lib/python3.11/dist-packages/pandas/core/computation/expressions.py:73: RuntimeWarning: invalid value encountered in less_equal\n",
      "  return op(a, b)\n",
      "/usr/local/lib/python3.11/dist-packages/pandas/core/arraylike.py:399: RuntimeWarning: invalid value encountered in log\n",
      "  result = getattr(ufunc, method)(*inputs, **kwargs)\n"
     ]
    },
    {
     "name": "stdout",
     "output_type": "stream",
     "text": [
      "Step 14220 — Test metrics:\n",
      "  precision@10: 0.015629420\n",
      "  recall@10: 0.015720628\n",
      "  ndcg@10: 0.016066576\n",
      "  map@10: 0.006037534\n",
      "Epoch 475, Step 20, LR: 0.000150, Current Loss: 0.5153, Avg Loss: 0.5158\n",
      "Diff stats — min: -5.1618, max: 10.0000, mean: 7.7621, std: 2.8618\n",
      "\n",
      "Epoch 475 completed, Train Loss: 0.000127\n",
      "\n",
      "Epoch 476, Step 1, LR: 0.000147, Current Loss: 0.5235, Avg Loss: 0.5235\n",
      "Diff stats — min: -3.6777, max: 10.0000, mean: 7.8079, std: 2.7977\n",
      "\n"
     ]
    },
    {
     "name": "stderr",
     "output_type": "stream",
     "text": [
      "/usr/local/lib/python3.11/dist-packages/pandas/core/computation/expressions.py:73: RuntimeWarning: invalid value encountered in less_equal\n",
      "  return op(a, b)\n",
      "/usr/local/lib/python3.11/dist-packages/pandas/core/arraylike.py:399: RuntimeWarning: invalid value encountered in log\n",
      "  result = getattr(ufunc, method)(*inputs, **kwargs)\n"
     ]
    },
    {
     "name": "stdout",
     "output_type": "stream",
     "text": [
      "Step 14250 — Test metrics:\n",
      "  precision@10: 0.015440830\n",
      "  recall@10: 0.015529419\n",
      "  ndcg@10: 0.015976767\n",
      "  map@10: 0.005984135\n",
      "Epoch 476, Step 20, LR: 0.000147, Current Loss: 0.5224, Avg Loss: 0.5133\n",
      "Diff stats — min: -8.5868, max: 10.0000, mean: 7.7648, std: 2.8919\n",
      "\n",
      "Epoch 476 completed, Train Loss: 0.000127\n",
      "\n",
      "Epoch 477, Step 1, LR: 0.000147, Current Loss: 0.5026, Avg Loss: 0.5026\n",
      "Diff stats — min: -5.2248, max: 10.0000, mean: 7.8535, std: 2.7614\n",
      "\n"
     ]
    },
    {
     "name": "stderr",
     "output_type": "stream",
     "text": [
      "/usr/local/lib/python3.11/dist-packages/pandas/core/computation/expressions.py:73: RuntimeWarning: invalid value encountered in less_equal\n",
      "  return op(a, b)\n",
      "/usr/local/lib/python3.11/dist-packages/pandas/core/arraylike.py:399: RuntimeWarning: invalid value encountered in log\n",
      "  result = getattr(ufunc, method)(*inputs, **kwargs)\n"
     ]
    },
    {
     "name": "stdout",
     "output_type": "stream",
     "text": [
      "Step 14280 — Test metrics:\n",
      "  precision@10: 0.015652994\n",
      "  recall@10: 0.015744202\n",
      "  ndcg@10: 0.016090073\n",
      "  map@10: 0.006017784\n",
      "Epoch 477, Step 20, LR: 0.000147, Current Loss: 0.5079, Avg Loss: 0.5115\n",
      "Diff stats — min: -5.7143, max: 10.0000, mean: 7.8025, std: 2.8216\n",
      "\n",
      "Epoch 477 completed, Train Loss: 0.000127\n",
      "\n",
      "Epoch 478, Step 1, LR: 0.000147, Current Loss: 0.5050, Avg Loss: 0.5050\n",
      "Diff stats — min: -5.1029, max: 10.0000, mean: 7.8166, std: 2.7759\n",
      "\n"
     ]
    },
    {
     "name": "stderr",
     "output_type": "stream",
     "text": [
      "/usr/local/lib/python3.11/dist-packages/pandas/core/computation/expressions.py:73: RuntimeWarning: invalid value encountered in less_equal\n",
      "  return op(a, b)\n",
      "/usr/local/lib/python3.11/dist-packages/pandas/core/arraylike.py:399: RuntimeWarning: invalid value encountered in log\n",
      "  result = getattr(ufunc, method)(*inputs, **kwargs)\n"
     ]
    },
    {
     "name": "stdout",
     "output_type": "stream",
     "text": [
      "Step 14310 — Test metrics:\n",
      "  precision@10: 0.015605846\n",
      "  recall@10: 0.015694435\n",
      "  ndcg@10: 0.016179608\n",
      "  map@10: 0.006108857\n",
      "Epoch 478, Step 20, LR: 0.000147, Current Loss: 0.5059, Avg Loss: 0.5126\n",
      "Diff stats — min: -4.2700, max: 10.0000, mean: 7.8488, std: 2.8145\n",
      "\n",
      "Epoch 478 completed, Train Loss: 0.000127\n",
      "\n",
      "Epoch 479, Step 1, LR: 0.000147, Current Loss: 0.5063, Avg Loss: 0.5063\n",
      "Diff stats — min: -6.4622, max: 10.0000, mean: 7.8133, std: 2.8029\n",
      "\n"
     ]
    },
    {
     "name": "stderr",
     "output_type": "stream",
     "text": [
      "/usr/local/lib/python3.11/dist-packages/pandas/core/computation/expressions.py:73: RuntimeWarning: invalid value encountered in less_equal\n",
      "  return op(a, b)\n",
      "/usr/local/lib/python3.11/dist-packages/pandas/core/arraylike.py:399: RuntimeWarning: invalid value encountered in log\n",
      "  result = getattr(ufunc, method)(*inputs, **kwargs)\n"
     ]
    },
    {
     "name": "stdout",
     "output_type": "stream",
     "text": [
      "Step 14340 — Test metrics:\n",
      "  precision@10: 0.015370108\n",
      "  recall@10: 0.015453459\n",
      "  ndcg@10: 0.015916757\n",
      "  map@10: 0.005995159\n",
      "Epoch 479, Step 20, LR: 0.000147, Current Loss: 0.5095, Avg Loss: 0.5127\n",
      "Diff stats — min: -8.7037, max: 10.0000, mean: 7.7674, std: 2.8674\n",
      "\n",
      "Epoch 479 completed, Train Loss: 0.000127\n",
      "\n",
      "Epoch 480, Step 1, LR: 0.000147, Current Loss: 0.5150, Avg Loss: 0.5150\n",
      "Diff stats — min: -6.0632, max: 10.0000, mean: 7.8150, std: 2.8395\n",
      "\n"
     ]
    },
    {
     "name": "stderr",
     "output_type": "stream",
     "text": [
      "/usr/local/lib/python3.11/dist-packages/pandas/core/computation/expressions.py:73: RuntimeWarning: invalid value encountered in less_equal\n",
      "  return op(a, b)\n",
      "/usr/local/lib/python3.11/dist-packages/pandas/core/arraylike.py:399: RuntimeWarning: invalid value encountered in log\n",
      "  result = getattr(ufunc, method)(*inputs, **kwargs)\n"
     ]
    },
    {
     "name": "stdout",
     "output_type": "stream",
     "text": [
      "Step 14370 — Test metrics:\n",
      "  precision@10: 0.015370108\n",
      "  recall@10: 0.015453459\n",
      "  ndcg@10: 0.015801574\n",
      "  map@10: 0.005876602\n",
      "Epoch 480, Step 20, LR: 0.000147, Current Loss: 0.5269, Avg Loss: 0.5138\n",
      "Diff stats — min: -7.3138, max: 10.0000, mean: 7.7807, std: 2.9135\n",
      "\n",
      "Epoch 480 completed, Train Loss: 0.000127\n",
      "\n",
      "Epoch 481, Step 1, LR: 0.000144, Current Loss: 0.5335, Avg Loss: 0.5335\n",
      "Diff stats — min: -6.9431, max: 10.0000, mean: 7.8379, std: 2.8541\n",
      "\n"
     ]
    },
    {
     "name": "stderr",
     "output_type": "stream",
     "text": [
      "/usr/local/lib/python3.11/dist-packages/pandas/core/computation/expressions.py:73: RuntimeWarning: invalid value encountered in less_equal\n",
      "  return op(a, b)\n",
      "/usr/local/lib/python3.11/dist-packages/pandas/core/arraylike.py:399: RuntimeWarning: invalid value encountered in log\n",
      "  result = getattr(ufunc, method)(*inputs, **kwargs)\n"
     ]
    },
    {
     "name": "stdout",
     "output_type": "stream",
     "text": [
      "Step 14400 — Test metrics:\n",
      "  precision@10: 0.015723715\n",
      "  recall@10: 0.015809685\n",
      "  ndcg@10: 0.016155770\n",
      "  map@10: 0.006051581\n",
      "Epoch 481, Step 20, LR: 0.000144, Current Loss: 0.5255, Avg Loss: 0.5143\n",
      "Diff stats — min: -7.6220, max: 10.0000, mean: 7.7828, std: 2.8663\n",
      "\n",
      "Epoch 481 completed, Train Loss: 0.000127\n",
      "\n",
      "Epoch 482, Step 1, LR: 0.000144, Current Loss: 0.5046, Avg Loss: 0.5046\n",
      "Diff stats — min: -6.7926, max: 10.0000, mean: 7.7963, std: 2.8173\n",
      "\n"
     ]
    },
    {
     "name": "stderr",
     "output_type": "stream",
     "text": [
      "/usr/local/lib/python3.11/dist-packages/pandas/core/computation/expressions.py:73: RuntimeWarning: invalid value encountered in less_equal\n",
      "  return op(a, b)\n",
      "/usr/local/lib/python3.11/dist-packages/pandas/core/arraylike.py:399: RuntimeWarning: invalid value encountered in log\n",
      "  result = getattr(ufunc, method)(*inputs, **kwargs)\n"
     ]
    },
    {
     "name": "stdout",
     "output_type": "stream",
     "text": [
      "Step 14430 — Test metrics:\n",
      "  precision@10: 0.015770863\n",
      "  recall@10: 0.015856832\n",
      "  ndcg@10: 0.016227194\n",
      "  map@10: 0.006101270\n",
      "Epoch 482, Step 20, LR: 0.000144, Current Loss: 0.5158, Avg Loss: 0.5142\n",
      "Diff stats — min: -4.2112, max: 10.0000, mean: 7.7270, std: 2.8463\n",
      "\n",
      "Epoch 482 completed, Train Loss: 0.000127\n",
      "\n",
      "Epoch 483, Step 1, LR: 0.000144, Current Loss: 0.5040, Avg Loss: 0.5040\n",
      "Diff stats — min: -5.4991, max: 10.0000, mean: 7.8380, std: 2.8147\n",
      "\n"
     ]
    },
    {
     "name": "stderr",
     "output_type": "stream",
     "text": [
      "/usr/local/lib/python3.11/dist-packages/pandas/core/computation/expressions.py:73: RuntimeWarning: invalid value encountered in less_equal\n",
      "  return op(a, b)\n",
      "/usr/local/lib/python3.11/dist-packages/pandas/core/arraylike.py:399: RuntimeWarning: invalid value encountered in log\n",
      "  result = getattr(ufunc, method)(*inputs, **kwargs)\n"
     ]
    },
    {
     "name": "stdout",
     "output_type": "stream",
     "text": [
      "Step 14460 — Test metrics:\n",
      "  precision@10: 0.015440830\n",
      "  recall@10: 0.015529419\n",
      "  ndcg@10: 0.016076741\n",
      "  map@10: 0.006086085\n",
      "Epoch 483, Step 20, LR: 0.000144, Current Loss: 0.5241, Avg Loss: 0.5170\n",
      "Diff stats — min: -5.1948, max: 10.0000, mean: 7.7927, std: 2.8555\n",
      "\n",
      "Epoch 483 completed, Train Loss: 0.000127\n",
      "\n",
      "Epoch 484, Step 1, LR: 0.000144, Current Loss: 0.5231, Avg Loss: 0.5231\n",
      "Diff stats — min: -4.4363, max: 10.0000, mean: 7.8267, std: 2.8392\n",
      "\n"
     ]
    },
    {
     "name": "stderr",
     "output_type": "stream",
     "text": [
      "/usr/local/lib/python3.11/dist-packages/pandas/core/computation/expressions.py:73: RuntimeWarning: invalid value encountered in less_equal\n",
      "  return op(a, b)\n",
      "/usr/local/lib/python3.11/dist-packages/pandas/core/arraylike.py:399: RuntimeWarning: invalid value encountered in log\n",
      "  result = getattr(ufunc, method)(*inputs, **kwargs)\n"
     ]
    },
    {
     "name": "stdout",
     "output_type": "stream",
     "text": [
      "Step 14490 — Test metrics:\n",
      "  precision@10: 0.015818010\n",
      "  recall@10: 0.015911838\n",
      "  ndcg@10: 0.016316832\n",
      "  map@10: 0.006115788\n",
      "Epoch 484, Step 20, LR: 0.000144, Current Loss: 0.5136, Avg Loss: 0.5142\n",
      "Diff stats — min: -6.5017, max: 10.0000, mean: 7.7974, std: 2.8469\n",
      "\n",
      "Epoch 484 completed, Train Loss: 0.000127\n",
      "\n",
      "Epoch 485, Step 1, LR: 0.000144, Current Loss: 0.5142, Avg Loss: 0.5142\n",
      "Diff stats — min: -8.4979, max: 10.0000, mean: 7.7669, std: 2.8914\n",
      "\n"
     ]
    },
    {
     "name": "stderr",
     "output_type": "stream",
     "text": [
      "/usr/local/lib/python3.11/dist-packages/pandas/core/computation/expressions.py:73: RuntimeWarning: invalid value encountered in less_equal\n",
      "  return op(a, b)\n",
      "/usr/local/lib/python3.11/dist-packages/pandas/core/arraylike.py:399: RuntimeWarning: invalid value encountered in log\n",
      "  result = getattr(ufunc, method)(*inputs, **kwargs)\n"
     ]
    },
    {
     "name": "stdout",
     "output_type": "stream",
     "text": [
      "Step 14520 — Test metrics:\n",
      "  precision@10: 0.015747289\n",
      "  recall@10: 0.015838497\n",
      "  ndcg@10: 0.016252429\n",
      "  map@10: 0.006054840\n",
      "Epoch 485, Step 20, LR: 0.000144, Current Loss: 0.5039, Avg Loss: 0.5133\n",
      "Diff stats — min: -5.5785, max: 10.0000, mean: 7.7798, std: 2.8749\n",
      "\n",
      "Epoch 485 completed, Train Loss: 0.000127\n",
      "\n",
      "Epoch 486, Step 1, LR: 0.000141, Current Loss: 0.5221, Avg Loss: 0.5221\n",
      "Diff stats — min: -4.9202, max: 10.0000, mean: 7.8121, std: 2.8456\n",
      "\n"
     ]
    },
    {
     "name": "stderr",
     "output_type": "stream",
     "text": [
      "/usr/local/lib/python3.11/dist-packages/pandas/core/computation/expressions.py:73: RuntimeWarning: invalid value encountered in less_equal\n",
      "  return op(a, b)\n",
      "/usr/local/lib/python3.11/dist-packages/pandas/core/arraylike.py:399: RuntimeWarning: invalid value encountered in log\n",
      "  result = getattr(ufunc, method)(*inputs, **kwargs)\n"
     ]
    },
    {
     "name": "stdout",
     "output_type": "stream",
     "text": [
      "Step 14550 — Test metrics:\n",
      "  precision@10: 0.015487977\n",
      "  recall@10: 0.015579185\n",
      "  ndcg@10: 0.016033797\n",
      "  map@10: 0.006062277\n"
     ]
    },
    {
     "ename": "KeyboardInterrupt",
     "evalue": "",
     "output_type": "error",
     "traceback": [
      "\u001b[0;31m---------------------------------------------------------------------------\u001b[0m",
      "\u001b[0;31mKeyboardInterrupt\u001b[0m                         Traceback (most recent call last)",
      "\u001b[0;32m/tmp/ipykernel_35/622032216.py\u001b[0m in \u001b[0;36m<cell line: 0>\u001b[0;34m()\u001b[0m\n\u001b[1;32m     24\u001b[0m \u001b[0mtrain_lambda_ce\u001b[0m \u001b[0;34m=\u001b[0m \u001b[0mhyperparameters\u001b[0m\u001b[0;34m[\u001b[0m\u001b[0;34m'train_lambda_ce'\u001b[0m\u001b[0;34m]\u001b[0m\u001b[0;34m\u001b[0m\u001b[0;34m\u001b[0m\u001b[0m\n\u001b[1;32m     25\u001b[0m \u001b[0;34m\u001b[0m\u001b[0m\n\u001b[0;32m---> 26\u001b[0;31m model = train_model(model,\n\u001b[0m\u001b[1;32m     27\u001b[0m                     \u001b[0mdata\u001b[0m\u001b[0;34m,\u001b[0m\u001b[0;34m\u001b[0m\u001b[0;34m\u001b[0m\u001b[0m\n\u001b[1;32m     28\u001b[0m                     \u001b[0;34m(\u001b[0m\u001b[0mseq_ids\u001b[0m\u001b[0;34m,\u001b[0m \u001b[0mevent_type\u001b[0m\u001b[0;34m,\u001b[0m \u001b[0mseq_times\u001b[0m\u001b[0;34m,\u001b[0m \u001b[0mseq_mask\u001b[0m\u001b[0;34m)\u001b[0m\u001b[0;34m,\u001b[0m\u001b[0;34m\u001b[0m\u001b[0;34m\u001b[0m\u001b[0m\n",
      "\u001b[0;32m/tmp/ipykernel_35/1552439942.py\u001b[0m in \u001b[0;36mtrain_model\u001b[0;34m(model, train_data, seq_train_data, edge_type, num_epochs, lr, batch_size, device, print_every, test_every, top_k, test_batch_size, scheduler_step_size, scheduler_gamma)\u001b[0m\n\u001b[1;32m     61\u001b[0m \u001b[0;34m\u001b[0m\u001b[0m\n\u001b[1;32m     62\u001b[0m             \u001b[0moptimizer\u001b[0m\u001b[0;34m.\u001b[0m\u001b[0mzero_grad\u001b[0m\u001b[0;34m(\u001b[0m\u001b[0;34m)\u001b[0m\u001b[0;34m\u001b[0m\u001b[0;34m\u001b[0m\u001b[0m\n\u001b[0;32m---> 63\u001b[0;31m             user_embs, event_logits = model(data=train_data, \n\u001b[0m\u001b[1;32m     64\u001b[0m                               \u001b[0mseq_ids\u001b[0m\u001b[0;34m=\u001b[0m\u001b[0mseq_ids_batch\u001b[0m\u001b[0;34m,\u001b[0m\u001b[0;34m\u001b[0m\u001b[0;34m\u001b[0m\u001b[0m\n\u001b[1;32m     65\u001b[0m                               \u001b[0mseq_times\u001b[0m\u001b[0;34m=\u001b[0m\u001b[0mseq_times_batch\u001b[0m\u001b[0;34m,\u001b[0m\u001b[0;34m\u001b[0m\u001b[0;34m\u001b[0m\u001b[0m\n",
      "\u001b[0;32m/usr/local/lib/python3.11/dist-packages/torch/nn/modules/module.py\u001b[0m in \u001b[0;36m_wrapped_call_impl\u001b[0;34m(self, *args, **kwargs)\u001b[0m\n\u001b[1;32m   1737\u001b[0m             \u001b[0;32mreturn\u001b[0m \u001b[0mself\u001b[0m\u001b[0;34m.\u001b[0m\u001b[0m_compiled_call_impl\u001b[0m\u001b[0;34m(\u001b[0m\u001b[0;34m*\u001b[0m\u001b[0margs\u001b[0m\u001b[0;34m,\u001b[0m \u001b[0;34m**\u001b[0m\u001b[0mkwargs\u001b[0m\u001b[0;34m)\u001b[0m  \u001b[0;31m# type: ignore[misc]\u001b[0m\u001b[0;34m\u001b[0m\u001b[0;34m\u001b[0m\u001b[0m\n\u001b[1;32m   1738\u001b[0m         \u001b[0;32melse\u001b[0m\u001b[0;34m:\u001b[0m\u001b[0;34m\u001b[0m\u001b[0;34m\u001b[0m\u001b[0m\n\u001b[0;32m-> 1739\u001b[0;31m             \u001b[0;32mreturn\u001b[0m \u001b[0mself\u001b[0m\u001b[0;34m.\u001b[0m\u001b[0m_call_impl\u001b[0m\u001b[0;34m(\u001b[0m\u001b[0;34m*\u001b[0m\u001b[0margs\u001b[0m\u001b[0;34m,\u001b[0m \u001b[0;34m**\u001b[0m\u001b[0mkwargs\u001b[0m\u001b[0;34m)\u001b[0m\u001b[0;34m\u001b[0m\u001b[0;34m\u001b[0m\u001b[0m\n\u001b[0m\u001b[1;32m   1740\u001b[0m \u001b[0;34m\u001b[0m\u001b[0m\n\u001b[1;32m   1741\u001b[0m     \u001b[0;31m# torchrec tests the code consistency with the following code\u001b[0m\u001b[0;34m\u001b[0m\u001b[0;34m\u001b[0m\u001b[0m\n",
      "\u001b[0;32m/usr/local/lib/python3.11/dist-packages/torch/nn/modules/module.py\u001b[0m in \u001b[0;36m_call_impl\u001b[0;34m(self, *args, **kwargs)\u001b[0m\n\u001b[1;32m   1748\u001b[0m                 \u001b[0;32mor\u001b[0m \u001b[0m_global_backward_pre_hooks\u001b[0m \u001b[0;32mor\u001b[0m \u001b[0m_global_backward_hooks\u001b[0m\u001b[0;34m\u001b[0m\u001b[0;34m\u001b[0m\u001b[0m\n\u001b[1;32m   1749\u001b[0m                 or _global_forward_hooks or _global_forward_pre_hooks):\n\u001b[0;32m-> 1750\u001b[0;31m             \u001b[0;32mreturn\u001b[0m \u001b[0mforward_call\u001b[0m\u001b[0;34m(\u001b[0m\u001b[0;34m*\u001b[0m\u001b[0margs\u001b[0m\u001b[0;34m,\u001b[0m \u001b[0;34m**\u001b[0m\u001b[0mkwargs\u001b[0m\u001b[0;34m)\u001b[0m\u001b[0;34m\u001b[0m\u001b[0;34m\u001b[0m\u001b[0m\n\u001b[0m\u001b[1;32m   1751\u001b[0m \u001b[0;34m\u001b[0m\u001b[0m\n\u001b[1;32m   1752\u001b[0m         \u001b[0mresult\u001b[0m \u001b[0;34m=\u001b[0m \u001b[0;32mNone\u001b[0m\u001b[0;34m\u001b[0m\u001b[0;34m\u001b[0m\u001b[0m\n",
      "\u001b[0;32m/tmp/ipykernel_35/1409075060.py\u001b[0m in \u001b[0;36mforward\u001b[0;34m(self, data, seq_ids, seq_times, seq_mask, batch_users)\u001b[0m\n\u001b[1;32m     28\u001b[0m     \u001b[0;32mdef\u001b[0m \u001b[0mforward\u001b[0m\u001b[0;34m(\u001b[0m\u001b[0mself\u001b[0m\u001b[0;34m,\u001b[0m \u001b[0mdata\u001b[0m\u001b[0;34m,\u001b[0m \u001b[0mseq_ids\u001b[0m\u001b[0;34m,\u001b[0m \u001b[0mseq_times\u001b[0m\u001b[0;34m,\u001b[0m \u001b[0mseq_mask\u001b[0m\u001b[0;34m,\u001b[0m \u001b[0mbatch_users\u001b[0m\u001b[0;34m)\u001b[0m\u001b[0;34m:\u001b[0m\u001b[0;34m\u001b[0m\u001b[0;34m\u001b[0m\u001b[0m\n\u001b[1;32m     29\u001b[0m         \u001b[0;31m# Static graph embeddings\u001b[0m\u001b[0;34m\u001b[0m\u001b[0;34m\u001b[0m\u001b[0m\n\u001b[0;32m---> 30\u001b[0;31m         \u001b[0muser_embs\u001b[0m \u001b[0;34m=\u001b[0m \u001b[0mself\u001b[0m\u001b[0;34m.\u001b[0m\u001b[0mgnn\u001b[0m\u001b[0;34m(\u001b[0m\u001b[0mdata\u001b[0m\u001b[0;34m)\u001b[0m          \u001b[0;31m# [num_users, d_model]\u001b[0m\u001b[0;34m\u001b[0m\u001b[0;34m\u001b[0m\u001b[0m\n\u001b[0m\u001b[1;32m     31\u001b[0m         \u001b[0;31m# Sequence encoding\u001b[0m\u001b[0;34m\u001b[0m\u001b[0;34m\u001b[0m\u001b[0m\n\u001b[1;32m     32\u001b[0m         \u001b[0mseq_item_emb\u001b[0m \u001b[0;34m=\u001b[0m \u001b[0mself\u001b[0m\u001b[0;34m.\u001b[0m\u001b[0mgnn\u001b[0m\u001b[0;34m.\u001b[0m\u001b[0mitem_emb\u001b[0m\u001b[0;34m(\u001b[0m\u001b[0mseq_ids\u001b[0m\u001b[0;34m)\u001b[0m  \u001b[0;31m# [B, L, d_model]\u001b[0m\u001b[0;34m\u001b[0m\u001b[0;34m\u001b[0m\u001b[0m\n",
      "\u001b[0;32m/usr/local/lib/python3.11/dist-packages/torch/nn/modules/module.py\u001b[0m in \u001b[0;36m_wrapped_call_impl\u001b[0;34m(self, *args, **kwargs)\u001b[0m\n\u001b[1;32m   1737\u001b[0m             \u001b[0;32mreturn\u001b[0m \u001b[0mself\u001b[0m\u001b[0;34m.\u001b[0m\u001b[0m_compiled_call_impl\u001b[0m\u001b[0;34m(\u001b[0m\u001b[0;34m*\u001b[0m\u001b[0margs\u001b[0m\u001b[0;34m,\u001b[0m \u001b[0;34m**\u001b[0m\u001b[0mkwargs\u001b[0m\u001b[0;34m)\u001b[0m  \u001b[0;31m# type: ignore[misc]\u001b[0m\u001b[0;34m\u001b[0m\u001b[0;34m\u001b[0m\u001b[0m\n\u001b[1;32m   1738\u001b[0m         \u001b[0;32melse\u001b[0m\u001b[0;34m:\u001b[0m\u001b[0;34m\u001b[0m\u001b[0;34m\u001b[0m\u001b[0m\n\u001b[0;32m-> 1739\u001b[0;31m             \u001b[0;32mreturn\u001b[0m \u001b[0mself\u001b[0m\u001b[0;34m.\u001b[0m\u001b[0m_call_impl\u001b[0m\u001b[0;34m(\u001b[0m\u001b[0;34m*\u001b[0m\u001b[0margs\u001b[0m\u001b[0;34m,\u001b[0m \u001b[0;34m**\u001b[0m\u001b[0mkwargs\u001b[0m\u001b[0;34m)\u001b[0m\u001b[0;34m\u001b[0m\u001b[0;34m\u001b[0m\u001b[0m\n\u001b[0m\u001b[1;32m   1740\u001b[0m \u001b[0;34m\u001b[0m\u001b[0m\n\u001b[1;32m   1741\u001b[0m     \u001b[0;31m# torchrec tests the code consistency with the following code\u001b[0m\u001b[0;34m\u001b[0m\u001b[0;34m\u001b[0m\u001b[0m\n",
      "\u001b[0;32m/usr/local/lib/python3.11/dist-packages/torch/nn/modules/module.py\u001b[0m in \u001b[0;36m_call_impl\u001b[0;34m(self, *args, **kwargs)\u001b[0m\n\u001b[1;32m   1748\u001b[0m                 \u001b[0;32mor\u001b[0m \u001b[0m_global_backward_pre_hooks\u001b[0m \u001b[0;32mor\u001b[0m \u001b[0m_global_backward_hooks\u001b[0m\u001b[0;34m\u001b[0m\u001b[0;34m\u001b[0m\u001b[0m\n\u001b[1;32m   1749\u001b[0m                 or _global_forward_hooks or _global_forward_pre_hooks):\n\u001b[0;32m-> 1750\u001b[0;31m             \u001b[0;32mreturn\u001b[0m \u001b[0mforward_call\u001b[0m\u001b[0;34m(\u001b[0m\u001b[0;34m*\u001b[0m\u001b[0margs\u001b[0m\u001b[0;34m,\u001b[0m \u001b[0;34m**\u001b[0m\u001b[0mkwargs\u001b[0m\u001b[0;34m)\u001b[0m\u001b[0;34m\u001b[0m\u001b[0;34m\u001b[0m\u001b[0m\n\u001b[0m\u001b[1;32m   1751\u001b[0m \u001b[0;34m\u001b[0m\u001b[0m\n\u001b[1;32m   1752\u001b[0m         \u001b[0mresult\u001b[0m \u001b[0;34m=\u001b[0m \u001b[0;32mNone\u001b[0m\u001b[0;34m\u001b[0m\u001b[0;34m\u001b[0m\u001b[0m\n",
      "\u001b[0;32m/tmp/ipykernel_35/2526775843.py\u001b[0m in \u001b[0;36mforward\u001b[0;34m(self, data)\u001b[0m\n\u001b[1;32m     61\u001b[0m             \u001b[0mx\u001b[0m\u001b[0;34m[\u001b[0m\u001b[0mft\u001b[0m\u001b[0;34m]\u001b[0m \u001b[0;34m=\u001b[0m \u001b[0mself\u001b[0m\u001b[0;34m.\u001b[0m\u001b[0mfb_emb\u001b[0m\u001b[0;34m[\u001b[0m\u001b[0mft\u001b[0m\u001b[0;34m]\u001b[0m\u001b[0;34m(\u001b[0m\u001b[0mdata\u001b[0m\u001b[0;34m[\u001b[0m\u001b[0mft\u001b[0m\u001b[0;34m]\u001b[0m\u001b[0;34m.\u001b[0m\u001b[0mnode_id\u001b[0m\u001b[0;34m)\u001b[0m\u001b[0;34m\u001b[0m\u001b[0;34m\u001b[0m\u001b[0m\n\u001b[1;32m     62\u001b[0m \u001b[0;34m\u001b[0m\u001b[0m\n\u001b[0;32m---> 63\u001b[0;31m         \u001b[0mh1\u001b[0m \u001b[0;34m=\u001b[0m \u001b[0mself\u001b[0m\u001b[0;34m.\u001b[0m\u001b[0mconv1\u001b[0m\u001b[0;34m(\u001b[0m\u001b[0mx\u001b[0m\u001b[0;34m,\u001b[0m \u001b[0mdata\u001b[0m\u001b[0;34m.\u001b[0m\u001b[0medge_index_dict\u001b[0m\u001b[0;34m)\u001b[0m\u001b[0;34m\u001b[0m\u001b[0;34m\u001b[0m\u001b[0m\n\u001b[0m\u001b[1;32m     64\u001b[0m         \u001b[0;31m# print(h1.keys())\u001b[0m\u001b[0;34m\u001b[0m\u001b[0;34m\u001b[0m\u001b[0m\n\u001b[1;32m     65\u001b[0m         \u001b[0;31m# Собираем позитивный и негативный вклад для user\u001b[0m\u001b[0;34m\u001b[0m\u001b[0;34m\u001b[0m\u001b[0m\n",
      "\u001b[0;32m/usr/local/lib/python3.11/dist-packages/torch/nn/modules/module.py\u001b[0m in \u001b[0;36m_wrapped_call_impl\u001b[0;34m(self, *args, **kwargs)\u001b[0m\n\u001b[1;32m   1737\u001b[0m             \u001b[0;32mreturn\u001b[0m \u001b[0mself\u001b[0m\u001b[0;34m.\u001b[0m\u001b[0m_compiled_call_impl\u001b[0m\u001b[0;34m(\u001b[0m\u001b[0;34m*\u001b[0m\u001b[0margs\u001b[0m\u001b[0;34m,\u001b[0m \u001b[0;34m**\u001b[0m\u001b[0mkwargs\u001b[0m\u001b[0;34m)\u001b[0m  \u001b[0;31m# type: ignore[misc]\u001b[0m\u001b[0;34m\u001b[0m\u001b[0;34m\u001b[0m\u001b[0m\n\u001b[1;32m   1738\u001b[0m         \u001b[0;32melse\u001b[0m\u001b[0;34m:\u001b[0m\u001b[0;34m\u001b[0m\u001b[0;34m\u001b[0m\u001b[0m\n\u001b[0;32m-> 1739\u001b[0;31m             \u001b[0;32mreturn\u001b[0m \u001b[0mself\u001b[0m\u001b[0;34m.\u001b[0m\u001b[0m_call_impl\u001b[0m\u001b[0;34m(\u001b[0m\u001b[0;34m*\u001b[0m\u001b[0margs\u001b[0m\u001b[0;34m,\u001b[0m \u001b[0;34m**\u001b[0m\u001b[0mkwargs\u001b[0m\u001b[0;34m)\u001b[0m\u001b[0;34m\u001b[0m\u001b[0;34m\u001b[0m\u001b[0m\n\u001b[0m\u001b[1;32m   1740\u001b[0m \u001b[0;34m\u001b[0m\u001b[0m\n\u001b[1;32m   1741\u001b[0m     \u001b[0;31m# torchrec tests the code consistency with the following code\u001b[0m\u001b[0;34m\u001b[0m\u001b[0;34m\u001b[0m\u001b[0m\n",
      "\u001b[0;32m/usr/local/lib/python3.11/dist-packages/torch/nn/modules/module.py\u001b[0m in \u001b[0;36m_call_impl\u001b[0;34m(self, *args, **kwargs)\u001b[0m\n\u001b[1;32m   1748\u001b[0m                 \u001b[0;32mor\u001b[0m \u001b[0m_global_backward_pre_hooks\u001b[0m \u001b[0;32mor\u001b[0m \u001b[0m_global_backward_hooks\u001b[0m\u001b[0;34m\u001b[0m\u001b[0;34m\u001b[0m\u001b[0m\n\u001b[1;32m   1749\u001b[0m                 or _global_forward_hooks or _global_forward_pre_hooks):\n\u001b[0;32m-> 1750\u001b[0;31m             \u001b[0;32mreturn\u001b[0m \u001b[0mforward_call\u001b[0m\u001b[0;34m(\u001b[0m\u001b[0;34m*\u001b[0m\u001b[0margs\u001b[0m\u001b[0;34m,\u001b[0m \u001b[0;34m**\u001b[0m\u001b[0mkwargs\u001b[0m\u001b[0;34m)\u001b[0m\u001b[0;34m\u001b[0m\u001b[0;34m\u001b[0m\u001b[0m\n\u001b[0m\u001b[1;32m   1751\u001b[0m \u001b[0;34m\u001b[0m\u001b[0m\n\u001b[1;32m   1752\u001b[0m         \u001b[0mresult\u001b[0m \u001b[0;34m=\u001b[0m \u001b[0;32mNone\u001b[0m\u001b[0;34m\u001b[0m\u001b[0;34m\u001b[0m\u001b[0m\n",
      "\u001b[0;32m/usr/local/lib/python3.11/dist-packages/torch_geometric/nn/conv/hetero_conv.py\u001b[0m in \u001b[0;36mforward\u001b[0;34m(self, *args_dict, **kwargs_dict)\u001b[0m\n\u001b[1;32m    156\u001b[0m                 \u001b[0;32mcontinue\u001b[0m\u001b[0;34m\u001b[0m\u001b[0;34m\u001b[0m\u001b[0m\n\u001b[1;32m    157\u001b[0m \u001b[0;34m\u001b[0m\u001b[0m\n\u001b[0;32m--> 158\u001b[0;31m             \u001b[0mout\u001b[0m \u001b[0;34m=\u001b[0m \u001b[0mconv\u001b[0m\u001b[0;34m(\u001b[0m\u001b[0;34m*\u001b[0m\u001b[0margs\u001b[0m\u001b[0;34m,\u001b[0m \u001b[0;34m**\u001b[0m\u001b[0mkwargs\u001b[0m\u001b[0;34m)\u001b[0m\u001b[0;34m\u001b[0m\u001b[0;34m\u001b[0m\u001b[0m\n\u001b[0m\u001b[1;32m    159\u001b[0m \u001b[0;34m\u001b[0m\u001b[0m\n\u001b[1;32m    160\u001b[0m             \u001b[0;32mif\u001b[0m \u001b[0mdst\u001b[0m \u001b[0;32mnot\u001b[0m \u001b[0;32min\u001b[0m \u001b[0mout_dict\u001b[0m\u001b[0;34m:\u001b[0m\u001b[0;34m\u001b[0m\u001b[0;34m\u001b[0m\u001b[0m\n",
      "\u001b[0;32m/usr/local/lib/python3.11/dist-packages/torch/nn/modules/module.py\u001b[0m in \u001b[0;36m_wrapped_call_impl\u001b[0;34m(self, *args, **kwargs)\u001b[0m\n\u001b[1;32m   1737\u001b[0m             \u001b[0;32mreturn\u001b[0m \u001b[0mself\u001b[0m\u001b[0;34m.\u001b[0m\u001b[0m_compiled_call_impl\u001b[0m\u001b[0;34m(\u001b[0m\u001b[0;34m*\u001b[0m\u001b[0margs\u001b[0m\u001b[0;34m,\u001b[0m \u001b[0;34m**\u001b[0m\u001b[0mkwargs\u001b[0m\u001b[0;34m)\u001b[0m  \u001b[0;31m# type: ignore[misc]\u001b[0m\u001b[0;34m\u001b[0m\u001b[0;34m\u001b[0m\u001b[0m\n\u001b[1;32m   1738\u001b[0m         \u001b[0;32melse\u001b[0m\u001b[0;34m:\u001b[0m\u001b[0;34m\u001b[0m\u001b[0;34m\u001b[0m\u001b[0m\n\u001b[0;32m-> 1739\u001b[0;31m             \u001b[0;32mreturn\u001b[0m \u001b[0mself\u001b[0m\u001b[0;34m.\u001b[0m\u001b[0m_call_impl\u001b[0m\u001b[0;34m(\u001b[0m\u001b[0;34m*\u001b[0m\u001b[0margs\u001b[0m\u001b[0;34m,\u001b[0m \u001b[0;34m**\u001b[0m\u001b[0mkwargs\u001b[0m\u001b[0;34m)\u001b[0m\u001b[0;34m\u001b[0m\u001b[0;34m\u001b[0m\u001b[0m\n\u001b[0m\u001b[1;32m   1740\u001b[0m \u001b[0;34m\u001b[0m\u001b[0m\n\u001b[1;32m   1741\u001b[0m     \u001b[0;31m# torchrec tests the code consistency with the following code\u001b[0m\u001b[0;34m\u001b[0m\u001b[0;34m\u001b[0m\u001b[0m\n",
      "\u001b[0;32m/usr/local/lib/python3.11/dist-packages/torch/nn/modules/module.py\u001b[0m in \u001b[0;36m_call_impl\u001b[0;34m(self, *args, **kwargs)\u001b[0m\n\u001b[1;32m   1748\u001b[0m                 \u001b[0;32mor\u001b[0m \u001b[0m_global_backward_pre_hooks\u001b[0m \u001b[0;32mor\u001b[0m \u001b[0m_global_backward_hooks\u001b[0m\u001b[0;34m\u001b[0m\u001b[0;34m\u001b[0m\u001b[0m\n\u001b[1;32m   1749\u001b[0m                 or _global_forward_hooks or _global_forward_pre_hooks):\n\u001b[0;32m-> 1750\u001b[0;31m             \u001b[0;32mreturn\u001b[0m \u001b[0mforward_call\u001b[0m\u001b[0;34m(\u001b[0m\u001b[0;34m*\u001b[0m\u001b[0margs\u001b[0m\u001b[0;34m,\u001b[0m \u001b[0;34m**\u001b[0m\u001b[0mkwargs\u001b[0m\u001b[0;34m)\u001b[0m\u001b[0;34m\u001b[0m\u001b[0;34m\u001b[0m\u001b[0m\n\u001b[0m\u001b[1;32m   1751\u001b[0m \u001b[0;34m\u001b[0m\u001b[0m\n\u001b[1;32m   1752\u001b[0m         \u001b[0mresult\u001b[0m \u001b[0;34m=\u001b[0m \u001b[0;32mNone\u001b[0m\u001b[0;34m\u001b[0m\u001b[0;34m\u001b[0m\u001b[0m\n",
      "\u001b[0;32m/usr/local/lib/python3.11/dist-packages/torch_geometric/nn/conv/gat_conv.py\u001b[0m in \u001b[0;36mforward\u001b[0;34m(self, x, edge_index, edge_attr, size, return_attention_weights)\u001b[0m\n\u001b[1;32m    364\u001b[0m \u001b[0;34m\u001b[0m\u001b[0m\n\u001b[1;32m    365\u001b[0m         \u001b[0;31m# propagate_type: (x: OptPairTensor, alpha: Tensor)\u001b[0m\u001b[0;34m\u001b[0m\u001b[0;34m\u001b[0m\u001b[0m\n\u001b[0;32m--> 366\u001b[0;31m         \u001b[0mout\u001b[0m \u001b[0;34m=\u001b[0m \u001b[0mself\u001b[0m\u001b[0;34m.\u001b[0m\u001b[0mpropagate\u001b[0m\u001b[0;34m(\u001b[0m\u001b[0medge_index\u001b[0m\u001b[0;34m,\u001b[0m \u001b[0mx\u001b[0m\u001b[0;34m=\u001b[0m\u001b[0mx\u001b[0m\u001b[0;34m,\u001b[0m \u001b[0malpha\u001b[0m\u001b[0;34m=\u001b[0m\u001b[0malpha\u001b[0m\u001b[0;34m,\u001b[0m \u001b[0msize\u001b[0m\u001b[0;34m=\u001b[0m\u001b[0msize\u001b[0m\u001b[0;34m)\u001b[0m\u001b[0;34m\u001b[0m\u001b[0;34m\u001b[0m\u001b[0m\n\u001b[0m\u001b[1;32m    367\u001b[0m \u001b[0;34m\u001b[0m\u001b[0m\n\u001b[1;32m    368\u001b[0m         \u001b[0;32mif\u001b[0m \u001b[0mself\u001b[0m\u001b[0;34m.\u001b[0m\u001b[0mconcat\u001b[0m\u001b[0;34m:\u001b[0m\u001b[0;34m\u001b[0m\u001b[0;34m\u001b[0m\u001b[0m\n",
      "\u001b[0;32m/tmp/torch_geometric.nn.conv.gat_conv_GATConv_propagate_mrexf_ck.py\u001b[0m in \u001b[0;36mpropagate\u001b[0;34m(self, edge_index, x, alpha, size)\u001b[0m\n\u001b[1;32m    180\u001b[0m \u001b[0;34m\u001b[0m\u001b[0m\n\u001b[1;32m    181\u001b[0m         \u001b[0;31m# Begin Message Forward Hook ###########################################\u001b[0m\u001b[0;34m\u001b[0m\u001b[0;34m\u001b[0m\u001b[0m\n\u001b[0;32m--> 182\u001b[0;31m         \u001b[0;32mif\u001b[0m \u001b[0;32mnot\u001b[0m \u001b[0mtorch\u001b[0m\u001b[0;34m.\u001b[0m\u001b[0mjit\u001b[0m\u001b[0;34m.\u001b[0m\u001b[0mis_scripting\u001b[0m\u001b[0;34m(\u001b[0m\u001b[0;34m)\u001b[0m \u001b[0;32mand\u001b[0m \u001b[0;32mnot\u001b[0m \u001b[0mis_compiling\u001b[0m\u001b[0;34m(\u001b[0m\u001b[0;34m)\u001b[0m\u001b[0;34m:\u001b[0m\u001b[0;34m\u001b[0m\u001b[0;34m\u001b[0m\u001b[0m\n\u001b[0m\u001b[1;32m    183\u001b[0m             \u001b[0;32mfor\u001b[0m \u001b[0mhook\u001b[0m \u001b[0;32min\u001b[0m \u001b[0mself\u001b[0m\u001b[0;34m.\u001b[0m\u001b[0m_message_forward_hooks\u001b[0m\u001b[0;34m.\u001b[0m\u001b[0mvalues\u001b[0m\u001b[0;34m(\u001b[0m\u001b[0;34m)\u001b[0m\u001b[0;34m:\u001b[0m\u001b[0;34m\u001b[0m\u001b[0;34m\u001b[0m\u001b[0m\n\u001b[1;32m    184\u001b[0m                 hook_kwargs = dict(\n",
      "\u001b[0;32m/usr/local/lib/python3.11/dist-packages/torch/_jit_internal.py\u001b[0m in \u001b[0;36mis_scripting\u001b[0;34m()\u001b[0m\n\u001b[1;32m    101\u001b[0m \u001b[0;34m\u001b[0m\u001b[0m\n\u001b[1;32m    102\u001b[0m \u001b[0;34m\u001b[0m\u001b[0m\n\u001b[0;32m--> 103\u001b[0;31m \u001b[0;32mdef\u001b[0m \u001b[0mis_scripting\u001b[0m\u001b[0;34m(\u001b[0m\u001b[0;34m)\u001b[0m \u001b[0;34m->\u001b[0m \u001b[0mbool\u001b[0m\u001b[0;34m:\u001b[0m\u001b[0;34m\u001b[0m\u001b[0;34m\u001b[0m\u001b[0m\n\u001b[0m\u001b[1;32m    104\u001b[0m     r\"\"\"\n\u001b[1;32m    105\u001b[0m     \u001b[0mFunction\u001b[0m \u001b[0mthat\u001b[0m \u001b[0mreturns\u001b[0m \u001b[0;32mTrue\u001b[0m \u001b[0mwhen\u001b[0m \u001b[0;32min\u001b[0m \u001b[0mcompilation\u001b[0m \u001b[0;32mand\u001b[0m \u001b[0;32mFalse\u001b[0m \u001b[0motherwise\u001b[0m\u001b[0;34m.\u001b[0m \u001b[0mThis\u001b[0m\u001b[0;34m\u001b[0m\u001b[0;34m\u001b[0m\u001b[0m\n",
      "\u001b[0;31mKeyboardInterrupt\u001b[0m: "
     ]
    }
   ],
   "source": [
    "model = Model(\n",
    "    num_users=num_users,\n",
    "    num_items=num_items,\n",
    "    feedback_types=feedback_types,\n",
    "    d_model=d_model,\n",
    "    n_head=n_head,\n",
    "    window_size=window_size,\n",
    "    decay=decay,\n",
    "    dropout=dropout\n",
    ")\n",
    "\n",
    "edge_type = hyperparameters['train_edge_type']\n",
    "num_epochs = hyperparameters['train_num_epochs']\n",
    "lr = hyperparameters['train_lr']\n",
    "batch_size = hyperparameters['train_batch_size']\n",
    "print_every = hyperparameters['train_print_every']\n",
    "test_every = hyperparameters['train_test_every']\n",
    "top_k = hyperparameters['test_topk']\n",
    "test_batch_size = hyperparameters['test_batch_size']\n",
    "scheduler_step_size = hyperparameters['train_scheduler_step_size']\n",
    "train_scheduler_gamma = hyperparameters['train_scheduler_gamma']\n",
    "train_margin = hyperparameters['train_margin']\n",
    "train_lambda_margin = hyperparameters['train_lambda_margin']\n",
    "train_lambda_ce = hyperparameters['train_lambda_ce']\n",
    "\n",
    "model = train_model(model,\n",
    "                    data,\n",
    "                    (seq_ids, event_type, seq_times, seq_mask),\n",
    "                    edge_type=edge_type,\n",
    "                    num_epochs=num_epochs,\n",
    "                    lr=lr,\n",
    "                    batch_size=batch_size,\n",
    "                    print_every=print_every,\n",
    "                    test_every=test_every,\n",
    "                    top_k=top_k,\n",
    "                    test_batch_size=test_batch_size,\n",
    "                    scheduler_step_size=scheduler_step_size,\n",
    "                    scheduler_gamma=train_scheduler_gamma)"
   ]
  },
  {
   "cell_type": "code",
   "execution_count": 47,
   "metadata": {
    "execution": {
     "iopub.execute_input": "2025-06-25T06:21:21.735967Z",
     "iopub.status.busy": "2025-06-25T06:21:21.735449Z",
     "iopub.status.idle": "2025-06-25T06:21:21.807577Z",
     "shell.execute_reply": "2025-06-25T06:21:21.806882Z",
     "shell.execute_reply.started": "2025-06-25T06:21:21.735947Z"
    },
    "trusted": true
   },
   "outputs": [
    {
     "data": {
      "text/html": [
       "<a href='gnn_model_mvl.model' target='_blank'>gnn_model_mvl.model</a><br>"
      ],
      "text/plain": [
       "/kaggle/working/gnn_model_mvl.model"
      ]
     },
     "execution_count": 47,
     "metadata": {},
     "output_type": "execute_result"
    }
   ],
   "source": [
    "torch.save(model, \"gnn_model_mvl.model\")\n",
    "from IPython.display import FileLink\n",
    "\n",
    "FileLink('gnn_model_mvl.model')"
   ]
  },
  {
   "cell_type": "code",
   "execution_count": 48,
   "metadata": {
    "execution": {
     "iopub.execute_input": "2025-06-25T06:21:22.203859Z",
     "iopub.status.busy": "2025-06-25T06:21:22.203305Z",
     "iopub.status.idle": "2025-06-25T06:21:22.461947Z",
     "shell.execute_reply": "2025-06-25T06:21:22.461137Z",
     "shell.execute_reply.started": "2025-06-25T06:21:22.203836Z"
    },
    "trusted": true
   },
   "outputs": [],
   "source": [
    "# del model\n",
    "gc.collect()\n",
    "torch.cuda.empty_cache()"
   ]
  },
  {
   "cell_type": "code",
   "execution_count": 49,
   "metadata": {
    "execution": {
     "iopub.execute_input": "2025-06-25T06:21:23.762081Z",
     "iopub.status.busy": "2025-06-25T06:21:23.761502Z",
     "iopub.status.idle": "2025-06-25T06:21:24.051083Z",
     "shell.execute_reply": "2025-06-25T06:21:24.050366Z",
     "shell.execute_reply.started": "2025-06-25T06:21:23.762058Z"
    },
    "trusted": true
   },
   "outputs": [],
   "source": [
    "log_model(\n",
    "    experiment=experiment,\n",
    "    model=model,\n",
    "    model_name=\"GNN+THP\",\n",
    ")"
   ]
  },
  {
   "cell_type": "code",
   "execution_count": null,
   "metadata": {
    "execution": {
     "execution_failed": "2025-06-25T06:21:28.582Z",
     "iopub.execute_input": "2025-06-25T06:21:24.156724Z",
     "iopub.status.busy": "2025-06-25T06:21:24.156435Z"
    },
    "trusted": true
   },
   "outputs": [
    {
     "name": "stderr",
     "output_type": "stream",
     "text": [
      "\u001b[1;38;5;39mCOMET INFO:\u001b[0m ---------------------------------------------------------------------------------------\n",
      "\u001b[1;38;5;39mCOMET INFO:\u001b[0m Comet.ml Experiment Summary\n",
      "\u001b[1;38;5;39mCOMET INFO:\u001b[0m ---------------------------------------------------------------------------------------\n",
      "\u001b[1;38;5;39mCOMET INFO:\u001b[0m   Data:\n",
      "\u001b[1;38;5;39mCOMET INFO:\u001b[0m     display_summary_level : 1\n",
      "\u001b[1;38;5;39mCOMET INFO:\u001b[0m     name                  : diffgat-thp-extra-task-beauty\n",
      "\u001b[1;38;5;39mCOMET INFO:\u001b[0m     url                   : https://www.comet.com/annanet/gnn-recommender/0b440d9ff3f546cdb0ecba075d7eb4d7\n",
      "\u001b[1;38;5;39mCOMET INFO:\u001b[0m   Metrics [count] (min, max):\n",
      "\u001b[1;38;5;39mCOMET INFO:\u001b[0m     Diff stats (mean) vs step [971] : (-0.12771612405776978, 7.903835296630859)\n",
      "\u001b[1;38;5;39mCOMET INFO:\u001b[0m     Diff stats (std) vs step [971]  : (1.1190036535263062, 7.842223167419434)\n",
      "\u001b[1;38;5;39mCOMET INFO:\u001b[0m     Test map@10 vs step [486]       : (0.0001345576734544203, 0.006328806916972877)\n",
      "\u001b[1;38;5;39mCOMET INFO:\u001b[0m     Test ndcg@10 vs step [486]      : (0.0005671924622437925, 0.01660595252196951)\n",
      "\u001b[1;38;5;39mCOMET INFO:\u001b[0m     Test precision@10 vs step [486] : (0.0006600660066006601, 0.015841584158415842)\n",
      "\u001b[1;38;5;39mCOMET INFO:\u001b[0m     Test recall@10 vs step [486]    : (0.0006600660066006601, 0.015930172949267716)\n",
      "\u001b[1;38;5;39mCOMET INFO:\u001b[0m     Train BPR Loss vs step [14562]  : (0.031142396852374077, 3.6587107181549072)\n",
      "\u001b[1;38;5;39mCOMET INFO:\u001b[0m     Train CE Loss vs step [14562]   : (0.4356728494167328, 0.528462290763855)\n",
      "\u001b[1;38;5;39mCOMET INFO:\u001b[0m     Train Loss vs epoch [485]       : (0.0001266500715559015, 0.0009549882055746067)\n",
      "\u001b[1;38;5;39mCOMET INFO:\u001b[0m     Train Loss vs step [14562]      : (0.47856399416923523, 4.187172889709473)\n",
      "\u001b[1;38;5;39mCOMET INFO:\u001b[0m     loss [1457]                     : (0.48498278856277466, 4.187172889709473)\n",
      "\u001b[1;38;5;39mCOMET INFO:\u001b[0m   Others:\n",
      "\u001b[1;38;5;39mCOMET INFO:\u001b[0m     Name : diffgat-thp-extra-task-beauty\n",
      "\u001b[1;38;5;39mCOMET INFO:\u001b[0m   Parameters:\n",
      "\u001b[1;38;5;39mCOMET INFO:\u001b[0m     cls_id                    : 12096\n",
      "\u001b[1;38;5;39mCOMET INFO:\u001b[0m     max_len_of_thp_history    : 100\n",
      "\u001b[1;38;5;39mCOMET INFO:\u001b[0m     pad_id                    : 0\n",
      "\u001b[1;38;5;39mCOMET INFO:\u001b[0m     seed                      : 42\n",
      "\u001b[1;38;5;39mCOMET INFO:\u001b[0m     test_batch_size           : 8192\n",
      "\u001b[1;38;5;39mCOMET INFO:\u001b[0m     test_topk                 : 10\n",
      "\u001b[1;38;5;39mCOMET INFO:\u001b[0m     thp_decay                 : 1.0\n",
      "\u001b[1;38;5;39mCOMET INFO:\u001b[0m     thp_dmodel                : 64\n",
      "\u001b[1;38;5;39mCOMET INFO:\u001b[0m     thp_dropout               : 0.2\n",
      "\u001b[1;38;5;39mCOMET INFO:\u001b[0m     thp_n_head                : 4\n",
      "\u001b[1;38;5;39mCOMET INFO:\u001b[0m     thp_window_size           : 101\n",
      "\u001b[1;38;5;39mCOMET INFO:\u001b[0m     train_batch_size          : 4096\n",
      "\u001b[1;38;5;39mCOMET INFO:\u001b[0m     train_edge_type           : [('item', 'item2explicit_positive', 'explicit_positive'), ('item', 'item2implicit_positive', 'implicit_positive')]\n",
      "\u001b[1;38;5;39mCOMET INFO:\u001b[0m     train_lambda_ce           : 0.7\n",
      "\u001b[1;38;5;39mCOMET INFO:\u001b[0m     train_lambda_margin       : 0.1\n",
      "\u001b[1;38;5;39mCOMET INFO:\u001b[0m     train_lr                  : 0.001\n",
      "\u001b[1;38;5;39mCOMET INFO:\u001b[0m     train_margin              : 1.0\n",
      "\u001b[1;38;5;39mCOMET INFO:\u001b[0m     train_num_epochs          : 5000\n",
      "\u001b[1;38;5;39mCOMET INFO:\u001b[0m     train_print_every         : 20\n",
      "\u001b[1;38;5;39mCOMET INFO:\u001b[0m     train_scheduler_gamma     : 0.98\n",
      "\u001b[1;38;5;39mCOMET INFO:\u001b[0m     train_scheduler_step_size : 150\n",
      "\u001b[1;38;5;39mCOMET INFO:\u001b[0m     train_test_every          : 50\n",
      "\u001b[1;38;5;39mCOMET INFO:\u001b[0m     types_of_feedback         : ['explicit_positive', 'expliсit_negative', 'implicit_positive', 'implicit_negative']\n",
      "\u001b[1;38;5;39mCOMET INFO:\u001b[0m   Uploads:\n",
      "\u001b[1;38;5;39mCOMET INFO:\u001b[0m     environment details : 1\n",
      "\u001b[1;38;5;39mCOMET INFO:\u001b[0m     filename            : 1\n",
      "\u001b[1;38;5;39mCOMET INFO:\u001b[0m     installed packages  : 1\n",
      "\u001b[1;38;5;39mCOMET INFO:\u001b[0m     model graph         : 1\n",
      "\u001b[1;38;5;39mCOMET INFO:\u001b[0m     model-element       : 2 (30.93 MB)\n",
      "\u001b[1;38;5;39mCOMET INFO:\u001b[0m     notebook            : 1\n",
      "\u001b[1;38;5;39mCOMET INFO:\u001b[0m     os packages         : 1\n",
      "\u001b[1;38;5;39mCOMET INFO:\u001b[0m     source_code         : 1\n",
      "\u001b[1;38;5;39mCOMET INFO:\u001b[0m \n",
      "\u001b[1;38;5;39mCOMET INFO:\u001b[0m Please wait for assets to finish uploading (timeout is 10800 seconds)\n",
      "\u001b[1;38;5;39mCOMET INFO:\u001b[0m Still uploading 1 file(s), remaining 28.86 MB/30.93 MB\n"
     ]
    }
   ],
   "source": [
    "experiment.end()"
   ]
  },
  {
   "cell_type": "code",
   "execution_count": null,
   "metadata": {
    "trusted": true
   },
   "outputs": [],
   "source": []
  }
 ],
 "metadata": {
  "kaggle": {
   "accelerator": "gpu",
   "dataSources": [
    {
     "datasetId": 7302197,
     "sourceId": 11637841,
     "sourceType": "datasetVersion"
    },
    {
     "datasetId": 7705289,
     "sourceId": 12229447,
     "sourceType": "datasetVersion"
    }
   ],
   "dockerImageVersionId": 31041,
   "isGpuEnabled": true,
   "isInternetEnabled": true,
   "language": "python",
   "sourceType": "notebook"
  },
  "kernelspec": {
   "display_name": "Python 3",
   "language": "python",
   "name": "python3"
  },
  "language_info": {
   "codemirror_mode": {
    "name": "ipython",
    "version": 3
   },
   "file_extension": ".py",
   "mimetype": "text/x-python",
   "name": "python",
   "nbconvert_exporter": "python",
   "pygments_lexer": "ipython3",
   "version": "3.11.11"
  }
 },
 "nbformat": 4,
 "nbformat_minor": 4
}
