{
 "cells": [
  {
   "cell_type": "code",
   "execution_count": 1,
   "metadata": {
    "_cell_guid": "b1076dfc-b9ad-4769-8c92-a6c4dae69d19",
    "_uuid": "8f2839f25d086af736a60e9eeb907d3b93b6e0e5",
    "execution": {
     "iopub.execute_input": "2025-06-25T02:10:48.497045Z",
     "iopub.status.busy": "2025-06-25T02:10:48.496846Z",
     "iopub.status.idle": "2025-06-25T02:11:02.781670Z",
     "shell.execute_reply": "2025-06-25T02:11:02.780855Z",
     "shell.execute_reply.started": "2025-06-25T02:10:48.497027Z"
    },
    "trusted": true
   },
   "outputs": [
    {
     "name": "stdout",
     "output_type": "stream",
     "text": [
      "\u001b[2K     \u001b[90m━━━━━━━━━━━━━━━━━━━━━━━━━━━━━━━━━━━━━━━━\u001b[0m \u001b[32m63.1/63.1 kB\u001b[0m \u001b[31m2.7 MB/s\u001b[0m eta \u001b[36m0:00:00\u001b[0m\n",
      "\u001b[2K   \u001b[90m━━━━━━━━━━━━━━━━━━━━━━━━━━━━━━━━━━━━━━━━\u001b[0m \u001b[32m1.1/1.1 MB\u001b[0m \u001b[31m28.0 MB/s\u001b[0m eta \u001b[36m0:00:00\u001b[0m00:01\u001b[0m\n",
      "\u001b[2K   \u001b[90m━━━━━━━━━━━━━━━━━━━━━━━━━━━━━━━━━━━━━━━━\u001b[0m \u001b[32m208.0/208.0 kB\u001b[0m \u001b[31m10.6 MB/s\u001b[0m eta \u001b[36m0:00:00\u001b[0m\n",
      "\u001b[2K   \u001b[90m━━━━━━━━━━━━━━━━━━━━━━━━━━━━━━━━━━━━━━━━\u001b[0m \u001b[32m60.8/60.8 kB\u001b[0m \u001b[31m4.4 MB/s\u001b[0m eta \u001b[36m0:00:00\u001b[0m\n",
      "\u001b[2K   \u001b[90m━━━━━━━━━━━━━━━━━━━━━━━━━━━━━━━━━━━━━━━━\u001b[0m \u001b[32m8.9/8.9 MB\u001b[0m \u001b[31m108.7 MB/s\u001b[0m eta \u001b[36m0:00:00\u001b[0m00:01\u001b[0m00:01\u001b[0m\n",
      "\u001b[?25h\u001b[31mERROR: pip's dependency resolver does not currently take into account all the packages that are installed. This behaviour is the source of the following dependency conflicts.\n",
      "bigframes 1.42.0 requires rich<14,>=12.4.4, but you have rich 14.0.0 which is incompatible.\u001b[0m\u001b[31m\n",
      "\u001b[2K   \u001b[90m━━━━━━━━━━━━━━━━━━━━━━━━━━━━━━━━━━━━━━━━\u001b[0m \u001b[32m727.1/727.1 kB\u001b[0m \u001b[31m16.2 MB/s\u001b[0m eta \u001b[36m0:00:00\u001b[0m00:01\u001b[0m\n",
      "\u001b[2K   \u001b[90m━━━━━━━━━━━━━━━━━━━━━━━━━━━━━━━━━━━━━━━━\u001b[0m \u001b[32m1.1/1.1 MB\u001b[0m \u001b[31m43.0 MB/s\u001b[0m eta \u001b[36m0:00:00\u001b[0m\n",
      "\u001b[2K   \u001b[90m━━━━━━━━━━━━━━━━━━━━━━━━━━━━━━━━━━━━━━━━\u001b[0m \u001b[32m3.5/3.5 MB\u001b[0m \u001b[31m87.8 MB/s\u001b[0m eta \u001b[36m0:00:00\u001b[0m:00:01\u001b[0m\n",
      "\u001b[?25h"
     ]
    }
   ],
   "source": [
    "!pip -q install torch_geometric rectools\n",
    "!pip -q install comet_ml\n",
    "!pip -q install python-dotenv"
   ]
  },
  {
   "cell_type": "code",
   "execution_count": 2,
   "metadata": {
    "execution": {
     "iopub.execute_input": "2025-06-25T02:11:02.783014Z",
     "iopub.status.busy": "2025-06-25T02:11:02.782730Z",
     "iopub.status.idle": "2025-06-25T02:11:08.560521Z",
     "shell.execute_reply": "2025-06-25T02:11:08.559772Z",
     "shell.execute_reply.started": "2025-06-25T02:11:02.782983Z"
    },
    "trusted": true
   },
   "outputs": [],
   "source": [
    "import comet_ml\n",
    "from comet_ml import Experiment\n",
    "from comet_ml.integration.pytorch import log_model\n",
    "\n",
    "from dotenv import load_dotenv\n",
    "import os"
   ]
  },
  {
   "cell_type": "code",
   "execution_count": 4,
   "metadata": {
    "execution": {
     "iopub.execute_input": "2025-06-25T02:11:08.566833Z",
     "iopub.status.busy": "2025-06-25T02:11:08.566640Z",
     "iopub.status.idle": "2025-06-25T02:11:08.582363Z",
     "shell.execute_reply": "2025-06-25T02:11:08.581853Z",
     "shell.execute_reply.started": "2025-06-25T02:11:08.566819Z"
    },
    "trusted": true
   },
   "outputs": [
    {
     "data": {
      "text/plain": [
       "True"
      ]
     },
     "execution_count": 4,
     "metadata": {},
     "output_type": "execute_result"
    }
   ],
   "source": [
    "load_dotenv(\".env\")"
   ]
  },
  {
   "cell_type": "code",
   "execution_count": 5,
   "metadata": {
    "execution": {
     "iopub.execute_input": "2025-06-25T02:11:08.583218Z",
     "iopub.status.busy": "2025-06-25T02:11:08.582984Z",
     "iopub.status.idle": "2025-06-25T02:11:13.109080Z",
     "shell.execute_reply": "2025-06-25T02:11:13.108581Z",
     "shell.execute_reply.started": "2025-06-25T02:11:08.583202Z"
    },
    "trusted": true
   },
   "outputs": [
    {
     "name": "stderr",
     "output_type": "stream",
     "text": [
      "\u001b[1;38;5;214mCOMET WARNING:\u001b[0m As you are running in a Jupyter environment, you will need to call `experiment.end()` when finished to ensure all metrics and code are logged before exiting.\n",
      "\u001b[1;38;5;39mCOMET INFO:\u001b[0m Experiment is live on comet.com https://www.comet.com/annanet/gnn-recommender/56940bb0e0ad4232af7cb59b52e4d4bb\n",
      "\n",
      "\u001b[1;38;5;39mCOMET INFO:\u001b[0m Couldn't find a Git repository in '/kaggle/working' nor in any parent directory. Set `COMET_GIT_DIRECTORY` if your Git Repository is elsewhere.\n"
     ]
    }
   ],
   "source": [
    "experiment = Experiment(\n",
    "  api_key=os.getenv('API_KEY'),\n",
    "  project_name=\"gnn-recommender\",\n",
    "  workspace=\"annanet\",\n",
    "  log_code=True\n",
    ")\n",
    "\n",
    "experiment.set_name('diffgat-thp-extra-task-books')\n",
    "experiment.add_tags(['books'])"
   ]
  },
  {
   "cell_type": "markdown",
   "metadata": {},
   "source": [
    "https://www.comet.com/annanet/gnn-recommender/56940bb0e0ad4232af7cb59b52e4d4bb"
   ]
  },
  {
   "cell_type": "code",
   "execution_count": 6,
   "metadata": {
    "execution": {
     "iopub.execute_input": "2025-06-25T02:11:13.109923Z",
     "iopub.status.busy": "2025-06-25T02:11:13.109727Z",
     "iopub.status.idle": "2025-06-25T02:11:13.114943Z",
     "shell.execute_reply": "2025-06-25T02:11:13.114093Z",
     "shell.execute_reply.started": "2025-06-25T02:11:13.109907Z"
    },
    "trusted": true
   },
   "outputs": [],
   "source": [
    "hyperparameters = {\n",
    "    'seed': 42,\n",
    "    'types_of_feedback': [\"explicit_positive\", \"expliсit_negative\",\n",
    "                          \"implicit_positive\", \"implicit_negative\"],\n",
    "    'max_len_of_thp_history': 100,\n",
    "    'pad_id': 0,         \n",
    "    'cls_id': None,  # filled in at the stage of creating a story for thp\n",
    "    'thp_dmodel': 64,  # размер эмбеддингов\n",
    "    'thp_n_head': 4,  # число attention-голов\n",
    "    'thp_window_size': 101,  # окно THP\n",
    "    'thp_decay': 1.0,  # скорость экспоненциального затухания\n",
    "    'thp_dropout': 0.2,  # dropout\n",
    "    'train_edge_type': [('item','item2explicit_positive','explicit_positive'), \n",
    "                        ('item','item2implicit_positive','implicit_positive')],\n",
    "    'train_num_epochs': 5000,\n",
    "    'train_lr': 1e-3,\n",
    "    'train_batch_size': 4096,\n",
    "    'train_print_every': 20,  # раз в сколько шагов печатаем статистику\n",
    "    'train_test_every': 50,\n",
    "    'test_topk': 10,\n",
    "    'test_batch_size': 8192,\n",
    "    'train_scheduler_step_size': 150,\n",
    "    'train_scheduler_gamma': 0.98,\n",
    "    'train_margin': 1.0,\n",
    "    'train_lambda_margin': 0.1,\n",
    "    'train_lambda_ce': 0.7\n",
    "}"
   ]
  },
  {
   "cell_type": "code",
   "execution_count": 7,
   "metadata": {
    "execution": {
     "iopub.execute_input": "2025-06-25T02:11:13.115984Z",
     "iopub.status.busy": "2025-06-25T02:11:13.115725Z",
     "iopub.status.idle": "2025-06-25T02:11:13.165193Z",
     "shell.execute_reply": "2025-06-25T02:11:13.164607Z",
     "shell.execute_reply.started": "2025-06-25T02:11:13.115966Z"
    },
    "trusted": true
   },
   "outputs": [
    {
     "data": {
      "text/plain": [
       "['train.csv', 'test.csv']"
      ]
     },
     "execution_count": 7,
     "metadata": {},
     "output_type": "execute_result"
    }
   ],
   "source": [
    "os.listdir('/kaggle/input/gnn-dataset/data/leave-n-out/books')"
   ]
  },
  {
   "cell_type": "code",
   "execution_count": 8,
   "metadata": {
    "execution": {
     "iopub.execute_input": "2025-06-25T02:11:13.166434Z",
     "iopub.status.busy": "2025-06-25T02:11:13.165982Z",
     "iopub.status.idle": "2025-06-25T02:11:22.730373Z",
     "shell.execute_reply": "2025-06-25T02:11:22.729795Z",
     "shell.execute_reply.started": "2025-06-25T02:11:13.166415Z"
    },
    "trusted": true
   },
   "outputs": [],
   "source": [
    "import pandas as pd\n",
    "import numpy as np\n",
    "\n",
    "import torch\n",
    "import torch.nn as nn\n",
    "import torch.nn.functional as F\n",
    "from torch.optim.lr_scheduler import StepLR\n",
    "from torch_geometric.data import HeteroData\n",
    "from torch_geometric.nn import HeteroConv, GATConv\n",
    "\n",
    "from sklearn.preprocessing import LabelEncoder\n",
    "\n",
    "from rectools import Columns\n",
    "from rectools.metrics import MAP, Precision, Recall, NDCG, calc_metrics\n",
    "\n",
    "import gc\n",
    "\n",
    "from collections import defaultdict\n",
    "import random"
   ]
  },
  {
   "cell_type": "code",
   "execution_count": 9,
   "metadata": {
    "execution": {
     "iopub.execute_input": "2025-06-25T02:11:22.733523Z",
     "iopub.status.busy": "2025-06-25T02:11:22.733112Z",
     "iopub.status.idle": "2025-06-25T02:11:22.741958Z",
     "shell.execute_reply": "2025-06-25T02:11:22.741410Z",
     "shell.execute_reply.started": "2025-06-25T02:11:22.733503Z"
    },
    "trusted": true
   },
   "outputs": [],
   "source": [
    "SEED = hyperparameters['seed']\n",
    "torch.manual_seed(SEED)\n",
    "random.seed(SEED)\n",
    "np.random.seed(SEED)"
   ]
  },
  {
   "cell_type": "code",
   "execution_count": 10,
   "metadata": {
    "execution": {
     "iopub.execute_input": "2025-06-25T02:11:22.742846Z",
     "iopub.status.busy": "2025-06-25T02:11:22.742601Z",
     "iopub.status.idle": "2025-06-25T02:11:54.201156Z",
     "shell.execute_reply": "2025-06-25T02:11:54.200579Z",
     "shell.execute_reply.started": "2025-06-25T02:11:22.742825Z"
    },
    "trusted": true
   },
   "outputs": [
    {
     "name": "stdout",
     "output_type": "stream",
     "text": [
      "                            user_id  book_id  rating  \\\n",
      "0  000883382802f2d95a3dd545bb953882  8525590       3   \n",
      "1  000883382802f2d95a3dd545bb953882  2767052       5   \n",
      "2  000883382802f2d95a3dd545bb953882  3236307       5   \n",
      "3  000883382802f2d95a3dd545bb953882   256683       4   \n",
      "4  000883382802f2d95a3dd545bb953882  6001758       5   \n",
      "\n",
      "                  date_added                       date  \n",
      "0  2011-10-31 18:37:56-07:00  2011-10-31 18:37:56-07:00  \n",
      "1  2011-10-31 18:40:33-07:00  2011-10-31 18:40:33-07:00  \n",
      "2  2011-11-02 08:30:30-07:00  2011-11-02 08:30:30-07:00  \n",
      "3  2011-11-02 08:55:16-07:00  2011-11-02 08:55:16-07:00  \n",
      "4  2011-11-02 08:57:21-07:00  2011-11-02 08:57:21-07:00  \n"
     ]
    },
    {
     "name": "stderr",
     "output_type": "stream",
     "text": [
      "/tmp/ipykernel_35/925471268.py:5: FutureWarning: In a future version of pandas, parsing datetimes with mixed time zones will raise an error unless `utc=True`. Please specify `utc=True` to opt in to the new behaviour and silence this warning. To create a `Series` with mixed offsets and `object` dtype, please use `apply` and `datetime.datetime.strptime`\n",
      "  train['date'] = pd.to_datetime(train['date_added'])\n"
     ]
    }
   ],
   "source": [
    "rootpath = '/kaggle/input/gnn-dataset/data/leave-n-out/books/'\n",
    "train = pd.read_csv(\n",
    "    rootpath+'train.csv'\n",
    ")\n",
    "train['date'] = pd.to_datetime(train['date_added'])\n",
    "print(train.head())"
   ]
  },
  {
   "cell_type": "code",
   "execution_count": 11,
   "metadata": {
    "execution": {
     "iopub.execute_input": "2025-06-25T02:11:54.202132Z",
     "iopub.status.busy": "2025-06-25T02:11:54.201871Z",
     "iopub.status.idle": "2025-06-25T02:11:54.291226Z",
     "shell.execute_reply": "2025-06-25T02:11:54.290594Z",
     "shell.execute_reply.started": "2025-06-25T02:11:54.202114Z"
    },
    "trusted": true
   },
   "outputs": [
    {
     "name": "stdout",
     "output_type": "stream",
     "text": [
      "Количество explicit позитивного фидбека 359463\n",
      "Количество explicit негативного фидбека 178217\n"
     ]
    }
   ],
   "source": [
    "explicit_positive = train[(train[\"rating\"] == 5)].index\n",
    "explisit_negative = train[(train[\"rating\"] <= 2)].index\n",
    "\n",
    "explicit_combined_feedback = explicit_positive.union(explisit_negative)\n",
    "print('Количество explicit позитивного фидбека', explicit_positive.shape[0])\n",
    "print('Количество explicit негативного фидбека', explisit_negative.shape[0])"
   ]
  },
  {
   "cell_type": "code",
   "execution_count": 12,
   "metadata": {
    "execution": {
     "iopub.execute_input": "2025-06-25T02:11:54.292222Z",
     "iopub.status.busy": "2025-06-25T02:11:54.291950Z",
     "iopub.status.idle": "2025-06-25T02:11:54.383056Z",
     "shell.execute_reply": "2025-06-25T02:11:54.382430Z",
     "shell.execute_reply.started": "2025-06-25T02:11:54.292195Z"
    },
    "trusted": true
   },
   "outputs": [
    {
     "name": "stdout",
     "output_type": "stream",
     "text": [
      "Количество implicit позитивного фидбека 430342\n",
      "Количество implicit негативного фидбека 258651\n"
     ]
    }
   ],
   "source": [
    "implicit_positive = train[(train[\"rating\"] == 4)].index\n",
    "implicit_negative = train[(train[\"rating\"] == 3)].index\n",
    "\n",
    "implicit_combined_feedback = implicit_positive.union(implicit_negative)\n",
    "print('Количество implicit позитивного фидбека', implicit_positive.shape[0])\n",
    "print('Количество implicit негативного фидбека', implicit_negative.shape[0])"
   ]
  },
  {
   "cell_type": "code",
   "execution_count": 13,
   "metadata": {
    "execution": {
     "iopub.execute_input": "2025-06-25T02:11:54.384473Z",
     "iopub.status.busy": "2025-06-25T02:11:54.383803Z",
     "iopub.status.idle": "2025-06-25T02:11:54.581107Z",
     "shell.execute_reply": "2025-06-25T02:11:54.580321Z",
     "shell.execute_reply.started": "2025-06-25T02:11:54.384448Z"
    },
    "trusted": true
   },
   "outputs": [
    {
     "data": {
      "text/html": [
       "<div>\n",
       "<style scoped>\n",
       "    .dataframe tbody tr th:only-of-type {\n",
       "        vertical-align: middle;\n",
       "    }\n",
       "\n",
       "    .dataframe tbody tr th {\n",
       "        vertical-align: top;\n",
       "    }\n",
       "\n",
       "    .dataframe thead th {\n",
       "        text-align: right;\n",
       "    }\n",
       "</style>\n",
       "<table border=\"1\" class=\"dataframe\">\n",
       "  <thead>\n",
       "    <tr style=\"text-align: right;\">\n",
       "      <th></th>\n",
       "      <th>user_id</th>\n",
       "      <th>book_id</th>\n",
       "      <th>target</th>\n",
       "      <th>date</th>\n",
       "    </tr>\n",
       "  </thead>\n",
       "  <tbody>\n",
       "    <tr>\n",
       "      <th>0</th>\n",
       "      <td>000883382802f2d95a3dd545bb953882</td>\n",
       "      <td>8525590</td>\n",
       "      <td>implicit_negative</td>\n",
       "      <td>2011-10-31 18:37:56-07:00</td>\n",
       "    </tr>\n",
       "    <tr>\n",
       "      <th>1</th>\n",
       "      <td>000883382802f2d95a3dd545bb953882</td>\n",
       "      <td>2767052</td>\n",
       "      <td>explicit_positive</td>\n",
       "      <td>2011-10-31 18:40:33-07:00</td>\n",
       "    </tr>\n",
       "    <tr>\n",
       "      <th>2</th>\n",
       "      <td>000883382802f2d95a3dd545bb953882</td>\n",
       "      <td>3236307</td>\n",
       "      <td>explicit_positive</td>\n",
       "      <td>2011-11-02 08:30:30-07:00</td>\n",
       "    </tr>\n",
       "    <tr>\n",
       "      <th>3</th>\n",
       "      <td>000883382802f2d95a3dd545bb953882</td>\n",
       "      <td>256683</td>\n",
       "      <td>implicit_positive</td>\n",
       "      <td>2011-11-02 08:55:16-07:00</td>\n",
       "    </tr>\n",
       "    <tr>\n",
       "      <th>4</th>\n",
       "      <td>000883382802f2d95a3dd545bb953882</td>\n",
       "      <td>6001758</td>\n",
       "      <td>explicit_positive</td>\n",
       "      <td>2011-11-02 08:57:21-07:00</td>\n",
       "    </tr>\n",
       "  </tbody>\n",
       "</table>\n",
       "</div>"
      ],
      "text/plain": [
       "                            user_id  book_id             target  \\\n",
       "0  000883382802f2d95a3dd545bb953882  8525590  implicit_negative   \n",
       "1  000883382802f2d95a3dd545bb953882  2767052  explicit_positive   \n",
       "2  000883382802f2d95a3dd545bb953882  3236307  explicit_positive   \n",
       "3  000883382802f2d95a3dd545bb953882   256683  implicit_positive   \n",
       "4  000883382802f2d95a3dd545bb953882  6001758  explicit_positive   \n",
       "\n",
       "                        date  \n",
       "0  2011-10-31 18:37:56-07:00  \n",
       "1  2011-10-31 18:40:33-07:00  \n",
       "2  2011-11-02 08:30:30-07:00  \n",
       "3  2011-11-02 08:55:16-07:00  \n",
       "4  2011-11-02 08:57:21-07:00  "
      ]
     },
     "execution_count": 13,
     "metadata": {},
     "output_type": "execute_result"
    }
   ],
   "source": [
    "train.loc[:, \"target\"] = \"\"\n",
    "train.loc[explicit_positive, \"target\"] = \"explicit_positive\"\n",
    "train.loc[explisit_negative, \"target\"] = \"expliсit_negative\"\n",
    "train.loc[implicit_positive, \"target\"] = \"implicit_positive\"\n",
    "train.loc[implicit_negative, \"target\"] = \"implicit_negative\"\n",
    "\n",
    "train = train[['user_id','book_id','target','date']]\n",
    "train.head()"
   ]
  },
  {
   "cell_type": "code",
   "execution_count": 14,
   "metadata": {
    "execution": {
     "iopub.execute_input": "2025-06-25T02:11:54.582674Z",
     "iopub.status.busy": "2025-06-25T02:11:54.581929Z",
     "iopub.status.idle": "2025-06-25T02:11:59.799056Z",
     "shell.execute_reply": "2025-06-25T02:11:59.798437Z",
     "shell.execute_reply.started": "2025-06-25T02:11:54.582653Z"
    },
    "trusted": true
   },
   "outputs": [],
   "source": [
    "train = train.sort_values(by=[\"user_id\", \"date\"]).reset_index(drop=True)"
   ]
  },
  {
   "cell_type": "code",
   "execution_count": 15,
   "metadata": {
    "execution": {
     "iopub.execute_input": "2025-06-25T02:11:59.800033Z",
     "iopub.status.busy": "2025-06-25T02:11:59.799767Z",
     "iopub.status.idle": "2025-06-25T02:11:59.803869Z",
     "shell.execute_reply": "2025-06-25T02:11:59.803175Z",
     "shell.execute_reply.started": "2025-06-25T02:11:59.800010Z"
    },
    "trusted": true
   },
   "outputs": [],
   "source": [
    "train.columns = ['user_id', 'item_id', 'target', 'date']"
   ]
  },
  {
   "cell_type": "code",
   "execution_count": 16,
   "metadata": {
    "execution": {
     "iopub.execute_input": "2025-06-25T02:11:59.804917Z",
     "iopub.status.busy": "2025-06-25T02:11:59.804690Z",
     "iopub.status.idle": "2025-06-25T02:12:03.342130Z",
     "shell.execute_reply": "2025-06-25T02:12:03.341294Z",
     "shell.execute_reply.started": "2025-06-25T02:11:59.804893Z"
    },
    "trusted": true
   },
   "outputs": [
    {
     "name": "stdout",
     "output_type": "stream",
     "text": [
      "                            user_id   book_id  rating  \\\n",
      "0  000883382802f2d95a3dd545bb953882   8135807       4   \n",
      "1  000883382802f2d95a3dd545bb953882  18301124       5   \n",
      "2  000883382802f2d95a3dd545bb953882  18220354       4   \n",
      "3  000883382802f2d95a3dd545bb953882  17383918       5   \n",
      "4  000883382802f2d95a3dd545bb953882  13188676       5   \n",
      "\n",
      "                  date_added                       date  \n",
      "0  2013-08-13 09:37:39-07:00  2013-08-13 09:37:39-07:00  \n",
      "1  2013-10-27 22:18:01-07:00  2013-10-27 22:18:01-07:00  \n",
      "2  2013-12-09 22:20:59-08:00  2013-12-09 22:20:59-08:00  \n",
      "3  2013-12-22 20:57:14-08:00  2013-12-22 20:57:14-08:00  \n",
      "4  2013-12-22 20:58:15-08:00  2013-12-22 20:58:15-08:00  \n"
     ]
    },
    {
     "name": "stderr",
     "output_type": "stream",
     "text": [
      "/tmp/ipykernel_35/2717431719.py:4: FutureWarning: In a future version of pandas, parsing datetimes with mixed time zones will raise an error unless `utc=True`. Please specify `utc=True` to opt in to the new behaviour and silence this warning. To create a `Series` with mixed offsets and `object` dtype, please use `apply` and `datetime.datetime.strptime`\n",
      "  test['date'] = pd.to_datetime(test['date_added'])\n"
     ]
    }
   ],
   "source": [
    "test = pd.read_csv(\n",
    "    rootpath+'test.csv'\n",
    ")\n",
    "test['date'] = pd.to_datetime(test['date_added'])\n",
    "print(test.head())"
   ]
  },
  {
   "cell_type": "code",
   "execution_count": 17,
   "metadata": {
    "execution": {
     "iopub.execute_input": "2025-06-25T02:12:03.343098Z",
     "iopub.status.busy": "2025-06-25T02:12:03.342838Z",
     "iopub.status.idle": "2025-06-25T02:12:03.357469Z",
     "shell.execute_reply": "2025-06-25T02:12:03.356946Z",
     "shell.execute_reply.started": "2025-06-25T02:12:03.343070Z"
    },
    "trusted": true
   },
   "outputs": [
    {
     "data": {
      "text/html": [
       "<div>\n",
       "<style scoped>\n",
       "    .dataframe tbody tr th:only-of-type {\n",
       "        vertical-align: middle;\n",
       "    }\n",
       "\n",
       "    .dataframe tbody tr th {\n",
       "        vertical-align: top;\n",
       "    }\n",
       "\n",
       "    .dataframe thead th {\n",
       "        text-align: right;\n",
       "    }\n",
       "</style>\n",
       "<table border=\"1\" class=\"dataframe\">\n",
       "  <thead>\n",
       "    <tr style=\"text-align: right;\">\n",
       "      <th></th>\n",
       "      <th>user_id</th>\n",
       "      <th>book_id</th>\n",
       "      <th>date</th>\n",
       "    </tr>\n",
       "  </thead>\n",
       "  <tbody>\n",
       "    <tr>\n",
       "      <th>0</th>\n",
       "      <td>000883382802f2d95a3dd545bb953882</td>\n",
       "      <td>8135807</td>\n",
       "      <td>2013-08-13 09:37:39-07:00</td>\n",
       "    </tr>\n",
       "    <tr>\n",
       "      <th>1</th>\n",
       "      <td>000883382802f2d95a3dd545bb953882</td>\n",
       "      <td>18301124</td>\n",
       "      <td>2013-10-27 22:18:01-07:00</td>\n",
       "    </tr>\n",
       "    <tr>\n",
       "      <th>2</th>\n",
       "      <td>000883382802f2d95a3dd545bb953882</td>\n",
       "      <td>18220354</td>\n",
       "      <td>2013-12-09 22:20:59-08:00</td>\n",
       "    </tr>\n",
       "    <tr>\n",
       "      <th>3</th>\n",
       "      <td>000883382802f2d95a3dd545bb953882</td>\n",
       "      <td>17383918</td>\n",
       "      <td>2013-12-22 20:57:14-08:00</td>\n",
       "    </tr>\n",
       "    <tr>\n",
       "      <th>4</th>\n",
       "      <td>000883382802f2d95a3dd545bb953882</td>\n",
       "      <td>13188676</td>\n",
       "      <td>2013-12-22 20:58:15-08:00</td>\n",
       "    </tr>\n",
       "  </tbody>\n",
       "</table>\n",
       "</div>"
      ],
      "text/plain": [
       "                            user_id   book_id                       date\n",
       "0  000883382802f2d95a3dd545bb953882   8135807  2013-08-13 09:37:39-07:00\n",
       "1  000883382802f2d95a3dd545bb953882  18301124  2013-10-27 22:18:01-07:00\n",
       "2  000883382802f2d95a3dd545bb953882  18220354  2013-12-09 22:20:59-08:00\n",
       "3  000883382802f2d95a3dd545bb953882  17383918  2013-12-22 20:57:14-08:00\n",
       "4  000883382802f2d95a3dd545bb953882  13188676  2013-12-22 20:58:15-08:00"
      ]
     },
     "execution_count": 17,
     "metadata": {},
     "output_type": "execute_result"
    }
   ],
   "source": [
    "test = test[['user_id','book_id', 'date']]\n",
    "test.head()"
   ]
  },
  {
   "cell_type": "code",
   "execution_count": 18,
   "metadata": {
    "execution": {
     "iopub.execute_input": "2025-06-25T02:12:03.358333Z",
     "iopub.status.busy": "2025-06-25T02:12:03.358077Z",
     "iopub.status.idle": "2025-06-25T02:12:03.373279Z",
     "shell.execute_reply": "2025-06-25T02:12:03.372686Z",
     "shell.execute_reply.started": "2025-06-25T02:12:03.358316Z"
    },
    "trusted": true
   },
   "outputs": [],
   "source": [
    "test.columns = ['user_id', 'item_id', 'date']"
   ]
  },
  {
   "cell_type": "markdown",
   "metadata": {},
   "source": [
    "# MVP model v2"
   ]
  },
  {
   "cell_type": "code",
   "execution_count": 19,
   "metadata": {
    "execution": {
     "iopub.execute_input": "2025-06-25T02:12:03.374261Z",
     "iopub.status.busy": "2025-06-25T02:12:03.374011Z",
     "iopub.status.idle": "2025-06-25T02:12:03.555478Z",
     "shell.execute_reply": "2025-06-25T02:12:03.553001Z",
     "shell.execute_reply.started": "2025-06-25T02:12:03.374240Z"
    },
    "trusted": true
   },
   "outputs": [],
   "source": [
    "train.loc[:, \"event\"] = 0\n",
    "train.loc[(train[\"target\"] == \"explicit_positive\") | (train[\"target\"] == \"implicit_positive\"), \"event\"] = 1"
   ]
  },
  {
   "cell_type": "code",
   "execution_count": 20,
   "metadata": {
    "execution": {
     "iopub.execute_input": "2025-06-25T02:12:03.556834Z",
     "iopub.status.busy": "2025-06-25T02:12:03.556565Z",
     "iopub.status.idle": "2025-06-25T02:12:03.625490Z",
     "shell.execute_reply": "2025-06-25T02:12:03.624740Z",
     "shell.execute_reply.started": "2025-06-25T02:12:03.556815Z"
    },
    "trusted": true
   },
   "outputs": [
    {
     "data": {
      "text/plain": [
       "(151126, 3)"
      ]
     },
     "execution_count": 20,
     "metadata": {},
     "output_type": "execute_result"
    }
   ],
   "source": [
    "test = test[(test.user_id.isin(train.user_id)) & (test.item_id.isin(train.item_id))].copy()\n",
    "test.shape"
   ]
  },
  {
   "cell_type": "code",
   "execution_count": 21,
   "metadata": {
    "execution": {
     "iopub.execute_input": "2025-06-25T02:12:03.626467Z",
     "iopub.status.busy": "2025-06-25T02:12:03.626283Z",
     "iopub.status.idle": "2025-06-25T02:12:04.068097Z",
     "shell.execute_reply": "2025-06-25T02:12:04.067175Z",
     "shell.execute_reply.started": "2025-06-25T02:12:03.626453Z"
    },
    "trusted": true
   },
   "outputs": [],
   "source": [
    "# 2. Преобразование данных - для куарека не особо нужно, но для других - напоминалка\n",
    "# делаем всегда! чтобы не сломать ничего дальше и чтобы все индексы были от 0 до N без пропусков\n",
    "user_encoder = LabelEncoder()\n",
    "video_encoder = LabelEncoder()\n",
    "\n",
    "train.loc[:, 'user_id'] = user_encoder.fit_transform(train['user_id'])\n",
    "train.loc[:, 'item_id'] = video_encoder.fit_transform(train['item_id'])\n",
    "\n",
    "test.loc[:, 'user_id'] = user_encoder.transform(test['user_id'])\n",
    "test.loc[:, 'item_id'] = video_encoder.transform(test['item_id'])\n",
    "train['user_id'] = train['user_id'].astype(int)\n",
    "train['item_id'] = train['item_id'].astype(int)\n",
    "test['user_id'] = test['user_id'].astype(int)\n",
    "test['item_id'] = test['item_id'].astype(int)"
   ]
  },
  {
   "cell_type": "code",
   "execution_count": 22,
   "metadata": {
    "execution": {
     "iopub.execute_input": "2025-06-25T02:12:04.069258Z",
     "iopub.status.busy": "2025-06-25T02:12:04.068988Z",
     "iopub.status.idle": "2025-06-25T02:12:04.080617Z",
     "shell.execute_reply": "2025-06-25T02:12:04.079914Z",
     "shell.execute_reply.started": "2025-06-25T02:12:04.069234Z"
    },
    "trusted": true
   },
   "outputs": [],
   "source": [
    "# так как используем pad, то нумерацию item_id начинаем с 1 до max + 1, чтобы для pad забить 0\n",
    "train.loc[:, 'item_id'] += 1\n",
    "test.loc[:, 'item_id'] += 1"
   ]
  },
  {
   "cell_type": "code",
   "execution_count": 23,
   "metadata": {
    "execution": {
     "iopub.execute_input": "2025-06-25T02:12:04.081593Z",
     "iopub.status.busy": "2025-06-25T02:12:04.081351Z",
     "iopub.status.idle": "2025-06-25T02:12:04.105388Z",
     "shell.execute_reply": "2025-06-25T02:12:04.104874Z",
     "shell.execute_reply.started": "2025-06-25T02:12:04.081577Z"
    },
    "trusted": true
   },
   "outputs": [
    {
     "name": "stdout",
     "output_type": "stream",
     "text": [
      "Количество уникальных item_id 25456\n",
      "Количество уникальных user_id 18892\n"
     ]
    }
   ],
   "source": [
    "# т.е. сразу знаем количество и в каких пределах изменяется user_id и item_id\n",
    "num_videos = train['item_id'].nunique()\n",
    "num_users = train['user_id'].nunique()\n",
    "\n",
    "print('Количество уникальных item_id', num_videos)\n",
    "print('Количество уникальных user_id', num_users)"
   ]
  },
  {
   "cell_type": "code",
   "execution_count": 24,
   "metadata": {
    "execution": {
     "iopub.execute_input": "2025-06-25T02:12:04.106279Z",
     "iopub.status.busy": "2025-06-25T02:12:04.106083Z",
     "iopub.status.idle": "2025-06-25T02:12:04.114706Z",
     "shell.execute_reply": "2025-06-25T02:12:04.114013Z",
     "shell.execute_reply.started": "2025-06-25T02:12:04.106265Z"
    },
    "trusted": true
   },
   "outputs": [],
   "source": [
    "def prepare_hetero_data(df: pd.DataFrame) -> HeteroData:\n",
    "    \"\"\"\n",
    "    Construct a heterogeneous graph for recommendation from interaction records.\n",
    "\n",
    "    Node types:\n",
    "      - 'user': one node per unique user_id\n",
    "      - 'item': one node per unique item_id\n",
    "      - one node per user per feedback type ('implicit_positive',\n",
    "        'explicit_positive', 'implicit_negative', 'explicit_negative')\n",
    "\n",
    "    Edges:\n",
    "      1) item -> feedback_node: connect each item to the corresponding feedback node.\n",
    "      2) feedback_node -> item: reverse connection, to allow message passing back to items.\n",
    "      3) feedback_node -> user: link each feedback node to the user who generated that feedback.\n",
    "      4) user -> user: a complete graph among all users under the relation 'interacts'.\n",
    "\n",
    "    For edges (1)-(3), each edge stores:\n",
    "      - edge_attr: a vector of length (1 + num_feedback_types),\n",
    "                   where index 0 is Δt = (reference_time - event_timestamp),\n",
    "                   and indices 1.. end are a one-hot encoding of the feedback type.\n",
    "      - edge_time: a separate tensor containing only Δt for convenience.\n",
    "\n",
    "    Parameters:\n",
    "    -----------\n",
    "    df : pandas.DataFrame\n",
    "        Must contain columns:\n",
    "          - 'user_id': integer user identifier (0-indexed or otherwise)\n",
    "          - 'item_id': integer item identifier\n",
    "          - 'target': feedback type (one of 'implicit_positive',\n",
    "                      'explicit_positive', 'implicit_negative',\n",
    "                      'explicit_negative')\n",
    "          - 'date': timestamp string for the interaction\n",
    "    reference_time : float\n",
    "        A Unix timestamp (in seconds). For each interaction, Δt is computed as\n",
    "        (reference_time - interaction_timestamp).\n",
    "\n",
    "    Returns:\n",
    "    --------\n",
    "    data : torch_geometric.data.HeteroData\n",
    "        A heterogeneous graph with node types 'user', 'item', and each feedback type.\n",
    "        Edge indices, edge_attr, and edge_time are set for relations:\n",
    "          - ('item', 'item2<ft>', ft)\n",
    "          - (ft, '<ft>2item', 'item')\n",
    "          - (ft, '<ft>2user', 'user')\n",
    "        Additionally, ('user', 'interacts', 'user') is a complete graph among users.\n",
    "    \"\"\"\n",
    "    # Determine the number of users and items\n",
    "    num_users = df['user_id'].nunique()\n",
    "    num_items = int(df['item_id'].max()) + 1\n",
    "    feedback_types = df['target'].unique().tolist()\n",
    "    type2idx = {tp: i for i, tp in enumerate(feedback_types)}\n",
    "\n",
    "    # Initialize HeteroData\n",
    "    data = HeteroData()\n",
    "    data['user'].node_id = torch.arange(num_users)\n",
    "    data['item'].node_id = torch.arange(num_items)\n",
    "    for ft in feedback_types:\n",
    "        data[ft].node_id = torch.arange(num_users)\n",
    "\n",
    "    # Build edges: item -> feedback -> user\n",
    "    for ft in feedback_types:\n",
    "        mask = df['target'] == ft\n",
    "        # user -> ft\n",
    "        src_fu = torch.LongTensor(df.loc[mask, 'user_id'].values)    # [E_ft]\n",
    "        dst_fu = torch.LongTensor(df.loc[mask, 'user_id'].values)    # тот же user_id, т.к. ft_node ID = user_id\n",
    "        # ft -> item\n",
    "        src_fi = torch.LongTensor(df.loc[mask, 'user_id'].values)\n",
    "        dst_fi = torch.LongTensor(df.loc[mask, 'item_id'].values)\n",
    "        # item -> ft\n",
    "        src_if = torch.LongTensor(df.loc[mask, 'item_id'].values)  \n",
    "        dst_if = torch.LongTensor(df.loc[mask, 'user_id'].values)\n",
    "\n",
    "        # edge_attr\n",
    "        # delta_t = reference_time - timestamp\n",
    "        # delta = reference_time - torch.tensor(df.loc[mask, 'timestamp'].values, dtype=torch.float)  # [E_ft]\n",
    "        # delta = delta.unsqueeze(1)    # [E_ft, 1]\n",
    "        # one-hot of ft\n",
    "        # idx = type2idx[ft]\n",
    "        # one_hot = F.one_hot(torch.full((src_fu.size(0),), idx, dtype=torch.long),\n",
    "        #                     num_classes=len(feedback_types)).float()  # [E_ft, 4]\n",
    "        # combine: [delta | one_hot] → [E_ft, 5]\n",
    "        # edge_attr = torch.cat([delta, one_hot], dim=1)  # [E_ft, 1+4]\n",
    "\n",
    "        data['item', f'item2{ft}', ft].edge_index = torch.stack([src_if, dst_if], dim=0)\n",
    "        # data['item', f'item2{ft}', ft].edge_attr = edge_attr\n",
    "        # data['item', f'item2{ft}', ft].edge_time = delta\n",
    "\n",
    "        data[ft, f'{ft}2item', 'item'].edge_index = torch.stack([src_fi, dst_fi], dim=0)\n",
    "        # data[ft, f'{ft}2item', 'item'].edge_attr = edge_attr\n",
    "        # data[ft, f'{ft}2item', 'item'].edge_time = delta\n",
    "\n",
    "        data[ft, f'{ft}2user', 'user'].edge_index = torch.stack([src_fu, dst_fu], dim=0)\n",
    "        # data[ft, f'{ft}2user', 'user'].edge_attr = edge_attr\n",
    "        # data[ft, f'{ft}2user', 'user'].edge_time = delta\n",
    "\n",
    "    return data"
   ]
  },
  {
   "cell_type": "code",
   "execution_count": 25,
   "metadata": {
    "execution": {
     "iopub.execute_input": "2025-06-25T02:12:04.115652Z",
     "iopub.status.busy": "2025-06-25T02:12:04.115438Z",
     "iopub.status.idle": "2025-06-25T02:12:04.642272Z",
     "shell.execute_reply": "2025-06-25T02:12:04.641605Z",
     "shell.execute_reply.started": "2025-06-25T02:12:04.115637Z"
    },
    "trusted": true
   },
   "outputs": [
    {
     "data": {
      "text/plain": [
       "HeteroData(\n",
       "  user={ node_id=[18892] },\n",
       "  item={ node_id=[25457] },\n",
       "  implicit_negative={ node_id=[18892] },\n",
       "  explicit_positive={ node_id=[18892] },\n",
       "  implicit_positive={ node_id=[18892] },\n",
       "  expliсit_negative={ node_id=[18892] },\n",
       "  (item, item2implicit_negative, implicit_negative)={ edge_index=[2, 258651] },\n",
       "  (implicit_negative, implicit_negative2item, item)={ edge_index=[2, 258651] },\n",
       "  (implicit_negative, implicit_negative2user, user)={ edge_index=[2, 258651] },\n",
       "  (item, item2explicit_positive, explicit_positive)={ edge_index=[2, 359463] },\n",
       "  (explicit_positive, explicit_positive2item, item)={ edge_index=[2, 359463] },\n",
       "  (explicit_positive, explicit_positive2user, user)={ edge_index=[2, 359463] },\n",
       "  (item, item2implicit_positive, implicit_positive)={ edge_index=[2, 430342] },\n",
       "  (implicit_positive, implicit_positive2item, item)={ edge_index=[2, 430342] },\n",
       "  (implicit_positive, implicit_positive2user, user)={ edge_index=[2, 430342] },\n",
       "  (item, item2expliсit_negative, expliсit_negative)={ edge_index=[2, 178217] },\n",
       "  (expliсit_negative, expliсit_negative2item, item)={ edge_index=[2, 178217] },\n",
       "  (expliсit_negative, expliсit_negative2user, user)={ edge_index=[2, 178217] }\n",
       ")"
      ]
     },
     "execution_count": 25,
     "metadata": {},
     "output_type": "execute_result"
    }
   ],
   "source": [
    "data = prepare_hetero_data(train)\n",
    "data"
   ]
  },
  {
   "cell_type": "code",
   "execution_count": 26,
   "metadata": {
    "execution": {
     "iopub.execute_input": "2025-06-25T02:12:04.643256Z",
     "iopub.status.busy": "2025-06-25T02:12:04.643051Z",
     "iopub.status.idle": "2025-06-25T02:12:04.655100Z",
     "shell.execute_reply": "2025-06-25T02:12:04.654512Z",
     "shell.execute_reply.started": "2025-06-25T02:12:04.643240Z"
    },
    "trusted": true
   },
   "outputs": [
    {
     "data": {
      "text/plain": [
       "tensor([    0,     1,     2,  ..., 25454, 25455, 25456])"
      ]
     },
     "execution_count": 26,
     "metadata": {},
     "output_type": "execute_result"
    }
   ],
   "source": [
    "data['item'].node_id"
   ]
  },
  {
   "cell_type": "code",
   "execution_count": 27,
   "metadata": {
    "execution": {
     "iopub.execute_input": "2025-06-25T02:12:04.659090Z",
     "iopub.status.busy": "2025-06-25T02:12:04.658874Z",
     "iopub.status.idle": "2025-06-25T02:12:04.667427Z",
     "shell.execute_reply": "2025-06-25T02:12:04.666868Z",
     "shell.execute_reply.started": "2025-06-25T02:12:04.659075Z"
    },
    "trusted": true
   },
   "outputs": [],
   "source": [
    "def prepare_thp_data(df: pd.DataFrame, max_len: int, pad: int, cls_id: int):\n",
    "    \"\"\"\n",
    "    Build sequences of item ids, event types and timestamps per user for THP training.\n",
    "\n",
    "    Parameters:\n",
    "    -----------\n",
    "    df : DataFrame with columns ['user_id','item_id','event','date']\n",
    "    max_len : int, maximum sequence length (pad or truncate to this length)\n",
    "    pad : int, padding token value (left-padding)\n",
    "\n",
    "    Returns:\n",
    "    --------\n",
    "    seq_ids   : LongTensor [num_users, max_len]\n",
    "    event_type: LongTensor [num_users, max_len]\n",
    "    seq_times : FloatTensor [num_users, max_len]\n",
    "    seq_mask  : BoolTensor [num_users, max_len]\n",
    "    \"\"\"\n",
    "    users = df['user_id'].unique()\n",
    "    num_users = len(users)\n",
    "\n",
    "    # +1 for the [CLS] token\n",
    "    new_max_len = max_len + 1\n",
    "    \n",
    "    seq_ids    = torch.full((num_users, new_max_len), pad, dtype=torch.long)\n",
    "    event_type = torch.full((num_users, new_max_len), pad, dtype=torch.long)\n",
    "    seq_times  = torch.zeros((num_users, new_max_len), dtype=torch.float)\n",
    "    seq_mask   = torch.zeros((num_users, new_max_len), dtype=torch.bool)\n",
    "\n",
    "    # map event labels to ints\n",
    "    label2idx = {label: idx for idx, label in enumerate(df['event'].unique())}\n",
    "\n",
    "    # устанавливаем CLS-токен в позицию 0\n",
    "    seq_ids[:, 0]  = cls_id\n",
    "    event_type[:,0] = cls_id   \n",
    "    seq_mask[:, 0] = True\n",
    "\n",
    "    for i, u in enumerate(users):\n",
    "        user_df = df[df['user_id'] == u].sort_values('date')\n",
    "        items = user_df['item_id'].values\n",
    "        types = user_df['event'].map(label2idx).values\n",
    "        times = pd.to_datetime(user_df['date'], utc=True).values.astype('datetime64[ns]').astype(np.int64) / 1e9\n",
    "        \n",
    "        seq = len(items)\n",
    "        if seq == 0:\n",
    "            continue\n",
    "\n",
    "        # вставляем реальные события **cдвинутые на 1** вправо из-за CLS,\n",
    "        # чтобы первые new_max_len-lengt...new_max_len-1 оказались данными\n",
    "        length = min(seq, max_len)\n",
    "        start = max(0, new_max_len - length)\n",
    "        seq_ids[i, start:]    = torch.tensor(items[-length:],    dtype=torch.long)\n",
    "        event_type[i, start:] = torch.tensor(types[-length:],    dtype=torch.long)\n",
    "        seq_times[i, start:]  = torch.tensor(times[-length:],    dtype=torch.float)\n",
    "        seq_mask[i, start:]   = True\n",
    "\n",
    "    return seq_ids, event_type, seq_times, seq_mask\n"
   ]
  },
  {
   "cell_type": "code",
   "execution_count": 28,
   "metadata": {
    "execution": {
     "iopub.execute_input": "2025-06-25T02:12:04.668697Z",
     "iopub.status.busy": "2025-06-25T02:12:04.668198Z",
     "iopub.status.idle": "2025-06-25T02:12:50.550534Z",
     "shell.execute_reply": "2025-06-25T02:12:50.549922Z",
     "shell.execute_reply.started": "2025-06-25T02:12:04.668671Z"
    },
    "trusted": true
   },
   "outputs": [
    {
     "data": {
      "text/plain": [
       "(tensor([25457,  9001,  8173,  4688, 10179,  8313,  7560,  7999, 10156,  9017,\n",
       "         10317,  9527, 10657, 10465,  9430, 10118,  7847,  8615,  8499, 10624,\n",
       "          8549,  6047,  2227,  3964,  8672,  6956, 10461,  4306,  9188,  7244,\n",
       "          9085,  8347, 10637, 10044,  9356, 11191,  4878,  3952,  2054,  4613,\n",
       "          5456,  6701,  6336,  5633,  9084, 10119,  5372, 10850, 11443,  3245,\n",
       "          5680,  6149,  4990, 10387,  5511,  9814, 12165,  6265,  7985,  8194,\n",
       "         12013,  9450,  4163,  5100,  6254,  8927, 10016, 11673, 10982,  7593,\n",
       "         12154, 13183, 13064, 13201, 13101, 11279, 12593,  4304, 12793, 13370,\n",
       "          7890, 11610, 13748, 12131, 10526, 11708, 10737,  8000, 14611, 14119,\n",
       "         12326, 11518, 14413, 12696,   137,  1451,  2228,  4871,   448,   426,\n",
       "          8821]),\n",
       " tensor([25457,     1,     0,     1,     0,     1,     1,     1,     0,     0,\n",
       "             0,     1,     1,     1,     1,     1,     1,     0,     0,     1,\n",
       "             1,     1,     0,     1,     0,     1,     1,     1,     0,     0,\n",
       "             1,     0,     1,     0,     0,     1,     0,     0,     0,     0,\n",
       "             0,     0,     0,     1,     1,     1,     1,     1,     1,     0,\n",
       "             0,     0,     0,     1,     0,     0,     1,     1,     0,     0,\n",
       "             0,     1,     1,     1,     1,     1,     1,     1,     1,     1,\n",
       "             0,     1,     0,     1,     1,     1,     1,     0,     0,     1,\n",
       "             1,     1,     1,     0,     0,     1,     0,     1,     1,     1,\n",
       "             0,     1,     1,     1,     0,     0,     0,     0,     1,     0,\n",
       "             1]),\n",
       " tensor([0.0000e+00, 1.3210e+09, 1.3216e+09, 1.3220e+09, 1.3225e+09, 1.3225e+09,\n",
       "         1.3225e+09, 1.3225e+09, 1.3225e+09, 1.3225e+09, 1.3225e+09, 1.3225e+09,\n",
       "         1.3225e+09, 1.3225e+09, 1.3225e+09, 1.3225e+09, 1.3225e+09, 1.3225e+09,\n",
       "         1.3227e+09, 1.3228e+09, 1.3228e+09, 1.3230e+09, 1.3230e+09, 1.3234e+09,\n",
       "         1.3250e+09, 1.3262e+09, 1.3272e+09, 1.3284e+09, 1.3291e+09, 1.3299e+09,\n",
       "         1.3306e+09, 1.3315e+09, 1.3315e+09, 1.3321e+09, 1.3324e+09, 1.3332e+09,\n",
       "         1.3334e+09, 1.3336e+09, 1.3336e+09, 1.3336e+09, 1.3336e+09, 1.3336e+09,\n",
       "         1.3336e+09, 1.3345e+09, 1.3345e+09, 1.3354e+09, 1.3368e+09, 1.3369e+09,\n",
       "         1.3380e+09, 1.3387e+09, 1.3387e+09, 1.3387e+09, 1.3401e+09, 1.3414e+09,\n",
       "         1.3420e+09, 1.3430e+09, 1.3434e+09, 1.3441e+09, 1.3444e+09, 1.3448e+09,\n",
       "         1.3468e+09, 1.3472e+09, 1.3479e+09, 1.3484e+09, 1.3493e+09, 1.3505e+09,\n",
       "         1.3525e+09, 1.3525e+09, 1.3528e+09, 1.3535e+09, 1.3541e+09, 1.3545e+09,\n",
       "         1.3545e+09, 1.3547e+09, 1.3553e+09, 1.3555e+09, 1.3558e+09, 1.3574e+09,\n",
       "         1.3574e+09, 1.3574e+09, 1.3574e+09, 1.3578e+09, 1.3579e+09, 1.3606e+09,\n",
       "         1.3615e+09, 1.3621e+09, 1.3625e+09, 1.3628e+09, 1.3642e+09, 1.3642e+09,\n",
       "         1.3648e+09, 1.3667e+09, 1.3687e+09, 1.3741e+09, 1.3758e+09, 1.3758e+09,\n",
       "         1.3758e+09, 1.3758e+09, 1.3758e+09, 1.3759e+09, 1.3764e+09]),\n",
       " tensor([True, True, True, True, True, True, True, True, True, True, True, True,\n",
       "         True, True, True, True, True, True, True, True, True, True, True, True,\n",
       "         True, True, True, True, True, True, True, True, True, True, True, True,\n",
       "         True, True, True, True, True, True, True, True, True, True, True, True,\n",
       "         True, True, True, True, True, True, True, True, True, True, True, True,\n",
       "         True, True, True, True, True, True, True, True, True, True, True, True,\n",
       "         True, True, True, True, True, True, True, True, True, True, True, True,\n",
       "         True, True, True, True, True, True, True, True, True, True, True, True,\n",
       "         True, True, True, True, True]))"
      ]
     },
     "execution_count": 28,
     "metadata": {},
     "output_type": "execute_result"
    }
   ],
   "source": [
    "PAD_ID = hyperparameters['pad_id'] \n",
    "CLS_ID = data['item'].node_id.shape[0]  \n",
    "hyperparameters['cls_id'] = CLS_ID\n",
    "max_len = hyperparameters['max_len_of_thp_history']\n",
    "\n",
    "seq_ids, event_type, seq_times, seq_mask = prepare_thp_data(train, \n",
    "                                                            max_len=max_len, \n",
    "                                                            pad=PAD_ID,\n",
    "                                                            cls_id=CLS_ID)\n",
    "seq_ids[0], event_type[0], seq_times[0], seq_mask[0]"
   ]
  },
  {
   "cell_type": "code",
   "execution_count": 29,
   "metadata": {
    "execution": {
     "iopub.execute_input": "2025-06-25T02:12:50.551517Z",
     "iopub.status.busy": "2025-06-25T02:12:50.551268Z",
     "iopub.status.idle": "2025-06-25T02:12:50.567253Z",
     "shell.execute_reply": "2025-06-25T02:12:50.566538Z",
     "shell.execute_reply.started": "2025-06-25T02:12:50.551501Z"
    },
    "trusted": true
   },
   "outputs": [],
   "source": [
    "class THPEncoder(nn.Module):\n",
    "    \"\"\"\n",
    "    Multi-head Transformer Hawkes-inspired encoder with local window.\n",
    "    Integrates exponential decay kernel within last `window_size` events.\n",
    "    \"\"\"\n",
    "    def __init__(self, d_model: int, n_head: int, window_size: int = 50, \n",
    "                 decay: float = 1.0, dropout: float = 0.1, max_len: int = 101):\n",
    "        super().__init__()\n",
    "\n",
    "        self.max_len = max_len\n",
    "        # Learnable positional embeddings\n",
    "        self.pos_emb = nn.Embedding(max_len, d_model)\n",
    "        # Temporal (time) embedding: simple linear projection from scalar to d_model\n",
    "        self.time_emb = nn.Linear(1, d_model)\n",
    "        \n",
    "        self.heads = nn.ModuleList([\n",
    "            _THPHead(d_model, decay, window_size, dropout) for _ in range(n_head)\n",
    "        ])\n",
    "\n",
    "        self.ffn = nn.Sequential(\n",
    "                nn.LayerNorm(d_model),\n",
    "                nn.Linear(d_model, d_model * 4),\n",
    "                nn.ReLU(),\n",
    "                nn.Linear(d_model * 4, d_model),\n",
    "                nn.Dropout(dropout)\n",
    "            )\n",
    "        self.final_norm = nn.LayerNorm(d_model)\n",
    "\n",
    "    def forward(self, emb: torch.Tensor, times: torch.Tensor, mask: torch.BoolTensor = None):\n",
    "        # emb: [B, L, D], times: [B, L], mask: [B, L]\n",
    "        B, L, D = emb.shape\n",
    "        \n",
    "        positions = torch.arange(L, device=emb.device).unsqueeze(0).expand(B, -1)  # [B, L]\n",
    "        pe = self.pos_emb(positions)  # [B, L, D]\n",
    "        te = self.time_emb(times.unsqueeze(-1))  # [B, L, D]\n",
    "        x = emb + pe + te\n",
    "        \n",
    "        attn_out = torch.stack([head(x, times, mask) for head in self.heads], dim=0).sum(0)\n",
    "        \n",
    "        # Residual connection + normalization\n",
    "        x = x + attn_out\n",
    "        x = x + self.ffn(x)\n",
    "        \n",
    "        return self.final_norm(x)  # [B, L, D]\n",
    "\n",
    "class _THPHead(nn.Module):\n",
    "    def __init__(self, d_model: int, decay: float, window_size: int, dropout: float,\n",
    "                pos_lambda: float = None):\n",
    "        super().__init__()\n",
    "        self.linear_v = nn.Linear(d_model, d_model, bias=False)\n",
    "        nn.init.xavier_uniform_(self.linear_v.weight)\n",
    "        self.temperature = d_model ** 0.5\n",
    "        self.decay = decay\n",
    "        self.window_size = window_size\n",
    "        self.dropout = nn.Dropout(dropout)\n",
    "        self.input_norm = nn.LayerNorm(d_model)\n",
    "        self.pos_lambda = pos_lambda or (1.0 / window_size)\n",
    "\n",
    "    def forward(self, emb: torch.Tensor, times: torch.Tensor, mask: torch.BoolTensor = None):\n",
    "        B, L, D = emb.size()\n",
    "        emb_norm = self.input_norm(emb)\n",
    "        q = emb_norm / self.temperature           # [B, L, D]\n",
    "        k = emb_norm                              # [B, L, D]\n",
    "        v = F.elu(self.linear_v(emb_norm))        # [B, L, D]\n",
    "\n",
    "        if not torch.isfinite(q).all():\n",
    "            print(\"NaN/Inf в q:\", torch.isnan(q).sum().item(), torch.isinf(q).sum().item())\n",
    "        if not torch.isfinite(k).all():\n",
    "            print(\"NaN/Inf в k:\", torch.isnan(k).sum().item(), torch.isinf(k).sum().item())\n",
    "        if not torch.isfinite(v).all():\n",
    "            print(\"NaN/Inf в v:\", torch.isnan(v).sum().item(), torch.isinf(v).sum().item())\n",
    "\n",
    "        # 3) Build pad mask only\n",
    "        if mask is not None:\n",
    "            pad_mask = ~mask.unsqueeze(1).expand(-1, L, -1)  # [B, L, L]\n",
    "        else:\n",
    "            pad_mask = torch.zeros((B, L, L), dtype=torch.bool, device=emb.device)\n",
    "\n",
    "        # Always allow self-attention for pad_mask diagonal\n",
    "        idx = torch.arange(L, device=emb.device)\n",
    "        pad_mask[:, idx, idx] = False\n",
    "\n",
    "        scores = torch.bmm(q, k.transpose(1, 2))  # [B, L, L]\n",
    "\n",
    "        # Apply temporal decay kernel\n",
    "        delta = (times.unsqueeze(-1) - times.unsqueeze(-2)).clamp(min=0)\n",
    "        scores = scores * torch.exp(-self.decay * delta)\n",
    "\n",
    "        # Apply smooth positional decay\n",
    "        dist = (idx.unsqueeze(0) - idx.unsqueeze(1)).abs().float()  # [L, L]\n",
    "        pos_decay = torch.exp(-self.pos_lambda * dist).unsqueeze(0)    # [1, L, L]\n",
    "        scores = scores * pos_decay\n",
    "\n",
    "        scores = torch.clamp(scores, min=-1e3, max=1e3)\n",
    "        scores = scores.masked_fill(pad_mask, float('-inf'))\n",
    "\n",
    "        # Debug range\n",
    "        finite = scores[~pad_mask]\n",
    "        # if finite.numel() > 0:\n",
    "        #     print(f\"Диапазон scores до softmax: min={finite.min().item():.3e}, max={finite.max().item():.3e}\")\n",
    "\n",
    "        attn = F.softmax(scores, dim=-1)\n",
    "        \n",
    "        if not torch.isfinite(attn).all():\n",
    "            print(\"NaN/Inf в attn после softmax:\", torch.isnan(attn).sum().item(), torch.isinf(attn).sum().item())\n",
    "        \n",
    "        attn = torch.nan_to_num(attn, nan=0.0, posinf=0.0, neginf=0.0)\n",
    "        attn = self.dropout(attn)\n",
    "\n",
    "        out = torch.bmm(attn, v)\n",
    "\n",
    "        return out"
   ]
  },
  {
   "cell_type": "code",
   "execution_count": 30,
   "metadata": {
    "execution": {
     "iopub.execute_input": "2025-06-25T02:12:50.568731Z",
     "iopub.status.busy": "2025-06-25T02:12:50.568092Z",
     "iopub.status.idle": "2025-06-25T02:12:50.589673Z",
     "shell.execute_reply": "2025-06-25T02:12:50.589044Z",
     "shell.execute_reply.started": "2025-06-25T02:12:50.568715Z"
    },
    "trusted": true
   },
   "outputs": [],
   "source": [
    "class SignedHeteroGNN(nn.Module):\n",
    "    def __init__(self,\n",
    "                 num_users: int,\n",
    "                 num_items: int,\n",
    "                 feedback_types: list,\n",
    "                 emb_dim: int = 32,\n",
    "                 hidden_dim: int = 16,\n",
    "                 heads: int = 2,\n",
    "                 dropout: float = 0.2):\n",
    "        super().__init__()\n",
    "        self.feedback_types = feedback_types\n",
    "        self.pos_types = ['implicit_positive', 'explicit_positive']\n",
    "        self.neg_types = ['implicit_negative', 'expliсit_negative']\n",
    "\n",
    "        self.user_emb = nn.Embedding(num_users, emb_dim)\n",
    "        self.item_emb = nn.Embedding(num_items + 1, emb_dim, padding_idx=0)\n",
    "        self.fb_emb   = nn.ModuleDict({\n",
    "            ft: nn.Embedding(num_users, emb_dim) for ft in feedback_types\n",
    "        })\n",
    "\n",
    "        conv1, conv2 = {}, {}\n",
    "        for ft in feedback_types:\n",
    "            # ft -> user\n",
    "            conv1[(ft, f'{ft}2user', 'user')] = GATConv(emb_dim, hidden_dim,\n",
    "                                                      heads=heads,\n",
    "                                                      add_self_loops=False)\n",
    "            conv2[(ft, f'{ft}2user', 'user')] = GATConv(hidden_dim*heads, emb_dim,\n",
    "                                                      heads=1,\n",
    "                                                      add_self_loops=False)\n",
    "            # ft -> item\n",
    "            conv1[(ft, f'{ft}2item', 'item')] = GATConv(emb_dim, hidden_dim,\n",
    "                                                       heads=heads,\n",
    "                                                       add_self_loops=False)\n",
    "            conv2[(ft, f'{ft}2item', 'item')] = GATConv(hidden_dim*heads, emb_dim,\n",
    "                                                       heads=1,\n",
    "                                                       add_self_loops=False)\n",
    "\n",
    "            # item -> ft\n",
    "            conv1[('item', f'item2{ft}', ft)] = GATConv(emb_dim, hidden_dim,\n",
    "                                                       heads=heads,\n",
    "                                                       add_self_loops=False)\n",
    "            conv2[('item', f'item2{ft}', ft)] = GATConv(hidden_dim*heads, emb_dim,\n",
    "                                                       heads=1,\n",
    "                                                       add_self_loops=False)\n",
    "\n",
    "        self.conv1 = HeteroConv(conv1, aggr='mean')\n",
    "        self.conv2 = HeteroConv(conv2, aggr='mean')\n",
    "\n",
    "        # LayerNorm и Dropout\n",
    "        types = ['user', 'item'] + feedback_types\n",
    "        self.norm1 = nn.ModuleDict({t: nn.LayerNorm(hidden_dim*heads) for t in types})\n",
    "        self.norm2 = nn.ModuleDict({t: nn.LayerNorm(emb_dim) for t in types})\n",
    "        self.dropout = nn.Dropout(dropout)\n",
    "\n",
    "    def forward(self, data):\n",
    "        x = {\n",
    "            'user': self.user_emb(data['user'].node_id),\n",
    "            'item': self.item_emb(data['item'].node_id)\n",
    "        }\n",
    "        for ft in self.feedback_types:\n",
    "            x[ft] = self.fb_emb[ft](data[ft].node_id)\n",
    "\n",
    "        h1 = self.conv1(x, data.edge_index_dict)\n",
    "        # print(h1.keys())\n",
    "        # Собираем позитивный и негативный вклад для user\n",
    "        pos_msgs = torch.zeros_like(h1['user'])\n",
    "        neg_msgs = torch.zeros_like(h1['user'])\n",
    "        for ft in self.pos_types:\n",
    "            pos_msgs += h1[ft]  \n",
    "        for ft in self.neg_types:\n",
    "            neg_msgs += h1[ft]\n",
    "\n",
    "        # signed-aggregation: attraction от pos, repulsion от neg\n",
    "        user_h1 = pos_msgs - neg_msgs\n",
    "        user_h1 = F.leaky_relu(self.norm1['user'](user_h1))\n",
    "        user_h1 = self.dropout(user_h1)\n",
    "\n",
    "        h1['user'] = user_h1\n",
    "\n",
    "        h2 = self.conv2(h1, data.edge_index_dict)\n",
    "        # print(h2.keys())\n",
    "        pos_msgs2, neg_msgs2 = 0, 0\n",
    "        for ft in self.pos_types:\n",
    "            pos_msgs2 += h2[ft]\n",
    "        for ft in self.neg_types:\n",
    "            neg_msgs2 += h2[ft]\n",
    "\n",
    "        user_h2 = pos_msgs2 - neg_msgs2\n",
    "        user_h2 = F.leaky_relu(self.norm2['user'](user_h2))\n",
    "\n",
    "        return user_h2"
   ]
  },
  {
   "cell_type": "code",
   "execution_count": 31,
   "metadata": {
    "execution": {
     "iopub.execute_input": "2025-06-25T02:12:50.590521Z",
     "iopub.status.busy": "2025-06-25T02:12:50.590326Z",
     "iopub.status.idle": "2025-06-25T02:12:50.607407Z",
     "shell.execute_reply": "2025-06-25T02:12:50.606713Z",
     "shell.execute_reply.started": "2025-06-25T02:12:50.590500Z"
    },
    "trusted": true
   },
   "outputs": [],
   "source": [
    "class Model(nn.Module):\n",
    "    def __init__(self,\n",
    "                 num_users: int,\n",
    "                 num_items: int,\n",
    "                 feedback_types: list,\n",
    "                 d_model: int = 32,\n",
    "                 n_head: int = 4,\n",
    "                 window_size: int = 50,\n",
    "                 decay: float = 1.0,\n",
    "                 dropout: float = 0.1,\n",
    "                 num_event_types: int = 2):\n",
    "        super().__init__()\n",
    "        # Static graph encoder\n",
    "        self.gnn = SignedHeteroGNN(num_users, num_items, feedback_types,\n",
    "                                   emb_dim=d_model, hidden_dim=d_model//2,\n",
    "                                   heads=2, dropout=dropout)\n",
    "        # Inlined THP sequence encoder\n",
    "        self.thp = THPEncoder(d_model=d_model,\n",
    "                              n_head=n_head,\n",
    "                              window_size=window_size,\n",
    "                              decay=decay,\n",
    "                              dropout=dropout)\n",
    "        # 3) Multi‐task heads:\n",
    "        #   a) ranking: produce updated user embedding\n",
    "        #   b) classification: predict next event type\n",
    "        self.event_classifier = nn.Linear(d_model, num_event_types)\n",
    "\n",
    "    def forward(self, data, seq_ids, seq_times, seq_mask, batch_users):\n",
    "        # Static graph embeddings\n",
    "        user_embs = self.gnn(data)          # [num_users, d_model]\n",
    "        # Sequence encoding\n",
    "        seq_item_emb = self.gnn.item_emb(seq_ids)  # [B, L, d_model]\n",
    "        attn_out = self.thp(seq_item_emb, seq_times, seq_mask)\n",
    "        seq_rep = attn_out[:, -1, :]        # [B, d_model]\n",
    "        # Get static user embeddings\n",
    "        gnn_rep = user_embs[batch_users]   # [B, d_model]\n",
    "        # Updated user embedding\n",
    "        updated_user_emb = seq_rep + gnn_rep\n",
    "        event_logits = self.event_classifier(seq_rep)\n",
    "        return updated_user_emb, event_logits"
   ]
  },
  {
   "cell_type": "code",
   "execution_count": 32,
   "metadata": {
    "execution": {
     "iopub.execute_input": "2025-06-25T02:12:50.608582Z",
     "iopub.status.busy": "2025-06-25T02:12:50.608336Z",
     "iopub.status.idle": "2025-06-25T02:12:50.699401Z",
     "shell.execute_reply": "2025-06-25T02:12:50.698681Z",
     "shell.execute_reply.started": "2025-06-25T02:12:50.608542Z"
    },
    "trusted": true
   },
   "outputs": [],
   "source": [
    "num_users = data['user'].node_id.shape[0]      \n",
    "num_items = data['item'].node_id.shape[0]      \n",
    "feedback_types = train['target'].unique().tolist()\n",
    "data.user_idx = data['user'].node_id\n",
    "d_model = hyperparameters['thp_dmodel']             \n",
    "n_head = hyperparameters['thp_n_head']          \n",
    "window_size = hyperparameters['thp_window_size']     \n",
    "decay = hyperparameters['thp_decay']         \n",
    "dropout = hyperparameters['thp_dropout']       "
   ]
  },
  {
   "cell_type": "code",
   "execution_count": 33,
   "metadata": {
    "execution": {
     "iopub.execute_input": "2025-06-25T02:12:50.700393Z",
     "iopub.status.busy": "2025-06-25T02:12:50.700141Z",
     "iopub.status.idle": "2025-06-25T02:12:53.528735Z",
     "shell.execute_reply": "2025-06-25T02:12:53.528064Z",
     "shell.execute_reply.started": "2025-06-25T02:12:50.700371Z"
    },
    "trusted": true
   },
   "outputs": [
    {
     "data": {
      "text/plain": [
       "torch.Size([18892, 64])"
      ]
     },
     "execution_count": 33,
     "metadata": {},
     "output_type": "execute_result"
    }
   ],
   "source": [
    "heterognn = SignedHeteroGNN(num_users, num_items, feedback_types,\n",
    "                            emb_dim=d_model, hidden_dim=d_model//2,\n",
    "                            heads=2, dropout=dropout)\n",
    "output = heterognn(data)\n",
    "output.shape"
   ]
  },
  {
   "cell_type": "code",
   "execution_count": 34,
   "metadata": {
    "execution": {
     "iopub.execute_input": "2025-06-25T02:12:53.529789Z",
     "iopub.status.busy": "2025-06-25T02:12:53.529505Z",
     "iopub.status.idle": "2025-06-25T02:12:53.603617Z",
     "shell.execute_reply": "2025-06-25T02:12:53.603051Z",
     "shell.execute_reply.started": "2025-06-25T02:12:53.529767Z"
    },
    "trusted": true
   },
   "outputs": [],
   "source": [
    "model = Model(\n",
    "    num_users=num_users,\n",
    "    num_items=num_items,\n",
    "    feedback_types=feedback_types,\n",
    "    d_model=d_model,\n",
    "    n_head=n_head,\n",
    "    window_size=window_size,\n",
    "    decay=decay,\n",
    "    dropout=dropout,\n",
    "    num_event_types=2\n",
    ")\n",
    "\n",
    "device = torch.device('cuda' if torch.cuda.is_available() else 'cpu')"
   ]
  },
  {
   "cell_type": "code",
   "execution_count": 35,
   "metadata": {
    "execution": {
     "iopub.execute_input": "2025-06-25T02:12:53.604654Z",
     "iopub.status.busy": "2025-06-25T02:12:53.604389Z",
     "iopub.status.idle": "2025-06-25T02:12:54.198254Z",
     "shell.execute_reply": "2025-06-25T02:12:54.197681Z",
     "shell.execute_reply.started": "2025-06-25T02:12:53.604632Z"
    },
    "trusted": true
   },
   "outputs": [
    {
     "name": "stdout",
     "output_type": "stream",
     "text": [
      "THPEncoder output shape: torch.Size([32, 101, 64])\n"
     ]
    }
   ],
   "source": [
    "B = 32\n",
    "seq_ids_batch   = seq_ids[:B]     # [B, L]\n",
    "seq_times_batch = seq_times[:B]   # [B, L]\n",
    "seq_mask_batch  = seq_mask[:B]    # [B, L]\n",
    "\n",
    "item_emb = model.gnn.item_emb \n",
    "d_model = item_emb.embedding_dim\n",
    "\n",
    "# Получаем seq_item_emb: [B, L, D]\n",
    "seq_item_emb = item_emb(seq_ids_batch)\n",
    "\n",
    "thp_encoder = THPEncoder(\n",
    "    d_model=d_model,\n",
    "    n_head=4,\n",
    "    window_size=50,\n",
    "    decay=1.0,\n",
    "    dropout=0.1\n",
    ")\n",
    "\n",
    "thp_encoder.to(device)\n",
    "seq_item_emb   = seq_item_emb.to(device)\n",
    "seq_times_batch= seq_times_batch.to(device)\n",
    "seq_mask_batch = seq_mask_batch.to(device)\n",
    "\n",
    "out = thp_encoder(\n",
    "    emb=seq_item_emb,\n",
    "    times=seq_times_batch,\n",
    "    mask=seq_mask_batch\n",
    ")\n",
    "\n",
    "print(\"THPEncoder output shape:\", out.shape)  # ожидаем [B, L, D]"
   ]
  },
  {
   "cell_type": "code",
   "execution_count": 36,
   "metadata": {
    "execution": {
     "iopub.execute_input": "2025-06-25T02:12:54.199622Z",
     "iopub.status.busy": "2025-06-25T02:12:54.199163Z",
     "iopub.status.idle": "2025-06-25T02:12:54.340272Z",
     "shell.execute_reply": "2025-06-25T02:12:54.339529Z",
     "shell.execute_reply.started": "2025-06-25T02:12:54.199597Z"
    },
    "trusted": true
   },
   "outputs": [
    {
     "name": "stdout",
     "output_type": "stream",
     "text": [
      "Updated user embeddings: torch.Size([32, 64]) torch.Size([32, 2])\n"
     ]
    }
   ],
   "source": [
    "B = 32\n",
    "batch_seq_ids   = seq_ids[:B].to(device)    # [B, L]\n",
    "batch_seq_times = seq_times[:B].to(device)  # [B, L]\n",
    "batch_seq_mask  = seq_mask[:B].to(device)   # [B, L]\n",
    "\n",
    "# data.user_idx = data['user'].node_id[:B]\n",
    "batch_users = data.user_idx[:B].to(device)\n",
    "model.to(device)\n",
    "data.to(device)\n",
    "\n",
    "updated_user_emb = model(\n",
    "    data=data,\n",
    "    seq_ids=batch_seq_ids,\n",
    "    seq_times=batch_seq_times,\n",
    "    seq_mask=batch_seq_mask,\n",
    "    batch_users=batch_users\n",
    ")  # [B, d_model]\n",
    "\n",
    "print(\"Updated user embeddings:\", updated_user_emb[0].shape, updated_user_emb[1].shape)"
   ]
  },
  {
   "cell_type": "code",
   "execution_count": 37,
   "metadata": {
    "execution": {
     "iopub.execute_input": "2025-06-25T02:12:54.341237Z",
     "iopub.status.busy": "2025-06-25T02:12:54.341044Z",
     "iopub.status.idle": "2025-06-25T02:12:54.358428Z",
     "shell.execute_reply": "2025-06-25T02:12:54.357733Z",
     "shell.execute_reply.started": "2025-06-25T02:12:54.341215Z"
    },
    "trusted": true
   },
   "outputs": [
    {
     "data": {
      "text/plain": [
       "(25456, 1, 25456)"
      ]
     },
     "execution_count": 37,
     "metadata": {},
     "output_type": "execute_result"
    }
   ],
   "source": [
    "train.item_id.nunique(), train.item_id.min(), train.item_id.max()"
   ]
  },
  {
   "cell_type": "code",
   "execution_count": 38,
   "metadata": {
    "execution": {
     "iopub.execute_input": "2025-06-25T02:12:54.359674Z",
     "iopub.status.busy": "2025-06-25T02:12:54.359391Z",
     "iopub.status.idle": "2025-06-25T02:12:54.368082Z",
     "shell.execute_reply": "2025-06-25T02:12:54.367498Z",
     "shell.execute_reply.started": "2025-06-25T02:12:54.359656Z"
    },
    "trusted": true
   },
   "outputs": [
    {
     "data": {
      "text/plain": [
       "Model(\n",
       "  (gnn): SignedHeteroGNN(\n",
       "    (user_emb): Embedding(18892, 64)\n",
       "    (item_emb): Embedding(25458, 64, padding_idx=0)\n",
       "    (fb_emb): ModuleDict(\n",
       "      (implicit_negative): Embedding(18892, 64)\n",
       "      (explicit_positive): Embedding(18892, 64)\n",
       "      (implicit_positive): Embedding(18892, 64)\n",
       "      (expliсit_negative): Embedding(18892, 64)\n",
       "    )\n",
       "    (conv1): HeteroConv(num_relations=12)\n",
       "    (conv2): HeteroConv(num_relations=12)\n",
       "    (norm1): ModuleDict(\n",
       "      (user): LayerNorm((64,), eps=1e-05, elementwise_affine=True)\n",
       "      (item): LayerNorm((64,), eps=1e-05, elementwise_affine=True)\n",
       "      (implicit_negative): LayerNorm((64,), eps=1e-05, elementwise_affine=True)\n",
       "      (explicit_positive): LayerNorm((64,), eps=1e-05, elementwise_affine=True)\n",
       "      (implicit_positive): LayerNorm((64,), eps=1e-05, elementwise_affine=True)\n",
       "      (expliсit_negative): LayerNorm((64,), eps=1e-05, elementwise_affine=True)\n",
       "    )\n",
       "    (norm2): ModuleDict(\n",
       "      (user): LayerNorm((64,), eps=1e-05, elementwise_affine=True)\n",
       "      (item): LayerNorm((64,), eps=1e-05, elementwise_affine=True)\n",
       "      (implicit_negative): LayerNorm((64,), eps=1e-05, elementwise_affine=True)\n",
       "      (explicit_positive): LayerNorm((64,), eps=1e-05, elementwise_affine=True)\n",
       "      (implicit_positive): LayerNorm((64,), eps=1e-05, elementwise_affine=True)\n",
       "      (expliсit_negative): LayerNorm((64,), eps=1e-05, elementwise_affine=True)\n",
       "    )\n",
       "    (dropout): Dropout(p=0.2, inplace=False)\n",
       "  )\n",
       "  (thp): THPEncoder(\n",
       "    (pos_emb): Embedding(101, 64)\n",
       "    (time_emb): Linear(in_features=1, out_features=64, bias=True)\n",
       "    (heads): ModuleList(\n",
       "      (0-3): 4 x _THPHead(\n",
       "        (linear_v): Linear(in_features=64, out_features=64, bias=False)\n",
       "        (dropout): Dropout(p=0.2, inplace=False)\n",
       "        (input_norm): LayerNorm((64,), eps=1e-05, elementwise_affine=True)\n",
       "      )\n",
       "    )\n",
       "    (ffn): Sequential(\n",
       "      (0): LayerNorm((64,), eps=1e-05, elementwise_affine=True)\n",
       "      (1): Linear(in_features=64, out_features=256, bias=True)\n",
       "      (2): ReLU()\n",
       "      (3): Linear(in_features=256, out_features=64, bias=True)\n",
       "      (4): Dropout(p=0.2, inplace=False)\n",
       "    )\n",
       "    (final_norm): LayerNorm((64,), eps=1e-05, elementwise_affine=True)\n",
       "  )\n",
       "  (event_classifier): Linear(in_features=64, out_features=2, bias=True)\n",
       ")"
      ]
     },
     "execution_count": 38,
     "metadata": {},
     "output_type": "execute_result"
    }
   ],
   "source": [
    "model"
   ]
  },
  {
   "cell_type": "code",
   "execution_count": 39,
   "metadata": {
    "execution": {
     "iopub.execute_input": "2025-06-25T02:12:54.369093Z",
     "iopub.status.busy": "2025-06-25T02:12:54.368858Z",
     "iopub.status.idle": "2025-06-25T02:12:54.886049Z",
     "shell.execute_reply": "2025-06-25T02:12:54.885456Z",
     "shell.execute_reply.started": "2025-06-25T02:12:54.369073Z"
    },
    "trusted": true
   },
   "outputs": [],
   "source": [
    "test_df = test[['user_id', 'item_id']]\n",
    "interactions = test_df.rename(columns={\n",
    "    'user_id': Columns.User,\n",
    "    'item_id': Columns.Item,\n",
    "})\n",
    "\n",
    "viewed_items = train.groupby(\"user_id\")[\"item_id\"].agg(set).to_dict()"
   ]
  },
  {
   "cell_type": "code",
   "execution_count": 40,
   "metadata": {
    "execution": {
     "iopub.execute_input": "2025-06-25T02:12:54.886932Z",
     "iopub.status.busy": "2025-06-25T02:12:54.886741Z",
     "iopub.status.idle": "2025-06-25T02:12:56.176036Z",
     "shell.execute_reply": "2025-06-25T02:12:56.175181Z",
     "shell.execute_reply.started": "2025-06-25T02:12:54.886918Z"
    },
    "trusted": true
   },
   "outputs": [],
   "source": [
    "user2lists = {ft: defaultdict(list) for ft in feedback_types}\n",
    "\n",
    "for ft, sub in train.groupby('target'):\n",
    "    mapping = sub.groupby('user_id')['item_id'].apply(list)\n",
    "    for u, items in mapping.items():\n",
    "        user2lists[ft][u] = items\n",
    "\n",
    "user2explicit_pos = user2lists['explicit_positive']\n",
    "user2implicit_pos = user2lists['implicit_positive']\n",
    "user2explicit_neg = user2lists['expliсit_negative']\n",
    "user2implicit_neg = user2lists['implicit_negative']\n",
    "all_items_set = set(train.item_id)"
   ]
  },
  {
   "cell_type": "code",
   "execution_count": 41,
   "metadata": {
    "execution": {
     "iopub.execute_input": "2025-06-25T02:12:56.177359Z",
     "iopub.status.busy": "2025-06-25T02:12:56.177038Z",
     "iopub.status.idle": "2025-06-25T02:12:56.184803Z",
     "shell.execute_reply": "2025-06-25T02:12:56.183959Z",
     "shell.execute_reply.started": "2025-06-25T02:12:56.177332Z"
    },
    "trusted": true
   },
   "outputs": [
    {
     "data": {
      "text/plain": [
       "True"
      ]
     },
     "execution_count": 41,
     "metadata": {},
     "output_type": "execute_result"
    }
   ],
   "source": [
    "CLS_ID == model.gnn.item_emb.weight.shape[0] - 1"
   ]
  },
  {
   "cell_type": "code",
   "execution_count": 42,
   "metadata": {
    "execution": {
     "iopub.execute_input": "2025-06-25T02:12:56.186025Z",
     "iopub.status.busy": "2025-06-25T02:12:56.185783Z",
     "iopub.status.idle": "2025-06-25T02:12:56.200186Z",
     "shell.execute_reply": "2025-06-25T02:12:56.199592Z",
     "shell.execute_reply.started": "2025-06-25T02:12:56.186004Z"
    },
    "trusted": true
   },
   "outputs": [],
   "source": [
    "def evaluate(model, train_data, seq_train_data,\n",
    "             test_batch_size, top_k,\n",
    "             viewed_items, interactions,\n",
    "             device, test_step):\n",
    "    \"\"\"\n",
    "    Оцениваем модель по всем пользователям:\n",
    "    - строим топ-K рекомендации\n",
    "    - фильтруем уже просмотренные\n",
    "    - считаем recall@K, precision@K, map@K\n",
    "    \"\"\"\n",
    "    model.eval()\n",
    "    model.to(device)\n",
    "    seq_ids, event_type, seq_times, seq_mask = seq_train_data\n",
    "    num_users = seq_ids.size(0)\n",
    "    test_top_k = top_k * 150\n",
    "\n",
    "    item_emb = model.gnn.item_emb.weight\n",
    "    num_items = item_emb.shape[0]\n",
    "    item_emb_t = item_emb.t().detach()\n",
    "    del item_emb\n",
    "    gc.collect()\n",
    "\n",
    "    all_scores = []\n",
    "    with torch.no_grad():\n",
    "        for i in range(0, num_users, test_batch_size):\n",
    "            end = min(i + test_batch_size, num_users)\n",
    "            batch_users = torch.arange(i, end).to(device)\n",
    "            s_ids   = seq_ids[i:end].to(device)\n",
    "            s_times = seq_times[i:end].to(device)\n",
    "            s_mask  = seq_mask[i:end].to(device)\n",
    "            user_e, polar = model(\n",
    "                data=train_data.to(device),\n",
    "                seq_ids=s_ids,\n",
    "                seq_times=s_times,\n",
    "                seq_mask=s_mask,\n",
    "                batch_users=batch_users\n",
    "            )\n",
    "            rating = torch.mm(user_e.detach(), item_emb_t)\n",
    "            _, topk = torch.topk(rating, k=test_top_k, dim=1)\n",
    "            all_scores.append(topk)\n",
    "\n",
    "            del user_e, rating\n",
    "            gc.collect()\n",
    "    all_scores = torch.cat(all_scores, dim=0).cpu().numpy()\n",
    "\n",
    "    users_list, items, ranks = [], [], []\n",
    "    for u in range(num_users):\n",
    "        seen = viewed_items.get(u, set())\n",
    "        recs = all_scores[u]\n",
    "        mask = (\n",
    "            (~np.isin(recs, list(seen)))   \n",
    "            & (recs != 0)                  \n",
    "            & (recs != num_items - 1)     \n",
    "            )\n",
    "        filtered = recs[mask][:top_k]\n",
    "        for rank, it in enumerate(filtered, 1):\n",
    "            users_list.append(u)\n",
    "            items.append(int(it))\n",
    "            ranks.append(rank)\n",
    "    reco_df = pd.DataFrame({\n",
    "        'user_id': users_list,\n",
    "        'item_id': items,\n",
    "        'rank': ranks\n",
    "    })\n",
    "\n",
    "    metrics = {\n",
    "        f'map@{top_k}': MAP(k=top_k),\n",
    "        f'precision@{top_k}': Precision(k=top_k),\n",
    "        f'recall@{top_k}': Recall(k=top_k),\n",
    "        f'ndcg@{top_k}': NDCG(k=top_k)\n",
    "    }\n",
    "    results = calc_metrics(metrics=metrics,\n",
    "                           reco=reco_df,\n",
    "                           interactions=interactions)\n",
    "    print(f\"Step {test_step} — Test metrics:\")\n",
    "    for name, val in results.items():\n",
    "        print(f\"  {name}: {val:.9f}\")\n",
    "        experiment.log_metric(f\"Test {name} vs step\", val, step=test_step)\n",
    "    del all_scores\n",
    "    gc.collect()\n",
    "\n",
    "    model.to(device)\n",
    "    train_data.to(device)\n",
    "    model.train()\n",
    "    return results"
   ]
  },
  {
   "cell_type": "code",
   "execution_count": 43,
   "metadata": {
    "execution": {
     "iopub.execute_input": "2025-06-25T02:12:56.201196Z",
     "iopub.status.busy": "2025-06-25T02:12:56.200966Z",
     "iopub.status.idle": "2025-06-25T02:12:56.225403Z",
     "shell.execute_reply": "2025-06-25T02:12:56.224855Z",
     "shell.execute_reply.started": "2025-06-25T02:12:56.201182Z"
    },
    "trusted": true
   },
   "outputs": [],
   "source": [
    "def train_model(model,\n",
    "                train_data: HeteroData,\n",
    "                seq_train_data: tuple,\n",
    "                edge_type: tuple,\n",
    "                num_epochs: int = 10,\n",
    "                lr: float = 1e-3,\n",
    "                batch_size: int = 1024,\n",
    "                device: str = None,\n",
    "                print_every: int = 100,\n",
    "                test_every: int = 500,\n",
    "                top_k: int = 10,\n",
    "                test_batch_size=2048,\n",
    "                scheduler_step_size: int = 1,\n",
    "                scheduler_gamma: float = 0.9) -> Model:\n",
    "    seq_ids, event_type, seq_times, seq_mask = seq_train_data\n",
    "    device = device or ('cuda' if torch.cuda.is_available() else 'cpu')\n",
    "    model = model.to(device)\n",
    "    train_data = train_data.to(device)\n",
    "    \n",
    "    optimizer = torch.optim.Adam(model.parameters(), lr=lr)\n",
    "    scheduler = StepLR(optimizer, step_size=scheduler_step_size, gamma=scheduler_gamma)\n",
    "\n",
    "    if isinstance(edge_type, list):\n",
    "        src_list, dst_list = [], []\n",
    "        for et in edge_type:\n",
    "            # print(et, train_data[et])\n",
    "            s, d = train_data[et].edge_index\n",
    "            src_list.append(s)\n",
    "            dst_list.append(d)\n",
    "        src = torch.cat(src_list, dim=0)\n",
    "        dst = torch.cat(dst_list, dim=0)\n",
    "    else:\n",
    "        src, dst = train_data[edge_type].edge_index\n",
    "    \n",
    "    num_train = src.size(0)\n",
    "    test_top_k = top_k * 150\n",
    "    total_steps = 0\n",
    "    \n",
    "    print(f\"Num of training examples: {num_train}\")\n",
    "    for epoch in range(1, num_epochs + 1):\n",
    "        model.train()\n",
    "        perm = torch.randperm(num_train, device=device)\n",
    "        total_loss = 0.0\n",
    "        running_loss = 0.0\n",
    "        running_steps = 0\n",
    "        step = 0\n",
    "\n",
    "        for i in range(0, num_train, batch_size):\n",
    "            idx = perm[i:i + batch_size]\n",
    "            users = dst[idx]\n",
    "            cpu_users = users.to('cpu')\n",
    "\n",
    "            seq_ids_batch = seq_ids[cpu_users, :-1].to(device)\n",
    "            seq_times_batch = seq_times[cpu_users, :-1].to(device)\n",
    "            seq_mask_batch = seq_mask[cpu_users, :-1].to(device)\n",
    "            true_evt  = event_type[cpu_users, -1].to(device)\n",
    "            \n",
    "            pos_items = src[idx]\n",
    "            neg_items = torch.randint(1, model.gnn.item_emb.num_embeddings - 1,\n",
    "                                      size=pos_items.size(), device=device)\n",
    "            \n",
    "            optimizer.zero_grad()\n",
    "            user_embs, event_logits = model(data=train_data, \n",
    "                              seq_ids=seq_ids_batch,\n",
    "                              seq_times=seq_times_batch,\n",
    "                              seq_mask=seq_mask_batch,\n",
    "                              batch_users=users)\n",
    "            \n",
    "            pos_emb = model.gnn.item_emb(pos_items)\n",
    "            neg_emb = model.gnn.item_emb(neg_items)\n",
    "            pos_score = (user_embs * pos_emb).sum(dim=1)\n",
    "            neg_score = (user_embs * neg_emb).sum(dim=1)\n",
    "            diff = pos_score - neg_score\n",
    "            diff = torch.clamp(diff, -10.0, 10.0)\n",
    "            ce_loss = F.cross_entropy(event_logits, true_evt)\n",
    "            bpr_loss = -torch.log(torch.sigmoid(diff) + 1e-15).mean()\n",
    "\n",
    "            loss = bpr_loss + ce_loss\n",
    "            \n",
    "            nan_mask = torch.isnan(diff)            \n",
    "            if nan_mask.any():\n",
    "                idxs = torch.nonzero(nan_mask).squeeze()\n",
    "                print(f\"!!! FOUND {nan_mask.sum().item()} NaN(s) in diff at positions: {idxs.tolist()}\")\n",
    "\n",
    "            # with torch.autograd.detect_anomaly():\n",
    "            loss.backward()\n",
    "\n",
    "            torch.nn.utils.clip_grad_norm_(model.parameters(), max_norm=1.0)\n",
    "            optimizer.step()\n",
    "\n",
    "            total_loss += loss.item()\n",
    "            running_loss += loss.item()\n",
    "            running_steps += 1\n",
    "            step += 1\n",
    "\n",
    "            experiment.log_metric('Train Loss vs step', loss.item(), step=total_steps)\n",
    "            experiment.log_metric('Train CE Loss vs step', ce_loss.item(), step=total_steps)\n",
    "            experiment.log_metric('Train BPR Loss vs step', bpr_loss.item(), step=total_steps)\n",
    "            \n",
    "            if step % print_every == 0 or step == 1:\n",
    "                avg_loss = running_loss / running_steps\n",
    "                current_lr = optimizer.param_groups[0]['lr']\n",
    "                d = diff.detach().cpu()\n",
    "                print(f\"Epoch {epoch}, Step {step}, LR: {current_lr:.6f}, Current Loss: {loss.item():.4f}, Avg Loss: {avg_loss:.4f}\")\n",
    "                print(f\"Diff stats — min: {d.min():.4f}, max: {d.max():.4f}, mean: {d.mean():.4f}, std: {d.std():.4f}\")\n",
    "                print()\n",
    "\n",
    "                experiment.log_metric('Diff stats (mean) vs step', d.mean(), step=total_steps)\n",
    "                experiment.log_metric('Diff stats (std) vs step', d.std(), step=total_steps)\n",
    "\n",
    "            del user_embs, pos_emb, neg_emb, pos_score, neg_score,\\\n",
    "            seq_ids_batch, seq_times_batch, seq_mask_batch\n",
    "            gc.collect()\n",
    "            torch.cuda.empty_cache()\n",
    "\n",
    "            scheduler.step()\n",
    "            \n",
    "            if step % test_every == 0 or step == 1:\n",
    "                evaluate(model, train_data, seq_train_data,\n",
    "                         test_batch_size, top_k,\n",
    "                         viewed_items, interactions,\n",
    "                         device, test_step=total_steps)\n",
    "\n",
    "            total_steps += 1\n",
    "        epoch_loss = total_loss / num_train\n",
    "        experiment.log_metric(f'Train Loss vs epoch', epoch_loss, epoch=epoch)\n",
    "        print(f\"Epoch {epoch} completed, Train Loss: {epoch_loss:.6f}\")\n",
    "        print()\n",
    "    return model"
   ]
  },
  {
   "cell_type": "code",
   "execution_count": 44,
   "metadata": {
    "execution": {
     "iopub.execute_input": "2025-06-25T02:12:56.226407Z",
     "iopub.status.busy": "2025-06-25T02:12:56.226158Z",
     "iopub.status.idle": "2025-06-25T02:12:56.311841Z",
     "shell.execute_reply": "2025-06-25T02:12:56.311263Z",
     "shell.execute_reply.started": "2025-06-25T02:12:56.226388Z"
    },
    "trusted": true
   },
   "outputs": [],
   "source": [
    "experiment.log_parameters(hyperparameters)"
   ]
  },
  {
   "cell_type": "code",
   "execution_count": 45,
   "metadata": {
    "execution": {
     "iopub.execute_input": "2025-06-25T02:12:56.312717Z",
     "iopub.status.busy": "2025-06-25T02:12:56.312481Z",
     "iopub.status.idle": "2025-06-25T06:21:46.383844Z",
     "shell.execute_reply": "2025-06-25T06:21:46.382651Z",
     "shell.execute_reply.started": "2025-06-25T02:12:56.312693Z"
    },
    "trusted": true
   },
   "outputs": [
    {
     "name": "stdout",
     "output_type": "stream",
     "text": [
      "Num of training examples: 789805\n",
      "Epoch 1, Step 1, LR: 0.001000, Current Loss: 4.2504, Avg Loss: 4.2504\n",
      "Diff stats — min: -10.0000, max: 10.0000, mean: 0.1770, std: 8.0473\n",
      "\n"
     ]
    },
    {
     "name": "stderr",
     "output_type": "stream",
     "text": [
      "/usr/local/lib/python3.11/dist-packages/pandas/core/computation/expressions.py:73: RuntimeWarning: invalid value encountered in less_equal\n",
      "  return op(a, b)\n",
      "/usr/local/lib/python3.11/dist-packages/pandas/core/arraylike.py:399: RuntimeWarning: invalid value encountered in log\n",
      "  result = getattr(ufunc, method)(*inputs, **kwargs)\n"
     ]
    },
    {
     "name": "stdout",
     "output_type": "stream",
     "text": [
      "Step 0 — Test metrics:\n",
      "  precision@10: 0.000330338\n",
      "  recall@10: 0.000330338\n",
      "  ndcg@10: 0.000319240\n",
      "  map@10: 0.000090368\n",
      "Epoch 1, Step 20, LR: 0.001000, Current Loss: 3.5841, Avg Loss: 3.9495\n",
      "Diff stats — min: -10.0000, max: 10.0000, mean: 0.2846, std: 6.9325\n",
      "\n",
      "Epoch 1, Step 40, LR: 0.001000, Current Loss: 3.3809, Avg Loss: 3.7086\n",
      "Diff stats — min: -10.0000, max: 10.0000, mean: 0.1123, std: 6.3760\n",
      "\n"
     ]
    },
    {
     "name": "stderr",
     "output_type": "stream",
     "text": [
      "/usr/local/lib/python3.11/dist-packages/pandas/core/computation/expressions.py:73: RuntimeWarning: invalid value encountered in less_equal\n",
      "  return op(a, b)\n",
      "/usr/local/lib/python3.11/dist-packages/pandas/core/arraylike.py:399: RuntimeWarning: invalid value encountered in log\n",
      "  result = getattr(ufunc, method)(*inputs, **kwargs)\n"
     ]
    },
    {
     "name": "stdout",
     "output_type": "stream",
     "text": [
      "Step 49 — Test metrics:\n",
      "  precision@10: 0.000429440\n",
      "  recall@10: 0.000430174\n",
      "  ndcg@10: 0.000423684\n",
      "  map@10: 0.000121902\n",
      "Epoch 1, Step 60, LR: 0.001000, Current Loss: 3.1301, Avg Loss: 3.5571\n",
      "Diff stats — min: -10.0000, max: 10.0000, mean: 0.4955, std: 6.2290\n",
      "\n",
      "Epoch 1, Step 80, LR: 0.001000, Current Loss: 2.9751, Avg Loss: 3.4319\n",
      "Diff stats — min: -10.0000, max: 10.0000, mean: 0.3543, std: 5.7877\n",
      "\n",
      "Epoch 1, Step 100, LR: 0.001000, Current Loss: 2.7986, Avg Loss: 3.3210\n",
      "Diff stats — min: -10.0000, max: 10.0000, mean: 0.4999, std: 5.5511\n",
      "\n"
     ]
    },
    {
     "name": "stderr",
     "output_type": "stream",
     "text": [
      "/usr/local/lib/python3.11/dist-packages/pandas/core/computation/expressions.py:73: RuntimeWarning: invalid value encountered in less_equal\n",
      "  return op(a, b)\n",
      "/usr/local/lib/python3.11/dist-packages/pandas/core/arraylike.py:399: RuntimeWarning: invalid value encountered in log\n",
      "  result = getattr(ufunc, method)(*inputs, **kwargs)\n"
     ]
    },
    {
     "name": "stdout",
     "output_type": "stream",
     "text": [
      "Step 99 — Test metrics:\n",
      "  precision@10: 0.000455867\n",
      "  recall@10: 0.000456601\n",
      "  ndcg@10: 0.000460727\n",
      "  map@10: 0.000135803\n",
      "Epoch 1, Step 120, LR: 0.001000, Current Loss: 2.5656, Avg Loss: 3.2176\n",
      "Diff stats — min: -10.0000, max: 10.0000, mean: 0.7055, std: 5.2184\n",
      "\n",
      "Epoch 1, Step 140, LR: 0.001000, Current Loss: 2.4390, Avg Loss: 3.1159\n",
      "Diff stats — min: -10.0000, max: 10.0000, mean: 0.6329, std: 4.8595\n",
      "\n"
     ]
    },
    {
     "name": "stderr",
     "output_type": "stream",
     "text": [
      "/usr/local/lib/python3.11/dist-packages/pandas/core/computation/expressions.py:73: RuntimeWarning: invalid value encountered in less_equal\n",
      "  return op(a, b)\n",
      "/usr/local/lib/python3.11/dist-packages/pandas/core/arraylike.py:399: RuntimeWarning: invalid value encountered in log\n",
      "  result = getattr(ufunc, method)(*inputs, **kwargs)\n"
     ]
    },
    {
     "name": "stdout",
     "output_type": "stream",
     "text": [
      "Step 149 — Test metrics:\n",
      "  precision@10: 0.000475687\n",
      "  recall@10: 0.000476421\n",
      "  ndcg@10: 0.000482996\n",
      "  map@10: 0.000140701\n",
      "Epoch 1, Step 160, LR: 0.000980, Current Loss: 2.2600, Avg Loss: 3.0198\n",
      "Diff stats — min: -10.0000, max: 10.0000, mean: 0.7187, std: 4.5408\n",
      "\n",
      "Epoch 1, Step 180, LR: 0.000980, Current Loss: 2.1143, Avg Loss: 2.9270\n",
      "Diff stats — min: -10.0000, max: 10.0000, mean: 0.8076, std: 4.2396\n",
      "\n",
      "Epoch 1 completed, Train Loss: 0.000701\n",
      "\n",
      "Epoch 2, Step 1, LR: 0.000980, Current Loss: 1.9889, Avg Loss: 1.9889\n",
      "Diff stats — min: -10.0000, max: 10.0000, mean: 0.7588, std: 3.8966\n",
      "\n"
     ]
    },
    {
     "name": "stderr",
     "output_type": "stream",
     "text": [
      "/usr/local/lib/python3.11/dist-packages/pandas/core/computation/expressions.py:73: RuntimeWarning: invalid value encountered in less_equal\n",
      "  return op(a, b)\n",
      "/usr/local/lib/python3.11/dist-packages/pandas/core/arraylike.py:399: RuntimeWarning: invalid value encountered in log\n",
      "  result = getattr(ufunc, method)(*inputs, **kwargs)\n"
     ]
    },
    {
     "name": "stdout",
     "output_type": "stream",
     "text": [
      "Step 193 — Test metrics:\n",
      "  precision@10: 0.000488901\n",
      "  recall@10: 0.000489635\n",
      "  ndcg@10: 0.000535768\n",
      "  map@10: 0.000168098\n",
      "Epoch 2, Step 20, LR: 0.000980, Current Loss: 1.9033, Avg Loss: 1.9416\n",
      "Diff stats — min: -10.0000, max: 10.0000, mean: 0.7920, std: 3.6555\n",
      "\n",
      "Epoch 2, Step 40, LR: 0.000980, Current Loss: 1.7859, Avg Loss: 1.8891\n",
      "Diff stats — min: -10.0000, max: 10.0000, mean: 0.7851, std: 3.3139\n",
      "\n"
     ]
    },
    {
     "name": "stderr",
     "output_type": "stream",
     "text": [
      "/usr/local/lib/python3.11/dist-packages/pandas/core/computation/expressions.py:73: RuntimeWarning: invalid value encountered in less_equal\n",
      "  return op(a, b)\n",
      "/usr/local/lib/python3.11/dist-packages/pandas/core/arraylike.py:399: RuntimeWarning: invalid value encountered in log\n",
      "  result = getattr(ufunc, method)(*inputs, **kwargs)\n"
     ]
    },
    {
     "name": "stdout",
     "output_type": "stream",
     "text": [
      "Step 242 — Test metrics:\n",
      "  precision@10: 0.000488901\n",
      "  recall@10: 0.000489635\n",
      "  ndcg@10: 0.000494458\n",
      "  map@10: 0.000144421\n",
      "Epoch 2, Step 60, LR: 0.000980, Current Loss: 1.6265, Avg Loss: 1.8322\n",
      "Diff stats — min: -10.0000, max: 10.0000, mean: 0.8984, std: 2.9915\n",
      "\n",
      "Epoch 2, Step 80, LR: 0.000980, Current Loss: 1.5986, Avg Loss: 1.7821\n",
      "Diff stats — min: -10.0000, max: 10.0000, mean: 0.7619, std: 2.7753\n",
      "\n",
      "Epoch 2, Step 100, LR: 0.000980, Current Loss: 1.5194, Avg Loss: 1.7373\n",
      "Diff stats — min: -8.6821, max: 10.0000, mean: 0.7695, std: 2.4948\n",
      "\n"
     ]
    },
    {
     "name": "stderr",
     "output_type": "stream",
     "text": [
      "/usr/local/lib/python3.11/dist-packages/pandas/core/computation/expressions.py:73: RuntimeWarning: invalid value encountered in less_equal\n",
      "  return op(a, b)\n",
      "/usr/local/lib/python3.11/dist-packages/pandas/core/arraylike.py:399: RuntimeWarning: invalid value encountered in log\n",
      "  result = getattr(ufunc, method)(*inputs, **kwargs)\n"
     ]
    },
    {
     "name": "stdout",
     "output_type": "stream",
     "text": [
      "Step 292 — Test metrics:\n",
      "  precision@10: 0.000508721\n",
      "  recall@10: 0.000509455\n",
      "  ndcg@10: 0.000532922\n",
      "  map@10: 0.000159492\n",
      "Epoch 2, Step 120, LR: 0.000960, Current Loss: 1.4975, Avg Loss: 1.6958\n",
      "Diff stats — min: -8.1752, max: 9.3144, mean: 0.6228, std: 2.2689\n",
      "\n",
      "Epoch 2, Step 140, LR: 0.000960, Current Loss: 1.4332, Avg Loss: 1.6593\n",
      "Diff stats — min: -7.0922, max: 10.0000, mean: 0.6502, std: 2.0582\n",
      "\n"
     ]
    },
    {
     "name": "stderr",
     "output_type": "stream",
     "text": [
      "/usr/local/lib/python3.11/dist-packages/pandas/core/computation/expressions.py:73: RuntimeWarning: invalid value encountered in less_equal\n",
      "  return op(a, b)\n",
      "/usr/local/lib/python3.11/dist-packages/pandas/core/arraylike.py:399: RuntimeWarning: invalid value encountered in log\n",
      "  result = getattr(ufunc, method)(*inputs, **kwargs)\n"
     ]
    },
    {
     "name": "stdout",
     "output_type": "stream",
     "text": [
      "Step 342 — Test metrics:\n",
      "  precision@10: 0.000508721\n",
      "  recall@10: 0.000509455\n",
      "  ndcg@10: 0.000467282\n",
      "  map@10: 0.000125067\n",
      "Epoch 2, Step 160, LR: 0.000960, Current Loss: 1.3714, Avg Loss: 1.6257\n",
      "Diff stats — min: -10.0000, max: 10.0000, mean: 0.6730, std: 1.9305\n",
      "\n",
      "Epoch 2, Step 180, LR: 0.000960, Current Loss: 1.3527, Avg Loss: 1.5958\n",
      "Diff stats — min: -5.3082, max: 10.0000, mean: 0.6328, std: 1.7524\n",
      "\n",
      "Epoch 2 completed, Train Loss: 0.000386\n",
      "\n",
      "Epoch 3, Step 1, LR: 0.000960, Current Loss: 1.3168, Avg Loss: 1.3168\n",
      "Diff stats — min: -5.4508, max: 6.9311, mean: 0.6228, std: 1.6332\n",
      "\n"
     ]
    },
    {
     "name": "stderr",
     "output_type": "stream",
     "text": [
      "/usr/local/lib/python3.11/dist-packages/pandas/core/computation/expressions.py:73: RuntimeWarning: invalid value encountered in less_equal\n",
      "  return op(a, b)\n",
      "/usr/local/lib/python3.11/dist-packages/pandas/core/arraylike.py:399: RuntimeWarning: invalid value encountered in log\n",
      "  result = getattr(ufunc, method)(*inputs, **kwargs)\n"
     ]
    },
    {
     "name": "stdout",
     "output_type": "stream",
     "text": [
      "Step 386 — Test metrics:\n",
      "  precision@10: 0.000482294\n",
      "  recall@10: 0.000483028\n",
      "  ndcg@10: 0.000417734\n",
      "  map@10: 0.000105176\n",
      "Epoch 3, Step 20, LR: 0.000960, Current Loss: 1.2983, Avg Loss: 1.3106\n",
      "Diff stats — min: -4.8447, max: 10.0000, mean: 0.6045, std: 1.5170\n",
      "\n",
      "Epoch 3, Step 40, LR: 0.000960, Current Loss: 1.2896, Avg Loss: 1.3005\n",
      "Diff stats — min: -4.8193, max: 5.8358, mean: 0.5586, std: 1.4435\n",
      "\n"
     ]
    },
    {
     "name": "stderr",
     "output_type": "stream",
     "text": [
      "/usr/local/lib/python3.11/dist-packages/pandas/core/computation/expressions.py:73: RuntimeWarning: invalid value encountered in less_equal\n",
      "  return op(a, b)\n",
      "/usr/local/lib/python3.11/dist-packages/pandas/core/arraylike.py:399: RuntimeWarning: invalid value encountered in log\n",
      "  result = getattr(ufunc, method)(*inputs, **kwargs)\n"
     ]
    },
    {
     "name": "stdout",
     "output_type": "stream",
     "text": [
      "Step 435 — Test metrics:\n",
      "  precision@10: 0.000508721\n",
      "  recall@10: 0.000508721\n",
      "  ndcg@10: 0.000430708\n",
      "  map@10: 0.000105307\n",
      "Epoch 3, Step 60, LR: 0.000960, Current Loss: 1.2745, Avg Loss: 1.2915\n",
      "Diff stats — min: -5.1261, max: 7.2982, mean: 0.5728, std: 1.3587\n",
      "\n",
      "Epoch 3, Step 80, LR: 0.000941, Current Loss: 1.2462, Avg Loss: 1.2829\n",
      "Diff stats — min: -4.2891, max: 5.1990, mean: 0.5540, std: 1.2825\n",
      "\n",
      "Epoch 3, Step 100, LR: 0.000941, Current Loss: 1.2305, Avg Loss: 1.2754\n",
      "Diff stats — min: -6.5530, max: 6.0793, mean: 0.5616, std: 1.1989\n",
      "\n"
     ]
    },
    {
     "name": "stderr",
     "output_type": "stream",
     "text": [
      "/usr/local/lib/python3.11/dist-packages/pandas/core/computation/expressions.py:73: RuntimeWarning: invalid value encountered in less_equal\n",
      "  return op(a, b)\n",
      "/usr/local/lib/python3.11/dist-packages/pandas/core/arraylike.py:399: RuntimeWarning: invalid value encountered in log\n",
      "  result = getattr(ufunc, method)(*inputs, **kwargs)\n"
     ]
    },
    {
     "name": "stdout",
     "output_type": "stream",
     "text": [
      "Step 485 — Test metrics:\n",
      "  precision@10: 0.000621036\n",
      "  recall@10: 0.000621036\n",
      "  ndcg@10: 0.000559250\n",
      "  map@10: 0.000148348\n",
      "Epoch 3, Step 120, LR: 0.000941, Current Loss: 1.2217, Avg Loss: 1.2695\n",
      "Diff stats — min: -8.0157, max: 6.6883, mean: 0.5614, std: 1.1702\n",
      "\n",
      "Epoch 3, Step 140, LR: 0.000941, Current Loss: 1.2365, Avg Loss: 1.2648\n",
      "Diff stats — min: -10.0000, max: 7.6335, mean: 0.5365, std: 1.1964\n",
      "\n"
     ]
    },
    {
     "name": "stderr",
     "output_type": "stream",
     "text": [
      "/usr/local/lib/python3.11/dist-packages/pandas/core/computation/expressions.py:73: RuntimeWarning: invalid value encountered in less_equal\n",
      "  return op(a, b)\n",
      "/usr/local/lib/python3.11/dist-packages/pandas/core/arraylike.py:399: RuntimeWarning: invalid value encountered in log\n",
      "  result = getattr(ufunc, method)(*inputs, **kwargs)\n"
     ]
    },
    {
     "name": "stdout",
     "output_type": "stream",
     "text": [
      "Step 535 — Test metrics:\n",
      "  precision@10: 0.001050476\n",
      "  recall@10: 0.001050476\n",
      "  ndcg@10: 0.000855511\n",
      "  map@10: 0.000202655\n",
      "Epoch 3, Step 160, LR: 0.000941, Current Loss: 1.2477, Avg Loss: 1.2601\n",
      "Diff stats — min: -5.7568, max: 5.4279, mean: 0.5189, std: 1.1392\n",
      "\n",
      "Epoch 3, Step 180, LR: 0.000941, Current Loss: 1.2223, Avg Loss: 1.2558\n",
      "Diff stats — min: -10.0000, max: 10.0000, mean: 0.5519, std: 1.1669\n",
      "\n",
      "Epoch 3 completed, Train Loss: 0.000306\n",
      "\n",
      "Epoch 4, Step 1, LR: 0.000941, Current Loss: 1.2142, Avg Loss: 1.2142\n",
      "Diff stats — min: -10.0000, max: 9.2973, mean: 0.5709, std: 1.1510\n",
      "\n"
     ]
    },
    {
     "name": "stderr",
     "output_type": "stream",
     "text": [
      "/usr/local/lib/python3.11/dist-packages/pandas/core/computation/expressions.py:73: RuntimeWarning: invalid value encountered in less_equal\n",
      "  return op(a, b)\n",
      "/usr/local/lib/python3.11/dist-packages/pandas/core/arraylike.py:399: RuntimeWarning: invalid value encountered in log\n",
      "  result = getattr(ufunc, method)(*inputs, **kwargs)\n"
     ]
    },
    {
     "name": "stdout",
     "output_type": "stream",
     "text": [
      "Step 579 — Test metrics:\n",
      "  precision@10: 0.001354387\n",
      "  recall@10: 0.001355855\n",
      "  ndcg@10: 0.001226128\n",
      "  map@10: 0.000327212\n",
      "Epoch 4, Step 20, LR: 0.000941, Current Loss: 1.2010, Avg Loss: 1.2106\n",
      "Diff stats — min: -4.1603, max: 10.0000, mean: 0.5989, std: 1.1604\n",
      "\n",
      "Epoch 4, Step 40, LR: 0.000922, Current Loss: 1.1957, Avg Loss: 1.2089\n",
      "Diff stats — min: -4.2089, max: 10.0000, mean: 0.6087, std: 1.1276\n",
      "\n"
     ]
    },
    {
     "name": "stderr",
     "output_type": "stream",
     "text": [
      "/usr/local/lib/python3.11/dist-packages/pandas/core/computation/expressions.py:73: RuntimeWarning: invalid value encountered in less_equal\n",
      "  return op(a, b)\n",
      "/usr/local/lib/python3.11/dist-packages/pandas/core/arraylike.py:399: RuntimeWarning: invalid value encountered in log\n",
      "  result = getattr(ufunc, method)(*inputs, **kwargs)\n"
     ]
    },
    {
     "name": "stdout",
     "output_type": "stream",
     "text": [
      "Step 628 — Test metrics:\n",
      "  precision@10: 0.002206660\n",
      "  recall@10: 0.002208128\n",
      "  ndcg@10: 0.001959314\n",
      "  map@10: 0.000510213\n",
      "Epoch 4, Step 60, LR: 0.000922, Current Loss: 1.1983, Avg Loss: 1.2058\n",
      "Diff stats — min: -3.6297, max: 4.9594, mean: 0.6203, std: 1.1377\n",
      "\n",
      "Epoch 4, Step 80, LR: 0.000922, Current Loss: 1.2088, Avg Loss: 1.2045\n",
      "Diff stats — min: -7.5651, max: 5.5656, mean: 0.6291, std: 1.1742\n",
      "\n",
      "Epoch 4, Step 100, LR: 0.000922, Current Loss: 1.1830, Avg Loss: 1.2020\n",
      "Diff stats — min: -3.4760, max: 5.8137, mean: 0.6872, std: 1.1719\n",
      "\n"
     ]
    },
    {
     "name": "stderr",
     "output_type": "stream",
     "text": [
      "/usr/local/lib/python3.11/dist-packages/pandas/core/computation/expressions.py:73: RuntimeWarning: invalid value encountered in less_equal\n",
      "  return op(a, b)\n",
      "/usr/local/lib/python3.11/dist-packages/pandas/core/arraylike.py:399: RuntimeWarning: invalid value encountered in log\n",
      "  result = getattr(ufunc, method)(*inputs, **kwargs)\n"
     ]
    },
    {
     "name": "stdout",
     "output_type": "stream",
     "text": [
      "Step 678 — Test metrics:\n",
      "  precision@10: 0.003019292\n",
      "  recall@10: 0.003021494\n",
      "  ndcg@10: 0.002925761\n",
      "  map@10: 0.000835656\n",
      "Epoch 4, Step 120, LR: 0.000922, Current Loss: 1.1936, Avg Loss: 1.1998\n",
      "Diff stats — min: -3.2143, max: 5.5366, mean: 0.6744, std: 1.1776\n",
      "\n",
      "Epoch 4, Step 140, LR: 0.000922, Current Loss: 1.1840, Avg Loss: 1.1972\n",
      "Diff stats — min: -3.5501, max: 10.0000, mean: 0.7112, std: 1.2187\n",
      "\n"
     ]
    },
    {
     "name": "stderr",
     "output_type": "stream",
     "text": [
      "/usr/local/lib/python3.11/dist-packages/pandas/core/computation/expressions.py:73: RuntimeWarning: invalid value encountered in less_equal\n",
      "  return op(a, b)\n",
      "/usr/local/lib/python3.11/dist-packages/pandas/core/arraylike.py:399: RuntimeWarning: invalid value encountered in log\n",
      "  result = getattr(ufunc, method)(*inputs, **kwargs)\n"
     ]
    },
    {
     "name": "stdout",
     "output_type": "stream",
     "text": [
      "Step 728 — Test metrics:\n",
      "  precision@10: 0.003911205\n",
      "  recall@10: 0.003913407\n",
      "  ndcg@10: 0.003792677\n",
      "  map@10: 0.001093298\n",
      "Epoch 4, Step 160, LR: 0.000922, Current Loss: 1.1777, Avg Loss: 1.1950\n",
      "Diff stats — min: -3.8613, max: 5.1721, mean: 0.7215, std: 1.2392\n",
      "\n",
      "Epoch 4, Step 180, LR: 0.000904, Current Loss: 1.1807, Avg Loss: 1.1931\n",
      "Diff stats — min: -7.3177, max: 5.4711, mean: 0.7280, std: 1.2400\n",
      "\n",
      "Epoch 4 completed, Train Loss: 0.000291\n",
      "\n",
      "Epoch 5, Step 1, LR: 0.000904, Current Loss: 1.1581, Avg Loss: 1.1581\n",
      "Diff stats — min: -3.2415, max: 10.0000, mean: 0.7623, std: 1.2225\n",
      "\n"
     ]
    },
    {
     "name": "stderr",
     "output_type": "stream",
     "text": [
      "/usr/local/lib/python3.11/dist-packages/pandas/core/computation/expressions.py:73: RuntimeWarning: invalid value encountered in less_equal\n",
      "  return op(a, b)\n",
      "/usr/local/lib/python3.11/dist-packages/pandas/core/arraylike.py:399: RuntimeWarning: invalid value encountered in log\n",
      "  result = getattr(ufunc, method)(*inputs, **kwargs)\n"
     ]
    },
    {
     "name": "stdout",
     "output_type": "stream",
     "text": [
      "Step 772 — Test metrics:\n",
      "  precision@10: 0.004809725\n",
      "  recall@10: 0.004811927\n",
      "  ndcg@10: 0.004759055\n",
      "  map@10: 0.001400319\n",
      "Epoch 5, Step 20, LR: 0.000904, Current Loss: 1.1751, Avg Loss: 1.1625\n",
      "Diff stats — min: -4.3286, max: 9.3350, mean: 0.7698, std: 1.2818\n",
      "\n",
      "Epoch 5, Step 40, LR: 0.000904, Current Loss: 1.1604, Avg Loss: 1.1615\n",
      "Diff stats — min: -3.3957, max: 6.8967, mean: 0.8036, std: 1.2722\n",
      "\n"
     ]
    },
    {
     "name": "stderr",
     "output_type": "stream",
     "text": [
      "/usr/local/lib/python3.11/dist-packages/pandas/core/computation/expressions.py:73: RuntimeWarning: invalid value encountered in less_equal\n",
      "  return op(a, b)\n",
      "/usr/local/lib/python3.11/dist-packages/pandas/core/arraylike.py:399: RuntimeWarning: invalid value encountered in log\n",
      "  result = getattr(ufunc, method)(*inputs, **kwargs)\n"
     ]
    },
    {
     "name": "stdout",
     "output_type": "stream",
     "text": [
      "Step 821 — Test metrics:\n",
      "  precision@10: 0.005734672\n",
      "  recall@10: 0.005736875\n",
      "  ndcg@10: 0.005434294\n",
      "  map@10: 0.001536889\n",
      "Epoch 5, Step 60, LR: 0.000904, Current Loss: 1.1596, Avg Loss: 1.1606\n",
      "Diff stats — min: -4.2376, max: 5.4788, mean: 0.8348, std: 1.3040\n",
      "\n",
      "Epoch 5, Step 80, LR: 0.000904, Current Loss: 1.1522, Avg Loss: 1.1591\n",
      "Diff stats — min: -4.4269, max: 8.3020, mean: 0.8824, std: 1.3454\n",
      "\n",
      "Epoch 5, Step 100, LR: 0.000904, Current Loss: 1.1398, Avg Loss: 1.1570\n",
      "Diff stats — min: -4.0519, max: 5.5287, mean: 0.8708, std: 1.3188\n",
      "\n"
     ]
    },
    {
     "name": "stderr",
     "output_type": "stream",
     "text": [
      "/usr/local/lib/python3.11/dist-packages/pandas/core/computation/expressions.py:73: RuntimeWarning: invalid value encountered in less_equal\n",
      "  return op(a, b)\n",
      "/usr/local/lib/python3.11/dist-packages/pandas/core/arraylike.py:399: RuntimeWarning: invalid value encountered in log\n",
      "  result = getattr(ufunc, method)(*inputs, **kwargs)\n"
     ]
    },
    {
     "name": "stdout",
     "output_type": "stream",
     "text": [
      "Step 871 — Test metrics:\n",
      "  precision@10: 0.006441596\n",
      "  recall@10: 0.006444533\n",
      "  ndcg@10: 0.005968567\n",
      "  map@10: 0.001659294\n",
      "Epoch 5, Step 120, LR: 0.000904, Current Loss: 1.1403, Avg Loss: 1.1554\n",
      "Diff stats — min: -10.0000, max: 6.0251, mean: 0.9464, std: 1.3850\n",
      "\n",
      "Epoch 5, Step 140, LR: 0.000886, Current Loss: 1.1331, Avg Loss: 1.1532\n",
      "Diff stats — min: -4.3920, max: 5.8995, mean: 0.9398, std: 1.3682\n",
      "\n"
     ]
    },
    {
     "name": "stderr",
     "output_type": "stream",
     "text": [
      "/usr/local/lib/python3.11/dist-packages/pandas/core/computation/expressions.py:73: RuntimeWarning: invalid value encountered in less_equal\n",
      "  return op(a, b)\n",
      "/usr/local/lib/python3.11/dist-packages/pandas/core/arraylike.py:399: RuntimeWarning: invalid value encountered in log\n",
      "  result = getattr(ufunc, method)(*inputs, **kwargs)\n"
     ]
    },
    {
     "name": "stdout",
     "output_type": "stream",
     "text": [
      "Step 921 — Test metrics:\n",
      "  precision@10: 0.006243393\n",
      "  recall@10: 0.006245595\n",
      "  ndcg@10: 0.005975789\n",
      "  map@10: 0.001717954\n",
      "Epoch 5, Step 160, LR: 0.000886, Current Loss: 1.1389, Avg Loss: 1.1513\n",
      "Diff stats — min: -4.9167, max: 7.5723, mean: 0.9417, std: 1.3785\n",
      "\n",
      "Epoch 5, Step 180, LR: 0.000886, Current Loss: 1.1287, Avg Loss: 1.1491\n",
      "Diff stats — min: -5.2627, max: 6.9848, mean: 0.9823, std: 1.4698\n",
      "\n",
      "Epoch 5 completed, Train Loss: 0.000281\n",
      "\n",
      "Epoch 6, Step 1, LR: 0.000886, Current Loss: 1.1348, Avg Loss: 1.1348\n",
      "Diff stats — min: -4.0039, max: 6.4244, mean: 1.0002, std: 1.4513\n",
      "\n"
     ]
    },
    {
     "name": "stderr",
     "output_type": "stream",
     "text": [
      "/usr/local/lib/python3.11/dist-packages/pandas/core/computation/expressions.py:73: RuntimeWarning: invalid value encountered in less_equal\n",
      "  return op(a, b)\n",
      "/usr/local/lib/python3.11/dist-packages/pandas/core/arraylike.py:399: RuntimeWarning: invalid value encountered in log\n",
      "  result = getattr(ufunc, method)(*inputs, **kwargs)\n"
     ]
    },
    {
     "name": "stdout",
     "output_type": "stream",
     "text": [
      "Step 965 — Test metrics:\n",
      "  precision@10: 0.006534091\n",
      "  recall@10: 0.006537027\n",
      "  ndcg@10: 0.006354312\n",
      "  map@10: 0.001854305\n",
      "Epoch 6, Step 20, LR: 0.000886, Current Loss: 1.1401, Avg Loss: 1.1267\n",
      "Diff stats — min: -4.7549, max: 10.0000, mean: 0.9960, std: 1.4513\n",
      "\n",
      "Epoch 6, Step 40, LR: 0.000886, Current Loss: 1.1074, Avg Loss: 1.1230\n",
      "Diff stats — min: -4.1382, max: 10.0000, mean: 1.0842, std: 1.4871\n",
      "\n"
     ]
    },
    {
     "name": "stderr",
     "output_type": "stream",
     "text": [
      "/usr/local/lib/python3.11/dist-packages/pandas/core/computation/expressions.py:73: RuntimeWarning: invalid value encountered in less_equal\n",
      "  return op(a, b)\n",
      "/usr/local/lib/python3.11/dist-packages/pandas/core/arraylike.py:399: RuntimeWarning: invalid value encountered in log\n",
      "  result = getattr(ufunc, method)(*inputs, **kwargs)\n"
     ]
    },
    {
     "name": "stdout",
     "output_type": "stream",
     "text": [
      "Step 1014 — Test metrics:\n",
      "  precision@10: 0.006613372\n",
      "  recall@10: 0.006614840\n",
      "  ndcg@10: 0.006514433\n",
      "  map@10: 0.001935981\n",
      "Epoch 6, Step 60, LR: 0.000886, Current Loss: 1.1167, Avg Loss: 1.1210\n",
      "Diff stats — min: -3.6496, max: 5.7444, mean: 1.0565, std: 1.4556\n",
      "\n",
      "Epoch 6, Step 80, LR: 0.000886, Current Loss: 1.1205, Avg Loss: 1.1192\n",
      "Diff stats — min: -3.7821, max: 6.8291, mean: 1.0436, std: 1.4559\n",
      "\n",
      "Epoch 6, Step 100, LR: 0.000868, Current Loss: 1.1183, Avg Loss: 1.1178\n",
      "Diff stats — min: -5.0027, max: 10.0000, mean: 1.1018, std: 1.5127\n",
      "\n"
     ]
    },
    {
     "name": "stderr",
     "output_type": "stream",
     "text": [
      "/usr/local/lib/python3.11/dist-packages/pandas/core/computation/expressions.py:73: RuntimeWarning: invalid value encountered in less_equal\n",
      "  return op(a, b)\n",
      "/usr/local/lib/python3.11/dist-packages/pandas/core/arraylike.py:399: RuntimeWarning: invalid value encountered in log\n",
      "  result = getattr(ufunc, method)(*inputs, **kwargs)\n"
     ]
    },
    {
     "name": "stdout",
     "output_type": "stream",
     "text": [
      "Step 1064 — Test metrics:\n",
      "  precision@10: 0.007069239\n",
      "  recall@10: 0.007071441\n",
      "  ndcg@10: 0.007154455\n",
      "  map@10: 0.002195124\n",
      "Epoch 6, Step 120, LR: 0.000868, Current Loss: 1.0977, Avg Loss: 1.1170\n",
      "Diff stats — min: -5.1010, max: 6.6533, mean: 1.1251, std: 1.4919\n",
      "\n",
      "Epoch 6, Step 140, LR: 0.000868, Current Loss: 1.1097, Avg Loss: 1.1156\n",
      "Diff stats — min: -4.7823, max: 9.6020, mean: 1.1335, std: 1.5218\n",
      "\n"
     ]
    },
    {
     "name": "stderr",
     "output_type": "stream",
     "text": [
      "/usr/local/lib/python3.11/dist-packages/pandas/core/computation/expressions.py:73: RuntimeWarning: invalid value encountered in less_equal\n",
      "  return op(a, b)\n",
      "/usr/local/lib/python3.11/dist-packages/pandas/core/arraylike.py:399: RuntimeWarning: invalid value encountered in log\n",
      "  result = getattr(ufunc, method)(*inputs, **kwargs)\n"
     ]
    },
    {
     "name": "stdout",
     "output_type": "stream",
     "text": [
      "Step 1114 — Test metrics:\n",
      "  precision@10: 0.007564746\n",
      "  recall@10: 0.007566949\n",
      "  ndcg@10: 0.007568394\n",
      "  map@10: 0.002302425\n",
      "Epoch 6, Step 160, LR: 0.000868, Current Loss: 1.1082, Avg Loss: 1.1144\n",
      "Diff stats — min: -4.9016, max: 10.0000, mean: 1.1847, std: 1.5767\n",
      "\n",
      "Epoch 6, Step 180, LR: 0.000868, Current Loss: 1.0921, Avg Loss: 1.1132\n",
      "Diff stats — min: -3.9308, max: 7.6263, mean: 1.1979, std: 1.5535\n",
      "\n",
      "Epoch 6 completed, Train Loss: 0.000272\n",
      "\n",
      "Epoch 7, Step 1, LR: 0.000868, Current Loss: 1.0706, Avg Loss: 1.0706\n",
      "Diff stats — min: -4.5793, max: 6.8119, mean: 1.2341, std: 1.5538\n",
      "\n"
     ]
    },
    {
     "name": "stderr",
     "output_type": "stream",
     "text": [
      "/usr/local/lib/python3.11/dist-packages/pandas/core/computation/expressions.py:73: RuntimeWarning: invalid value encountered in less_equal\n",
      "  return op(a, b)\n",
      "/usr/local/lib/python3.11/dist-packages/pandas/core/arraylike.py:399: RuntimeWarning: invalid value encountered in log\n",
      "  result = getattr(ufunc, method)(*inputs, **kwargs)\n"
     ]
    },
    {
     "name": "stdout",
     "output_type": "stream",
     "text": [
      "Step 1158 — Test metrics:\n",
      "  precision@10: 0.007710095\n",
      "  recall@10: 0.007714500\n",
      "  ndcg@10: 0.007691856\n",
      "  map@10: 0.002329690\n",
      "Epoch 7, Step 20, LR: 0.000868, Current Loss: 1.0902, Avg Loss: 1.0947\n",
      "Diff stats — min: -4.5286, max: 7.9486, mean: 1.2161, std: 1.5544\n",
      "\n",
      "Epoch 7, Step 40, LR: 0.000868, Current Loss: 1.0989, Avg Loss: 1.0937\n",
      "Diff stats — min: -4.3924, max: 7.9630, mean: 1.2169, std: 1.5923\n",
      "\n"
     ]
    },
    {
     "name": "stderr",
     "output_type": "stream",
     "text": [
      "/usr/local/lib/python3.11/dist-packages/pandas/core/computation/expressions.py:73: RuntimeWarning: invalid value encountered in less_equal\n",
      "  return op(a, b)\n",
      "/usr/local/lib/python3.11/dist-packages/pandas/core/arraylike.py:399: RuntimeWarning: invalid value encountered in log\n",
      "  result = getattr(ufunc, method)(*inputs, **kwargs)\n"
     ]
    },
    {
     "name": "stdout",
     "output_type": "stream",
     "text": [
      "Step 1207 — Test metrics:\n",
      "  precision@10: 0.007789376\n",
      "  recall@10: 0.007791579\n",
      "  ndcg@10: 0.007880692\n",
      "  map@10: 0.002423706\n",
      "Epoch 7, Step 60, LR: 0.000851, Current Loss: 1.1039, Avg Loss: 1.0931\n",
      "Diff stats — min: -4.6237, max: 6.4767, mean: 1.2027, std: 1.5775\n",
      "\n",
      "Epoch 7, Step 80, LR: 0.000851, Current Loss: 1.0872, Avg Loss: 1.0918\n",
      "Diff stats — min: -6.2353, max: 7.7002, mean: 1.2829, std: 1.6242\n",
      "\n",
      "Epoch 7, Step 100, LR: 0.000851, Current Loss: 1.0850, Avg Loss: 1.0912\n",
      "Diff stats — min: -4.4342, max: 6.8482, mean: 1.2814, std: 1.6197\n",
      "\n"
     ]
    },
    {
     "name": "stderr",
     "output_type": "stream",
     "text": [
      "/usr/local/lib/python3.11/dist-packages/pandas/core/computation/expressions.py:73: RuntimeWarning: invalid value encountered in less_equal\n",
      "  return op(a, b)\n",
      "/usr/local/lib/python3.11/dist-packages/pandas/core/arraylike.py:399: RuntimeWarning: invalid value encountered in log\n",
      "  result = getattr(ufunc, method)(*inputs, **kwargs)\n"
     ]
    },
    {
     "name": "stdout",
     "output_type": "stream",
     "text": [
      "Step 1257 — Test metrics:\n",
      "  precision@10: 0.008099894\n",
      "  recall@10: 0.008102831\n",
      "  ndcg@10: 0.008057898\n",
      "  map@10: 0.002448032\n",
      "Epoch 7, Step 120, LR: 0.000851, Current Loss: 1.1095, Avg Loss: 1.0900\n",
      "Diff stats — min: -4.4982, max: 8.1305, mean: 1.2461, std: 1.6601\n",
      "\n",
      "Epoch 7, Step 140, LR: 0.000851, Current Loss: 1.0714, Avg Loss: 1.0881\n",
      "Diff stats — min: -3.8768, max: 7.7816, mean: 1.3226, std: 1.6157\n",
      "\n"
     ]
    },
    {
     "name": "stderr",
     "output_type": "stream",
     "text": [
      "/usr/local/lib/python3.11/dist-packages/pandas/core/computation/expressions.py:73: RuntimeWarning: invalid value encountered in less_equal\n",
      "  return op(a, b)\n",
      "/usr/local/lib/python3.11/dist-packages/pandas/core/arraylike.py:399: RuntimeWarning: invalid value encountered in log\n",
      "  result = getattr(ufunc, method)(*inputs, **kwargs)\n"
     ]
    },
    {
     "name": "stdout",
     "output_type": "stream",
     "text": [
      "Step 1307 — Test metrics:\n",
      "  precision@10: 0.008152748\n",
      "  recall@10: 0.008155685\n",
      "  ndcg@10: 0.008093865\n",
      "  map@10: 0.002465532\n",
      "Epoch 7, Step 160, LR: 0.000851, Current Loss: 1.0802, Avg Loss: 1.0874\n",
      "Diff stats — min: -4.7949, max: 7.2903, mean: 1.3145, std: 1.6183\n",
      "\n",
      "Epoch 7, Step 180, LR: 0.000851, Current Loss: 1.0837, Avg Loss: 1.0868\n",
      "Diff stats — min: -4.1579, max: 9.2650, mean: 1.3690, std: 1.7138\n",
      "\n",
      "Epoch 7 completed, Train Loss: 0.000265\n",
      "\n",
      "Epoch 8, Step 1, LR: 0.000834, Current Loss: 1.0725, Avg Loss: 1.0725\n",
      "Diff stats — min: -4.9880, max: 7.0572, mean: 1.3186, std: 1.6470\n",
      "\n"
     ]
    },
    {
     "name": "stderr",
     "output_type": "stream",
     "text": [
      "/usr/local/lib/python3.11/dist-packages/pandas/core/computation/expressions.py:73: RuntimeWarning: invalid value encountered in less_equal\n",
      "  return op(a, b)\n",
      "/usr/local/lib/python3.11/dist-packages/pandas/core/arraylike.py:399: RuntimeWarning: invalid value encountered in log\n",
      "  result = getattr(ufunc, method)(*inputs, **kwargs)\n"
     ]
    },
    {
     "name": "stdout",
     "output_type": "stream",
     "text": [
      "Step 1351 — Test metrics:\n",
      "  precision@10: 0.007822410\n",
      "  recall@10: 0.007826081\n",
      "  ndcg@10: 0.007703457\n",
      "  map@10: 0.002343643\n",
      "Epoch 8, Step 20, LR: 0.000834, Current Loss: 1.0651, Avg Loss: 1.0743\n",
      "Diff stats — min: -4.5353, max: 7.1928, mean: 1.3586, std: 1.6355\n",
      "\n",
      "Epoch 8, Step 40, LR: 0.000834, Current Loss: 1.0808, Avg Loss: 1.0735\n",
      "Diff stats — min: -4.6282, max: 7.9517, mean: 1.4111, std: 1.7544\n",
      "\n"
     ]
    },
    {
     "name": "stderr",
     "output_type": "stream",
     "text": [
      "/usr/local/lib/python3.11/dist-packages/pandas/core/computation/expressions.py:73: RuntimeWarning: invalid value encountered in less_equal\n",
      "  return op(a, b)\n",
      "/usr/local/lib/python3.11/dist-packages/pandas/core/arraylike.py:399: RuntimeWarning: invalid value encountered in log\n",
      "  result = getattr(ufunc, method)(*inputs, **kwargs)\n"
     ]
    },
    {
     "name": "stdout",
     "output_type": "stream",
     "text": [
      "Step 1400 — Test metrics:\n",
      "  precision@10: 0.008232030\n",
      "  recall@10: 0.008235700\n",
      "  ndcg@10: 0.008076721\n",
      "  map@10: 0.002442160\n",
      "Epoch 8, Step 60, LR: 0.000834, Current Loss: 1.0638, Avg Loss: 1.0728\n",
      "Diff stats — min: -4.0284, max: 6.6405, mean: 1.4084, std: 1.6782\n",
      "\n",
      "Epoch 8, Step 80, LR: 0.000834, Current Loss: 1.0651, Avg Loss: 1.0720\n",
      "Diff stats — min: -4.2567, max: 10.0000, mean: 1.4313, std: 1.7226\n",
      "\n",
      "Epoch 8, Step 100, LR: 0.000834, Current Loss: 1.0849, Avg Loss: 1.0714\n",
      "Diff stats — min: -4.8675, max: 8.3751, mean: 1.3646, std: 1.7120\n",
      "\n"
     ]
    },
    {
     "name": "stderr",
     "output_type": "stream",
     "text": [
      "/usr/local/lib/python3.11/dist-packages/pandas/core/computation/expressions.py:73: RuntimeWarning: invalid value encountered in less_equal\n",
      "  return op(a, b)\n",
      "/usr/local/lib/python3.11/dist-packages/pandas/core/arraylike.py:399: RuntimeWarning: invalid value encountered in log\n",
      "  result = getattr(ufunc, method)(*inputs, **kwargs)\n"
     ]
    },
    {
     "name": "stdout",
     "output_type": "stream",
     "text": [
      "Step 1450 — Test metrics:\n",
      "  precision@10: 0.008265063\n",
      "  recall@10: 0.008268000\n",
      "  ndcg@10: 0.008133534\n",
      "  map@10: 0.002473631\n",
      "Epoch 8, Step 120, LR: 0.000834, Current Loss: 1.0875, Avg Loss: 1.0707\n",
      "Diff stats — min: -4.6382, max: 7.2386, mean: 1.3980, std: 1.7315\n",
      "\n",
      "Epoch 8, Step 140, LR: 0.000834, Current Loss: 1.0674, Avg Loss: 1.0699\n",
      "Diff stats — min: -4.7918, max: 9.9787, mean: 1.4350, std: 1.7317\n",
      "\n"
     ]
    },
    {
     "name": "stderr",
     "output_type": "stream",
     "text": [
      "/usr/local/lib/python3.11/dist-packages/pandas/core/computation/expressions.py:73: RuntimeWarning: invalid value encountered in less_equal\n",
      "  return op(a, b)\n",
      "/usr/local/lib/python3.11/dist-packages/pandas/core/arraylike.py:399: RuntimeWarning: invalid value encountered in log\n",
      "  result = getattr(ufunc, method)(*inputs, **kwargs)\n"
     ]
    },
    {
     "name": "stdout",
     "output_type": "stream",
     "text": [
      "Step 1500 — Test metrics:\n",
      "  precision@10: 0.008417019\n",
      "  recall@10: 0.008420689\n",
      "  ndcg@10: 0.008354216\n",
      "  map@10: 0.002556603\n",
      "Epoch 8, Step 160, LR: 0.000817, Current Loss: 1.0479, Avg Loss: 1.0690\n",
      "Diff stats — min: -4.7354, max: 7.1022, mean: 1.4634, std: 1.7275\n",
      "\n",
      "Epoch 8, Step 180, LR: 0.000817, Current Loss: 1.0825, Avg Loss: 1.0684\n",
      "Diff stats — min: -4.2291, max: 7.8286, mean: 1.3982, std: 1.7167\n",
      "\n",
      "Epoch 8 completed, Train Loss: 0.000261\n",
      "\n",
      "Epoch 9, Step 1, LR: 0.000817, Current Loss: 1.0636, Avg Loss: 1.0636\n",
      "Diff stats — min: -5.1101, max: 7.1469, mean: 1.4624, std: 1.7453\n",
      "\n"
     ]
    },
    {
     "name": "stderr",
     "output_type": "stream",
     "text": [
      "/usr/local/lib/python3.11/dist-packages/pandas/core/computation/expressions.py:73: RuntimeWarning: invalid value encountered in less_equal\n",
      "  return op(a, b)\n",
      "/usr/local/lib/python3.11/dist-packages/pandas/core/arraylike.py:399: RuntimeWarning: invalid value encountered in log\n",
      "  result = getattr(ufunc, method)(*inputs, **kwargs)\n"
     ]
    },
    {
     "name": "stdout",
     "output_type": "stream",
     "text": [
      "Step 1544 — Test metrics:\n",
      "  precision@10: 0.008952167\n",
      "  recall@10: 0.008955837\n",
      "  ndcg@10: 0.008842040\n",
      "  map@10: 0.002684581\n",
      "Epoch 9, Step 20, LR: 0.000817, Current Loss: 1.0826, Avg Loss: 1.0606\n",
      "Diff stats — min: -5.7512, max: 7.2322, mean: 1.4396, std: 1.7751\n",
      "\n",
      "Epoch 9, Step 40, LR: 0.000817, Current Loss: 1.0584, Avg Loss: 1.0584\n",
      "Diff stats — min: -4.3520, max: 7.8301, mean: 1.5190, std: 1.7733\n",
      "\n"
     ]
    },
    {
     "name": "stderr",
     "output_type": "stream",
     "text": [
      "/usr/local/lib/python3.11/dist-packages/pandas/core/computation/expressions.py:73: RuntimeWarning: invalid value encountered in less_equal\n",
      "  return op(a, b)\n",
      "/usr/local/lib/python3.11/dist-packages/pandas/core/arraylike.py:399: RuntimeWarning: invalid value encountered in log\n",
      "  result = getattr(ufunc, method)(*inputs, **kwargs)\n"
     ]
    },
    {
     "name": "stdout",
     "output_type": "stream",
     "text": [
      "Step 1593 — Test metrics:\n",
      "  precision@10: 0.008773784\n",
      "  recall@10: 0.008777455\n",
      "  ndcg@10: 0.008578229\n",
      "  map@10: 0.002617878\n",
      "Epoch 9, Step 60, LR: 0.000817, Current Loss: 1.0676, Avg Loss: 1.0568\n",
      "Diff stats — min: -4.7138, max: 8.8919, mean: 1.4968, std: 1.7635\n",
      "\n",
      "Epoch 9, Step 80, LR: 0.000817, Current Loss: 1.0596, Avg Loss: 1.0571\n",
      "Diff stats — min: -4.5729, max: 7.0454, mean: 1.4909, std: 1.7387\n",
      "\n",
      "Epoch 9, Step 100, LR: 0.000817, Current Loss: 1.0569, Avg Loss: 1.0558\n",
      "Diff stats — min: -4.0811, max: 9.1681, mean: 1.5004, std: 1.7335\n",
      "\n"
     ]
    },
    {
     "name": "stderr",
     "output_type": "stream",
     "text": [
      "/usr/local/lib/python3.11/dist-packages/pandas/core/computation/expressions.py:73: RuntimeWarning: invalid value encountered in less_equal\n",
      "  return op(a, b)\n",
      "/usr/local/lib/python3.11/dist-packages/pandas/core/arraylike.py:399: RuntimeWarning: invalid value encountered in log\n",
      "  result = getattr(ufunc, method)(*inputs, **kwargs)\n"
     ]
    },
    {
     "name": "stdout",
     "output_type": "stream",
     "text": [
      "Step 1643 — Test metrics:\n",
      "  precision@10: 0.009130550\n",
      "  recall@10: 0.009134954\n",
      "  ndcg@10: 0.008896799\n",
      "  map@10: 0.002686989\n",
      "Epoch 9, Step 120, LR: 0.000801, Current Loss: 1.0534, Avg Loss: 1.0549\n",
      "Diff stats — min: -4.8474, max: 7.4435, mean: 1.4977, std: 1.7781\n",
      "\n",
      "Epoch 9, Step 140, LR: 0.000801, Current Loss: 1.0569, Avg Loss: 1.0549\n",
      "Diff stats — min: -4.8011, max: 7.8021, mean: 1.5207, std: 1.7748\n",
      "\n"
     ]
    },
    {
     "name": "stderr",
     "output_type": "stream",
     "text": [
      "/usr/local/lib/python3.11/dist-packages/pandas/core/computation/expressions.py:73: RuntimeWarning: invalid value encountered in less_equal\n",
      "  return op(a, b)\n",
      "/usr/local/lib/python3.11/dist-packages/pandas/core/arraylike.py:399: RuntimeWarning: invalid value encountered in log\n",
      "  result = getattr(ufunc, method)(*inputs, **kwargs)\n"
     ]
    },
    {
     "name": "stdout",
     "output_type": "stream",
     "text": [
      "Step 1693 — Test metrics:\n",
      "  precision@10: 0.009137156\n",
      "  recall@10: 0.009142295\n",
      "  ndcg@10: 0.008759404\n",
      "  map@10: 0.002604270\n",
      "Epoch 9, Step 160, LR: 0.000801, Current Loss: 1.0530, Avg Loss: 1.0545\n",
      "Diff stats — min: -5.0742, max: 8.2837, mean: 1.4895, std: 1.7497\n",
      "\n",
      "Epoch 9, Step 180, LR: 0.000801, Current Loss: 1.0641, Avg Loss: 1.0543\n",
      "Diff stats — min: -4.9066, max: 7.6463, mean: 1.5282, std: 1.8113\n",
      "\n",
      "Epoch 9 completed, Train Loss: 0.000258\n",
      "\n",
      "Epoch 10, Step 1, LR: 0.000801, Current Loss: 1.0423, Avg Loss: 1.0423\n",
      "Diff stats — min: -5.0498, max: 7.7008, mean: 1.5467, std: 1.7632\n",
      "\n"
     ]
    },
    {
     "name": "stderr",
     "output_type": "stream",
     "text": [
      "/usr/local/lib/python3.11/dist-packages/pandas/core/computation/expressions.py:73: RuntimeWarning: invalid value encountered in less_equal\n",
      "  return op(a, b)\n",
      "/usr/local/lib/python3.11/dist-packages/pandas/core/arraylike.py:399: RuntimeWarning: invalid value encountered in log\n",
      "  result = getattr(ufunc, method)(*inputs, **kwargs)\n"
     ]
    },
    {
     "name": "stdout",
     "output_type": "stream",
     "text": [
      "Step 1737 — Test metrics:\n",
      "  precision@10: 0.009057875\n",
      "  recall@10: 0.009062280\n",
      "  ndcg@10: 0.008823978\n",
      "  map@10: 0.002666916\n",
      "Epoch 10, Step 20, LR: 0.000801, Current Loss: 1.0373, Avg Loss: 1.0447\n",
      "Diff stats — min: -4.8135, max: 8.1304, mean: 1.6226, std: 1.8065\n",
      "\n",
      "Epoch 10, Step 40, LR: 0.000801, Current Loss: 1.0398, Avg Loss: 1.0448\n",
      "Diff stats — min: -4.7278, max: 8.5312, mean: 1.6145, std: 1.7762\n",
      "\n"
     ]
    },
    {
     "name": "stderr",
     "output_type": "stream",
     "text": [
      "/usr/local/lib/python3.11/dist-packages/pandas/core/computation/expressions.py:73: RuntimeWarning: invalid value encountered in less_equal\n",
      "  return op(a, b)\n",
      "/usr/local/lib/python3.11/dist-packages/pandas/core/arraylike.py:399: RuntimeWarning: invalid value encountered in log\n",
      "  result = getattr(ufunc, method)(*inputs, **kwargs)\n"
     ]
    },
    {
     "name": "stdout",
     "output_type": "stream",
     "text": [
      "Step 1786 — Test metrics:\n",
      "  precision@10: 0.009441068\n",
      "  recall@10: 0.009444738\n",
      "  ndcg@10: 0.009282442\n",
      "  map@10: 0.002823877\n",
      "Epoch 10, Step 60, LR: 0.000801, Current Loss: 1.0245, Avg Loss: 1.0433\n",
      "Diff stats — min: -5.2190, max: 7.4458, mean: 1.6377, std: 1.7892\n",
      "\n",
      "Epoch 10, Step 80, LR: 0.000785, Current Loss: 1.0266, Avg Loss: 1.0428\n",
      "Diff stats — min: -6.6682, max: 10.0000, mean: 1.6190, std: 1.7956\n",
      "\n",
      "Epoch 10, Step 100, LR: 0.000785, Current Loss: 1.0465, Avg Loss: 1.0428\n",
      "Diff stats — min: -4.2688, max: 7.6853, mean: 1.6018, std: 1.7937\n",
      "\n"
     ]
    },
    {
     "name": "stderr",
     "output_type": "stream",
     "text": [
      "/usr/local/lib/python3.11/dist-packages/pandas/core/computation/expressions.py:73: RuntimeWarning: invalid value encountered in less_equal\n",
      "  return op(a, b)\n",
      "/usr/local/lib/python3.11/dist-packages/pandas/core/arraylike.py:399: RuntimeWarning: invalid value encountered in log\n",
      "  result = getattr(ufunc, method)(*inputs, **kwargs)\n"
     ]
    },
    {
     "name": "stdout",
     "output_type": "stream",
     "text": [
      "Step 1836 — Test metrics:\n",
      "  precision@10: 0.009480708\n",
      "  recall@10: 0.009485847\n",
      "  ndcg@10: 0.009352785\n",
      "  map@10: 0.002867440\n",
      "Epoch 10, Step 120, LR: 0.000785, Current Loss: 1.0467, Avg Loss: 1.0426\n",
      "Diff stats — min: -9.1199, max: 8.5447, mean: 1.6170, std: 1.8300\n",
      "\n",
      "Epoch 10, Step 140, LR: 0.000785, Current Loss: 1.0585, Avg Loss: 1.0429\n",
      "Diff stats — min: -5.1042, max: 10.0000, mean: 1.6054, std: 1.8604\n",
      "\n"
     ]
    },
    {
     "name": "stderr",
     "output_type": "stream",
     "text": [
      "/usr/local/lib/python3.11/dist-packages/pandas/core/computation/expressions.py:73: RuntimeWarning: invalid value encountered in less_equal\n",
      "  return op(a, b)\n",
      "/usr/local/lib/python3.11/dist-packages/pandas/core/arraylike.py:399: RuntimeWarning: invalid value encountered in log\n",
      "  result = getattr(ufunc, method)(*inputs, **kwargs)\n"
     ]
    },
    {
     "name": "stdout",
     "output_type": "stream",
     "text": [
      "Step 1886 — Test metrics:\n",
      "  precision@10: 0.009341966\n",
      "  recall@10: 0.009346371\n",
      "  ndcg@10: 0.009189785\n",
      "  map@10: 0.002798925\n",
      "Epoch 10, Step 160, LR: 0.000785, Current Loss: 1.0349, Avg Loss: 1.0426\n",
      "Diff stats — min: -4.3465, max: 8.6021, mean: 1.6804, std: 1.8635\n",
      "\n",
      "Epoch 10, Step 180, LR: 0.000785, Current Loss: 1.0386, Avg Loss: 1.0423\n",
      "Diff stats — min: -3.8235, max: 8.1542, mean: 1.6117, std: 1.7861\n",
      "\n",
      "Epoch 10 completed, Train Loss: 0.000255\n",
      "\n",
      "Epoch 11, Step 1, LR: 0.000785, Current Loss: 1.0377, Avg Loss: 1.0377\n",
      "Diff stats — min: -4.5148, max: 8.6952, mean: 1.6693, std: 1.8434\n",
      "\n"
     ]
    },
    {
     "name": "stderr",
     "output_type": "stream",
     "text": [
      "/usr/local/lib/python3.11/dist-packages/pandas/core/computation/expressions.py:73: RuntimeWarning: invalid value encountered in less_equal\n",
      "  return op(a, b)\n",
      "/usr/local/lib/python3.11/dist-packages/pandas/core/arraylike.py:399: RuntimeWarning: invalid value encountered in log\n",
      "  result = getattr(ufunc, method)(*inputs, **kwargs)\n"
     ]
    },
    {
     "name": "stdout",
     "output_type": "stream",
     "text": [
      "Step 1930 — Test metrics:\n",
      "  precision@10: 0.009038055\n",
      "  recall@10: 0.009043194\n",
      "  ndcg@10: 0.008985003\n",
      "  map@10: 0.002773187\n",
      "Epoch 11, Step 20, LR: 0.000785, Current Loss: 1.0371, Avg Loss: 1.0352\n",
      "Diff stats — min: -5.0630, max: 10.0000, mean: 1.6371, std: 1.8304\n",
      "\n",
      "Epoch 11, Step 40, LR: 0.000769, Current Loss: 1.0413, Avg Loss: 1.0345\n",
      "Diff stats — min: -4.1813, max: 9.2072, mean: 1.5900, std: 1.8073\n",
      "\n"
     ]
    },
    {
     "name": "stderr",
     "output_type": "stream",
     "text": [
      "/usr/local/lib/python3.11/dist-packages/pandas/core/computation/expressions.py:73: RuntimeWarning: invalid value encountered in less_equal\n",
      "  return op(a, b)\n",
      "/usr/local/lib/python3.11/dist-packages/pandas/core/arraylike.py:399: RuntimeWarning: invalid value encountered in log\n",
      "  result = getattr(ufunc, method)(*inputs, **kwargs)\n"
     ]
    },
    {
     "name": "stdout",
     "output_type": "stream",
     "text": [
      "Step 1979 — Test metrics:\n",
      "  precision@10: 0.009236258\n",
      "  recall@10: 0.009239928\n",
      "  ndcg@10: 0.009125928\n",
      "  map@10: 0.002779170\n",
      "Epoch 11, Step 60, LR: 0.000769, Current Loss: 1.0389, Avg Loss: 1.0342\n",
      "Diff stats — min: -4.9153, max: 8.6331, mean: 1.6532, std: 1.8439\n",
      "\n",
      "Epoch 11, Step 80, LR: 0.000769, Current Loss: 1.0283, Avg Loss: 1.0352\n",
      "Diff stats — min: -5.8359, max: 7.6434, mean: 1.6550, std: 1.8301\n",
      "\n",
      "Epoch 11, Step 100, LR: 0.000769, Current Loss: 1.0270, Avg Loss: 1.0343\n",
      "Diff stats — min: -4.6655, max: 8.3372, mean: 1.7303, std: 1.8716\n",
      "\n"
     ]
    },
    {
     "name": "stderr",
     "output_type": "stream",
     "text": [
      "/usr/local/lib/python3.11/dist-packages/pandas/core/computation/expressions.py:73: RuntimeWarning: invalid value encountered in less_equal\n",
      "  return op(a, b)\n",
      "/usr/local/lib/python3.11/dist-packages/pandas/core/arraylike.py:399: RuntimeWarning: invalid value encountered in log\n",
      "  result = getattr(ufunc, method)(*inputs, **kwargs)\n"
     ]
    },
    {
     "name": "stdout",
     "output_type": "stream",
     "text": [
      "Step 2029 — Test metrics:\n",
      "  precision@10: 0.008925740\n",
      "  recall@10: 0.008930144\n",
      "  ndcg@10: 0.008817986\n",
      "  map@10: 0.002718138\n",
      "Epoch 11, Step 120, LR: 0.000769, Current Loss: 1.0407, Avg Loss: 1.0335\n",
      "Diff stats — min: -4.2052, max: 7.7065, mean: 1.6727, std: 1.8560\n",
      "\n",
      "Epoch 11, Step 140, LR: 0.000769, Current Loss: 1.0203, Avg Loss: 1.0330\n",
      "Diff stats — min: -4.3712, max: 7.8504, mean: 1.6988, std: 1.8397\n",
      "\n"
     ]
    },
    {
     "name": "stderr",
     "output_type": "stream",
     "text": [
      "/usr/local/lib/python3.11/dist-packages/pandas/core/computation/expressions.py:73: RuntimeWarning: invalid value encountered in less_equal\n",
      "  return op(a, b)\n",
      "/usr/local/lib/python3.11/dist-packages/pandas/core/arraylike.py:399: RuntimeWarning: invalid value encountered in log\n",
      "  result = getattr(ufunc, method)(*inputs, **kwargs)\n"
     ]
    },
    {
     "name": "stdout",
     "output_type": "stream",
     "text": [
      "Step 2079 — Test metrics:\n",
      "  precision@10: 0.009090909\n",
      "  recall@10: 0.009093845\n",
      "  ndcg@10: 0.009118513\n",
      "  map@10: 0.002811616\n",
      "Epoch 11, Step 160, LR: 0.000769, Current Loss: 1.0468, Avg Loss: 1.0329\n",
      "Diff stats — min: -5.8568, max: 9.4387, mean: 1.6399, std: 1.8526\n",
      "\n",
      "Epoch 11, Step 180, LR: 0.000754, Current Loss: 1.0347, Avg Loss: 1.0327\n",
      "Diff stats — min: -4.2811, max: 8.7258, mean: 1.6983, std: 1.8207\n",
      "\n",
      "Epoch 11 completed, Train Loss: 0.000252\n",
      "\n",
      "Epoch 12, Step 1, LR: 0.000754, Current Loss: 1.0253, Avg Loss: 1.0253\n",
      "Diff stats — min: -5.0635, max: 10.0000, mean: 1.7046, std: 1.8864\n",
      "\n"
     ]
    },
    {
     "name": "stderr",
     "output_type": "stream",
     "text": [
      "/usr/local/lib/python3.11/dist-packages/pandas/core/computation/expressions.py:73: RuntimeWarning: invalid value encountered in less_equal\n",
      "  return op(a, b)\n",
      "/usr/local/lib/python3.11/dist-packages/pandas/core/arraylike.py:399: RuntimeWarning: invalid value encountered in log\n",
      "  result = getattr(ufunc, method)(*inputs, **kwargs)\n"
     ]
    },
    {
     "name": "stdout",
     "output_type": "stream",
     "text": [
      "Step 2123 — Test metrics:\n",
      "  precision@10: 0.008958774\n",
      "  recall@10: 0.008963178\n",
      "  ndcg@10: 0.008908798\n",
      "  map@10: 0.002759858\n",
      "Epoch 12, Step 20, LR: 0.000754, Current Loss: 1.0267, Avg Loss: 1.0227\n",
      "Diff stats — min: -4.8017, max: 9.5563, mean: 1.7404, std: 1.9085\n",
      "\n",
      "Epoch 12, Step 40, LR: 0.000754, Current Loss: 1.0189, Avg Loss: 1.0239\n",
      "Diff stats — min: -5.4770, max: 10.0000, mean: 1.7757, std: 1.9354\n",
      "\n"
     ]
    },
    {
     "name": "stderr",
     "output_type": "stream",
     "text": [
      "/usr/local/lib/python3.11/dist-packages/pandas/core/computation/expressions.py:73: RuntimeWarning: invalid value encountered in less_equal\n",
      "  return op(a, b)\n",
      "/usr/local/lib/python3.11/dist-packages/pandas/core/arraylike.py:399: RuntimeWarning: invalid value encountered in log\n",
      "  result = getattr(ufunc, method)(*inputs, **kwargs)\n"
     ]
    },
    {
     "name": "stdout",
     "output_type": "stream",
     "text": [
      "Step 2172 — Test metrics:\n",
      "  precision@10: 0.009117336\n",
      "  recall@10: 0.009121741\n",
      "  ndcg@10: 0.009182861\n",
      "  map@10: 0.002865112\n",
      "Epoch 12, Step 60, LR: 0.000754, Current Loss: 1.0141, Avg Loss: 1.0237\n",
      "Diff stats — min: -5.0042, max: 8.1919, mean: 1.7873, std: 1.9234\n",
      "\n",
      "Epoch 12, Step 80, LR: 0.000754, Current Loss: 1.0194, Avg Loss: 1.0239\n",
      "Diff stats — min: -4.9530, max: 10.0000, mean: 1.8038, std: 1.9194\n",
      "\n",
      "Epoch 12, Step 100, LR: 0.000754, Current Loss: 1.0227, Avg Loss: 1.0243\n",
      "Diff stats — min: -5.4866, max: 8.4893, mean: 1.7557, std: 1.8962\n",
      "\n"
     ]
    },
    {
     "name": "stderr",
     "output_type": "stream",
     "text": [
      "/usr/local/lib/python3.11/dist-packages/pandas/core/computation/expressions.py:73: RuntimeWarning: invalid value encountered in less_equal\n",
      "  return op(a, b)\n",
      "/usr/local/lib/python3.11/dist-packages/pandas/core/arraylike.py:399: RuntimeWarning: invalid value encountered in log\n",
      "  result = getattr(ufunc, method)(*inputs, **kwargs)\n"
     ]
    },
    {
     "name": "stdout",
     "output_type": "stream",
     "text": [
      "Step 2222 — Test metrics:\n",
      "  precision@10: 0.009077696\n",
      "  recall@10: 0.009080632\n",
      "  ndcg@10: 0.008968373\n",
      "  map@10: 0.002741774\n",
      "Epoch 12, Step 120, LR: 0.000754, Current Loss: 1.0322, Avg Loss: 1.0243\n",
      "Diff stats — min: -5.8703, max: 9.7070, mean: 1.7566, std: 1.9259\n",
      "\n",
      "Epoch 12, Step 140, LR: 0.000739, Current Loss: 1.0229, Avg Loss: 1.0238\n",
      "Diff stats — min: -4.9488, max: 10.0000, mean: 1.8183, std: 1.9662\n",
      "\n"
     ]
    },
    {
     "name": "stderr",
     "output_type": "stream",
     "text": [
      "/usr/local/lib/python3.11/dist-packages/pandas/core/computation/expressions.py:73: RuntimeWarning: invalid value encountered in less_equal\n",
      "  return op(a, b)\n",
      "/usr/local/lib/python3.11/dist-packages/pandas/core/arraylike.py:399: RuntimeWarning: invalid value encountered in log\n",
      "  result = getattr(ufunc, method)(*inputs, **kwargs)\n"
     ]
    },
    {
     "name": "stdout",
     "output_type": "stream",
     "text": [
      "Step 2272 — Test metrics:\n",
      "  precision@10: 0.009474101\n",
      "  recall@10: 0.009477038\n",
      "  ndcg@10: 0.009321881\n",
      "  map@10: 0.002850465\n",
      "Epoch 12, Step 160, LR: 0.000739, Current Loss: 1.0295, Avg Loss: 1.0234\n",
      "Diff stats — min: -4.8560, max: 9.0548, mean: 1.7731, std: 1.9654\n",
      "\n",
      "Epoch 12, Step 180, LR: 0.000739, Current Loss: 1.0162, Avg Loss: 1.0230\n",
      "Diff stats — min: -6.1406, max: 10.0000, mean: 1.8228, std: 1.9357\n",
      "\n",
      "Epoch 12 completed, Train Loss: 0.000250\n",
      "\n",
      "Epoch 13, Step 1, LR: 0.000739, Current Loss: 1.0229, Avg Loss: 1.0229\n",
      "Diff stats — min: -4.6354, max: 10.0000, mean: 1.7343, std: 1.8576\n",
      "\n"
     ]
    },
    {
     "name": "stderr",
     "output_type": "stream",
     "text": [
      "/usr/local/lib/python3.11/dist-packages/pandas/core/computation/expressions.py:73: RuntimeWarning: invalid value encountered in less_equal\n",
      "  return op(a, b)\n",
      "/usr/local/lib/python3.11/dist-packages/pandas/core/arraylike.py:399: RuntimeWarning: invalid value encountered in log\n",
      "  result = getattr(ufunc, method)(*inputs, **kwargs)\n"
     ]
    },
    {
     "name": "stdout",
     "output_type": "stream",
     "text": [
      "Step 2316 — Test metrics:\n",
      "  precision@10: 0.009275899\n",
      "  recall@10: 0.009280303\n",
      "  ndcg@10: 0.009377208\n",
      "  map@10: 0.002921339\n",
      "Epoch 13, Step 20, LR: 0.000739, Current Loss: 1.0036, Avg Loss: 1.0177\n",
      "Diff stats — min: -5.1769, max: 8.1482, mean: 1.8107, std: 1.8898\n",
      "\n",
      "Epoch 13, Step 40, LR: 0.000739, Current Loss: 1.0133, Avg Loss: 1.0153\n",
      "Diff stats — min: -4.9668, max: 10.0000, mean: 1.7934, std: 1.9026\n",
      "\n"
     ]
    },
    {
     "name": "stderr",
     "output_type": "stream",
     "text": [
      "/usr/local/lib/python3.11/dist-packages/pandas/core/computation/expressions.py:73: RuntimeWarning: invalid value encountered in less_equal\n",
      "  return op(a, b)\n",
      "/usr/local/lib/python3.11/dist-packages/pandas/core/arraylike.py:399: RuntimeWarning: invalid value encountered in log\n",
      "  result = getattr(ufunc, method)(*inputs, **kwargs)\n"
     ]
    },
    {
     "name": "stdout",
     "output_type": "stream",
     "text": [
      "Step 2365 — Test metrics:\n",
      "  precision@10: 0.009143763\n",
      "  recall@10: 0.009147434\n",
      "  ndcg@10: 0.009275398\n",
      "  map@10: 0.002905906\n",
      "Epoch 13, Step 60, LR: 0.000739, Current Loss: 1.0208, Avg Loss: 1.0152\n",
      "Diff stats — min: -6.0915, max: 8.5655, mean: 1.7983, std: 1.9063\n",
      "\n",
      "Epoch 13, Step 80, LR: 0.000739, Current Loss: 1.0258, Avg Loss: 1.0149\n",
      "Diff stats — min: -5.0700, max: 10.0000, mean: 1.8034, std: 1.9351\n",
      "\n",
      "Epoch 13, Step 100, LR: 0.000724, Current Loss: 1.0090, Avg Loss: 1.0147\n",
      "Diff stats — min: -6.2017, max: 10.0000, mean: 1.8396, std: 1.9050\n",
      "\n"
     ]
    },
    {
     "name": "stderr",
     "output_type": "stream",
     "text": [
      "/usr/local/lib/python3.11/dist-packages/pandas/core/computation/expressions.py:73: RuntimeWarning: invalid value encountered in less_equal\n",
      "  return op(a, b)\n",
      "/usr/local/lib/python3.11/dist-packages/pandas/core/arraylike.py:399: RuntimeWarning: invalid value encountered in log\n",
      "  result = getattr(ufunc, method)(*inputs, **kwargs)\n"
     ]
    },
    {
     "name": "stdout",
     "output_type": "stream",
     "text": [
      "Step 2415 — Test metrics:\n",
      "  precision@10: 0.008985201\n",
      "  recall@10: 0.008987403\n",
      "  ndcg@10: 0.009024703\n",
      "  map@10: 0.002804171\n",
      "Epoch 13, Step 120, LR: 0.000724, Current Loss: 0.9960, Avg Loss: 1.0142\n",
      "Diff stats — min: -5.1442, max: 10.0000, mean: 1.8650, std: 1.9598\n",
      "\n",
      "Epoch 13, Step 140, LR: 0.000724, Current Loss: 1.0090, Avg Loss: 1.0131\n",
      "Diff stats — min: -5.5454, max: 8.2597, mean: 1.8945, std: 1.9864\n",
      "\n"
     ]
    },
    {
     "name": "stderr",
     "output_type": "stream",
     "text": [
      "/usr/local/lib/python3.11/dist-packages/pandas/core/computation/expressions.py:73: RuntimeWarning: invalid value encountered in less_equal\n",
      "  return op(a, b)\n",
      "/usr/local/lib/python3.11/dist-packages/pandas/core/arraylike.py:399: RuntimeWarning: invalid value encountered in log\n",
      "  result = getattr(ufunc, method)(*inputs, **kwargs)\n"
     ]
    },
    {
     "name": "stdout",
     "output_type": "stream",
     "text": [
      "Step 2465 — Test metrics:\n",
      "  precision@10: 0.009150370\n",
      "  recall@10: 0.009154040\n",
      "  ndcg@10: 0.009157090\n",
      "  map@10: 0.002812008\n",
      "Epoch 13, Step 160, LR: 0.000724, Current Loss: 1.0008, Avg Loss: 1.0129\n",
      "Diff stats — min: -4.4351, max: 9.0821, mean: 1.8682, std: 1.9501\n",
      "\n",
      "Epoch 13, Step 180, LR: 0.000724, Current Loss: 1.0297, Avg Loss: 1.0128\n",
      "Diff stats — min: -5.2135, max: 8.8770, mean: 1.8260, std: 1.9621\n",
      "\n",
      "Epoch 13 completed, Train Loss: 0.000247\n",
      "\n",
      "Epoch 14, Step 1, LR: 0.000724, Current Loss: 1.0018, Avg Loss: 1.0018\n",
      "Diff stats — min: -5.9700, max: 8.8631, mean: 1.8865, std: 1.9621\n",
      "\n"
     ]
    },
    {
     "name": "stderr",
     "output_type": "stream",
     "text": [
      "/usr/local/lib/python3.11/dist-packages/pandas/core/computation/expressions.py:73: RuntimeWarning: invalid value encountered in less_equal\n",
      "  return op(a, b)\n",
      "/usr/local/lib/python3.11/dist-packages/pandas/core/arraylike.py:399: RuntimeWarning: invalid value encountered in log\n",
      "  result = getattr(ufunc, method)(*inputs, **kwargs)\n"
     ]
    },
    {
     "name": "stdout",
     "output_type": "stream",
     "text": [
      "Step 2509 — Test metrics:\n",
      "  precision@10: 0.009057875\n",
      "  recall@10: 0.009060812\n",
      "  ndcg@10: 0.009106738\n",
      "  map@10: 0.002817044\n",
      "Epoch 14, Step 20, LR: 0.000724, Current Loss: 1.0184, Avg Loss: 1.0073\n",
      "Diff stats — min: -4.9275, max: 8.5709, mean: 1.8265, std: 1.9257\n",
      "\n",
      "Epoch 14, Step 40, LR: 0.000724, Current Loss: 1.0196, Avg Loss: 1.0055\n",
      "Diff stats — min: -5.3664, max: 10.0000, mean: 1.8766, std: 1.9913\n",
      "\n"
     ]
    },
    {
     "name": "stderr",
     "output_type": "stream",
     "text": [
      "/usr/local/lib/python3.11/dist-packages/pandas/core/computation/expressions.py:73: RuntimeWarning: invalid value encountered in less_equal\n",
      "  return op(a, b)\n",
      "/usr/local/lib/python3.11/dist-packages/pandas/core/arraylike.py:399: RuntimeWarning: invalid value encountered in log\n",
      "  result = getattr(ufunc, method)(*inputs, **kwargs)\n"
     ]
    },
    {
     "name": "stdout",
     "output_type": "stream",
     "text": [
      "Step 2558 — Test metrics:\n",
      "  precision@10: 0.009361786\n",
      "  recall@10: 0.009366191\n",
      "  ndcg@10: 0.009311688\n",
      "  map@10: 0.002851839\n",
      "Epoch 14, Step 60, LR: 0.000709, Current Loss: 0.9909, Avg Loss: 1.0060\n",
      "Diff stats — min: -4.5482, max: 9.0315, mean: 1.9149, std: 1.9704\n",
      "\n",
      "Epoch 14, Step 80, LR: 0.000709, Current Loss: 0.9980, Avg Loss: 1.0054\n",
      "Diff stats — min: -4.7961, max: 8.8340, mean: 1.9159, std: 1.9735\n",
      "\n",
      "Epoch 14, Step 100, LR: 0.000709, Current Loss: 1.0099, Avg Loss: 1.0052\n",
      "Diff stats — min: -4.6629, max: 8.0815, mean: 1.8707, std: 1.9614\n",
      "\n"
     ]
    },
    {
     "name": "stderr",
     "output_type": "stream",
     "text": [
      "/usr/local/lib/python3.11/dist-packages/pandas/core/computation/expressions.py:73: RuntimeWarning: invalid value encountered in less_equal\n",
      "  return op(a, b)\n",
      "/usr/local/lib/python3.11/dist-packages/pandas/core/arraylike.py:399: RuntimeWarning: invalid value encountered in log\n",
      "  result = getattr(ufunc, method)(*inputs, **kwargs)\n"
     ]
    },
    {
     "name": "stdout",
     "output_type": "stream",
     "text": [
      "Step 2608 — Test metrics:\n",
      "  precision@10: 0.008813425\n",
      "  recall@10: 0.008817829\n",
      "  ndcg@10: 0.008864413\n",
      "  map@10: 0.002742590\n",
      "Epoch 14, Step 120, LR: 0.000709, Current Loss: 1.0085, Avg Loss: 1.0051\n",
      "Diff stats — min: -4.7489, max: 9.1416, mean: 1.9052, std: 1.9838\n",
      "\n",
      "Epoch 14, Step 140, LR: 0.000709, Current Loss: 0.9998, Avg Loss: 1.0048\n",
      "Diff stats — min: -6.0577, max: 10.0000, mean: 1.9655, std: 1.9835\n",
      "\n"
     ]
    },
    {
     "name": "stderr",
     "output_type": "stream",
     "text": [
      "/usr/local/lib/python3.11/dist-packages/pandas/core/computation/expressions.py:73: RuntimeWarning: invalid value encountered in less_equal\n",
      "  return op(a, b)\n",
      "/usr/local/lib/python3.11/dist-packages/pandas/core/arraylike.py:399: RuntimeWarning: invalid value encountered in log\n",
      "  result = getattr(ufunc, method)(*inputs, **kwargs)\n"
     ]
    },
    {
     "name": "stdout",
     "output_type": "stream",
     "text": [
      "Step 2658 — Test metrics:\n",
      "  precision@10: 0.009097516\n",
      "  recall@10: 0.009101186\n",
      "  ndcg@10: 0.009157319\n",
      "  map@10: 0.002826544\n",
      "Epoch 14, Step 160, LR: 0.000709, Current Loss: 1.0011, Avg Loss: 1.0041\n",
      "Diff stats — min: -4.8900, max: 8.8496, mean: 1.9299, std: 1.9969\n",
      "\n",
      "Epoch 14, Step 180, LR: 0.000709, Current Loss: 0.9829, Avg Loss: 1.0035\n",
      "Diff stats — min: -5.1927, max: 10.0000, mean: 1.9839, std: 1.9696\n",
      "\n",
      "Epoch 14 completed, Train Loss: 0.000245\n",
      "\n",
      "Epoch 15, Step 1, LR: 0.000695, Current Loss: 1.0067, Avg Loss: 1.0067\n",
      "Diff stats — min: -5.6443, max: 9.5366, mean: 1.9128, std: 2.0103\n",
      "\n"
     ]
    },
    {
     "name": "stderr",
     "output_type": "stream",
     "text": [
      "/usr/local/lib/python3.11/dist-packages/pandas/core/computation/expressions.py:73: RuntimeWarning: invalid value encountered in less_equal\n",
      "  return op(a, b)\n",
      "/usr/local/lib/python3.11/dist-packages/pandas/core/arraylike.py:399: RuntimeWarning: invalid value encountered in log\n",
      "  result = getattr(ufunc, method)(*inputs, **kwargs)\n"
     ]
    },
    {
     "name": "stdout",
     "output_type": "stream",
     "text": [
      "Step 2702 — Test metrics:\n",
      "  precision@10: 0.009170190\n",
      "  recall@10: 0.009174595\n",
      "  ndcg@10: 0.009088524\n",
      "  map@10: 0.002768029\n",
      "Epoch 15, Step 20, LR: 0.000695, Current Loss: 0.9768, Avg Loss: 0.9941\n",
      "Diff stats — min: -5.2146, max: 8.2828, mean: 2.0000, std: 1.9574\n",
      "\n",
      "Epoch 15, Step 40, LR: 0.000695, Current Loss: 0.9885, Avg Loss: 0.9944\n",
      "Diff stats — min: -5.1975, max: 9.4613, mean: 2.0682, std: 2.0301\n",
      "\n"
     ]
    },
    {
     "name": "stderr",
     "output_type": "stream",
     "text": [
      "/usr/local/lib/python3.11/dist-packages/pandas/core/computation/expressions.py:73: RuntimeWarning: invalid value encountered in less_equal\n",
      "  return op(a, b)\n",
      "/usr/local/lib/python3.11/dist-packages/pandas/core/arraylike.py:399: RuntimeWarning: invalid value encountered in log\n",
      "  result = getattr(ufunc, method)(*inputs, **kwargs)\n"
     ]
    },
    {
     "name": "stdout",
     "output_type": "stream",
     "text": [
      "Step 2751 — Test metrics:\n",
      "  precision@10: 0.009005021\n",
      "  recall@10: 0.009008692\n",
      "  ndcg@10: 0.009027190\n",
      "  map@10: 0.002776360\n",
      "Epoch 15, Step 60, LR: 0.000695, Current Loss: 0.9791, Avg Loss: 0.9947\n",
      "Diff stats — min: -4.5332, max: 8.5437, mean: 2.0699, std: 2.0311\n",
      "\n",
      "Epoch 15, Step 80, LR: 0.000695, Current Loss: 1.0091, Avg Loss: 0.9944\n",
      "Diff stats — min: -4.8505, max: 8.1989, mean: 1.9386, std: 1.9974\n",
      "\n",
      "Epoch 15, Step 100, LR: 0.000695, Current Loss: 0.9963, Avg Loss: 0.9944\n",
      "Diff stats — min: -5.4754, max: 10.0000, mean: 2.0250, std: 2.0547\n",
      "\n"
     ]
    },
    {
     "name": "stderr",
     "output_type": "stream",
     "text": [
      "/usr/local/lib/python3.11/dist-packages/pandas/core/computation/expressions.py:73: RuntimeWarning: invalid value encountered in less_equal\n",
      "  return op(a, b)\n",
      "/usr/local/lib/python3.11/dist-packages/pandas/core/arraylike.py:399: RuntimeWarning: invalid value encountered in log\n",
      "  result = getattr(ufunc, method)(*inputs, **kwargs)\n"
     ]
    },
    {
     "name": "stdout",
     "output_type": "stream",
     "text": [
      "Step 2801 — Test metrics:\n",
      "  precision@10: 0.008760571\n",
      "  recall@10: 0.008764975\n",
      "  ndcg@10: 0.008930186\n",
      "  map@10: 0.002772640\n",
      "Epoch 15, Step 120, LR: 0.000695, Current Loss: 1.0115, Avg Loss: 0.9940\n",
      "Diff stats — min: -4.7603, max: 10.0000, mean: 1.9735, std: 2.0461\n",
      "\n",
      "Epoch 15, Step 140, LR: 0.000695, Current Loss: 0.9912, Avg Loss: 0.9941\n",
      "Diff stats — min: -4.7883, max: 8.5617, mean: 1.9725, std: 2.0149\n",
      "\n"
     ]
    },
    {
     "name": "stderr",
     "output_type": "stream",
     "text": [
      "/usr/local/lib/python3.11/dist-packages/pandas/core/computation/expressions.py:73: RuntimeWarning: invalid value encountered in less_equal\n",
      "  return op(a, b)\n",
      "/usr/local/lib/python3.11/dist-packages/pandas/core/arraylike.py:399: RuntimeWarning: invalid value encountered in log\n",
      "  result = getattr(ufunc, method)(*inputs, **kwargs)\n"
     ]
    },
    {
     "name": "stdout",
     "output_type": "stream",
     "text": [
      "Step 2851 — Test metrics:\n",
      "  precision@10: 0.009097516\n",
      "  recall@10: 0.009101920\n",
      "  ndcg@10: 0.009159712\n",
      "  map@10: 0.002831013\n",
      "Epoch 15, Step 160, LR: 0.000681, Current Loss: 0.9899, Avg Loss: 0.9936\n",
      "Diff stats — min: -5.1060, max: 10.0000, mean: 2.0105, std: 2.0077\n",
      "\n",
      "Epoch 15, Step 180, LR: 0.000681, Current Loss: 0.9952, Avg Loss: 0.9932\n",
      "Diff stats — min: -5.0914, max: 10.0000, mean: 2.0094, std: 2.0368\n",
      "\n",
      "Epoch 15 completed, Train Loss: 0.000243\n",
      "\n",
      "Epoch 16, Step 1, LR: 0.000681, Current Loss: 0.9998, Avg Loss: 0.9998\n",
      "Diff stats — min: -6.3476, max: 8.5624, mean: 2.0370, std: 2.0557\n",
      "\n"
     ]
    },
    {
     "name": "stderr",
     "output_type": "stream",
     "text": [
      "/usr/local/lib/python3.11/dist-packages/pandas/core/computation/expressions.py:73: RuntimeWarning: invalid value encountered in less_equal\n",
      "  return op(a, b)\n",
      "/usr/local/lib/python3.11/dist-packages/pandas/core/arraylike.py:399: RuntimeWarning: invalid value encountered in log\n",
      "  result = getattr(ufunc, method)(*inputs, **kwargs)\n"
     ]
    },
    {
     "name": "stdout",
     "output_type": "stream",
     "text": [
      "Step 2895 — Test metrics:\n",
      "  precision@10: 0.009011628\n",
      "  recall@10: 0.009016767\n",
      "  ndcg@10: 0.009059560\n",
      "  map@10: 0.002789444\n",
      "Epoch 16, Step 20, LR: 0.000681, Current Loss: 0.9922, Avg Loss: 0.9853\n",
      "Diff stats — min: -4.7260, max: 9.6123, mean: 2.0600, std: 2.0515\n",
      "\n",
      "Epoch 16, Step 40, LR: 0.000681, Current Loss: 0.9846, Avg Loss: 0.9846\n",
      "Diff stats — min: -5.4935, max: 9.3211, mean: 2.1027, std: 2.1088\n",
      "\n"
     ]
    },
    {
     "name": "stderr",
     "output_type": "stream",
     "text": [
      "/usr/local/lib/python3.11/dist-packages/pandas/core/computation/expressions.py:73: RuntimeWarning: invalid value encountered in less_equal\n",
      "  return op(a, b)\n",
      "/usr/local/lib/python3.11/dist-packages/pandas/core/arraylike.py:399: RuntimeWarning: invalid value encountered in log\n",
      "  result = getattr(ufunc, method)(*inputs, **kwargs)\n"
     ]
    },
    {
     "name": "stdout",
     "output_type": "stream",
     "text": [
      "Step 2944 — Test metrics:\n",
      "  precision@10: 0.009328753\n",
      "  recall@10: 0.009332423\n",
      "  ndcg@10: 0.009424193\n",
      "  map@10: 0.002919950\n",
      "Epoch 16, Step 60, LR: 0.000681, Current Loss: 0.9975, Avg Loss: 0.9850\n",
      "Diff stats — min: -4.6759, max: 10.0000, mean: 2.0772, std: 2.0739\n",
      "\n",
      "Epoch 16, Step 80, LR: 0.000681, Current Loss: 0.9873, Avg Loss: 0.9845\n",
      "Diff stats — min: -4.7551, max: 10.0000, mean: 2.1110, std: 2.0906\n",
      "\n",
      "Epoch 16, Step 100, LR: 0.000681, Current Loss: 1.0021, Avg Loss: 0.9840\n",
      "Diff stats — min: -4.9492, max: 8.9877, mean: 2.0103, std: 2.0529\n",
      "\n"
     ]
    },
    {
     "name": "stderr",
     "output_type": "stream",
     "text": [
      "/usr/local/lib/python3.11/dist-packages/pandas/core/computation/expressions.py:73: RuntimeWarning: invalid value encountered in less_equal\n",
      "  return op(a, b)\n",
      "/usr/local/lib/python3.11/dist-packages/pandas/core/arraylike.py:399: RuntimeWarning: invalid value encountered in log\n",
      "  result = getattr(ufunc, method)(*inputs, **kwargs)\n"
     ]
    },
    {
     "name": "stdout",
     "output_type": "stream",
     "text": [
      "Step 2994 — Test metrics:\n",
      "  precision@10: 0.009190011\n",
      "  recall@10: 0.009192947\n",
      "  ndcg@10: 0.009345421\n",
      "  map@10: 0.002913107\n",
      "Epoch 16, Step 120, LR: 0.000668, Current Loss: 0.9843, Avg Loss: 0.9831\n",
      "Diff stats — min: -5.2543, max: 9.2575, mean: 2.0948, std: 2.0700\n",
      "\n",
      "Epoch 16, Step 140, LR: 0.000668, Current Loss: 0.9844, Avg Loss: 0.9829\n",
      "Diff stats — min: -5.0565, max: 9.8575, mean: 2.1340, std: 2.0562\n",
      "\n"
     ]
    },
    {
     "name": "stderr",
     "output_type": "stream",
     "text": [
      "/usr/local/lib/python3.11/dist-packages/pandas/core/computation/expressions.py:73: RuntimeWarning: invalid value encountered in less_equal\n",
      "  return op(a, b)\n",
      "/usr/local/lib/python3.11/dist-packages/pandas/core/arraylike.py:399: RuntimeWarning: invalid value encountered in log\n",
      "  result = getattr(ufunc, method)(*inputs, **kwargs)\n"
     ]
    },
    {
     "name": "stdout",
     "output_type": "stream",
     "text": [
      "Step 3044 — Test metrics:\n",
      "  precision@10: 0.009328753\n",
      "  recall@10: 0.009331689\n",
      "  ndcg@10: 0.009413316\n",
      "  map@10: 0.002905537\n",
      "Epoch 16, Step 160, LR: 0.000668, Current Loss: 0.9823, Avg Loss: 0.9827\n",
      "Diff stats — min: -5.6226, max: 10.0000, mean: 2.0755, std: 2.0589\n",
      "\n",
      "Epoch 16, Step 180, LR: 0.000668, Current Loss: 0.9853, Avg Loss: 0.9823\n",
      "Diff stats — min: -5.5163, max: 9.2123, mean: 2.1168, std: 2.0759\n",
      "\n",
      "Epoch 16 completed, Train Loss: 0.000240\n",
      "\n",
      "Epoch 17, Step 1, LR: 0.000668, Current Loss: 0.9825, Avg Loss: 0.9825\n",
      "Diff stats — min: -5.9269, max: 10.0000, mean: 2.1569, std: 2.1108\n",
      "\n"
     ]
    },
    {
     "name": "stderr",
     "output_type": "stream",
     "text": [
      "/usr/local/lib/python3.11/dist-packages/pandas/core/computation/expressions.py:73: RuntimeWarning: invalid value encountered in less_equal\n",
      "  return op(a, b)\n",
      "/usr/local/lib/python3.11/dist-packages/pandas/core/arraylike.py:399: RuntimeWarning: invalid value encountered in log\n",
      "  result = getattr(ufunc, method)(*inputs, **kwargs)\n"
     ]
    },
    {
     "name": "stdout",
     "output_type": "stream",
     "text": [
      "Step 3088 — Test metrics:\n",
      "  precision@10: 0.009176797\n",
      "  recall@10: 0.009179733\n",
      "  ndcg@10: 0.009225397\n",
      "  map@10: 0.002848605\n",
      "Epoch 17, Step 20, LR: 0.000668, Current Loss: 0.9685, Avg Loss: 0.9694\n",
      "Diff stats — min: -5.6425, max: 10.0000, mean: 2.1801, std: 2.1236\n",
      "\n",
      "Epoch 17, Step 40, LR: 0.000668, Current Loss: 0.9661, Avg Loss: 0.9715\n",
      "Diff stats — min: -5.0874, max: 10.0000, mean: 2.1951, std: 2.1034\n",
      "\n"
     ]
    },
    {
     "name": "stderr",
     "output_type": "stream",
     "text": [
      "/usr/local/lib/python3.11/dist-packages/pandas/core/computation/expressions.py:73: RuntimeWarning: invalid value encountered in less_equal\n",
      "  return op(a, b)\n",
      "/usr/local/lib/python3.11/dist-packages/pandas/core/arraylike.py:399: RuntimeWarning: invalid value encountered in log\n",
      "  result = getattr(ufunc, method)(*inputs, **kwargs)\n"
     ]
    },
    {
     "name": "stdout",
     "output_type": "stream",
     "text": [
      "Step 3137 — Test metrics:\n",
      "  precision@10: 0.009606237\n",
      "  recall@10: 0.009610641\n",
      "  ndcg@10: 0.009579862\n",
      "  map@10: 0.002930687\n",
      "Epoch 17, Step 60, LR: 0.000668, Current Loss: 0.9608, Avg Loss: 0.9712\n",
      "Diff stats — min: -4.3162, max: 9.7792, mean: 2.2167, std: 2.1337\n",
      "\n",
      "Epoch 17, Step 80, LR: 0.000654, Current Loss: 0.9577, Avg Loss: 0.9713\n",
      "Diff stats — min: -4.7746, max: 10.0000, mean: 2.2610, std: 2.1329\n",
      "\n",
      "Epoch 17, Step 100, LR: 0.000654, Current Loss: 0.9670, Avg Loss: 0.9717\n",
      "Diff stats — min: -4.8153, max: 10.0000, mean: 2.2174, std: 2.1669\n",
      "\n"
     ]
    },
    {
     "name": "stderr",
     "output_type": "stream",
     "text": [
      "/usr/local/lib/python3.11/dist-packages/pandas/core/computation/expressions.py:73: RuntimeWarning: invalid value encountered in less_equal\n",
      "  return op(a, b)\n",
      "/usr/local/lib/python3.11/dist-packages/pandas/core/arraylike.py:399: RuntimeWarning: invalid value encountered in log\n",
      "  result = getattr(ufunc, method)(*inputs, **kwargs)\n"
     ]
    },
    {
     "name": "stdout",
     "output_type": "stream",
     "text": [
      "Step 3187 — Test metrics:\n",
      "  precision@10: 0.009170190\n",
      "  recall@10: 0.009173861\n",
      "  ndcg@10: 0.009231182\n",
      "  map@10: 0.002847793\n",
      "Epoch 17, Step 120, LR: 0.000654, Current Loss: 0.9654, Avg Loss: 0.9715\n",
      "Diff stats — min: -5.5140, max: 10.0000, mean: 2.3013, std: 2.1700\n",
      "\n",
      "Epoch 17, Step 140, LR: 0.000654, Current Loss: 0.9561, Avg Loss: 0.9719\n",
      "Diff stats — min: -5.0549, max: 10.0000, mean: 2.2261, std: 2.0956\n",
      "\n"
     ]
    },
    {
     "name": "stderr",
     "output_type": "stream",
     "text": [
      "/usr/local/lib/python3.11/dist-packages/pandas/core/computation/expressions.py:73: RuntimeWarning: invalid value encountered in less_equal\n",
      "  return op(a, b)\n",
      "/usr/local/lib/python3.11/dist-packages/pandas/core/arraylike.py:399: RuntimeWarning: invalid value encountered in log\n",
      "  result = getattr(ufunc, method)(*inputs, **kwargs)\n"
     ]
    },
    {
     "name": "stdout",
     "output_type": "stream",
     "text": [
      "Step 3237 — Test metrics:\n",
      "  precision@10: 0.009335359\n",
      "  recall@10: 0.009338296\n",
      "  ndcg@10: 0.009388576\n",
      "  map@10: 0.002881230\n",
      "Epoch 17, Step 160, LR: 0.000654, Current Loss: 0.9611, Avg Loss: 0.9719\n",
      "Diff stats — min: -4.4417, max: 9.8866, mean: 2.2032, std: 2.0946\n",
      "\n",
      "Epoch 17, Step 180, LR: 0.000654, Current Loss: 0.9751, Avg Loss: 0.9718\n",
      "Diff stats — min: -6.6268, max: 10.0000, mean: 2.1955, std: 2.1330\n",
      "\n",
      "Epoch 17 completed, Train Loss: 0.000237\n",
      "\n",
      "Epoch 18, Step 1, LR: 0.000654, Current Loss: 0.9570, Avg Loss: 0.9570\n",
      "Diff stats — min: -5.7420, max: 10.0000, mean: 2.2367, std: 2.1082\n",
      "\n"
     ]
    },
    {
     "name": "stderr",
     "output_type": "stream",
     "text": [
      "/usr/local/lib/python3.11/dist-packages/pandas/core/computation/expressions.py:73: RuntimeWarning: invalid value encountered in less_equal\n",
      "  return op(a, b)\n",
      "/usr/local/lib/python3.11/dist-packages/pandas/core/arraylike.py:399: RuntimeWarning: invalid value encountered in log\n",
      "  result = getattr(ufunc, method)(*inputs, **kwargs)\n"
     ]
    },
    {
     "name": "stdout",
     "output_type": "stream",
     "text": [
      "Step 3281 — Test metrics:\n",
      "  precision@10: 0.009117336\n",
      "  recall@10: 0.009121007\n",
      "  ndcg@10: 0.009220465\n",
      "  map@10: 0.002834021\n",
      "Epoch 18, Step 20, LR: 0.000641, Current Loss: 0.9782, Avg Loss: 0.9661\n",
      "Diff stats — min: -5.3837, max: 10.0000, mean: 2.1578, std: 2.1277\n",
      "\n",
      "Epoch 18, Step 40, LR: 0.000641, Current Loss: 0.9622, Avg Loss: 0.9659\n",
      "Diff stats — min: -4.5919, max: 10.0000, mean: 2.2255, std: 2.1457\n",
      "\n"
     ]
    },
    {
     "name": "stderr",
     "output_type": "stream",
     "text": [
      "/usr/local/lib/python3.11/dist-packages/pandas/core/computation/expressions.py:73: RuntimeWarning: invalid value encountered in less_equal\n",
      "  return op(a, b)\n",
      "/usr/local/lib/python3.11/dist-packages/pandas/core/arraylike.py:399: RuntimeWarning: invalid value encountered in log\n",
      "  result = getattr(ufunc, method)(*inputs, **kwargs)\n"
     ]
    },
    {
     "name": "stdout",
     "output_type": "stream",
     "text": [
      "Step 3330 — Test metrics:\n",
      "  precision@10: 0.009559989\n",
      "  recall@10: 0.009562192\n",
      "  ndcg@10: 0.009716152\n",
      "  map@10: 0.003012587\n",
      "Epoch 18, Step 60, LR: 0.000641, Current Loss: 0.9688, Avg Loss: 0.9655\n",
      "Diff stats — min: -5.7112, max: 9.7736, mean: 2.2383, std: 2.1668\n",
      "\n",
      "Epoch 18, Step 80, LR: 0.000641, Current Loss: 0.9686, Avg Loss: 0.9649\n",
      "Diff stats — min: -4.6680, max: 10.0000, mean: 2.2695, std: 2.1988\n",
      "\n",
      "Epoch 18, Step 100, LR: 0.000641, Current Loss: 0.9722, Avg Loss: 0.9654\n",
      "Diff stats — min: -5.2029, max: 10.0000, mean: 2.2557, std: 2.1506\n",
      "\n"
     ]
    },
    {
     "name": "stderr",
     "output_type": "stream",
     "text": [
      "/usr/local/lib/python3.11/dist-packages/pandas/core/computation/expressions.py:73: RuntimeWarning: invalid value encountered in less_equal\n",
      "  return op(a, b)\n",
      "/usr/local/lib/python3.11/dist-packages/pandas/core/arraylike.py:399: RuntimeWarning: invalid value encountered in log\n",
      "  result = getattr(ufunc, method)(*inputs, **kwargs)\n"
     ]
    },
    {
     "name": "stdout",
     "output_type": "stream",
     "text": [
      "Step 3380 — Test metrics:\n",
      "  precision@10: 0.009540169\n",
      "  recall@10: 0.009543105\n",
      "  ndcg@10: 0.009642657\n",
      "  map@10: 0.002984116\n",
      "Epoch 18, Step 120, LR: 0.000641, Current Loss: 0.9630, Avg Loss: 0.9647\n",
      "Diff stats — min: -5.3255, max: 9.7208, mean: 2.3529, std: 2.1928\n",
      "\n",
      "Epoch 18, Step 140, LR: 0.000641, Current Loss: 0.9703, Avg Loss: 0.9644\n",
      "Diff stats — min: -7.1740, max: 10.0000, mean: 2.2570, std: 2.1687\n",
      "\n"
     ]
    },
    {
     "name": "stderr",
     "output_type": "stream",
     "text": [
      "/usr/local/lib/python3.11/dist-packages/pandas/core/computation/expressions.py:73: RuntimeWarning: invalid value encountered in less_equal\n",
      "  return op(a, b)\n",
      "/usr/local/lib/python3.11/dist-packages/pandas/core/arraylike.py:399: RuntimeWarning: invalid value encountered in log\n",
      "  result = getattr(ufunc, method)(*inputs, **kwargs)\n"
     ]
    },
    {
     "name": "stdout",
     "output_type": "stream",
     "text": [
      "Step 3430 — Test metrics:\n",
      "  precision@10: 0.009698732\n",
      "  recall@10: 0.009702402\n",
      "  ndcg@10: 0.009947373\n",
      "  map@10: 0.003115817\n",
      "Epoch 18, Step 160, LR: 0.000641, Current Loss: 0.9565, Avg Loss: 0.9642\n",
      "Diff stats — min: -4.6796, max: 10.0000, mean: 2.2757, std: 2.1382\n",
      "\n",
      "Epoch 18, Step 180, LR: 0.000628, Current Loss: 0.9618, Avg Loss: 0.9639\n",
      "Diff stats — min: -4.5214, max: 10.0000, mean: 2.3633, std: 2.1916\n",
      "\n",
      "Epoch 18 completed, Train Loss: 0.000235\n",
      "\n",
      "Epoch 19, Step 1, LR: 0.000628, Current Loss: 0.9531, Avg Loss: 0.9531\n",
      "Diff stats — min: -5.2441, max: 10.0000, mean: 2.3435, std: 2.1931\n",
      "\n"
     ]
    },
    {
     "name": "stderr",
     "output_type": "stream",
     "text": [
      "/usr/local/lib/python3.11/dist-packages/pandas/core/computation/expressions.py:73: RuntimeWarning: invalid value encountered in less_equal\n",
      "  return op(a, b)\n",
      "/usr/local/lib/python3.11/dist-packages/pandas/core/arraylike.py:399: RuntimeWarning: invalid value encountered in log\n",
      "  result = getattr(ufunc, method)(*inputs, **kwargs)\n"
     ]
    },
    {
     "name": "stdout",
     "output_type": "stream",
     "text": [
      "Step 3474 — Test metrics:\n",
      "  precision@10: 0.009203224\n",
      "  recall@10: 0.009206895\n",
      "  ndcg@10: 0.009247732\n",
      "  map@10: 0.002842216\n",
      "Epoch 19, Step 20, LR: 0.000628, Current Loss: 0.9657, Avg Loss: 0.9555\n",
      "Diff stats — min: -4.9958, max: 10.0000, mean: 2.3108, std: 2.1964\n",
      "\n",
      "Epoch 19, Step 40, LR: 0.000628, Current Loss: 0.9446, Avg Loss: 0.9538\n",
      "Diff stats — min: -5.4659, max: 10.0000, mean: 2.4236, std: 2.2082\n",
      "\n"
     ]
    },
    {
     "name": "stderr",
     "output_type": "stream",
     "text": [
      "/usr/local/lib/python3.11/dist-packages/pandas/core/computation/expressions.py:73: RuntimeWarning: invalid value encountered in less_equal\n",
      "  return op(a, b)\n",
      "/usr/local/lib/python3.11/dist-packages/pandas/core/arraylike.py:399: RuntimeWarning: invalid value encountered in log\n",
      "  result = getattr(ufunc, method)(*inputs, **kwargs)\n"
     ]
    },
    {
     "name": "stdout",
     "output_type": "stream",
     "text": [
      "Step 3523 — Test metrics:\n",
      "  precision@10: 0.009520349\n",
      "  recall@10: 0.009522551\n",
      "  ndcg@10: 0.009678037\n",
      "  map@10: 0.003001660\n",
      "Epoch 19, Step 60, LR: 0.000628, Current Loss: 0.9565, Avg Loss: 0.9546\n",
      "Diff stats — min: -5.0894, max: 10.0000, mean: 2.3923, std: 2.2454\n",
      "\n",
      "Epoch 19, Step 80, LR: 0.000628, Current Loss: 0.9617, Avg Loss: 0.9542\n",
      "Diff stats — min: -6.3502, max: 10.0000, mean: 2.3483, std: 2.2127\n",
      "\n",
      "Epoch 19, Step 100, LR: 0.000628, Current Loss: 0.9579, Avg Loss: 0.9543\n",
      "Diff stats — min: -5.2137, max: 10.0000, mean: 2.3586, std: 2.2103\n",
      "\n"
     ]
    },
    {
     "name": "stderr",
     "output_type": "stream",
     "text": [
      "/usr/local/lib/python3.11/dist-packages/pandas/core/computation/expressions.py:73: RuntimeWarning: invalid value encountered in less_equal\n",
      "  return op(a, b)\n",
      "/usr/local/lib/python3.11/dist-packages/pandas/core/arraylike.py:399: RuntimeWarning: invalid value encountered in log\n",
      "  result = getattr(ufunc, method)(*inputs, **kwargs)\n"
     ]
    },
    {
     "name": "stdout",
     "output_type": "stream",
     "text": [
      "Step 3573 — Test metrics:\n",
      "  precision@10: 0.009394820\n",
      "  recall@10: 0.009398491\n",
      "  ndcg@10: 0.009553243\n",
      "  map@10: 0.002960776\n",
      "Epoch 19, Step 120, LR: 0.000628, Current Loss: 0.9522, Avg Loss: 0.9537\n",
      "Diff stats — min: -5.4960, max: 10.0000, mean: 2.3635, std: 2.1794\n",
      "\n",
      "Epoch 19, Step 140, LR: 0.000616, Current Loss: 0.9511, Avg Loss: 0.9536\n",
      "Diff stats — min: -8.2126, max: 10.0000, mean: 2.3030, std: 2.1464\n",
      "\n"
     ]
    },
    {
     "name": "stderr",
     "output_type": "stream",
     "text": [
      "/usr/local/lib/python3.11/dist-packages/pandas/core/computation/expressions.py:73: RuntimeWarning: invalid value encountered in less_equal\n",
      "  return op(a, b)\n",
      "/usr/local/lib/python3.11/dist-packages/pandas/core/arraylike.py:399: RuntimeWarning: invalid value encountered in log\n",
      "  result = getattr(ufunc, method)(*inputs, **kwargs)\n"
     ]
    },
    {
     "name": "stdout",
     "output_type": "stream",
     "text": [
      "Step 3623 — Test metrics:\n",
      "  precision@10: 0.009493922\n",
      "  recall@10: 0.009498326\n",
      "  ndcg@10: 0.009733401\n",
      "  map@10: 0.003037763\n",
      "Epoch 19, Step 160, LR: 0.000616, Current Loss: 0.9439, Avg Loss: 0.9530\n",
      "Diff stats — min: -5.3184, max: 10.0000, mean: 2.4379, std: 2.2328\n",
      "\n",
      "Epoch 19, Step 180, LR: 0.000616, Current Loss: 0.9572, Avg Loss: 0.9535\n",
      "Diff stats — min: -5.4256, max: 10.0000, mean: 2.4397, std: 2.2883\n",
      "\n",
      "Epoch 19 completed, Train Loss: 0.000233\n",
      "\n",
      "Epoch 20, Step 1, LR: 0.000616, Current Loss: 0.9455, Avg Loss: 0.9455\n",
      "Diff stats — min: -6.0664, max: 10.0000, mean: 2.4335, std: 2.2262\n",
      "\n"
     ]
    },
    {
     "name": "stderr",
     "output_type": "stream",
     "text": [
      "/usr/local/lib/python3.11/dist-packages/pandas/core/computation/expressions.py:73: RuntimeWarning: invalid value encountered in less_equal\n",
      "  return op(a, b)\n",
      "/usr/local/lib/python3.11/dist-packages/pandas/core/arraylike.py:399: RuntimeWarning: invalid value encountered in log\n",
      "  result = getattr(ufunc, method)(*inputs, **kwargs)\n"
     ]
    },
    {
     "name": "stdout",
     "output_type": "stream",
     "text": [
      "Step 3667 — Test metrics:\n",
      "  precision@10: 0.009929968\n",
      "  recall@10: 0.009935107\n",
      "  ndcg@10: 0.010066552\n",
      "  map@10: 0.003124112\n",
      "Epoch 20, Step 20, LR: 0.000616, Current Loss: 0.9600, Avg Loss: 0.9476\n",
      "Diff stats — min: -6.3654, max: 10.0000, mean: 2.4514, std: 2.2732\n",
      "\n",
      "Epoch 20, Step 40, LR: 0.000616, Current Loss: 0.9443, Avg Loss: 0.9456\n",
      "Diff stats — min: -5.2328, max: 10.0000, mean: 2.4953, std: 2.2767\n",
      "\n"
     ]
    },
    {
     "name": "stderr",
     "output_type": "stream",
     "text": [
      "/usr/local/lib/python3.11/dist-packages/pandas/core/computation/expressions.py:73: RuntimeWarning: invalid value encountered in less_equal\n",
      "  return op(a, b)\n",
      "/usr/local/lib/python3.11/dist-packages/pandas/core/arraylike.py:399: RuntimeWarning: invalid value encountered in log\n",
      "  result = getattr(ufunc, method)(*inputs, **kwargs)\n"
     ]
    },
    {
     "name": "stdout",
     "output_type": "stream",
     "text": [
      "Step 3716 — Test metrics:\n",
      "  precision@10: 0.009705338\n",
      "  recall@10: 0.009710477\n",
      "  ndcg@10: 0.009865104\n",
      "  map@10: 0.003059997\n",
      "Epoch 20, Step 60, LR: 0.000616, Current Loss: 0.9566, Avg Loss: 0.9470\n",
      "Diff stats — min: -5.3440, max: 10.0000, mean: 2.4522, std: 2.2376\n",
      "\n",
      "Epoch 20, Step 80, LR: 0.000616, Current Loss: 0.9560, Avg Loss: 0.9466\n",
      "Diff stats — min: -5.5668, max: 10.0000, mean: 2.4452, std: 2.2964\n",
      "\n",
      "Epoch 20, Step 100, LR: 0.000603, Current Loss: 0.9434, Avg Loss: 0.9461\n",
      "Diff stats — min: -5.4594, max: 10.0000, mean: 2.5009, std: 2.3198\n",
      "\n"
     ]
    },
    {
     "name": "stderr",
     "output_type": "stream",
     "text": [
      "/usr/local/lib/python3.11/dist-packages/pandas/core/computation/expressions.py:73: RuntimeWarning: invalid value encountered in less_equal\n",
      "  return op(a, b)\n",
      "/usr/local/lib/python3.11/dist-packages/pandas/core/arraylike.py:399: RuntimeWarning: invalid value encountered in log\n",
      "  result = getattr(ufunc, method)(*inputs, **kwargs)\n"
     ]
    },
    {
     "name": "stdout",
     "output_type": "stream",
     "text": [
      "Step 3766 — Test metrics:\n",
      "  precision@10: 0.009626057\n",
      "  recall@10: 0.009629728\n",
      "  ndcg@10: 0.009802551\n",
      "  map@10: 0.003042637\n",
      "Epoch 20, Step 120, LR: 0.000603, Current Loss: 0.9425, Avg Loss: 0.9454\n",
      "Diff stats — min: -4.7106, max: 10.0000, mean: 2.5223, std: 2.2868\n",
      "\n",
      "Epoch 20, Step 140, LR: 0.000603, Current Loss: 0.9273, Avg Loss: 0.9449\n",
      "Diff stats — min: -5.0971, max: 10.0000, mean: 2.5118, std: 2.2639\n",
      "\n"
     ]
    },
    {
     "name": "stderr",
     "output_type": "stream",
     "text": [
      "/usr/local/lib/python3.11/dist-packages/pandas/core/computation/expressions.py:73: RuntimeWarning: invalid value encountered in less_equal\n",
      "  return op(a, b)\n",
      "/usr/local/lib/python3.11/dist-packages/pandas/core/arraylike.py:399: RuntimeWarning: invalid value encountered in log\n",
      "  result = getattr(ufunc, method)(*inputs, **kwargs)\n"
     ]
    },
    {
     "name": "stdout",
     "output_type": "stream",
     "text": [
      "Step 3816 — Test metrics:\n",
      "  precision@10: 0.009678911\n",
      "  recall@10: 0.009683316\n",
      "  ndcg@10: 0.009868713\n",
      "  map@10: 0.003070709\n",
      "Epoch 20, Step 160, LR: 0.000603, Current Loss: 0.9364, Avg Loss: 0.9451\n",
      "Diff stats — min: -5.4955, max: 10.0000, mean: 2.5336, std: 2.2360\n",
      "\n",
      "Epoch 20, Step 180, LR: 0.000603, Current Loss: 0.9574, Avg Loss: 0.9452\n",
      "Diff stats — min: -5.4409, max: 10.0000, mean: 2.4597, std: 2.2988\n",
      "\n",
      "Epoch 20 completed, Train Loss: 0.000231\n",
      "\n",
      "Epoch 21, Step 1, LR: 0.000603, Current Loss: 0.9420, Avg Loss: 0.9420\n",
      "Diff stats — min: -5.3976, max: 10.0000, mean: 2.5188, std: 2.2601\n",
      "\n"
     ]
    },
    {
     "name": "stderr",
     "output_type": "stream",
     "text": [
      "/usr/local/lib/python3.11/dist-packages/pandas/core/computation/expressions.py:73: RuntimeWarning: invalid value encountered in less_equal\n",
      "  return op(a, b)\n",
      "/usr/local/lib/python3.11/dist-packages/pandas/core/arraylike.py:399: RuntimeWarning: invalid value encountered in log\n",
      "  result = getattr(ufunc, method)(*inputs, **kwargs)\n"
     ]
    },
    {
     "name": "stdout",
     "output_type": "stream",
     "text": [
      "Step 3860 — Test metrics:\n",
      "  precision@10: 0.009731765\n",
      "  recall@10: 0.009736904\n",
      "  ndcg@10: 0.009879030\n",
      "  map@10: 0.003051591\n",
      "Epoch 21, Step 20, LR: 0.000603, Current Loss: 0.9468, Avg Loss: 0.9417\n",
      "Diff stats — min: -5.8986, max: 10.0000, mean: 2.5059, std: 2.2980\n",
      "\n",
      "Epoch 21, Step 40, LR: 0.000603, Current Loss: 0.9398, Avg Loss: 0.9386\n",
      "Diff stats — min: -7.2917, max: 10.0000, mean: 2.5793, std: 2.3228\n",
      "\n"
     ]
    },
    {
     "name": "stderr",
     "output_type": "stream",
     "text": [
      "/usr/local/lib/python3.11/dist-packages/pandas/core/computation/expressions.py:73: RuntimeWarning: invalid value encountered in less_equal\n",
      "  return op(a, b)\n",
      "/usr/local/lib/python3.11/dist-packages/pandas/core/arraylike.py:399: RuntimeWarning: invalid value encountered in log\n",
      "  result = getattr(ufunc, method)(*inputs, **kwargs)\n"
     ]
    },
    {
     "name": "stdout",
     "output_type": "stream",
     "text": [
      "Step 3909 — Test metrics:\n",
      "  precision@10: 0.009738372\n",
      "  recall@10: 0.009742043\n",
      "  ndcg@10: 0.010008565\n",
      "  map@10: 0.003136919\n",
      "Epoch 21, Step 60, LR: 0.000591, Current Loss: 0.9428, Avg Loss: 0.9382\n",
      "Diff stats — min: -7.2408, max: 10.0000, mean: 2.5686, std: 2.3406\n",
      "\n",
      "Epoch 21, Step 80, LR: 0.000591, Current Loss: 0.9461, Avg Loss: 0.9387\n",
      "Diff stats — min: -7.7337, max: 10.0000, mean: 2.4270, std: 2.2619\n",
      "\n",
      "Epoch 21, Step 100, LR: 0.000591, Current Loss: 0.9521, Avg Loss: 0.9389\n",
      "Diff stats — min: -5.3093, max: 10.0000, mean: 2.5252, std: 2.3302\n",
      "\n"
     ]
    },
    {
     "name": "stderr",
     "output_type": "stream",
     "text": [
      "/usr/local/lib/python3.11/dist-packages/pandas/core/computation/expressions.py:73: RuntimeWarning: invalid value encountered in less_equal\n",
      "  return op(a, b)\n",
      "/usr/local/lib/python3.11/dist-packages/pandas/core/arraylike.py:399: RuntimeWarning: invalid value encountered in log\n",
      "  result = getattr(ufunc, method)(*inputs, **kwargs)\n"
     ]
    },
    {
     "name": "stdout",
     "output_type": "stream",
     "text": [
      "Step 3959 — Test metrics:\n",
      "  precision@10: 0.009176797\n",
      "  recall@10: 0.009181202\n",
      "  ndcg@10: 0.009387395\n",
      "  map@10: 0.002920491\n",
      "Epoch 21, Step 120, LR: 0.000591, Current Loss: 0.9422, Avg Loss: 0.9386\n",
      "Diff stats — min: -4.6228, max: 10.0000, mean: 2.5706, std: 2.3089\n",
      "\n",
      "Epoch 21, Step 140, LR: 0.000591, Current Loss: 0.9182, Avg Loss: 0.9380\n",
      "Diff stats — min: -4.6627, max: 10.0000, mean: 2.6139, std: 2.3118\n",
      "\n"
     ]
    },
    {
     "name": "stderr",
     "output_type": "stream",
     "text": [
      "/usr/local/lib/python3.11/dist-packages/pandas/core/computation/expressions.py:73: RuntimeWarning: invalid value encountered in less_equal\n",
      "  return op(a, b)\n",
      "/usr/local/lib/python3.11/dist-packages/pandas/core/arraylike.py:399: RuntimeWarning: invalid value encountered in log\n",
      "  result = getattr(ufunc, method)(*inputs, **kwargs)\n"
     ]
    },
    {
     "name": "stdout",
     "output_type": "stream",
     "text": [
      "Step 4009 — Test metrics:\n",
      "  precision@10: 0.009487315\n",
      "  recall@10: 0.009491720\n",
      "  ndcg@10: 0.009666853\n",
      "  map@10: 0.003004028\n",
      "Epoch 21, Step 160, LR: 0.000591, Current Loss: 0.9357, Avg Loss: 0.9377\n",
      "Diff stats — min: -7.6995, max: 10.0000, mean: 2.5900, std: 2.3305\n",
      "\n",
      "Epoch 21, Step 180, LR: 0.000591, Current Loss: 0.9384, Avg Loss: 0.9374\n",
      "Diff stats — min: -6.3207, max: 10.0000, mean: 2.5716, std: 2.3296\n",
      "\n",
      "Epoch 21 completed, Train Loss: 0.000229\n",
      "\n",
      "Epoch 22, Step 1, LR: 0.000580, Current Loss: 0.9279, Avg Loss: 0.9279\n",
      "Diff stats — min: -5.0742, max: 10.0000, mean: 2.6153, std: 2.3372\n",
      "\n"
     ]
    },
    {
     "name": "stderr",
     "output_type": "stream",
     "text": [
      "/usr/local/lib/python3.11/dist-packages/pandas/core/computation/expressions.py:73: RuntimeWarning: invalid value encountered in less_equal\n",
      "  return op(a, b)\n",
      "/usr/local/lib/python3.11/dist-packages/pandas/core/arraylike.py:399: RuntimeWarning: invalid value encountered in log\n",
      "  result = getattr(ufunc, method)(*inputs, **kwargs)\n"
     ]
    },
    {
     "name": "stdout",
     "output_type": "stream",
     "text": [
      "Step 4053 — Test metrics:\n",
      "  precision@10: 0.009830867\n",
      "  recall@10: 0.009836005\n",
      "  ndcg@10: 0.009948661\n",
      "  map@10: 0.003062519\n",
      "Epoch 22, Step 20, LR: 0.000580, Current Loss: 0.9406, Avg Loss: 0.9311\n",
      "Diff stats — min: -6.0791, max: 10.0000, mean: 2.5941, std: 2.3593\n",
      "\n",
      "Epoch 22, Step 40, LR: 0.000580, Current Loss: 0.9178, Avg Loss: 0.9315\n",
      "Diff stats — min: -4.9908, max: 10.0000, mean: 2.6254, std: 2.3192\n",
      "\n"
     ]
    },
    {
     "name": "stderr",
     "output_type": "stream",
     "text": [
      "/usr/local/lib/python3.11/dist-packages/pandas/core/computation/expressions.py:73: RuntimeWarning: invalid value encountered in less_equal\n",
      "  return op(a, b)\n",
      "/usr/local/lib/python3.11/dist-packages/pandas/core/arraylike.py:399: RuntimeWarning: invalid value encountered in log\n",
      "  result = getattr(ufunc, method)(*inputs, **kwargs)\n"
     ]
    },
    {
     "name": "stdout",
     "output_type": "stream",
     "text": [
      "Step 4102 — Test metrics:\n",
      "  precision@10: 0.009923362\n",
      "  recall@10: 0.009927766\n",
      "  ndcg@10: 0.010027064\n",
      "  map@10: 0.003094569\n",
      "Epoch 22, Step 60, LR: 0.000580, Current Loss: 0.9387, Avg Loss: 0.9312\n",
      "Diff stats — min: -6.0258, max: 10.0000, mean: 2.6155, std: 2.3253\n",
      "\n",
      "Epoch 22, Step 80, LR: 0.000580, Current Loss: 0.9480, Avg Loss: 0.9308\n",
      "Diff stats — min: -6.5281, max: 10.0000, mean: 2.5492, std: 2.3723\n",
      "\n",
      "Epoch 22, Step 100, LR: 0.000580, Current Loss: 0.9136, Avg Loss: 0.9301\n",
      "Diff stats — min: -6.6089, max: 10.0000, mean: 2.6659, std: 2.3163\n",
      "\n"
     ]
    },
    {
     "name": "stderr",
     "output_type": "stream",
     "text": [
      "/usr/local/lib/python3.11/dist-packages/pandas/core/computation/expressions.py:73: RuntimeWarning: invalid value encountered in less_equal\n",
      "  return op(a, b)\n",
      "/usr/local/lib/python3.11/dist-packages/pandas/core/arraylike.py:399: RuntimeWarning: invalid value encountered in log\n",
      "  result = getattr(ufunc, method)(*inputs, **kwargs)\n"
     ]
    },
    {
     "name": "stdout",
     "output_type": "stream",
     "text": [
      "Step 4152 — Test metrics:\n",
      "  precision@10: 0.010154598\n",
      "  recall@10: 0.010159003\n",
      "  ndcg@10: 0.010354744\n",
      "  map@10: 0.003223950\n",
      "Epoch 22, Step 120, LR: 0.000580, Current Loss: 0.9106, Avg Loss: 0.9291\n",
      "Diff stats — min: -4.7110, max: 10.0000, mean: 2.7086, std: 2.3897\n",
      "\n",
      "Epoch 22, Step 140, LR: 0.000580, Current Loss: 0.9315, Avg Loss: 0.9291\n",
      "Diff stats — min: -6.5772, max: 10.0000, mean: 2.6630, std: 2.3733\n",
      "\n"
     ]
    },
    {
     "name": "stderr",
     "output_type": "stream",
     "text": [
      "/usr/local/lib/python3.11/dist-packages/pandas/core/computation/expressions.py:73: RuntimeWarning: invalid value encountered in less_equal\n",
      "  return op(a, b)\n",
      "/usr/local/lib/python3.11/dist-packages/pandas/core/arraylike.py:399: RuntimeWarning: invalid value encountered in log\n",
      "  result = getattr(ufunc, method)(*inputs, **kwargs)\n"
     ]
    },
    {
     "name": "stdout",
     "output_type": "stream",
     "text": [
      "Step 4202 — Test metrics:\n",
      "  precision@10: 0.010392442\n",
      "  recall@10: 0.010398315\n",
      "  ndcg@10: 0.010594522\n",
      "  map@10: 0.003296947\n",
      "Epoch 22, Step 160, LR: 0.000568, Current Loss: 0.9216, Avg Loss: 0.9292\n",
      "Diff stats — min: -5.4173, max: 10.0000, mean: 2.6553, std: 2.3290\n",
      "\n",
      "Epoch 22, Step 180, LR: 0.000568, Current Loss: 0.9216, Avg Loss: 0.9289\n",
      "Diff stats — min: -4.4265, max: 10.0000, mean: 2.7315, std: 2.3907\n",
      "\n",
      "Epoch 22 completed, Train Loss: 0.000227\n",
      "\n",
      "Epoch 23, Step 1, LR: 0.000568, Current Loss: 0.9186, Avg Loss: 0.9186\n",
      "Diff stats — min: -4.8119, max: 10.0000, mean: 2.6378, std: 2.2897\n",
      "\n"
     ]
    },
    {
     "name": "stderr",
     "output_type": "stream",
     "text": [
      "/usr/local/lib/python3.11/dist-packages/pandas/core/computation/expressions.py:73: RuntimeWarning: invalid value encountered in less_equal\n",
      "  return op(a, b)\n",
      "/usr/local/lib/python3.11/dist-packages/pandas/core/arraylike.py:399: RuntimeWarning: invalid value encountered in log\n",
      "  result = getattr(ufunc, method)(*inputs, **kwargs)\n"
     ]
    },
    {
     "name": "stdout",
     "output_type": "stream",
     "text": [
      "Step 4246 — Test metrics:\n",
      "  precision@10: 0.010544397\n",
      "  recall@10: 0.010549536\n",
      "  ndcg@10: 0.010772627\n",
      "  map@10: 0.003367619\n",
      "Epoch 23, Step 20, LR: 0.000568, Current Loss: 0.9365, Avg Loss: 0.9236\n",
      "Diff stats — min: -5.4336, max: 10.0000, mean: 2.7043, std: 2.4044\n",
      "\n",
      "Epoch 23, Step 40, LR: 0.000568, Current Loss: 0.9199, Avg Loss: 0.9244\n",
      "Diff stats — min: -6.3024, max: 10.0000, mean: 2.7472, std: 2.3948\n",
      "\n"
     ]
    },
    {
     "name": "stderr",
     "output_type": "stream",
     "text": [
      "/usr/local/lib/python3.11/dist-packages/pandas/core/computation/expressions.py:73: RuntimeWarning: invalid value encountered in less_equal\n",
      "  return op(a, b)\n",
      "/usr/local/lib/python3.11/dist-packages/pandas/core/arraylike.py:399: RuntimeWarning: invalid value encountered in log\n",
      "  result = getattr(ufunc, method)(*inputs, **kwargs)\n"
     ]
    },
    {
     "name": "stdout",
     "output_type": "stream",
     "text": [
      "Step 4295 — Test metrics:\n",
      "  precision@10: 0.010002643\n",
      "  recall@10: 0.010007781\n",
      "  ndcg@10: 0.010151419\n",
      "  map@10: 0.003156009\n",
      "Epoch 23, Step 60, LR: 0.000568, Current Loss: 0.9430, Avg Loss: 0.9246\n",
      "Diff stats — min: -4.8489, max: 10.0000, mean: 2.7236, std: 2.4839\n",
      "\n",
      "Epoch 23, Step 80, LR: 0.000568, Current Loss: 0.9261, Avg Loss: 0.9248\n",
      "Diff stats — min: -6.1056, max: 10.0000, mean: 2.7348, std: 2.3926\n",
      "\n",
      "Epoch 23, Step 100, LR: 0.000568, Current Loss: 0.9243, Avg Loss: 0.9241\n",
      "Diff stats — min: -6.8453, max: 10.0000, mean: 2.7496, std: 2.4127\n",
      "\n"
     ]
    },
    {
     "name": "stderr",
     "output_type": "stream",
     "text": [
      "/usr/local/lib/python3.11/dist-packages/pandas/core/computation/expressions.py:73: RuntimeWarning: invalid value encountered in less_equal\n",
      "  return op(a, b)\n",
      "/usr/local/lib/python3.11/dist-packages/pandas/core/arraylike.py:399: RuntimeWarning: invalid value encountered in log\n",
      "  result = getattr(ufunc, method)(*inputs, **kwargs)\n"
     ]
    },
    {
     "name": "stdout",
     "output_type": "stream",
     "text": [
      "Step 4345 — Test metrics:\n",
      "  precision@10: 0.010207452\n",
      "  recall@10: 0.010211857\n",
      "  ndcg@10: 0.010288333\n",
      "  map@10: 0.003183956\n",
      "Epoch 23, Step 120, LR: 0.000557, Current Loss: 0.9270, Avg Loss: 0.9244\n",
      "Diff stats — min: -7.0335, max: 10.0000, mean: 2.7742, std: 2.4229\n",
      "\n",
      "Epoch 23, Step 140, LR: 0.000557, Current Loss: 0.9250, Avg Loss: 0.9240\n",
      "Diff stats — min: -4.6586, max: 10.0000, mean: 2.7742, std: 2.4047\n",
      "\n"
     ]
    },
    {
     "name": "stderr",
     "output_type": "stream",
     "text": [
      "/usr/local/lib/python3.11/dist-packages/pandas/core/computation/expressions.py:73: RuntimeWarning: invalid value encountered in less_equal\n",
      "  return op(a, b)\n",
      "/usr/local/lib/python3.11/dist-packages/pandas/core/arraylike.py:399: RuntimeWarning: invalid value encountered in log\n",
      "  result = getattr(ufunc, method)(*inputs, **kwargs)\n"
     ]
    },
    {
     "name": "stdout",
     "output_type": "stream",
     "text": [
      "Step 4395 — Test metrics:\n",
      "  precision@10: 0.010266913\n",
      "  recall@10: 0.010272052\n",
      "  ndcg@10: 0.010487375\n",
      "  map@10: 0.003281499\n",
      "Epoch 23, Step 160, LR: 0.000557, Current Loss: 0.9299, Avg Loss: 0.9238\n",
      "Diff stats — min: -6.3272, max: 10.0000, mean: 2.7416, std: 2.4243\n",
      "\n",
      "Epoch 23, Step 180, LR: 0.000557, Current Loss: 0.9322, Avg Loss: 0.9239\n",
      "Diff stats — min: -5.5856, max: 10.0000, mean: 2.7154, std: 2.4219\n",
      "\n",
      "Epoch 23 completed, Train Loss: 0.000226\n",
      "\n",
      "Epoch 24, Step 1, LR: 0.000557, Current Loss: 0.9248, Avg Loss: 0.9248\n",
      "Diff stats — min: -5.4098, max: 10.0000, mean: 2.7726, std: 2.4665\n",
      "\n"
     ]
    },
    {
     "name": "stderr",
     "output_type": "stream",
     "text": [
      "/usr/local/lib/python3.11/dist-packages/pandas/core/computation/expressions.py:73: RuntimeWarning: invalid value encountered in less_equal\n",
      "  return op(a, b)\n",
      "/usr/local/lib/python3.11/dist-packages/pandas/core/arraylike.py:399: RuntimeWarning: invalid value encountered in log\n",
      "  result = getattr(ufunc, method)(*inputs, **kwargs)\n"
     ]
    },
    {
     "name": "stdout",
     "output_type": "stream",
     "text": [
      "Step 4439 — Test metrics:\n",
      "  precision@10: 0.010081924\n",
      "  recall@10: 0.010086328\n",
      "  ndcg@10: 0.010200935\n",
      "  map@10: 0.003156359\n",
      "Epoch 24, Step 20, LR: 0.000557, Current Loss: 0.9128, Avg Loss: 0.9176\n",
      "Diff stats — min: -5.1114, max: 10.0000, mean: 2.8106, std: 2.4364\n",
      "\n",
      "Epoch 24, Step 40, LR: 0.000557, Current Loss: 0.9130, Avg Loss: 0.9175\n",
      "Diff stats — min: -5.9678, max: 10.0000, mean: 2.7699, std: 2.3782\n",
      "\n"
     ]
    },
    {
     "name": "stderr",
     "output_type": "stream",
     "text": [
      "/usr/local/lib/python3.11/dist-packages/pandas/core/computation/expressions.py:73: RuntimeWarning: invalid value encountered in less_equal\n",
      "  return op(a, b)\n",
      "/usr/local/lib/python3.11/dist-packages/pandas/core/arraylike.py:399: RuntimeWarning: invalid value encountered in log\n",
      "  result = getattr(ufunc, method)(*inputs, **kwargs)\n"
     ]
    },
    {
     "name": "stdout",
     "output_type": "stream",
     "text": [
      "Step 4488 — Test metrics:\n",
      "  precision@10: 0.010167812\n",
      "  recall@10: 0.010173685\n",
      "  ndcg@10: 0.010258073\n",
      "  map@10: 0.003173376\n",
      "Epoch 24, Step 60, LR: 0.000557, Current Loss: 0.9203, Avg Loss: 0.9164\n",
      "Diff stats — min: -5.1026, max: 10.0000, mean: 2.7279, std: 2.4330\n",
      "\n",
      "Epoch 24, Step 80, LR: 0.000545, Current Loss: 0.9247, Avg Loss: 0.9164\n",
      "Diff stats — min: -5.6214, max: 10.0000, mean: 2.7659, std: 2.4066\n",
      "\n",
      "Epoch 24, Step 100, LR: 0.000545, Current Loss: 0.9150, Avg Loss: 0.9160\n",
      "Diff stats — min: -6.1226, max: 10.0000, mean: 2.8214, std: 2.4370\n",
      "\n"
     ]
    },
    {
     "name": "stderr",
     "output_type": "stream",
     "text": [
      "/usr/local/lib/python3.11/dist-packages/pandas/core/computation/expressions.py:73: RuntimeWarning: invalid value encountered in less_equal\n",
      "  return op(a, b)\n",
      "/usr/local/lib/python3.11/dist-packages/pandas/core/arraylike.py:399: RuntimeWarning: invalid value encountered in log\n",
      "  result = getattr(ufunc, method)(*inputs, **kwargs)\n"
     ]
    },
    {
     "name": "stdout",
     "output_type": "stream",
     "text": [
      "Step 4538 — Test metrics:\n",
      "  precision@10: 0.009830867\n",
      "  recall@10: 0.009835271\n",
      "  ndcg@10: 0.010026251\n",
      "  map@10: 0.003120541\n",
      "Epoch 24, Step 120, LR: 0.000545, Current Loss: 0.9146, Avg Loss: 0.9156\n",
      "Diff stats — min: -5.0584, max: 10.0000, mean: 2.7823, std: 2.4393\n",
      "\n",
      "Epoch 24, Step 140, LR: 0.000545, Current Loss: 0.9044, Avg Loss: 0.9159\n",
      "Diff stats — min: -4.7524, max: 10.0000, mean: 2.8377, std: 2.4300\n",
      "\n"
     ]
    },
    {
     "name": "stderr",
     "output_type": "stream",
     "text": [
      "/usr/local/lib/python3.11/dist-packages/pandas/core/computation/expressions.py:73: RuntimeWarning: invalid value encountered in less_equal\n",
      "  return op(a, b)\n",
      "/usr/local/lib/python3.11/dist-packages/pandas/core/arraylike.py:399: RuntimeWarning: invalid value encountered in log\n",
      "  result = getattr(ufunc, method)(*inputs, **kwargs)\n"
     ]
    },
    {
     "name": "stdout",
     "output_type": "stream",
     "text": [
      "Step 4588 — Test metrics:\n",
      "  precision@10: 0.009910148\n",
      "  recall@10: 0.009916021\n",
      "  ndcg@10: 0.009994763\n",
      "  map@10: 0.003085621\n",
      "Epoch 24, Step 160, LR: 0.000545, Current Loss: 0.9172, Avg Loss: 0.9162\n",
      "Diff stats — min: -6.1287, max: 10.0000, mean: 2.8964, std: 2.4653\n",
      "\n",
      "Epoch 24, Step 180, LR: 0.000545, Current Loss: 0.9059, Avg Loss: 0.9159\n",
      "Diff stats — min: -6.2789, max: 10.0000, mean: 2.8393, std: 2.4655\n",
      "\n",
      "Epoch 24 completed, Train Loss: 0.000224\n",
      "\n",
      "Epoch 25, Step 1, LR: 0.000545, Current Loss: 0.9139, Avg Loss: 0.9139\n",
      "Diff stats — min: -6.7470, max: 10.0000, mean: 2.8558, std: 2.4827\n",
      "\n"
     ]
    },
    {
     "name": "stderr",
     "output_type": "stream",
     "text": [
      "/usr/local/lib/python3.11/dist-packages/pandas/core/computation/expressions.py:73: RuntimeWarning: invalid value encountered in less_equal\n",
      "  return op(a, b)\n",
      "/usr/local/lib/python3.11/dist-packages/pandas/core/arraylike.py:399: RuntimeWarning: invalid value encountered in log\n",
      "  result = getattr(ufunc, method)(*inputs, **kwargs)\n"
     ]
    },
    {
     "name": "stdout",
     "output_type": "stream",
     "text": [
      "Step 4632 — Test metrics:\n",
      "  precision@10: 0.010683140\n",
      "  recall@10: 0.010688278\n",
      "  ndcg@10: 0.010815684\n",
      "  map@10: 0.003353547\n",
      "Epoch 25, Step 20, LR: 0.000535, Current Loss: 0.9140, Avg Loss: 0.9131\n",
      "Diff stats — min: -5.3044, max: 10.0000, mean: 2.9075, std: 2.5090\n",
      "\n",
      "Epoch 25, Step 40, LR: 0.000535, Current Loss: 0.9295, Avg Loss: 0.9122\n",
      "Diff stats — min: -5.7093, max: 10.0000, mean: 2.9049, std: 2.5516\n",
      "\n"
     ]
    },
    {
     "name": "stderr",
     "output_type": "stream",
     "text": [
      "/usr/local/lib/python3.11/dist-packages/pandas/core/computation/expressions.py:73: RuntimeWarning: invalid value encountered in less_equal\n",
      "  return op(a, b)\n",
      "/usr/local/lib/python3.11/dist-packages/pandas/core/arraylike.py:399: RuntimeWarning: invalid value encountered in log\n",
      "  result = getattr(ufunc, method)(*inputs, **kwargs)\n"
     ]
    },
    {
     "name": "stdout",
     "output_type": "stream",
     "text": [
      "Step 4681 — Test metrics:\n",
      "  precision@10: 0.010081924\n",
      "  recall@10: 0.010087797\n",
      "  ndcg@10: 0.010140674\n",
      "  map@10: 0.003116161\n",
      "Epoch 25, Step 60, LR: 0.000535, Current Loss: 0.9176, Avg Loss: 0.9125\n",
      "Diff stats — min: -7.2225, max: 10.0000, mean: 2.8957, std: 2.4834\n",
      "\n",
      "Epoch 25, Step 80, LR: 0.000535, Current Loss: 0.9102, Avg Loss: 0.9116\n",
      "Diff stats — min: -6.5067, max: 10.0000, mean: 2.8768, std: 2.4718\n",
      "\n",
      "Epoch 25, Step 100, LR: 0.000535, Current Loss: 0.9450, Avg Loss: 0.9121\n",
      "Diff stats — min: -5.8943, max: 10.0000, mean: 2.8661, std: 2.5447\n",
      "\n"
     ]
    },
    {
     "name": "stderr",
     "output_type": "stream",
     "text": [
      "/usr/local/lib/python3.11/dist-packages/pandas/core/computation/expressions.py:73: RuntimeWarning: invalid value encountered in less_equal\n",
      "  return op(a, b)\n",
      "/usr/local/lib/python3.11/dist-packages/pandas/core/arraylike.py:399: RuntimeWarning: invalid value encountered in log\n",
      "  result = getattr(ufunc, method)(*inputs, **kwargs)\n"
     ]
    },
    {
     "name": "stdout",
     "output_type": "stream",
     "text": [
      "Step 4731 — Test metrics:\n",
      "  precision@10: 0.010405655\n",
      "  recall@10: 0.010411528\n",
      "  ndcg@10: 0.010466849\n",
      "  map@10: 0.003236600\n",
      "Epoch 25, Step 120, LR: 0.000535, Current Loss: 0.9097, Avg Loss: 0.9113\n",
      "Diff stats — min: -5.5501, max: 10.0000, mean: 2.8582, std: 2.5073\n",
      "\n",
      "Epoch 25, Step 140, LR: 0.000535, Current Loss: 0.9274, Avg Loss: 0.9114\n",
      "Diff stats — min: -6.6120, max: 10.0000, mean: 2.8766, std: 2.5524\n",
      "\n"
     ]
    },
    {
     "name": "stderr",
     "output_type": "stream",
     "text": [
      "/usr/local/lib/python3.11/dist-packages/pandas/core/computation/expressions.py:73: RuntimeWarning: invalid value encountered in less_equal\n",
      "  return op(a, b)\n",
      "/usr/local/lib/python3.11/dist-packages/pandas/core/arraylike.py:399: RuntimeWarning: invalid value encountered in log\n",
      "  result = getattr(ufunc, method)(*inputs, **kwargs)\n"
     ]
    },
    {
     "name": "stdout",
     "output_type": "stream",
     "text": [
      "Step 4781 — Test metrics:\n",
      "  precision@10: 0.010412262\n",
      "  recall@10: 0.010416667\n",
      "  ndcg@10: 0.010560483\n",
      "  map@10: 0.003288243\n",
      "Epoch 25, Step 160, LR: 0.000535, Current Loss: 0.8989, Avg Loss: 0.9111\n",
      "Diff stats — min: -6.0193, max: 10.0000, mean: 2.9645, std: 2.4456\n",
      "\n",
      "Epoch 25, Step 180, LR: 0.000524, Current Loss: 0.9037, Avg Loss: 0.9110\n",
      "Diff stats — min: -5.8396, max: 10.0000, mean: 2.8947, std: 2.4611\n",
      "\n",
      "Epoch 25 completed, Train Loss: 0.000223\n",
      "\n",
      "Epoch 26, Step 1, LR: 0.000524, Current Loss: 0.9151, Avg Loss: 0.9151\n",
      "Diff stats — min: -5.3722, max: 10.0000, mean: 2.8589, std: 2.4781\n",
      "\n"
     ]
    },
    {
     "name": "stderr",
     "output_type": "stream",
     "text": [
      "/usr/local/lib/python3.11/dist-packages/pandas/core/computation/expressions.py:73: RuntimeWarning: invalid value encountered in less_equal\n",
      "  return op(a, b)\n",
      "/usr/local/lib/python3.11/dist-packages/pandas/core/arraylike.py:399: RuntimeWarning: invalid value encountered in log\n",
      "  result = getattr(ufunc, method)(*inputs, **kwargs)\n"
     ]
    },
    {
     "name": "stdout",
     "output_type": "stream",
     "text": [
      "Step 4825 — Test metrics:\n",
      "  precision@10: 0.010266913\n",
      "  recall@10: 0.010272052\n",
      "  ndcg@10: 0.010409322\n",
      "  map@10: 0.003243060\n",
      "Epoch 26, Step 20, LR: 0.000524, Current Loss: 0.9258, Avg Loss: 0.9066\n",
      "Diff stats — min: -6.3248, max: 10.0000, mean: 2.8694, std: 2.5342\n",
      "\n",
      "Epoch 26, Step 40, LR: 0.000524, Current Loss: 0.9039, Avg Loss: 0.9052\n",
      "Diff stats — min: -5.4569, max: 10.0000, mean: 2.9602, std: 2.5236\n",
      "\n"
     ]
    },
    {
     "name": "stderr",
     "output_type": "stream",
     "text": [
      "/usr/local/lib/python3.11/dist-packages/pandas/core/computation/expressions.py:73: RuntimeWarning: invalid value encountered in less_equal\n",
      "  return op(a, b)\n",
      "/usr/local/lib/python3.11/dist-packages/pandas/core/arraylike.py:399: RuntimeWarning: invalid value encountered in log\n",
      "  result = getattr(ufunc, method)(*inputs, **kwargs)\n"
     ]
    },
    {
     "name": "stdout",
     "output_type": "stream",
     "text": [
      "Step 4874 — Test metrics:\n",
      "  precision@10: 0.010445296\n",
      "  recall@10: 0.010451169\n",
      "  ndcg@10: 0.010925212\n",
      "  map@10: 0.003490518\n",
      "Epoch 26, Step 60, LR: 0.000524, Current Loss: 0.9085, Avg Loss: 0.9054\n",
      "Diff stats — min: -5.4572, max: 10.0000, mean: 2.9294, std: 2.4900\n",
      "\n",
      "Epoch 26, Step 80, LR: 0.000524, Current Loss: 0.8967, Avg Loss: 0.9056\n",
      "Diff stats — min: -5.1698, max: 10.0000, mean: 2.9688, std: 2.4907\n",
      "\n",
      "Epoch 26, Step 100, LR: 0.000524, Current Loss: 0.8956, Avg Loss: 0.9053\n",
      "Diff stats — min: -6.8437, max: 10.0000, mean: 2.9789, std: 2.5135\n",
      "\n"
     ]
    },
    {
     "name": "stderr",
     "output_type": "stream",
     "text": [
      "/usr/local/lib/python3.11/dist-packages/pandas/core/computation/expressions.py:73: RuntimeWarning: invalid value encountered in less_equal\n",
      "  return op(a, b)\n",
      "/usr/local/lib/python3.11/dist-packages/pandas/core/arraylike.py:399: RuntimeWarning: invalid value encountered in log\n",
      "  result = getattr(ufunc, method)(*inputs, **kwargs)\n"
     ]
    },
    {
     "name": "stdout",
     "output_type": "stream",
     "text": [
      "Step 4924 — Test metrics:\n",
      "  precision@10: 0.010465116\n",
      "  recall@10: 0.010471723\n",
      "  ndcg@10: 0.010538782\n",
      "  map@10: 0.003270735\n",
      "Epoch 26, Step 120, LR: 0.000524, Current Loss: 0.9057, Avg Loss: 0.9054\n",
      "Diff stats — min: -5.8540, max: 10.0000, mean: 2.9561, std: 2.5343\n",
      "\n",
      "Epoch 26, Step 140, LR: 0.000513, Current Loss: 0.8899, Avg Loss: 0.9052\n",
      "Diff stats — min: -6.2203, max: 10.0000, mean: 2.9905, std: 2.4806\n",
      "\n"
     ]
    },
    {
     "name": "stderr",
     "output_type": "stream",
     "text": [
      "/usr/local/lib/python3.11/dist-packages/pandas/core/computation/expressions.py:73: RuntimeWarning: invalid value encountered in less_equal\n",
      "  return op(a, b)\n",
      "/usr/local/lib/python3.11/dist-packages/pandas/core/arraylike.py:399: RuntimeWarning: invalid value encountered in log\n",
      "  result = getattr(ufunc, method)(*inputs, **kwargs)\n"
     ]
    },
    {
     "name": "stdout",
     "output_type": "stream",
     "text": [
      "Step 4974 — Test metrics:\n",
      "  precision@10: 0.010181025\n",
      "  recall@10: 0.010185430\n",
      "  ndcg@10: 0.010245643\n",
      "  map@10: 0.003175245\n",
      "Epoch 26, Step 160, LR: 0.000513, Current Loss: 0.9260, Avg Loss: 0.9057\n",
      "Diff stats — min: -6.4501, max: 10.0000, mean: 2.9229, std: 2.5652\n",
      "\n",
      "Epoch 26, Step 180, LR: 0.000513, Current Loss: 0.9136, Avg Loss: 0.9058\n",
      "Diff stats — min: -5.4426, max: 10.0000, mean: 2.9523, std: 2.5150\n",
      "\n",
      "Epoch 26 completed, Train Loss: 0.000221\n",
      "\n",
      "Epoch 27, Step 1, LR: 0.000513, Current Loss: 0.8899, Avg Loss: 0.8899\n",
      "Diff stats — min: -5.8027, max: 10.0000, mean: 2.9543, std: 2.4314\n",
      "\n"
     ]
    },
    {
     "name": "stderr",
     "output_type": "stream",
     "text": [
      "/usr/local/lib/python3.11/dist-packages/pandas/core/computation/expressions.py:73: RuntimeWarning: invalid value encountered in less_equal\n",
      "  return op(a, b)\n",
      "/usr/local/lib/python3.11/dist-packages/pandas/core/arraylike.py:399: RuntimeWarning: invalid value encountered in log\n",
      "  result = getattr(ufunc, method)(*inputs, **kwargs)\n"
     ]
    },
    {
     "name": "stdout",
     "output_type": "stream",
     "text": [
      "Step 5018 — Test metrics:\n",
      "  precision@10: 0.010319767\n",
      "  recall@10: 0.010324172\n",
      "  ndcg@10: 0.010383632\n",
      "  map@10: 0.003213212\n",
      "Epoch 27, Step 20, LR: 0.000513, Current Loss: 0.8997, Avg Loss: 0.8979\n",
      "Diff stats — min: -7.9326, max: 10.0000, mean: 3.0439, std: 2.5404\n",
      "\n",
      "Epoch 27, Step 40, LR: 0.000513, Current Loss: 0.9064, Avg Loss: 0.9005\n",
      "Diff stats — min: -5.5406, max: 10.0000, mean: 2.9714, std: 2.5357\n",
      "\n"
     ]
    },
    {
     "name": "stderr",
     "output_type": "stream",
     "text": [
      "/usr/local/lib/python3.11/dist-packages/pandas/core/computation/expressions.py:73: RuntimeWarning: invalid value encountered in less_equal\n",
      "  return op(a, b)\n",
      "/usr/local/lib/python3.11/dist-packages/pandas/core/arraylike.py:399: RuntimeWarning: invalid value encountered in log\n",
      "  result = getattr(ufunc, method)(*inputs, **kwargs)\n"
     ]
    },
    {
     "name": "stdout",
     "output_type": "stream",
     "text": [
      "Step 5067 — Test metrics:\n",
      "  precision@10: 0.010062104\n",
      "  recall@10: 0.010067242\n",
      "  ndcg@10: 0.010051941\n",
      "  map@10: 0.003116018\n",
      "Epoch 27, Step 60, LR: 0.000513, Current Loss: 0.8984, Avg Loss: 0.9004\n",
      "Diff stats — min: -7.2780, max: 10.0000, mean: 3.0565, std: 2.5459\n",
      "\n",
      "Epoch 27, Step 80, LR: 0.000513, Current Loss: 0.9001, Avg Loss: 0.8997\n",
      "Diff stats — min: -5.5539, max: 10.0000, mean: 3.0642, std: 2.5831\n",
      "\n",
      "Epoch 27, Step 100, LR: 0.000503, Current Loss: 0.8909, Avg Loss: 0.8993\n",
      "Diff stats — min: -5.2913, max: 10.0000, mean: 3.0696, std: 2.5537\n",
      "\n"
     ]
    },
    {
     "name": "stderr",
     "output_type": "stream",
     "text": [
      "/usr/local/lib/python3.11/dist-packages/pandas/core/computation/expressions.py:73: RuntimeWarning: invalid value encountered in less_equal\n",
      "  return op(a, b)\n",
      "/usr/local/lib/python3.11/dist-packages/pandas/core/arraylike.py:399: RuntimeWarning: invalid value encountered in log\n",
      "  result = getattr(ufunc, method)(*inputs, **kwargs)\n"
     ]
    },
    {
     "name": "stdout",
     "output_type": "stream",
     "text": [
      "Step 5117 — Test metrics:\n",
      "  precision@10: 0.010280127\n",
      "  recall@10: 0.010283797\n",
      "  ndcg@10: 0.010442087\n",
      "  map@10: 0.003258569\n",
      "Epoch 27, Step 120, LR: 0.000503, Current Loss: 0.9038, Avg Loss: 0.8995\n",
      "Diff stats — min: -5.6676, max: 10.0000, mean: 3.0256, std: 2.5697\n",
      "\n",
      "Epoch 27, Step 140, LR: 0.000503, Current Loss: 0.8835, Avg Loss: 0.8998\n",
      "Diff stats — min: -5.6549, max: 10.0000, mean: 3.0349, std: 2.5106\n",
      "\n"
     ]
    },
    {
     "name": "stderr",
     "output_type": "stream",
     "text": [
      "/usr/local/lib/python3.11/dist-packages/pandas/core/computation/expressions.py:73: RuntimeWarning: invalid value encountered in less_equal\n",
      "  return op(a, b)\n",
      "/usr/local/lib/python3.11/dist-packages/pandas/core/arraylike.py:399: RuntimeWarning: invalid value encountered in log\n",
      "  result = getattr(ufunc, method)(*inputs, **kwargs)\n"
     ]
    },
    {
     "name": "stdout",
     "output_type": "stream",
     "text": [
      "Step 5167 — Test metrics:\n",
      "  precision@10: 0.010372622\n",
      "  recall@10: 0.010378494\n",
      "  ndcg@10: 0.010379111\n",
      "  map@10: 0.003201548\n",
      "Epoch 27, Step 160, LR: 0.000503, Current Loss: 0.8993, Avg Loss: 0.9003\n",
      "Diff stats — min: -4.6526, max: 10.0000, mean: 3.0433, std: 2.5374\n",
      "\n",
      "Epoch 27, Step 180, LR: 0.000503, Current Loss: 0.9057, Avg Loss: 0.9000\n",
      "Diff stats — min: -6.4670, max: 10.0000, mean: 2.9486, std: 2.5624\n",
      "\n",
      "Epoch 27 completed, Train Loss: 0.000220\n",
      "\n",
      "Epoch 28, Step 1, LR: 0.000503, Current Loss: 0.8831, Avg Loss: 0.8831\n",
      "Diff stats — min: -4.9292, max: 10.0000, mean: 3.1549, std: 2.5601\n",
      "\n"
     ]
    },
    {
     "name": "stderr",
     "output_type": "stream",
     "text": [
      "/usr/local/lib/python3.11/dist-packages/pandas/core/computation/expressions.py:73: RuntimeWarning: invalid value encountered in less_equal\n",
      "  return op(a, b)\n",
      "/usr/local/lib/python3.11/dist-packages/pandas/core/arraylike.py:399: RuntimeWarning: invalid value encountered in log\n",
      "  result = getattr(ufunc, method)(*inputs, **kwargs)\n"
     ]
    },
    {
     "name": "stdout",
     "output_type": "stream",
     "text": [
      "Step 5211 — Test metrics:\n",
      "  precision@10: 0.010042283\n",
      "  recall@10: 0.010046688\n",
      "  ndcg@10: 0.010142114\n",
      "  map@10: 0.003152246\n",
      "Epoch 28, Step 20, LR: 0.000503, Current Loss: 0.8937, Avg Loss: 0.8965\n",
      "Diff stats — min: -6.2877, max: 10.0000, mean: 3.1023, std: 2.6166\n",
      "\n",
      "Epoch 28, Step 40, LR: 0.000493, Current Loss: 0.9006, Avg Loss: 0.8967\n",
      "Diff stats — min: -5.5590, max: 10.0000, mean: 3.1038, std: 2.5720\n",
      "\n"
     ]
    },
    {
     "name": "stderr",
     "output_type": "stream",
     "text": [
      "/usr/local/lib/python3.11/dist-packages/pandas/core/computation/expressions.py:73: RuntimeWarning: invalid value encountered in less_equal\n",
      "  return op(a, b)\n",
      "/usr/local/lib/python3.11/dist-packages/pandas/core/arraylike.py:399: RuntimeWarning: invalid value encountered in log\n",
      "  result = getattr(ufunc, method)(*inputs, **kwargs)\n"
     ]
    },
    {
     "name": "stdout",
     "output_type": "stream",
     "text": [
      "Step 5260 — Test metrics:\n",
      "  precision@10: 0.010207452\n",
      "  recall@10: 0.010212591\n",
      "  ndcg@10: 0.010375808\n",
      "  map@10: 0.003255458\n",
      "Epoch 28, Step 60, LR: 0.000493, Current Loss: 0.8770, Avg Loss: 0.8973\n",
      "Diff stats — min: -5.6692, max: 10.0000, mean: 3.2247, std: 2.5892\n",
      "\n",
      "Epoch 28, Step 80, LR: 0.000493, Current Loss: 0.8793, Avg Loss: 0.8972\n",
      "Diff stats — min: -4.7666, max: 10.0000, mean: 3.0725, std: 2.5466\n",
      "\n",
      "Epoch 28, Step 100, LR: 0.000493, Current Loss: 0.9029, Avg Loss: 0.8973\n",
      "Diff stats — min: -4.7881, max: 10.0000, mean: 3.0981, std: 2.5734\n",
      "\n"
     ]
    },
    {
     "name": "stderr",
     "output_type": "stream",
     "text": [
      "/usr/local/lib/python3.11/dist-packages/pandas/core/computation/expressions.py:73: RuntimeWarning: invalid value encountered in less_equal\n",
      "  return op(a, b)\n",
      "/usr/local/lib/python3.11/dist-packages/pandas/core/arraylike.py:399: RuntimeWarning: invalid value encountered in log\n",
      "  result = getattr(ufunc, method)(*inputs, **kwargs)\n"
     ]
    },
    {
     "name": "stdout",
     "output_type": "stream",
     "text": [
      "Step 5310 — Test metrics:\n",
      "  precision@10: 0.010531184\n",
      "  recall@10: 0.010536323\n",
      "  ndcg@10: 0.010593813\n",
      "  map@10: 0.003267108\n",
      "Epoch 28, Step 120, LR: 0.000493, Current Loss: 0.8845, Avg Loss: 0.8971\n",
      "Diff stats — min: -5.3595, max: 10.0000, mean: 3.1152, std: 2.5583\n",
      "\n",
      "Epoch 28, Step 140, LR: 0.000493, Current Loss: 0.8916, Avg Loss: 0.8963\n",
      "Diff stats — min: -5.6563, max: 10.0000, mean: 3.1273, std: 2.5611\n",
      "\n"
     ]
    },
    {
     "name": "stderr",
     "output_type": "stream",
     "text": [
      "/usr/local/lib/python3.11/dist-packages/pandas/core/computation/expressions.py:73: RuntimeWarning: invalid value encountered in less_equal\n",
      "  return op(a, b)\n",
      "/usr/local/lib/python3.11/dist-packages/pandas/core/arraylike.py:399: RuntimeWarning: invalid value encountered in log\n",
      "  result = getattr(ufunc, method)(*inputs, **kwargs)\n"
     ]
    },
    {
     "name": "stdout",
     "output_type": "stream",
     "text": [
      "Step 5360 — Test metrics:\n",
      "  precision@10: 0.010379228\n",
      "  recall@10: 0.010384367\n",
      "  ndcg@10: 0.010459664\n",
      "  map@10: 0.003244344\n",
      "Epoch 28, Step 160, LR: 0.000493, Current Loss: 0.8977, Avg Loss: 0.8965\n",
      "Diff stats — min: -5.3553, max: 10.0000, mean: 3.0825, std: 2.5798\n",
      "\n",
      "Epoch 28, Step 180, LR: 0.000493, Current Loss: 0.9053, Avg Loss: 0.8962\n",
      "Diff stats — min: -5.7091, max: 10.0000, mean: 3.1474, std: 2.6489\n",
      "\n",
      "Epoch 28 completed, Train Loss: 0.000219\n",
      "\n",
      "Epoch 29, Step 1, LR: 0.000483, Current Loss: 0.8944, Avg Loss: 0.8944\n",
      "Diff stats — min: -4.8907, max: 10.0000, mean: 3.0920, std: 2.5923\n",
      "\n"
     ]
    },
    {
     "name": "stderr",
     "output_type": "stream",
     "text": [
      "/usr/local/lib/python3.11/dist-packages/pandas/core/computation/expressions.py:73: RuntimeWarning: invalid value encountered in less_equal\n",
      "  return op(a, b)\n",
      "/usr/local/lib/python3.11/dist-packages/pandas/core/arraylike.py:399: RuntimeWarning: invalid value encountered in log\n",
      "  result = getattr(ufunc, method)(*inputs, **kwargs)\n"
     ]
    },
    {
     "name": "stdout",
     "output_type": "stream",
     "text": [
      "Step 5404 — Test metrics:\n",
      "  precision@10: 0.010280127\n",
      "  recall@10: 0.010286000\n",
      "  ndcg@10: 0.010433253\n",
      "  map@10: 0.003244319\n",
      "Epoch 29, Step 20, LR: 0.000483, Current Loss: 0.8814, Avg Loss: 0.8903\n",
      "Diff stats — min: -5.8470, max: 10.0000, mean: 3.1840, std: 2.5959\n",
      "\n",
      "Epoch 29, Step 40, LR: 0.000483, Current Loss: 0.8977, Avg Loss: 0.8908\n",
      "Diff stats — min: -6.2046, max: 10.0000, mean: 3.1265, std: 2.6103\n",
      "\n"
     ]
    },
    {
     "name": "stderr",
     "output_type": "stream",
     "text": [
      "/usr/local/lib/python3.11/dist-packages/pandas/core/computation/expressions.py:73: RuntimeWarning: invalid value encountered in less_equal\n",
      "  return op(a, b)\n",
      "/usr/local/lib/python3.11/dist-packages/pandas/core/arraylike.py:399: RuntimeWarning: invalid value encountered in log\n",
      "  result = getattr(ufunc, method)(*inputs, **kwargs)\n"
     ]
    },
    {
     "name": "stdout",
     "output_type": "stream",
     "text": [
      "Step 5453 — Test metrics:\n",
      "  precision@10: 0.010498150\n",
      "  recall@10: 0.010504023\n",
      "  ndcg@10: 0.010694722\n",
      "  map@10: 0.003346686\n",
      "Epoch 29, Step 60, LR: 0.000483, Current Loss: 0.9067, Avg Loss: 0.8911\n",
      "Diff stats — min: -6.0791, max: 10.0000, mean: 3.1933, std: 2.6808\n",
      "\n",
      "Epoch 29, Step 80, LR: 0.000483, Current Loss: 0.8933, Avg Loss: 0.8919\n",
      "Diff stats — min: -5.9798, max: 10.0000, mean: 3.1520, std: 2.6180\n",
      "\n",
      "Epoch 29, Step 100, LR: 0.000483, Current Loss: 0.8654, Avg Loss: 0.8919\n",
      "Diff stats — min: -4.4432, max: 10.0000, mean: 3.2296, std: 2.5622\n",
      "\n"
     ]
    },
    {
     "name": "stderr",
     "output_type": "stream",
     "text": [
      "/usr/local/lib/python3.11/dist-packages/pandas/core/computation/expressions.py:73: RuntimeWarning: invalid value encountered in less_equal\n",
      "  return op(a, b)\n",
      "/usr/local/lib/python3.11/dist-packages/pandas/core/arraylike.py:399: RuntimeWarning: invalid value encountered in log\n",
      "  result = getattr(ufunc, method)(*inputs, **kwargs)\n"
     ]
    },
    {
     "name": "stdout",
     "output_type": "stream",
     "text": [
      "Step 5503 — Test metrics:\n",
      "  precision@10: 0.010584038\n",
      "  recall@10: 0.010590645\n",
      "  ndcg@10: 0.010780214\n",
      "  map@10: 0.003369310\n",
      "Epoch 29, Step 120, LR: 0.000483, Current Loss: 0.8998, Avg Loss: 0.8918\n",
      "Diff stats — min: -7.6607, max: 10.0000, mean: 3.1626, std: 2.6655\n",
      "\n",
      "Epoch 29, Step 140, LR: 0.000483, Current Loss: 0.8898, Avg Loss: 0.8918\n",
      "Diff stats — min: -5.1665, max: 10.0000, mean: 3.0900, std: 2.5841\n",
      "\n"
     ]
    },
    {
     "name": "stderr",
     "output_type": "stream",
     "text": [
      "/usr/local/lib/python3.11/dist-packages/pandas/core/computation/expressions.py:73: RuntimeWarning: invalid value encountered in less_equal\n",
      "  return op(a, b)\n",
      "/usr/local/lib/python3.11/dist-packages/pandas/core/arraylike.py:399: RuntimeWarning: invalid value encountered in log\n",
      "  result = getattr(ufunc, method)(*inputs, **kwargs)\n"
     ]
    },
    {
     "name": "stdout",
     "output_type": "stream",
     "text": [
      "Step 5553 — Test metrics:\n",
      "  precision@10: 0.010551004\n",
      "  recall@10: 0.010558529\n",
      "  ndcg@10: 0.010646507\n",
      "  map@10: 0.003300004\n",
      "Epoch 29, Step 160, LR: 0.000474, Current Loss: 0.9001, Avg Loss: 0.8920\n",
      "Diff stats — min: -5.6164, max: 10.0000, mean: 3.1567, std: 2.6322\n",
      "\n",
      "Epoch 29, Step 180, LR: 0.000474, Current Loss: 0.8820, Avg Loss: 0.8926\n",
      "Diff stats — min: -5.6297, max: 10.0000, mean: 3.2479, std: 2.6604\n",
      "\n",
      "Epoch 29 completed, Train Loss: 0.000218\n",
      "\n",
      "Epoch 30, Step 1, LR: 0.000474, Current Loss: 0.8955, Avg Loss: 0.8955\n",
      "Diff stats — min: -5.0297, max: 10.0000, mean: 3.0687, std: 2.6200\n",
      "\n"
     ]
    },
    {
     "name": "stderr",
     "output_type": "stream",
     "text": [
      "/usr/local/lib/python3.11/dist-packages/pandas/core/computation/expressions.py:73: RuntimeWarning: invalid value encountered in less_equal\n",
      "  return op(a, b)\n",
      "/usr/local/lib/python3.11/dist-packages/pandas/core/arraylike.py:399: RuntimeWarning: invalid value encountered in log\n",
      "  result = getattr(ufunc, method)(*inputs, **kwargs)\n"
     ]
    },
    {
     "name": "stdout",
     "output_type": "stream",
     "text": [
      "Step 5597 — Test metrics:\n",
      "  precision@10: 0.010735994\n",
      "  recall@10: 0.010741866\n",
      "  ndcg@10: 0.011017792\n",
      "  map@10: 0.003458155\n",
      "Epoch 30, Step 20, LR: 0.000474, Current Loss: 0.8971, Avg Loss: 0.8864\n",
      "Diff stats — min: -7.1694, max: 10.0000, mean: 3.2041, std: 2.6870\n",
      "\n",
      "Epoch 30, Step 40, LR: 0.000474, Current Loss: 0.8756, Avg Loss: 0.8858\n",
      "Diff stats — min: -5.5450, max: 10.0000, mean: 3.2287, std: 2.6352\n",
      "\n"
     ]
    },
    {
     "name": "stderr",
     "output_type": "stream",
     "text": [
      "/usr/local/lib/python3.11/dist-packages/pandas/core/computation/expressions.py:73: RuntimeWarning: invalid value encountered in less_equal\n",
      "  return op(a, b)\n",
      "/usr/local/lib/python3.11/dist-packages/pandas/core/arraylike.py:399: RuntimeWarning: invalid value encountered in log\n",
      "  result = getattr(ufunc, method)(*inputs, **kwargs)\n"
     ]
    },
    {
     "name": "stdout",
     "output_type": "stream",
     "text": [
      "Step 5646 — Test metrics:\n",
      "  precision@10: 0.010788848\n",
      "  recall@10: 0.010793986\n",
      "  ndcg@10: 0.011033364\n",
      "  map@10: 0.003465390\n",
      "Epoch 30, Step 60, LR: 0.000474, Current Loss: 0.9045, Avg Loss: 0.8874\n",
      "Diff stats — min: -5.8798, max: 10.0000, mean: 3.1131, std: 2.6041\n",
      "\n",
      "Epoch 30, Step 80, LR: 0.000474, Current Loss: 0.8913, Avg Loss: 0.8871\n",
      "Diff stats — min: -6.4650, max: 10.0000, mean: 3.2661, std: 2.7052\n",
      "\n",
      "Epoch 30, Step 100, LR: 0.000474, Current Loss: 0.8868, Avg Loss: 0.8875\n",
      "Diff stats — min: -5.7929, max: 10.0000, mean: 3.2484, std: 2.6650\n",
      "\n"
     ]
    },
    {
     "name": "stderr",
     "output_type": "stream",
     "text": [
      "/usr/local/lib/python3.11/dist-packages/pandas/core/computation/expressions.py:73: RuntimeWarning: invalid value encountered in less_equal\n",
      "  return op(a, b)\n",
      "/usr/local/lib/python3.11/dist-packages/pandas/core/arraylike.py:399: RuntimeWarning: invalid value encountered in log\n",
      "  result = getattr(ufunc, method)(*inputs, **kwargs)\n"
     ]
    },
    {
     "name": "stdout",
     "output_type": "stream",
     "text": [
      "Step 5696 — Test metrics:\n",
      "  precision@10: 0.010755814\n",
      "  recall@10: 0.010762604\n",
      "  ndcg@10: 0.011042635\n",
      "  map@10: 0.003452744\n",
      "Epoch 30, Step 120, LR: 0.000464, Current Loss: 0.8797, Avg Loss: 0.8874\n",
      "Diff stats — min: -4.8201, max: 10.0000, mean: 3.2535, std: 2.6858\n",
      "\n",
      "Epoch 30, Step 140, LR: 0.000464, Current Loss: 0.8915, Avg Loss: 0.8873\n",
      "Diff stats — min: -5.6757, max: 10.0000, mean: 3.2128, std: 2.6414\n",
      "\n"
     ]
    },
    {
     "name": "stderr",
     "output_type": "stream",
     "text": [
      "/usr/local/lib/python3.11/dist-packages/pandas/core/computation/expressions.py:73: RuntimeWarning: invalid value encountered in less_equal\n",
      "  return op(a, b)\n",
      "/usr/local/lib/python3.11/dist-packages/pandas/core/arraylike.py:399: RuntimeWarning: invalid value encountered in log\n",
      "  result = getattr(ufunc, method)(*inputs, **kwargs)\n"
     ]
    },
    {
     "name": "stdout",
     "output_type": "stream",
     "text": [
      "Step 5746 — Test metrics:\n",
      "  precision@10: 0.010498150\n",
      "  recall@10: 0.010501821\n",
      "  ndcg@10: 0.010694419\n",
      "  map@10: 0.003326702\n",
      "Epoch 30, Step 160, LR: 0.000464, Current Loss: 0.8924, Avg Loss: 0.8874\n",
      "Diff stats — min: -4.6840, max: 10.0000, mean: 3.1954, std: 2.6573\n",
      "\n",
      "Epoch 30, Step 180, LR: 0.000464, Current Loss: 0.8754, Avg Loss: 0.8875\n",
      "Diff stats — min: -7.0140, max: 10.0000, mean: 3.2471, std: 2.6248\n",
      "\n",
      "Epoch 30 completed, Train Loss: 0.000217\n",
      "\n",
      "Epoch 31, Step 1, LR: 0.000464, Current Loss: 0.8994, Avg Loss: 0.8994\n",
      "Diff stats — min: -6.2682, max: 10.0000, mean: 3.2128, std: 2.6816\n",
      "\n"
     ]
    },
    {
     "name": "stderr",
     "output_type": "stream",
     "text": [
      "/usr/local/lib/python3.11/dist-packages/pandas/core/computation/expressions.py:73: RuntimeWarning: invalid value encountered in less_equal\n",
      "  return op(a, b)\n",
      "/usr/local/lib/python3.11/dist-packages/pandas/core/arraylike.py:399: RuntimeWarning: invalid value encountered in log\n",
      "  result = getattr(ufunc, method)(*inputs, **kwargs)\n"
     ]
    },
    {
     "name": "stdout",
     "output_type": "stream",
     "text": [
      "Step 5790 — Test metrics:\n",
      "  precision@10: 0.010603858\n",
      "  recall@10: 0.010608997\n",
      "  ndcg@10: 0.010808133\n",
      "  map@10: 0.003376480\n",
      "Epoch 31, Step 20, LR: 0.000464, Current Loss: 0.8841, Avg Loss: 0.8894\n",
      "Diff stats — min: -5.1069, max: 10.0000, mean: 3.2559, std: 2.6698\n",
      "\n",
      "Epoch 31, Step 40, LR: 0.000464, Current Loss: 0.8959, Avg Loss: 0.8876\n",
      "Diff stats — min: -5.6260, max: 10.0000, mean: 3.1884, std: 2.6595\n",
      "\n"
     ]
    },
    {
     "name": "stderr",
     "output_type": "stream",
     "text": [
      "/usr/local/lib/python3.11/dist-packages/pandas/core/computation/expressions.py:73: RuntimeWarning: invalid value encountered in less_equal\n",
      "  return op(a, b)\n",
      "/usr/local/lib/python3.11/dist-packages/pandas/core/arraylike.py:399: RuntimeWarning: invalid value encountered in log\n",
      "  result = getattr(ufunc, method)(*inputs, **kwargs)\n"
     ]
    },
    {
     "name": "stdout",
     "output_type": "stream",
     "text": [
      "Step 5839 — Test metrics:\n",
      "  precision@10: 0.010702960\n",
      "  recall@10: 0.010707364\n",
      "  ndcg@10: 0.010977990\n",
      "  map@10: 0.003456203\n",
      "Epoch 31, Step 60, LR: 0.000464, Current Loss: 0.8840, Avg Loss: 0.8872\n",
      "Diff stats — min: -5.2906, max: 10.0000, mean: 3.2412, std: 2.6362\n",
      "\n",
      "Epoch 31, Step 80, LR: 0.000455, Current Loss: 0.8823, Avg Loss: 0.8867\n",
      "Diff stats — min: -5.2664, max: 10.0000, mean: 3.3082, std: 2.6573\n",
      "\n",
      "Epoch 31, Step 100, LR: 0.000455, Current Loss: 0.8927, Avg Loss: 0.8857\n",
      "Diff stats — min: -6.7133, max: 10.0000, mean: 3.2570, std: 2.6474\n",
      "\n"
     ]
    },
    {
     "name": "stderr",
     "output_type": "stream",
     "text": [
      "/usr/local/lib/python3.11/dist-packages/pandas/core/computation/expressions.py:73: RuntimeWarning: invalid value encountered in less_equal\n",
      "  return op(a, b)\n",
      "/usr/local/lib/python3.11/dist-packages/pandas/core/arraylike.py:399: RuntimeWarning: invalid value encountered in log\n",
      "  result = getattr(ufunc, method)(*inputs, **kwargs)\n"
     ]
    },
    {
     "name": "stdout",
     "output_type": "stream",
     "text": [
      "Step 5889 — Test metrics:\n",
      "  precision@10: 0.010828488\n",
      "  recall@10: 0.010835279\n",
      "  ndcg@10: 0.011127191\n",
      "  map@10: 0.003512720\n",
      "Epoch 31, Step 120, LR: 0.000455, Current Loss: 0.8758, Avg Loss: 0.8854\n",
      "Diff stats — min: -6.0186, max: 10.0000, mean: 3.3297, std: 2.6557\n",
      "\n",
      "Epoch 31, Step 140, LR: 0.000455, Current Loss: 0.8830, Avg Loss: 0.8850\n",
      "Diff stats — min: -5.5132, max: 10.0000, mean: 3.2989, std: 2.6618\n",
      "\n"
     ]
    },
    {
     "name": "stderr",
     "output_type": "stream",
     "text": [
      "/usr/local/lib/python3.11/dist-packages/pandas/core/computation/expressions.py:73: RuntimeWarning: invalid value encountered in less_equal\n",
      "  return op(a, b)\n",
      "/usr/local/lib/python3.11/dist-packages/pandas/core/arraylike.py:399: RuntimeWarning: invalid value encountered in log\n",
      "  result = getattr(ufunc, method)(*inputs, **kwargs)\n"
     ]
    },
    {
     "name": "stdout",
     "output_type": "stream",
     "text": [
      "Step 5939 — Test metrics:\n",
      "  precision@10: 0.011178647\n",
      "  recall@10: 0.011186171\n",
      "  ndcg@10: 0.011455109\n",
      "  map@10: 0.003604304\n",
      "Epoch 31, Step 160, LR: 0.000455, Current Loss: 0.9013, Avg Loss: 0.8850\n",
      "Diff stats — min: -5.9291, max: 10.0000, mean: 3.2975, std: 2.7614\n",
      "\n",
      "Epoch 31, Step 180, LR: 0.000455, Current Loss: 0.8736, Avg Loss: 0.8849\n",
      "Diff stats — min: -5.3053, max: 10.0000, mean: 3.2658, std: 2.6713\n",
      "\n",
      "Epoch 31 completed, Train Loss: 0.000216\n",
      "\n",
      "Epoch 32, Step 1, LR: 0.000455, Current Loss: 0.8886, Avg Loss: 0.8886\n",
      "Diff stats — min: -5.9950, max: 10.0000, mean: 3.3359, std: 2.7522\n",
      "\n"
     ]
    },
    {
     "name": "stderr",
     "output_type": "stream",
     "text": [
      "/usr/local/lib/python3.11/dist-packages/pandas/core/computation/expressions.py:73: RuntimeWarning: invalid value encountered in less_equal\n",
      "  return op(a, b)\n",
      "/usr/local/lib/python3.11/dist-packages/pandas/core/arraylike.py:399: RuntimeWarning: invalid value encountered in log\n",
      "  result = getattr(ufunc, method)(*inputs, **kwargs)\n"
     ]
    },
    {
     "name": "stdout",
     "output_type": "stream",
     "text": [
      "Step 5983 — Test metrics:\n",
      "  precision@10: 0.010854915\n",
      "  recall@10: 0.010860054\n",
      "  ndcg@10: 0.011080594\n",
      "  map@10: 0.003474715\n",
      "Epoch 32, Step 20, LR: 0.000446, Current Loss: 0.8923, Avg Loss: 0.8808\n",
      "Diff stats — min: -6.4105, max: 10.0000, mean: 3.2739, std: 2.6917\n",
      "\n",
      "Epoch 32, Step 40, LR: 0.000446, Current Loss: 0.8612, Avg Loss: 0.8813\n",
      "Diff stats — min: -5.0845, max: 10.0000, mean: 3.3974, std: 2.7065\n",
      "\n"
     ]
    },
    {
     "name": "stderr",
     "output_type": "stream",
     "text": [
      "/usr/local/lib/python3.11/dist-packages/pandas/core/computation/expressions.py:73: RuntimeWarning: invalid value encountered in less_equal\n",
      "  return op(a, b)\n",
      "/usr/local/lib/python3.11/dist-packages/pandas/core/arraylike.py:399: RuntimeWarning: invalid value encountered in log\n",
      "  result = getattr(ufunc, method)(*inputs, **kwargs)\n"
     ]
    },
    {
     "name": "stdout",
     "output_type": "stream",
     "text": [
      "Step 6032 — Test metrics:\n",
      "  precision@10: 0.011053118\n",
      "  recall@10: 0.011058257\n",
      "  ndcg@10: 0.011359293\n",
      "  map@10: 0.003578292\n",
      "Epoch 32, Step 60, LR: 0.000446, Current Loss: 0.8791, Avg Loss: 0.8806\n",
      "Diff stats — min: -5.7067, max: 10.0000, mean: 3.2573, std: 2.6673\n",
      "\n",
      "Epoch 32, Step 80, LR: 0.000446, Current Loss: 0.8908, Avg Loss: 0.8801\n",
      "Diff stats — min: -5.7759, max: 10.0000, mean: 3.2420, std: 2.6920\n",
      "\n",
      "Epoch 32, Step 100, LR: 0.000446, Current Loss: 0.8847, Avg Loss: 0.8803\n",
      "Diff stats — min: -5.0697, max: 10.0000, mean: 3.2540, std: 2.6343\n",
      "\n"
     ]
    },
    {
     "name": "stderr",
     "output_type": "stream",
     "text": [
      "/usr/local/lib/python3.11/dist-packages/pandas/core/computation/expressions.py:73: RuntimeWarning: invalid value encountered in less_equal\n",
      "  return op(a, b)\n",
      "/usr/local/lib/python3.11/dist-packages/pandas/core/arraylike.py:399: RuntimeWarning: invalid value encountered in log\n",
      "  result = getattr(ufunc, method)(*inputs, **kwargs)\n"
     ]
    },
    {
     "name": "stdout",
     "output_type": "stream",
     "text": [
      "Step 6082 — Test metrics:\n",
      "  precision@10: 0.010802061\n",
      "  recall@10: 0.010808668\n",
      "  ndcg@10: 0.011045638\n",
      "  map@10: 0.003453112\n",
      "Epoch 32, Step 120, LR: 0.000446, Current Loss: 0.8802, Avg Loss: 0.8806\n",
      "Diff stats — min: -6.1371, max: 10.0000, mean: 3.2277, std: 2.6572\n",
      "\n",
      "Epoch 32, Step 140, LR: 0.000446, Current Loss: 0.8889, Avg Loss: 0.8804\n",
      "Diff stats — min: -5.8841, max: 10.0000, mean: 3.2750, std: 2.6804\n",
      "\n"
     ]
    },
    {
     "name": "stderr",
     "output_type": "stream",
     "text": [
      "/usr/local/lib/python3.11/dist-packages/pandas/core/computation/expressions.py:73: RuntimeWarning: invalid value encountered in less_equal\n",
      "  return op(a, b)\n",
      "/usr/local/lib/python3.11/dist-packages/pandas/core/arraylike.py:399: RuntimeWarning: invalid value encountered in log\n",
      "  result = getattr(ufunc, method)(*inputs, **kwargs)\n"
     ]
    },
    {
     "name": "stdout",
     "output_type": "stream",
     "text": [
      "Step 6132 — Test metrics:\n",
      "  precision@10: 0.010835095\n",
      "  recall@10: 0.010842436\n",
      "  ndcg@10: 0.011013432\n",
      "  map@10: 0.003436880\n",
      "Epoch 32, Step 160, LR: 0.000446, Current Loss: 0.8910, Avg Loss: 0.8803\n",
      "Diff stats — min: -5.8842, max: 10.0000, mean: 3.3426, std: 2.7652\n",
      "\n",
      "Epoch 32, Step 180, LR: 0.000437, Current Loss: 0.8858, Avg Loss: 0.8803\n",
      "Diff stats — min: -5.3246, max: 10.0000, mean: 3.4193, std: 2.7561\n",
      "\n",
      "Epoch 32 completed, Train Loss: 0.000215\n",
      "\n",
      "Epoch 33, Step 1, LR: 0.000437, Current Loss: 0.8715, Avg Loss: 0.8715\n",
      "Diff stats — min: -6.3161, max: 10.0000, mean: 3.3746, std: 2.7441\n",
      "\n"
     ]
    },
    {
     "name": "stderr",
     "output_type": "stream",
     "text": [
      "/usr/local/lib/python3.11/dist-packages/pandas/core/computation/expressions.py:73: RuntimeWarning: invalid value encountered in less_equal\n",
      "  return op(a, b)\n",
      "/usr/local/lib/python3.11/dist-packages/pandas/core/arraylike.py:399: RuntimeWarning: invalid value encountered in log\n",
      "  result = getattr(ufunc, method)(*inputs, **kwargs)\n"
     ]
    },
    {
     "name": "stdout",
     "output_type": "stream",
     "text": [
      "Step 6176 — Test metrics:\n",
      "  precision@10: 0.010755814\n",
      "  recall@10: 0.010761687\n",
      "  ndcg@10: 0.010829222\n",
      "  map@10: 0.003352421\n",
      "Epoch 33, Step 20, LR: 0.000437, Current Loss: 0.8775, Avg Loss: 0.8785\n",
      "Diff stats — min: -7.0266, max: 10.0000, mean: 3.4149, std: 2.7545\n",
      "\n",
      "Epoch 33, Step 40, LR: 0.000437, Current Loss: 0.8663, Avg Loss: 0.8787\n",
      "Diff stats — min: -5.3242, max: 10.0000, mean: 3.3619, std: 2.7183\n",
      "\n"
     ]
    },
    {
     "name": "stderr",
     "output_type": "stream",
     "text": [
      "/usr/local/lib/python3.11/dist-packages/pandas/core/computation/expressions.py:73: RuntimeWarning: invalid value encountered in less_equal\n",
      "  return op(a, b)\n",
      "/usr/local/lib/python3.11/dist-packages/pandas/core/arraylike.py:399: RuntimeWarning: invalid value encountered in log\n",
      "  result = getattr(ufunc, method)(*inputs, **kwargs)\n"
     ]
    },
    {
     "name": "stdout",
     "output_type": "stream",
     "text": [
      "Step 6225 — Test metrics:\n",
      "  precision@10: 0.011092759\n",
      "  recall@10: 0.011097163\n",
      "  ndcg@10: 0.011184155\n",
      "  map@10: 0.003471114\n",
      "Epoch 33, Step 60, LR: 0.000437, Current Loss: 0.8691, Avg Loss: 0.8793\n",
      "Diff stats — min: -6.0891, max: 10.0000, mean: 3.4539, std: 2.7193\n",
      "\n",
      "Epoch 33, Step 80, LR: 0.000437, Current Loss: 0.8906, Avg Loss: 0.8797\n",
      "Diff stats — min: -6.5213, max: 10.0000, mean: 3.3089, std: 2.6993\n",
      "\n",
      "Epoch 33, Step 100, LR: 0.000437, Current Loss: 0.8656, Avg Loss: 0.8801\n",
      "Diff stats — min: -6.7370, max: 10.0000, mean: 3.3291, std: 2.7362\n",
      "\n"
     ]
    },
    {
     "name": "stderr",
     "output_type": "stream",
     "text": [
      "/usr/local/lib/python3.11/dist-packages/pandas/core/computation/expressions.py:73: RuntimeWarning: invalid value encountered in less_equal\n",
      "  return op(a, b)\n",
      "/usr/local/lib/python3.11/dist-packages/pandas/core/arraylike.py:399: RuntimeWarning: invalid value encountered in log\n",
      "  result = getattr(ufunc, method)(*inputs, **kwargs)\n"
     ]
    },
    {
     "name": "stdout",
     "output_type": "stream",
     "text": [
      "Step 6275 — Test metrics:\n",
      "  precision@10: 0.011066332\n",
      "  recall@10: 0.011072939\n",
      "  ndcg@10: 0.011068632\n",
      "  map@10: 0.003408758\n",
      "Epoch 33, Step 120, LR: 0.000437, Current Loss: 0.8906, Avg Loss: 0.8802\n",
      "Diff stats — min: -6.0174, max: 10.0000, mean: 3.2941, std: 2.7214\n",
      "\n",
      "Epoch 33, Step 140, LR: 0.000428, Current Loss: 0.8772, Avg Loss: 0.8796\n",
      "Diff stats — min: -8.1726, max: 10.0000, mean: 3.3910, std: 2.7609\n",
      "\n"
     ]
    },
    {
     "name": "stderr",
     "output_type": "stream",
     "text": [
      "/usr/local/lib/python3.11/dist-packages/pandas/core/computation/expressions.py:73: RuntimeWarning: invalid value encountered in less_equal\n",
      "  return op(a, b)\n",
      "/usr/local/lib/python3.11/dist-packages/pandas/core/arraylike.py:399: RuntimeWarning: invalid value encountered in log\n",
      "  result = getattr(ufunc, method)(*inputs, **kwargs)\n"
     ]
    },
    {
     "name": "stdout",
     "output_type": "stream",
     "text": [
      "Step 6325 — Test metrics:\n",
      "  precision@10: 0.011165433\n",
      "  recall@10: 0.011174426\n",
      "  ndcg@10: 0.011286167\n",
      "  map@10: 0.003493351\n",
      "Epoch 33, Step 160, LR: 0.000428, Current Loss: 0.8840, Avg Loss: 0.8792\n",
      "Diff stats — min: -5.3595, max: 10.0000, mean: 3.3771, std: 2.7818\n",
      "\n",
      "Epoch 33, Step 180, LR: 0.000428, Current Loss: 0.8658, Avg Loss: 0.8788\n",
      "Diff stats — min: -5.4438, max: 10.0000, mean: 3.4581, std: 2.7839\n",
      "\n",
      "Epoch 33 completed, Train Loss: 0.000215\n",
      "\n",
      "Epoch 34, Step 1, LR: 0.000428, Current Loss: 0.8655, Avg Loss: 0.8655\n",
      "Diff stats — min: -5.7254, max: 10.0000, mean: 3.4221, std: 2.7033\n",
      "\n"
     ]
    },
    {
     "name": "stderr",
     "output_type": "stream",
     "text": [
      "/usr/local/lib/python3.11/dist-packages/pandas/core/computation/expressions.py:73: RuntimeWarning: invalid value encountered in less_equal\n",
      "  return op(a, b)\n",
      "/usr/local/lib/python3.11/dist-packages/pandas/core/arraylike.py:399: RuntimeWarning: invalid value encountered in log\n",
      "  result = getattr(ufunc, method)(*inputs, **kwargs)\n"
     ]
    },
    {
     "name": "stdout",
     "output_type": "stream",
     "text": [
      "Step 6369 — Test metrics:\n",
      "  precision@10: 0.010954017\n",
      "  recall@10: 0.010959156\n",
      "  ndcg@10: 0.010999181\n",
      "  map@10: 0.003392674\n",
      "Epoch 34, Step 20, LR: 0.000428, Current Loss: 0.8870, Avg Loss: 0.8712\n",
      "Diff stats — min: -5.4307, max: 10.0000, mean: 3.3167, std: 2.7359\n",
      "\n",
      "Epoch 34, Step 40, LR: 0.000428, Current Loss: 0.8837, Avg Loss: 0.8736\n",
      "Diff stats — min: -6.0183, max: 10.0000, mean: 3.4175, std: 2.7851\n",
      "\n"
     ]
    },
    {
     "name": "stderr",
     "output_type": "stream",
     "text": [
      "/usr/local/lib/python3.11/dist-packages/pandas/core/computation/expressions.py:73: RuntimeWarning: invalid value encountered in less_equal\n",
      "  return op(a, b)\n",
      "/usr/local/lib/python3.11/dist-packages/pandas/core/arraylike.py:399: RuntimeWarning: invalid value encountered in log\n",
      "  result = getattr(ufunc, method)(*inputs, **kwargs)\n"
     ]
    },
    {
     "name": "stdout",
     "output_type": "stream",
     "text": [
      "Step 6418 — Test metrics:\n",
      "  precision@10: 0.010874736\n",
      "  recall@10: 0.010882260\n",
      "  ndcg@10: 0.010951209\n",
      "  map@10: 0.003403032\n",
      "Epoch 34, Step 60, LR: 0.000428, Current Loss: 0.8833, Avg Loss: 0.8731\n",
      "Diff stats — min: -4.7871, max: 10.0000, mean: 3.3647, std: 2.7578\n",
      "\n",
      "Epoch 34, Step 80, LR: 0.000428, Current Loss: 0.8777, Avg Loss: 0.8734\n",
      "Diff stats — min: -5.6029, max: 10.0000, mean: 3.4342, std: 2.7710\n",
      "\n",
      "Epoch 34, Step 100, LR: 0.000419, Current Loss: 0.8756, Avg Loss: 0.8742\n",
      "Diff stats — min: -6.1485, max: 10.0000, mean: 3.4804, std: 2.7919\n",
      "\n"
     ]
    },
    {
     "name": "stderr",
     "output_type": "stream",
     "text": [
      "/usr/local/lib/python3.11/dist-packages/pandas/core/computation/expressions.py:73: RuntimeWarning: invalid value encountered in less_equal\n",
      "  return op(a, b)\n",
      "/usr/local/lib/python3.11/dist-packages/pandas/core/arraylike.py:399: RuntimeWarning: invalid value encountered in log\n",
      "  result = getattr(ufunc, method)(*inputs, **kwargs)\n"
     ]
    },
    {
     "name": "stdout",
     "output_type": "stream",
     "text": [
      "Step 6468 — Test metrics:\n",
      "  precision@10: 0.010927590\n",
      "  recall@10: 0.010932728\n",
      "  ndcg@10: 0.010959365\n",
      "  map@10: 0.003378831\n",
      "Epoch 34, Step 120, LR: 0.000419, Current Loss: 0.8760, Avg Loss: 0.8745\n",
      "Diff stats — min: -5.2088, max: 10.0000, mean: 3.4398, std: 2.7598\n",
      "\n",
      "Epoch 34, Step 140, LR: 0.000419, Current Loss: 0.8784, Avg Loss: 0.8747\n",
      "Diff stats — min: -5.7309, max: 10.0000, mean: 3.3483, std: 2.7177\n",
      "\n"
     ]
    },
    {
     "name": "stderr",
     "output_type": "stream",
     "text": [
      "/usr/local/lib/python3.11/dist-packages/pandas/core/computation/expressions.py:73: RuntimeWarning: invalid value encountered in less_equal\n",
      "  return op(a, b)\n",
      "/usr/local/lib/python3.11/dist-packages/pandas/core/arraylike.py:399: RuntimeWarning: invalid value encountered in log\n",
      "  result = getattr(ufunc, method)(*inputs, **kwargs)\n"
     ]
    },
    {
     "name": "stdout",
     "output_type": "stream",
     "text": [
      "Step 6518 — Test metrics:\n",
      "  precision@10: 0.010802061\n",
      "  recall@10: 0.010808668\n",
      "  ndcg@10: 0.010832323\n",
      "  map@10: 0.003341866\n",
      "Epoch 34, Step 160, LR: 0.000419, Current Loss: 0.8835, Avg Loss: 0.8749\n",
      "Diff stats — min: -5.4665, max: 10.0000, mean: 3.3787, std: 2.7391\n",
      "\n",
      "Epoch 34, Step 180, LR: 0.000419, Current Loss: 0.8855, Avg Loss: 0.8754\n",
      "Diff stats — min: -5.3969, max: 10.0000, mean: 3.3760, std: 2.7786\n",
      "\n",
      "Epoch 34 completed, Train Loss: 0.000214\n",
      "\n",
      "Epoch 35, Step 1, LR: 0.000419, Current Loss: 0.8651, Avg Loss: 0.8651\n",
      "Diff stats — min: -5.1971, max: 10.0000, mean: 3.4423, std: 2.7416\n",
      "\n"
     ]
    },
    {
     "name": "stderr",
     "output_type": "stream",
     "text": [
      "/usr/local/lib/python3.11/dist-packages/pandas/core/computation/expressions.py:73: RuntimeWarning: invalid value encountered in less_equal\n",
      "  return op(a, b)\n",
      "/usr/local/lib/python3.11/dist-packages/pandas/core/arraylike.py:399: RuntimeWarning: invalid value encountered in log\n",
      "  result = getattr(ufunc, method)(*inputs, **kwargs)\n"
     ]
    },
    {
     "name": "stdout",
     "output_type": "stream",
     "text": [
      "Step 6562 — Test metrics:\n",
      "  precision@10: 0.011337209\n",
      "  recall@10: 0.011345468\n",
      "  ndcg@10: 0.011352816\n",
      "  map@10: 0.003509680\n",
      "Epoch 35, Step 20, LR: 0.000419, Current Loss: 0.8834, Avg Loss: 0.8723\n",
      "Diff stats — min: -7.1763, max: 10.0000, mean: 3.3549, std: 2.7697\n",
      "\n",
      "Epoch 35, Step 40, LR: 0.000411, Current Loss: 0.8650, Avg Loss: 0.8738\n",
      "Diff stats — min: -4.1071, max: 10.0000, mean: 3.4501, std: 2.7437\n",
      "\n"
     ]
    },
    {
     "name": "stderr",
     "output_type": "stream",
     "text": [
      "/usr/local/lib/python3.11/dist-packages/pandas/core/computation/expressions.py:73: RuntimeWarning: invalid value encountered in less_equal\n",
      "  return op(a, b)\n",
      "/usr/local/lib/python3.11/dist-packages/pandas/core/arraylike.py:399: RuntimeWarning: invalid value encountered in log\n",
      "  result = getattr(ufunc, method)(*inputs, **kwargs)\n"
     ]
    },
    {
     "name": "stdout",
     "output_type": "stream",
     "text": [
      "Step 6611 — Test metrics:\n",
      "  precision@10: 0.010656712\n",
      "  recall@10: 0.010664237\n",
      "  ndcg@10: 0.010670956\n",
      "  map@10: 0.003293547\n",
      "Epoch 35, Step 60, LR: 0.000411, Current Loss: 0.8755, Avg Loss: 0.8735\n",
      "Diff stats — min: -7.0180, max: 10.0000, mean: 3.4091, std: 2.7774\n",
      "\n",
      "Epoch 35, Step 80, LR: 0.000411, Current Loss: 0.8632, Avg Loss: 0.8728\n",
      "Diff stats — min: -6.7267, max: 10.0000, mean: 3.4645, std: 2.7803\n",
      "\n",
      "Epoch 35, Step 100, LR: 0.000411, Current Loss: 0.8884, Avg Loss: 0.8729\n",
      "Diff stats — min: -5.3643, max: 10.0000, mean: 3.4433, std: 2.8224\n",
      "\n"
     ]
    },
    {
     "name": "stderr",
     "output_type": "stream",
     "text": [
      "/usr/local/lib/python3.11/dist-packages/pandas/core/computation/expressions.py:73: RuntimeWarning: invalid value encountered in less_equal\n",
      "  return op(a, b)\n",
      "/usr/local/lib/python3.11/dist-packages/pandas/core/arraylike.py:399: RuntimeWarning: invalid value encountered in log\n",
      "  result = getattr(ufunc, method)(*inputs, **kwargs)\n"
     ]
    },
    {
     "name": "stdout",
     "output_type": "stream",
     "text": [
      "Step 6661 — Test metrics:\n",
      "  precision@10: 0.011059725\n",
      "  recall@10: 0.011067984\n",
      "  ndcg@10: 0.011213166\n",
      "  map@10: 0.003465180\n",
      "Epoch 35, Step 120, LR: 0.000411, Current Loss: 0.8880, Avg Loss: 0.8728\n",
      "Diff stats — min: -6.5228, max: 10.0000, mean: 3.4475, std: 2.8070\n",
      "\n",
      "Epoch 35, Step 140, LR: 0.000411, Current Loss: 0.8786, Avg Loss: 0.8723\n",
      "Diff stats — min: -5.2609, max: 10.0000, mean: 3.3531, std: 2.7675\n",
      "\n"
     ]
    },
    {
     "name": "stderr",
     "output_type": "stream",
     "text": [
      "/usr/local/lib/python3.11/dist-packages/pandas/core/computation/expressions.py:73: RuntimeWarning: invalid value encountered in less_equal\n",
      "  return op(a, b)\n",
      "/usr/local/lib/python3.11/dist-packages/pandas/core/arraylike.py:399: RuntimeWarning: invalid value encountered in log\n",
      "  result = getattr(ufunc, method)(*inputs, **kwargs)\n"
     ]
    },
    {
     "name": "stdout",
     "output_type": "stream",
     "text": [
      "Step 6711 — Test metrics:\n",
      "  precision@10: 0.011264535\n",
      "  recall@10: 0.011272793\n",
      "  ndcg@10: 0.011406409\n",
      "  map@10: 0.003557784\n",
      "Epoch 35, Step 160, LR: 0.000411, Current Loss: 0.8924, Avg Loss: 0.8725\n",
      "Diff stats — min: -5.6884, max: 10.0000, mean: 3.4415, std: 2.8082\n",
      "\n",
      "Epoch 35, Step 180, LR: 0.000411, Current Loss: 0.8772, Avg Loss: 0.8729\n",
      "Diff stats — min: -5.0559, max: 10.0000, mean: 3.3904, std: 2.7526\n",
      "\n",
      "Epoch 35 completed, Train Loss: 0.000213\n",
      "\n",
      "Epoch 36, Step 1, LR: 0.000403, Current Loss: 0.8961, Avg Loss: 0.8961\n",
      "Diff stats — min: -5.4745, max: 10.0000, mean: 3.4497, std: 2.8407\n",
      "\n"
     ]
    },
    {
     "name": "stderr",
     "output_type": "stream",
     "text": [
      "/usr/local/lib/python3.11/dist-packages/pandas/core/computation/expressions.py:73: RuntimeWarning: invalid value encountered in less_equal\n",
      "  return op(a, b)\n",
      "/usr/local/lib/python3.11/dist-packages/pandas/core/arraylike.py:399: RuntimeWarning: invalid value encountered in log\n",
      "  result = getattr(ufunc, method)(*inputs, **kwargs)\n"
     ]
    },
    {
     "name": "stdout",
     "output_type": "stream",
     "text": [
      "Step 6755 — Test metrics:\n",
      "  precision@10: 0.010841702\n",
      "  recall@10: 0.010851612\n",
      "  ndcg@10: 0.010792170\n",
      "  map@10: 0.003327263\n",
      "Epoch 36, Step 20, LR: 0.000403, Current Loss: 0.8856, Avg Loss: 0.8747\n",
      "Diff stats — min: -5.8347, max: 10.0000, mean: 3.4266, std: 2.7532\n",
      "\n",
      "Epoch 36, Step 40, LR: 0.000403, Current Loss: 0.8912, Avg Loss: 0.8715\n",
      "Diff stats — min: -7.5171, max: 10.0000, mean: 3.4810, std: 2.8583\n",
      "\n"
     ]
    },
    {
     "name": "stderr",
     "output_type": "stream",
     "text": [
      "/usr/local/lib/python3.11/dist-packages/pandas/core/computation/expressions.py:73: RuntimeWarning: invalid value encountered in less_equal\n",
      "  return op(a, b)\n",
      "/usr/local/lib/python3.11/dist-packages/pandas/core/arraylike.py:399: RuntimeWarning: invalid value encountered in log\n",
      "  result = getattr(ufunc, method)(*inputs, **kwargs)\n"
     ]
    },
    {
     "name": "stdout",
     "output_type": "stream",
     "text": [
      "Step 6804 — Test metrics:\n",
      "  precision@10: 0.011039905\n",
      "  recall@10: 0.011045778\n",
      "  ndcg@10: 0.010982512\n",
      "  map@10: 0.003374813\n",
      "Epoch 36, Step 60, LR: 0.000403, Current Loss: 0.8749, Avg Loss: 0.8708\n",
      "Diff stats — min: -5.3347, max: 10.0000, mean: 3.4807, std: 2.8338\n",
      "\n",
      "Epoch 36, Step 80, LR: 0.000403, Current Loss: 0.8520, Avg Loss: 0.8700\n",
      "Diff stats — min: -6.0164, max: 10.0000, mean: 3.5020, std: 2.7651\n",
      "\n",
      "Epoch 36, Step 100, LR: 0.000403, Current Loss: 0.8579, Avg Loss: 0.8700\n",
      "Diff stats — min: -4.4598, max: 10.0000, mean: 3.4854, std: 2.7499\n",
      "\n"
     ]
    },
    {
     "name": "stderr",
     "output_type": "stream",
     "text": [
      "/usr/local/lib/python3.11/dist-packages/pandas/core/computation/expressions.py:73: RuntimeWarning: invalid value encountered in less_equal\n",
      "  return op(a, b)\n",
      "/usr/local/lib/python3.11/dist-packages/pandas/core/arraylike.py:399: RuntimeWarning: invalid value encountered in log\n",
      "  result = getattr(ufunc, method)(*inputs, **kwargs)\n"
     ]
    },
    {
     "name": "stdout",
     "output_type": "stream",
     "text": [
      "Step 6854 — Test metrics:\n",
      "  precision@10: 0.011020085\n",
      "  recall@10: 0.011029811\n",
      "  ndcg@10: 0.011079648\n",
      "  map@10: 0.003431272\n",
      "Epoch 36, Step 120, LR: 0.000403, Current Loss: 0.8809, Avg Loss: 0.8702\n",
      "Diff stats — min: -5.5312, max: 10.0000, mean: 3.4692, std: 2.7973\n",
      "\n",
      "Epoch 36, Step 140, LR: 0.000403, Current Loss: 0.8801, Avg Loss: 0.8698\n",
      "Diff stats — min: -9.9074, max: 10.0000, mean: 3.5084, std: 2.8807\n",
      "\n"
     ]
    },
    {
     "name": "stderr",
     "output_type": "stream",
     "text": [
      "/usr/local/lib/python3.11/dist-packages/pandas/core/computation/expressions.py:73: RuntimeWarning: invalid value encountered in less_equal\n",
      "  return op(a, b)\n",
      "/usr/local/lib/python3.11/dist-packages/pandas/core/arraylike.py:399: RuntimeWarning: invalid value encountered in log\n",
      "  result = getattr(ufunc, method)(*inputs, **kwargs)\n"
     ]
    },
    {
     "name": "stdout",
     "output_type": "stream",
     "text": [
      "Step 6904 — Test metrics:\n",
      "  precision@10: 0.011112579\n",
      "  recall@10: 0.011117718\n",
      "  ndcg@10: 0.011245788\n",
      "  map@10: 0.003513248\n",
      "Epoch 36, Step 160, LR: 0.000395, Current Loss: 0.8819, Avg Loss: 0.8704\n",
      "Diff stats — min: -5.5395, max: 10.0000, mean: 3.5291, std: 2.8155\n",
      "\n",
      "Epoch 36, Step 180, LR: 0.000395, Current Loss: 0.8588, Avg Loss: 0.8703\n",
      "Diff stats — min: -5.2183, max: 10.0000, mean: 3.4597, std: 2.7373\n",
      "\n",
      "Epoch 36 completed, Train Loss: 0.000213\n",
      "\n",
      "Epoch 37, Step 1, LR: 0.000395, Current Loss: 0.8626, Avg Loss: 0.8626\n",
      "Diff stats — min: -5.9816, max: 10.0000, mean: 3.5567, std: 2.7917\n",
      "\n"
     ]
    },
    {
     "name": "stderr",
     "output_type": "stream",
     "text": [
      "/usr/local/lib/python3.11/dist-packages/pandas/core/computation/expressions.py:73: RuntimeWarning: invalid value encountered in less_equal\n",
      "  return op(a, b)\n",
      "/usr/local/lib/python3.11/dist-packages/pandas/core/arraylike.py:399: RuntimeWarning: invalid value encountered in log\n",
      "  result = getattr(ufunc, method)(*inputs, **kwargs)\n"
     ]
    },
    {
     "name": "stdout",
     "output_type": "stream",
     "text": [
      "Step 6948 — Test metrics:\n",
      "  precision@10: 0.011178647\n",
      "  recall@10: 0.011188557\n",
      "  ndcg@10: 0.011230950\n",
      "  map@10: 0.003496721\n",
      "Epoch 37, Step 20, LR: 0.000395, Current Loss: 0.8772, Avg Loss: 0.8709\n",
      "Diff stats — min: -5.8394, max: 10.0000, mean: 3.4879, std: 2.8080\n",
      "\n",
      "Epoch 37, Step 40, LR: 0.000395, Current Loss: 0.8682, Avg Loss: 0.8692\n",
      "Diff stats — min: -6.0597, max: 10.0000, mean: 3.5262, std: 2.7750\n",
      "\n"
     ]
    },
    {
     "name": "stderr",
     "output_type": "stream",
     "text": [
      "/usr/local/lib/python3.11/dist-packages/pandas/core/computation/expressions.py:73: RuntimeWarning: invalid value encountered in less_equal\n",
      "  return op(a, b)\n",
      "/usr/local/lib/python3.11/dist-packages/pandas/core/arraylike.py:399: RuntimeWarning: invalid value encountered in log\n",
      "  result = getattr(ufunc, method)(*inputs, **kwargs)\n"
     ]
    },
    {
     "name": "stdout",
     "output_type": "stream",
     "text": [
      "Step 6997 — Test metrics:\n",
      "  precision@10: 0.011264535\n",
      "  recall@10: 0.011275179\n",
      "  ndcg@10: 0.011335322\n",
      "  map@10: 0.003516362\n",
      "Epoch 37, Step 60, LR: 0.000395, Current Loss: 0.8479, Avg Loss: 0.8688\n",
      "Diff stats — min: -7.8513, max: 10.0000, mean: 3.5011, std: 2.7346\n",
      "\n",
      "Epoch 37, Step 80, LR: 0.000395, Current Loss: 0.8639, Avg Loss: 0.8686\n",
      "Diff stats — min: -5.8463, max: 10.0000, mean: 3.4770, std: 2.8287\n",
      "\n",
      "Epoch 37, Step 100, LR: 0.000395, Current Loss: 0.8664, Avg Loss: 0.8682\n",
      "Diff stats — min: -4.6180, max: 10.0000, mean: 3.4740, std: 2.7998\n",
      "\n"
     ]
    },
    {
     "name": "stderr",
     "output_type": "stream",
     "text": [
      "/usr/local/lib/python3.11/dist-packages/pandas/core/computation/expressions.py:73: RuntimeWarning: invalid value encountered in less_equal\n",
      "  return op(a, b)\n",
      "/usr/local/lib/python3.11/dist-packages/pandas/core/arraylike.py:399: RuntimeWarning: invalid value encountered in log\n",
      "  result = getattr(ufunc, method)(*inputs, **kwargs)\n"
     ]
    },
    {
     "name": "stdout",
     "output_type": "stream",
     "text": [
      "Step 7047 — Test metrics:\n",
      "  precision@10: 0.011013478\n",
      "  recall@10: 0.011021736\n",
      "  ndcg@10: 0.011163800\n",
      "  map@10: 0.003483529\n",
      "Epoch 37, Step 120, LR: 0.000387, Current Loss: 0.8484, Avg Loss: 0.8675\n",
      "Diff stats — min: -5.2847, max: 10.0000, mean: 3.6325, std: 2.8238\n",
      "\n",
      "Epoch 37, Step 140, LR: 0.000387, Current Loss: 0.8793, Avg Loss: 0.8677\n",
      "Diff stats — min: -6.5252, max: 10.0000, mean: 3.5906, std: 2.8817\n",
      "\n"
     ]
    },
    {
     "name": "stderr",
     "output_type": "stream",
     "text": [
      "/usr/local/lib/python3.11/dist-packages/pandas/core/computation/expressions.py:73: RuntimeWarning: invalid value encountered in less_equal\n",
      "  return op(a, b)\n",
      "/usr/local/lib/python3.11/dist-packages/pandas/core/arraylike.py:399: RuntimeWarning: invalid value encountered in log\n",
      "  result = getattr(ufunc, method)(*inputs, **kwargs)\n"
     ]
    },
    {
     "name": "stdout",
     "output_type": "stream",
     "text": [
      "Step 7097 — Test metrics:\n",
      "  precision@10: 0.011178647\n",
      "  recall@10: 0.011185437\n",
      "  ndcg@10: 0.011372427\n",
      "  map@10: 0.003557461\n",
      "Epoch 37, Step 160, LR: 0.000387, Current Loss: 0.8521, Avg Loss: 0.8679\n",
      "Diff stats — min: -4.6676, max: 10.0000, mean: 3.4991, std: 2.7357\n",
      "\n",
      "Epoch 37, Step 180, LR: 0.000387, Current Loss: 0.8542, Avg Loss: 0.8679\n",
      "Diff stats — min: -7.1087, max: 10.0000, mean: 3.6292, std: 2.8459\n",
      "\n",
      "Epoch 37 completed, Train Loss: 0.000212\n",
      "\n",
      "Epoch 38, Step 1, LR: 0.000387, Current Loss: 0.8761, Avg Loss: 0.8761\n",
      "Diff stats — min: -4.9157, max: 10.0000, mean: 3.5069, std: 2.7821\n",
      "\n"
     ]
    },
    {
     "name": "stderr",
     "output_type": "stream",
     "text": [
      "/usr/local/lib/python3.11/dist-packages/pandas/core/computation/expressions.py:73: RuntimeWarning: invalid value encountered in less_equal\n",
      "  return op(a, b)\n",
      "/usr/local/lib/python3.11/dist-packages/pandas/core/arraylike.py:399: RuntimeWarning: invalid value encountered in log\n",
      "  result = getattr(ufunc, method)(*inputs, **kwargs)\n"
     ]
    },
    {
     "name": "stdout",
     "output_type": "stream",
     "text": [
      "Step 7141 — Test metrics:\n",
      "  precision@10: 0.011059725\n",
      "  recall@10: 0.011066515\n",
      "  ndcg@10: 0.011151130\n",
      "  map@10: 0.003455359\n",
      "Epoch 38, Step 20, LR: 0.000387, Current Loss: 0.8594, Avg Loss: 0.8668\n",
      "Diff stats — min: -5.4782, max: 10.0000, mean: 3.5822, std: 2.8256\n",
      "\n",
      "Epoch 38, Step 40, LR: 0.000387, Current Loss: 0.8690, Avg Loss: 0.8643\n",
      "Diff stats — min: -6.9276, max: 10.0000, mean: 3.6263, std: 2.8358\n",
      "\n"
     ]
    },
    {
     "name": "stderr",
     "output_type": "stream",
     "text": [
      "/usr/local/lib/python3.11/dist-packages/pandas/core/computation/expressions.py:73: RuntimeWarning: invalid value encountered in less_equal\n",
      "  return op(a, b)\n",
      "/usr/local/lib/python3.11/dist-packages/pandas/core/arraylike.py:399: RuntimeWarning: invalid value encountered in log\n",
      "  result = getattr(ufunc, method)(*inputs, **kwargs)\n"
     ]
    },
    {
     "name": "stdout",
     "output_type": "stream",
     "text": [
      "Step 7190 — Test metrics:\n",
      "  precision@10: 0.010934197\n",
      "  recall@10: 0.010940803\n",
      "  ndcg@10: 0.011030219\n",
      "  map@10: 0.003425846\n",
      "Epoch 38, Step 60, LR: 0.000379, Current Loss: 0.8717, Avg Loss: 0.8652\n",
      "Diff stats — min: -5.8912, max: 10.0000, mean: 3.6104, std: 2.8719\n",
      "\n",
      "Epoch 38, Step 80, LR: 0.000379, Current Loss: 0.8686, Avg Loss: 0.8655\n",
      "Diff stats — min: -5.6285, max: 10.0000, mean: 3.5063, std: 2.7962\n",
      "\n",
      "Epoch 38, Step 100, LR: 0.000379, Current Loss: 0.8700, Avg Loss: 0.8662\n",
      "Diff stats — min: -5.7386, max: 10.0000, mean: 3.6011, std: 2.8377\n",
      "\n"
     ]
    },
    {
     "name": "stderr",
     "output_type": "stream",
     "text": [
      "/usr/local/lib/python3.11/dist-packages/pandas/core/computation/expressions.py:73: RuntimeWarning: invalid value encountered in less_equal\n",
      "  return op(a, b)\n",
      "/usr/local/lib/python3.11/dist-packages/pandas/core/arraylike.py:399: RuntimeWarning: invalid value encountered in log\n",
      "  result = getattr(ufunc, method)(*inputs, **kwargs)\n"
     ]
    },
    {
     "name": "stdout",
     "output_type": "stream",
     "text": [
      "Step 7240 — Test metrics:\n",
      "  precision@10: 0.011086152\n",
      "  recall@10: 0.011093493\n",
      "  ndcg@10: 0.011211788\n",
      "  map@10: 0.003481036\n",
      "Epoch 38, Step 120, LR: 0.000379, Current Loss: 0.8625, Avg Loss: 0.8664\n",
      "Diff stats — min: -5.3904, max: 10.0000, mean: 3.4888, std: 2.7767\n",
      "\n",
      "Epoch 38, Step 140, LR: 0.000379, Current Loss: 0.8681, Avg Loss: 0.8659\n",
      "Diff stats — min: -5.4297, max: 10.0000, mean: 3.5988, std: 2.8528\n",
      "\n"
     ]
    },
    {
     "name": "stderr",
     "output_type": "stream",
     "text": [
      "/usr/local/lib/python3.11/dist-packages/pandas/core/computation/expressions.py:73: RuntimeWarning: invalid value encountered in less_equal\n",
      "  return op(a, b)\n",
      "/usr/local/lib/python3.11/dist-packages/pandas/core/arraylike.py:399: RuntimeWarning: invalid value encountered in log\n",
      "  result = getattr(ufunc, method)(*inputs, **kwargs)\n"
     ]
    },
    {
     "name": "stdout",
     "output_type": "stream",
     "text": [
      "Step 7290 — Test metrics:\n",
      "  precision@10: 0.011139006\n",
      "  recall@10: 0.011144879\n",
      "  ndcg@10: 0.011200588\n",
      "  map@10: 0.003463886\n",
      "Epoch 38, Step 160, LR: 0.000379, Current Loss: 0.8695, Avg Loss: 0.8663\n",
      "Diff stats — min: -4.8204, max: 10.0000, mean: 3.5524, std: 2.8159\n",
      "\n",
      "Epoch 38, Step 180, LR: 0.000379, Current Loss: 0.8639, Avg Loss: 0.8667\n",
      "Diff stats — min: -7.3843, max: 10.0000, mean: 3.5526, std: 2.8345\n",
      "\n",
      "Epoch 38 completed, Train Loss: 0.000212\n",
      "\n",
      "Epoch 39, Step 1, LR: 0.000379, Current Loss: 0.8693, Avg Loss: 0.8693\n",
      "Diff stats — min: -5.5059, max: 10.0000, mean: 3.5237, std: 2.8080\n",
      "\n"
     ]
    },
    {
     "name": "stderr",
     "output_type": "stream",
     "text": [
      "/usr/local/lib/python3.11/dist-packages/pandas/core/computation/expressions.py:73: RuntimeWarning: invalid value encountered in less_equal\n",
      "  return op(a, b)\n",
      "/usr/local/lib/python3.11/dist-packages/pandas/core/arraylike.py:399: RuntimeWarning: invalid value encountered in log\n",
      "  result = getattr(ufunc, method)(*inputs, **kwargs)\n"
     ]
    },
    {
     "name": "stdout",
     "output_type": "stream",
     "text": [
      "Step 7334 — Test metrics:\n",
      "  precision@10: 0.011271142\n",
      "  recall@10: 0.011276280\n",
      "  ndcg@10: 0.011384788\n",
      "  map@10: 0.003549230\n",
      "Epoch 39, Step 20, LR: 0.000372, Current Loss: 0.8635, Avg Loss: 0.8631\n",
      "Diff stats — min: -4.2685, max: 10.0000, mean: 3.5334, std: 2.8061\n",
      "\n",
      "Epoch 39, Step 40, LR: 0.000372, Current Loss: 0.8655, Avg Loss: 0.8641\n",
      "Diff stats — min: -6.0131, max: 10.0000, mean: 3.5975, std: 2.8486\n",
      "\n"
     ]
    },
    {
     "name": "stderr",
     "output_type": "stream",
     "text": [
      "/usr/local/lib/python3.11/dist-packages/pandas/core/computation/expressions.py:73: RuntimeWarning: invalid value encountered in less_equal\n",
      "  return op(a, b)\n",
      "/usr/local/lib/python3.11/dist-packages/pandas/core/arraylike.py:399: RuntimeWarning: invalid value encountered in log\n",
      "  result = getattr(ufunc, method)(*inputs, **kwargs)\n"
     ]
    },
    {
     "name": "stdout",
     "output_type": "stream",
     "text": [
      "Step 7383 — Test metrics:\n",
      "  precision@10: 0.011178647\n",
      "  recall@10: 0.011185254\n",
      "  ndcg@10: 0.011396208\n",
      "  map@10: 0.003580556\n",
      "Epoch 39, Step 60, LR: 0.000372, Current Loss: 0.8619, Avg Loss: 0.8642\n",
      "Diff stats — min: -6.2426, max: 10.0000, mean: 3.5763, std: 2.8458\n",
      "\n",
      "Epoch 39, Step 80, LR: 0.000372, Current Loss: 0.8576, Avg Loss: 0.8639\n",
      "Diff stats — min: -5.5210, max: 10.0000, mean: 3.6357, std: 2.8249\n",
      "\n",
      "Epoch 39, Step 100, LR: 0.000372, Current Loss: 0.8646, Avg Loss: 0.8641\n",
      "Diff stats — min: -4.7860, max: 10.0000, mean: 3.5477, std: 2.8720\n",
      "\n"
     ]
    },
    {
     "name": "stderr",
     "output_type": "stream",
     "text": [
      "/usr/local/lib/python3.11/dist-packages/pandas/core/computation/expressions.py:73: RuntimeWarning: invalid value encountered in less_equal\n",
      "  return op(a, b)\n",
      "/usr/local/lib/python3.11/dist-packages/pandas/core/arraylike.py:399: RuntimeWarning: invalid value encountered in log\n",
      "  result = getattr(ufunc, method)(*inputs, **kwargs)\n"
     ]
    },
    {
     "name": "stdout",
     "output_type": "stream",
     "text": [
      "Step 7433 — Test metrics:\n",
      "  precision@10: 0.011006871\n",
      "  recall@10: 0.011014212\n",
      "  ndcg@10: 0.011121218\n",
      "  map@10: 0.003451356\n",
      "Epoch 39, Step 120, LR: 0.000372, Current Loss: 0.8764, Avg Loss: 0.8645\n",
      "Diff stats — min: -6.6997, max: 10.0000, mean: 3.6177, std: 2.8949\n",
      "\n",
      "Epoch 39, Step 140, LR: 0.000372, Current Loss: 0.8590, Avg Loss: 0.8642\n",
      "Diff stats — min: -6.6693, max: 10.0000, mean: 3.5826, std: 2.8219\n",
      "\n"
     ]
    },
    {
     "name": "stderr",
     "output_type": "stream",
     "text": [
      "/usr/local/lib/python3.11/dist-packages/pandas/core/computation/expressions.py:73: RuntimeWarning: invalid value encountered in less_equal\n",
      "  return op(a, b)\n",
      "/usr/local/lib/python3.11/dist-packages/pandas/core/arraylike.py:399: RuntimeWarning: invalid value encountered in log\n",
      "  result = getattr(ufunc, method)(*inputs, **kwargs)\n"
     ]
    },
    {
     "name": "stdout",
     "output_type": "stream",
     "text": [
      "Step 7483 — Test metrics:\n",
      "  precision@10: 0.010848309\n",
      "  recall@10: 0.010854915\n",
      "  ndcg@10: 0.010976767\n",
      "  map@10: 0.003425575\n",
      "Epoch 39, Step 160, LR: 0.000372, Current Loss: 0.8691, Avg Loss: 0.8639\n",
      "Diff stats — min: -4.9353, max: 10.0000, mean: 3.5658, std: 2.8409\n",
      "\n",
      "Epoch 39, Step 180, LR: 0.000364, Current Loss: 0.8600, Avg Loss: 0.8641\n",
      "Diff stats — min: -5.3565, max: 10.0000, mean: 3.6899, std: 2.8851\n",
      "\n",
      "Epoch 39 completed, Train Loss: 0.000211\n",
      "\n",
      "Epoch 40, Step 1, LR: 0.000364, Current Loss: 0.8548, Avg Loss: 0.8548\n",
      "Diff stats — min: -5.8542, max: 10.0000, mean: 3.6981, std: 2.8410\n",
      "\n"
     ]
    },
    {
     "name": "stderr",
     "output_type": "stream",
     "text": [
      "/usr/local/lib/python3.11/dist-packages/pandas/core/computation/expressions.py:73: RuntimeWarning: invalid value encountered in less_equal\n",
      "  return op(a, b)\n",
      "/usr/local/lib/python3.11/dist-packages/pandas/core/arraylike.py:399: RuntimeWarning: invalid value encountered in log\n",
      "  result = getattr(ufunc, method)(*inputs, **kwargs)\n"
     ]
    },
    {
     "name": "stdout",
     "output_type": "stream",
     "text": [
      "Step 7527 — Test metrics:\n",
      "  precision@10: 0.010894556\n",
      "  recall@10: 0.010902814\n",
      "  ndcg@10: 0.011033508\n",
      "  map@10: 0.003426518\n",
      "Epoch 40, Step 20, LR: 0.000364, Current Loss: 0.8555, Avg Loss: 0.8637\n",
      "Diff stats — min: -5.4971, max: 10.0000, mean: 3.5770, std: 2.7655\n",
      "\n",
      "Epoch 40, Step 40, LR: 0.000364, Current Loss: 0.8581, Avg Loss: 0.8630\n",
      "Diff stats — min: -6.6878, max: 10.0000, mean: 3.6392, std: 2.8472\n",
      "\n"
     ]
    },
    {
     "name": "stderr",
     "output_type": "stream",
     "text": [
      "/usr/local/lib/python3.11/dist-packages/pandas/core/computation/expressions.py:73: RuntimeWarning: invalid value encountered in less_equal\n",
      "  return op(a, b)\n",
      "/usr/local/lib/python3.11/dist-packages/pandas/core/arraylike.py:399: RuntimeWarning: invalid value encountered in log\n",
      "  result = getattr(ufunc, method)(*inputs, **kwargs)\n"
     ]
    },
    {
     "name": "stdout",
     "output_type": "stream",
     "text": [
      "Step 7576 — Test metrics:\n",
      "  precision@10: 0.010987051\n",
      "  recall@10: 0.010995309\n",
      "  ndcg@10: 0.011066910\n",
      "  map@10: 0.003426605\n",
      "Epoch 40, Step 60, LR: 0.000364, Current Loss: 0.8611, Avg Loss: 0.8637\n",
      "Diff stats — min: -5.4172, max: 10.0000, mean: 3.6384, std: 2.8562\n",
      "\n",
      "Epoch 40, Step 80, LR: 0.000364, Current Loss: 0.8563, Avg Loss: 0.8631\n",
      "Diff stats — min: -5.2280, max: 10.0000, mean: 3.6635, std: 2.8594\n",
      "\n",
      "Epoch 40, Step 100, LR: 0.000364, Current Loss: 0.8475, Avg Loss: 0.8616\n",
      "Diff stats — min: -5.2028, max: 10.0000, mean: 3.6346, std: 2.8222\n",
      "\n"
     ]
    },
    {
     "name": "stderr",
     "output_type": "stream",
     "text": [
      "/usr/local/lib/python3.11/dist-packages/pandas/core/computation/expressions.py:73: RuntimeWarning: invalid value encountered in less_equal\n",
      "  return op(a, b)\n",
      "/usr/local/lib/python3.11/dist-packages/pandas/core/arraylike.py:399: RuntimeWarning: invalid value encountered in log\n",
      "  result = getattr(ufunc, method)(*inputs, **kwargs)\n"
     ]
    },
    {
     "name": "stdout",
     "output_type": "stream",
     "text": [
      "Step 7626 — Test metrics:\n",
      "  precision@10: 0.011066332\n",
      "  recall@10: 0.011072939\n",
      "  ndcg@10: 0.011157141\n",
      "  map@10: 0.003458955\n",
      "Epoch 40, Step 120, LR: 0.000364, Current Loss: 0.8642, Avg Loss: 0.8610\n",
      "Diff stats — min: -4.6168, max: 10.0000, mean: 3.5961, std: 2.8855\n",
      "\n",
      "Epoch 40, Step 140, LR: 0.000357, Current Loss: 0.8655, Avg Loss: 0.8609\n",
      "Diff stats — min: -5.1010, max: 10.0000, mean: 3.6543, std: 2.8946\n",
      "\n"
     ]
    },
    {
     "name": "stderr",
     "output_type": "stream",
     "text": [
      "/usr/local/lib/python3.11/dist-packages/pandas/core/computation/expressions.py:73: RuntimeWarning: invalid value encountered in less_equal\n",
      "  return op(a, b)\n",
      "/usr/local/lib/python3.11/dist-packages/pandas/core/arraylike.py:399: RuntimeWarning: invalid value encountered in log\n",
      "  result = getattr(ufunc, method)(*inputs, **kwargs)\n"
     ]
    },
    {
     "name": "stdout",
     "output_type": "stream",
     "text": [
      "Step 7676 — Test metrics:\n",
      "  precision@10: 0.011053118\n",
      "  recall@10: 0.011059725\n",
      "  ndcg@10: 0.011176667\n",
      "  map@10: 0.003488090\n",
      "Epoch 40, Step 160, LR: 0.000357, Current Loss: 0.8609, Avg Loss: 0.8610\n",
      "Diff stats — min: -5.4019, max: 10.0000, mean: 3.6830, std: 2.8721\n",
      "\n",
      "Epoch 40, Step 180, LR: 0.000357, Current Loss: 0.8701, Avg Loss: 0.8612\n",
      "Diff stats — min: -4.6887, max: 10.0000, mean: 3.7735, std: 2.9160\n",
      "\n",
      "Epoch 40 completed, Train Loss: 0.000210\n",
      "\n",
      "Epoch 41, Step 1, LR: 0.000357, Current Loss: 0.8624, Avg Loss: 0.8624\n",
      "Diff stats — min: -6.2696, max: 10.0000, mean: 3.6972, std: 2.9149\n",
      "\n"
     ]
    },
    {
     "name": "stderr",
     "output_type": "stream",
     "text": [
      "/usr/local/lib/python3.11/dist-packages/pandas/core/computation/expressions.py:73: RuntimeWarning: invalid value encountered in less_equal\n",
      "  return op(a, b)\n",
      "/usr/local/lib/python3.11/dist-packages/pandas/core/arraylike.py:399: RuntimeWarning: invalid value encountered in log\n",
      "  result = getattr(ufunc, method)(*inputs, **kwargs)\n"
     ]
    },
    {
     "name": "stdout",
     "output_type": "stream",
     "text": [
      "Step 7720 — Test metrics:\n",
      "  precision@10: 0.010927590\n",
      "  recall@10: 0.010933463\n",
      "  ndcg@10: 0.011133343\n",
      "  map@10: 0.003486261\n",
      "Epoch 41, Step 20, LR: 0.000357, Current Loss: 0.8611, Avg Loss: 0.8599\n",
      "Diff stats — min: -5.7904, max: 10.0000, mean: 3.6357, std: 2.8386\n",
      "\n",
      "Epoch 41, Step 40, LR: 0.000357, Current Loss: 0.8517, Avg Loss: 0.8595\n",
      "Diff stats — min: -4.7678, max: 10.0000, mean: 3.6532, std: 2.8754\n",
      "\n"
     ]
    },
    {
     "name": "stderr",
     "output_type": "stream",
     "text": [
      "/usr/local/lib/python3.11/dist-packages/pandas/core/computation/expressions.py:73: RuntimeWarning: invalid value encountered in less_equal\n",
      "  return op(a, b)\n",
      "/usr/local/lib/python3.11/dist-packages/pandas/core/arraylike.py:399: RuntimeWarning: invalid value encountered in log\n",
      "  result = getattr(ufunc, method)(*inputs, **kwargs)\n"
     ]
    },
    {
     "name": "stdout",
     "output_type": "stream",
     "text": [
      "Step 7769 — Test metrics:\n",
      "  precision@10: 0.010782241\n",
      "  recall@10: 0.010789582\n",
      "  ndcg@10: 0.010913664\n",
      "  map@10: 0.003394241\n",
      "Epoch 41, Step 60, LR: 0.000357, Current Loss: 0.8654, Avg Loss: 0.8589\n",
      "Diff stats — min: -8.6174, max: 10.0000, mean: 3.6526, std: 2.9033\n",
      "\n",
      "Epoch 41, Step 80, LR: 0.000357, Current Loss: 0.8495, Avg Loss: 0.8589\n",
      "Diff stats — min: -5.3590, max: 10.0000, mean: 3.6429, std: 2.8845\n",
      "\n",
      "Epoch 41, Step 100, LR: 0.000350, Current Loss: 0.8568, Avg Loss: 0.8592\n",
      "Diff stats — min: -7.2307, max: 10.0000, mean: 3.6283, std: 2.8570\n",
      "\n"
     ]
    },
    {
     "name": "stderr",
     "output_type": "stream",
     "text": [
      "/usr/local/lib/python3.11/dist-packages/pandas/core/computation/expressions.py:73: RuntimeWarning: invalid value encountered in less_equal\n",
      "  return op(a, b)\n",
      "/usr/local/lib/python3.11/dist-packages/pandas/core/arraylike.py:399: RuntimeWarning: invalid value encountered in log\n",
      "  result = getattr(ufunc, method)(*inputs, **kwargs)\n"
     ]
    },
    {
     "name": "stdout",
     "output_type": "stream",
     "text": [
      "Step 7819 — Test metrics:\n",
      "  precision@10: 0.011059725\n",
      "  recall@10: 0.011066515\n",
      "  ndcg@10: 0.011284538\n",
      "  map@10: 0.003539880\n",
      "Epoch 41, Step 120, LR: 0.000350, Current Loss: 0.8512, Avg Loss: 0.8592\n",
      "Diff stats — min: -6.4217, max: 10.0000, mean: 3.7339, std: 2.8865\n",
      "\n",
      "Epoch 41, Step 140, LR: 0.000350, Current Loss: 0.8599, Avg Loss: 0.8593\n",
      "Diff stats — min: -5.2778, max: 10.0000, mean: 3.7098, std: 2.8798\n",
      "\n"
     ]
    },
    {
     "name": "stderr",
     "output_type": "stream",
     "text": [
      "/usr/local/lib/python3.11/dist-packages/pandas/core/computation/expressions.py:73: RuntimeWarning: invalid value encountered in less_equal\n",
      "  return op(a, b)\n",
      "/usr/local/lib/python3.11/dist-packages/pandas/core/arraylike.py:399: RuntimeWarning: invalid value encountered in log\n",
      "  result = getattr(ufunc, method)(*inputs, **kwargs)\n"
     ]
    },
    {
     "name": "stdout",
     "output_type": "stream",
     "text": [
      "Step 7869 — Test metrics:\n",
      "  precision@10: 0.011039905\n",
      "  recall@10: 0.011045778\n",
      "  ndcg@10: 0.011238994\n",
      "  map@10: 0.003523072\n",
      "Epoch 41, Step 160, LR: 0.000350, Current Loss: 0.8439, Avg Loss: 0.8594\n",
      "Diff stats — min: -8.1835, max: 10.0000, mean: 3.7102, std: 2.8613\n",
      "\n",
      "Epoch 41, Step 180, LR: 0.000350, Current Loss: 0.8508, Avg Loss: 0.8595\n",
      "Diff stats — min: -4.2807, max: 10.0000, mean: 3.7208, std: 2.8901\n",
      "\n",
      "Epoch 41 completed, Train Loss: 0.000210\n",
      "\n",
      "Epoch 42, Step 1, LR: 0.000350, Current Loss: 0.8700, Avg Loss: 0.8700\n",
      "Diff stats — min: -5.1199, max: 10.0000, mean: 3.6144, std: 2.9171\n",
      "\n"
     ]
    },
    {
     "name": "stderr",
     "output_type": "stream",
     "text": [
      "/usr/local/lib/python3.11/dist-packages/pandas/core/computation/expressions.py:73: RuntimeWarning: invalid value encountered in less_equal\n",
      "  return op(a, b)\n",
      "/usr/local/lib/python3.11/dist-packages/pandas/core/arraylike.py:399: RuntimeWarning: invalid value encountered in log\n",
      "  result = getattr(ufunc, method)(*inputs, **kwargs)\n"
     ]
    },
    {
     "name": "stdout",
     "output_type": "stream",
     "text": [
      "Step 7913 — Test metrics:\n",
      "  precision@10: 0.010643499\n",
      "  recall@10: 0.010649372\n",
      "  ndcg@10: 0.010667898\n",
      "  map@10: 0.003301492\n",
      "Epoch 42, Step 20, LR: 0.000350, Current Loss: 0.8520, Avg Loss: 0.8624\n",
      "Diff stats — min: -6.1263, max: 10.0000, mean: 3.8087, std: 2.9298\n",
      "\n",
      "Epoch 42, Step 40, LR: 0.000343, Current Loss: 0.8463, Avg Loss: 0.8592\n",
      "Diff stats — min: -4.6290, max: 10.0000, mean: 3.7781, std: 2.8578\n",
      "\n"
     ]
    },
    {
     "name": "stderr",
     "output_type": "stream",
     "text": [
      "/usr/local/lib/python3.11/dist-packages/pandas/core/computation/expressions.py:73: RuntimeWarning: invalid value encountered in less_equal\n",
      "  return op(a, b)\n",
      "/usr/local/lib/python3.11/dist-packages/pandas/core/arraylike.py:399: RuntimeWarning: invalid value encountered in log\n",
      "  result = getattr(ufunc, method)(*inputs, **kwargs)\n"
     ]
    },
    {
     "name": "stdout",
     "output_type": "stream",
     "text": [
      "Step 7962 — Test metrics:\n",
      "  precision@10: 0.010874736\n",
      "  recall@10: 0.010881526\n",
      "  ndcg@10: 0.010975401\n",
      "  map@10: 0.003405841\n",
      "Epoch 42, Step 60, LR: 0.000343, Current Loss: 0.8567, Avg Loss: 0.8576\n",
      "Diff stats — min: -5.5538, max: 10.0000, mean: 3.6952, std: 2.8819\n",
      "\n",
      "Epoch 42, Step 80, LR: 0.000343, Current Loss: 0.8642, Avg Loss: 0.8579\n",
      "Diff stats — min: -6.9738, max: 10.0000, mean: 3.6814, std: 2.9084\n",
      "\n",
      "Epoch 42, Step 100, LR: 0.000343, Current Loss: 0.8629, Avg Loss: 0.8579\n",
      "Diff stats — min: -5.9535, max: 10.0000, mean: 3.7572, std: 2.9277\n",
      "\n"
     ]
    },
    {
     "name": "stderr",
     "output_type": "stream",
     "text": [
      "/usr/local/lib/python3.11/dist-packages/pandas/core/computation/expressions.py:73: RuntimeWarning: invalid value encountered in less_equal\n",
      "  return op(a, b)\n",
      "/usr/local/lib/python3.11/dist-packages/pandas/core/arraylike.py:399: RuntimeWarning: invalid value encountered in log\n",
      "  result = getattr(ufunc, method)(*inputs, **kwargs)\n"
     ]
    },
    {
     "name": "stdout",
     "output_type": "stream",
     "text": [
      "Step 8012 — Test metrics:\n",
      "  precision@10: 0.010755814\n",
      "  recall@10: 0.010760218\n",
      "  ndcg@10: 0.010768570\n",
      "  map@10: 0.003314082\n",
      "Epoch 42, Step 120, LR: 0.000343, Current Loss: 0.8613, Avg Loss: 0.8580\n",
      "Diff stats — min: -5.5975, max: 10.0000, mean: 3.6539, std: 2.8579\n",
      "\n",
      "Epoch 42, Step 140, LR: 0.000343, Current Loss: 0.8670, Avg Loss: 0.8585\n",
      "Diff stats — min: -7.2161, max: 10.0000, mean: 3.6303, std: 2.8876\n",
      "\n"
     ]
    },
    {
     "name": "stderr",
     "output_type": "stream",
     "text": [
      "/usr/local/lib/python3.11/dist-packages/pandas/core/computation/expressions.py:73: RuntimeWarning: invalid value encountered in less_equal\n",
      "  return op(a, b)\n",
      "/usr/local/lib/python3.11/dist-packages/pandas/core/arraylike.py:399: RuntimeWarning: invalid value encountered in log\n",
      "  result = getattr(ufunc, method)(*inputs, **kwargs)\n"
     ]
    },
    {
     "name": "stdout",
     "output_type": "stream",
     "text": [
      "Step 8062 — Test metrics:\n",
      "  precision@10: 0.010775634\n",
      "  recall@10: 0.010783709\n",
      "  ndcg@10: 0.010791559\n",
      "  map@10: 0.003327487\n",
      "Epoch 42, Step 160, LR: 0.000343, Current Loss: 0.8585, Avg Loss: 0.8583\n",
      "Diff stats — min: -4.5803, max: 10.0000, mean: 3.6930, std: 2.8833\n",
      "\n",
      "Epoch 42, Step 180, LR: 0.000343, Current Loss: 0.8647, Avg Loss: 0.8580\n",
      "Diff stats — min: -5.8500, max: 10.0000, mean: 3.7206, std: 2.9454\n",
      "\n",
      "Epoch 42 completed, Train Loss: 0.000210\n",
      "\n",
      "Epoch 43, Step 1, LR: 0.000336, Current Loss: 0.8494, Avg Loss: 0.8494\n",
      "Diff stats — min: -5.8366, max: 10.0000, mean: 3.8292, std: 2.9208\n",
      "\n"
     ]
    },
    {
     "name": "stderr",
     "output_type": "stream",
     "text": [
      "/usr/local/lib/python3.11/dist-packages/pandas/core/computation/expressions.py:73: RuntimeWarning: invalid value encountered in less_equal\n",
      "  return op(a, b)\n",
      "/usr/local/lib/python3.11/dist-packages/pandas/core/arraylike.py:399: RuntimeWarning: invalid value encountered in log\n",
      "  result = getattr(ufunc, method)(*inputs, **kwargs)\n"
     ]
    },
    {
     "name": "stdout",
     "output_type": "stream",
     "text": [
      "Step 8106 — Test metrics:\n",
      "  precision@10: 0.010524577\n",
      "  recall@10: 0.010531918\n",
      "  ndcg@10: 0.010548863\n",
      "  map@10: 0.003246542\n",
      "Epoch 43, Step 20, LR: 0.000336, Current Loss: 0.8554, Avg Loss: 0.8601\n",
      "Diff stats — min: -6.7167, max: 10.0000, mean: 3.6960, std: 2.8854\n",
      "\n",
      "Epoch 43, Step 40, LR: 0.000336, Current Loss: 0.8477, Avg Loss: 0.8584\n",
      "Diff stats — min: -6.1311, max: 10.0000, mean: 3.7997, std: 2.9218\n",
      "\n"
     ]
    },
    {
     "name": "stderr",
     "output_type": "stream",
     "text": [
      "/usr/local/lib/python3.11/dist-packages/pandas/core/computation/expressions.py:73: RuntimeWarning: invalid value encountered in less_equal\n",
      "  return op(a, b)\n",
      "/usr/local/lib/python3.11/dist-packages/pandas/core/arraylike.py:399: RuntimeWarning: invalid value encountered in log\n",
      "  result = getattr(ufunc, method)(*inputs, **kwargs)\n"
     ]
    },
    {
     "name": "stdout",
     "output_type": "stream",
     "text": [
      "Step 8155 — Test metrics:\n",
      "  precision@10: 0.010557611\n",
      "  recall@10: 0.010563484\n",
      "  ndcg@10: 0.010716051\n",
      "  map@10: 0.003342297\n",
      "Epoch 43, Step 60, LR: 0.000336, Current Loss: 0.8527, Avg Loss: 0.8571\n",
      "Diff stats — min: -5.8792, max: 10.0000, mean: 3.7246, std: 2.9367\n",
      "\n",
      "Epoch 43, Step 80, LR: 0.000336, Current Loss: 0.8691, Avg Loss: 0.8575\n",
      "Diff stats — min: -7.7055, max: 10.0000, mean: 3.6459, std: 2.9297\n",
      "\n",
      "Epoch 43, Step 100, LR: 0.000336, Current Loss: 0.8659, Avg Loss: 0.8573\n",
      "Diff stats — min: -6.8724, max: 10.0000, mean: 3.7701, std: 2.9941\n",
      "\n"
     ]
    },
    {
     "name": "stderr",
     "output_type": "stream",
     "text": [
      "/usr/local/lib/python3.11/dist-packages/pandas/core/computation/expressions.py:73: RuntimeWarning: invalid value encountered in less_equal\n",
      "  return op(a, b)\n",
      "/usr/local/lib/python3.11/dist-packages/pandas/core/arraylike.py:399: RuntimeWarning: invalid value encountered in log\n",
      "  result = getattr(ufunc, method)(*inputs, **kwargs)\n"
     ]
    },
    {
     "name": "stdout",
     "output_type": "stream",
     "text": [
      "Step 8205 — Test metrics:\n",
      "  precision@10: 0.010478330\n",
      "  recall@10: 0.010484202\n",
      "  ndcg@10: 0.010616297\n",
      "  map@10: 0.003300367\n",
      "Epoch 43, Step 120, LR: 0.000336, Current Loss: 0.8612, Avg Loss: 0.8570\n",
      "Diff stats — min: -5.8043, max: 10.0000, mean: 3.8116, std: 2.9565\n",
      "\n",
      "Epoch 43, Step 140, LR: 0.000336, Current Loss: 0.8645, Avg Loss: 0.8574\n",
      "Diff stats — min: -6.0199, max: 10.0000, mean: 3.6929, std: 2.9243\n",
      "\n"
     ]
    },
    {
     "name": "stderr",
     "output_type": "stream",
     "text": [
      "/usr/local/lib/python3.11/dist-packages/pandas/core/computation/expressions.py:73: RuntimeWarning: invalid value encountered in less_equal\n",
      "  return op(a, b)\n",
      "/usr/local/lib/python3.11/dist-packages/pandas/core/arraylike.py:399: RuntimeWarning: invalid value encountered in log\n",
      "  result = getattr(ufunc, method)(*inputs, **kwargs)\n"
     ]
    },
    {
     "name": "stdout",
     "output_type": "stream",
     "text": [
      "Step 8255 — Test metrics:\n",
      "  precision@10: 0.010471723\n",
      "  recall@10: 0.010477596\n",
      "  ndcg@10: 0.010540324\n",
      "  map@10: 0.003251811\n",
      "Epoch 43, Step 160, LR: 0.000329, Current Loss: 0.8481, Avg Loss: 0.8574\n",
      "Diff stats — min: -5.4061, max: 10.0000, mean: 3.7476, std: 2.9452\n",
      "\n",
      "Epoch 43, Step 180, LR: 0.000329, Current Loss: 0.8438, Avg Loss: 0.8576\n",
      "Diff stats — min: -6.1009, max: 10.0000, mean: 3.7678, std: 2.8887\n",
      "\n",
      "Epoch 43 completed, Train Loss: 0.000210\n",
      "\n",
      "Epoch 44, Step 1, LR: 0.000329, Current Loss: 0.8637, Avg Loss: 0.8637\n",
      "Diff stats — min: -6.6837, max: 10.0000, mean: 3.7174, std: 2.9395\n",
      "\n"
     ]
    },
    {
     "name": "stderr",
     "output_type": "stream",
     "text": [
      "/usr/local/lib/python3.11/dist-packages/pandas/core/computation/expressions.py:73: RuntimeWarning: invalid value encountered in less_equal\n",
      "  return op(a, b)\n",
      "/usr/local/lib/python3.11/dist-packages/pandas/core/arraylike.py:399: RuntimeWarning: invalid value encountered in log\n",
      "  result = getattr(ufunc, method)(*inputs, **kwargs)\n"
     ]
    },
    {
     "name": "stdout",
     "output_type": "stream",
     "text": [
      "Step 8299 — Test metrics:\n",
      "  precision@10: 0.010636892\n",
      "  recall@10: 0.010643499\n",
      "  ndcg@10: 0.010748358\n",
      "  map@10: 0.003352887\n",
      "Epoch 44, Step 20, LR: 0.000329, Current Loss: 0.8425, Avg Loss: 0.8554\n",
      "Diff stats — min: -6.4478, max: 10.0000, mean: 3.8114, std: 2.8902\n",
      "\n",
      "Epoch 44, Step 40, LR: 0.000329, Current Loss: 0.8446, Avg Loss: 0.8551\n",
      "Diff stats — min: -6.2549, max: 10.0000, mean: 3.8264, std: 2.9041\n",
      "\n"
     ]
    },
    {
     "name": "stderr",
     "output_type": "stream",
     "text": [
      "/usr/local/lib/python3.11/dist-packages/pandas/core/computation/expressions.py:73: RuntimeWarning: invalid value encountered in less_equal\n",
      "  return op(a, b)\n",
      "/usr/local/lib/python3.11/dist-packages/pandas/core/arraylike.py:399: RuntimeWarning: invalid value encountered in log\n",
      "  result = getattr(ufunc, method)(*inputs, **kwargs)\n"
     ]
    },
    {
     "name": "stdout",
     "output_type": "stream",
     "text": [
      "Step 8348 — Test metrics:\n",
      "  precision@10: 0.010940803\n",
      "  recall@10: 0.010947410\n",
      "  ndcg@10: 0.011051084\n",
      "  map@10: 0.003416006\n",
      "Epoch 44, Step 60, LR: 0.000329, Current Loss: 0.8576, Avg Loss: 0.8551\n",
      "Diff stats — min: -4.9344, max: 10.0000, mean: 3.7725, std: 2.9502\n",
      "\n",
      "Epoch 44, Step 80, LR: 0.000329, Current Loss: 0.8388, Avg Loss: 0.8559\n",
      "Diff stats — min: -4.9279, max: 10.0000, mean: 3.8343, std: 2.8746\n",
      "\n",
      "Epoch 44, Step 100, LR: 0.000329, Current Loss: 0.8565, Avg Loss: 0.8548\n",
      "Diff stats — min: -5.1202, max: 10.0000, mean: 3.8050, std: 2.9113\n",
      "\n"
     ]
    },
    {
     "name": "stderr",
     "output_type": "stream",
     "text": [
      "/usr/local/lib/python3.11/dist-packages/pandas/core/computation/expressions.py:73: RuntimeWarning: invalid value encountered in less_equal\n",
      "  return op(a, b)\n",
      "/usr/local/lib/python3.11/dist-packages/pandas/core/arraylike.py:399: RuntimeWarning: invalid value encountered in log\n",
      "  result = getattr(ufunc, method)(*inputs, **kwargs)\n"
     ]
    },
    {
     "name": "stdout",
     "output_type": "stream",
     "text": [
      "Step 8398 — Test metrics:\n",
      "  precision@10: 0.010359408\n",
      "  recall@10: 0.010364547\n",
      "  ndcg@10: 0.010465861\n",
      "  map@10: 0.003248047\n",
      "Epoch 44, Step 120, LR: 0.000323, Current Loss: 0.8610, Avg Loss: 0.8556\n",
      "Diff stats — min: -5.3572, max: 10.0000, mean: 3.7229, std: 2.8939\n",
      "\n",
      "Epoch 44, Step 140, LR: 0.000323, Current Loss: 0.8572, Avg Loss: 0.8557\n",
      "Diff stats — min: -5.5529, max: 10.0000, mean: 3.7720, std: 2.9564\n",
      "\n"
     ]
    },
    {
     "name": "stderr",
     "output_type": "stream",
     "text": [
      "/usr/local/lib/python3.11/dist-packages/pandas/core/computation/expressions.py:73: RuntimeWarning: invalid value encountered in less_equal\n",
      "  return op(a, b)\n",
      "/usr/local/lib/python3.11/dist-packages/pandas/core/arraylike.py:399: RuntimeWarning: invalid value encountered in log\n",
      "  result = getattr(ufunc, method)(*inputs, **kwargs)\n"
     ]
    },
    {
     "name": "stdout",
     "output_type": "stream",
     "text": [
      "Step 8448 — Test metrics:\n",
      "  precision@10: 0.010656712\n",
      "  recall@10: 0.010662585\n",
      "  ndcg@10: 0.010711107\n",
      "  map@10: 0.003307871\n",
      "Epoch 44, Step 160, LR: 0.000323, Current Loss: 0.8505, Avg Loss: 0.8558\n",
      "Diff stats — min: -5.6502, max: 10.0000, mean: 3.7747, std: 2.9413\n",
      "\n",
      "Epoch 44, Step 180, LR: 0.000323, Current Loss: 0.8620, Avg Loss: 0.8556\n",
      "Diff stats — min: -6.7987, max: 10.0000, mean: 3.7678, std: 2.9472\n",
      "\n",
      "Epoch 44 completed, Train Loss: 0.000209\n",
      "\n",
      "Epoch 45, Step 1, LR: 0.000323, Current Loss: 0.8529, Avg Loss: 0.8529\n",
      "Diff stats — min: -6.5038, max: 10.0000, mean: 3.8598, std: 2.9872\n",
      "\n"
     ]
    },
    {
     "name": "stderr",
     "output_type": "stream",
     "text": [
      "/usr/local/lib/python3.11/dist-packages/pandas/core/computation/expressions.py:73: RuntimeWarning: invalid value encountered in less_equal\n",
      "  return op(a, b)\n",
      "/usr/local/lib/python3.11/dist-packages/pandas/core/arraylike.py:399: RuntimeWarning: invalid value encountered in log\n",
      "  result = getattr(ufunc, method)(*inputs, **kwargs)\n"
     ]
    },
    {
     "name": "stdout",
     "output_type": "stream",
     "text": [
      "Step 8492 — Test metrics:\n",
      "  precision@10: 0.010709567\n",
      "  recall@10: 0.010717091\n",
      "  ndcg@10: 0.010920451\n",
      "  map@10: 0.003428012\n",
      "Epoch 45, Step 20, LR: 0.000323, Current Loss: 0.8622, Avg Loss: 0.8553\n",
      "Diff stats — min: -4.3781, max: 10.0000, mean: 3.7260, std: 2.9057\n",
      "\n",
      "Epoch 45, Step 40, LR: 0.000323, Current Loss: 0.8598, Avg Loss: 0.8544\n",
      "Diff stats — min: -5.6853, max: 10.0000, mean: 3.7081, std: 2.8934\n",
      "\n"
     ]
    },
    {
     "name": "stderr",
     "output_type": "stream",
     "text": [
      "/usr/local/lib/python3.11/dist-packages/pandas/core/computation/expressions.py:73: RuntimeWarning: invalid value encountered in less_equal\n",
      "  return op(a, b)\n",
      "/usr/local/lib/python3.11/dist-packages/pandas/core/arraylike.py:399: RuntimeWarning: invalid value encountered in log\n",
      "  result = getattr(ufunc, method)(*inputs, **kwargs)\n"
     ]
    },
    {
     "name": "stdout",
     "output_type": "stream",
     "text": [
      "Step 8541 — Test metrics:\n",
      "  precision@10: 0.010636892\n",
      "  recall@10: 0.010643682\n",
      "  ndcg@10: 0.010869551\n",
      "  map@10: 0.003422981\n",
      "Epoch 45, Step 60, LR: 0.000316, Current Loss: 0.8444, Avg Loss: 0.8541\n",
      "Diff stats — min: -6.1513, max: 10.0000, mean: 3.8250, std: 2.9638\n",
      "\n",
      "Epoch 45, Step 80, LR: 0.000316, Current Loss: 0.8642, Avg Loss: 0.8543\n",
      "Diff stats — min: -6.4779, max: 10.0000, mean: 3.7590, std: 2.9505\n",
      "\n",
      "Epoch 45, Step 100, LR: 0.000316, Current Loss: 0.8468, Avg Loss: 0.8543\n",
      "Diff stats — min: -5.1612, max: 10.0000, mean: 3.7408, std: 2.9072\n",
      "\n"
     ]
    },
    {
     "name": "stderr",
     "output_type": "stream",
     "text": [
      "/usr/local/lib/python3.11/dist-packages/pandas/core/computation/expressions.py:73: RuntimeWarning: invalid value encountered in less_equal\n",
      "  return op(a, b)\n",
      "/usr/local/lib/python3.11/dist-packages/pandas/core/arraylike.py:399: RuntimeWarning: invalid value encountered in log\n",
      "  result = getattr(ufunc, method)(*inputs, **kwargs)\n"
     ]
    },
    {
     "name": "stdout",
     "output_type": "stream",
     "text": [
      "Step 8591 — Test metrics:\n",
      "  precision@10: 0.011337209\n",
      "  recall@10: 0.011346202\n",
      "  ndcg@10: 0.011562122\n",
      "  map@10: 0.003629906\n",
      "Epoch 45, Step 120, LR: 0.000316, Current Loss: 0.8704, Avg Loss: 0.8547\n",
      "Diff stats — min: -6.6494, max: 10.0000, mean: 3.7275, std: 2.9373\n",
      "\n",
      "Epoch 45, Step 140, LR: 0.000316, Current Loss: 0.8583, Avg Loss: 0.8552\n",
      "Diff stats — min: -5.9411, max: 10.0000, mean: 3.7492, std: 2.9378\n",
      "\n"
     ]
    },
    {
     "name": "stderr",
     "output_type": "stream",
     "text": [
      "/usr/local/lib/python3.11/dist-packages/pandas/core/computation/expressions.py:73: RuntimeWarning: invalid value encountered in less_equal\n",
      "  return op(a, b)\n",
      "/usr/local/lib/python3.11/dist-packages/pandas/core/arraylike.py:399: RuntimeWarning: invalid value encountered in log\n",
      "  result = getattr(ufunc, method)(*inputs, **kwargs)\n"
     ]
    },
    {
     "name": "stdout",
     "output_type": "stream",
     "text": [
      "Step 8641 — Test metrics:\n",
      "  precision@10: 0.011079545\n",
      "  recall@10: 0.011088538\n",
      "  ndcg@10: 0.011217832\n",
      "  map@10: 0.003502611\n",
      "Epoch 45, Step 160, LR: 0.000316, Current Loss: 0.8567, Avg Loss: 0.8547\n",
      "Diff stats — min: -5.6173, max: 10.0000, mean: 3.7250, std: 2.9154\n",
      "\n",
      "Epoch 45, Step 180, LR: 0.000316, Current Loss: 0.8617, Avg Loss: 0.8544\n",
      "Diff stats — min: -6.1862, max: 10.0000, mean: 3.8786, std: 2.9796\n",
      "\n",
      "Epoch 45 completed, Train Loss: 0.000209\n",
      "\n",
      "Epoch 46, Step 1, LR: 0.000316, Current Loss: 0.8557, Avg Loss: 0.8557\n",
      "Diff stats — min: -5.1601, max: 10.0000, mean: 3.8023, std: 2.9520\n",
      "\n"
     ]
    },
    {
     "name": "stderr",
     "output_type": "stream",
     "text": [
      "/usr/local/lib/python3.11/dist-packages/pandas/core/computation/expressions.py:73: RuntimeWarning: invalid value encountered in less_equal\n",
      "  return op(a, b)\n",
      "/usr/local/lib/python3.11/dist-packages/pandas/core/arraylike.py:399: RuntimeWarning: invalid value encountered in log\n",
      "  result = getattr(ufunc, method)(*inputs, **kwargs)\n"
     ]
    },
    {
     "name": "stdout",
     "output_type": "stream",
     "text": [
      "Step 8685 — Test metrics:\n",
      "  precision@10: 0.010881342\n",
      "  recall@10: 0.010888867\n",
      "  ndcg@10: 0.011064085\n",
      "  map@10: 0.003467231\n",
      "Epoch 46, Step 20, LR: 0.000310, Current Loss: 0.8472, Avg Loss: 0.8516\n",
      "Diff stats — min: -7.2916, max: 10.0000, mean: 3.8533, std: 2.9293\n",
      "\n",
      "Epoch 46, Step 40, LR: 0.000310, Current Loss: 0.8441, Avg Loss: 0.8525\n",
      "Diff stats — min: -5.2730, max: 10.0000, mean: 3.8469, std: 2.9006\n",
      "\n"
     ]
    },
    {
     "name": "stderr",
     "output_type": "stream",
     "text": [
      "/usr/local/lib/python3.11/dist-packages/pandas/core/computation/expressions.py:73: RuntimeWarning: invalid value encountered in less_equal\n",
      "  return op(a, b)\n",
      "/usr/local/lib/python3.11/dist-packages/pandas/core/arraylike.py:399: RuntimeWarning: invalid value encountered in log\n",
      "  result = getattr(ufunc, method)(*inputs, **kwargs)\n"
     ]
    },
    {
     "name": "stdout",
     "output_type": "stream",
     "text": [
      "Step 8734 — Test metrics:\n",
      "  precision@10: 0.011039905\n",
      "  recall@10: 0.011048163\n",
      "  ndcg@10: 0.011183868\n",
      "  map@10: 0.003488519\n",
      "Epoch 46, Step 60, LR: 0.000310, Current Loss: 0.8534, Avg Loss: 0.8537\n",
      "Diff stats — min: -4.8104, max: 10.0000, mean: 3.7985, std: 2.9649\n",
      "\n",
      "Epoch 46, Step 80, LR: 0.000310, Current Loss: 0.8488, Avg Loss: 0.8532\n",
      "Diff stats — min: -4.5983, max: 10.0000, mean: 3.7798, std: 2.9312\n",
      "\n",
      "Epoch 46, Step 100, LR: 0.000310, Current Loss: 0.8466, Avg Loss: 0.8525\n",
      "Diff stats — min: -5.7135, max: 10.0000, mean: 3.8345, std: 2.9650\n",
      "\n"
     ]
    },
    {
     "name": "stderr",
     "output_type": "stream",
     "text": [
      "/usr/local/lib/python3.11/dist-packages/pandas/core/computation/expressions.py:73: RuntimeWarning: invalid value encountered in less_equal\n",
      "  return op(a, b)\n",
      "/usr/local/lib/python3.11/dist-packages/pandas/core/arraylike.py:399: RuntimeWarning: invalid value encountered in log\n",
      "  result = getattr(ufunc, method)(*inputs, **kwargs)\n"
     ]
    },
    {
     "name": "stdout",
     "output_type": "stream",
     "text": [
      "Step 8784 — Test metrics:\n",
      "  precision@10: 0.011066332\n",
      "  recall@10: 0.011074590\n",
      "  ndcg@10: 0.011267518\n",
      "  map@10: 0.003539982\n",
      "Epoch 46, Step 120, LR: 0.000310, Current Loss: 0.8357, Avg Loss: 0.8525\n",
      "Diff stats — min: -6.0656, max: 10.0000, mean: 3.9146, std: 2.9958\n",
      "\n",
      "Epoch 46, Step 140, LR: 0.000310, Current Loss: 0.8667, Avg Loss: 0.8531\n",
      "Diff stats — min: -6.0321, max: 10.0000, mean: 3.7506, std: 2.9185\n",
      "\n"
     ]
    },
    {
     "name": "stderr",
     "output_type": "stream",
     "text": [
      "/usr/local/lib/python3.11/dist-packages/pandas/core/computation/expressions.py:73: RuntimeWarning: invalid value encountered in less_equal\n",
      "  return op(a, b)\n",
      "/usr/local/lib/python3.11/dist-packages/pandas/core/arraylike.py:399: RuntimeWarning: invalid value encountered in log\n",
      "  result = getattr(ufunc, method)(*inputs, **kwargs)\n"
     ]
    },
    {
     "name": "stdout",
     "output_type": "stream",
     "text": [
      "Step 8834 — Test metrics:\n",
      "  precision@10: 0.011172040\n",
      "  recall@10: 0.011178647\n",
      "  ndcg@10: 0.011378616\n",
      "  map@10: 0.003568612\n",
      "Epoch 46, Step 160, LR: 0.000310, Current Loss: 0.8430, Avg Loss: 0.8531\n",
      "Diff stats — min: -5.2864, max: 10.0000, mean: 3.8810, std: 2.9478\n",
      "\n",
      "Epoch 46, Step 180, LR: 0.000304, Current Loss: 0.8436, Avg Loss: 0.8530\n",
      "Diff stats — min: -7.1195, max: 10.0000, mean: 3.8977, std: 2.9872\n",
      "\n",
      "Epoch 46 completed, Train Loss: 0.000208\n",
      "\n",
      "Epoch 47, Step 1, LR: 0.000304, Current Loss: 0.8272, Avg Loss: 0.8272\n",
      "Diff stats — min: -8.2906, max: 10.0000, mean: 3.8829, std: 2.8899\n",
      "\n"
     ]
    },
    {
     "name": "stderr",
     "output_type": "stream",
     "text": [
      "/usr/local/lib/python3.11/dist-packages/pandas/core/computation/expressions.py:73: RuntimeWarning: invalid value encountered in less_equal\n",
      "  return op(a, b)\n",
      "/usr/local/lib/python3.11/dist-packages/pandas/core/arraylike.py:399: RuntimeWarning: invalid value encountered in log\n",
      "  result = getattr(ufunc, method)(*inputs, **kwargs)\n"
     ]
    },
    {
     "name": "stdout",
     "output_type": "stream",
     "text": [
      "Step 8878 — Test metrics:\n",
      "  precision@10: 0.011561839\n",
      "  recall@10: 0.011569364\n",
      "  ndcg@10: 0.011799210\n",
      "  map@10: 0.003719108\n",
      "Epoch 47, Step 20, LR: 0.000304, Current Loss: 0.8522, Avg Loss: 0.8511\n",
      "Diff stats — min: -5.4329, max: 10.0000, mean: 3.8622, std: 2.9674\n",
      "\n",
      "Epoch 47, Step 40, LR: 0.000304, Current Loss: 0.8429, Avg Loss: 0.8516\n",
      "Diff stats — min: -5.3769, max: 10.0000, mean: 3.8737, std: 2.9782\n",
      "\n"
     ]
    },
    {
     "name": "stderr",
     "output_type": "stream",
     "text": [
      "/usr/local/lib/python3.11/dist-packages/pandas/core/computation/expressions.py:73: RuntimeWarning: invalid value encountered in less_equal\n",
      "  return op(a, b)\n",
      "/usr/local/lib/python3.11/dist-packages/pandas/core/arraylike.py:399: RuntimeWarning: invalid value encountered in log\n",
      "  result = getattr(ufunc, method)(*inputs, **kwargs)\n"
     ]
    },
    {
     "name": "stdout",
     "output_type": "stream",
     "text": [
      "Step 8927 — Test metrics:\n",
      "  precision@10: 0.011350423\n",
      "  recall@10: 0.011357213\n",
      "  ndcg@10: 0.011558913\n",
      "  map@10: 0.003637609\n",
      "Epoch 47, Step 60, LR: 0.000304, Current Loss: 0.8470, Avg Loss: 0.8510\n",
      "Diff stats — min: -6.3598, max: 10.0000, mean: 3.8098, std: 2.9544\n",
      "\n",
      "Epoch 47, Step 80, LR: 0.000304, Current Loss: 0.8537, Avg Loss: 0.8516\n",
      "Diff stats — min: -5.8018, max: 10.0000, mean: 3.8086, std: 3.0039\n",
      "\n",
      "Epoch 47, Step 100, LR: 0.000304, Current Loss: 0.8429, Avg Loss: 0.8520\n",
      "Diff stats — min: -5.8319, max: 10.0000, mean: 3.8919, std: 2.9908\n",
      "\n"
     ]
    },
    {
     "name": "stderr",
     "output_type": "stream",
     "text": [
      "/usr/local/lib/python3.11/dist-packages/pandas/core/computation/expressions.py:73: RuntimeWarning: invalid value encountered in less_equal\n",
      "  return op(a, b)\n",
      "/usr/local/lib/python3.11/dist-packages/pandas/core/arraylike.py:399: RuntimeWarning: invalid value encountered in log\n",
      "  result = getattr(ufunc, method)(*inputs, **kwargs)\n"
     ]
    },
    {
     "name": "stdout",
     "output_type": "stream",
     "text": [
      "Step 8977 — Test metrics:\n",
      "  precision@10: 0.010980444\n",
      "  recall@10: 0.010987234\n",
      "  ndcg@10: 0.011126128\n",
      "  map@10: 0.003468432\n",
      "Epoch 47, Step 120, LR: 0.000304, Current Loss: 0.8501, Avg Loss: 0.8520\n",
      "Diff stats — min: -5.5972, max: 10.0000, mean: 3.8777, std: 3.0093\n",
      "\n",
      "Epoch 47, Step 140, LR: 0.000298, Current Loss: 0.8522, Avg Loss: 0.8520\n",
      "Diff stats — min: -5.4084, max: 10.0000, mean: 3.8762, std: 3.0042\n",
      "\n"
     ]
    },
    {
     "name": "stderr",
     "output_type": "stream",
     "text": [
      "/usr/local/lib/python3.11/dist-packages/pandas/core/computation/expressions.py:73: RuntimeWarning: invalid value encountered in less_equal\n",
      "  return op(a, b)\n",
      "/usr/local/lib/python3.11/dist-packages/pandas/core/arraylike.py:399: RuntimeWarning: invalid value encountered in log\n",
      "  result = getattr(ufunc, method)(*inputs, **kwargs)\n"
     ]
    },
    {
     "name": "stdout",
     "output_type": "stream",
     "text": [
      "Step 9027 — Test metrics:\n",
      "  precision@10: 0.011086152\n",
      "  recall@10: 0.011092943\n",
      "  ndcg@10: 0.011353735\n",
      "  map@10: 0.003575979\n",
      "Epoch 47, Step 160, LR: 0.000298, Current Loss: 0.8582, Avg Loss: 0.8520\n",
      "Diff stats — min: -6.0315, max: 10.0000, mean: 3.7180, std: 2.9647\n",
      "\n",
      "Epoch 47, Step 180, LR: 0.000298, Current Loss: 0.8490, Avg Loss: 0.8518\n",
      "Diff stats — min: -6.3085, max: 10.0000, mean: 3.9262, std: 2.9346\n",
      "\n",
      "Epoch 47 completed, Train Loss: 0.000208\n",
      "\n",
      "Epoch 48, Step 1, LR: 0.000298, Current Loss: 0.8572, Avg Loss: 0.8572\n",
      "Diff stats — min: -5.3909, max: 10.0000, mean: 3.8573, std: 3.0088\n",
      "\n"
     ]
    },
    {
     "name": "stderr",
     "output_type": "stream",
     "text": [
      "/usr/local/lib/python3.11/dist-packages/pandas/core/computation/expressions.py:73: RuntimeWarning: invalid value encountered in less_equal\n",
      "  return op(a, b)\n",
      "/usr/local/lib/python3.11/dist-packages/pandas/core/arraylike.py:399: RuntimeWarning: invalid value encountered in log\n",
      "  result = getattr(ufunc, method)(*inputs, **kwargs)\n"
     ]
    },
    {
     "name": "stdout",
     "output_type": "stream",
     "text": [
      "Step 9071 — Test metrics:\n",
      "  precision@10: 0.011072939\n",
      "  recall@10: 0.011079729\n",
      "  ndcg@10: 0.011307986\n",
      "  map@10: 0.003553880\n",
      "Epoch 48, Step 20, LR: 0.000298, Current Loss: 0.8539, Avg Loss: 0.8536\n",
      "Diff stats — min: -5.3095, max: 10.0000, mean: 3.9038, std: 3.0572\n",
      "\n",
      "Epoch 48, Step 40, LR: 0.000298, Current Loss: 0.8617, Avg Loss: 0.8522\n",
      "Diff stats — min: -5.0941, max: 10.0000, mean: 3.8288, std: 2.9494\n",
      "\n"
     ]
    },
    {
     "name": "stderr",
     "output_type": "stream",
     "text": [
      "/usr/local/lib/python3.11/dist-packages/pandas/core/computation/expressions.py:73: RuntimeWarning: invalid value encountered in less_equal\n",
      "  return op(a, b)\n",
      "/usr/local/lib/python3.11/dist-packages/pandas/core/arraylike.py:399: RuntimeWarning: invalid value encountered in log\n",
      "  result = getattr(ufunc, method)(*inputs, **kwargs)\n"
     ]
    },
    {
     "name": "stdout",
     "output_type": "stream",
     "text": [
      "Step 9120 — Test metrics:\n",
      "  precision@10: 0.011092759\n",
      "  recall@10: 0.011097898\n",
      "  ndcg@10: 0.011268770\n",
      "  map@10: 0.003506912\n",
      "Epoch 48, Step 60, LR: 0.000298, Current Loss: 0.8372, Avg Loss: 0.8522\n",
      "Diff stats — min: -4.9088, max: 10.0000, mean: 3.9477, std: 2.9653\n",
      "\n",
      "Epoch 48, Step 80, LR: 0.000292, Current Loss: 0.8645, Avg Loss: 0.8511\n",
      "Diff stats — min: -6.5421, max: 10.0000, mean: 3.8978, std: 3.0407\n",
      "\n",
      "Epoch 48, Step 100, LR: 0.000292, Current Loss: 0.8626, Avg Loss: 0.8505\n",
      "Diff stats — min: -6.8205, max: 10.0000, mean: 3.7914, std: 2.9934\n",
      "\n"
     ]
    },
    {
     "name": "stderr",
     "output_type": "stream",
     "text": [
      "/usr/local/lib/python3.11/dist-packages/pandas/core/computation/expressions.py:73: RuntimeWarning: invalid value encountered in less_equal\n",
      "  return op(a, b)\n",
      "/usr/local/lib/python3.11/dist-packages/pandas/core/arraylike.py:399: RuntimeWarning: invalid value encountered in log\n",
      "  result = getattr(ufunc, method)(*inputs, **kwargs)\n"
     ]
    },
    {
     "name": "stdout",
     "output_type": "stream",
     "text": [
      "Step 9170 — Test metrics:\n",
      "  precision@10: 0.011132400\n",
      "  recall@10: 0.011140658\n",
      "  ndcg@10: 0.011341715\n",
      "  map@10: 0.003558193\n",
      "Epoch 48, Step 120, LR: 0.000292, Current Loss: 0.8329, Avg Loss: 0.8508\n",
      "Diff stats — min: -6.4816, max: 10.0000, mean: 3.8323, std: 2.9445\n",
      "\n",
      "Epoch 48, Step 140, LR: 0.000292, Current Loss: 0.8390, Avg Loss: 0.8503\n",
      "Diff stats — min: -7.4938, max: 10.0000, mean: 3.8702, std: 2.9674\n",
      "\n"
     ]
    },
    {
     "name": "stderr",
     "output_type": "stream",
     "text": [
      "/usr/local/lib/python3.11/dist-packages/pandas/core/computation/expressions.py:73: RuntimeWarning: invalid value encountered in less_equal\n",
      "  return op(a, b)\n",
      "/usr/local/lib/python3.11/dist-packages/pandas/core/arraylike.py:399: RuntimeWarning: invalid value encountered in log\n",
      "  result = getattr(ufunc, method)(*inputs, **kwargs)\n"
     ]
    },
    {
     "name": "stdout",
     "output_type": "stream",
     "text": [
      "Step 9220 — Test metrics:\n",
      "  precision@10: 0.011145613\n",
      "  recall@10: 0.011152403\n",
      "  ndcg@10: 0.011234379\n",
      "  map@10: 0.003492462\n",
      "Epoch 48, Step 160, LR: 0.000292, Current Loss: 0.8536, Avg Loss: 0.8508\n",
      "Diff stats — min: -5.9808, max: 10.0000, mean: 3.8356, std: 2.9739\n",
      "\n",
      "Epoch 48, Step 180, LR: 0.000292, Current Loss: 0.8556, Avg Loss: 0.8507\n",
      "Diff stats — min: -5.3802, max: 10.0000, mean: 3.8611, std: 3.0462\n",
      "\n",
      "Epoch 48 completed, Train Loss: 0.000208\n",
      "\n",
      "Epoch 49, Step 1, LR: 0.000292, Current Loss: 0.8440, Avg Loss: 0.8440\n",
      "Diff stats — min: -5.6162, max: 10.0000, mean: 3.9199, std: 2.9825\n",
      "\n"
     ]
    },
    {
     "name": "stderr",
     "output_type": "stream",
     "text": [
      "/usr/local/lib/python3.11/dist-packages/pandas/core/computation/expressions.py:73: RuntimeWarning: invalid value encountered in less_equal\n",
      "  return op(a, b)\n",
      "/usr/local/lib/python3.11/dist-packages/pandas/core/arraylike.py:399: RuntimeWarning: invalid value encountered in log\n",
      "  result = getattr(ufunc, method)(*inputs, **kwargs)\n"
     ]
    },
    {
     "name": "stdout",
     "output_type": "stream",
     "text": [
      "Step 9264 — Test metrics:\n",
      "  precision@10: 0.011139006\n",
      "  recall@10: 0.011145063\n",
      "  ndcg@10: 0.011318247\n",
      "  map@10: 0.003521217\n",
      "Epoch 49, Step 20, LR: 0.000292, Current Loss: 0.8594, Avg Loss: 0.8499\n",
      "Diff stats — min: -4.9207, max: 10.0000, mean: 3.8161, std: 2.9487\n",
      "\n",
      "Epoch 49, Step 40, LR: 0.000286, Current Loss: 0.8344, Avg Loss: 0.8476\n",
      "Diff stats — min: -5.1426, max: 10.0000, mean: 3.9377, std: 2.9681\n",
      "\n"
     ]
    },
    {
     "name": "stderr",
     "output_type": "stream",
     "text": [
      "/usr/local/lib/python3.11/dist-packages/pandas/core/computation/expressions.py:73: RuntimeWarning: invalid value encountered in less_equal\n",
      "  return op(a, b)\n",
      "/usr/local/lib/python3.11/dist-packages/pandas/core/arraylike.py:399: RuntimeWarning: invalid value encountered in log\n",
      "  result = getattr(ufunc, method)(*inputs, **kwargs)\n"
     ]
    },
    {
     "name": "stdout",
     "output_type": "stream",
     "text": [
      "Step 9313 — Test metrics:\n",
      "  precision@10: 0.011257928\n",
      "  recall@10: 0.011264718\n",
      "  ndcg@10: 0.011361055\n",
      "  map@10: 0.003518745\n",
      "Epoch 49, Step 60, LR: 0.000286, Current Loss: 0.8431, Avg Loss: 0.8491\n",
      "Diff stats — min: -7.0260, max: 10.0000, mean: 3.9068, std: 2.9578\n",
      "\n",
      "Epoch 49, Step 80, LR: 0.000286, Current Loss: 0.8467, Avg Loss: 0.8491\n",
      "Diff stats — min: -4.6595, max: 10.0000, mean: 3.8730, std: 2.9756\n",
      "\n",
      "Epoch 49, Step 100, LR: 0.000286, Current Loss: 0.8523, Avg Loss: 0.8485\n",
      "Diff stats — min: -3.9397, max: 10.0000, mean: 3.9211, std: 3.0421\n",
      "\n"
     ]
    },
    {
     "name": "stderr",
     "output_type": "stream",
     "text": [
      "/usr/local/lib/python3.11/dist-packages/pandas/core/computation/expressions.py:73: RuntimeWarning: invalid value encountered in less_equal\n",
      "  return op(a, b)\n",
      "/usr/local/lib/python3.11/dist-packages/pandas/core/arraylike.py:399: RuntimeWarning: invalid value encountered in log\n",
      "  result = getattr(ufunc, method)(*inputs, **kwargs)\n"
     ]
    },
    {
     "name": "stdout",
     "output_type": "stream",
     "text": [
      "Step 9363 — Test metrics:\n",
      "  precision@10: 0.011099366\n",
      "  recall@10: 0.011106890\n",
      "  ndcg@10: 0.011223942\n",
      "  map@10: 0.003486773\n",
      "Epoch 49, Step 120, LR: 0.000286, Current Loss: 0.8542, Avg Loss: 0.8483\n",
      "Diff stats — min: -5.6370, max: 10.0000, mean: 3.8689, std: 3.0329\n",
      "\n",
      "Epoch 49, Step 140, LR: 0.000286, Current Loss: 0.8417, Avg Loss: 0.8484\n",
      "Diff stats — min: -6.0135, max: 10.0000, mean: 3.8873, std: 2.9551\n",
      "\n"
     ]
    },
    {
     "name": "stderr",
     "output_type": "stream",
     "text": [
      "/usr/local/lib/python3.11/dist-packages/pandas/core/computation/expressions.py:73: RuntimeWarning: invalid value encountered in less_equal\n",
      "  return op(a, b)\n",
      "/usr/local/lib/python3.11/dist-packages/pandas/core/arraylike.py:399: RuntimeWarning: invalid value encountered in log\n",
      "  result = getattr(ufunc, method)(*inputs, **kwargs)\n"
     ]
    },
    {
     "name": "stdout",
     "output_type": "stream",
     "text": [
      "Step 9413 — Test metrics:\n",
      "  precision@10: 0.011112579\n",
      "  recall@10: 0.011120838\n",
      "  ndcg@10: 0.011310551\n",
      "  map@10: 0.003539549\n",
      "Epoch 49, Step 160, LR: 0.000286, Current Loss: 0.8409, Avg Loss: 0.8484\n",
      "Diff stats — min: -5.6014, max: 10.0000, mean: 3.9658, std: 3.0033\n",
      "\n",
      "Epoch 49, Step 180, LR: 0.000286, Current Loss: 0.8392, Avg Loss: 0.8486\n",
      "Diff stats — min: -6.4894, max: 10.0000, mean: 3.8641, std: 2.9434\n",
      "\n",
      "Epoch 49 completed, Train Loss: 0.000207\n",
      "\n",
      "Epoch 50, Step 1, LR: 0.000280, Current Loss: 0.8472, Avg Loss: 0.8472\n",
      "Diff stats — min: -6.0997, max: 10.0000, mean: 3.9160, std: 3.0031\n",
      "\n"
     ]
    },
    {
     "name": "stderr",
     "output_type": "stream",
     "text": [
      "/usr/local/lib/python3.11/dist-packages/pandas/core/computation/expressions.py:73: RuntimeWarning: invalid value encountered in less_equal\n",
      "  return op(a, b)\n",
      "/usr/local/lib/python3.11/dist-packages/pandas/core/arraylike.py:399: RuntimeWarning: invalid value encountered in log\n",
      "  result = getattr(ufunc, method)(*inputs, **kwargs)\n"
     ]
    },
    {
     "name": "stdout",
     "output_type": "stream",
     "text": [
      "Step 9457 — Test metrics:\n",
      "  precision@10: 0.010901163\n",
      "  recall@10: 0.010908687\n",
      "  ndcg@10: 0.011071435\n",
      "  map@10: 0.003442959\n",
      "Epoch 50, Step 20, LR: 0.000280, Current Loss: 0.8397, Avg Loss: 0.8468\n",
      "Diff stats — min: -4.4981, max: 10.0000, mean: 3.8933, std: 2.9491\n",
      "\n",
      "Epoch 50, Step 40, LR: 0.000280, Current Loss: 0.8502, Avg Loss: 0.8481\n",
      "Diff stats — min: -6.2113, max: 10.0000, mean: 3.9372, std: 3.0394\n",
      "\n"
     ]
    },
    {
     "name": "stderr",
     "output_type": "stream",
     "text": [
      "/usr/local/lib/python3.11/dist-packages/pandas/core/computation/expressions.py:73: RuntimeWarning: invalid value encountered in less_equal\n",
      "  return op(a, b)\n",
      "/usr/local/lib/python3.11/dist-packages/pandas/core/arraylike.py:399: RuntimeWarning: invalid value encountered in log\n",
      "  result = getattr(ufunc, method)(*inputs, **kwargs)\n"
     ]
    },
    {
     "name": "stdout",
     "output_type": "stream",
     "text": [
      "Step 9506 — Test metrics:\n",
      "  precision@10: 0.011396670\n",
      "  recall@10: 0.011403460\n",
      "  ndcg@10: 0.011648944\n",
      "  map@10: 0.003652472\n",
      "Epoch 50, Step 60, LR: 0.000280, Current Loss: 0.8520, Avg Loss: 0.8467\n",
      "Diff stats — min: -5.8313, max: 10.0000, mean: 3.8780, std: 3.0358\n",
      "\n",
      "Epoch 50, Step 80, LR: 0.000280, Current Loss: 0.8377, Avg Loss: 0.8469\n",
      "Diff stats — min: -6.1754, max: 10.0000, mean: 3.9234, std: 3.0216\n",
      "\n",
      "Epoch 50, Step 100, LR: 0.000280, Current Loss: 0.8344, Avg Loss: 0.8469\n",
      "Diff stats — min: -4.7478, max: 10.0000, mean: 3.9606, std: 2.9840\n",
      "\n"
     ]
    },
    {
     "name": "stderr",
     "output_type": "stream",
     "text": [
      "/usr/local/lib/python3.11/dist-packages/pandas/core/computation/expressions.py:73: RuntimeWarning: invalid value encountered in less_equal\n",
      "  return op(a, b)\n",
      "/usr/local/lib/python3.11/dist-packages/pandas/core/arraylike.py:399: RuntimeWarning: invalid value encountered in log\n",
      "  result = getattr(ufunc, method)(*inputs, **kwargs)\n"
     ]
    },
    {
     "name": "stdout",
     "output_type": "stream",
     "text": [
      "Step 9556 — Test metrics:\n",
      "  precision@10: 0.011257928\n",
      "  recall@10: 0.011266187\n",
      "  ndcg@10: 0.011506304\n",
      "  map@10: 0.003601415\n",
      "Epoch 50, Step 120, LR: 0.000280, Current Loss: 0.8453, Avg Loss: 0.8480\n",
      "Diff stats — min: -5.4493, max: 10.0000, mean: 3.9141, std: 2.9993\n",
      "\n",
      "Epoch 50, Step 140, LR: 0.000280, Current Loss: 0.8522, Avg Loss: 0.8482\n",
      "Diff stats — min: -5.7271, max: 10.0000, mean: 3.8481, std: 2.9906\n",
      "\n"
     ]
    },
    {
     "name": "stderr",
     "output_type": "stream",
     "text": [
      "/usr/local/lib/python3.11/dist-packages/pandas/core/computation/expressions.py:73: RuntimeWarning: invalid value encountered in less_equal\n",
      "  return op(a, b)\n",
      "/usr/local/lib/python3.11/dist-packages/pandas/core/arraylike.py:399: RuntimeWarning: invalid value encountered in log\n",
      "  result = getattr(ufunc, method)(*inputs, **kwargs)\n"
     ]
    },
    {
     "name": "stdout",
     "output_type": "stream",
     "text": [
      "Step 9606 — Test metrics:\n",
      "  precision@10: 0.011158827\n",
      "  recall@10: 0.011166351\n",
      "  ndcg@10: 0.011280498\n",
      "  map@10: 0.003509130\n",
      "Epoch 50, Step 160, LR: 0.000274, Current Loss: 0.8553, Avg Loss: 0.8481\n",
      "Diff stats — min: -6.1604, max: 10.0000, mean: 3.8689, std: 3.0119\n",
      "\n",
      "Epoch 50, Step 180, LR: 0.000274, Current Loss: 0.8663, Avg Loss: 0.8483\n",
      "Diff stats — min: -6.3329, max: 10.0000, mean: 3.8402, std: 2.9950\n",
      "\n",
      "Epoch 50 completed, Train Loss: 0.000207\n",
      "\n",
      "Epoch 51, Step 1, LR: 0.000274, Current Loss: 0.8488, Avg Loss: 0.8488\n",
      "Diff stats — min: -6.8108, max: 10.0000, mean: 3.9027, std: 3.0075\n",
      "\n"
     ]
    },
    {
     "name": "stderr",
     "output_type": "stream",
     "text": [
      "/usr/local/lib/python3.11/dist-packages/pandas/core/computation/expressions.py:73: RuntimeWarning: invalid value encountered in less_equal\n",
      "  return op(a, b)\n",
      "/usr/local/lib/python3.11/dist-packages/pandas/core/arraylike.py:399: RuntimeWarning: invalid value encountered in log\n",
      "  result = getattr(ufunc, method)(*inputs, **kwargs)\n"
     ]
    },
    {
     "name": "stdout",
     "output_type": "stream",
     "text": [
      "Step 9650 — Test metrics:\n",
      "  precision@10: 0.011039905\n",
      "  recall@10: 0.011046695\n",
      "  ndcg@10: 0.011263005\n",
      "  map@10: 0.003523107\n",
      "Epoch 51, Step 20, LR: 0.000274, Current Loss: 0.8615, Avg Loss: 0.8472\n",
      "Diff stats — min: -6.4739, max: 10.0000, mean: 3.9102, std: 3.0427\n",
      "\n",
      "Epoch 51, Step 40, LR: 0.000274, Current Loss: 0.8396, Avg Loss: 0.8454\n",
      "Diff stats — min: -5.6810, max: 10.0000, mean: 3.9944, std: 3.0012\n",
      "\n"
     ]
    },
    {
     "name": "stderr",
     "output_type": "stream",
     "text": [
      "/usr/local/lib/python3.11/dist-packages/pandas/core/computation/expressions.py:73: RuntimeWarning: invalid value encountered in less_equal\n",
      "  return op(a, b)\n",
      "/usr/local/lib/python3.11/dist-packages/pandas/core/arraylike.py:399: RuntimeWarning: invalid value encountered in log\n",
      "  result = getattr(ufunc, method)(*inputs, **kwargs)\n"
     ]
    },
    {
     "name": "stdout",
     "output_type": "stream",
     "text": [
      "Step 9699 — Test metrics:\n",
      "  precision@10: 0.011026691\n",
      "  recall@10: 0.011032748\n",
      "  ndcg@10: 0.011127103\n",
      "  map@10: 0.003438090\n",
      "Epoch 51, Step 60, LR: 0.000274, Current Loss: 0.8505, Avg Loss: 0.8448\n",
      "Diff stats — min: -6.6593, max: 10.0000, mean: 3.9506, std: 2.9922\n",
      "\n",
      "Epoch 51, Step 80, LR: 0.000274, Current Loss: 0.8431, Avg Loss: 0.8454\n",
      "Diff stats — min: -7.3048, max: 10.0000, mean: 3.9515, std: 2.9941\n",
      "\n",
      "Epoch 51, Step 100, LR: 0.000274, Current Loss: 0.8591, Avg Loss: 0.8461\n",
      "Diff stats — min: -6.2023, max: 10.0000, mean: 3.8759, std: 3.0547\n",
      "\n"
     ]
    },
    {
     "name": "stderr",
     "output_type": "stream",
     "text": [
      "/usr/local/lib/python3.11/dist-packages/pandas/core/computation/expressions.py:73: RuntimeWarning: invalid value encountered in less_equal\n",
      "  return op(a, b)\n",
      "/usr/local/lib/python3.11/dist-packages/pandas/core/arraylike.py:399: RuntimeWarning: invalid value encountered in log\n",
      "  result = getattr(ufunc, method)(*inputs, **kwargs)\n"
     ]
    },
    {
     "name": "stdout",
     "output_type": "stream",
     "text": [
      "Step 9749 — Test metrics:\n",
      "  precision@10: 0.011125793\n",
      "  recall@10: 0.011133317\n",
      "  ndcg@10: 0.011162566\n",
      "  map@10: 0.003439336\n",
      "Epoch 51, Step 120, LR: 0.000269, Current Loss: 0.8407, Avg Loss: 0.8462\n",
      "Diff stats — min: -5.5661, max: 10.0000, mean: 3.9061, std: 2.9805\n",
      "\n",
      "Epoch 51, Step 140, LR: 0.000269, Current Loss: 0.8460, Avg Loss: 0.8461\n",
      "Diff stats — min: -5.7501, max: 10.0000, mean: 3.9377, std: 3.0046\n",
      "\n"
     ]
    },
    {
     "name": "stderr",
     "output_type": "stream",
     "text": [
      "/usr/local/lib/python3.11/dist-packages/pandas/core/computation/expressions.py:73: RuntimeWarning: invalid value encountered in less_equal\n",
      "  return op(a, b)\n",
      "/usr/local/lib/python3.11/dist-packages/pandas/core/arraylike.py:399: RuntimeWarning: invalid value encountered in log\n",
      "  result = getattr(ufunc, method)(*inputs, **kwargs)\n"
     ]
    },
    {
     "name": "stdout",
     "output_type": "stream",
     "text": [
      "Step 9799 — Test metrics:\n",
      "  precision@10: 0.011112579\n",
      "  recall@10: 0.011119370\n",
      "  ndcg@10: 0.011190895\n",
      "  map@10: 0.003458883\n",
      "Epoch 51, Step 160, LR: 0.000269, Current Loss: 0.8405, Avg Loss: 0.8459\n",
      "Diff stats — min: -5.1699, max: 10.0000, mean: 4.0405, std: 3.0117\n",
      "\n",
      "Epoch 51, Step 180, LR: 0.000269, Current Loss: 0.8551, Avg Loss: 0.8464\n",
      "Diff stats — min: -5.8164, max: 10.0000, mean: 3.9532, std: 3.0313\n",
      "\n",
      "Epoch 51 completed, Train Loss: 0.000207\n",
      "\n",
      "Epoch 52, Step 1, LR: 0.000269, Current Loss: 0.8402, Avg Loss: 0.8402\n",
      "Diff stats — min: -5.2585, max: 10.0000, mean: 3.9587, std: 2.9841\n",
      "\n"
     ]
    },
    {
     "name": "stderr",
     "output_type": "stream",
     "text": [
      "/usr/local/lib/python3.11/dist-packages/pandas/core/computation/expressions.py:73: RuntimeWarning: invalid value encountered in less_equal\n",
      "  return op(a, b)\n",
      "/usr/local/lib/python3.11/dist-packages/pandas/core/arraylike.py:399: RuntimeWarning: invalid value encountered in log\n",
      "  result = getattr(ufunc, method)(*inputs, **kwargs)\n"
     ]
    },
    {
     "name": "stdout",
     "output_type": "stream",
     "text": [
      "Step 9843 — Test metrics:\n",
      "  precision@10: 0.011238108\n",
      "  recall@10: 0.011244898\n",
      "  ndcg@10: 0.011310951\n",
      "  map@10: 0.003498216\n",
      "Epoch 52, Step 20, LR: 0.000269, Current Loss: 0.8469, Avg Loss: 0.8470\n",
      "Diff stats — min: -6.3061, max: 10.0000, mean: 3.8434, std: 2.9711\n",
      "\n",
      "Epoch 52, Step 40, LR: 0.000269, Current Loss: 0.8362, Avg Loss: 0.8451\n",
      "Diff stats — min: -4.7428, max: 10.0000, mean: 3.9286, std: 2.9998\n",
      "\n"
     ]
    },
    {
     "name": "stderr",
     "output_type": "stream",
     "text": [
      "/usr/local/lib/python3.11/dist-packages/pandas/core/computation/expressions.py:73: RuntimeWarning: invalid value encountered in less_equal\n",
      "  return op(a, b)\n",
      "/usr/local/lib/python3.11/dist-packages/pandas/core/arraylike.py:399: RuntimeWarning: invalid value encountered in log\n",
      "  result = getattr(ufunc, method)(*inputs, **kwargs)\n"
     ]
    },
    {
     "name": "stdout",
     "output_type": "stream",
     "text": [
      "Step 9892 — Test metrics:\n",
      "  precision@10: 0.011277748\n",
      "  recall@10: 0.011283805\n",
      "  ndcg@10: 0.011495302\n",
      "  map@10: 0.003582626\n",
      "Epoch 52, Step 60, LR: 0.000264, Current Loss: 0.8520, Avg Loss: 0.8466\n",
      "Diff stats — min: -6.6405, max: 10.0000, mean: 3.9107, std: 2.9990\n",
      "\n",
      "Epoch 52, Step 80, LR: 0.000264, Current Loss: 0.8384, Avg Loss: 0.8459\n",
      "Diff stats — min: -5.3878, max: 10.0000, mean: 3.9360, std: 3.0063\n",
      "\n",
      "Epoch 52, Step 100, LR: 0.000264, Current Loss: 0.8497, Avg Loss: 0.8456\n",
      "Diff stats — min: -4.9897, max: 10.0000, mean: 3.9566, std: 3.0761\n",
      "\n"
     ]
    },
    {
     "name": "stderr",
     "output_type": "stream",
     "text": [
      "/usr/local/lib/python3.11/dist-packages/pandas/core/computation/expressions.py:73: RuntimeWarning: invalid value encountered in less_equal\n",
      "  return op(a, b)\n",
      "/usr/local/lib/python3.11/dist-packages/pandas/core/arraylike.py:399: RuntimeWarning: invalid value encountered in log\n",
      "  result = getattr(ufunc, method)(*inputs, **kwargs)\n"
     ]
    },
    {
     "name": "stdout",
     "output_type": "stream",
     "text": [
      "Step 9942 — Test metrics:\n",
      "  precision@10: 0.011086152\n",
      "  recall@10: 0.011092943\n",
      "  ndcg@10: 0.011270476\n",
      "  map@10: 0.003528824\n",
      "Epoch 52, Step 120, LR: 0.000264, Current Loss: 0.8485, Avg Loss: 0.8452\n",
      "Diff stats — min: -6.7699, max: 10.0000, mean: 3.8683, std: 2.9803\n",
      "\n",
      "Epoch 52, Step 140, LR: 0.000264, Current Loss: 0.8557, Avg Loss: 0.8452\n",
      "Diff stats — min: -6.1181, max: 10.0000, mean: 3.9464, std: 3.0772\n",
      "\n"
     ]
    },
    {
     "name": "stderr",
     "output_type": "stream",
     "text": [
      "/usr/local/lib/python3.11/dist-packages/pandas/core/computation/expressions.py:73: RuntimeWarning: invalid value encountered in less_equal\n",
      "  return op(a, b)\n",
      "/usr/local/lib/python3.11/dist-packages/pandas/core/arraylike.py:399: RuntimeWarning: invalid value encountered in log\n",
      "  result = getattr(ufunc, method)(*inputs, **kwargs)\n"
     ]
    },
    {
     "name": "stdout",
     "output_type": "stream",
     "text": [
      "Step 9992 — Test metrics:\n",
      "  precision@10: 0.011006871\n",
      "  recall@10: 0.011012927\n",
      "  ndcg@10: 0.011295769\n",
      "  map@10: 0.003561637\n",
      "Epoch 52, Step 160, LR: 0.000264, Current Loss: 0.8607, Avg Loss: 0.8453\n",
      "Diff stats — min: -5.4206, max: 10.0000, mean: 3.9312, std: 3.0372\n",
      "\n",
      "Epoch 52, Step 180, LR: 0.000264, Current Loss: 0.8511, Avg Loss: 0.8455\n",
      "Diff stats — min: -7.5434, max: 10.0000, mean: 3.9965, std: 3.0730\n",
      "\n",
      "Epoch 52 completed, Train Loss: 0.000207\n",
      "\n",
      "Epoch 53, Step 1, LR: 0.000264, Current Loss: 0.8345, Avg Loss: 0.8345\n",
      "Diff stats — min: -7.2813, max: 10.0000, mean: 3.9959, std: 3.0306\n",
      "\n"
     ]
    },
    {
     "name": "stderr",
     "output_type": "stream",
     "text": [
      "/usr/local/lib/python3.11/dist-packages/pandas/core/computation/expressions.py:73: RuntimeWarning: invalid value encountered in less_equal\n",
      "  return op(a, b)\n",
      "/usr/local/lib/python3.11/dist-packages/pandas/core/arraylike.py:399: RuntimeWarning: invalid value encountered in log\n",
      "  result = getattr(ufunc, method)(*inputs, **kwargs)\n"
     ]
    },
    {
     "name": "stdout",
     "output_type": "stream",
     "text": [
      "Step 10036 — Test metrics:\n",
      "  precision@10: 0.010815275\n",
      "  recall@10: 0.010821331\n",
      "  ndcg@10: 0.011081547\n",
      "  map@10: 0.003477418\n",
      "Epoch 53, Step 20, LR: 0.000258, Current Loss: 0.8406, Avg Loss: 0.8474\n",
      "Diff stats — min: -6.5943, max: 10.0000, mean: 3.8887, std: 2.9493\n",
      "\n",
      "Epoch 53, Step 40, LR: 0.000258, Current Loss: 0.8381, Avg Loss: 0.8449\n",
      "Diff stats — min: -4.0397, max: 10.0000, mean: 3.9333, std: 3.0402\n",
      "\n"
     ]
    },
    {
     "name": "stderr",
     "output_type": "stream",
     "text": [
      "/usr/local/lib/python3.11/dist-packages/pandas/core/computation/expressions.py:73: RuntimeWarning: invalid value encountered in less_equal\n",
      "  return op(a, b)\n",
      "/usr/local/lib/python3.11/dist-packages/pandas/core/arraylike.py:399: RuntimeWarning: invalid value encountered in log\n",
      "  result = getattr(ufunc, method)(*inputs, **kwargs)\n"
     ]
    },
    {
     "name": "stdout",
     "output_type": "stream",
     "text": [
      "Step 10085 — Test metrics:\n",
      "  precision@10: 0.011105973\n",
      "  recall@10: 0.011112579\n",
      "  ndcg@10: 0.011271131\n",
      "  map@10: 0.003508510\n",
      "Epoch 53, Step 60, LR: 0.000258, Current Loss: 0.8468, Avg Loss: 0.8444\n",
      "Diff stats — min: -6.3993, max: 10.0000, mean: 3.9357, std: 3.0190\n",
      "\n",
      "Epoch 53, Step 80, LR: 0.000258, Current Loss: 0.8494, Avg Loss: 0.8448\n",
      "Diff stats — min: -5.6499, max: 10.0000, mean: 3.9269, std: 2.9980\n",
      "\n",
      "Epoch 53, Step 100, LR: 0.000258, Current Loss: 0.8399, Avg Loss: 0.8452\n",
      "Diff stats — min: -4.8715, max: 10.0000, mean: 3.9726, std: 3.0429\n",
      "\n"
     ]
    },
    {
     "name": "stderr",
     "output_type": "stream",
     "text": [
      "/usr/local/lib/python3.11/dist-packages/pandas/core/computation/expressions.py:73: RuntimeWarning: invalid value encountered in less_equal\n",
      "  return op(a, b)\n",
      "/usr/local/lib/python3.11/dist-packages/pandas/core/arraylike.py:399: RuntimeWarning: invalid value encountered in log\n",
      "  result = getattr(ufunc, method)(*inputs, **kwargs)\n"
     ]
    },
    {
     "name": "stdout",
     "output_type": "stream",
     "text": [
      "Step 10135 — Test metrics:\n",
      "  precision@10: 0.011105973\n",
      "  recall@10: 0.011114965\n",
      "  ndcg@10: 0.011169644\n",
      "  map@10: 0.003450697\n",
      "Epoch 53, Step 120, LR: 0.000258, Current Loss: 0.8494, Avg Loss: 0.8454\n",
      "Diff stats — min: -5.3994, max: 10.0000, mean: 3.9855, std: 3.0619\n",
      "\n",
      "Epoch 53, Step 140, LR: 0.000258, Current Loss: 0.8485, Avg Loss: 0.8453\n",
      "Diff stats — min: -4.9369, max: 10.0000, mean: 3.9403, std: 3.0411\n",
      "\n"
     ]
    },
    {
     "name": "stderr",
     "output_type": "stream",
     "text": [
      "/usr/local/lib/python3.11/dist-packages/pandas/core/computation/expressions.py:73: RuntimeWarning: invalid value encountered in less_equal\n",
      "  return op(a, b)\n",
      "/usr/local/lib/python3.11/dist-packages/pandas/core/arraylike.py:399: RuntimeWarning: invalid value encountered in log\n",
      "  result = getattr(ufunc, method)(*inputs, **kwargs)\n"
     ]
    },
    {
     "name": "stdout",
     "output_type": "stream",
     "text": [
      "Step 10185 — Test metrics:\n",
      "  precision@10: 0.010868129\n",
      "  recall@10: 0.010874185\n",
      "  ndcg@10: 0.011022826\n",
      "  map@10: 0.003430776\n",
      "Epoch 53, Step 160, LR: 0.000258, Current Loss: 0.8580, Avg Loss: 0.8457\n",
      "Diff stats — min: -5.4289, max: 10.0000, mean: 3.9303, std: 3.0203\n",
      "\n",
      "Epoch 53, Step 180, LR: 0.000253, Current Loss: 0.8309, Avg Loss: 0.8456\n",
      "Diff stats — min: -6.5953, max: 10.0000, mean: 3.9822, std: 2.9981\n",
      "\n",
      "Epoch 53 completed, Train Loss: 0.000207\n",
      "\n",
      "Epoch 54, Step 1, LR: 0.000253, Current Loss: 0.8310, Avg Loss: 0.8310\n",
      "Diff stats — min: -6.9422, max: 10.0000, mean: 3.9731, std: 2.9763\n",
      "\n"
     ]
    },
    {
     "name": "stderr",
     "output_type": "stream",
     "text": [
      "/usr/local/lib/python3.11/dist-packages/pandas/core/computation/expressions.py:73: RuntimeWarning: invalid value encountered in less_equal\n",
      "  return op(a, b)\n",
      "/usr/local/lib/python3.11/dist-packages/pandas/core/arraylike.py:399: RuntimeWarning: invalid value encountered in log\n",
      "  result = getattr(ufunc, method)(*inputs, **kwargs)\n"
     ]
    },
    {
     "name": "stdout",
     "output_type": "stream",
     "text": [
      "Step 10229 — Test metrics:\n",
      "  precision@10: 0.010683140\n",
      "  recall@10: 0.010689930\n",
      "  ndcg@10: 0.010928936\n",
      "  map@10: 0.003416962\n",
      "Epoch 54, Step 20, LR: 0.000253, Current Loss: 0.8374, Avg Loss: 0.8418\n",
      "Diff stats — min: -5.3538, max: 10.0000, mean: 4.0214, std: 3.0438\n",
      "\n",
      "Epoch 54, Step 40, LR: 0.000253, Current Loss: 0.8344, Avg Loss: 0.8425\n",
      "Diff stats — min: -5.4335, max: 10.0000, mean: 4.0297, std: 3.0338\n",
      "\n"
     ]
    },
    {
     "name": "stderr",
     "output_type": "stream",
     "text": [
      "/usr/local/lib/python3.11/dist-packages/pandas/core/computation/expressions.py:73: RuntimeWarning: invalid value encountered in less_equal\n",
      "  return op(a, b)\n",
      "/usr/local/lib/python3.11/dist-packages/pandas/core/arraylike.py:399: RuntimeWarning: invalid value encountered in log\n",
      "  result = getattr(ufunc, method)(*inputs, **kwargs)\n"
     ]
    },
    {
     "name": "stdout",
     "output_type": "stream",
     "text": [
      "Step 10278 — Test metrics:\n",
      "  precision@10: 0.010821882\n",
      "  recall@10: 0.010828672\n",
      "  ndcg@10: 0.010980076\n",
      "  map@10: 0.003420270\n",
      "Epoch 54, Step 60, LR: 0.000253, Current Loss: 0.8428, Avg Loss: 0.8429\n",
      "Diff stats — min: -6.2425, max: 10.0000, mean: 4.0160, std: 2.9994\n",
      "\n",
      "Epoch 54, Step 80, LR: 0.000253, Current Loss: 0.8426, Avg Loss: 0.8438\n",
      "Diff stats — min: -5.6420, max: 10.0000, mean: 3.9861, std: 3.0311\n",
      "\n",
      "Epoch 54, Step 100, LR: 0.000253, Current Loss: 0.8687, Avg Loss: 0.8442\n",
      "Diff stats — min: -4.6593, max: 10.0000, mean: 3.9874, std: 3.0993\n",
      "\n"
     ]
    },
    {
     "name": "stderr",
     "output_type": "stream",
     "text": [
      "/usr/local/lib/python3.11/dist-packages/pandas/core/computation/expressions.py:73: RuntimeWarning: invalid value encountered in less_equal\n",
      "  return op(a, b)\n",
      "/usr/local/lib/python3.11/dist-packages/pandas/core/arraylike.py:399: RuntimeWarning: invalid value encountered in log\n",
      "  result = getattr(ufunc, method)(*inputs, **kwargs)\n"
     ]
    },
    {
     "name": "stdout",
     "output_type": "stream",
     "text": [
      "Step 10328 — Test metrics:\n",
      "  precision@10: 0.010709567\n",
      "  recall@10: 0.010716357\n",
      "  ndcg@10: 0.011024279\n",
      "  map@10: 0.003478124\n",
      "Epoch 54, Step 120, LR: 0.000253, Current Loss: 0.8523, Avg Loss: 0.8449\n",
      "Diff stats — min: -5.1671, max: 10.0000, mean: 3.9600, std: 3.0418\n",
      "\n",
      "Epoch 54, Step 140, LR: 0.000248, Current Loss: 0.8461, Avg Loss: 0.8443\n",
      "Diff stats — min: -5.2391, max: 10.0000, mean: 3.9906, std: 3.0254\n",
      "\n"
     ]
    },
    {
     "name": "stderr",
     "output_type": "stream",
     "text": [
      "/usr/local/lib/python3.11/dist-packages/pandas/core/computation/expressions.py:73: RuntimeWarning: invalid value encountered in less_equal\n",
      "  return op(a, b)\n",
      "/usr/local/lib/python3.11/dist-packages/pandas/core/arraylike.py:399: RuntimeWarning: invalid value encountered in log\n",
      "  result = getattr(ufunc, method)(*inputs, **kwargs)\n"
     ]
    },
    {
     "name": "stdout",
     "output_type": "stream",
     "text": [
      "Step 10378 — Test metrics:\n",
      "  precision@10: 0.010650106\n",
      "  recall@10: 0.010656162\n",
      "  ndcg@10: 0.010857701\n",
      "  map@10: 0.003390057\n",
      "Epoch 54, Step 160, LR: 0.000248, Current Loss: 0.8481, Avg Loss: 0.8439\n",
      "Diff stats — min: -4.9560, max: 10.0000, mean: 3.9631, std: 3.0429\n",
      "\n",
      "Epoch 54, Step 180, LR: 0.000248, Current Loss: 0.8416, Avg Loss: 0.8441\n",
      "Diff stats — min: -5.5017, max: 10.0000, mean: 4.0128, std: 3.0333\n",
      "\n",
      "Epoch 54 completed, Train Loss: 0.000206\n",
      "\n",
      "Epoch 55, Step 1, LR: 0.000248, Current Loss: 0.8411, Avg Loss: 0.8411\n",
      "Diff stats — min: -5.0926, max: 10.0000, mean: 3.9590, std: 3.0040\n",
      "\n"
     ]
    },
    {
     "name": "stderr",
     "output_type": "stream",
     "text": [
      "/usr/local/lib/python3.11/dist-packages/pandas/core/computation/expressions.py:73: RuntimeWarning: invalid value encountered in less_equal\n",
      "  return op(a, b)\n",
      "/usr/local/lib/python3.11/dist-packages/pandas/core/arraylike.py:399: RuntimeWarning: invalid value encountered in log\n",
      "  result = getattr(ufunc, method)(*inputs, **kwargs)\n"
     ]
    },
    {
     "name": "stdout",
     "output_type": "stream",
     "text": [
      "Step 10422 — Test metrics:\n",
      "  precision@10: 0.010828488\n",
      "  recall@10: 0.010834545\n",
      "  ndcg@10: 0.011119061\n",
      "  map@10: 0.003488874\n",
      "Epoch 55, Step 20, LR: 0.000248, Current Loss: 0.8380, Avg Loss: 0.8440\n",
      "Diff stats — min: -6.1513, max: 10.0000, mean: 4.0293, std: 3.0362\n",
      "\n",
      "Epoch 55, Step 40, LR: 0.000248, Current Loss: 0.8336, Avg Loss: 0.8450\n",
      "Diff stats — min: -4.5000, max: 10.0000, mean: 4.0609, std: 2.9879\n",
      "\n"
     ]
    },
    {
     "name": "stderr",
     "output_type": "stream",
     "text": [
      "/usr/local/lib/python3.11/dist-packages/pandas/core/computation/expressions.py:73: RuntimeWarning: invalid value encountered in less_equal\n",
      "  return op(a, b)\n",
      "/usr/local/lib/python3.11/dist-packages/pandas/core/arraylike.py:399: RuntimeWarning: invalid value encountered in log\n",
      "  result = getattr(ufunc, method)(*inputs, **kwargs)\n"
     ]
    },
    {
     "name": "stdout",
     "output_type": "stream",
     "text": [
      "Step 10471 — Test metrics:\n",
      "  precision@10: 0.010927590\n",
      "  recall@10: 0.010935848\n",
      "  ndcg@10: 0.011233022\n",
      "  map@10: 0.003537749\n",
      "Epoch 55, Step 60, LR: 0.000248, Current Loss: 0.8320, Avg Loss: 0.8446\n",
      "Diff stats — min: -6.4406, max: 10.0000, mean: 4.0668, std: 3.0367\n",
      "\n",
      "Epoch 55, Step 80, LR: 0.000243, Current Loss: 0.8574, Avg Loss: 0.8442\n",
      "Diff stats — min: -7.3591, max: 10.0000, mean: 3.8983, std: 3.0063\n",
      "\n",
      "Epoch 55, Step 100, LR: 0.000243, Current Loss: 0.8447, Avg Loss: 0.8443\n",
      "Diff stats — min: -7.3058, max: 10.0000, mean: 3.9666, std: 3.0007\n",
      "\n"
     ]
    },
    {
     "name": "stderr",
     "output_type": "stream",
     "text": [
      "/usr/local/lib/python3.11/dist-packages/pandas/core/computation/expressions.py:73: RuntimeWarning: invalid value encountered in less_equal\n",
      "  return op(a, b)\n",
      "/usr/local/lib/python3.11/dist-packages/pandas/core/arraylike.py:399: RuntimeWarning: invalid value encountered in log\n",
      "  result = getattr(ufunc, method)(*inputs, **kwargs)\n"
     ]
    },
    {
     "name": "stdout",
     "output_type": "stream",
     "text": [
      "Step 10521 — Test metrics:\n",
      "  precision@10: 0.010808668\n",
      "  recall@10: 0.010816192\n",
      "  ndcg@10: 0.011027917\n",
      "  map@10: 0.003453054\n",
      "Epoch 55, Step 120, LR: 0.000243, Current Loss: 0.8437, Avg Loss: 0.8441\n",
      "Diff stats — min: -5.9715, max: 10.0000, mean: 4.0800, std: 3.0969\n",
      "\n",
      "Epoch 55, Step 140, LR: 0.000243, Current Loss: 0.8455, Avg Loss: 0.8439\n",
      "Diff stats — min: -6.3976, max: 10.0000, mean: 3.9959, std: 3.0817\n",
      "\n"
     ]
    },
    {
     "name": "stderr",
     "output_type": "stream",
     "text": [
      "/usr/local/lib/python3.11/dist-packages/pandas/core/computation/expressions.py:73: RuntimeWarning: invalid value encountered in less_equal\n",
      "  return op(a, b)\n",
      "/usr/local/lib/python3.11/dist-packages/pandas/core/arraylike.py:399: RuntimeWarning: invalid value encountered in log\n",
      "  result = getattr(ufunc, method)(*inputs, **kwargs)\n"
     ]
    },
    {
     "name": "stdout",
     "output_type": "stream",
     "text": [
      "Step 10571 — Test metrics:\n",
      "  precision@10: 0.010821882\n",
      "  recall@10: 0.010827938\n",
      "  ndcg@10: 0.011078916\n",
      "  map@10: 0.003480840\n",
      "Epoch 55, Step 160, LR: 0.000243, Current Loss: 0.8438, Avg Loss: 0.8433\n",
      "Diff stats — min: -7.0707, max: 10.0000, mean: 4.0237, std: 3.0881\n",
      "\n",
      "Epoch 55, Step 180, LR: 0.000243, Current Loss: 0.8430, Avg Loss: 0.8433\n",
      "Diff stats — min: -6.3065, max: 10.0000, mean: 3.9276, std: 3.0138\n",
      "\n",
      "Epoch 55 completed, Train Loss: 0.000206\n",
      "\n",
      "Epoch 56, Step 1, LR: 0.000243, Current Loss: 0.8348, Avg Loss: 0.8348\n",
      "Diff stats — min: -5.7719, max: 10.0000, mean: 3.9766, std: 3.0303\n",
      "\n"
     ]
    },
    {
     "name": "stderr",
     "output_type": "stream",
     "text": [
      "/usr/local/lib/python3.11/dist-packages/pandas/core/computation/expressions.py:73: RuntimeWarning: invalid value encountered in less_equal\n",
      "  return op(a, b)\n",
      "/usr/local/lib/python3.11/dist-packages/pandas/core/arraylike.py:399: RuntimeWarning: invalid value encountered in log\n",
      "  result = getattr(ufunc, method)(*inputs, **kwargs)\n"
     ]
    },
    {
     "name": "stdout",
     "output_type": "stream",
     "text": [
      "Step 10615 — Test metrics:\n",
      "  precision@10: 0.010848309\n",
      "  recall@10: 0.010854365\n",
      "  ndcg@10: 0.011135156\n",
      "  map@10: 0.003504130\n",
      "Epoch 56, Step 20, LR: 0.000243, Current Loss: 0.8506, Avg Loss: 0.8399\n",
      "Diff stats — min: -6.7906, max: 10.0000, mean: 3.9376, std: 3.0429\n",
      "\n",
      "Epoch 56, Step 40, LR: 0.000238, Current Loss: 0.8402, Avg Loss: 0.8422\n",
      "Diff stats — min: -6.3045, max: 10.0000, mean: 3.9168, std: 2.9779\n",
      "\n"
     ]
    },
    {
     "name": "stderr",
     "output_type": "stream",
     "text": [
      "/usr/local/lib/python3.11/dist-packages/pandas/core/computation/expressions.py:73: RuntimeWarning: invalid value encountered in less_equal\n",
      "  return op(a, b)\n",
      "/usr/local/lib/python3.11/dist-packages/pandas/core/arraylike.py:399: RuntimeWarning: invalid value encountered in log\n",
      "  result = getattr(ufunc, method)(*inputs, **kwargs)\n"
     ]
    },
    {
     "name": "stdout",
     "output_type": "stream",
     "text": [
      "Step 10664 — Test metrics:\n",
      "  precision@10: 0.011000264\n",
      "  recall@10: 0.011006320\n",
      "  ndcg@10: 0.011204280\n",
      "  map@10: 0.003498604\n",
      "Epoch 56, Step 60, LR: 0.000238, Current Loss: 0.8284, Avg Loss: 0.8422\n",
      "Diff stats — min: -5.3949, max: 10.0000, mean: 4.0188, std: 2.9844\n",
      "\n",
      "Epoch 56, Step 80, LR: 0.000238, Current Loss: 0.8416, Avg Loss: 0.8418\n",
      "Diff stats — min: -6.4826, max: 10.0000, mean: 3.9631, std: 3.0058\n",
      "\n",
      "Epoch 56, Step 100, LR: 0.000238, Current Loss: 0.8448, Avg Loss: 0.8419\n",
      "Diff stats — min: -4.7347, max: 10.0000, mean: 3.9593, std: 3.0085\n",
      "\n"
     ]
    },
    {
     "name": "stderr",
     "output_type": "stream",
     "text": [
      "/usr/local/lib/python3.11/dist-packages/pandas/core/computation/expressions.py:73: RuntimeWarning: invalid value encountered in less_equal\n",
      "  return op(a, b)\n",
      "/usr/local/lib/python3.11/dist-packages/pandas/core/arraylike.py:399: RuntimeWarning: invalid value encountered in log\n",
      "  result = getattr(ufunc, method)(*inputs, **kwargs)\n"
     ]
    },
    {
     "name": "stdout",
     "output_type": "stream",
     "text": [
      "Step 10714 — Test metrics:\n",
      "  precision@10: 0.010782241\n",
      "  recall@10: 0.010786646\n",
      "  ndcg@10: 0.011072882\n",
      "  map@10: 0.003489312\n",
      "Epoch 56, Step 120, LR: 0.000238, Current Loss: 0.8350, Avg Loss: 0.8413\n",
      "Diff stats — min: -7.0225, max: 10.0000, mean: 4.0764, std: 3.0350\n",
      "\n",
      "Epoch 56, Step 140, LR: 0.000238, Current Loss: 0.8456, Avg Loss: 0.8416\n",
      "Diff stats — min: -6.4905, max: 10.0000, mean: 4.0429, std: 3.0862\n",
      "\n"
     ]
    },
    {
     "name": "stderr",
     "output_type": "stream",
     "text": [
      "/usr/local/lib/python3.11/dist-packages/pandas/core/computation/expressions.py:73: RuntimeWarning: invalid value encountered in less_equal\n",
      "  return op(a, b)\n",
      "/usr/local/lib/python3.11/dist-packages/pandas/core/arraylike.py:399: RuntimeWarning: invalid value encountered in log\n",
      "  result = getattr(ufunc, method)(*inputs, **kwargs)\n"
     ]
    },
    {
     "name": "stdout",
     "output_type": "stream",
     "text": [
      "Step 10764 — Test metrics:\n",
      "  precision@10: 0.010874736\n",
      "  recall@10: 0.010880792\n",
      "  ndcg@10: 0.011203804\n",
      "  map@10: 0.003534518\n",
      "Epoch 56, Step 160, LR: 0.000238, Current Loss: 0.8346, Avg Loss: 0.8414\n",
      "Diff stats — min: -10.0000, max: 10.0000, mean: 4.0937, std: 3.0608\n",
      "\n",
      "Epoch 56, Step 180, LR: 0.000238, Current Loss: 0.8441, Avg Loss: 0.8417\n",
      "Diff stats — min: -5.5003, max: 10.0000, mean: 4.0103, std: 3.0449\n",
      "\n",
      "Epoch 56 completed, Train Loss: 0.000206\n",
      "\n",
      "Epoch 57, Step 1, LR: 0.000233, Current Loss: 0.8405, Avg Loss: 0.8405\n",
      "Diff stats — min: -5.1938, max: 10.0000, mean: 4.0258, std: 3.0203\n",
      "\n"
     ]
    },
    {
     "name": "stderr",
     "output_type": "stream",
     "text": [
      "/usr/local/lib/python3.11/dist-packages/pandas/core/computation/expressions.py:73: RuntimeWarning: invalid value encountered in less_equal\n",
      "  return op(a, b)\n",
      "/usr/local/lib/python3.11/dist-packages/pandas/core/arraylike.py:399: RuntimeWarning: invalid value encountered in log\n",
      "  result = getattr(ufunc, method)(*inputs, **kwargs)\n"
     ]
    },
    {
     "name": "stdout",
     "output_type": "stream",
     "text": [
      "Step 10808 — Test metrics:\n",
      "  precision@10: 0.010722780\n",
      "  recall@10: 0.010728836\n",
      "  ndcg@10: 0.011074107\n",
      "  map@10: 0.003498077\n",
      "Epoch 57, Step 20, LR: 0.000233, Current Loss: 0.8327, Avg Loss: 0.8406\n",
      "Diff stats — min: -6.9150, max: 10.0000, mean: 4.0777, std: 3.0494\n",
      "\n",
      "Epoch 57, Step 40, LR: 0.000233, Current Loss: 0.8452, Avg Loss: 0.8418\n",
      "Diff stats — min: -6.0513, max: 10.0000, mean: 3.9314, std: 3.0096\n",
      "\n"
     ]
    },
    {
     "name": "stderr",
     "output_type": "stream",
     "text": [
      "/usr/local/lib/python3.11/dist-packages/pandas/core/computation/expressions.py:73: RuntimeWarning: invalid value encountered in less_equal\n",
      "  return op(a, b)\n",
      "/usr/local/lib/python3.11/dist-packages/pandas/core/arraylike.py:399: RuntimeWarning: invalid value encountered in log\n",
      "  result = getattr(ufunc, method)(*inputs, **kwargs)\n"
     ]
    },
    {
     "name": "stdout",
     "output_type": "stream",
     "text": [
      "Step 10857 — Test metrics:\n",
      "  precision@10: 0.010735994\n",
      "  recall@10: 0.010742050\n",
      "  ndcg@10: 0.011047325\n",
      "  map@10: 0.003466978\n",
      "Epoch 57, Step 60, LR: 0.000233, Current Loss: 0.8229, Avg Loss: 0.8409\n",
      "Diff stats — min: -8.2915, max: 10.0000, mean: 4.0627, std: 3.0319\n",
      "\n",
      "Epoch 57, Step 80, LR: 0.000233, Current Loss: 0.8290, Avg Loss: 0.8419\n",
      "Diff stats — min: -4.5314, max: 10.0000, mean: 4.0785, std: 3.0260\n",
      "\n",
      "Epoch 57, Step 100, LR: 0.000233, Current Loss: 0.8424, Avg Loss: 0.8419\n",
      "Diff stats — min: -5.6029, max: 10.0000, mean: 4.0732, std: 3.0886\n",
      "\n"
     ]
    },
    {
     "name": "stderr",
     "output_type": "stream",
     "text": [
      "/usr/local/lib/python3.11/dist-packages/pandas/core/computation/expressions.py:73: RuntimeWarning: invalid value encountered in less_equal\n",
      "  return op(a, b)\n",
      "/usr/local/lib/python3.11/dist-packages/pandas/core/arraylike.py:399: RuntimeWarning: invalid value encountered in log\n",
      "  result = getattr(ufunc, method)(*inputs, **kwargs)\n"
     ]
    },
    {
     "name": "stdout",
     "output_type": "stream",
     "text": [
      "Step 10907 — Test metrics:\n",
      "  precision@10: 0.010762421\n",
      "  recall@10: 0.010769211\n",
      "  ndcg@10: 0.011113071\n",
      "  map@10: 0.003509161\n",
      "Epoch 57, Step 120, LR: 0.000233, Current Loss: 0.8408, Avg Loss: 0.8416\n",
      "Diff stats — min: -6.2578, max: 10.0000, mean: 4.0349, std: 3.0791\n",
      "\n",
      "Epoch 57, Step 140, LR: 0.000233, Current Loss: 0.8445, Avg Loss: 0.8418\n",
      "Diff stats — min: -4.9655, max: 10.0000, mean: 3.8896, std: 3.0218\n",
      "\n"
     ]
    },
    {
     "name": "stderr",
     "output_type": "stream",
     "text": [
      "/usr/local/lib/python3.11/dist-packages/pandas/core/computation/expressions.py:73: RuntimeWarning: invalid value encountered in less_equal\n",
      "  return op(a, b)\n",
      "/usr/local/lib/python3.11/dist-packages/pandas/core/arraylike.py:399: RuntimeWarning: invalid value encountered in log\n",
      "  result = getattr(ufunc, method)(*inputs, **kwargs)\n"
     ]
    },
    {
     "name": "stdout",
     "output_type": "stream",
     "text": [
      "Step 10957 — Test metrics:\n",
      "  precision@10: 0.010689746\n",
      "  recall@10: 0.010696537\n",
      "  ndcg@10: 0.011062386\n",
      "  map@10: 0.003489409\n",
      "Epoch 57, Step 160, LR: 0.000229, Current Loss: 0.8273, Avg Loss: 0.8414\n",
      "Diff stats — min: -5.8834, max: 10.0000, mean: 4.0892, std: 3.0577\n",
      "\n",
      "Epoch 57, Step 180, LR: 0.000229, Current Loss: 0.8476, Avg Loss: 0.8412\n",
      "Diff stats — min: -6.2792, max: 10.0000, mean: 4.0679, std: 3.0819\n",
      "\n",
      "Epoch 57 completed, Train Loss: 0.000206\n",
      "\n",
      "Epoch 58, Step 1, LR: 0.000229, Current Loss: 0.8329, Avg Loss: 0.8329\n",
      "Diff stats — min: -4.8693, max: 10.0000, mean: 4.1254, std: 3.0381\n",
      "\n"
     ]
    },
    {
     "name": "stderr",
     "output_type": "stream",
     "text": [
      "/usr/local/lib/python3.11/dist-packages/pandas/core/computation/expressions.py:73: RuntimeWarning: invalid value encountered in less_equal\n",
      "  return op(a, b)\n",
      "/usr/local/lib/python3.11/dist-packages/pandas/core/arraylike.py:399: RuntimeWarning: invalid value encountered in log\n",
      "  result = getattr(ufunc, method)(*inputs, **kwargs)\n"
     ]
    },
    {
     "name": "stdout",
     "output_type": "stream",
     "text": [
      "Step 11001 — Test metrics:\n",
      "  precision@10: 0.010993658\n",
      "  recall@10: 0.011000448\n",
      "  ndcg@10: 0.011188942\n",
      "  map@10: 0.003496834\n",
      "Epoch 58, Step 20, LR: 0.000229, Current Loss: 0.8343, Avg Loss: 0.8413\n",
      "Diff stats — min: -5.3839, max: 10.0000, mean: 4.0051, std: 3.0407\n",
      "\n",
      "Epoch 58, Step 40, LR: 0.000229, Current Loss: 0.8461, Avg Loss: 0.8404\n",
      "Diff stats — min: -5.8120, max: 10.0000, mean: 3.9740, std: 3.0537\n",
      "\n"
     ]
    },
    {
     "name": "stderr",
     "output_type": "stream",
     "text": [
      "/usr/local/lib/python3.11/dist-packages/pandas/core/computation/expressions.py:73: RuntimeWarning: invalid value encountered in less_equal\n",
      "  return op(a, b)\n",
      "/usr/local/lib/python3.11/dist-packages/pandas/core/arraylike.py:399: RuntimeWarning: invalid value encountered in log\n",
      "  result = getattr(ufunc, method)(*inputs, **kwargs)\n"
     ]
    },
    {
     "name": "stdout",
     "output_type": "stream",
     "text": [
      "Step 11050 — Test metrics:\n",
      "  precision@10: 0.010940803\n",
      "  recall@10: 0.010949062\n",
      "  ndcg@10: 0.011267736\n",
      "  map@10: 0.003553748\n",
      "Epoch 58, Step 60, LR: 0.000229, Current Loss: 0.8476, Avg Loss: 0.8387\n",
      "Diff stats — min: -4.9221, max: 10.0000, mean: 4.0250, std: 3.0587\n",
      "\n",
      "Epoch 58, Step 80, LR: 0.000229, Current Loss: 0.8282, Avg Loss: 0.8397\n",
      "Diff stats — min: -4.2946, max: 10.0000, mean: 4.0056, std: 2.9743\n",
      "\n",
      "Epoch 58, Step 100, LR: 0.000224, Current Loss: 0.8356, Avg Loss: 0.8399\n",
      "Diff stats — min: -7.2430, max: 10.0000, mean: 4.0965, std: 3.0614\n",
      "\n"
     ]
    },
    {
     "name": "stderr",
     "output_type": "stream",
     "text": [
      "/usr/local/lib/python3.11/dist-packages/pandas/core/computation/expressions.py:73: RuntimeWarning: invalid value encountered in less_equal\n",
      "  return op(a, b)\n",
      "/usr/local/lib/python3.11/dist-packages/pandas/core/arraylike.py:399: RuntimeWarning: invalid value encountered in log\n",
      "  result = getattr(ufunc, method)(*inputs, **kwargs)\n"
     ]
    },
    {
     "name": "stdout",
     "output_type": "stream",
     "text": [
      "Step 11100 — Test metrics:\n",
      "  precision@10: 0.010769027\n",
      "  recall@10: 0.010775818\n",
      "  ndcg@10: 0.010992396\n",
      "  map@10: 0.003437271\n",
      "Epoch 58, Step 120, LR: 0.000224, Current Loss: 0.8376, Avg Loss: 0.8402\n",
      "Diff stats — min: -5.9143, max: 10.0000, mean: 4.0513, std: 3.0587\n",
      "\n",
      "Epoch 58, Step 140, LR: 0.000224, Current Loss: 0.8312, Avg Loss: 0.8401\n",
      "Diff stats — min: -5.3514, max: 10.0000, mean: 4.0442, std: 3.0137\n",
      "\n"
     ]
    },
    {
     "name": "stderr",
     "output_type": "stream",
     "text": [
      "/usr/local/lib/python3.11/dist-packages/pandas/core/computation/expressions.py:73: RuntimeWarning: invalid value encountered in less_equal\n",
      "  return op(a, b)\n",
      "/usr/local/lib/python3.11/dist-packages/pandas/core/arraylike.py:399: RuntimeWarning: invalid value encountered in log\n",
      "  result = getattr(ufunc, method)(*inputs, **kwargs)\n"
     ]
    },
    {
     "name": "stdout",
     "output_type": "stream",
     "text": [
      "Step 11150 — Test metrics:\n",
      "  precision@10: 0.010802061\n",
      "  recall@10: 0.010807200\n",
      "  ndcg@10: 0.011068038\n",
      "  map@10: 0.003476746\n",
      "Epoch 58, Step 160, LR: 0.000224, Current Loss: 0.8334, Avg Loss: 0.8399\n",
      "Diff stats — min: -5.8011, max: 10.0000, mean: 4.1004, std: 3.0703\n",
      "\n",
      "Epoch 58, Step 180, LR: 0.000224, Current Loss: 0.8364, Avg Loss: 0.8400\n",
      "Diff stats — min: -5.1639, max: 10.0000, mean: 4.0441, std: 3.0454\n",
      "\n",
      "Epoch 58 completed, Train Loss: 0.000205\n",
      "\n",
      "Epoch 59, Step 1, LR: 0.000224, Current Loss: 0.8424, Avg Loss: 0.8424\n",
      "Diff stats — min: -5.6717, max: 10.0000, mean: 4.0923, std: 3.0833\n",
      "\n"
     ]
    },
    {
     "name": "stderr",
     "output_type": "stream",
     "text": [
      "/usr/local/lib/python3.11/dist-packages/pandas/core/computation/expressions.py:73: RuntimeWarning: invalid value encountered in less_equal\n",
      "  return op(a, b)\n",
      "/usr/local/lib/python3.11/dist-packages/pandas/core/arraylike.py:399: RuntimeWarning: invalid value encountered in log\n",
      "  result = getattr(ufunc, method)(*inputs, **kwargs)\n"
     ]
    },
    {
     "name": "stdout",
     "output_type": "stream",
     "text": [
      "Step 11194 — Test metrics:\n",
      "  precision@10: 0.011053118\n",
      "  recall@10: 0.011059175\n",
      "  ndcg@10: 0.011237765\n",
      "  map@10: 0.003512780\n",
      "Epoch 59, Step 20, LR: 0.000224, Current Loss: 0.8431, Avg Loss: 0.8384\n",
      "Diff stats — min: -4.5552, max: 10.0000, mean: 4.0606, std: 3.0259\n",
      "\n",
      "Epoch 59, Step 40, LR: 0.000224, Current Loss: 0.8450, Avg Loss: 0.8383\n",
      "Diff stats — min: -6.1029, max: 10.0000, mean: 4.0232, std: 3.0795\n",
      "\n"
     ]
    },
    {
     "name": "stderr",
     "output_type": "stream",
     "text": [
      "/usr/local/lib/python3.11/dist-packages/pandas/core/computation/expressions.py:73: RuntimeWarning: invalid value encountered in less_equal\n",
      "  return op(a, b)\n",
      "/usr/local/lib/python3.11/dist-packages/pandas/core/arraylike.py:399: RuntimeWarning: invalid value encountered in log\n",
      "  result = getattr(ufunc, method)(*inputs, **kwargs)\n"
     ]
    },
    {
     "name": "stdout",
     "output_type": "stream",
     "text": [
      "Step 11243 — Test metrics:\n",
      "  precision@10: 0.010630285\n",
      "  recall@10: 0.010636342\n",
      "  ndcg@10: 0.010837667\n",
      "  map@10: 0.003382128\n",
      "Epoch 59, Step 60, LR: 0.000220, Current Loss: 0.8431, Avg Loss: 0.8380\n",
      "Diff stats — min: -5.1422, max: 10.0000, mean: 4.1522, std: 3.0976\n",
      "\n",
      "Epoch 59, Step 80, LR: 0.000220, Current Loss: 0.8529, Avg Loss: 0.8388\n",
      "Diff stats — min: -5.5483, max: 10.0000, mean: 4.0289, std: 3.0503\n",
      "\n",
      "Epoch 59, Step 100, LR: 0.000220, Current Loss: 0.8399, Avg Loss: 0.8389\n",
      "Diff stats — min: -5.0410, max: 10.0000, mean: 4.0775, std: 3.0626\n",
      "\n"
     ]
    },
    {
     "name": "stderr",
     "output_type": "stream",
     "text": [
      "/usr/local/lib/python3.11/dist-packages/pandas/core/computation/expressions.py:73: RuntimeWarning: invalid value encountered in less_equal\n",
      "  return op(a, b)\n",
      "/usr/local/lib/python3.11/dist-packages/pandas/core/arraylike.py:399: RuntimeWarning: invalid value encountered in log\n",
      "  result = getattr(ufunc, method)(*inputs, **kwargs)\n"
     ]
    },
    {
     "name": "stdout",
     "output_type": "stream",
     "text": [
      "Step 11293 — Test metrics:\n",
      "  precision@10: 0.010861522\n",
      "  recall@10: 0.010868312\n",
      "  ndcg@10: 0.011091628\n",
      "  map@10: 0.003468284\n",
      "Epoch 59, Step 120, LR: 0.000220, Current Loss: 0.8498, Avg Loss: 0.8392\n",
      "Diff stats — min: -5.4497, max: 10.0000, mean: 4.0290, std: 3.0679\n",
      "\n",
      "Epoch 59, Step 140, LR: 0.000220, Current Loss: 0.8481, Avg Loss: 0.8392\n",
      "Diff stats — min: -6.4079, max: 10.0000, mean: 4.0495, std: 3.0750\n",
      "\n"
     ]
    },
    {
     "name": "stderr",
     "output_type": "stream",
     "text": [
      "/usr/local/lib/python3.11/dist-packages/pandas/core/computation/expressions.py:73: RuntimeWarning: invalid value encountered in less_equal\n",
      "  return op(a, b)\n",
      "/usr/local/lib/python3.11/dist-packages/pandas/core/arraylike.py:399: RuntimeWarning: invalid value encountered in log\n",
      "  result = getattr(ufunc, method)(*inputs, **kwargs)\n"
     ]
    },
    {
     "name": "stdout",
     "output_type": "stream",
     "text": [
      "Step 11343 — Test metrics:\n",
      "  precision@10: 0.010920983\n",
      "  recall@10: 0.010926122\n",
      "  ndcg@10: 0.011189100\n",
      "  map@10: 0.003510153\n",
      "Epoch 59, Step 160, LR: 0.000220, Current Loss: 0.8449, Avg Loss: 0.8394\n",
      "Diff stats — min: -6.4594, max: 10.0000, mean: 4.0335, std: 3.0602\n",
      "\n",
      "Epoch 59, Step 180, LR: 0.000220, Current Loss: 0.8257, Avg Loss: 0.8396\n",
      "Diff stats — min: -4.6166, max: 10.0000, mean: 4.0455, std: 3.0324\n",
      "\n",
      "Epoch 59 completed, Train Loss: 0.000205\n",
      "\n",
      "Epoch 60, Step 1, LR: 0.000220, Current Loss: 0.8428, Avg Loss: 0.8428\n",
      "Diff stats — min: -4.8749, max: 10.0000, mean: 4.1599, std: 3.1011\n",
      "\n"
     ]
    },
    {
     "name": "stderr",
     "output_type": "stream",
     "text": [
      "/usr/local/lib/python3.11/dist-packages/pandas/core/computation/expressions.py:73: RuntimeWarning: invalid value encountered in less_equal\n",
      "  return op(a, b)\n",
      "/usr/local/lib/python3.11/dist-packages/pandas/core/arraylike.py:399: RuntimeWarning: invalid value encountered in log\n",
      "  result = getattr(ufunc, method)(*inputs, **kwargs)\n"
     ]
    },
    {
     "name": "stdout",
     "output_type": "stream",
     "text": [
      "Step 11387 — Test metrics:\n",
      "  precision@10: 0.010927590\n",
      "  recall@10: 0.010934380\n",
      "  ndcg@10: 0.011164191\n",
      "  map@10: 0.003496860\n",
      "Epoch 60, Step 20, LR: 0.000215, Current Loss: 0.8384, Avg Loss: 0.8421\n",
      "Diff stats — min: -5.4588, max: 10.0000, mean: 4.0891, std: 3.0701\n",
      "\n",
      "Epoch 60, Step 40, LR: 0.000215, Current Loss: 0.8372, Avg Loss: 0.8400\n",
      "Diff stats — min: -6.3041, max: 10.0000, mean: 4.0492, std: 3.0963\n",
      "\n"
     ]
    },
    {
     "name": "stderr",
     "output_type": "stream",
     "text": [
      "/usr/local/lib/python3.11/dist-packages/pandas/core/computation/expressions.py:73: RuntimeWarning: invalid value encountered in less_equal\n",
      "  return op(a, b)\n",
      "/usr/local/lib/python3.11/dist-packages/pandas/core/arraylike.py:399: RuntimeWarning: invalid value encountered in log\n",
      "  result = getattr(ufunc, method)(*inputs, **kwargs)\n"
     ]
    },
    {
     "name": "stdout",
     "output_type": "stream",
     "text": [
      "Step 11436 — Test metrics:\n",
      "  precision@10: 0.010788848\n",
      "  recall@10: 0.010793986\n",
      "  ndcg@10: 0.011077630\n",
      "  map@10: 0.003481938\n",
      "Epoch 60, Step 60, LR: 0.000215, Current Loss: 0.8350, Avg Loss: 0.8386\n",
      "Diff stats — min: -5.1880, max: 10.0000, mean: 4.1136, std: 3.0701\n",
      "\n",
      "Epoch 60, Step 80, LR: 0.000215, Current Loss: 0.8311, Avg Loss: 0.8388\n",
      "Diff stats — min: -5.3160, max: 10.0000, mean: 4.1758, std: 3.0878\n",
      "\n",
      "Epoch 60, Step 100, LR: 0.000215, Current Loss: 0.8356, Avg Loss: 0.8397\n",
      "Diff stats — min: -5.1242, max: 10.0000, mean: 3.9565, std: 3.0646\n",
      "\n"
     ]
    },
    {
     "name": "stderr",
     "output_type": "stream",
     "text": [
      "/usr/local/lib/python3.11/dist-packages/pandas/core/computation/expressions.py:73: RuntimeWarning: invalid value encountered in less_equal\n",
      "  return op(a, b)\n",
      "/usr/local/lib/python3.11/dist-packages/pandas/core/arraylike.py:399: RuntimeWarning: invalid value encountered in log\n",
      "  result = getattr(ufunc, method)(*inputs, **kwargs)\n"
     ]
    },
    {
     "name": "stdout",
     "output_type": "stream",
     "text": [
      "Step 11486 — Test metrics:\n",
      "  precision@10: 0.010828488\n",
      "  recall@10: 0.010834545\n",
      "  ndcg@10: 0.011138351\n",
      "  map@10: 0.003509899\n",
      "Epoch 60, Step 120, LR: 0.000215, Current Loss: 0.8319, Avg Loss: 0.8397\n",
      "Diff stats — min: -5.8702, max: 10.0000, mean: 4.0670, std: 3.0619\n",
      "\n",
      "Epoch 60, Step 140, LR: 0.000215, Current Loss: 0.8407, Avg Loss: 0.8392\n",
      "Diff stats — min: -5.9432, max: 10.0000, mean: 4.1485, std: 3.0840\n",
      "\n"
     ]
    },
    {
     "name": "stderr",
     "output_type": "stream",
     "text": [
      "/usr/local/lib/python3.11/dist-packages/pandas/core/computation/expressions.py:73: RuntimeWarning: invalid value encountered in less_equal\n",
      "  return op(a, b)\n",
      "/usr/local/lib/python3.11/dist-packages/pandas/core/arraylike.py:399: RuntimeWarning: invalid value encountered in log\n",
      "  result = getattr(ufunc, method)(*inputs, **kwargs)\n"
     ]
    },
    {
     "name": "stdout",
     "output_type": "stream",
     "text": [
      "Step 11536 — Test metrics:\n",
      "  precision@10: 0.010782241\n",
      "  recall@10: 0.010788297\n",
      "  ndcg@10: 0.011070246\n",
      "  map@10: 0.003475053\n",
      "Epoch 60, Step 160, LR: 0.000215, Current Loss: 0.8695, Avg Loss: 0.8388\n",
      "Diff stats — min: -5.5972, max: 10.0000, mean: 3.9853, std: 3.1290\n",
      "\n",
      "Epoch 60, Step 180, LR: 0.000211, Current Loss: 0.8446, Avg Loss: 0.8393\n",
      "Diff stats — min: -7.1597, max: 10.0000, mean: 4.0998, std: 3.0872\n",
      "\n",
      "Epoch 60 completed, Train Loss: 0.000205\n",
      "\n",
      "Epoch 61, Step 1, LR: 0.000211, Current Loss: 0.8458, Avg Loss: 0.8458\n",
      "Diff stats — min: -6.6072, max: 10.0000, mean: 4.0172, std: 3.0432\n",
      "\n"
     ]
    },
    {
     "name": "stderr",
     "output_type": "stream",
     "text": [
      "/usr/local/lib/python3.11/dist-packages/pandas/core/computation/expressions.py:73: RuntimeWarning: invalid value encountered in less_equal\n",
      "  return op(a, b)\n",
      "/usr/local/lib/python3.11/dist-packages/pandas/core/arraylike.py:399: RuntimeWarning: invalid value encountered in log\n",
      "  result = getattr(ufunc, method)(*inputs, **kwargs)\n"
     ]
    },
    {
     "name": "stdout",
     "output_type": "stream",
     "text": [
      "Step 11580 — Test metrics:\n",
      "  precision@10: 0.010914376\n",
      "  recall@10: 0.010920433\n",
      "  ndcg@10: 0.011217937\n",
      "  map@10: 0.003526950\n",
      "Epoch 61, Step 20, LR: 0.000211, Current Loss: 0.8500, Avg Loss: 0.8398\n",
      "Diff stats — min: -6.0700, max: 10.0000, mean: 4.0627, std: 3.0892\n",
      "\n",
      "Epoch 61, Step 40, LR: 0.000211, Current Loss: 0.8507, Avg Loss: 0.8389\n",
      "Diff stats — min: -6.9466, max: 10.0000, mean: 4.0610, std: 3.1399\n",
      "\n"
     ]
    },
    {
     "ename": "KeyboardInterrupt",
     "evalue": "",
     "output_type": "error",
     "traceback": [
      "\u001b[0;31m---------------------------------------------------------------------------\u001b[0m",
      "\u001b[0;31mKeyboardInterrupt\u001b[0m                         Traceback (most recent call last)",
      "\u001b[0;32m/tmp/ipykernel_35/622032216.py\u001b[0m in \u001b[0;36m<cell line: 0>\u001b[0;34m()\u001b[0m\n\u001b[1;32m     24\u001b[0m \u001b[0mtrain_lambda_ce\u001b[0m \u001b[0;34m=\u001b[0m \u001b[0mhyperparameters\u001b[0m\u001b[0;34m[\u001b[0m\u001b[0;34m'train_lambda_ce'\u001b[0m\u001b[0;34m]\u001b[0m\u001b[0;34m\u001b[0m\u001b[0;34m\u001b[0m\u001b[0m\n\u001b[1;32m     25\u001b[0m \u001b[0;34m\u001b[0m\u001b[0m\n\u001b[0;32m---> 26\u001b[0;31m model = train_model(model,\n\u001b[0m\u001b[1;32m     27\u001b[0m                     \u001b[0mdata\u001b[0m\u001b[0;34m,\u001b[0m\u001b[0;34m\u001b[0m\u001b[0;34m\u001b[0m\u001b[0m\n\u001b[1;32m     28\u001b[0m                     \u001b[0;34m(\u001b[0m\u001b[0mseq_ids\u001b[0m\u001b[0;34m,\u001b[0m \u001b[0mevent_type\u001b[0m\u001b[0;34m,\u001b[0m \u001b[0mseq_times\u001b[0m\u001b[0;34m,\u001b[0m \u001b[0mseq_mask\u001b[0m\u001b[0;34m)\u001b[0m\u001b[0;34m,\u001b[0m\u001b[0;34m\u001b[0m\u001b[0;34m\u001b[0m\u001b[0m\n",
      "\u001b[0;32m/tmp/ipykernel_35/1552439942.py\u001b[0m in \u001b[0;36mtrain_model\u001b[0;34m(model, train_data, seq_train_data, edge_type, num_epochs, lr, batch_size, device, print_every, test_every, top_k, test_batch_size, scheduler_step_size, scheduler_gamma)\u001b[0m\n\u001b[1;32m    111\u001b[0m             \u001b[0;32mdel\u001b[0m \u001b[0muser_embs\u001b[0m\u001b[0;34m,\u001b[0m \u001b[0mpos_emb\u001b[0m\u001b[0;34m,\u001b[0m \u001b[0mneg_emb\u001b[0m\u001b[0;34m,\u001b[0m \u001b[0mpos_score\u001b[0m\u001b[0;34m,\u001b[0m \u001b[0mneg_score\u001b[0m\u001b[0;34m,\u001b[0m\u001b[0;31m\\\u001b[0m\u001b[0;34m\u001b[0m\u001b[0;34m\u001b[0m\u001b[0m\n\u001b[1;32m    112\u001b[0m             \u001b[0mseq_ids_batch\u001b[0m\u001b[0;34m,\u001b[0m \u001b[0mseq_times_batch\u001b[0m\u001b[0;34m,\u001b[0m \u001b[0mseq_mask_batch\u001b[0m\u001b[0;34m\u001b[0m\u001b[0;34m\u001b[0m\u001b[0m\n\u001b[0;32m--> 113\u001b[0;31m             \u001b[0mgc\u001b[0m\u001b[0;34m.\u001b[0m\u001b[0mcollect\u001b[0m\u001b[0;34m(\u001b[0m\u001b[0;34m)\u001b[0m\u001b[0;34m\u001b[0m\u001b[0;34m\u001b[0m\u001b[0m\n\u001b[0m\u001b[1;32m    114\u001b[0m             \u001b[0mtorch\u001b[0m\u001b[0;34m.\u001b[0m\u001b[0mcuda\u001b[0m\u001b[0;34m.\u001b[0m\u001b[0mempty_cache\u001b[0m\u001b[0;34m(\u001b[0m\u001b[0;34m)\u001b[0m\u001b[0;34m\u001b[0m\u001b[0;34m\u001b[0m\u001b[0m\n\u001b[1;32m    115\u001b[0m \u001b[0;34m\u001b[0m\u001b[0m\n",
      "\u001b[0;31mKeyboardInterrupt\u001b[0m: "
     ]
    }
   ],
   "source": [
    "model = Model(\n",
    "    num_users=num_users,\n",
    "    num_items=num_items,\n",
    "    feedback_types=feedback_types,\n",
    "    d_model=d_model,\n",
    "    n_head=n_head,\n",
    "    window_size=window_size,\n",
    "    decay=decay,\n",
    "    dropout=dropout\n",
    ")\n",
    "\n",
    "edge_type = hyperparameters['train_edge_type']\n",
    "num_epochs = hyperparameters['train_num_epochs']\n",
    "lr = hyperparameters['train_lr']\n",
    "batch_size = hyperparameters['train_batch_size']\n",
    "print_every = hyperparameters['train_print_every']\n",
    "test_every = hyperparameters['train_test_every']\n",
    "top_k = hyperparameters['test_topk']\n",
    "test_batch_size = hyperparameters['test_batch_size']\n",
    "scheduler_step_size = hyperparameters['train_scheduler_step_size']\n",
    "train_scheduler_gamma = hyperparameters['train_scheduler_gamma']\n",
    "train_margin = hyperparameters['train_margin']\n",
    "train_lambda_margin = hyperparameters['train_lambda_margin']\n",
    "train_lambda_ce = hyperparameters['train_lambda_ce']\n",
    "\n",
    "model = train_model(model,\n",
    "                    data,\n",
    "                    (seq_ids, event_type, seq_times, seq_mask),\n",
    "                    edge_type=edge_type,\n",
    "                    num_epochs=num_epochs,\n",
    "                    lr=lr,\n",
    "                    batch_size=batch_size,\n",
    "                    print_every=print_every,\n",
    "                    test_every=test_every,\n",
    "                    top_k=top_k,\n",
    "                    test_batch_size=test_batch_size,\n",
    "                    scheduler_step_size=scheduler_step_size,\n",
    "                    scheduler_gamma=train_scheduler_gamma)"
   ]
  },
  {
   "cell_type": "code",
   "execution_count": 47,
   "metadata": {
    "execution": {
     "iopub.execute_input": "2025-06-25T06:21:48.794914Z",
     "iopub.status.busy": "2025-06-25T06:21:48.794344Z",
     "iopub.status.idle": "2025-06-25T06:21:48.860510Z",
     "shell.execute_reply": "2025-06-25T06:21:48.859943Z",
     "shell.execute_reply.started": "2025-06-25T06:21:48.794891Z"
    },
    "trusted": true
   },
   "outputs": [
    {
     "data": {
      "text/html": [
       "<a href='gnn_model_mvl.model' target='_blank'>gnn_model_mvl.model</a><br>"
      ],
      "text/plain": [
       "/kaggle/working/gnn_model_mvl.model"
      ]
     },
     "execution_count": 47,
     "metadata": {},
     "output_type": "execute_result"
    }
   ],
   "source": [
    "torch.save(model, \"gnn_model_mvl.model\")\n",
    "from IPython.display import FileLink\n",
    "\n",
    "FileLink('gnn_model_mvl.model')"
   ]
  },
  {
   "cell_type": "code",
   "execution_count": 48,
   "metadata": {
    "execution": {
     "iopub.execute_input": "2025-06-25T06:21:49.039442Z",
     "iopub.status.busy": "2025-06-25T06:21:49.039234Z",
     "iopub.status.idle": "2025-06-25T06:21:49.734011Z",
     "shell.execute_reply": "2025-06-25T06:21:49.733232Z",
     "shell.execute_reply.started": "2025-06-25T06:21:49.039428Z"
    },
    "trusted": true
   },
   "outputs": [],
   "source": [
    "# del model\n",
    "gc.collect()\n",
    "torch.cuda.empty_cache()"
   ]
  },
  {
   "cell_type": "code",
   "execution_count": 49,
   "metadata": {
    "execution": {
     "iopub.execute_input": "2025-06-25T06:21:50.172982Z",
     "iopub.status.busy": "2025-06-25T06:21:50.172714Z",
     "iopub.status.idle": "2025-06-25T06:21:50.336400Z",
     "shell.execute_reply": "2025-06-25T06:21:50.335856Z",
     "shell.execute_reply.started": "2025-06-25T06:21:50.172962Z"
    },
    "trusted": true
   },
   "outputs": [],
   "source": [
    "log_model(\n",
    "    experiment=experiment,\n",
    "    model=model,\n",
    "    model_name=\"GNN+THP\",\n",
    ")"
   ]
  },
  {
   "cell_type": "code",
   "execution_count": 50,
   "metadata": {
    "execution": {
     "iopub.execute_input": "2025-06-25T06:21:50.412319Z",
     "iopub.status.busy": "2025-06-25T06:21:50.411596Z",
     "iopub.status.idle": "2025-06-25T06:21:53.107884Z",
     "shell.execute_reply": "2025-06-25T06:21:53.107285Z",
     "shell.execute_reply.started": "2025-06-25T06:21:50.412298Z"
    },
    "trusted": true
   },
   "outputs": [
    {
     "name": "stderr",
     "output_type": "stream",
     "text": [
      "\u001b[1;38;5;39mCOMET INFO:\u001b[0m ---------------------------------------------------------------------------------------\n",
      "\u001b[1;38;5;39mCOMET INFO:\u001b[0m Comet.ml Experiment Summary\n",
      "\u001b[1;38;5;39mCOMET INFO:\u001b[0m ---------------------------------------------------------------------------------------\n",
      "\u001b[1;38;5;39mCOMET INFO:\u001b[0m   Data:\n",
      "\u001b[1;38;5;39mCOMET INFO:\u001b[0m     display_summary_level : 1\n",
      "\u001b[1;38;5;39mCOMET INFO:\u001b[0m     name                  : diffgat-thp-extra-task-books\n",
      "\u001b[1;38;5;39mCOMET INFO:\u001b[0m     url                   : https://www.comet.com/annanet/gnn-recommender/56940bb0e0ad4232af7cb59b52e4d4bb\n",
      "\u001b[1;38;5;39mCOMET INFO:\u001b[0m   Metrics [count] (min, max):\n",
      "\u001b[1;38;5;39mCOMET INFO:\u001b[0m     Diff stats (mean) vs step [603] : (0.11226169019937515, 4.175819396972656)\n",
      "\u001b[1;38;5;39mCOMET INFO:\u001b[0m     Diff stats (std) vs step [603]  : (1.1275678873062134, 8.047258377075195)\n",
      "\u001b[1;38;5;39mCOMET INFO:\u001b[0m     Test map@10 vs step [241]       : (9.036848971441993e-05, 0.0037191081286284773)\n",
      "\u001b[1;38;5;39mCOMET INFO:\u001b[0m     Test ndcg@10 vs step [241]      : (0.0003192398880366479, 0.01179920970712431)\n",
      "\u001b[1;38;5;39mCOMET INFO:\u001b[0m     Test precision@10 vs step [241] : (0.000330338266384778, 0.011561839323467231)\n",
      "\u001b[1;38;5;39mCOMET INFO:\u001b[0m     Test recall@10 vs step [241]    : (0.000330338266384778, 0.01156936369509044)\n",
      "\u001b[1;38;5;39mCOMET INFO:\u001b[0m     Train BPR Loss vs step [11622]  : (0.18093430995941162, 3.8373327255249023)\n",
      "\u001b[1;38;5;39mCOMET INFO:\u001b[0m     Train CE Loss vs step [11622]   : (0.6125127673149109, 0.6585308909416199)\n",
      "\u001b[1;38;5;39mCOMET INFO:\u001b[0m     Train Loss vs epoch [60]        : (0.00020508147234788725, 0.0007008333828210455)\n",
      "\u001b[1;38;5;39mCOMET INFO:\u001b[0m     Train Loss vs step [11622]      : (0.8115482330322266, 4.477769374847412)\n",
      "\u001b[1;38;5;39mCOMET INFO:\u001b[0m     loss [1163]                     : (0.8190581798553467, 4.250412940979004)\n",
      "\u001b[1;38;5;39mCOMET INFO:\u001b[0m   Others:\n",
      "\u001b[1;38;5;39mCOMET INFO:\u001b[0m     Name : diffgat-thp-extra-task-books\n",
      "\u001b[1;38;5;39mCOMET INFO:\u001b[0m   Parameters:\n",
      "\u001b[1;38;5;39mCOMET INFO:\u001b[0m     cls_id                    : 25457\n",
      "\u001b[1;38;5;39mCOMET INFO:\u001b[0m     max_len_of_thp_history    : 100\n",
      "\u001b[1;38;5;39mCOMET INFO:\u001b[0m     pad_id                    : 0\n",
      "\u001b[1;38;5;39mCOMET INFO:\u001b[0m     seed                      : 42\n",
      "\u001b[1;38;5;39mCOMET INFO:\u001b[0m     test_batch_size           : 8192\n",
      "\u001b[1;38;5;39mCOMET INFO:\u001b[0m     test_topk                 : 10\n",
      "\u001b[1;38;5;39mCOMET INFO:\u001b[0m     thp_decay                 : 1.0\n",
      "\u001b[1;38;5;39mCOMET INFO:\u001b[0m     thp_dmodel                : 64\n",
      "\u001b[1;38;5;39mCOMET INFO:\u001b[0m     thp_dropout               : 0.2\n",
      "\u001b[1;38;5;39mCOMET INFO:\u001b[0m     thp_n_head                : 4\n",
      "\u001b[1;38;5;39mCOMET INFO:\u001b[0m     thp_window_size           : 101\n",
      "\u001b[1;38;5;39mCOMET INFO:\u001b[0m     train_batch_size          : 4096\n",
      "\u001b[1;38;5;39mCOMET INFO:\u001b[0m     train_edge_type           : [('item', 'item2explicit_positive', 'explicit_positive'), ('item', 'item2implicit_positive', 'implicit_positive')]\n",
      "\u001b[1;38;5;39mCOMET INFO:\u001b[0m     train_lambda_ce           : 0.7\n",
      "\u001b[1;38;5;39mCOMET INFO:\u001b[0m     train_lambda_margin       : 0.1\n",
      "\u001b[1;38;5;39mCOMET INFO:\u001b[0m     train_lr                  : 0.001\n",
      "\u001b[1;38;5;39mCOMET INFO:\u001b[0m     train_margin              : 1.0\n",
      "\u001b[1;38;5;39mCOMET INFO:\u001b[0m     train_num_epochs          : 5000\n",
      "\u001b[1;38;5;39mCOMET INFO:\u001b[0m     train_print_every         : 20\n",
      "\u001b[1;38;5;39mCOMET INFO:\u001b[0m     train_scheduler_gamma     : 0.98\n",
      "\u001b[1;38;5;39mCOMET INFO:\u001b[0m     train_scheduler_step_size : 150\n",
      "\u001b[1;38;5;39mCOMET INFO:\u001b[0m     train_test_every          : 50\n",
      "\u001b[1;38;5;39mCOMET INFO:\u001b[0m     types_of_feedback         : ['explicit_positive', 'expliсit_negative', 'implicit_positive', 'implicit_negative']\n",
      "\u001b[1;38;5;39mCOMET INFO:\u001b[0m   Uploads:\n",
      "\u001b[1;38;5;39mCOMET INFO:\u001b[0m     environment details : 1\n",
      "\u001b[1;38;5;39mCOMET INFO:\u001b[0m     filename            : 1\n",
      "\u001b[1;38;5;39mCOMET INFO:\u001b[0m     installed packages  : 1\n",
      "\u001b[1;38;5;39mCOMET INFO:\u001b[0m     model graph         : 1\n",
      "\u001b[1;38;5;39mCOMET INFO:\u001b[0m     model-element       : 2 (29.95 MB)\n",
      "\u001b[1;38;5;39mCOMET INFO:\u001b[0m     notebook            : 1\n",
      "\u001b[1;38;5;39mCOMET INFO:\u001b[0m     os packages         : 1\n",
      "\u001b[1;38;5;39mCOMET INFO:\u001b[0m     source_code         : 1\n",
      "\u001b[1;38;5;39mCOMET INFO:\u001b[0m \n",
      "\u001b[1;38;5;39mCOMET INFO:\u001b[0m Please wait for assets to finish uploading (timeout is 10800 seconds)\n",
      "\u001b[1;38;5;39mCOMET INFO:\u001b[0m Still uploading 1 file(s), remaining 21.56 MB/29.95 MB\n"
     ]
    }
   ],
   "source": [
    "experiment.end()"
   ]
  },
  {
   "cell_type": "code",
   "execution_count": null,
   "metadata": {
    "trusted": true
   },
   "outputs": [],
   "source": []
  }
 ],
 "metadata": {
  "kaggle": {
   "accelerator": "gpu",
   "dataSources": [
    {
     "datasetId": 7302197,
     "sourceId": 11637841,
     "sourceType": "datasetVersion"
    },
    {
     "datasetId": 7705289,
     "sourceId": 12229447,
     "sourceType": "datasetVersion"
    }
   ],
   "dockerImageVersionId": 31041,
   "isGpuEnabled": true,
   "isInternetEnabled": true,
   "language": "python",
   "sourceType": "notebook"
  },
  "kernelspec": {
   "display_name": "Python 3",
   "language": "python",
   "name": "python3"
  },
  "language_info": {
   "codemirror_mode": {
    "name": "ipython",
    "version": 3
   },
   "file_extension": ".py",
   "mimetype": "text/x-python",
   "name": "python",
   "nbconvert_exporter": "python",
   "pygments_lexer": "ipython3",
   "version": "3.11.11"
  }
 },
 "nbformat": 4,
 "nbformat_minor": 4
}
