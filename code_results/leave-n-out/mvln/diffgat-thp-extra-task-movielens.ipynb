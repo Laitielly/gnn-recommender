{
 "cells": [
  {
   "cell_type": "code",
   "execution_count": 1,
   "metadata": {
    "_cell_guid": "b1076dfc-b9ad-4769-8c92-a6c4dae69d19",
    "_uuid": "8f2839f25d086af736a60e9eeb907d3b93b6e0e5",
    "execution": {
     "iopub.execute_input": "2025-06-25T01:57:53.712282Z",
     "iopub.status.busy": "2025-06-25T01:57:53.712109Z",
     "iopub.status.idle": "2025-06-25T01:58:08.026048Z",
     "shell.execute_reply": "2025-06-25T01:58:08.025263Z",
     "shell.execute_reply.started": "2025-06-25T01:57:53.712265Z"
    },
    "trusted": true
   },
   "outputs": [
    {
     "name": "stdout",
     "output_type": "stream",
     "text": [
      "\u001b[2K     \u001b[90m━━━━━━━━━━━━━━━━━━━━━━━━━━━━━━━━━━━━━━━━\u001b[0m \u001b[32m63.1/63.1 kB\u001b[0m \u001b[31m3.8 MB/s\u001b[0m eta \u001b[36m0:00:00\u001b[0m\n",
      "\u001b[2K   \u001b[90m━━━━━━━━━━━━━━━━━━━━━━━━━━━━━━━━━━━━━━━━\u001b[0m \u001b[32m1.1/1.1 MB\u001b[0m \u001b[31m31.1 MB/s\u001b[0m eta \u001b[36m0:00:00\u001b[0m00:01\u001b[0m\n",
      "\u001b[2K   \u001b[90m━━━━━━━━━━━━━━━━━━━━━━━━━━━━━━━━━━━━━━━━\u001b[0m \u001b[32m208.0/208.0 kB\u001b[0m \u001b[31m13.7 MB/s\u001b[0m eta \u001b[36m0:00:00\u001b[0m\n",
      "\u001b[2K   \u001b[90m━━━━━━━━━━━━━━━━━━━━━━━━━━━━━━━━━━━━━━━━\u001b[0m \u001b[32m60.8/60.8 kB\u001b[0m \u001b[31m3.9 MB/s\u001b[0m eta \u001b[36m0:00:00\u001b[0m\n",
      "\u001b[2K   \u001b[90m━━━━━━━━━━━━━━━━━━━━━━━━━━━━━━━━━━━━━━━━\u001b[0m \u001b[32m8.9/8.9 MB\u001b[0m \u001b[31m88.4 MB/s\u001b[0m eta \u001b[36m0:00:00\u001b[0m:00:01\u001b[0m00:01\u001b[0m\n",
      "\u001b[?25h\u001b[31mERROR: pip's dependency resolver does not currently take into account all the packages that are installed. This behaviour is the source of the following dependency conflicts.\n",
      "bigframes 1.42.0 requires rich<14,>=12.4.4, but you have rich 14.0.0 which is incompatible.\u001b[0m\u001b[31m\n",
      "\u001b[2K   \u001b[90m━━━━━━━━━━━━━━━━━━━━━━━━━━━━━━━━━━━━━━━━\u001b[0m \u001b[32m727.1/727.1 kB\u001b[0m \u001b[31m16.3 MB/s\u001b[0m eta \u001b[36m0:00:00\u001b[0m00:01\u001b[0m\n",
      "\u001b[2K   \u001b[90m━━━━━━━━━━━━━━━━━━━━━━━━━━━━━━━━━━━━━━━━\u001b[0m \u001b[32m1.1/1.1 MB\u001b[0m \u001b[31m40.9 MB/s\u001b[0m eta \u001b[36m0:00:00\u001b[0m\n",
      "\u001b[2K   \u001b[90m━━━━━━━━━━━━━━━━━━━━━━━━━━━━━━━━━━━━━━━━\u001b[0m \u001b[32m3.5/3.5 MB\u001b[0m \u001b[31m91.5 MB/s\u001b[0m eta \u001b[36m0:00:00\u001b[0m:00:01\u001b[0m\n",
      "\u001b[?25h"
     ]
    }
   ],
   "source": [
    "!pip -q install torch_geometric rectools\n",
    "!pip -q install comet_ml\n",
    "!pip -q install python-dotenv"
   ]
  },
  {
   "cell_type": "code",
   "execution_count": 2,
   "metadata": {
    "execution": {
     "iopub.execute_input": "2025-06-25T01:58:08.027330Z",
     "iopub.status.busy": "2025-06-25T01:58:08.026938Z",
     "iopub.status.idle": "2025-06-25T01:58:13.564001Z",
     "shell.execute_reply": "2025-06-25T01:58:13.563459Z",
     "shell.execute_reply.started": "2025-06-25T01:58:08.027215Z"
    },
    "trusted": true
   },
   "outputs": [],
   "source": [
    "import comet_ml\n",
    "from comet_ml import Experiment\n",
    "from comet_ml.integration.pytorch import log_model\n",
    "\n",
    "from dotenv import load_dotenv\n",
    "import os"
   ]
  },
  {
   "cell_type": "code",
   "execution_count": 4,
   "metadata": {
    "execution": {
     "iopub.execute_input": "2025-06-25T01:58:13.570603Z",
     "iopub.status.busy": "2025-06-25T01:58:13.570317Z",
     "iopub.status.idle": "2025-06-25T01:58:13.586435Z",
     "shell.execute_reply": "2025-06-25T01:58:13.585882Z",
     "shell.execute_reply.started": "2025-06-25T01:58:13.570587Z"
    },
    "trusted": true
   },
   "outputs": [
    {
     "data": {
      "text/plain": [
       "True"
      ]
     },
     "execution_count": 4,
     "metadata": {},
     "output_type": "execute_result"
    }
   ],
   "source": [
    "load_dotenv(\".env\")"
   ]
  },
  {
   "cell_type": "code",
   "execution_count": 5,
   "metadata": {
    "execution": {
     "iopub.execute_input": "2025-06-25T01:58:13.587733Z",
     "iopub.status.busy": "2025-06-25T01:58:13.587445Z",
     "iopub.status.idle": "2025-06-25T01:58:18.137075Z",
     "shell.execute_reply": "2025-06-25T01:58:18.136542Z",
     "shell.execute_reply.started": "2025-06-25T01:58:13.587715Z"
    },
    "trusted": true
   },
   "outputs": [
    {
     "name": "stderr",
     "output_type": "stream",
     "text": [
      "\u001b[1;38;5;214mCOMET WARNING:\u001b[0m As you are running in a Jupyter environment, you will need to call `experiment.end()` when finished to ensure all metrics and code are logged before exiting.\n",
      "\u001b[1;38;5;39mCOMET INFO:\u001b[0m Experiment is live on comet.com https://www.comet.com/annanet/gnn-recommender/2969d76463bd4bb0bb0925148c2c83fe\n",
      "\n",
      "\u001b[1;38;5;39mCOMET INFO:\u001b[0m Couldn't find a Git repository in '/kaggle/working' nor in any parent directory. Set `COMET_GIT_DIRECTORY` if your Git Repository is elsewhere.\n"
     ]
    }
   ],
   "source": [
    "experiment = Experiment(\n",
    "  api_key=os.getenv('API_KEY'),\n",
    "  project_name=\"gnn-recommender\",\n",
    "  workspace=\"annanet\",\n",
    "  log_code=True\n",
    ")\n",
    "\n",
    "experiment.set_name('diffGAT-THP+extra_task-movielens')\n",
    "experiment.add_tags(['movielens'])"
   ]
  },
  {
   "cell_type": "markdown",
   "metadata": {},
   "source": [
    "https://www.comet.com/annanet/gnn-recommender/2969d76463bd4bb0bb0925148c2c83fe"
   ]
  },
  {
   "cell_type": "code",
   "execution_count": 6,
   "metadata": {
    "execution": {
     "iopub.execute_input": "2025-06-25T01:58:18.138476Z",
     "iopub.status.busy": "2025-06-25T01:58:18.137875Z",
     "iopub.status.idle": "2025-06-25T01:58:18.143166Z",
     "shell.execute_reply": "2025-06-25T01:58:18.142442Z",
     "shell.execute_reply.started": "2025-06-25T01:58:18.138450Z"
    },
    "trusted": true
   },
   "outputs": [],
   "source": [
    "hyperparameters = {\n",
    "    'seed': 42,\n",
    "    'types_of_feedback': [\"explicit_positive\", \"expliсit_negative\",\n",
    "                          \"implicit_positive\", \"implicit_negative\"],\n",
    "    'max_len_of_thp_history': 100,\n",
    "    'pad_id': 0,         \n",
    "    'cls_id': None,  # filled in at the stage of creating a story for thp\n",
    "    'thp_dmodel': 64,  # размер эмбеддингов\n",
    "    'thp_n_head': 4,  # число attention-голов\n",
    "    'thp_window_size': 101,  # окно THP\n",
    "    'thp_decay': 1.0,  # скорость экспоненциального затухания\n",
    "    'thp_dropout': 0.2,  # dropout\n",
    "    'train_edge_type': [('item','item2explicit_positive','explicit_positive'), \n",
    "                        ('item','item2implicit_positive','implicit_positive')],\n",
    "    'train_num_epochs': 5000,\n",
    "    'train_lr': 1e-3,\n",
    "    'train_batch_size': 4096,\n",
    "    'train_print_every': 20,  # раз в сколько шагов печатаем статистику\n",
    "    'train_test_every': 50,\n",
    "    'test_topk': 10,\n",
    "    'test_batch_size': 8192,\n",
    "    'train_scheduler_step_size': 150,\n",
    "    'train_scheduler_gamma': 0.98,\n",
    "    'train_margin': 1.0,\n",
    "    'train_lambda_margin': 0.1,\n",
    "    'train_lambda_ce': 0.7\n",
    "}"
   ]
  },
  {
   "cell_type": "code",
   "execution_count": 7,
   "metadata": {
    "execution": {
     "iopub.execute_input": "2025-06-25T01:58:18.144630Z",
     "iopub.status.busy": "2025-06-25T01:58:18.143916Z",
     "iopub.status.idle": "2025-06-25T01:58:18.178050Z",
     "shell.execute_reply": "2025-06-25T01:58:18.177355Z",
     "shell.execute_reply.started": "2025-06-25T01:58:18.144612Z"
    },
    "trusted": true
   },
   "outputs": [
    {
     "data": {
      "text/plain": [
       "['train.csv', 'test.csv']"
      ]
     },
     "execution_count": 7,
     "metadata": {},
     "output_type": "execute_result"
    }
   ],
   "source": [
    "os.listdir('/kaggle/input/gnn-dataset/data/leave-n-out/mvln')"
   ]
  },
  {
   "cell_type": "code",
   "execution_count": 8,
   "metadata": {
    "execution": {
     "iopub.execute_input": "2025-06-25T01:58:18.178889Z",
     "iopub.status.busy": "2025-06-25T01:58:18.178706Z",
     "iopub.status.idle": "2025-06-25T01:58:27.586675Z",
     "shell.execute_reply": "2025-06-25T01:58:27.586079Z",
     "shell.execute_reply.started": "2025-06-25T01:58:18.178873Z"
    },
    "trusted": true
   },
   "outputs": [],
   "source": [
    "import pandas as pd\n",
    "import numpy as np\n",
    "\n",
    "import torch\n",
    "import torch.nn as nn\n",
    "import torch.nn.functional as F\n",
    "from torch.optim.lr_scheduler import StepLR\n",
    "from torch_geometric.data import HeteroData\n",
    "from torch_geometric.nn import HeteroConv, GATConv\n",
    "\n",
    "from sklearn.preprocessing import LabelEncoder\n",
    "\n",
    "from rectools import Columns\n",
    "from rectools.metrics import MAP, Precision, Recall, NDCG, calc_metrics\n",
    "\n",
    "import gc\n",
    "\n",
    "from collections import defaultdict\n",
    "import random"
   ]
  },
  {
   "cell_type": "code",
   "execution_count": 9,
   "metadata": {
    "execution": {
     "iopub.execute_input": "2025-06-25T01:58:27.589450Z",
     "iopub.status.busy": "2025-06-25T01:58:27.589056Z",
     "iopub.status.idle": "2025-06-25T01:58:27.598503Z",
     "shell.execute_reply": "2025-06-25T01:58:27.597953Z",
     "shell.execute_reply.started": "2025-06-25T01:58:27.589432Z"
    },
    "trusted": true
   },
   "outputs": [],
   "source": [
    "SEED = hyperparameters['seed']\n",
    "torch.manual_seed(SEED)\n",
    "random.seed(SEED)\n",
    "np.random.seed(SEED)"
   ]
  },
  {
   "cell_type": "code",
   "execution_count": 10,
   "metadata": {
    "execution": {
     "iopub.execute_input": "2025-06-25T01:58:27.599794Z",
     "iopub.status.busy": "2025-06-25T01:58:27.599192Z",
     "iopub.status.idle": "2025-06-25T01:58:28.632771Z",
     "shell.execute_reply": "2025-06-25T01:58:28.632109Z",
     "shell.execute_reply.started": "2025-06-25T01:58:27.599778Z"
    },
    "trusted": true
   },
   "outputs": [
    {
     "name": "stdout",
     "output_type": "stream",
     "text": [
      "   user_id  movie_id  rating  timestamp                date\n",
      "0        1      3186       4  978300019 2000-12-31 22:00:19\n",
      "1        1      1270       5  978300055 2000-12-31 22:00:55\n",
      "2        1      1721       4  978300055 2000-12-31 22:00:55\n",
      "3        1      1022       5  978300055 2000-12-31 22:00:55\n",
      "4        1      2340       3  978300103 2000-12-31 22:01:43\n"
     ]
    }
   ],
   "source": [
    "rootpath = '/kaggle/input/gnn-dataset/data/leave-n-out/mvln/'\n",
    "train = pd.read_csv(\n",
    "    rootpath+'train.csv'\n",
    ")\n",
    "train['date'] = pd.to_datetime(train['timestamp'], unit='s')\n",
    "print(train.head())"
   ]
  },
  {
   "cell_type": "code",
   "execution_count": 11,
   "metadata": {
    "execution": {
     "iopub.execute_input": "2025-06-25T01:58:28.633893Z",
     "iopub.status.busy": "2025-06-25T01:58:28.633667Z",
     "iopub.status.idle": "2025-06-25T01:58:28.670660Z",
     "shell.execute_reply": "2025-06-25T01:58:28.670074Z",
     "shell.execute_reply.started": "2025-06-25T01:58:28.633875Z"
    },
    "trusted": true
   },
   "outputs": [
    {
     "name": "stdout",
     "output_type": "stream",
     "text": [
      "Количество explicit позитивного фидбека 211802\n",
      "Количество explicit негативного фидбека 153484\n"
     ]
    }
   ],
   "source": [
    "explicit_positive = train[(train[\"rating\"] == 5)].index\n",
    "explisit_negative = train[(train[\"rating\"] <= 2)].index\n",
    "\n",
    "explicit_combined_feedback = explicit_positive.union(explisit_negative)\n",
    "print('Количество explicit позитивного фидбека', explicit_positive.shape[0])\n",
    "print('Количество explicit негативного фидбека', explisit_negative.shape[0])"
   ]
  },
  {
   "cell_type": "code",
   "execution_count": 12,
   "metadata": {
    "execution": {
     "iopub.execute_input": "2025-06-25T01:58:28.671659Z",
     "iopub.status.busy": "2025-06-25T01:58:28.671388Z",
     "iopub.status.idle": "2025-06-25T01:58:28.709357Z",
     "shell.execute_reply": "2025-06-25T01:58:28.708584Z",
     "shell.execute_reply.started": "2025-06-25T01:58:28.671634Z"
    },
    "trusted": true
   },
   "outputs": [
    {
     "name": "stdout",
     "output_type": "stream",
     "text": [
      "Количество implicit позитивного фидбека 327987\n",
      "Количество implicit негативного фидбека 246536\n"
     ]
    }
   ],
   "source": [
    "implicit_positive = train[(train[\"rating\"] == 4)].index\n",
    "implicit_negative = train[(train[\"rating\"] == 3)].index\n",
    "\n",
    "implicit_combined_feedback = implicit_positive.union(implicit_negative)\n",
    "print('Количество implicit позитивного фидбека', implicit_positive.shape[0])\n",
    "print('Количество implicit негативного фидбека', implicit_negative.shape[0])"
   ]
  },
  {
   "cell_type": "code",
   "execution_count": 13,
   "metadata": {
    "execution": {
     "iopub.execute_input": "2025-06-25T01:58:28.710362Z",
     "iopub.status.busy": "2025-06-25T01:58:28.710171Z",
     "iopub.status.idle": "2025-06-25T01:58:28.816749Z",
     "shell.execute_reply": "2025-06-25T01:58:28.815947Z",
     "shell.execute_reply.started": "2025-06-25T01:58:28.710344Z"
    },
    "trusted": true
   },
   "outputs": [
    {
     "data": {
      "text/html": [
       "<div>\n",
       "<style scoped>\n",
       "    .dataframe tbody tr th:only-of-type {\n",
       "        vertical-align: middle;\n",
       "    }\n",
       "\n",
       "    .dataframe tbody tr th {\n",
       "        vertical-align: top;\n",
       "    }\n",
       "\n",
       "    .dataframe thead th {\n",
       "        text-align: right;\n",
       "    }\n",
       "</style>\n",
       "<table border=\"1\" class=\"dataframe\">\n",
       "  <thead>\n",
       "    <tr style=\"text-align: right;\">\n",
       "      <th></th>\n",
       "      <th>user_id</th>\n",
       "      <th>movie_id</th>\n",
       "      <th>target</th>\n",
       "      <th>date</th>\n",
       "    </tr>\n",
       "  </thead>\n",
       "  <tbody>\n",
       "    <tr>\n",
       "      <th>0</th>\n",
       "      <td>1</td>\n",
       "      <td>3186</td>\n",
       "      <td>implicit_positive</td>\n",
       "      <td>2000-12-31 22:00:19</td>\n",
       "    </tr>\n",
       "    <tr>\n",
       "      <th>1</th>\n",
       "      <td>1</td>\n",
       "      <td>1270</td>\n",
       "      <td>explicit_positive</td>\n",
       "      <td>2000-12-31 22:00:55</td>\n",
       "    </tr>\n",
       "    <tr>\n",
       "      <th>2</th>\n",
       "      <td>1</td>\n",
       "      <td>1721</td>\n",
       "      <td>implicit_positive</td>\n",
       "      <td>2000-12-31 22:00:55</td>\n",
       "    </tr>\n",
       "    <tr>\n",
       "      <th>3</th>\n",
       "      <td>1</td>\n",
       "      <td>1022</td>\n",
       "      <td>explicit_positive</td>\n",
       "      <td>2000-12-31 22:00:55</td>\n",
       "    </tr>\n",
       "    <tr>\n",
       "      <th>4</th>\n",
       "      <td>1</td>\n",
       "      <td>2340</td>\n",
       "      <td>implicit_negative</td>\n",
       "      <td>2000-12-31 22:01:43</td>\n",
       "    </tr>\n",
       "  </tbody>\n",
       "</table>\n",
       "</div>"
      ],
      "text/plain": [
       "   user_id  movie_id             target                date\n",
       "0        1      3186  implicit_positive 2000-12-31 22:00:19\n",
       "1        1      1270  explicit_positive 2000-12-31 22:00:55\n",
       "2        1      1721  implicit_positive 2000-12-31 22:00:55\n",
       "3        1      1022  explicit_positive 2000-12-31 22:00:55\n",
       "4        1      2340  implicit_negative 2000-12-31 22:01:43"
      ]
     },
     "execution_count": 13,
     "metadata": {},
     "output_type": "execute_result"
    }
   ],
   "source": [
    "train.loc[:, \"target\"] = \"\"\n",
    "train.loc[explicit_positive, \"target\"] = \"explicit_positive\"\n",
    "train.loc[explisit_negative, \"target\"] = \"expliсit_negative\"\n",
    "train.loc[implicit_positive, \"target\"] = \"implicit_positive\"\n",
    "train.loc[implicit_negative, \"target\"] = \"implicit_negative\"\n",
    "\n",
    "train = train[['user_id','movie_id','target','date']]\n",
    "train.head()"
   ]
  },
  {
   "cell_type": "code",
   "execution_count": 14,
   "metadata": {
    "execution": {
     "iopub.execute_input": "2025-06-25T01:58:28.818339Z",
     "iopub.status.busy": "2025-06-25T01:58:28.817607Z",
     "iopub.status.idle": "2025-06-25T01:58:28.999979Z",
     "shell.execute_reply": "2025-06-25T01:58:28.999357Z",
     "shell.execute_reply.started": "2025-06-25T01:58:28.818317Z"
    },
    "trusted": true
   },
   "outputs": [],
   "source": [
    "train = train.sort_values(by=[\"user_id\", \"date\"]).reset_index(drop=True)"
   ]
  },
  {
   "cell_type": "code",
   "execution_count": 15,
   "metadata": {
    "execution": {
     "iopub.execute_input": "2025-06-25T01:58:29.001165Z",
     "iopub.status.busy": "2025-06-25T01:58:29.000860Z",
     "iopub.status.idle": "2025-06-25T01:58:29.004835Z",
     "shell.execute_reply": "2025-06-25T01:58:29.004162Z",
     "shell.execute_reply.started": "2025-06-25T01:58:29.001146Z"
    },
    "trusted": true
   },
   "outputs": [],
   "source": [
    "train.columns = ['user_id', 'item_id', 'target', 'date']"
   ]
  },
  {
   "cell_type": "code",
   "execution_count": 16,
   "metadata": {
    "execution": {
     "iopub.execute_input": "2025-06-25T01:58:29.005845Z",
     "iopub.status.busy": "2025-06-25T01:58:29.005576Z",
     "iopub.status.idle": "2025-06-25T01:58:29.091318Z",
     "shell.execute_reply": "2025-06-25T01:58:29.090482Z",
     "shell.execute_reply.started": "2025-06-25T01:58:29.005820Z"
    },
    "trusted": true
   },
   "outputs": [
    {
     "name": "stdout",
     "output_type": "stream",
     "text": [
      "   user_id  movie_id  rating  timestamp                date\n",
      "0        1      2687       3  978824268 2001-01-06 23:37:48\n",
      "1        1       745       3  978824268 2001-01-06 23:37:48\n",
      "2        1       588       4  978824268 2001-01-06 23:37:48\n",
      "3        1         1       5  978824268 2001-01-06 23:37:48\n",
      "4        1      2355       5  978824291 2001-01-06 23:38:11\n"
     ]
    }
   ],
   "source": [
    "test = pd.read_csv(\n",
    "    rootpath+'test.csv'\n",
    ")\n",
    "test['date'] = pd.to_datetime(test['timestamp'], unit='s')\n",
    "print(test.head())"
   ]
  },
  {
   "cell_type": "code",
   "execution_count": 17,
   "metadata": {
    "execution": {
     "iopub.execute_input": "2025-06-25T01:58:29.092420Z",
     "iopub.status.busy": "2025-06-25T01:58:29.092154Z",
     "iopub.status.idle": "2025-06-25T01:58:29.100705Z",
     "shell.execute_reply": "2025-06-25T01:58:29.099958Z",
     "shell.execute_reply.started": "2025-06-25T01:58:29.092403Z"
    },
    "trusted": true
   },
   "outputs": [
    {
     "data": {
      "text/html": [
       "<div>\n",
       "<style scoped>\n",
       "    .dataframe tbody tr th:only-of-type {\n",
       "        vertical-align: middle;\n",
       "    }\n",
       "\n",
       "    .dataframe tbody tr th {\n",
       "        vertical-align: top;\n",
       "    }\n",
       "\n",
       "    .dataframe thead th {\n",
       "        text-align: right;\n",
       "    }\n",
       "</style>\n",
       "<table border=\"1\" class=\"dataframe\">\n",
       "  <thead>\n",
       "    <tr style=\"text-align: right;\">\n",
       "      <th></th>\n",
       "      <th>user_id</th>\n",
       "      <th>movie_id</th>\n",
       "      <th>date</th>\n",
       "    </tr>\n",
       "  </thead>\n",
       "  <tbody>\n",
       "    <tr>\n",
       "      <th>0</th>\n",
       "      <td>1</td>\n",
       "      <td>2687</td>\n",
       "      <td>2001-01-06 23:37:48</td>\n",
       "    </tr>\n",
       "    <tr>\n",
       "      <th>1</th>\n",
       "      <td>1</td>\n",
       "      <td>745</td>\n",
       "      <td>2001-01-06 23:37:48</td>\n",
       "    </tr>\n",
       "    <tr>\n",
       "      <th>2</th>\n",
       "      <td>1</td>\n",
       "      <td>588</td>\n",
       "      <td>2001-01-06 23:37:48</td>\n",
       "    </tr>\n",
       "    <tr>\n",
       "      <th>3</th>\n",
       "      <td>1</td>\n",
       "      <td>1</td>\n",
       "      <td>2001-01-06 23:37:48</td>\n",
       "    </tr>\n",
       "    <tr>\n",
       "      <th>4</th>\n",
       "      <td>1</td>\n",
       "      <td>2355</td>\n",
       "      <td>2001-01-06 23:38:11</td>\n",
       "    </tr>\n",
       "  </tbody>\n",
       "</table>\n",
       "</div>"
      ],
      "text/plain": [
       "   user_id  movie_id                date\n",
       "0        1      2687 2001-01-06 23:37:48\n",
       "1        1       745 2001-01-06 23:37:48\n",
       "2        1       588 2001-01-06 23:37:48\n",
       "3        1         1 2001-01-06 23:37:48\n",
       "4        1      2355 2001-01-06 23:38:11"
      ]
     },
     "execution_count": 17,
     "metadata": {},
     "output_type": "execute_result"
    }
   ],
   "source": [
    "test = test[['user_id','movie_id', 'date']]\n",
    "test.head()"
   ]
  },
  {
   "cell_type": "code",
   "execution_count": 18,
   "metadata": {
    "execution": {
     "iopub.execute_input": "2025-06-25T01:58:29.102208Z",
     "iopub.status.busy": "2025-06-25T01:58:29.101486Z",
     "iopub.status.idle": "2025-06-25T01:58:29.120106Z",
     "shell.execute_reply": "2025-06-25T01:58:29.119456Z",
     "shell.execute_reply.started": "2025-06-25T01:58:29.102183Z"
    },
    "trusted": true
   },
   "outputs": [],
   "source": [
    "test.columns = ['user_id', 'item_id', 'date']"
   ]
  },
  {
   "cell_type": "markdown",
   "metadata": {},
   "source": [
    "# MVP model v2"
   ]
  },
  {
   "cell_type": "code",
   "execution_count": 19,
   "metadata": {
    "execution": {
     "iopub.execute_input": "2025-06-25T01:58:29.121012Z",
     "iopub.status.busy": "2025-06-25T01:58:29.120802Z",
     "iopub.status.idle": "2025-06-25T01:58:29.262642Z",
     "shell.execute_reply": "2025-06-25T01:58:29.261871Z",
     "shell.execute_reply.started": "2025-06-25T01:58:29.120987Z"
    },
    "trusted": true
   },
   "outputs": [],
   "source": [
    "train.loc[:, \"event\"] = 0\n",
    "train.loc[(train[\"target\"] == \"explicit_positive\") | (train[\"target\"] == \"implicit_positive\"), \"event\"] = 1"
   ]
  },
  {
   "cell_type": "code",
   "execution_count": 20,
   "metadata": {
    "execution": {
     "iopub.execute_input": "2025-06-25T01:58:29.264058Z",
     "iopub.status.busy": "2025-06-25T01:58:29.263485Z",
     "iopub.status.idle": "2025-06-25T01:58:29.284620Z",
     "shell.execute_reply": "2025-06-25T01:58:29.284028Z",
     "shell.execute_reply.started": "2025-06-25T01:58:29.264013Z"
    },
    "trusted": true
   },
   "outputs": [
    {
     "data": {
      "text/plain": [
       "(60394, 3)"
      ]
     },
     "execution_count": 20,
     "metadata": {},
     "output_type": "execute_result"
    }
   ],
   "source": [
    "test = test[(test.user_id.isin(train.user_id)) & (test.item_id.isin(train.item_id))].copy()\n",
    "test.shape"
   ]
  },
  {
   "cell_type": "code",
   "execution_count": 21,
   "metadata": {
    "execution": {
     "iopub.execute_input": "2025-06-25T01:58:29.285479Z",
     "iopub.status.busy": "2025-06-25T01:58:29.285273Z",
     "iopub.status.idle": "2025-06-25T01:58:29.443627Z",
     "shell.execute_reply": "2025-06-25T01:58:29.442965Z",
     "shell.execute_reply.started": "2025-06-25T01:58:29.285462Z"
    },
    "trusted": true
   },
   "outputs": [],
   "source": [
    "# 2. Преобразование данных - для куарека не особо нужно, но для других - напоминалка\n",
    "# делаем всегда! чтобы не сломать ничего дальше и чтобы все индексы были от 0 до N без пропусков\n",
    "user_encoder = LabelEncoder()\n",
    "video_encoder = LabelEncoder()\n",
    "\n",
    "train.loc[:, 'user_id'] = user_encoder.fit_transform(train['user_id'])\n",
    "train.loc[:, 'item_id'] = video_encoder.fit_transform(train['item_id'])\n",
    "\n",
    "test.loc[:, 'user_id'] = user_encoder.transform(test['user_id'])\n",
    "test.loc[:, 'item_id'] = video_encoder.transform(test['item_id'])\n",
    "train['user_id'] = train['user_id'].astype(int)\n",
    "train['item_id'] = train['item_id'].astype(int)\n",
    "test['user_id'] = test['user_id'].astype(int)\n",
    "test['item_id'] = test['item_id'].astype(int)"
   ]
  },
  {
   "cell_type": "code",
   "execution_count": 22,
   "metadata": {
    "execution": {
     "iopub.execute_input": "2025-06-25T01:58:29.444658Z",
     "iopub.status.busy": "2025-06-25T01:58:29.444376Z",
     "iopub.status.idle": "2025-06-25T01:58:29.452525Z",
     "shell.execute_reply": "2025-06-25T01:58:29.451883Z",
     "shell.execute_reply.started": "2025-06-25T01:58:29.444634Z"
    },
    "trusted": true
   },
   "outputs": [],
   "source": [
    "# так как используем pad, то нумерацию item_id начинаем с 1 до max + 1, чтобы для pad забить 0\n",
    "train.loc[:, 'item_id'] += 1\n",
    "test.loc[:, 'item_id'] += 1"
   ]
  },
  {
   "cell_type": "code",
   "execution_count": 23,
   "metadata": {
    "execution": {
     "iopub.execute_input": "2025-06-25T01:58:29.453743Z",
     "iopub.status.busy": "2025-06-25T01:58:29.453345Z",
     "iopub.status.idle": "2025-06-25T01:58:29.477253Z",
     "shell.execute_reply": "2025-06-25T01:58:29.476678Z",
     "shell.execute_reply.started": "2025-06-25T01:58:29.453724Z"
    },
    "trusted": true
   },
   "outputs": [
    {
     "name": "stdout",
     "output_type": "stream",
     "text": [
      "Количество уникальных item_id 3700\n",
      "Количество уникальных user_id 6040\n"
     ]
    }
   ],
   "source": [
    "# т.е. сразу знаем количество и в каких пределах изменяется user_id и item_id\n",
    "num_videos = train['item_id'].nunique()\n",
    "num_users = train['user_id'].nunique()\n",
    "\n",
    "print('Количество уникальных item_id', num_videos)\n",
    "print('Количество уникальных user_id', num_users)"
   ]
  },
  {
   "cell_type": "code",
   "execution_count": 24,
   "metadata": {
    "execution": {
     "iopub.execute_input": "2025-06-25T01:58:29.478075Z",
     "iopub.status.busy": "2025-06-25T01:58:29.477862Z",
     "iopub.status.idle": "2025-06-25T01:58:29.486349Z",
     "shell.execute_reply": "2025-06-25T01:58:29.485645Z",
     "shell.execute_reply.started": "2025-06-25T01:58:29.478052Z"
    },
    "trusted": true
   },
   "outputs": [],
   "source": [
    "def prepare_hetero_data(df: pd.DataFrame) -> HeteroData:\n",
    "    \"\"\"\n",
    "    Construct a heterogeneous graph for recommendation from interaction records.\n",
    "\n",
    "    Node types:\n",
    "      - 'user': one node per unique user_id\n",
    "      - 'item': one node per unique item_id\n",
    "      - one node per user per feedback type ('implicit_positive',\n",
    "        'explicit_positive', 'implicit_negative', 'explicit_negative')\n",
    "\n",
    "    Edges:\n",
    "      1) item -> feedback_node: connect each item to the corresponding feedback node.\n",
    "      2) feedback_node -> item: reverse connection, to allow message passing back to items.\n",
    "      3) feedback_node -> user: link each feedback node to the user who generated that feedback.\n",
    "      4) user -> user: a complete graph among all users under the relation 'interacts'.\n",
    "\n",
    "    For edges (1)-(3), each edge stores:\n",
    "      - edge_attr: a vector of length (1 + num_feedback_types),\n",
    "                   where index 0 is Δt = (reference_time - event_timestamp),\n",
    "                   and indices 1.. end are a one-hot encoding of the feedback type.\n",
    "      - edge_time: a separate tensor containing only Δt for convenience.\n",
    "\n",
    "    Parameters:\n",
    "    -----------\n",
    "    df : pandas.DataFrame\n",
    "        Must contain columns:\n",
    "          - 'user_id': integer user identifier (0-indexed or otherwise)\n",
    "          - 'item_id': integer item identifier\n",
    "          - 'target': feedback type (one of 'implicit_positive',\n",
    "                      'explicit_positive', 'implicit_negative',\n",
    "                      'explicit_negative')\n",
    "          - 'date': timestamp string for the interaction\n",
    "    reference_time : float\n",
    "        A Unix timestamp (in seconds). For each interaction, Δt is computed as\n",
    "        (reference_time - interaction_timestamp).\n",
    "\n",
    "    Returns:\n",
    "    --------\n",
    "    data : torch_geometric.data.HeteroData\n",
    "        A heterogeneous graph with node types 'user', 'item', and each feedback type.\n",
    "        Edge indices, edge_attr, and edge_time are set for relations:\n",
    "          - ('item', 'item2<ft>', ft)\n",
    "          - (ft, '<ft>2item', 'item')\n",
    "          - (ft, '<ft>2user', 'user')\n",
    "        Additionally, ('user', 'interacts', 'user') is a complete graph among users.\n",
    "    \"\"\"\n",
    "    # Determine the number of users and items\n",
    "    num_users = df['user_id'].nunique()\n",
    "    num_items = int(df['item_id'].max()) + 1\n",
    "    feedback_types = df['target'].unique().tolist()\n",
    "    type2idx = {tp: i for i, tp in enumerate(feedback_types)}\n",
    "\n",
    "    # Initialize HeteroData\n",
    "    data = HeteroData()\n",
    "    data['user'].node_id = torch.arange(num_users)\n",
    "    data['item'].node_id = torch.arange(num_items)\n",
    "    for ft in feedback_types:\n",
    "        data[ft].node_id = torch.arange(num_users)\n",
    "\n",
    "    # Build edges: item -> feedback -> user\n",
    "    for ft in feedback_types:\n",
    "        mask = df['target'] == ft\n",
    "        # user -> ft\n",
    "        src_fu = torch.LongTensor(df.loc[mask, 'user_id'].values)    # [E_ft]\n",
    "        dst_fu = torch.LongTensor(df.loc[mask, 'user_id'].values)    # тот же user_id, т.к. ft_node ID = user_id\n",
    "        # ft -> item\n",
    "        src_fi = torch.LongTensor(df.loc[mask, 'user_id'].values)\n",
    "        dst_fi = torch.LongTensor(df.loc[mask, 'item_id'].values)\n",
    "        # item -> ft\n",
    "        src_if = torch.LongTensor(df.loc[mask, 'item_id'].values)  \n",
    "        dst_if = torch.LongTensor(df.loc[mask, 'user_id'].values)\n",
    "\n",
    "        # edge_attr\n",
    "        # delta_t = reference_time - timestamp\n",
    "        # delta = reference_time - torch.tensor(df.loc[mask, 'timestamp'].values, dtype=torch.float)  # [E_ft]\n",
    "        # delta = delta.unsqueeze(1)    # [E_ft, 1]\n",
    "        # one-hot of ft\n",
    "        # idx = type2idx[ft]\n",
    "        # one_hot = F.one_hot(torch.full((src_fu.size(0),), idx, dtype=torch.long),\n",
    "        #                     num_classes=len(feedback_types)).float()  # [E_ft, 4]\n",
    "        # combine: [delta | one_hot] → [E_ft, 5]\n",
    "        # edge_attr = torch.cat([delta, one_hot], dim=1)  # [E_ft, 1+4]\n",
    "\n",
    "        data['item', f'item2{ft}', ft].edge_index = torch.stack([src_if, dst_if], dim=0)\n",
    "        # data['item', f'item2{ft}', ft].edge_attr = edge_attr\n",
    "        # data['item', f'item2{ft}', ft].edge_time = delta\n",
    "\n",
    "        data[ft, f'{ft}2item', 'item'].edge_index = torch.stack([src_fi, dst_fi], dim=0)\n",
    "        # data[ft, f'{ft}2item', 'item'].edge_attr = edge_attr\n",
    "        # data[ft, f'{ft}2item', 'item'].edge_time = delta\n",
    "\n",
    "        data[ft, f'{ft}2user', 'user'].edge_index = torch.stack([src_fu, dst_fu], dim=0)\n",
    "        # data[ft, f'{ft}2user', 'user'].edge_attr = edge_attr\n",
    "        # data[ft, f'{ft}2user', 'user'].edge_time = delta\n",
    "\n",
    "    return data"
   ]
  },
  {
   "cell_type": "code",
   "execution_count": 25,
   "metadata": {
    "execution": {
     "iopub.execute_input": "2025-06-25T01:58:29.487824Z",
     "iopub.status.busy": "2025-06-25T01:58:29.487077Z",
     "iopub.status.idle": "2025-06-25T01:58:29.910679Z",
     "shell.execute_reply": "2025-06-25T01:58:29.909983Z",
     "shell.execute_reply.started": "2025-06-25T01:58:29.487799Z"
    },
    "trusted": true
   },
   "outputs": [
    {
     "data": {
      "text/plain": [
       "HeteroData(\n",
       "  user={ node_id=[6040] },\n",
       "  item={ node_id=[3701] },\n",
       "  implicit_positive={ node_id=[6040] },\n",
       "  explicit_positive={ node_id=[6040] },\n",
       "  implicit_negative={ node_id=[6040] },\n",
       "  expliсit_negative={ node_id=[6040] },\n",
       "  (item, item2implicit_positive, implicit_positive)={ edge_index=[2, 327987] },\n",
       "  (implicit_positive, implicit_positive2item, item)={ edge_index=[2, 327987] },\n",
       "  (implicit_positive, implicit_positive2user, user)={ edge_index=[2, 327987] },\n",
       "  (item, item2explicit_positive, explicit_positive)={ edge_index=[2, 211802] },\n",
       "  (explicit_positive, explicit_positive2item, item)={ edge_index=[2, 211802] },\n",
       "  (explicit_positive, explicit_positive2user, user)={ edge_index=[2, 211802] },\n",
       "  (item, item2implicit_negative, implicit_negative)={ edge_index=[2, 246536] },\n",
       "  (implicit_negative, implicit_negative2item, item)={ edge_index=[2, 246536] },\n",
       "  (implicit_negative, implicit_negative2user, user)={ edge_index=[2, 246536] },\n",
       "  (item, item2expliсit_negative, expliсit_negative)={ edge_index=[2, 153484] },\n",
       "  (expliсit_negative, expliсit_negative2item, item)={ edge_index=[2, 153484] },\n",
       "  (expliсit_negative, expliсit_negative2user, user)={ edge_index=[2, 153484] }\n",
       ")"
      ]
     },
     "execution_count": 25,
     "metadata": {},
     "output_type": "execute_result"
    }
   ],
   "source": [
    "data = prepare_hetero_data(train)\n",
    "data"
   ]
  },
  {
   "cell_type": "code",
   "execution_count": 26,
   "metadata": {
    "execution": {
     "iopub.execute_input": "2025-06-25T01:58:29.911715Z",
     "iopub.status.busy": "2025-06-25T01:58:29.911446Z",
     "iopub.status.idle": "2025-06-25T01:58:29.923235Z",
     "shell.execute_reply": "2025-06-25T01:58:29.922365Z",
     "shell.execute_reply.started": "2025-06-25T01:58:29.911692Z"
    },
    "trusted": true
   },
   "outputs": [
    {
     "data": {
      "text/plain": [
       "tensor([   0,    1,    2,  ..., 3698, 3699, 3700])"
      ]
     },
     "execution_count": 26,
     "metadata": {},
     "output_type": "execute_result"
    }
   ],
   "source": [
    "data['item'].node_id"
   ]
  },
  {
   "cell_type": "code",
   "execution_count": 27,
   "metadata": {
    "execution": {
     "iopub.execute_input": "2025-06-25T01:58:29.926759Z",
     "iopub.status.busy": "2025-06-25T01:58:29.926551Z",
     "iopub.status.idle": "2025-06-25T01:58:29.935249Z",
     "shell.execute_reply": "2025-06-25T01:58:29.934544Z",
     "shell.execute_reply.started": "2025-06-25T01:58:29.926743Z"
    },
    "trusted": true
   },
   "outputs": [],
   "source": [
    "def prepare_thp_data(df: pd.DataFrame, max_len: int, pad: int, cls_id: int):\n",
    "    \"\"\"\n",
    "    Build sequences of item ids, event types and timestamps per user for THP training.\n",
    "\n",
    "    Parameters:\n",
    "    -----------\n",
    "    df : DataFrame with columns ['user_id','item_id','event','date']\n",
    "    max_len : int, maximum sequence length (pad or truncate to this length)\n",
    "    pad : int, padding token value (left-padding)\n",
    "\n",
    "    Returns:\n",
    "    --------\n",
    "    seq_ids   : LongTensor [num_users, max_len]\n",
    "    event_type: LongTensor [num_users, max_len]\n",
    "    seq_times : FloatTensor [num_users, max_len]\n",
    "    seq_mask  : BoolTensor [num_users, max_len]\n",
    "    \"\"\"\n",
    "    users = df['user_id'].unique()\n",
    "    num_users = len(users)\n",
    "\n",
    "    # +1 for the [CLS] token\n",
    "    new_max_len = max_len + 1\n",
    "    \n",
    "    seq_ids    = torch.full((num_users, new_max_len), pad, dtype=torch.long)\n",
    "    event_type = torch.full((num_users, new_max_len), pad, dtype=torch.long)\n",
    "    seq_times  = torch.zeros((num_users, new_max_len), dtype=torch.float)\n",
    "    seq_mask   = torch.zeros((num_users, new_max_len), dtype=torch.bool)\n",
    "\n",
    "    # map event labels to ints\n",
    "    label2idx = {label: idx for idx, label in enumerate(df['event'].unique())}\n",
    "\n",
    "    # устанавливаем CLS-токен в позицию 0\n",
    "    seq_ids[:, 0]  = cls_id\n",
    "    event_type[:,0] = cls_id   \n",
    "    seq_mask[:, 0] = True\n",
    "\n",
    "    for i, u in enumerate(users):\n",
    "        user_df = df[df['user_id'] == u].sort_values('date')\n",
    "        items = user_df['item_id'].values\n",
    "        types = user_df['event'].map(label2idx).values\n",
    "        times = pd.to_datetime(user_df['date']).values.astype('datetime64[ns]').astype(np.int64) / 1e9\n",
    "        \n",
    "        seq = len(items)\n",
    "        if seq == 0:\n",
    "            continue\n",
    "\n",
    "        # вставляем реальные события **cдвинутые на 1** вправо из-за CLS,\n",
    "        # чтобы первые new_max_len-lengt...new_max_len-1 оказались данными\n",
    "        length = min(seq, max_len)\n",
    "        start = max(0, new_max_len - length)\n",
    "        seq_ids[i, start:]    = torch.tensor(items[-length:],    dtype=torch.long)\n",
    "        event_type[i, start:] = torch.tensor(types[-length:],    dtype=torch.long)\n",
    "        seq_times[i, start:]  = torch.tensor(times[-length:],    dtype=torch.float)\n",
    "        seq_mask[i, start:]   = True\n",
    "\n",
    "    return seq_ids, event_type, seq_times, seq_mask\n"
   ]
  },
  {
   "cell_type": "code",
   "execution_count": 28,
   "metadata": {
    "execution": {
     "iopub.execute_input": "2025-06-25T01:58:29.936195Z",
     "iopub.status.busy": "2025-06-25T01:58:29.935926Z",
     "iopub.status.idle": "2025-06-25T01:58:44.187561Z",
     "shell.execute_reply": "2025-06-25T01:58:44.186867Z",
     "shell.execute_reply.started": "2025-06-25T01:58:29.936172Z"
    },
    "trusted": true
   },
   "outputs": [
    {
     "data": {
      "text/plain": [
       "(tensor([3701,    0,    0,    0,    0,    0,    0,    0,    0,    0,    0,    0,\n",
       "            0,    0,    0,    0,    0,    0,    0,    0,    0,    0,    0,    0,\n",
       "            0,    0,    0,    0,    0,    0,    0,    0,    0,    0,    0,    0,\n",
       "            0,    0,    0,    0,    0,    0,    0,    0,    0,    0,    0,    0,\n",
       "            0,    0,    0,    0,    0,    0,    0,    0,    0,    0, 2966, 1177,\n",
       "         1573,  956, 2145, 1657, 3173, 2596, 1116,  254,  690, 1103,  858,  594,\n",
       "         2485, 1780, 1847, 2886,  877,  969, 1781,  962, 1837,  145, 1024,  853,\n",
       "         1194, 2589, 2554, 1153,  640, 2707,  518, 2895, 2583, 2126,  963, 1106,\n",
       "          581, 2203, 1420,  514,  582]),\n",
       " tensor([3701,    0,    0,    0,    0,    0,    0,    0,    0,    0,    0,    0,\n",
       "            0,    0,    0,    0,    0,    0,    0,    0,    0,    0,    0,    0,\n",
       "            0,    0,    0,    0,    0,    0,    0,    0,    0,    0,    0,    0,\n",
       "            0,    0,    0,    0,    0,    0,    0,    0,    0,    0,    0,    0,\n",
       "            0,    0,    0,    0,    0,    0,    0,    0,    0,    0,    0,    0,\n",
       "            0,    0,    1,    0,    0,    0,    0,    0,    1,    0,    0,    0,\n",
       "            0,    0,    0,    0,    0,    0,    0,    0,    0,    0,    0,    1,\n",
       "            0,    0,    0,    0,    1,    0,    0,    0,    0,    1,    0,    1,\n",
       "            0,    0,    0,    0,    0]),\n",
       " tensor([0.0000e+00, 0.0000e+00, 0.0000e+00, 0.0000e+00, 0.0000e+00, 0.0000e+00,\n",
       "         0.0000e+00, 0.0000e+00, 0.0000e+00, 0.0000e+00, 0.0000e+00, 0.0000e+00,\n",
       "         0.0000e+00, 0.0000e+00, 0.0000e+00, 0.0000e+00, 0.0000e+00, 0.0000e+00,\n",
       "         0.0000e+00, 0.0000e+00, 0.0000e+00, 0.0000e+00, 0.0000e+00, 0.0000e+00,\n",
       "         0.0000e+00, 0.0000e+00, 0.0000e+00, 0.0000e+00, 0.0000e+00, 0.0000e+00,\n",
       "         0.0000e+00, 0.0000e+00, 0.0000e+00, 0.0000e+00, 0.0000e+00, 0.0000e+00,\n",
       "         0.0000e+00, 0.0000e+00, 0.0000e+00, 0.0000e+00, 0.0000e+00, 0.0000e+00,\n",
       "         0.0000e+00, 0.0000e+00, 0.0000e+00, 0.0000e+00, 0.0000e+00, 0.0000e+00,\n",
       "         0.0000e+00, 0.0000e+00, 0.0000e+00, 0.0000e+00, 0.0000e+00, 0.0000e+00,\n",
       "         0.0000e+00, 0.0000e+00, 0.0000e+00, 0.0000e+00, 9.7830e+08, 9.7830e+08,\n",
       "         9.7830e+08, 9.7830e+08, 9.7830e+08, 9.7830e+08, 9.7830e+08, 9.7830e+08,\n",
       "         9.7830e+08, 9.7830e+08, 9.7830e+08, 9.7830e+08, 9.7830e+08, 9.7830e+08,\n",
       "         9.7830e+08, 9.7830e+08, 9.7830e+08, 9.7830e+08, 9.7830e+08, 9.7830e+08,\n",
       "         9.7830e+08, 9.7830e+08, 9.7830e+08, 9.7830e+08, 9.7830e+08, 9.7830e+08,\n",
       "         9.7830e+08, 9.7830e+08, 9.7830e+08, 9.7830e+08, 9.7830e+08, 9.7830e+08,\n",
       "         9.7830e+08, 9.7830e+08, 9.7830e+08, 9.7830e+08, 9.7830e+08, 9.7830e+08,\n",
       "         9.7830e+08, 9.7830e+08, 9.7882e+08, 9.7882e+08, 9.7882e+08]),\n",
       " tensor([ True, False, False, False, False, False, False, False, False, False,\n",
       "         False, False, False, False, False, False, False, False, False, False,\n",
       "         False, False, False, False, False, False, False, False, False, False,\n",
       "         False, False, False, False, False, False, False, False, False, False,\n",
       "         False, False, False, False, False, False, False, False, False, False,\n",
       "         False, False, False, False, False, False, False, False,  True,  True,\n",
       "          True,  True,  True,  True,  True,  True,  True,  True,  True,  True,\n",
       "          True,  True,  True,  True,  True,  True,  True,  True,  True,  True,\n",
       "          True,  True,  True,  True,  True,  True,  True,  True,  True,  True,\n",
       "          True,  True,  True,  True,  True,  True,  True,  True,  True,  True,\n",
       "          True]))"
      ]
     },
     "execution_count": 28,
     "metadata": {},
     "output_type": "execute_result"
    }
   ],
   "source": [
    "PAD_ID = hyperparameters['pad_id'] \n",
    "CLS_ID = data['item'].node_id.shape[0]  \n",
    "hyperparameters['cls_id'] = CLS_ID\n",
    "max_len = hyperparameters['max_len_of_thp_history']\n",
    "\n",
    "seq_ids, event_type, seq_times, seq_mask = prepare_thp_data(train, \n",
    "                                                            max_len=max_len, \n",
    "                                                            pad=PAD_ID,\n",
    "                                                            cls_id=CLS_ID)\n",
    "seq_ids[0], event_type[0], seq_times[0], seq_mask[0]"
   ]
  },
  {
   "cell_type": "code",
   "execution_count": 29,
   "metadata": {
    "execution": {
     "iopub.execute_input": "2025-06-25T01:58:44.188655Z",
     "iopub.status.busy": "2025-06-25T01:58:44.188378Z",
     "iopub.status.idle": "2025-06-25T01:58:44.203927Z",
     "shell.execute_reply": "2025-06-25T01:58:44.203258Z",
     "shell.execute_reply.started": "2025-06-25T01:58:44.188631Z"
    },
    "trusted": true
   },
   "outputs": [],
   "source": [
    "class THPEncoder(nn.Module):\n",
    "    \"\"\"\n",
    "    Multi-head Transformer Hawkes-inspired encoder with local window.\n",
    "    Integrates exponential decay kernel within last `window_size` events.\n",
    "    \"\"\"\n",
    "    def __init__(self, d_model: int, n_head: int, window_size: int = 50, \n",
    "                 decay: float = 1.0, dropout: float = 0.1, max_len: int = 101):\n",
    "        super().__init__()\n",
    "\n",
    "        self.max_len = max_len\n",
    "        # Learnable positional embeddings\n",
    "        self.pos_emb = nn.Embedding(max_len, d_model)\n",
    "        # Temporal (time) embedding: simple linear projection from scalar to d_model\n",
    "        self.time_emb = nn.Linear(1, d_model)\n",
    "        \n",
    "        self.heads = nn.ModuleList([\n",
    "            _THPHead(d_model, decay, window_size, dropout) for _ in range(n_head)\n",
    "        ])\n",
    "\n",
    "        self.ffn = nn.Sequential(\n",
    "                nn.LayerNorm(d_model),\n",
    "                nn.Linear(d_model, d_model * 4),\n",
    "                nn.ReLU(),\n",
    "                nn.Linear(d_model * 4, d_model),\n",
    "                nn.Dropout(dropout)\n",
    "            )\n",
    "        self.final_norm = nn.LayerNorm(d_model)\n",
    "\n",
    "    def forward(self, emb: torch.Tensor, times: torch.Tensor, mask: torch.BoolTensor = None):\n",
    "        # emb: [B, L, D], times: [B, L], mask: [B, L]\n",
    "        B, L, D = emb.shape\n",
    "        \n",
    "        positions = torch.arange(L, device=emb.device).unsqueeze(0).expand(B, -1)  # [B, L]\n",
    "        pe = self.pos_emb(positions)  # [B, L, D]\n",
    "        te = self.time_emb(times.unsqueeze(-1))  # [B, L, D]\n",
    "        x = emb + pe + te\n",
    "        \n",
    "        attn_out = torch.stack([head(x, times, mask) for head in self.heads], dim=0).sum(0)\n",
    "        \n",
    "        # Residual connection + normalization\n",
    "        x = x + attn_out\n",
    "        x = x + self.ffn(x)\n",
    "        \n",
    "        return self.final_norm(x)  # [B, L, D]\n",
    "\n",
    "class _THPHead(nn.Module):\n",
    "    def __init__(self, d_model: int, decay: float, window_size: int, dropout: float,\n",
    "                pos_lambda: float = None):\n",
    "        super().__init__()\n",
    "        self.linear_v = nn.Linear(d_model, d_model, bias=False)\n",
    "        nn.init.xavier_uniform_(self.linear_v.weight)\n",
    "        self.temperature = d_model ** 0.5\n",
    "        self.decay = decay\n",
    "        self.window_size = window_size\n",
    "        self.dropout = nn.Dropout(dropout)\n",
    "        self.input_norm = nn.LayerNorm(d_model)\n",
    "        self.pos_lambda = pos_lambda or (1.0 / window_size)\n",
    "\n",
    "    def forward(self, emb: torch.Tensor, times: torch.Tensor, mask: torch.BoolTensor = None):\n",
    "        B, L, D = emb.size()\n",
    "        emb_norm = self.input_norm(emb)\n",
    "        q = emb_norm / self.temperature           # [B, L, D]\n",
    "        k = emb_norm                              # [B, L, D]\n",
    "        v = F.elu(self.linear_v(emb_norm))        # [B, L, D]\n",
    "\n",
    "        if not torch.isfinite(q).all():\n",
    "            print(\"NaN/Inf в q:\", torch.isnan(q).sum().item(), torch.isinf(q).sum().item())\n",
    "        if not torch.isfinite(k).all():\n",
    "            print(\"NaN/Inf в k:\", torch.isnan(k).sum().item(), torch.isinf(k).sum().item())\n",
    "        if not torch.isfinite(v).all():\n",
    "            print(\"NaN/Inf в v:\", torch.isnan(v).sum().item(), torch.isinf(v).sum().item())\n",
    "\n",
    "        # 3) Build pad mask only\n",
    "        if mask is not None:\n",
    "            pad_mask = ~mask.unsqueeze(1).expand(-1, L, -1)  # [B, L, L]\n",
    "        else:\n",
    "            pad_mask = torch.zeros((B, L, L), dtype=torch.bool, device=emb.device)\n",
    "\n",
    "        # Always allow self-attention for pad_mask diagonal\n",
    "        idx = torch.arange(L, device=emb.device)\n",
    "        pad_mask[:, idx, idx] = False\n",
    "\n",
    "        scores = torch.bmm(q, k.transpose(1, 2))  # [B, L, L]\n",
    "\n",
    "        # Apply temporal decay kernel\n",
    "        delta = (times.unsqueeze(-1) - times.unsqueeze(-2)).clamp(min=0)\n",
    "        scores = scores * torch.exp(-self.decay * delta)\n",
    "\n",
    "        # Apply smooth positional decay\n",
    "        dist = (idx.unsqueeze(0) - idx.unsqueeze(1)).abs().float()  # [L, L]\n",
    "        pos_decay = torch.exp(-self.pos_lambda * dist).unsqueeze(0)    # [1, L, L]\n",
    "        scores = scores * pos_decay\n",
    "\n",
    "        scores = torch.clamp(scores, min=-1e3, max=1e3)\n",
    "        scores = scores.masked_fill(pad_mask, float('-inf'))\n",
    "\n",
    "        # Debug range\n",
    "        finite = scores[~pad_mask]\n",
    "        # if finite.numel() > 0:\n",
    "        #     print(f\"Диапазон scores до softmax: min={finite.min().item():.3e}, max={finite.max().item():.3e}\")\n",
    "\n",
    "        attn = F.softmax(scores, dim=-1)\n",
    "        \n",
    "        if not torch.isfinite(attn).all():\n",
    "            print(\"NaN/Inf в attn после softmax:\", torch.isnan(attn).sum().item(), torch.isinf(attn).sum().item())\n",
    "        \n",
    "        attn = torch.nan_to_num(attn, nan=0.0, posinf=0.0, neginf=0.0)\n",
    "        attn = self.dropout(attn)\n",
    "\n",
    "        out = torch.bmm(attn, v)\n",
    "\n",
    "        return out"
   ]
  },
  {
   "cell_type": "code",
   "execution_count": 30,
   "metadata": {
    "execution": {
     "iopub.execute_input": "2025-06-25T01:58:44.204744Z",
     "iopub.status.busy": "2025-06-25T01:58:44.204578Z",
     "iopub.status.idle": "2025-06-25T01:58:44.220481Z",
     "shell.execute_reply": "2025-06-25T01:58:44.219902Z",
     "shell.execute_reply.started": "2025-06-25T01:58:44.204732Z"
    },
    "trusted": true
   },
   "outputs": [],
   "source": [
    "class SignedHeteroGNN(nn.Module):\n",
    "    def __init__(self,\n",
    "                 num_users: int,\n",
    "                 num_items: int,\n",
    "                 feedback_types: list,\n",
    "                 emb_dim: int = 32,\n",
    "                 hidden_dim: int = 16,\n",
    "                 heads: int = 2,\n",
    "                 dropout: float = 0.2):\n",
    "        super().__init__()\n",
    "        self.feedback_types = feedback_types\n",
    "        self.pos_types = ['implicit_positive', 'explicit_positive']\n",
    "        self.neg_types = ['implicit_negative', 'expliсit_negative']\n",
    "\n",
    "        self.user_emb = nn.Embedding(num_users, emb_dim)\n",
    "        self.item_emb = nn.Embedding(num_items + 1, emb_dim, padding_idx=0)\n",
    "        self.fb_emb   = nn.ModuleDict({\n",
    "            ft: nn.Embedding(num_users, emb_dim) for ft in feedback_types\n",
    "        })\n",
    "\n",
    "        conv1, conv2 = {}, {}\n",
    "        for ft in feedback_types:\n",
    "            # ft -> user\n",
    "            conv1[(ft, f'{ft}2user', 'user')] = GATConv(emb_dim, hidden_dim,\n",
    "                                                      heads=heads,\n",
    "                                                      add_self_loops=False)\n",
    "            conv2[(ft, f'{ft}2user', 'user')] = GATConv(hidden_dim*heads, emb_dim,\n",
    "                                                      heads=1,\n",
    "                                                      add_self_loops=False)\n",
    "            # ft -> item\n",
    "            conv1[(ft, f'{ft}2item', 'item')] = GATConv(emb_dim, hidden_dim,\n",
    "                                                       heads=heads,\n",
    "                                                       add_self_loops=False)\n",
    "            conv2[(ft, f'{ft}2item', 'item')] = GATConv(hidden_dim*heads, emb_dim,\n",
    "                                                       heads=1,\n",
    "                                                       add_self_loops=False)\n",
    "\n",
    "            # item -> ft\n",
    "            conv1[('item', f'item2{ft}', ft)] = GATConv(emb_dim, hidden_dim,\n",
    "                                                       heads=heads,\n",
    "                                                       add_self_loops=False)\n",
    "            conv2[('item', f'item2{ft}', ft)] = GATConv(hidden_dim*heads, emb_dim,\n",
    "                                                       heads=1,\n",
    "                                                       add_self_loops=False)\n",
    "\n",
    "        self.conv1 = HeteroConv(conv1, aggr='mean')\n",
    "        self.conv2 = HeteroConv(conv2, aggr='mean')\n",
    "\n",
    "        # LayerNorm и Dropout\n",
    "        types = ['user', 'item'] + feedback_types\n",
    "        self.norm1 = nn.ModuleDict({t: nn.LayerNorm(hidden_dim*heads) for t in types})\n",
    "        self.norm2 = nn.ModuleDict({t: nn.LayerNorm(emb_dim) for t in types})\n",
    "        self.dropout = nn.Dropout(dropout)\n",
    "\n",
    "    def forward(self, data):\n",
    "        x = {\n",
    "            'user': self.user_emb(data['user'].node_id),\n",
    "            'item': self.item_emb(data['item'].node_id)\n",
    "        }\n",
    "        for ft in self.feedback_types:\n",
    "            x[ft] = self.fb_emb[ft](data[ft].node_id)\n",
    "\n",
    "        h1 = self.conv1(x, data.edge_index_dict)\n",
    "        # print(h1.keys())\n",
    "        # Собираем позитивный и негативный вклад для user\n",
    "        pos_msgs = torch.zeros_like(h1['user'])\n",
    "        neg_msgs = torch.zeros_like(h1['user'])\n",
    "        for ft in self.pos_types:\n",
    "            pos_msgs += h1[ft]  \n",
    "        for ft in self.neg_types:\n",
    "            neg_msgs += h1[ft]\n",
    "\n",
    "        # signed-aggregation: attraction от pos, repulsion от neg\n",
    "        user_h1 = pos_msgs - neg_msgs\n",
    "        user_h1 = F.leaky_relu(self.norm1['user'](user_h1))\n",
    "        user_h1 = self.dropout(user_h1)\n",
    "\n",
    "        h1['user'] = user_h1\n",
    "\n",
    "        h2 = self.conv2(h1, data.edge_index_dict)\n",
    "        # print(h2.keys())\n",
    "        pos_msgs2, neg_msgs2 = 0, 0\n",
    "        for ft in self.pos_types:\n",
    "            pos_msgs2 += h2[ft]\n",
    "        for ft in self.neg_types:\n",
    "            neg_msgs2 += h2[ft]\n",
    "\n",
    "        user_h2 = pos_msgs2 - neg_msgs2\n",
    "        user_h2 = F.leaky_relu(self.norm2['user'](user_h2))\n",
    "\n",
    "        return user_h2"
   ]
  },
  {
   "cell_type": "code",
   "execution_count": 31,
   "metadata": {
    "execution": {
     "iopub.execute_input": "2025-06-25T01:58:44.221273Z",
     "iopub.status.busy": "2025-06-25T01:58:44.221107Z",
     "iopub.status.idle": "2025-06-25T01:58:44.239818Z",
     "shell.execute_reply": "2025-06-25T01:58:44.239192Z",
     "shell.execute_reply.started": "2025-06-25T01:58:44.221260Z"
    },
    "trusted": true
   },
   "outputs": [],
   "source": [
    "class Model(nn.Module):\n",
    "    def __init__(self,\n",
    "                 num_users: int,\n",
    "                 num_items: int,\n",
    "                 feedback_types: list,\n",
    "                 d_model: int = 32,\n",
    "                 n_head: int = 4,\n",
    "                 window_size: int = 50,\n",
    "                 decay: float = 1.0,\n",
    "                 dropout: float = 0.1,\n",
    "                 num_event_types: int = 2):\n",
    "        super().__init__()\n",
    "        # Static graph encoder\n",
    "        self.gnn = SignedHeteroGNN(num_users, num_items, feedback_types,\n",
    "                                   emb_dim=d_model, hidden_dim=d_model//2,\n",
    "                                   heads=2, dropout=dropout)\n",
    "        # Inlined THP sequence encoder\n",
    "        self.thp = THPEncoder(d_model=d_model,\n",
    "                              n_head=n_head,\n",
    "                              window_size=window_size,\n",
    "                              decay=decay,\n",
    "                              dropout=dropout)\n",
    "        # 3) Multi‐task heads:\n",
    "        #   a) ranking: produce updated user embedding\n",
    "        #   b) classification: predict next event type\n",
    "        self.event_classifier = nn.Linear(d_model, num_event_types)\n",
    "\n",
    "    def forward(self, data, seq_ids, seq_times, seq_mask, batch_users):\n",
    "        # Static graph embeddings\n",
    "        user_embs = self.gnn(data)          # [num_users, d_model]\n",
    "        # Sequence encoding\n",
    "        seq_item_emb = self.gnn.item_emb(seq_ids)  # [B, L, d_model]\n",
    "        attn_out = self.thp(seq_item_emb, seq_times, seq_mask)\n",
    "        seq_rep = attn_out[:, -1, :]        # [B, d_model]\n",
    "        # Get static user embeddings\n",
    "        gnn_rep = user_embs[batch_users]   # [B, d_model]\n",
    "        # Updated user embedding\n",
    "        updated_user_emb = seq_rep + gnn_rep\n",
    "        event_logits = self.event_classifier(seq_rep)\n",
    "        return updated_user_emb, event_logits"
   ]
  },
  {
   "cell_type": "code",
   "execution_count": 32,
   "metadata": {
    "execution": {
     "iopub.execute_input": "2025-06-25T01:58:44.240754Z",
     "iopub.status.busy": "2025-06-25T01:58:44.240516Z",
     "iopub.status.idle": "2025-06-25T01:58:44.314896Z",
     "shell.execute_reply": "2025-06-25T01:58:44.314322Z",
     "shell.execute_reply.started": "2025-06-25T01:58:44.240734Z"
    },
    "trusted": true
   },
   "outputs": [],
   "source": [
    "num_users = data['user'].node_id.shape[0]      \n",
    "num_items = data['item'].node_id.shape[0]      \n",
    "feedback_types = train['target'].unique().tolist()\n",
    "data.user_idx = data['user'].node_id\n",
    "d_model = hyperparameters['thp_dmodel']             \n",
    "n_head = hyperparameters['thp_n_head']          \n",
    "window_size = hyperparameters['thp_window_size']     \n",
    "decay = hyperparameters['thp_decay']         \n",
    "dropout = hyperparameters['thp_dropout']       "
   ]
  },
  {
   "cell_type": "code",
   "execution_count": 33,
   "metadata": {
    "execution": {
     "iopub.execute_input": "2025-06-25T01:58:44.315779Z",
     "iopub.status.busy": "2025-06-25T01:58:44.315572Z",
     "iopub.status.idle": "2025-06-25T01:58:46.550962Z",
     "shell.execute_reply": "2025-06-25T01:58:46.550199Z",
     "shell.execute_reply.started": "2025-06-25T01:58:44.315762Z"
    },
    "trusted": true
   },
   "outputs": [
    {
     "data": {
      "text/plain": [
       "torch.Size([6040, 64])"
      ]
     },
     "execution_count": 33,
     "metadata": {},
     "output_type": "execute_result"
    }
   ],
   "source": [
    "heterognn = SignedHeteroGNN(num_users, num_items, feedback_types,\n",
    "                            emb_dim=d_model, hidden_dim=d_model//2,\n",
    "                            heads=2, dropout=dropout)\n",
    "output = heterognn(data)\n",
    "output.shape"
   ]
  },
  {
   "cell_type": "code",
   "execution_count": 34,
   "metadata": {
    "execution": {
     "iopub.execute_input": "2025-06-25T01:58:46.552118Z",
     "iopub.status.busy": "2025-06-25T01:58:46.551807Z",
     "iopub.status.idle": "2025-06-25T01:58:46.593564Z",
     "shell.execute_reply": "2025-06-25T01:58:46.592908Z",
     "shell.execute_reply.started": "2025-06-25T01:58:46.552093Z"
    },
    "trusted": true
   },
   "outputs": [],
   "source": [
    "model = Model(\n",
    "    num_users=num_users,\n",
    "    num_items=num_items,\n",
    "    feedback_types=feedback_types,\n",
    "    d_model=d_model,\n",
    "    n_head=n_head,\n",
    "    window_size=window_size,\n",
    "    decay=decay,\n",
    "    dropout=dropout,\n",
    "    num_event_types=2\n",
    ")\n",
    "\n",
    "device = torch.device('cuda' if torch.cuda.is_available() else 'cpu')"
   ]
  },
  {
   "cell_type": "code",
   "execution_count": 35,
   "metadata": {
    "execution": {
     "iopub.execute_input": "2025-06-25T01:58:46.594648Z",
     "iopub.status.busy": "2025-06-25T01:58:46.594378Z",
     "iopub.status.idle": "2025-06-25T01:58:47.282927Z",
     "shell.execute_reply": "2025-06-25T01:58:47.282294Z",
     "shell.execute_reply.started": "2025-06-25T01:58:46.594625Z"
    },
    "trusted": true
   },
   "outputs": [
    {
     "name": "stdout",
     "output_type": "stream",
     "text": [
      "THPEncoder output shape: torch.Size([32, 101, 64])\n"
     ]
    }
   ],
   "source": [
    "B = 32\n",
    "seq_ids_batch   = seq_ids[:B]     # [B, L]\n",
    "seq_times_batch = seq_times[:B]   # [B, L]\n",
    "seq_mask_batch  = seq_mask[:B]    # [B, L]\n",
    "\n",
    "item_emb = model.gnn.item_emb \n",
    "d_model = item_emb.embedding_dim\n",
    "\n",
    "# Получаем seq_item_emb: [B, L, D]\n",
    "seq_item_emb = item_emb(seq_ids_batch)\n",
    "\n",
    "thp_encoder = THPEncoder(\n",
    "    d_model=d_model,\n",
    "    n_head=4,\n",
    "    window_size=50,\n",
    "    decay=1.0,\n",
    "    dropout=0.1\n",
    ")\n",
    "\n",
    "thp_encoder.to(device)\n",
    "seq_item_emb   = seq_item_emb.to(device)\n",
    "seq_times_batch= seq_times_batch.to(device)\n",
    "seq_mask_batch = seq_mask_batch.to(device)\n",
    "\n",
    "out = thp_encoder(\n",
    "    emb=seq_item_emb,\n",
    "    times=seq_times_batch,\n",
    "    mask=seq_mask_batch\n",
    ")\n",
    "\n",
    "print(\"THPEncoder output shape:\", out.shape)  # ожидаем [B, L, D]"
   ]
  },
  {
   "cell_type": "code",
   "execution_count": 36,
   "metadata": {
    "execution": {
     "iopub.execute_input": "2025-06-25T01:58:47.283899Z",
     "iopub.status.busy": "2025-06-25T01:58:47.283676Z",
     "iopub.status.idle": "2025-06-25T01:58:47.408294Z",
     "shell.execute_reply": "2025-06-25T01:58:47.407626Z",
     "shell.execute_reply.started": "2025-06-25T01:58:47.283873Z"
    },
    "trusted": true
   },
   "outputs": [
    {
     "name": "stdout",
     "output_type": "stream",
     "text": [
      "Updated user embeddings: torch.Size([32, 64]) torch.Size([32, 2])\n"
     ]
    }
   ],
   "source": [
    "B = 32\n",
    "batch_seq_ids   = seq_ids[:B].to(device)    # [B, L]\n",
    "batch_seq_times = seq_times[:B].to(device)  # [B, L]\n",
    "batch_seq_mask  = seq_mask[:B].to(device)   # [B, L]\n",
    "\n",
    "# data.user_idx = data['user'].node_id[:B]\n",
    "batch_users = data.user_idx[:B].to(device)\n",
    "model.to(device)\n",
    "data.to(device)\n",
    "\n",
    "updated_user_emb = model(\n",
    "    data=data,\n",
    "    seq_ids=batch_seq_ids,\n",
    "    seq_times=batch_seq_times,\n",
    "    seq_mask=batch_seq_mask,\n",
    "    batch_users=batch_users\n",
    ")  # [B, d_model]\n",
    "\n",
    "print(\"Updated user embeddings:\", updated_user_emb[0].shape, updated_user_emb[1].shape)"
   ]
  },
  {
   "cell_type": "code",
   "execution_count": 37,
   "metadata": {
    "execution": {
     "iopub.execute_input": "2025-06-25T01:58:47.409181Z",
     "iopub.status.busy": "2025-06-25T01:58:47.408979Z",
     "iopub.status.idle": "2025-06-25T01:58:47.428133Z",
     "shell.execute_reply": "2025-06-25T01:58:47.427530Z",
     "shell.execute_reply.started": "2025-06-25T01:58:47.409158Z"
    },
    "trusted": true
   },
   "outputs": [
    {
     "data": {
      "text/plain": [
       "(3700, 1, 3700)"
      ]
     },
     "execution_count": 37,
     "metadata": {},
     "output_type": "execute_result"
    }
   ],
   "source": [
    "train.item_id.nunique(), train.item_id.min(), train.item_id.max()"
   ]
  },
  {
   "cell_type": "code",
   "execution_count": 38,
   "metadata": {
    "execution": {
     "iopub.execute_input": "2025-06-25T01:58:47.429611Z",
     "iopub.status.busy": "2025-06-25T01:58:47.428905Z",
     "iopub.status.idle": "2025-06-25T01:58:47.434795Z",
     "shell.execute_reply": "2025-06-25T01:58:47.434239Z",
     "shell.execute_reply.started": "2025-06-25T01:58:47.429592Z"
    },
    "trusted": true
   },
   "outputs": [
    {
     "data": {
      "text/plain": [
       "Model(\n",
       "  (gnn): SignedHeteroGNN(\n",
       "    (user_emb): Embedding(6040, 64)\n",
       "    (item_emb): Embedding(3702, 64, padding_idx=0)\n",
       "    (fb_emb): ModuleDict(\n",
       "      (implicit_positive): Embedding(6040, 64)\n",
       "      (explicit_positive): Embedding(6040, 64)\n",
       "      (implicit_negative): Embedding(6040, 64)\n",
       "      (expliсit_negative): Embedding(6040, 64)\n",
       "    )\n",
       "    (conv1): HeteroConv(num_relations=12)\n",
       "    (conv2): HeteroConv(num_relations=12)\n",
       "    (norm1): ModuleDict(\n",
       "      (user): LayerNorm((64,), eps=1e-05, elementwise_affine=True)\n",
       "      (item): LayerNorm((64,), eps=1e-05, elementwise_affine=True)\n",
       "      (implicit_positive): LayerNorm((64,), eps=1e-05, elementwise_affine=True)\n",
       "      (explicit_positive): LayerNorm((64,), eps=1e-05, elementwise_affine=True)\n",
       "      (implicit_negative): LayerNorm((64,), eps=1e-05, elementwise_affine=True)\n",
       "      (expliсit_negative): LayerNorm((64,), eps=1e-05, elementwise_affine=True)\n",
       "    )\n",
       "    (norm2): ModuleDict(\n",
       "      (user): LayerNorm((64,), eps=1e-05, elementwise_affine=True)\n",
       "      (item): LayerNorm((64,), eps=1e-05, elementwise_affine=True)\n",
       "      (implicit_positive): LayerNorm((64,), eps=1e-05, elementwise_affine=True)\n",
       "      (explicit_positive): LayerNorm((64,), eps=1e-05, elementwise_affine=True)\n",
       "      (implicit_negative): LayerNorm((64,), eps=1e-05, elementwise_affine=True)\n",
       "      (expliсit_negative): LayerNorm((64,), eps=1e-05, elementwise_affine=True)\n",
       "    )\n",
       "    (dropout): Dropout(p=0.2, inplace=False)\n",
       "  )\n",
       "  (thp): THPEncoder(\n",
       "    (pos_emb): Embedding(101, 64)\n",
       "    (time_emb): Linear(in_features=1, out_features=64, bias=True)\n",
       "    (heads): ModuleList(\n",
       "      (0-3): 4 x _THPHead(\n",
       "        (linear_v): Linear(in_features=64, out_features=64, bias=False)\n",
       "        (dropout): Dropout(p=0.2, inplace=False)\n",
       "        (input_norm): LayerNorm((64,), eps=1e-05, elementwise_affine=True)\n",
       "      )\n",
       "    )\n",
       "    (ffn): Sequential(\n",
       "      (0): LayerNorm((64,), eps=1e-05, elementwise_affine=True)\n",
       "      (1): Linear(in_features=64, out_features=256, bias=True)\n",
       "      (2): ReLU()\n",
       "      (3): Linear(in_features=256, out_features=64, bias=True)\n",
       "      (4): Dropout(p=0.2, inplace=False)\n",
       "    )\n",
       "    (final_norm): LayerNorm((64,), eps=1e-05, elementwise_affine=True)\n",
       "  )\n",
       "  (event_classifier): Linear(in_features=64, out_features=2, bias=True)\n",
       ")"
      ]
     },
     "execution_count": 38,
     "metadata": {},
     "output_type": "execute_result"
    }
   ],
   "source": [
    "model"
   ]
  },
  {
   "cell_type": "code",
   "execution_count": 39,
   "metadata": {
    "execution": {
     "iopub.execute_input": "2025-06-25T01:58:47.435783Z",
     "iopub.status.busy": "2025-06-25T01:58:47.435513Z",
     "iopub.status.idle": "2025-06-25T01:58:47.757350Z",
     "shell.execute_reply": "2025-06-25T01:58:47.756732Z",
     "shell.execute_reply.started": "2025-06-25T01:58:47.435764Z"
    },
    "trusted": true
   },
   "outputs": [],
   "source": [
    "test_df = test[['user_id', 'item_id']]\n",
    "interactions = test_df.rename(columns={\n",
    "    'user_id': Columns.User,\n",
    "    'item_id': Columns.Item,\n",
    "})\n",
    "\n",
    "viewed_items = train.groupby(\"user_id\")[\"item_id\"].agg(set).to_dict()"
   ]
  },
  {
   "cell_type": "code",
   "execution_count": 40,
   "metadata": {
    "execution": {
     "iopub.execute_input": "2025-06-25T01:58:47.758261Z",
     "iopub.status.busy": "2025-06-25T01:58:47.758028Z",
     "iopub.status.idle": "2025-06-25T01:58:48.402453Z",
     "shell.execute_reply": "2025-06-25T01:58:48.401603Z",
     "shell.execute_reply.started": "2025-06-25T01:58:47.758246Z"
    },
    "trusted": true
   },
   "outputs": [],
   "source": [
    "user2lists = {ft: defaultdict(list) for ft in feedback_types}\n",
    "\n",
    "for ft, sub in train.groupby('target'):\n",
    "    mapping = sub.groupby('user_id')['item_id'].apply(list)\n",
    "    for u, items in mapping.items():\n",
    "        user2lists[ft][u] = items\n",
    "\n",
    "user2explicit_pos = user2lists['explicit_positive']\n",
    "user2implicit_pos = user2lists['implicit_positive']\n",
    "user2explicit_neg = user2lists['expliсit_negative']\n",
    "user2implicit_neg = user2lists['implicit_negative']\n",
    "all_items_set = set(train.item_id)"
   ]
  },
  {
   "cell_type": "code",
   "execution_count": 41,
   "metadata": {
    "execution": {
     "iopub.execute_input": "2025-06-25T01:58:48.403597Z",
     "iopub.status.busy": "2025-06-25T01:58:48.403311Z",
     "iopub.status.idle": "2025-06-25T01:58:48.408790Z",
     "shell.execute_reply": "2025-06-25T01:58:48.408078Z",
     "shell.execute_reply.started": "2025-06-25T01:58:48.403570Z"
    },
    "trusted": true
   },
   "outputs": [
    {
     "data": {
      "text/plain": [
       "True"
      ]
     },
     "execution_count": 41,
     "metadata": {},
     "output_type": "execute_result"
    }
   ],
   "source": [
    "CLS_ID == model.gnn.item_emb.weight.shape[0] - 1"
   ]
  },
  {
   "cell_type": "code",
   "execution_count": 42,
   "metadata": {
    "execution": {
     "iopub.execute_input": "2025-06-25T01:58:48.410182Z",
     "iopub.status.busy": "2025-06-25T01:58:48.409687Z",
     "iopub.status.idle": "2025-06-25T01:58:48.426262Z",
     "shell.execute_reply": "2025-06-25T01:58:48.425480Z",
     "shell.execute_reply.started": "2025-06-25T01:58:48.410165Z"
    },
    "trusted": true
   },
   "outputs": [],
   "source": [
    "def evaluate(model, train_data, seq_train_data,\n",
    "             test_batch_size, top_k,\n",
    "             viewed_items, interactions,\n",
    "             device, test_step):\n",
    "    \"\"\"\n",
    "    Оцениваем модель по всем пользователям:\n",
    "    - строим топ-K рекомендации\n",
    "    - фильтруем уже просмотренные\n",
    "    - считаем recall@K, precision@K, map@K\n",
    "    \"\"\"\n",
    "    model.eval()\n",
    "    model.to(device)\n",
    "    seq_ids, event_type, seq_times, seq_mask = seq_train_data\n",
    "    num_users = seq_ids.size(0)\n",
    "    test_top_k = top_k * 150\n",
    "\n",
    "    item_emb = model.gnn.item_emb.weight\n",
    "    num_items = item_emb.shape[0]\n",
    "    item_emb_t = item_emb.t().detach()\n",
    "    del item_emb\n",
    "    gc.collect()\n",
    "\n",
    "    all_scores = []\n",
    "    with torch.no_grad():\n",
    "        for i in range(0, num_users, test_batch_size):\n",
    "            end = min(i + test_batch_size, num_users)\n",
    "            batch_users = torch.arange(i, end).to(device)\n",
    "            s_ids   = seq_ids[i:end].to(device)\n",
    "            s_times = seq_times[i:end].to(device)\n",
    "            s_mask  = seq_mask[i:end].to(device)\n",
    "            user_e, polar = model(\n",
    "                data=train_data.to(device),\n",
    "                seq_ids=s_ids,\n",
    "                seq_times=s_times,\n",
    "                seq_mask=s_mask,\n",
    "                batch_users=batch_users\n",
    "            )\n",
    "            rating = torch.mm(user_e.detach(), item_emb_t)\n",
    "            _, topk = torch.topk(rating, k=test_top_k, dim=1)\n",
    "            all_scores.append(topk)\n",
    "\n",
    "            del user_e, rating\n",
    "            gc.collect()\n",
    "    all_scores = torch.cat(all_scores, dim=0).cpu().numpy()\n",
    "\n",
    "    users_list, items, ranks = [], [], []\n",
    "    for u in range(num_users):\n",
    "        seen = viewed_items.get(u, set())\n",
    "        recs = all_scores[u]\n",
    "        mask = (\n",
    "            (~np.isin(recs, list(seen)))   \n",
    "            & (recs != 0)                  \n",
    "            & (recs != num_items - 1)     \n",
    "            )\n",
    "        filtered = recs[mask][:top_k]\n",
    "        for rank, it in enumerate(filtered, 1):\n",
    "            users_list.append(u)\n",
    "            items.append(int(it))\n",
    "            ranks.append(rank)\n",
    "    reco_df = pd.DataFrame({\n",
    "        'user_id': users_list,\n",
    "        'item_id': items,\n",
    "        'rank': ranks\n",
    "    })\n",
    "\n",
    "    metrics = {\n",
    "        f'map@{top_k}': MAP(k=top_k),\n",
    "        f'precision@{top_k}': Precision(k=top_k),\n",
    "        f'recall@{top_k}': Recall(k=top_k),\n",
    "        f'ndcg@{top_k}': NDCG(k=top_k)\n",
    "    }\n",
    "    results = calc_metrics(metrics=metrics,\n",
    "                           reco=reco_df,\n",
    "                           interactions=interactions)\n",
    "    print(f\"Step {test_step} — Test metrics:\")\n",
    "    for name, val in results.items():\n",
    "        print(f\"  {name}: {val:.9f}\")\n",
    "        experiment.log_metric(f\"Test {name} vs step\", val, step=test_step)\n",
    "    del all_scores\n",
    "    gc.collect()\n",
    "\n",
    "    model.to(device)\n",
    "    train_data.to(device)\n",
    "    model.train()\n",
    "    return results"
   ]
  },
  {
   "cell_type": "code",
   "execution_count": 43,
   "metadata": {
    "execution": {
     "iopub.execute_input": "2025-06-25T01:58:48.427431Z",
     "iopub.status.busy": "2025-06-25T01:58:48.427184Z",
     "iopub.status.idle": "2025-06-25T01:58:48.447426Z",
     "shell.execute_reply": "2025-06-25T01:58:48.446689Z",
     "shell.execute_reply.started": "2025-06-25T01:58:48.427406Z"
    },
    "trusted": true
   },
   "outputs": [],
   "source": [
    "def train_model(model,\n",
    "                train_data: HeteroData,\n",
    "                seq_train_data: tuple,\n",
    "                edge_type: tuple,\n",
    "                num_epochs: int = 10,\n",
    "                lr: float = 1e-3,\n",
    "                batch_size: int = 1024,\n",
    "                device: str = None,\n",
    "                print_every: int = 100,\n",
    "                test_every: int = 500,\n",
    "                top_k: int = 10,\n",
    "                test_batch_size=2048,\n",
    "                scheduler_step_size: int = 1,\n",
    "                scheduler_gamma: float = 0.9) -> Model:\n",
    "    seq_ids, event_type, seq_times, seq_mask = seq_train_data\n",
    "    device = device or ('cuda' if torch.cuda.is_available() else 'cpu')\n",
    "    model = model.to(device)\n",
    "    train_data = train_data.to(device)\n",
    "    \n",
    "    optimizer = torch.optim.Adam(model.parameters(), lr=lr)\n",
    "    scheduler = StepLR(optimizer, step_size=scheduler_step_size, gamma=scheduler_gamma)\n",
    "\n",
    "    if isinstance(edge_type, list):\n",
    "        src_list, dst_list = [], []\n",
    "        for et in edge_type:\n",
    "            # print(et, train_data[et])\n",
    "            s, d = train_data[et].edge_index\n",
    "            src_list.append(s)\n",
    "            dst_list.append(d)\n",
    "        src = torch.cat(src_list, dim=0)\n",
    "        dst = torch.cat(dst_list, dim=0)\n",
    "    else:\n",
    "        src, dst = train_data[edge_type].edge_index\n",
    "    \n",
    "    num_train = src.size(0)\n",
    "    test_top_k = top_k * 150\n",
    "    total_steps = 0\n",
    "    \n",
    "    print(f\"Num of training examples: {num_train}\")\n",
    "    for epoch in range(1, num_epochs + 1):\n",
    "        model.train()\n",
    "        perm = torch.randperm(num_train, device=device)\n",
    "        total_loss = 0.0\n",
    "        running_loss = 0.0\n",
    "        running_steps = 0\n",
    "        step = 0\n",
    "\n",
    "        for i in range(0, num_train, batch_size):\n",
    "            idx = perm[i:i + batch_size]\n",
    "            users = dst[idx]\n",
    "            cpu_users = users.to('cpu')\n",
    "\n",
    "            seq_ids_batch = seq_ids[cpu_users, :-1].to(device)\n",
    "            seq_times_batch = seq_times[cpu_users, :-1].to(device)\n",
    "            seq_mask_batch = seq_mask[cpu_users, :-1].to(device)\n",
    "            true_evt  = event_type[cpu_users, -1].to(device)\n",
    "            \n",
    "            pos_items = src[idx]\n",
    "            neg_items = torch.randint(1, model.gnn.item_emb.num_embeddings - 1,\n",
    "                                      size=pos_items.size(), device=device)\n",
    "            \n",
    "            optimizer.zero_grad()\n",
    "            user_embs, event_logits = model(data=train_data, \n",
    "                              seq_ids=seq_ids_batch,\n",
    "                              seq_times=seq_times_batch,\n",
    "                              seq_mask=seq_mask_batch,\n",
    "                              batch_users=users)\n",
    "            \n",
    "            pos_emb = model.gnn.item_emb(pos_items)\n",
    "            neg_emb = model.gnn.item_emb(neg_items)\n",
    "            pos_score = (user_embs * pos_emb).sum(dim=1)\n",
    "            neg_score = (user_embs * neg_emb).sum(dim=1)\n",
    "            diff = pos_score - neg_score\n",
    "            diff = torch.clamp(diff, -10.0, 10.0)\n",
    "            ce_loss = F.cross_entropy(event_logits, true_evt)\n",
    "            bpr_loss = -torch.log(torch.sigmoid(diff) + 1e-15).mean()\n",
    "\n",
    "            loss = bpr_loss + ce_loss\n",
    "            \n",
    "            nan_mask = torch.isnan(diff)            \n",
    "            if nan_mask.any():\n",
    "                idxs = torch.nonzero(nan_mask).squeeze()\n",
    "                print(f\"!!! FOUND {nan_mask.sum().item()} NaN(s) in diff at positions: {idxs.tolist()}\")\n",
    "\n",
    "            # with torch.autograd.detect_anomaly():\n",
    "            loss.backward()\n",
    "\n",
    "            torch.nn.utils.clip_grad_norm_(model.parameters(), max_norm=1.0)\n",
    "            optimizer.step()\n",
    "\n",
    "            total_loss += loss.item()\n",
    "            running_loss += loss.item()\n",
    "            running_steps += 1\n",
    "            step += 1\n",
    "\n",
    "            experiment.log_metric('Train Loss vs step', loss.item(), step=total_steps)\n",
    "            experiment.log_metric('Train CE Loss vs step', ce_loss.item(), step=total_steps)\n",
    "            experiment.log_metric('Train BPR Loss vs step', bpr_loss.item(), step=total_steps)\n",
    "            \n",
    "            if step % print_every == 0 or step == 1:\n",
    "                avg_loss = running_loss / running_steps\n",
    "                current_lr = optimizer.param_groups[0]['lr']\n",
    "                d = diff.detach().cpu()\n",
    "                print(f\"Epoch {epoch}, Step {step}, LR: {current_lr:.6f}, Current Loss: {loss.item():.4f}, Avg Loss: {avg_loss:.4f}\")\n",
    "                print(f\"Diff stats — min: {d.min():.4f}, max: {d.max():.4f}, mean: {d.mean():.4f}, std: {d.std():.4f}\")\n",
    "                print()\n",
    "\n",
    "                experiment.log_metric('Diff stats (mean) vs step', d.mean(), step=total_steps)\n",
    "                experiment.log_metric('Diff stats (std) vs step', d.std(), step=total_steps)\n",
    "\n",
    "            del user_embs, pos_emb, neg_emb, pos_score, neg_score,\\\n",
    "            seq_ids_batch, seq_times_batch, seq_mask_batch\n",
    "            gc.collect()\n",
    "            torch.cuda.empty_cache()\n",
    "\n",
    "            scheduler.step()\n",
    "            \n",
    "            if step % test_every == 0 or step == 1:\n",
    "                evaluate(model, train_data, seq_train_data,\n",
    "                         test_batch_size, top_k,\n",
    "                         viewed_items, interactions,\n",
    "                         device, test_step=total_steps)\n",
    "\n",
    "            total_steps += 1\n",
    "        epoch_loss = total_loss / num_train\n",
    "        experiment.log_metric(f'Train Loss vs epoch', epoch_loss, epoch=epoch)\n",
    "        print(f\"Epoch {epoch} completed, Train Loss: {epoch_loss:.6f}\")\n",
    "        print()\n",
    "    return model"
   ]
  },
  {
   "cell_type": "code",
   "execution_count": 44,
   "metadata": {
    "execution": {
     "iopub.execute_input": "2025-06-25T01:58:48.448897Z",
     "iopub.status.busy": "2025-06-25T01:58:48.448240Z",
     "iopub.status.idle": "2025-06-25T01:58:48.590679Z",
     "shell.execute_reply": "2025-06-25T01:58:48.590073Z",
     "shell.execute_reply.started": "2025-06-25T01:58:48.448879Z"
    },
    "trusted": true
   },
   "outputs": [],
   "source": [
    "experiment.log_parameters(hyperparameters)"
   ]
  },
  {
   "cell_type": "code",
   "execution_count": 45,
   "metadata": {
    "execution": {
     "iopub.execute_input": "2025-06-25T01:58:48.591845Z",
     "iopub.status.busy": "2025-06-25T01:58:48.591605Z",
     "iopub.status.idle": "2025-06-25T02:37:48.902303Z",
     "shell.execute_reply": "2025-06-25T02:37:48.901170Z",
     "shell.execute_reply.started": "2025-06-25T01:58:48.591827Z"
    },
    "trusted": true
   },
   "outputs": [
    {
     "name": "stdout",
     "output_type": "stream",
     "text": [
      "Num of training examples: 539789\n",
      "Epoch 1, Step 1, LR: 0.001000, Current Loss: 4.3488, Avg Loss: 4.3488\n",
      "Diff stats — min: -10.0000, max: 10.0000, mean: 0.1619, std: 8.1087\n",
      "\n"
     ]
    },
    {
     "name": "stderr",
     "output_type": "stream",
     "text": [
      "/usr/local/lib/python3.11/dist-packages/pandas/core/computation/expressions.py:73: RuntimeWarning: invalid value encountered in less_equal\n",
      "  return op(a, b)\n",
      "/usr/local/lib/python3.11/dist-packages/pandas/core/arraylike.py:399: RuntimeWarning: invalid value encountered in log\n",
      "  result = getattr(ufunc, method)(*inputs, **kwargs)\n"
     ]
    },
    {
     "name": "stdout",
     "output_type": "stream",
     "text": [
      "Step 0 — Test metrics:\n",
      "  precision@10: 0.002119205\n",
      "  recall@10: 0.002119205\n",
      "  ndcg@10: 0.002168674\n",
      "  map@10: 0.000651602\n",
      "Epoch 1, Step 20, LR: 0.001000, Current Loss: 3.3336, Avg Loss: 3.7104\n",
      "Diff stats — min: -10.0000, max: 10.0000, mean: 0.4498, std: 6.5346\n",
      "\n",
      "Epoch 1, Step 40, LR: 0.001000, Current Loss: 3.0612, Avg Loss: 3.4530\n",
      "Diff stats — min: -10.0000, max: 10.0000, mean: 0.8423, std: 6.3296\n",
      "\n"
     ]
    },
    {
     "name": "stderr",
     "output_type": "stream",
     "text": [
      "/usr/local/lib/python3.11/dist-packages/pandas/core/computation/expressions.py:73: RuntimeWarning: invalid value encountered in less_equal\n",
      "  return op(a, b)\n",
      "/usr/local/lib/python3.11/dist-packages/pandas/core/arraylike.py:399: RuntimeWarning: invalid value encountered in log\n",
      "  result = getattr(ufunc, method)(*inputs, **kwargs)\n"
     ]
    },
    {
     "name": "stdout",
     "output_type": "stream",
     "text": [
      "Step 49 — Test metrics:\n",
      "  precision@10: 0.004850993\n",
      "  recall@10: 0.004852833\n",
      "  ndcg@10: 0.004253907\n",
      "  map@10: 0.001094627\n",
      "Epoch 1, Step 60, LR: 0.001000, Current Loss: 2.6331, Avg Loss: 3.2533\n",
      "Diff stats — min: -10.0000, max: 10.0000, mean: 1.3343, std: 5.8601\n",
      "\n",
      "Epoch 1, Step 80, LR: 0.001000, Current Loss: 2.4015, Avg Loss: 3.0845\n",
      "Diff stats — min: -10.0000, max: 10.0000, mean: 1.5713, std: 5.5458\n",
      "\n",
      "Epoch 1, Step 100, LR: 0.001000, Current Loss: 2.1664, Avg Loss: 2.9198\n",
      "Diff stats — min: -10.0000, max: 10.0000, mean: 1.6462, std: 5.0724\n",
      "\n"
     ]
    },
    {
     "name": "stderr",
     "output_type": "stream",
     "text": [
      "/usr/local/lib/python3.11/dist-packages/pandas/core/computation/expressions.py:73: RuntimeWarning: invalid value encountered in less_equal\n",
      "  return op(a, b)\n",
      "/usr/local/lib/python3.11/dist-packages/pandas/core/arraylike.py:399: RuntimeWarning: invalid value encountered in log\n",
      "  result = getattr(ufunc, method)(*inputs, **kwargs)\n"
     ]
    },
    {
     "name": "stdout",
     "output_type": "stream",
     "text": [
      "Step 99 — Test metrics:\n",
      "  precision@10: 0.004884106\n",
      "  recall@10: 0.004885946\n",
      "  ndcg@10: 0.004174828\n",
      "  map@10: 0.001023310\n",
      "Epoch 1, Step 120, LR: 0.001000, Current Loss: 1.9585, Avg Loss: 2.7718\n",
      "Diff stats — min: -10.0000, max: 10.0000, mean: 1.8003, std: 4.6954\n",
      "\n",
      "Epoch 1 completed, Train Loss: 0.000658\n",
      "\n",
      "Epoch 2, Step 1, LR: 0.001000, Current Loss: 1.8331, Avg Loss: 1.8331\n",
      "Diff stats — min: -10.0000, max: 10.0000, mean: 1.9494, std: 4.4977\n",
      "\n"
     ]
    },
    {
     "name": "stderr",
     "output_type": "stream",
     "text": [
      "/usr/local/lib/python3.11/dist-packages/pandas/core/computation/expressions.py:73: RuntimeWarning: invalid value encountered in less_equal\n",
      "  return op(a, b)\n",
      "/usr/local/lib/python3.11/dist-packages/pandas/core/arraylike.py:399: RuntimeWarning: invalid value encountered in log\n",
      "  result = getattr(ufunc, method)(*inputs, **kwargs)\n"
     ]
    },
    {
     "name": "stdout",
     "output_type": "stream",
     "text": [
      "Step 132 — Test metrics:\n",
      "  precision@10: 0.004933775\n",
      "  recall@10: 0.004935614\n",
      "  ndcg@10: 0.003987144\n",
      "  map@10: 0.000905085\n",
      "Epoch 2, Step 20, LR: 0.000980, Current Loss: 1.6889, Avg Loss: 1.7319\n",
      "Diff stats — min: -10.0000, max: 10.0000, mean: 1.9172, std: 4.1241\n",
      "\n",
      "Epoch 2, Step 40, LR: 0.000980, Current Loss: 1.4971, Avg Loss: 1.6623\n",
      "Diff stats — min: -10.0000, max: 10.0000, mean: 2.0949, std: 3.7455\n",
      "\n"
     ]
    },
    {
     "name": "stderr",
     "output_type": "stream",
     "text": [
      "/usr/local/lib/python3.11/dist-packages/pandas/core/computation/expressions.py:73: RuntimeWarning: invalid value encountered in less_equal\n",
      "  return op(a, b)\n",
      "/usr/local/lib/python3.11/dist-packages/pandas/core/arraylike.py:399: RuntimeWarning: invalid value encountered in log\n",
      "  result = getattr(ufunc, method)(*inputs, **kwargs)\n"
     ]
    },
    {
     "name": "stdout",
     "output_type": "stream",
     "text": [
      "Step 181 — Test metrics:\n",
      "  precision@10: 0.008940397\n",
      "  recall@10: 0.008940397\n",
      "  ndcg@10: 0.006667076\n",
      "  map@10: 0.001364817\n",
      "Epoch 2, Step 60, LR: 0.000980, Current Loss: 1.4017, Avg Loss: 1.5985\n",
      "Diff stats — min: -10.0000, max: 10.0000, mean: 2.1449, std: 3.4774\n",
      "\n",
      "Epoch 2, Step 80, LR: 0.000980, Current Loss: 1.3222, Avg Loss: 1.5428\n",
      "Diff stats — min: -10.0000, max: 10.0000, mean: 2.1017, std: 3.1895\n",
      "\n",
      "Epoch 2, Step 100, LR: 0.000980, Current Loss: 1.2896, Avg Loss: 1.4964\n",
      "Diff stats — min: -10.0000, max: 10.0000, mean: 2.0472, std: 3.0401\n",
      "\n"
     ]
    },
    {
     "name": "stderr",
     "output_type": "stream",
     "text": [
      "/usr/local/lib/python3.11/dist-packages/pandas/core/computation/expressions.py:73: RuntimeWarning: invalid value encountered in less_equal\n",
      "  return op(a, b)\n",
      "/usr/local/lib/python3.11/dist-packages/pandas/core/arraylike.py:399: RuntimeWarning: invalid value encountered in log\n",
      "  result = getattr(ufunc, method)(*inputs, **kwargs)\n"
     ]
    },
    {
     "name": "stdout",
     "output_type": "stream",
     "text": [
      "Step 231 — Test metrics:\n",
      "  precision@10: 0.009552980\n",
      "  recall@10: 0.009552980\n",
      "  ndcg@10: 0.007197929\n",
      "  map@10: 0.001496268\n",
      "Epoch 2, Step 120, LR: 0.000980, Current Loss: 1.2303, Avg Loss: 1.4563\n",
      "Diff stats — min: -10.0000, max: 10.0000, mean: 2.0712, std: 2.8524\n",
      "\n",
      "Epoch 2 completed, Train Loss: 0.000351\n",
      "\n",
      "Epoch 3, Step 1, LR: 0.000980, Current Loss: 1.1624, Avg Loss: 1.1624\n",
      "Diff stats — min: -10.0000, max: 10.0000, mean: 2.1441, std: 2.7038\n",
      "\n"
     ]
    },
    {
     "name": "stderr",
     "output_type": "stream",
     "text": [
      "/usr/local/lib/python3.11/dist-packages/pandas/core/computation/expressions.py:73: RuntimeWarning: invalid value encountered in less_equal\n",
      "  return op(a, b)\n",
      "/usr/local/lib/python3.11/dist-packages/pandas/core/arraylike.py:399: RuntimeWarning: invalid value encountered in log\n",
      "  result = getattr(ufunc, method)(*inputs, **kwargs)\n"
     ]
    },
    {
     "name": "stdout",
     "output_type": "stream",
     "text": [
      "Step 264 — Test metrics:\n",
      "  precision@10: 0.009619205\n",
      "  recall@10: 0.009619205\n",
      "  ndcg@10: 0.007566932\n",
      "  map@10: 0.001660708\n",
      "Epoch 3, Step 20, LR: 0.000980, Current Loss: 1.1410, Avg Loss: 1.1764\n",
      "Diff stats — min: -8.1369, max: 10.0000, mean: 2.1068, std: 2.5849\n",
      "\n",
      "Epoch 3, Step 40, LR: 0.000960, Current Loss: 1.1150, Avg Loss: 1.1620\n",
      "Diff stats — min: -10.0000, max: 10.0000, mean: 2.0649, std: 2.4642\n",
      "\n"
     ]
    },
    {
     "name": "stderr",
     "output_type": "stream",
     "text": [
      "/usr/local/lib/python3.11/dist-packages/pandas/core/computation/expressions.py:73: RuntimeWarning: invalid value encountered in less_equal\n",
      "  return op(a, b)\n",
      "/usr/local/lib/python3.11/dist-packages/pandas/core/arraylike.py:399: RuntimeWarning: invalid value encountered in log\n",
      "  result = getattr(ufunc, method)(*inputs, **kwargs)\n"
     ]
    },
    {
     "name": "stdout",
     "output_type": "stream",
     "text": [
      "Step 313 — Test metrics:\n",
      "  precision@10: 0.013145695\n",
      "  recall@10: 0.013145695\n",
      "  ndcg@10: 0.010104997\n",
      "  map@10: 0.002213018\n",
      "Epoch 3, Step 60, LR: 0.000960, Current Loss: 1.0952, Avg Loss: 1.1476\n",
      "Diff stats — min: -7.9602, max: 10.0000, mean: 2.1161, std: 2.4075\n",
      "\n",
      "Epoch 3, Step 80, LR: 0.000960, Current Loss: 1.0789, Avg Loss: 1.1367\n",
      "Diff stats — min: -6.5085, max: 10.0000, mean: 2.1173, std: 2.3298\n",
      "\n",
      "Epoch 3, Step 100, LR: 0.000960, Current Loss: 1.0820, Avg Loss: 1.1285\n",
      "Diff stats — min: -10.0000, max: 10.0000, mean: 2.0918, std: 2.3316\n",
      "\n"
     ]
    },
    {
     "name": "stderr",
     "output_type": "stream",
     "text": [
      "/usr/local/lib/python3.11/dist-packages/pandas/core/computation/expressions.py:73: RuntimeWarning: invalid value encountered in less_equal\n",
      "  return op(a, b)\n",
      "/usr/local/lib/python3.11/dist-packages/pandas/core/arraylike.py:399: RuntimeWarning: invalid value encountered in log\n",
      "  result = getattr(ufunc, method)(*inputs, **kwargs)\n"
     ]
    },
    {
     "name": "stdout",
     "output_type": "stream",
     "text": [
      "Step 363 — Test metrics:\n",
      "  precision@10: 0.017897351\n",
      "  recall@10: 0.017897351\n",
      "  ndcg@10: 0.013770269\n",
      "  map@10: 0.003115979\n",
      "Epoch 3, Step 120, LR: 0.000960, Current Loss: 1.0698, Avg Loss: 1.1193\n",
      "Diff stats — min: -8.3474, max: 10.0000, mean: 2.0813, std: 2.2701\n",
      "\n",
      "Epoch 3 completed, Train Loss: 0.000273\n",
      "\n",
      "Epoch 4, Step 1, LR: 0.000960, Current Loss: 1.0729, Avg Loss: 1.0729\n",
      "Diff stats — min: -8.0719, max: 10.0000, mean: 2.0408, std: 2.2635\n",
      "\n"
     ]
    },
    {
     "name": "stderr",
     "output_type": "stream",
     "text": [
      "/usr/local/lib/python3.11/dist-packages/pandas/core/computation/expressions.py:73: RuntimeWarning: invalid value encountered in less_equal\n",
      "  return op(a, b)\n",
      "/usr/local/lib/python3.11/dist-packages/pandas/core/arraylike.py:399: RuntimeWarning: invalid value encountered in log\n",
      "  result = getattr(ufunc, method)(*inputs, **kwargs)\n"
     ]
    },
    {
     "name": "stdout",
     "output_type": "stream",
     "text": [
      "Step 396 — Test metrics:\n",
      "  precision@10: 0.021175497\n",
      "  recall@10: 0.021175497\n",
      "  ndcg@10: 0.016795354\n",
      "  map@10: 0.004094745\n",
      "Epoch 4, Step 20, LR: 0.000960, Current Loss: 1.0720, Avg Loss: 1.0584\n",
      "Diff stats — min: -7.7201, max: 10.0000, mean: 2.0914, std: 2.2890\n",
      "\n",
      "Epoch 4, Step 40, LR: 0.000960, Current Loss: 1.0424, Avg Loss: 1.0568\n",
      "Diff stats — min: -6.2452, max: 10.0000, mean: 2.1841, std: 2.2489\n",
      "\n"
     ]
    },
    {
     "name": "stderr",
     "output_type": "stream",
     "text": [
      "/usr/local/lib/python3.11/dist-packages/pandas/core/computation/expressions.py:73: RuntimeWarning: invalid value encountered in less_equal\n",
      "  return op(a, b)\n",
      "/usr/local/lib/python3.11/dist-packages/pandas/core/arraylike.py:399: RuntimeWarning: invalid value encountered in log\n",
      "  result = getattr(ufunc, method)(*inputs, **kwargs)\n"
     ]
    },
    {
     "name": "stdout",
     "output_type": "stream",
     "text": [
      "Step 445 — Test metrics:\n",
      "  precision@10: 0.028973510\n",
      "  recall@10: 0.028975350\n",
      "  ndcg@10: 0.026222939\n",
      "  map@10: 0.007790169\n",
      "Epoch 4, Step 60, LR: 0.000941, Current Loss: 1.0407, Avg Loss: 1.0530\n",
      "Diff stats — min: -6.9748, max: 10.0000, mean: 2.1617, std: 2.2183\n",
      "\n",
      "Epoch 4, Step 80, LR: 0.000941, Current Loss: 1.0484, Avg Loss: 1.0491\n",
      "Diff stats — min: -9.3350, max: 10.0000, mean: 2.1053, std: 2.1866\n",
      "\n",
      "Epoch 4, Step 100, LR: 0.000941, Current Loss: 1.0367, Avg Loss: 1.0462\n",
      "Diff stats — min: -5.7582, max: 10.0000, mean: 2.1614, std: 2.1711\n",
      "\n"
     ]
    },
    {
     "name": "stderr",
     "output_type": "stream",
     "text": [
      "/usr/local/lib/python3.11/dist-packages/pandas/core/computation/expressions.py:73: RuntimeWarning: invalid value encountered in less_equal\n",
      "  return op(a, b)\n",
      "/usr/local/lib/python3.11/dist-packages/pandas/core/arraylike.py:399: RuntimeWarning: invalid value encountered in log\n",
      "  result = getattr(ufunc, method)(*inputs, **kwargs)\n"
     ]
    },
    {
     "name": "stdout",
     "output_type": "stream",
     "text": [
      "Step 495 — Test metrics:\n",
      "  precision@10: 0.034354305\n",
      "  recall@10: 0.034357984\n",
      "  ndcg@10: 0.035373606\n",
      "  map@10: 0.012047091\n",
      "Epoch 4, Step 120, LR: 0.000941, Current Loss: 1.0341, Avg Loss: 1.0436\n",
      "Diff stats — min: -8.3922, max: 10.0000, mean: 2.1444, std: 2.1886\n",
      "\n",
      "Epoch 4 completed, Train Loss: 0.000255\n",
      "\n",
      "Epoch 5, Step 1, LR: 0.000941, Current Loss: 1.0313, Avg Loss: 1.0313\n",
      "Diff stats — min: -5.8126, max: 10.0000, mean: 2.1541, std: 2.1772\n",
      "\n"
     ]
    },
    {
     "name": "stderr",
     "output_type": "stream",
     "text": [
      "/usr/local/lib/python3.11/dist-packages/pandas/core/computation/expressions.py:73: RuntimeWarning: invalid value encountered in less_equal\n",
      "  return op(a, b)\n",
      "/usr/local/lib/python3.11/dist-packages/pandas/core/arraylike.py:399: RuntimeWarning: invalid value encountered in log\n",
      "  result = getattr(ufunc, method)(*inputs, **kwargs)\n"
     ]
    },
    {
     "name": "stdout",
     "output_type": "stream",
     "text": [
      "Step 528 — Test metrics:\n",
      "  precision@10: 0.037549669\n",
      "  recall@10: 0.037553348\n",
      "  ndcg@10: 0.038557009\n",
      "  map@10: 0.013640321\n",
      "Epoch 5, Step 20, LR: 0.000941, Current Loss: 1.0294, Avg Loss: 1.0288\n",
      "Diff stats — min: -5.6139, max: 10.0000, mean: 2.1996, std: 2.1696\n",
      "\n",
      "Epoch 5, Step 40, LR: 0.000941, Current Loss: 1.0308, Avg Loss: 1.0257\n",
      "Diff stats — min: -6.6270, max: 10.0000, mean: 2.1572, std: 2.1488\n",
      "\n"
     ]
    },
    {
     "name": "stderr",
     "output_type": "stream",
     "text": [
      "/usr/local/lib/python3.11/dist-packages/pandas/core/computation/expressions.py:73: RuntimeWarning: invalid value encountered in less_equal\n",
      "  return op(a, b)\n",
      "/usr/local/lib/python3.11/dist-packages/pandas/core/arraylike.py:399: RuntimeWarning: invalid value encountered in log\n",
      "  result = getattr(ufunc, method)(*inputs, **kwargs)\n"
     ]
    },
    {
     "name": "stdout",
     "output_type": "stream",
     "text": [
      "Step 577 — Test metrics:\n",
      "  precision@10: 0.037301325\n",
      "  recall@10: 0.037305004\n",
      "  ndcg@10: 0.037805482\n",
      "  map@10: 0.013363430\n",
      "Epoch 5, Step 60, LR: 0.000941, Current Loss: 1.0283, Avg Loss: 1.0244\n",
      "Diff stats — min: -6.0420, max: 10.0000, mean: 2.1819, std: 2.1650\n",
      "\n",
      "Epoch 5, Step 80, LR: 0.000922, Current Loss: 0.9975, Avg Loss: 1.0222\n",
      "Diff stats — min: -4.8546, max: 10.0000, mean: 2.2718, std: 2.1208\n",
      "\n",
      "Epoch 5, Step 100, LR: 0.000922, Current Loss: 1.0113, Avg Loss: 1.0214\n",
      "Diff stats — min: -5.9057, max: 10.0000, mean: 2.2501, std: 2.1747\n",
      "\n"
     ]
    },
    {
     "name": "stderr",
     "output_type": "stream",
     "text": [
      "/usr/local/lib/python3.11/dist-packages/pandas/core/computation/expressions.py:73: RuntimeWarning: invalid value encountered in less_equal\n",
      "  return op(a, b)\n",
      "/usr/local/lib/python3.11/dist-packages/pandas/core/arraylike.py:399: RuntimeWarning: invalid value encountered in log\n",
      "  result = getattr(ufunc, method)(*inputs, **kwargs)\n"
     ]
    },
    {
     "name": "stdout",
     "output_type": "stream",
     "text": [
      "Step 627 — Test metrics:\n",
      "  precision@10: 0.036324503\n",
      "  recall@10: 0.036326343\n",
      "  ndcg@10: 0.036865511\n",
      "  map@10: 0.013028796\n",
      "Epoch 5, Step 120, LR: 0.000922, Current Loss: 1.0246, Avg Loss: 1.0205\n",
      "Diff stats — min: -5.9167, max: 10.0000, mean: 2.2721, std: 2.2254\n",
      "\n",
      "Epoch 5 completed, Train Loss: 0.000249\n",
      "\n",
      "Epoch 6, Step 1, LR: 0.000922, Current Loss: 1.0148, Avg Loss: 1.0148\n",
      "Diff stats — min: -5.3693, max: 10.0000, mean: 2.2100, std: 2.1288\n",
      "\n"
     ]
    },
    {
     "name": "stderr",
     "output_type": "stream",
     "text": [
      "/usr/local/lib/python3.11/dist-packages/pandas/core/computation/expressions.py:73: RuntimeWarning: invalid value encountered in less_equal\n",
      "  return op(a, b)\n",
      "/usr/local/lib/python3.11/dist-packages/pandas/core/arraylike.py:399: RuntimeWarning: invalid value encountered in log\n",
      "  result = getattr(ufunc, method)(*inputs, **kwargs)\n"
     ]
    },
    {
     "name": "stdout",
     "output_type": "stream",
     "text": [
      "Step 660 — Test metrics:\n",
      "  precision@10: 0.038162252\n",
      "  recall@10: 0.038164091\n",
      "  ndcg@10: 0.039122003\n",
      "  map@10: 0.014150910\n",
      "Epoch 6, Step 20, LR: 0.000922, Current Loss: 1.0081, Avg Loss: 1.0105\n",
      "Diff stats — min: -7.3992, max: 10.0000, mean: 2.2671, std: 2.1553\n",
      "\n",
      "Epoch 6, Step 40, LR: 0.000922, Current Loss: 1.0165, Avg Loss: 1.0120\n",
      "Diff stats — min: -5.4081, max: 10.0000, mean: 2.2618, std: 2.1943\n",
      "\n"
     ]
    },
    {
     "name": "stderr",
     "output_type": "stream",
     "text": [
      "/usr/local/lib/python3.11/dist-packages/pandas/core/computation/expressions.py:73: RuntimeWarning: invalid value encountered in less_equal\n",
      "  return op(a, b)\n",
      "/usr/local/lib/python3.11/dist-packages/pandas/core/arraylike.py:399: RuntimeWarning: invalid value encountered in log\n",
      "  result = getattr(ufunc, method)(*inputs, **kwargs)\n"
     ]
    },
    {
     "name": "stdout",
     "output_type": "stream",
     "text": [
      "Step 709 — Test metrics:\n",
      "  precision@10: 0.036903974\n",
      "  recall@10: 0.036907653\n",
      "  ndcg@10: 0.037407679\n",
      "  map@10: 0.013321355\n",
      "Epoch 6, Step 60, LR: 0.000922, Current Loss: 1.0106, Avg Loss: 1.0124\n",
      "Diff stats — min: -7.4575, max: 10.0000, mean: 2.3352, std: 2.2081\n",
      "\n",
      "Epoch 6, Step 80, LR: 0.000922, Current Loss: 0.9950, Avg Loss: 1.0113\n",
      "Diff stats — min: -5.1904, max: 10.0000, mean: 2.3186, std: 2.1574\n",
      "\n",
      "Epoch 6, Step 100, LR: 0.000904, Current Loss: 1.0146, Avg Loss: 1.0112\n",
      "Diff stats — min: -9.2580, max: 10.0000, mean: 2.2842, std: 2.1871\n",
      "\n"
     ]
    },
    {
     "name": "stderr",
     "output_type": "stream",
     "text": [
      "/usr/local/lib/python3.11/dist-packages/pandas/core/computation/expressions.py:73: RuntimeWarning: invalid value encountered in less_equal\n",
      "  return op(a, b)\n",
      "/usr/local/lib/python3.11/dist-packages/pandas/core/arraylike.py:399: RuntimeWarning: invalid value encountered in log\n",
      "  result = getattr(ufunc, method)(*inputs, **kwargs)\n"
     ]
    },
    {
     "name": "stdout",
     "output_type": "stream",
     "text": [
      "Step 759 — Test metrics:\n",
      "  precision@10: 0.038493377\n",
      "  recall@10: 0.038497057\n",
      "  ndcg@10: 0.039444611\n",
      "  map@10: 0.013982020\n",
      "Epoch 6, Step 120, LR: 0.000904, Current Loss: 1.0000, Avg Loss: 1.0112\n",
      "Diff stats — min: -7.2755, max: 10.0000, mean: 2.3010, std: 2.1524\n",
      "\n",
      "Epoch 6 completed, Train Loss: 0.000247\n",
      "\n",
      "Epoch 7, Step 1, LR: 0.000904, Current Loss: 1.0163, Avg Loss: 1.0163\n",
      "Diff stats — min: -6.3538, max: 10.0000, mean: 2.2785, std: 2.1673\n",
      "\n"
     ]
    },
    {
     "name": "stderr",
     "output_type": "stream",
     "text": [
      "/usr/local/lib/python3.11/dist-packages/pandas/core/computation/expressions.py:73: RuntimeWarning: invalid value encountered in less_equal\n",
      "  return op(a, b)\n",
      "/usr/local/lib/python3.11/dist-packages/pandas/core/arraylike.py:399: RuntimeWarning: invalid value encountered in log\n",
      "  result = getattr(ufunc, method)(*inputs, **kwargs)\n"
     ]
    },
    {
     "name": "stdout",
     "output_type": "stream",
     "text": [
      "Step 792 — Test metrics:\n",
      "  precision@10: 0.038890728\n",
      "  recall@10: 0.038892568\n",
      "  ndcg@10: 0.040138330\n",
      "  map@10: 0.014629927\n",
      "Epoch 7, Step 20, LR: 0.000904, Current Loss: 0.9964, Avg Loss: 1.0091\n",
      "Diff stats — min: -5.6531, max: 10.0000, mean: 2.3483, std: 2.1782\n",
      "\n",
      "Epoch 7, Step 40, LR: 0.000904, Current Loss: 1.0119, Avg Loss: 1.0091\n",
      "Diff stats — min: -5.0226, max: 10.0000, mean: 2.3456, std: 2.1876\n",
      "\n"
     ]
    },
    {
     "name": "stderr",
     "output_type": "stream",
     "text": [
      "/usr/local/lib/python3.11/dist-packages/pandas/core/computation/expressions.py:73: RuntimeWarning: invalid value encountered in less_equal\n",
      "  return op(a, b)\n",
      "/usr/local/lib/python3.11/dist-packages/pandas/core/arraylike.py:399: RuntimeWarning: invalid value encountered in log\n",
      "  result = getattr(ufunc, method)(*inputs, **kwargs)\n"
     ]
    },
    {
     "name": "stdout",
     "output_type": "stream",
     "text": [
      "Step 841 — Test metrics:\n",
      "  precision@10: 0.037268212\n",
      "  recall@10: 0.037271891\n",
      "  ndcg@10: 0.038421788\n",
      "  map@10: 0.013521076\n",
      "Epoch 7, Step 60, LR: 0.000904, Current Loss: 1.0271, Avg Loss: 1.0092\n",
      "Diff stats — min: -5.6685, max: 10.0000, mean: 2.2709, std: 2.2358\n",
      "\n",
      "Epoch 7, Step 80, LR: 0.000904, Current Loss: 0.9961, Avg Loss: 1.0093\n",
      "Diff stats — min: -5.9674, max: 10.0000, mean: 2.3811, std: 2.1968\n",
      "\n",
      "Epoch 7, Step 100, LR: 0.000904, Current Loss: 1.0016, Avg Loss: 1.0081\n",
      "Diff stats — min: -4.8990, max: 10.0000, mean: 2.3084, std: 2.1693\n",
      "\n"
     ]
    },
    {
     "name": "stderr",
     "output_type": "stream",
     "text": [
      "/usr/local/lib/python3.11/dist-packages/pandas/core/computation/expressions.py:73: RuntimeWarning: invalid value encountered in less_equal\n",
      "  return op(a, b)\n",
      "/usr/local/lib/python3.11/dist-packages/pandas/core/arraylike.py:399: RuntimeWarning: invalid value encountered in log\n",
      "  result = getattr(ufunc, method)(*inputs, **kwargs)\n"
     ]
    },
    {
     "name": "stdout",
     "output_type": "stream",
     "text": [
      "Step 891 — Test metrics:\n",
      "  precision@10: 0.038096026\n",
      "  recall@10: 0.038097866\n",
      "  ndcg@10: 0.039445669\n",
      "  map@10: 0.014382917\n",
      "Epoch 7, Step 120, LR: 0.000886, Current Loss: 1.0048, Avg Loss: 1.0079\n",
      "Diff stats — min: -5.8976, max: 10.0000, mean: 2.3655, std: 2.2125\n",
      "\n",
      "Epoch 7 completed, Train Loss: 0.000247\n",
      "\n",
      "Epoch 8, Step 1, LR: 0.000886, Current Loss: 1.0097, Avg Loss: 1.0097\n",
      "Diff stats — min: -6.0063, max: 10.0000, mean: 2.3663, std: 2.2225\n",
      "\n"
     ]
    },
    {
     "name": "stderr",
     "output_type": "stream",
     "text": [
      "/usr/local/lib/python3.11/dist-packages/pandas/core/computation/expressions.py:73: RuntimeWarning: invalid value encountered in less_equal\n",
      "  return op(a, b)\n",
      "/usr/local/lib/python3.11/dist-packages/pandas/core/arraylike.py:399: RuntimeWarning: invalid value encountered in log\n",
      "  result = getattr(ufunc, method)(*inputs, **kwargs)\n"
     ]
    },
    {
     "name": "stdout",
     "output_type": "stream",
     "text": [
      "Step 924 — Test metrics:\n",
      "  precision@10: 0.039552980\n",
      "  recall@10: 0.039556659\n",
      "  ndcg@10: 0.041609299\n",
      "  map@10: 0.015146365\n",
      "Epoch 8, Step 20, LR: 0.000886, Current Loss: 1.0144, Avg Loss: 1.0054\n",
      "Diff stats — min: -4.8809, max: 10.0000, mean: 2.3302, std: 2.2204\n",
      "\n",
      "Epoch 8, Step 40, LR: 0.000886, Current Loss: 0.9889, Avg Loss: 1.0067\n",
      "Diff stats — min: -5.7895, max: 10.0000, mean: 2.3781, std: 2.1601\n",
      "\n"
     ]
    },
    {
     "name": "stderr",
     "output_type": "stream",
     "text": [
      "/usr/local/lib/python3.11/dist-packages/pandas/core/computation/expressions.py:73: RuntimeWarning: invalid value encountered in less_equal\n",
      "  return op(a, b)\n",
      "/usr/local/lib/python3.11/dist-packages/pandas/core/arraylike.py:399: RuntimeWarning: invalid value encountered in log\n",
      "  result = getattr(ufunc, method)(*inputs, **kwargs)\n"
     ]
    },
    {
     "name": "stdout",
     "output_type": "stream",
     "text": [
      "Step 973 — Test metrics:\n",
      "  precision@10: 0.038029801\n",
      "  recall@10: 0.038031641\n",
      "  ndcg@10: 0.040056284\n",
      "  map@10: 0.014675773\n",
      "Epoch 8, Step 60, LR: 0.000886, Current Loss: 1.0150, Avg Loss: 1.0064\n",
      "Diff stats — min: -4.4352, max: 10.0000, mean: 2.3126, std: 2.2144\n",
      "\n",
      "Epoch 8, Step 80, LR: 0.000886, Current Loss: 1.0106, Avg Loss: 1.0060\n",
      "Diff stats — min: -4.9857, max: 10.0000, mean: 2.3378, std: 2.2152\n",
      "\n",
      "Epoch 8, Step 100, LR: 0.000886, Current Loss: 1.0192, Avg Loss: 1.0055\n",
      "Diff stats — min: -4.8585, max: 10.0000, mean: 2.3072, std: 2.2257\n",
      "\n"
     ]
    },
    {
     "name": "stderr",
     "output_type": "stream",
     "text": [
      "/usr/local/lib/python3.11/dist-packages/pandas/core/computation/expressions.py:73: RuntimeWarning: invalid value encountered in less_equal\n",
      "  return op(a, b)\n",
      "/usr/local/lib/python3.11/dist-packages/pandas/core/arraylike.py:399: RuntimeWarning: invalid value encountered in log\n",
      "  result = getattr(ufunc, method)(*inputs, **kwargs)\n"
     ]
    },
    {
     "name": "stdout",
     "output_type": "stream",
     "text": [
      "Step 1023 — Test metrics:\n",
      "  precision@10: 0.039023179\n",
      "  recall@10: 0.039023179\n",
      "  ndcg@10: 0.040932999\n",
      "  map@10: 0.014832847\n",
      "Epoch 8, Step 120, LR: 0.000886, Current Loss: 1.0088, Avg Loss: 1.0054\n",
      "Diff stats — min: -5.1358, max: 10.0000, mean: 2.3442, std: 2.1989\n",
      "\n",
      "Epoch 8 completed, Train Loss: 0.000246\n",
      "\n",
      "Epoch 9, Step 1, LR: 0.000868, Current Loss: 1.0234, Avg Loss: 1.0234\n",
      "Diff stats — min: -7.8419, max: 10.0000, mean: 2.3623, std: 2.2765\n",
      "\n"
     ]
    },
    {
     "name": "stderr",
     "output_type": "stream",
     "text": [
      "/usr/local/lib/python3.11/dist-packages/pandas/core/computation/expressions.py:73: RuntimeWarning: invalid value encountered in less_equal\n",
      "  return op(a, b)\n",
      "/usr/local/lib/python3.11/dist-packages/pandas/core/arraylike.py:399: RuntimeWarning: invalid value encountered in log\n",
      "  result = getattr(ufunc, method)(*inputs, **kwargs)\n"
     ]
    },
    {
     "name": "stdout",
     "output_type": "stream",
     "text": [
      "Step 1056 — Test metrics:\n",
      "  precision@10: 0.038625828\n",
      "  recall@10: 0.038629507\n",
      "  ndcg@10: 0.041078329\n",
      "  map@10: 0.015115776\n",
      "Epoch 9, Step 20, LR: 0.000868, Current Loss: 1.0008, Avg Loss: 1.0026\n",
      "Diff stats — min: -4.7544, max: 10.0000, mean: 2.3426, std: 2.2257\n",
      "\n",
      "Epoch 9, Step 40, LR: 0.000868, Current Loss: 0.9986, Avg Loss: 1.0022\n",
      "Diff stats — min: -8.2160, max: 10.0000, mean: 2.3792, std: 2.1872\n",
      "\n"
     ]
    },
    {
     "name": "stderr",
     "output_type": "stream",
     "text": [
      "/usr/local/lib/python3.11/dist-packages/pandas/core/computation/expressions.py:73: RuntimeWarning: invalid value encountered in less_equal\n",
      "  return op(a, b)\n",
      "/usr/local/lib/python3.11/dist-packages/pandas/core/arraylike.py:399: RuntimeWarning: invalid value encountered in log\n",
      "  result = getattr(ufunc, method)(*inputs, **kwargs)\n"
     ]
    },
    {
     "name": "stdout",
     "output_type": "stream",
     "text": [
      "Step 1105 — Test metrics:\n",
      "  precision@10: 0.037649007\n",
      "  recall@10: 0.037652686\n",
      "  ndcg@10: 0.040141148\n",
      "  map@10: 0.014601322\n",
      "Epoch 9, Step 60, LR: 0.000868, Current Loss: 1.0099, Avg Loss: 1.0035\n",
      "Diff stats — min: -5.5006, max: 10.0000, mean: 2.3720, std: 2.2518\n",
      "\n",
      "Epoch 9, Step 80, LR: 0.000868, Current Loss: 0.9898, Avg Loss: 1.0039\n",
      "Diff stats — min: -5.2947, max: 10.0000, mean: 2.4834, std: 2.2595\n",
      "\n",
      "Epoch 9, Step 100, LR: 0.000868, Current Loss: 1.0044, Avg Loss: 1.0038\n",
      "Diff stats — min: -6.9492, max: 10.0000, mean: 2.3687, std: 2.2122\n",
      "\n"
     ]
    },
    {
     "name": "stderr",
     "output_type": "stream",
     "text": [
      "/usr/local/lib/python3.11/dist-packages/pandas/core/computation/expressions.py:73: RuntimeWarning: invalid value encountered in less_equal\n",
      "  return op(a, b)\n",
      "/usr/local/lib/python3.11/dist-packages/pandas/core/arraylike.py:399: RuntimeWarning: invalid value encountered in log\n",
      "  result = getattr(ufunc, method)(*inputs, **kwargs)\n"
     ]
    },
    {
     "name": "stdout",
     "output_type": "stream",
     "text": [
      "Step 1155 — Test metrics:\n",
      "  precision@10: 0.040000000\n",
      "  recall@10: 0.040005519\n",
      "  ndcg@10: 0.041464608\n",
      "  map@10: 0.014767259\n",
      "Epoch 9, Step 120, LR: 0.000868, Current Loss: 0.9948, Avg Loss: 1.0041\n",
      "Diff stats — min: -5.1590, max: 10.0000, mean: 2.4066, std: 2.2464\n",
      "\n",
      "Epoch 9 completed, Train Loss: 0.000246\n",
      "\n",
      "Epoch 10, Step 1, LR: 0.000868, Current Loss: 0.9982, Avg Loss: 0.9982\n",
      "Diff stats — min: -8.0248, max: 9.6435, mean: 2.4273, std: 2.2095\n",
      "\n"
     ]
    },
    {
     "name": "stderr",
     "output_type": "stream",
     "text": [
      "/usr/local/lib/python3.11/dist-packages/pandas/core/computation/expressions.py:73: RuntimeWarning: invalid value encountered in less_equal\n",
      "  return op(a, b)\n",
      "/usr/local/lib/python3.11/dist-packages/pandas/core/arraylike.py:399: RuntimeWarning: invalid value encountered in log\n",
      "  result = getattr(ufunc, method)(*inputs, **kwargs)\n"
     ]
    },
    {
     "name": "stdout",
     "output_type": "stream",
     "text": [
      "Step 1188 — Test metrics:\n",
      "  precision@10: 0.037930464\n",
      "  recall@10: 0.037934143\n",
      "  ndcg@10: 0.039678557\n",
      "  map@10: 0.014228689\n",
      "Epoch 10, Step 20, LR: 0.000851, Current Loss: 1.0014, Avg Loss: 1.0018\n",
      "Diff stats — min: -5.5872, max: 10.0000, mean: 2.3716, std: 2.2116\n",
      "\n",
      "Epoch 10, Step 40, LR: 0.000851, Current Loss: 1.0089, Avg Loss: 1.0034\n",
      "Diff stats — min: -5.7406, max: 10.0000, mean: 2.4092, std: 2.2497\n",
      "\n"
     ]
    },
    {
     "name": "stderr",
     "output_type": "stream",
     "text": [
      "/usr/local/lib/python3.11/dist-packages/pandas/core/computation/expressions.py:73: RuntimeWarning: invalid value encountered in less_equal\n",
      "  return op(a, b)\n",
      "/usr/local/lib/python3.11/dist-packages/pandas/core/arraylike.py:399: RuntimeWarning: invalid value encountered in log\n",
      "  result = getattr(ufunc, method)(*inputs, **kwargs)\n"
     ]
    },
    {
     "name": "stdout",
     "output_type": "stream",
     "text": [
      "Step 1237 — Test metrics:\n",
      "  precision@10: 0.038658940\n",
      "  recall@10: 0.038662620\n",
      "  ndcg@10: 0.040464981\n",
      "  map@10: 0.014435069\n",
      "Epoch 10, Step 60, LR: 0.000851, Current Loss: 1.0025, Avg Loss: 1.0031\n",
      "Diff stats — min: -4.5027, max: 10.0000, mean: 2.4588, std: 2.2751\n",
      "\n",
      "Epoch 10, Step 80, LR: 0.000851, Current Loss: 1.0067, Avg Loss: 1.0035\n",
      "Diff stats — min: -5.2706, max: 10.0000, mean: 2.4212, std: 2.2571\n",
      "\n",
      "Epoch 10, Step 100, LR: 0.000851, Current Loss: 0.9982, Avg Loss: 1.0044\n",
      "Diff stats — min: -4.5841, max: 10.0000, mean: 2.3930, std: 2.2482\n",
      "\n"
     ]
    },
    {
     "name": "stderr",
     "output_type": "stream",
     "text": [
      "/usr/local/lib/python3.11/dist-packages/pandas/core/computation/expressions.py:73: RuntimeWarning: invalid value encountered in less_equal\n",
      "  return op(a, b)\n",
      "/usr/local/lib/python3.11/dist-packages/pandas/core/arraylike.py:399: RuntimeWarning: invalid value encountered in log\n",
      "  result = getattr(ufunc, method)(*inputs, **kwargs)\n"
     ]
    },
    {
     "name": "stdout",
     "output_type": "stream",
     "text": [
      "Step 1287 — Test metrics:\n",
      "  precision@10: 0.038990066\n",
      "  recall@10: 0.038991906\n",
      "  ndcg@10: 0.041772580\n",
      "  map@10: 0.015282897\n",
      "Epoch 10, Step 120, LR: 0.000851, Current Loss: 1.0145, Avg Loss: 1.0043\n",
      "Diff stats — min: -6.5514, max: 10.0000, mean: 2.3723, std: 2.2481\n",
      "\n",
      "Epoch 10 completed, Train Loss: 0.000246\n",
      "\n",
      "Epoch 11, Step 1, LR: 0.000851, Current Loss: 0.9970, Avg Loss: 0.9970\n",
      "Diff stats — min: -4.8303, max: 10.0000, mean: 2.4077, std: 2.2331\n",
      "\n"
     ]
    },
    {
     "name": "stderr",
     "output_type": "stream",
     "text": [
      "/usr/local/lib/python3.11/dist-packages/pandas/core/computation/expressions.py:73: RuntimeWarning: invalid value encountered in less_equal\n",
      "  return op(a, b)\n",
      "/usr/local/lib/python3.11/dist-packages/pandas/core/arraylike.py:399: RuntimeWarning: invalid value encountered in log\n",
      "  result = getattr(ufunc, method)(*inputs, **kwargs)\n"
     ]
    },
    {
     "name": "stdout",
     "output_type": "stream",
     "text": [
      "Step 1320 — Test metrics:\n",
      "  precision@10: 0.039420530\n",
      "  recall@10: 0.039422369\n",
      "  ndcg@10: 0.040802771\n",
      "  map@10: 0.014618515\n",
      "Epoch 11, Step 20, LR: 0.000851, Current Loss: 1.0019, Avg Loss: 1.0050\n",
      "Diff stats — min: -5.2611, max: 10.0000, mean: 2.4242, std: 2.2527\n",
      "\n",
      "Epoch 11, Step 40, LR: 0.000834, Current Loss: 1.0067, Avg Loss: 1.0047\n",
      "Diff stats — min: -5.4580, max: 10.0000, mean: 2.4153, std: 2.2643\n",
      "\n"
     ]
    },
    {
     "name": "stderr",
     "output_type": "stream",
     "text": [
      "/usr/local/lib/python3.11/dist-packages/pandas/core/computation/expressions.py:73: RuntimeWarning: invalid value encountered in less_equal\n",
      "  return op(a, b)\n",
      "/usr/local/lib/python3.11/dist-packages/pandas/core/arraylike.py:399: RuntimeWarning: invalid value encountered in log\n",
      "  result = getattr(ufunc, method)(*inputs, **kwargs)\n"
     ]
    },
    {
     "name": "stdout",
     "output_type": "stream",
     "text": [
      "Step 1369 — Test metrics:\n",
      "  precision@10: 0.037963576\n",
      "  recall@10: 0.037965416\n",
      "  ndcg@10: 0.040147421\n",
      "  map@10: 0.014485616\n",
      "Epoch 11, Step 60, LR: 0.000834, Current Loss: 0.9929, Avg Loss: 1.0025\n",
      "Diff stats — min: -5.3595, max: 10.0000, mean: 2.4008, std: 2.2259\n",
      "\n",
      "Epoch 11, Step 80, LR: 0.000834, Current Loss: 0.9948, Avg Loss: 1.0025\n",
      "Diff stats — min: -7.6580, max: 10.0000, mean: 2.4309, std: 2.2600\n",
      "\n",
      "Epoch 11, Step 100, LR: 0.000834, Current Loss: 1.0060, Avg Loss: 1.0029\n",
      "Diff stats — min: -6.0441, max: 10.0000, mean: 2.4216, std: 2.2906\n",
      "\n"
     ]
    },
    {
     "name": "stderr",
     "output_type": "stream",
     "text": [
      "/usr/local/lib/python3.11/dist-packages/pandas/core/computation/expressions.py:73: RuntimeWarning: invalid value encountered in less_equal\n",
      "  return op(a, b)\n",
      "/usr/local/lib/python3.11/dist-packages/pandas/core/arraylike.py:399: RuntimeWarning: invalid value encountered in log\n",
      "  result = getattr(ufunc, method)(*inputs, **kwargs)\n"
     ]
    },
    {
     "name": "stdout",
     "output_type": "stream",
     "text": [
      "Step 1419 — Test metrics:\n",
      "  precision@10: 0.038410596\n",
      "  recall@10: 0.038414275\n",
      "  ndcg@10: 0.039907881\n",
      "  map@10: 0.014375112\n",
      "Epoch 11, Step 120, LR: 0.000834, Current Loss: 1.0108, Avg Loss: 1.0025\n",
      "Diff stats — min: -4.8941, max: 10.0000, mean: 2.4441, std: 2.2947\n",
      "\n",
      "Epoch 11 completed, Train Loss: 0.000245\n",
      "\n",
      "Epoch 12, Step 1, LR: 0.000834, Current Loss: 0.9902, Avg Loss: 0.9902\n",
      "Diff stats — min: -4.9425, max: 9.8358, mean: 2.4137, std: 2.2116\n",
      "\n"
     ]
    },
    {
     "name": "stderr",
     "output_type": "stream",
     "text": [
      "/usr/local/lib/python3.11/dist-packages/pandas/core/computation/expressions.py:73: RuntimeWarning: invalid value encountered in less_equal\n",
      "  return op(a, b)\n",
      "/usr/local/lib/python3.11/dist-packages/pandas/core/arraylike.py:399: RuntimeWarning: invalid value encountered in log\n",
      "  result = getattr(ufunc, method)(*inputs, **kwargs)\n"
     ]
    },
    {
     "name": "stdout",
     "output_type": "stream",
     "text": [
      "Step 1452 — Test metrics:\n",
      "  precision@10: 0.038609272\n",
      "  recall@10: 0.038611111\n",
      "  ndcg@10: 0.041083028\n",
      "  map@10: 0.015200673\n",
      "Epoch 12, Step 20, LR: 0.000834, Current Loss: 0.9889, Avg Loss: 1.0011\n",
      "Diff stats — min: -5.1851, max: 10.0000, mean: 2.4758, std: 2.2397\n",
      "\n",
      "Epoch 12, Step 40, LR: 0.000834, Current Loss: 1.0032, Avg Loss: 1.0002\n",
      "Diff stats — min: -4.8908, max: 10.0000, mean: 2.4161, std: 2.2663\n",
      "\n"
     ]
    },
    {
     "name": "stderr",
     "output_type": "stream",
     "text": [
      "/usr/local/lib/python3.11/dist-packages/pandas/core/computation/expressions.py:73: RuntimeWarning: invalid value encountered in less_equal\n",
      "  return op(a, b)\n",
      "/usr/local/lib/python3.11/dist-packages/pandas/core/arraylike.py:399: RuntimeWarning: invalid value encountered in log\n",
      "  result = getattr(ufunc, method)(*inputs, **kwargs)\n"
     ]
    },
    {
     "name": "stdout",
     "output_type": "stream",
     "text": [
      "Step 1501 — Test metrics:\n",
      "  precision@10: 0.036738411\n",
      "  recall@10: 0.036742090\n",
      "  ndcg@10: 0.038937001\n",
      "  map@10: 0.014115329\n",
      "Epoch 12, Step 60, LR: 0.000817, Current Loss: 1.0005, Avg Loss: 1.0013\n",
      "Diff stats — min: -5.4433, max: 10.0000, mean: 2.4848, std: 2.2895\n",
      "\n",
      "Epoch 12, Step 80, LR: 0.000817, Current Loss: 1.0130, Avg Loss: 1.0021\n",
      "Diff stats — min: -5.3768, max: 10.0000, mean: 2.4111, std: 2.3173\n",
      "\n",
      "Epoch 12, Step 100, LR: 0.000817, Current Loss: 1.0151, Avg Loss: 1.0031\n",
      "Diff stats — min: -5.7807, max: 10.0000, mean: 2.4257, std: 2.3347\n",
      "\n"
     ]
    },
    {
     "name": "stderr",
     "output_type": "stream",
     "text": [
      "/usr/local/lib/python3.11/dist-packages/pandas/core/computation/expressions.py:73: RuntimeWarning: invalid value encountered in less_equal\n",
      "  return op(a, b)\n",
      "/usr/local/lib/python3.11/dist-packages/pandas/core/arraylike.py:399: RuntimeWarning: invalid value encountered in log\n",
      "  result = getattr(ufunc, method)(*inputs, **kwargs)\n"
     ]
    },
    {
     "name": "stdout",
     "output_type": "stream",
     "text": [
      "Step 1551 — Test metrics:\n",
      "  precision@10: 0.037566225\n",
      "  recall@10: 0.037569904\n",
      "  ndcg@10: 0.039091512\n",
      "  map@10: 0.014048552\n",
      "Epoch 12, Step 120, LR: 0.000817, Current Loss: 1.0035, Avg Loss: 1.0034\n",
      "Diff stats — min: -5.9515, max: 10.0000, mean: 2.4144, std: 2.2744\n",
      "\n",
      "Epoch 12 completed, Train Loss: 0.000245\n",
      "\n",
      "Epoch 13, Step 1, LR: 0.000817, Current Loss: 1.0269, Avg Loss: 1.0269\n",
      "Diff stats — min: -5.6029, max: 10.0000, mean: 2.3721, std: 2.3341\n",
      "\n"
     ]
    },
    {
     "name": "stderr",
     "output_type": "stream",
     "text": [
      "/usr/local/lib/python3.11/dist-packages/pandas/core/computation/expressions.py:73: RuntimeWarning: invalid value encountered in less_equal\n",
      "  return op(a, b)\n",
      "/usr/local/lib/python3.11/dist-packages/pandas/core/arraylike.py:399: RuntimeWarning: invalid value encountered in log\n",
      "  result = getattr(ufunc, method)(*inputs, **kwargs)\n"
     ]
    },
    {
     "name": "stdout",
     "output_type": "stream",
     "text": [
      "Step 1584 — Test metrics:\n",
      "  precision@10: 0.037251656\n",
      "  recall@10: 0.037257174\n",
      "  ndcg@10: 0.038531248\n",
      "  map@10: 0.013829983\n",
      "Epoch 13, Step 20, LR: 0.000817, Current Loss: 0.9910, Avg Loss: 1.0044\n",
      "Diff stats — min: -4.7572, max: 10.0000, mean: 2.4576, std: 2.2521\n",
      "\n",
      "Epoch 13, Step 40, LR: 0.000817, Current Loss: 0.9997, Avg Loss: 1.0023\n",
      "Diff stats — min: -5.1809, max: 10.0000, mean: 2.4679, std: 2.2974\n",
      "\n"
     ]
    },
    {
     "name": "stderr",
     "output_type": "stream",
     "text": [
      "/usr/local/lib/python3.11/dist-packages/pandas/core/computation/expressions.py:73: RuntimeWarning: invalid value encountered in less_equal\n",
      "  return op(a, b)\n",
      "/usr/local/lib/python3.11/dist-packages/pandas/core/arraylike.py:399: RuntimeWarning: invalid value encountered in log\n",
      "  result = getattr(ufunc, method)(*inputs, **kwargs)\n"
     ]
    },
    {
     "name": "stdout",
     "output_type": "stream",
     "text": [
      "Step 1633 — Test metrics:\n",
      "  precision@10: 0.038609272\n",
      "  recall@10: 0.038612951\n",
      "  ndcg@10: 0.040757852\n",
      "  map@10: 0.014855590\n",
      "Epoch 13, Step 60, LR: 0.000817, Current Loss: 0.9969, Avg Loss: 1.0020\n",
      "Diff stats — min: -6.0177, max: 10.0000, mean: 2.4971, std: 2.3222\n",
      "\n",
      "Epoch 13, Step 80, LR: 0.000801, Current Loss: 0.9972, Avg Loss: 1.0016\n",
      "Diff stats — min: -5.2458, max: 10.0000, mean: 2.4932, std: 2.3075\n",
      "\n",
      "Epoch 13, Step 100, LR: 0.000801, Current Loss: 0.9928, Avg Loss: 1.0021\n",
      "Diff stats — min: -4.9950, max: 10.0000, mean: 2.4359, std: 2.2564\n",
      "\n"
     ]
    },
    {
     "name": "stderr",
     "output_type": "stream",
     "text": [
      "/usr/local/lib/python3.11/dist-packages/pandas/core/computation/expressions.py:73: RuntimeWarning: invalid value encountered in less_equal\n",
      "  return op(a, b)\n",
      "/usr/local/lib/python3.11/dist-packages/pandas/core/arraylike.py:399: RuntimeWarning: invalid value encountered in log\n",
      "  result = getattr(ufunc, method)(*inputs, **kwargs)\n"
     ]
    },
    {
     "name": "stdout",
     "output_type": "stream",
     "text": [
      "Step 1683 — Test metrics:\n",
      "  precision@10: 0.039652318\n",
      "  recall@10: 0.039654157\n",
      "  ndcg@10: 0.041692111\n",
      "  map@10: 0.015215186\n",
      "Epoch 13, Step 120, LR: 0.000801, Current Loss: 0.9998, Avg Loss: 1.0016\n",
      "Diff stats — min: -5.9763, max: 10.0000, mean: 2.4872, std: 2.2817\n",
      "\n",
      "Epoch 13 completed, Train Loss: 0.000245\n",
      "\n",
      "Epoch 14, Step 1, LR: 0.000801, Current Loss: 1.0063, Avg Loss: 1.0063\n",
      "Diff stats — min: -4.4661, max: 10.0000, mean: 2.4568, std: 2.3066\n",
      "\n"
     ]
    },
    {
     "name": "stderr",
     "output_type": "stream",
     "text": [
      "/usr/local/lib/python3.11/dist-packages/pandas/core/computation/expressions.py:73: RuntimeWarning: invalid value encountered in less_equal\n",
      "  return op(a, b)\n",
      "/usr/local/lib/python3.11/dist-packages/pandas/core/arraylike.py:399: RuntimeWarning: invalid value encountered in log\n",
      "  result = getattr(ufunc, method)(*inputs, **kwargs)\n"
     ]
    },
    {
     "name": "stdout",
     "output_type": "stream",
     "text": [
      "Step 1716 — Test metrics:\n",
      "  precision@10: 0.037218543\n",
      "  recall@10: 0.037220383\n",
      "  ndcg@10: 0.039021459\n",
      "  map@10: 0.014134468\n",
      "Epoch 14, Step 20, LR: 0.000801, Current Loss: 0.9918, Avg Loss: 0.9995\n",
      "Diff stats — min: -5.8224, max: 10.0000, mean: 2.3934, std: 2.1992\n",
      "\n",
      "Epoch 14, Step 40, LR: 0.000801, Current Loss: 1.0019, Avg Loss: 1.0002\n",
      "Diff stats — min: -5.9095, max: 10.0000, mean: 2.4622, std: 2.3059\n",
      "\n"
     ]
    },
    {
     "name": "stderr",
     "output_type": "stream",
     "text": [
      "/usr/local/lib/python3.11/dist-packages/pandas/core/computation/expressions.py:73: RuntimeWarning: invalid value encountered in less_equal\n",
      "  return op(a, b)\n",
      "/usr/local/lib/python3.11/dist-packages/pandas/core/arraylike.py:399: RuntimeWarning: invalid value encountered in log\n",
      "  result = getattr(ufunc, method)(*inputs, **kwargs)\n"
     ]
    },
    {
     "name": "stdout",
     "output_type": "stream",
     "text": [
      "Step 1765 — Test metrics:\n",
      "  precision@10: 0.037466887\n",
      "  recall@10: 0.037468727\n",
      "  ndcg@10: 0.039014651\n",
      "  map@10: 0.013897352\n",
      "Epoch 14, Step 60, LR: 0.000801, Current Loss: 0.9986, Avg Loss: 1.0004\n",
      "Diff stats — min: -5.3822, max: 10.0000, mean: 2.4700, std: 2.2936\n",
      "\n",
      "Epoch 14, Step 80, LR: 0.000801, Current Loss: 0.9912, Avg Loss: 1.0001\n",
      "Diff stats — min: -5.1152, max: 10.0000, mean: 2.4875, std: 2.2787\n",
      "\n",
      "Epoch 14, Step 100, LR: 0.000785, Current Loss: 0.9990, Avg Loss: 1.0004\n",
      "Diff stats — min: -4.8993, max: 10.0000, mean: 2.4890, std: 2.3343\n",
      "\n"
     ]
    },
    {
     "name": "stderr",
     "output_type": "stream",
     "text": [
      "/usr/local/lib/python3.11/dist-packages/pandas/core/computation/expressions.py:73: RuntimeWarning: invalid value encountered in less_equal\n",
      "  return op(a, b)\n",
      "/usr/local/lib/python3.11/dist-packages/pandas/core/arraylike.py:399: RuntimeWarning: invalid value encountered in log\n",
      "  result = getattr(ufunc, method)(*inputs, **kwargs)\n"
     ]
    },
    {
     "name": "stdout",
     "output_type": "stream",
     "text": [
      "Step 1815 — Test metrics:\n",
      "  precision@10: 0.037566225\n",
      "  recall@10: 0.037571744\n",
      "  ndcg@10: 0.039885460\n",
      "  map@10: 0.014281819\n",
      "Epoch 14, Step 120, LR: 0.000785, Current Loss: 0.9943, Avg Loss: 1.0000\n",
      "Diff stats — min: -4.8892, max: 10.0000, mean: 2.5075, std: 2.3133\n",
      "\n",
      "Epoch 14 completed, Train Loss: 0.000245\n",
      "\n",
      "Epoch 15, Step 1, LR: 0.000785, Current Loss: 0.9824, Avg Loss: 0.9824\n",
      "Diff stats — min: -6.0808, max: 10.0000, mean: 2.4562, std: 2.2165\n",
      "\n"
     ]
    },
    {
     "name": "stderr",
     "output_type": "stream",
     "text": [
      "/usr/local/lib/python3.11/dist-packages/pandas/core/computation/expressions.py:73: RuntimeWarning: invalid value encountered in less_equal\n",
      "  return op(a, b)\n",
      "/usr/local/lib/python3.11/dist-packages/pandas/core/arraylike.py:399: RuntimeWarning: invalid value encountered in log\n",
      "  result = getattr(ufunc, method)(*inputs, **kwargs)\n"
     ]
    },
    {
     "name": "stdout",
     "output_type": "stream",
     "text": [
      "Step 1848 — Test metrics:\n",
      "  precision@10: 0.037433775\n",
      "  recall@10: 0.037437454\n",
      "  ndcg@10: 0.039495641\n",
      "  map@10: 0.014283432\n",
      "Epoch 15, Step 20, LR: 0.000785, Current Loss: 1.0222, Avg Loss: 0.9947\n",
      "Diff stats — min: -5.2465, max: 10.0000, mean: 2.4582, std: 2.3810\n",
      "\n",
      "Epoch 15, Step 40, LR: 0.000785, Current Loss: 0.9965, Avg Loss: 0.9953\n",
      "Diff stats — min: -5.3143, max: 10.0000, mean: 2.4871, std: 2.2979\n",
      "\n"
     ]
    },
    {
     "name": "stderr",
     "output_type": "stream",
     "text": [
      "/usr/local/lib/python3.11/dist-packages/pandas/core/computation/expressions.py:73: RuntimeWarning: invalid value encountered in less_equal\n",
      "  return op(a, b)\n",
      "/usr/local/lib/python3.11/dist-packages/pandas/core/arraylike.py:399: RuntimeWarning: invalid value encountered in log\n",
      "  result = getattr(ufunc, method)(*inputs, **kwargs)\n"
     ]
    },
    {
     "name": "stdout",
     "output_type": "stream",
     "text": [
      "Step 1897 — Test metrics:\n",
      "  precision@10: 0.036390728\n",
      "  recall@10: 0.036392568\n",
      "  ndcg@10: 0.037875520\n",
      "  map@10: 0.013573954\n",
      "Epoch 15, Step 60, LR: 0.000785, Current Loss: 0.9834, Avg Loss: 0.9968\n",
      "Diff stats — min: -5.6163, max: 9.7689, mean: 2.5389, std: 2.3046\n",
      "\n",
      "Epoch 15, Step 80, LR: 0.000785, Current Loss: 0.9999, Avg Loss: 0.9977\n",
      "Diff stats — min: -4.5668, max: 10.0000, mean: 2.4603, std: 2.3139\n",
      "\n",
      "Epoch 15, Step 100, LR: 0.000785, Current Loss: 1.0024, Avg Loss: 0.9985\n",
      "Diff stats — min: -5.3764, max: 10.0000, mean: 2.4702, std: 2.3139\n",
      "\n"
     ]
    },
    {
     "name": "stderr",
     "output_type": "stream",
     "text": [
      "/usr/local/lib/python3.11/dist-packages/pandas/core/computation/expressions.py:73: RuntimeWarning: invalid value encountered in less_equal\n",
      "  return op(a, b)\n",
      "/usr/local/lib/python3.11/dist-packages/pandas/core/arraylike.py:399: RuntimeWarning: invalid value encountered in log\n",
      "  result = getattr(ufunc, method)(*inputs, **kwargs)\n"
     ]
    },
    {
     "name": "stdout",
     "output_type": "stream",
     "text": [
      "Step 1947 — Test metrics:\n",
      "  precision@10: 0.037185430\n",
      "  recall@10: 0.037189110\n",
      "  ndcg@10: 0.039019590\n",
      "  map@10: 0.014096421\n",
      "Epoch 15, Step 120, LR: 0.000769, Current Loss: 1.0088, Avg Loss: 0.9988\n",
      "Diff stats — min: -5.3784, max: 10.0000, mean: 2.4580, std: 2.3310\n",
      "\n",
      "Epoch 15 completed, Train Loss: 0.000244\n",
      "\n",
      "Epoch 16, Step 1, LR: 0.000769, Current Loss: 0.9900, Avg Loss: 0.9900\n",
      "Diff stats — min: -5.4003, max: 10.0000, mean: 2.5134, std: 2.2657\n",
      "\n"
     ]
    },
    {
     "name": "stderr",
     "output_type": "stream",
     "text": [
      "/usr/local/lib/python3.11/dist-packages/pandas/core/computation/expressions.py:73: RuntimeWarning: invalid value encountered in less_equal\n",
      "  return op(a, b)\n",
      "/usr/local/lib/python3.11/dist-packages/pandas/core/arraylike.py:399: RuntimeWarning: invalid value encountered in log\n",
      "  result = getattr(ufunc, method)(*inputs, **kwargs)\n"
     ]
    },
    {
     "name": "stdout",
     "output_type": "stream",
     "text": [
      "Step 1980 — Test metrics:\n",
      "  precision@10: 0.037930464\n",
      "  recall@10: 0.037932303\n",
      "  ndcg@10: 0.039904580\n",
      "  map@10: 0.014497096\n",
      "Epoch 16, Step 20, LR: 0.000769, Current Loss: 0.9903, Avg Loss: 0.9955\n",
      "Diff stats — min: -5.4373, max: 10.0000, mean: 2.4874, std: 2.2990\n",
      "\n",
      "Epoch 16, Step 40, LR: 0.000769, Current Loss: 0.9933, Avg Loss: 0.9962\n",
      "Diff stats — min: -5.9519, max: 10.0000, mean: 2.4864, std: 2.2857\n",
      "\n"
     ]
    },
    {
     "name": "stderr",
     "output_type": "stream",
     "text": [
      "/usr/local/lib/python3.11/dist-packages/pandas/core/computation/expressions.py:73: RuntimeWarning: invalid value encountered in less_equal\n",
      "  return op(a, b)\n",
      "/usr/local/lib/python3.11/dist-packages/pandas/core/arraylike.py:399: RuntimeWarning: invalid value encountered in log\n",
      "  result = getattr(ufunc, method)(*inputs, **kwargs)\n"
     ]
    },
    {
     "name": "stdout",
     "output_type": "stream",
     "text": [
      "Step 2029 — Test metrics:\n",
      "  precision@10: 0.036589404\n",
      "  recall@10: 0.036593083\n",
      "  ndcg@10: 0.038498056\n",
      "  map@10: 0.013945916\n",
      "Epoch 16, Step 60, LR: 0.000769, Current Loss: 0.9872, Avg Loss: 0.9977\n",
      "Diff stats — min: -4.6159, max: 10.0000, mean: 2.5421, std: 2.3143\n",
      "\n",
      "Epoch 16, Step 80, LR: 0.000769, Current Loss: 1.0032, Avg Loss: 0.9976\n",
      "Diff stats — min: -5.0670, max: 10.0000, mean: 2.4386, std: 2.3033\n",
      "\n",
      "Epoch 16, Step 100, LR: 0.000769, Current Loss: 0.9909, Avg Loss: 0.9975\n",
      "Diff stats — min: -5.7934, max: 10.0000, mean: 2.5537, std: 2.3348\n",
      "\n"
     ]
    },
    {
     "name": "stderr",
     "output_type": "stream",
     "text": [
      "/usr/local/lib/python3.11/dist-packages/pandas/core/computation/expressions.py:73: RuntimeWarning: invalid value encountered in less_equal\n",
      "  return op(a, b)\n",
      "/usr/local/lib/python3.11/dist-packages/pandas/core/arraylike.py:399: RuntimeWarning: invalid value encountered in log\n",
      "  result = getattr(ufunc, method)(*inputs, **kwargs)\n"
     ]
    },
    {
     "name": "stdout",
     "output_type": "stream",
     "text": [
      "Step 2079 — Test metrics:\n",
      "  precision@10: 0.038278146\n",
      "  recall@10: 0.038281825\n",
      "  ndcg@10: 0.039848372\n",
      "  map@10: 0.014126853\n",
      "Epoch 16, Step 120, LR: 0.000769, Current Loss: 1.0312, Avg Loss: 0.9973\n",
      "Diff stats — min: -5.7291, max: 10.0000, mean: 2.4474, std: 2.4164\n",
      "\n",
      "Epoch 16 completed, Train Loss: 0.000244\n",
      "\n",
      "Epoch 17, Step 1, LR: 0.000754, Current Loss: 1.0009, Avg Loss: 1.0009\n",
      "Diff stats — min: -5.8035, max: 10.0000, mean: 2.5076, std: 2.3384\n",
      "\n"
     ]
    },
    {
     "name": "stderr",
     "output_type": "stream",
     "text": [
      "/usr/local/lib/python3.11/dist-packages/pandas/core/computation/expressions.py:73: RuntimeWarning: invalid value encountered in less_equal\n",
      "  return op(a, b)\n",
      "/usr/local/lib/python3.11/dist-packages/pandas/core/arraylike.py:399: RuntimeWarning: invalid value encountered in log\n",
      "  result = getattr(ufunc, method)(*inputs, **kwargs)\n"
     ]
    },
    {
     "name": "stdout",
     "output_type": "stream",
     "text": [
      "Step 2112 — Test metrics:\n",
      "  precision@10: 0.037947020\n",
      "  recall@10: 0.037948859\n",
      "  ndcg@10: 0.039766770\n",
      "  map@10: 0.014279592\n",
      "Epoch 17, Step 20, LR: 0.000754, Current Loss: 1.0045, Avg Loss: 0.9956\n",
      "Diff stats — min: -5.9308, max: 10.0000, mean: 2.5363, std: 2.3640\n",
      "\n",
      "Epoch 17, Step 40, LR: 0.000754, Current Loss: 0.9949, Avg Loss: 0.9964\n",
      "Diff stats — min: -5.2113, max: 10.0000, mean: 2.4669, std: 2.3023\n",
      "\n"
     ]
    },
    {
     "name": "stderr",
     "output_type": "stream",
     "text": [
      "/usr/local/lib/python3.11/dist-packages/pandas/core/computation/expressions.py:73: RuntimeWarning: invalid value encountered in less_equal\n",
      "  return op(a, b)\n",
      "/usr/local/lib/python3.11/dist-packages/pandas/core/arraylike.py:399: RuntimeWarning: invalid value encountered in log\n",
      "  result = getattr(ufunc, method)(*inputs, **kwargs)\n"
     ]
    },
    {
     "name": "stdout",
     "output_type": "stream",
     "text": [
      "Step 2161 — Test metrics:\n",
      "  precision@10: 0.037649007\n",
      "  recall@10: 0.037650846\n",
      "  ndcg@10: 0.039522871\n",
      "  map@10: 0.014074549\n",
      "Epoch 17, Step 60, LR: 0.000754, Current Loss: 0.9908, Avg Loss: 0.9959\n",
      "Diff stats — min: -5.4441, max: 10.0000, mean: 2.5015, std: 2.3177\n",
      "\n",
      "Epoch 17, Step 80, LR: 0.000754, Current Loss: 1.0113, Avg Loss: 0.9968\n",
      "Diff stats — min: -5.6948, max: 9.8960, mean: 2.4784, std: 2.3548\n",
      "\n",
      "Epoch 17, Step 100, LR: 0.000754, Current Loss: 0.9922, Avg Loss: 0.9963\n",
      "Diff stats — min: -5.9488, max: 10.0000, mean: 2.5482, std: 2.3664\n",
      "\n"
     ]
    },
    {
     "name": "stderr",
     "output_type": "stream",
     "text": [
      "/usr/local/lib/python3.11/dist-packages/pandas/core/computation/expressions.py:73: RuntimeWarning: invalid value encountered in less_equal\n",
      "  return op(a, b)\n",
      "/usr/local/lib/python3.11/dist-packages/pandas/core/arraylike.py:399: RuntimeWarning: invalid value encountered in log\n",
      "  result = getattr(ufunc, method)(*inputs, **kwargs)\n"
     ]
    },
    {
     "name": "stdout",
     "output_type": "stream",
     "text": [
      "Step 2211 — Test metrics:\n",
      "  precision@10: 0.036374172\n",
      "  recall@10: 0.036377851\n",
      "  ndcg@10: 0.038058967\n",
      "  map@10: 0.013417302\n",
      "Epoch 17, Step 120, LR: 0.000754, Current Loss: 0.9943, Avg Loss: 0.9965\n",
      "Diff stats — min: -6.0020, max: 10.0000, mean: 2.5213, std: 2.3646\n",
      "\n",
      "Epoch 17 completed, Train Loss: 0.000244\n",
      "\n",
      "Epoch 18, Step 1, LR: 0.000754, Current Loss: 0.9839, Avg Loss: 0.9839\n",
      "Diff stats — min: -4.7451, max: 10.0000, mean: 2.5753, std: 2.3485\n",
      "\n"
     ]
    },
    {
     "name": "stderr",
     "output_type": "stream",
     "text": [
      "/usr/local/lib/python3.11/dist-packages/pandas/core/computation/expressions.py:73: RuntimeWarning: invalid value encountered in less_equal\n",
      "  return op(a, b)\n",
      "/usr/local/lib/python3.11/dist-packages/pandas/core/arraylike.py:399: RuntimeWarning: invalid value encountered in log\n",
      "  result = getattr(ufunc, method)(*inputs, **kwargs)\n"
     ]
    },
    {
     "name": "stdout",
     "output_type": "stream",
     "text": [
      "Step 2244 — Test metrics:\n",
      "  precision@10: 0.036970199\n",
      "  recall@10: 0.036975717\n",
      "  ndcg@10: 0.038754206\n",
      "  map@10: 0.013699939\n",
      "Epoch 18, Step 20, LR: 0.000739, Current Loss: 0.9857, Avg Loss: 0.9912\n",
      "Diff stats — min: -5.0130, max: 10.0000, mean: 2.5254, std: 2.3237\n",
      "\n",
      "Epoch 18, Step 40, LR: 0.000739, Current Loss: 1.0009, Avg Loss: 0.9936\n",
      "Diff stats — min: -5.7702, max: 10.0000, mean: 2.5070, std: 2.3552\n",
      "\n"
     ]
    },
    {
     "name": "stderr",
     "output_type": "stream",
     "text": [
      "/usr/local/lib/python3.11/dist-packages/pandas/core/computation/expressions.py:73: RuntimeWarning: invalid value encountered in less_equal\n",
      "  return op(a, b)\n",
      "/usr/local/lib/python3.11/dist-packages/pandas/core/arraylike.py:399: RuntimeWarning: invalid value encountered in log\n",
      "  result = getattr(ufunc, method)(*inputs, **kwargs)\n"
     ]
    },
    {
     "name": "stdout",
     "output_type": "stream",
     "text": [
      "Step 2293 — Test metrics:\n",
      "  precision@10: 0.036241722\n",
      "  recall@10: 0.036247241\n",
      "  ndcg@10: 0.037968058\n",
      "  map@10: 0.013587435\n",
      "Epoch 18, Step 60, LR: 0.000739, Current Loss: 0.9809, Avg Loss: 0.9941\n",
      "Diff stats — min: -6.1518, max: 10.0000, mean: 2.5627, std: 2.3240\n",
      "\n",
      "Epoch 18, Step 80, LR: 0.000739, Current Loss: 0.9873, Avg Loss: 0.9937\n",
      "Diff stats — min: -5.1348, max: 10.0000, mean: 2.5867, std: 2.3757\n",
      "\n",
      "Epoch 18, Step 100, LR: 0.000739, Current Loss: 0.9831, Avg Loss: 0.9943\n",
      "Diff stats — min: -5.2738, max: 10.0000, mean: 2.6197, std: 2.3843\n",
      "\n"
     ]
    },
    {
     "name": "stderr",
     "output_type": "stream",
     "text": [
      "/usr/local/lib/python3.11/dist-packages/pandas/core/computation/expressions.py:73: RuntimeWarning: invalid value encountered in less_equal\n",
      "  return op(a, b)\n",
      "/usr/local/lib/python3.11/dist-packages/pandas/core/arraylike.py:399: RuntimeWarning: invalid value encountered in log\n",
      "  result = getattr(ufunc, method)(*inputs, **kwargs)\n"
     ]
    },
    {
     "name": "stdout",
     "output_type": "stream",
     "text": [
      "Step 2343 — Test metrics:\n",
      "  precision@10: 0.035662252\n",
      "  recall@10: 0.035664091\n",
      "  ndcg@10: 0.036898308\n",
      "  map@10: 0.013002289\n",
      "Epoch 18, Step 120, LR: 0.000739, Current Loss: 0.9990, Avg Loss: 0.9946\n",
      "Diff stats — min: -5.1535, max: 10.0000, mean: 2.5352, std: 2.3695\n",
      "\n",
      "Epoch 18 completed, Train Loss: 0.000243\n",
      "\n",
      "Epoch 19, Step 1, LR: 0.000739, Current Loss: 0.9961, Avg Loss: 0.9961\n",
      "Diff stats — min: -4.6430, max: 10.0000, mean: 2.5397, std: 2.3648\n",
      "\n"
     ]
    },
    {
     "name": "stderr",
     "output_type": "stream",
     "text": [
      "/usr/local/lib/python3.11/dist-packages/pandas/core/computation/expressions.py:73: RuntimeWarning: invalid value encountered in less_equal\n",
      "  return op(a, b)\n",
      "/usr/local/lib/python3.11/dist-packages/pandas/core/arraylike.py:399: RuntimeWarning: invalid value encountered in log\n",
      "  result = getattr(ufunc, method)(*inputs, **kwargs)\n"
     ]
    },
    {
     "name": "stdout",
     "output_type": "stream",
     "text": [
      "Step 2376 — Test metrics:\n",
      "  precision@10: 0.036837748\n",
      "  recall@10: 0.036841428\n",
      "  ndcg@10: 0.039100141\n",
      "  map@10: 0.014150579\n",
      "Epoch 19, Step 20, LR: 0.000739, Current Loss: 0.9865, Avg Loss: 0.9926\n",
      "Diff stats — min: -5.5714, max: 10.0000, mean: 2.5404, std: 2.3221\n",
      "\n",
      "Epoch 19, Step 40, LR: 0.000724, Current Loss: 0.9940, Avg Loss: 0.9939\n",
      "Diff stats — min: -4.7419, max: 10.0000, mean: 2.5366, std: 2.3538\n",
      "\n"
     ]
    },
    {
     "name": "stderr",
     "output_type": "stream",
     "text": [
      "/usr/local/lib/python3.11/dist-packages/pandas/core/computation/expressions.py:73: RuntimeWarning: invalid value encountered in less_equal\n",
      "  return op(a, b)\n",
      "/usr/local/lib/python3.11/dist-packages/pandas/core/arraylike.py:399: RuntimeWarning: invalid value encountered in log\n",
      "  result = getattr(ufunc, method)(*inputs, **kwargs)\n"
     ]
    },
    {
     "name": "stdout",
     "output_type": "stream",
     "text": [
      "Step 2425 — Test metrics:\n",
      "  precision@10: 0.037268212\n",
      "  recall@10: 0.037271891\n",
      "  ndcg@10: 0.039017805\n",
      "  map@10: 0.013829618\n",
      "Epoch 19, Step 60, LR: 0.000724, Current Loss: 1.0065, Avg Loss: 0.9936\n",
      "Diff stats — min: -5.6945, max: 10.0000, mean: 2.4856, std: 2.3819\n",
      "\n"
     ]
    },
    {
     "ename": "KeyboardInterrupt",
     "evalue": "",
     "output_type": "error",
     "traceback": [
      "\u001b[0;31m---------------------------------------------------------------------------\u001b[0m",
      "\u001b[0;31mKeyboardInterrupt\u001b[0m                         Traceback (most recent call last)",
      "\u001b[0;32m/tmp/ipykernel_35/622032216.py\u001b[0m in \u001b[0;36m<cell line: 0>\u001b[0;34m()\u001b[0m\n\u001b[1;32m     24\u001b[0m \u001b[0mtrain_lambda_ce\u001b[0m \u001b[0;34m=\u001b[0m \u001b[0mhyperparameters\u001b[0m\u001b[0;34m[\u001b[0m\u001b[0;34m'train_lambda_ce'\u001b[0m\u001b[0;34m]\u001b[0m\u001b[0;34m\u001b[0m\u001b[0;34m\u001b[0m\u001b[0m\n\u001b[1;32m     25\u001b[0m \u001b[0;34m\u001b[0m\u001b[0m\n\u001b[0;32m---> 26\u001b[0;31m model = train_model(model,\n\u001b[0m\u001b[1;32m     27\u001b[0m                     \u001b[0mdata\u001b[0m\u001b[0;34m,\u001b[0m\u001b[0;34m\u001b[0m\u001b[0;34m\u001b[0m\u001b[0m\n\u001b[1;32m     28\u001b[0m                     \u001b[0;34m(\u001b[0m\u001b[0mseq_ids\u001b[0m\u001b[0;34m,\u001b[0m \u001b[0mevent_type\u001b[0m\u001b[0;34m,\u001b[0m \u001b[0mseq_times\u001b[0m\u001b[0;34m,\u001b[0m \u001b[0mseq_mask\u001b[0m\u001b[0;34m)\u001b[0m\u001b[0;34m,\u001b[0m\u001b[0;34m\u001b[0m\u001b[0;34m\u001b[0m\u001b[0m\n",
      "\u001b[0;32m/tmp/ipykernel_35/1552439942.py\u001b[0m in \u001b[0;36mtrain_model\u001b[0;34m(model, train_data, seq_train_data, edge_type, num_epochs, lr, batch_size, device, print_every, test_every, top_k, test_batch_size, scheduler_step_size, scheduler_gamma)\u001b[0m\n\u001b[1;32m     89\u001b[0m             \u001b[0moptimizer\u001b[0m\u001b[0;34m.\u001b[0m\u001b[0mstep\u001b[0m\u001b[0;34m(\u001b[0m\u001b[0;34m)\u001b[0m\u001b[0;34m\u001b[0m\u001b[0;34m\u001b[0m\u001b[0m\n\u001b[1;32m     90\u001b[0m \u001b[0;34m\u001b[0m\u001b[0m\n\u001b[0;32m---> 91\u001b[0;31m             \u001b[0mtotal_loss\u001b[0m \u001b[0;34m+=\u001b[0m \u001b[0mloss\u001b[0m\u001b[0;34m.\u001b[0m\u001b[0mitem\u001b[0m\u001b[0;34m(\u001b[0m\u001b[0;34m)\u001b[0m\u001b[0;34m\u001b[0m\u001b[0;34m\u001b[0m\u001b[0m\n\u001b[0m\u001b[1;32m     92\u001b[0m             \u001b[0mrunning_loss\u001b[0m \u001b[0;34m+=\u001b[0m \u001b[0mloss\u001b[0m\u001b[0;34m.\u001b[0m\u001b[0mitem\u001b[0m\u001b[0;34m(\u001b[0m\u001b[0;34m)\u001b[0m\u001b[0;34m\u001b[0m\u001b[0;34m\u001b[0m\u001b[0m\n\u001b[1;32m     93\u001b[0m             \u001b[0mrunning_steps\u001b[0m \u001b[0;34m+=\u001b[0m \u001b[0;36m1\u001b[0m\u001b[0;34m\u001b[0m\u001b[0;34m\u001b[0m\u001b[0m\n",
      "\u001b[0;31mKeyboardInterrupt\u001b[0m: "
     ]
    }
   ],
   "source": [
    "model = Model(\n",
    "    num_users=num_users,\n",
    "    num_items=num_items,\n",
    "    feedback_types=feedback_types,\n",
    "    d_model=d_model,\n",
    "    n_head=n_head,\n",
    "    window_size=window_size,\n",
    "    decay=decay,\n",
    "    dropout=dropout\n",
    ")\n",
    "\n",
    "edge_type = hyperparameters['train_edge_type']\n",
    "num_epochs = hyperparameters['train_num_epochs']\n",
    "lr = hyperparameters['train_lr']\n",
    "batch_size = hyperparameters['train_batch_size']\n",
    "print_every = hyperparameters['train_print_every']\n",
    "test_every = hyperparameters['train_test_every']\n",
    "top_k = hyperparameters['test_topk']\n",
    "test_batch_size = hyperparameters['test_batch_size']\n",
    "scheduler_step_size = hyperparameters['train_scheduler_step_size']\n",
    "train_scheduler_gamma = hyperparameters['train_scheduler_gamma']\n",
    "train_margin = hyperparameters['train_margin']\n",
    "train_lambda_margin = hyperparameters['train_lambda_margin']\n",
    "train_lambda_ce = hyperparameters['train_lambda_ce']\n",
    "\n",
    "model = train_model(model,\n",
    "                    data,\n",
    "                    (seq_ids, event_type, seq_times, seq_mask),\n",
    "                    edge_type=edge_type,\n",
    "                    num_epochs=num_epochs,\n",
    "                    lr=lr,\n",
    "                    batch_size=batch_size,\n",
    "                    print_every=print_every,\n",
    "                    test_every=test_every,\n",
    "                    top_k=top_k,\n",
    "                    test_batch_size=test_batch_size,\n",
    "                    scheduler_step_size=scheduler_step_size,\n",
    "                    scheduler_gamma=train_scheduler_gamma)"
   ]
  },
  {
   "cell_type": "code",
   "execution_count": 46,
   "metadata": {
    "execution": {
     "iopub.execute_input": "2025-06-25T02:37:51.558470Z",
     "iopub.status.busy": "2025-06-25T02:37:51.558206Z",
     "iopub.status.idle": "2025-06-25T02:37:51.599635Z",
     "shell.execute_reply": "2025-06-25T02:37:51.598880Z",
     "shell.execute_reply.started": "2025-06-25T02:37:51.558451Z"
    },
    "trusted": true
   },
   "outputs": [
    {
     "data": {
      "text/html": [
       "<a href='gnn_model_mvl.model' target='_blank'>gnn_model_mvl.model</a><br>"
      ],
      "text/plain": [
       "/kaggle/working/gnn_model_mvl.model"
      ]
     },
     "execution_count": 46,
     "metadata": {},
     "output_type": "execute_result"
    }
   ],
   "source": [
    "torch.save(model, \"gnn_model_mvl.model\")\n",
    "from IPython.display import FileLink\n",
    "\n",
    "FileLink('gnn_model_mvl.model')"
   ]
  },
  {
   "cell_type": "code",
   "execution_count": 47,
   "metadata": {
    "execution": {
     "iopub.execute_input": "2025-06-25T02:37:52.037326Z",
     "iopub.status.busy": "2025-06-25T02:37:52.036504Z",
     "iopub.status.idle": "2025-06-25T02:37:52.530582Z",
     "shell.execute_reply": "2025-06-25T02:37:52.529767Z",
     "shell.execute_reply.started": "2025-06-25T02:37:52.037299Z"
    },
    "trusted": true
   },
   "outputs": [],
   "source": [
    "# del model\n",
    "gc.collect()\n",
    "torch.cuda.empty_cache()"
   ]
  },
  {
   "cell_type": "code",
   "execution_count": 48,
   "metadata": {
    "execution": {
     "iopub.execute_input": "2025-06-25T02:37:53.429847Z",
     "iopub.status.busy": "2025-06-25T02:37:53.429176Z",
     "iopub.status.idle": "2025-06-25T02:37:53.712564Z",
     "shell.execute_reply": "2025-06-25T02:37:53.711998Z",
     "shell.execute_reply.started": "2025-06-25T02:37:53.429824Z"
    },
    "trusted": true
   },
   "outputs": [],
   "source": [
    "log_model(\n",
    "    experiment=experiment,\n",
    "    model=model,\n",
    "    model_name=\"GNN+THP\",\n",
    ")"
   ]
  },
  {
   "cell_type": "code",
   "execution_count": 49,
   "metadata": {
    "execution": {
     "iopub.execute_input": "2025-06-25T02:37:53.797373Z",
     "iopub.status.busy": "2025-06-25T02:37:53.797093Z",
     "iopub.status.idle": "2025-06-25T02:37:55.743781Z",
     "shell.execute_reply": "2025-06-25T02:37:55.743233Z",
     "shell.execute_reply.started": "2025-06-25T02:37:53.797352Z"
    },
    "trusted": true
   },
   "outputs": [
    {
     "name": "stderr",
     "output_type": "stream",
     "text": [
      "\u001b[1;38;5;39mCOMET INFO:\u001b[0m ---------------------------------------------------------------------------------------\n",
      "\u001b[1;38;5;39mCOMET INFO:\u001b[0m Comet.ml Experiment Summary\n",
      "\u001b[1;38;5;39mCOMET INFO:\u001b[0m ---------------------------------------------------------------------------------------\n",
      "\u001b[1;38;5;39mCOMET INFO:\u001b[0m   Data:\n",
      "\u001b[1;38;5;39mCOMET INFO:\u001b[0m     display_summary_level : 1\n",
      "\u001b[1;38;5;39mCOMET INFO:\u001b[0m     name                  : diffGAT-THP+extra_task-movielens\n",
      "\u001b[1;38;5;39mCOMET INFO:\u001b[0m     url                   : https://www.comet.com/annanet/gnn-recommender/2969d76463bd4bb0bb0925148c2c83fe\n",
      "\u001b[1;38;5;39mCOMET INFO:\u001b[0m   Metrics [count] (min, max):\n",
      "\u001b[1;38;5;39mCOMET INFO:\u001b[0m     Diff stats (mean) vs step [130] : (0.1618618220090866, 2.6197152137756348)\n",
      "\u001b[1;38;5;39mCOMET INFO:\u001b[0m     Diff stats (std) vs step [130]  : (2.120757579803467, 8.10866641998291)\n",
      "\u001b[1;38;5;39mCOMET INFO:\u001b[0m     Test map@10 vs step [56]        : (0.000651601755492484, 0.015282896504198932)\n",
      "\u001b[1;38;5;39mCOMET INFO:\u001b[0m     Test ndcg@10 vs step [56]       : (0.0021686737204162586, 0.04177258046918449)\n",
      "\u001b[1;38;5;39mCOMET INFO:\u001b[0m     Test precision@10 vs step [56]  : (0.002119205298013245, 0.04)\n",
      "\u001b[1;38;5;39mCOMET INFO:\u001b[0m     Test recall@10 vs step [56]     : (0.002119205298013245, 0.04000551876379691)\n",
      "\u001b[1;38;5;39mCOMET INFO:\u001b[0m     Train BPR Loss vs step [2439]   : (0.28525054454803467, 3.666475772857666)\n",
      "\u001b[1;38;5;39mCOMET INFO:\u001b[0m     Train CE Loss vs step [2439]    : (0.6738397479057312, 0.6901882886886597)\n",
      "\u001b[1;38;5;39mCOMET INFO:\u001b[0m     Train Loss vs epoch [18]        : (0.0002433468522904649, 0.0006577743033734324)\n",
      "\u001b[1;38;5;39mCOMET INFO:\u001b[0m     Train Loss vs step [2439]       : (0.9681652188301086, 4.348821640014648)\n",
      "\u001b[1;38;5;39mCOMET INFO:\u001b[0m     loss [244]                      : (0.9768056869506836, 4.348821640014648)\n",
      "\u001b[1;38;5;39mCOMET INFO:\u001b[0m   Others:\n",
      "\u001b[1;38;5;39mCOMET INFO:\u001b[0m     Name : diffGAT-THP+extra_task-movielens\n",
      "\u001b[1;38;5;39mCOMET INFO:\u001b[0m   Parameters:\n",
      "\u001b[1;38;5;39mCOMET INFO:\u001b[0m     cls_id                    : 3701\n",
      "\u001b[1;38;5;39mCOMET INFO:\u001b[0m     max_len_of_thp_history    : 100\n",
      "\u001b[1;38;5;39mCOMET INFO:\u001b[0m     pad_id                    : 0\n",
      "\u001b[1;38;5;39mCOMET INFO:\u001b[0m     seed                      : 42\n",
      "\u001b[1;38;5;39mCOMET INFO:\u001b[0m     test_batch_size           : 8192\n",
      "\u001b[1;38;5;39mCOMET INFO:\u001b[0m     test_topk                 : 10\n",
      "\u001b[1;38;5;39mCOMET INFO:\u001b[0m     thp_decay                 : 1.0\n",
      "\u001b[1;38;5;39mCOMET INFO:\u001b[0m     thp_dmodel                : 64\n",
      "\u001b[1;38;5;39mCOMET INFO:\u001b[0m     thp_dropout               : 0.2\n",
      "\u001b[1;38;5;39mCOMET INFO:\u001b[0m     thp_n_head                : 4\n",
      "\u001b[1;38;5;39mCOMET INFO:\u001b[0m     thp_window_size           : 101\n",
      "\u001b[1;38;5;39mCOMET INFO:\u001b[0m     train_batch_size          : 4096\n",
      "\u001b[1;38;5;39mCOMET INFO:\u001b[0m     train_edge_type           : [('item', 'item2explicit_positive', 'explicit_positive'), ('item', 'item2implicit_positive', 'implicit_positive')]\n",
      "\u001b[1;38;5;39mCOMET INFO:\u001b[0m     train_lambda_ce           : 0.7\n",
      "\u001b[1;38;5;39mCOMET INFO:\u001b[0m     train_lambda_margin       : 0.1\n",
      "\u001b[1;38;5;39mCOMET INFO:\u001b[0m     train_lr                  : 0.001\n",
      "\u001b[1;38;5;39mCOMET INFO:\u001b[0m     train_margin              : 1.0\n",
      "\u001b[1;38;5;39mCOMET INFO:\u001b[0m     train_num_epochs          : 5000\n",
      "\u001b[1;38;5;39mCOMET INFO:\u001b[0m     train_print_every         : 20\n",
      "\u001b[1;38;5;39mCOMET INFO:\u001b[0m     train_scheduler_gamma     : 0.98\n",
      "\u001b[1;38;5;39mCOMET INFO:\u001b[0m     train_scheduler_step_size : 150\n",
      "\u001b[1;38;5;39mCOMET INFO:\u001b[0m     train_test_every          : 50\n",
      "\u001b[1;38;5;39mCOMET INFO:\u001b[0m     types_of_feedback         : ['explicit_positive', 'expliсit_negative', 'implicit_positive', 'implicit_negative']\n",
      "\u001b[1;38;5;39mCOMET INFO:\u001b[0m   Uploads:\n",
      "\u001b[1;38;5;39mCOMET INFO:\u001b[0m     environment details : 1\n",
      "\u001b[1;38;5;39mCOMET INFO:\u001b[0m     filename            : 1\n",
      "\u001b[1;38;5;39mCOMET INFO:\u001b[0m     installed packages  : 1\n",
      "\u001b[1;38;5;39mCOMET INFO:\u001b[0m     model graph         : 1\n",
      "\u001b[1;38;5;39mCOMET INFO:\u001b[0m     model-element       : 2 (8.95 MB)\n",
      "\u001b[1;38;5;39mCOMET INFO:\u001b[0m     notebook            : 1\n",
      "\u001b[1;38;5;39mCOMET INFO:\u001b[0m     os packages         : 1\n",
      "\u001b[1;38;5;39mCOMET INFO:\u001b[0m     source_code         : 1\n",
      "\u001b[1;38;5;39mCOMET INFO:\u001b[0m \n"
     ]
    }
   ],
   "source": [
    "experiment.end()"
   ]
  },
  {
   "cell_type": "code",
   "execution_count": null,
   "metadata": {
    "trusted": true
   },
   "outputs": [],
   "source": []
  }
 ],
 "metadata": {
  "kaggle": {
   "accelerator": "gpu",
   "dataSources": [
    {
     "datasetId": 7705289,
     "sourceId": 12229447,
     "sourceType": "datasetVersion"
    },
    {
     "datasetId": 7302197,
     "sourceId": 11637841,
     "sourceType": "datasetVersion"
    }
   ],
   "dockerImageVersionId": 31041,
   "isGpuEnabled": true,
   "isInternetEnabled": true,
   "language": "python",
   "sourceType": "notebook"
  },
  "kernelspec": {
   "display_name": "Python 3",
   "language": "python",
   "name": "python3"
  },
  "language_info": {
   "codemirror_mode": {
    "name": "ipython",
    "version": 3
   },
   "file_extension": ".py",
   "mimetype": "text/x-python",
   "name": "python",
   "nbconvert_exporter": "python",
   "pygments_lexer": "ipython3",
   "version": "3.11.11"
  }
 },
 "nbformat": 4,
 "nbformat_minor": 4
}
